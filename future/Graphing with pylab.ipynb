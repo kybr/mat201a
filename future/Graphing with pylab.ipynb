{
 "metadata": {
  "name": ""
 },
 "nbformat": 3,
 "nbformat_minor": 0,
 "worksheets": [
  {
   "cells": [
    {
     "cell_type": "code",
     "collapsed": false,
     "input": [
      "%pylab inline"
     ],
     "language": "python",
     "metadata": {},
     "outputs": [],
     "prompt_number": null
    },
    {
     "cell_type": "code",
     "collapsed": false,
     "input": [
      "from __future__ import print_function\n",
      "from __future__ import division"
     ],
     "language": "python",
     "metadata": {},
     "outputs": [],
     "prompt_number": null
    },
    {
     "cell_type": "heading",
     "level": 1,
     "metadata": {},
     "source": [
      "Basic graphing"
     ]
    },
    {
     "cell_type": "code",
     "collapsed": false,
     "input": [
      "linspace(0, 2*pi, 10)"
     ],
     "language": "python",
     "metadata": {},
     "outputs": [],
     "prompt_number": null
    },
    {
     "cell_type": "code",
     "collapsed": false,
     "input": [
      "x = linspace(0, 2 * pi, 100)\n",
      "y = sin(x)\n",
      "plot(x,y);"
     ],
     "language": "python",
     "metadata": {},
     "outputs": [],
     "prompt_number": null
    },
    {
     "cell_type": "code",
     "collapsed": false,
     "input": [
      "x = linspace(0, 2 * pi, 100)\n",
      "y = sin(x)\n",
      "plot(x,y);\n",
      "grid()"
     ],
     "language": "python",
     "metadata": {},
     "outputs": [],
     "prompt_number": null
    },
    {
     "cell_type": "code",
     "collapsed": false,
     "input": [
      "x = linspace(0, 2 * pi, 100)\n",
      "y = sin(x)\n",
      "grid()\n",
      "xlabel('angle (rad)')\n",
      "ylabel('sin()')\n",
      "title('The Sine Function')\n",
      "plot(x,y);"
     ],
     "language": "python",
     "metadata": {},
     "outputs": [],
     "prompt_number": null
    },
    {
     "cell_type": "code",
     "collapsed": false,
     "input": [
      "x = linspace(0, 2 * pi, 100)\n",
      "y = sin(x)\n",
      "grid()\n",
      "xlabel('angle (rad)', fontsize=20)\n",
      "ylabel('sin()', fontsize=20)\n",
      "title('The Sine Function', fontsize=24)\n",
      "plot(x,y);"
     ],
     "language": "python",
     "metadata": {},
     "outputs": [],
     "prompt_number": null
    },
    {
     "cell_type": "code",
     "collapsed": false,
     "input": [
      "linspace(0, 2*pi, 5)\n",
      "#['0', '$\\pi/2$', '$\\pi$', '$3\\pi/2$', '$2\\pi$']"
     ],
     "language": "python",
     "metadata": {},
     "outputs": [],
     "prompt_number": null
    },
    {
     "cell_type": "code",
     "collapsed": false,
     "input": [
      "x = linspace(0, 2 * pi, 100)\n",
      "y = sin(x)\n",
      "grid()\n",
      "xlabel('angle (rad)')\n",
      "ylabel('sin()')\n",
      "title('The Sine Function')\n",
      "xticks(linspace(0, 2*pi, 5), ['0', '$\\pi/2$', '$\\pi$', '$3\\pi/2$', '$2\\pi$'])\n",
      "plot(x,y);"
     ],
     "language": "python",
     "metadata": {},
     "outputs": [],
     "prompt_number": null
    },
    {
     "cell_type": "code",
     "collapsed": false,
     "input": [
      "x = linspace(0, 2 * np.pi, 100)\n",
      "y = sin(x)\n",
      "xlabel('angle (rad)')\n",
      "ylabel('sin()')\n",
      "title('The Sine Function')\n",
      "plot(x,y)\n",
      "ax = gca()  # gca stands for 'get current axis'\n",
      "ax.spines['right'].set_color('none')\n",
      "ax.spines['top'].set_color('none')\n",
      "ax.xaxis.set_ticks_position('bottom')\n",
      "ax.spines['bottom'].set_position(('data',0))\n",
      "ax.yaxis.set_ticks_position('left')\n",
      "ax.spines['left'].set_position(('data', 0))\n",
      "xticks(linspace(0, 2*np.pi, 5), ['', '$\\pi/2$', '$\\pi$', '$3\\pi/2$', '$2\\pi$']);"
     ],
     "language": "python",
     "metadata": {},
     "outputs": [],
     "prompt_number": null
    },
    {
     "cell_type": "code",
     "collapsed": false,
     "input": [
      "t = 2 * np.pi / 3\n",
      "x = linspace(0, 2 * np.pi, 100)\n",
      "y = sin(x)\n",
      "plot(x,y)\n",
      "grid()\n",
      "\n",
      "plot([t, t], [0, sin(t)], color='green', linewidth=2.5, linestyle=\"--\")\n",
      "scatter([t, ], [sin(t), ], 50, color='green')\n",
      "annotate(r'$sin(\\frac{2\\pi}{3})=\\frac{\\sqrt{3}}{2}$',\n",
      "         xy=(t, np.sin(t)), xycoords='data',\n",
      "         xytext=(+10, +25), textcoords='offset points', fontsize=16,\n",
      "         arrowprops=dict(arrowstyle=\"->\", connectionstyle=\"arc3,rad=.2\"));\n"
     ],
     "language": "python",
     "metadata": {},
     "outputs": [],
     "prompt_number": null
    },
    {
     "cell_type": "code",
     "collapsed": false,
     "input": [
      "x = linspace(0, 2 * np.pi, 100)\n",
      "y = sin(x)\n",
      "grid()\n",
      "xlabel('angle (rad)')\n",
      "ylabel('sin()')\n",
      "title('The Sine Function')\n",
      "xlim( (0.5, 2) )\n",
      "ylim((0, 1.1))\n",
      "plot(x,y);"
     ],
     "language": "python",
     "metadata": {},
     "outputs": [],
     "prompt_number": null
    },
    {
     "cell_type": "code",
     "collapsed": false,
     "input": [
      "plot(np.random.rand(20))"
     ],
     "language": "python",
     "metadata": {},
     "outputs": [],
     "prompt_number": null
    },
    {
     "cell_type": "code",
     "collapsed": false,
     "input": [
      "plot(np.random.rand(20), 'o-.')"
     ],
     "language": "python",
     "metadata": {},
     "outputs": [],
     "prompt_number": null
    },
    {
     "cell_type": "code",
     "collapsed": false,
     "input": [
      "plot(np.random.rand(20), 'kx:')"
     ],
     "language": "python",
     "metadata": {},
     "outputs": [],
     "prompt_number": null
    },
    {
     "cell_type": "code",
     "collapsed": false,
     "input": [
      "plot(np.random.rand(20), 'o-', lw=8)"
     ],
     "language": "python",
     "metadata": {},
     "outputs": [],
     "prompt_number": null
    },
    {
     "cell_type": "code",
     "collapsed": false,
     "input": [
      "plot(np.random.rand(20), 'x-.', ms=30)"
     ],
     "language": "python",
     "metadata": {},
     "outputs": [],
     "prompt_number": null
    },
    {
     "cell_type": "code",
     "collapsed": false,
     "input": [
      "plot(np.random.rand(20), 'o-.', ms=30, lw=8, alpha=0.7, mfc='white')"
     ],
     "language": "python",
     "metadata": {},
     "outputs": [],
     "prompt_number": null
    },
    {
     "cell_type": "markdown",
     "metadata": {},
     "source": [
      "Matplotlib gallery: http://matplotlib.org/gallery.html\n",
      "\n",
      "If you are not using inline graphs, the graph GUI will allow some configuration options"
     ]
    },
    {
     "cell_type": "heading",
     "level": 2,
     "metadata": {},
     "source": [
      "Logarithmic scale axes"
     ]
    },
    {
     "cell_type": "code",
     "collapsed": false,
     "input": [
      "x = linspace(1, 5, 50)\n",
      "data = x**2 + rand(x.size)\n",
      "plot(x, data);"
     ],
     "language": "python",
     "metadata": {},
     "outputs": [],
     "prompt_number": null
    },
    {
     "cell_type": "code",
     "collapsed": false,
     "input": [
      "semilogy(x,data);"
     ],
     "language": "python",
     "metadata": {},
     "outputs": [],
     "prompt_number": null
    },
    {
     "cell_type": "code",
     "collapsed": false,
     "input": [
      "semilogx(x,data);"
     ],
     "language": "python",
     "metadata": {},
     "outputs": [],
     "prompt_number": null
    },
    {
     "cell_type": "code",
     "collapsed": false,
     "input": [
      "loglog(x, data, );"
     ],
     "language": "python",
     "metadata": {},
     "outputs": [],
     "prompt_number": null
    },
    {
     "cell_type": "code",
     "collapsed": false,
     "input": [
      "clf() # for interactive graphs, clears\n",
      "figure() # opens a new window"
     ],
     "language": "python",
     "metadata": {},
     "outputs": [],
     "prompt_number": null
    },
    {
     "cell_type": "code",
     "collapsed": false,
     "input": [
      "loglog(x, data);\n",
      "loglog(x,x);\n",
      "loglog(x,x**2);\n",
      "loglog(x,x**3, color='black');"
     ],
     "language": "python",
     "metadata": {},
     "outputs": [],
     "prompt_number": null
    },
    {
     "cell_type": "heading",
     "level": 2,
     "metadata": {},
     "source": [
      "Exporting"
     ]
    },
    {
     "cell_type": "code",
     "collapsed": false,
     "input": [
      "x = linspace(0, 2 * np.pi, 100)\n",
      "y = sin(x)\n",
      "grid()\n",
      "plot(x,y)\n",
      "xlabel('angle (rad)')\n",
      "ylabel('sin()')\n",
      "title('The Sine Function')\n",
      "xticks(linspace(0, 2*np.pi, 5), ['0', '$\\pi/2$', '$\\pi$', '$3\\pi/2$', '$2\\pi$'])\n",
      "savefig('output.pdf')"
     ],
     "language": "python",
     "metadata": {},
     "outputs": [],
     "prompt_number": null
    },
    {
     "cell_type": "markdown",
     "metadata": {},
     "source": [
      "In the notebook, the *savefig* instruction must be within the same cell. In other interactive modes, it saves the currently active figure.\n",
      "\n",
      "You can save different formats, including pdf, svg, png and eps.\n",
      "\n",
      "Full call signature:\n",
      "\n",
      "    savefig(fname, dpi=None, facecolor='w', edgecolor='w',\n",
      "            orientation='portrait', papertype=None, format=None,\n",
      "            transparent=False, bbox_inches=None, pad_inches=0.1,\n",
      "            frameon=None)"
     ]
    },
    {
     "cell_type": "heading",
     "level": 2,
     "metadata": {},
     "source": [
      "Multiple plots in a figure"
     ]
    },
    {
     "cell_type": "markdown",
     "metadata": {},
     "source": [
      "You can create multiple plots within a figure with the *subplot* command. "
     ]
    },
    {
     "cell_type": "code",
     "collapsed": false,
     "input": [
      "x = linspace(0, 2 * np.pi, 100)\n",
      "y = sin(x)\n",
      "grid()\n",
      "subplot(1,2,1)\n",
      "plot(x,y)\n",
      "xlabel('angle (rad)')\n",
      "ylabel('sin()')\n",
      "title('The Sine Function')\n",
      "\n",
      "subplot(1,2,2)\n",
      "plot(x,cos(x))\n",
      "xlabel('angle (rad)')\n",
      "ylabel('cos()')\n",
      "title('The Cosine Function')\n",
      "suptitle('Trigonometric functions');"
     ],
     "language": "python",
     "metadata": {},
     "outputs": [],
     "prompt_number": null
    },
    {
     "cell_type": "markdown",
     "metadata": {},
     "source": [
      "As you can see you might often need to ajust proprotions a locations of plots...\n",
      "\n",
      "You can do it from the GUI if you are using the external matplotlib window from an interactive shell, but in the notebook you have to do it programatically."
     ]
    },
    {
     "cell_type": "code",
     "collapsed": false,
     "input": [
      "x = linspace(0, 2 * np.pi, 100)\n",
      "y = sin(x)\n",
      "grid()\n",
      "subplot(1,2,1)\n",
      "plot(x,y)\n",
      "xlabel('angle (rad)')\n",
      "ylabel('sin()')\n",
      "title('The Sine Function')\n",
      "\n",
      "subplot(1,2,2)\n",
      "plot(x,cos(x))\n",
      "xlabel('angle (rad)')\n",
      "ylabel('cos()')\n",
      "title('The Cosine Function')\n",
      "suptitle('Trigonometric functions')\n",
      "\n",
      "gcf().set_figwidth(14)"
     ],
     "language": "python",
     "metadata": {},
     "outputs": [],
     "prompt_number": null
    },
    {
     "cell_type": "markdown",
     "metadata": {},
     "source": [
      "As you can see, this is done to the \"current\" figure, which is returned with *gcf()* (Get Current Figure).\n",
      "\n",
      "Full (very full... ) documentation here: http://matplotlib.org/api/figure_api.html\n",
      "\n",
      "You can adjust subplots with:\n",
      "\n",
      "    subplots_adjust(left=None, bottom=None, right=None, top=None,\n",
      "                    wspace=None, hspace=None)"
     ]
    },
    {
     "cell_type": "code",
     "collapsed": false,
     "input": [
      "x = linspace(0, 2 * np.pi, 100)\n",
      "y = sin(x)\n",
      "grid()\n",
      "subplot(1,2,1)\n",
      "plot(x,y)\n",
      "xlabel('angle (rad)')\n",
      "ylabel('sin()')\n",
      "title('The Sine Function')\n",
      "\n",
      "subplot(1,2,2)\n",
      "plot(x,cos(x))\n",
      "xlabel('angle (rad)')\n",
      "ylabel('cos()')\n",
      "title('The Cosine Function')\n",
      "suptitle('Trigonometric functions')\n",
      "subplots_adjust(wspace=2)"
     ],
     "language": "python",
     "metadata": {},
     "outputs": [],
     "prompt_number": null
    },
    {
     "cell_type": "markdown",
     "metadata": {},
     "source": [
      "Here's another way:"
     ]
    },
    {
     "cell_type": "code",
     "collapsed": false,
     "input": [
      "x = linspace(0, 2 * np.pi, 100)\n",
      "y = sin(x)\n",
      "grid()\n",
      "subplot(1,2,1)\n",
      "plot(x,y)\n",
      "xlabel('angle (rad)')\n",
      "ylabel('sin()')\n",
      "title('The Sine Function')\n",
      "\n",
      "subplot(1,2,2)\n",
      "plot(x,cos(x))\n",
      "xlabel('angle (rad)')\n",
      "ylabel('cos()')\n",
      "title('The Cosine Function')\n",
      "suptitle('Trigonometric functions')\n",
      "\n",
      "w, h = figaspect(0.3)\n",
      "gcf().set_figwidth(w)\n",
      "gcf().set_figheight(h)"
     ],
     "language": "python",
     "metadata": {},
     "outputs": [],
     "prompt_number": null
    },
    {
     "cell_type": "heading",
     "level": 2,
     "metadata": {},
     "source": [
      "Multiple curves in a plot"
     ]
    },
    {
     "cell_type": "code",
     "collapsed": false,
     "input": [
      "x = linspace(0, 2 * np.pi, 100)\n",
      "plot(x,sin(x))\n",
      "plot(x,cos(x));"
     ],
     "language": "python",
     "metadata": {},
     "outputs": [],
     "prompt_number": null
    },
    {
     "cell_type": "markdown",
     "metadata": {},
     "source": [
      "For publishing, you might want to have black lines with different strokes:"
     ]
    },
    {
     "cell_type": "code",
     "collapsed": false,
     "input": [
      "x = linspace(0, 2 * np.pi, 100)\n",
      "plot(x,sin(x), 'k')\n",
      "plot(x,cos(x), 'k-.')\n",
      "plot(x,sin(2*x), 'k,')"
     ],
     "language": "python",
     "metadata": {},
     "outputs": [],
     "prompt_number": null
    },
    {
     "cell_type": "markdown",
     "metadata": {},
     "source": [
      "Markers: http://matplotlib.org/api/markers_api.html"
     ]
    },
    {
     "cell_type": "code",
     "collapsed": false,
     "input": [
      "x = linspace(0, 2 * np.pi, 100)\n",
      "plot(x,sin(x), 'k')\n",
      "plot(x,cos(x), 'k-.')\n",
      "plot(x,sin(2*x), 'k,')\n",
      "names = ['sin($\\omega$)', 'cos($\\omega$)', 'sin($2\\omega$)']\n",
      "legend(names);\n",
      "xlim((0, 2*np.pi))"
     ],
     "language": "python",
     "metadata": {},
     "outputs": [],
     "prompt_number": null
    },
    {
     "cell_type": "code",
     "collapsed": false,
     "input": [
      "x = linspace(0, 2 * np.pi, 100)\n",
      "plot(x,sin(x), 'ko')\n",
      "plot(x,cos(x), 'k^')\n",
      "plot(x,sin(2*x), 'kx')\n",
      "names = ['sin($\\omega$)', 'cos($\\omega$)', 'sin($2\\omega$)']\n",
      "legend(names)"
     ],
     "language": "python",
     "metadata": {},
     "outputs": [],
     "prompt_number": null
    },
    {
     "cell_type": "heading",
     "level": 2,
     "metadata": {},
     "source": [
      "Other plot types"
     ]
    },
    {
     "cell_type": "heading",
     "level": 3,
     "metadata": {},
     "source": [
      "Histograms"
     ]
    },
    {
     "cell_type": "code",
     "collapsed": false,
     "input": [
      "samples = poisson(lam= 3.5, size= 500)"
     ],
     "language": "python",
     "metadata": {},
     "outputs": [],
     "prompt_number": null
    },
    {
     "cell_type": "code",
     "collapsed": false,
     "input": [
      "hist(samples)"
     ],
     "language": "python",
     "metadata": {},
     "outputs": [],
     "prompt_number": null
    },
    {
     "cell_type": "code",
     "collapsed": false,
     "input": [
      "hist(samples, 5)"
     ],
     "language": "python",
     "metadata": {},
     "outputs": [],
     "prompt_number": null
    },
    {
     "cell_type": "markdown",
     "metadata": {},
     "source": [
      "For publication, you might need to adjust:"
     ]
    },
    {
     "cell_type": "code",
     "collapsed": false,
     "input": [
      "hist(samples, 5, histtype='step', align= 'left', color= 'k', normed=True, hatch='\\\\')\n",
      "xticks(arange(5)*2, ['A', 'B', 'C', 'D', 'E'])\n",
      "grid()"
     ],
     "language": "python",
     "metadata": {},
     "outputs": [],
     "prompt_number": null
    },
    {
     "cell_type": "code",
     "collapsed": false,
     "input": [
      "hist(samples, 20, histtype='step', align= 'left', color= 'k', orientation='horizontal', normed=True, hatch='\\\\')\n",
      "yticks(arange(10), ['A', 'B', 'C', 'D', 'E', 'F', 'G', 'H', 'I', 'J']);"
     ],
     "language": "python",
     "metadata": {},
     "outputs": [],
     "prompt_number": null
    },
    {
     "cell_type": "heading",
     "level": 3,
     "metadata": {},
     "source": [
      "Bargraphs"
     ]
    },
    {
     "cell_type": "code",
     "collapsed": false,
     "input": [
      "bar(arange(12), random.random(12), 0.55);"
     ],
     "language": "python",
     "metadata": {},
     "outputs": [],
     "prompt_number": null
    },
    {
     "cell_type": "code",
     "collapsed": false,
     "input": [
      "ind = arange(12)\n",
      "width = 1\n",
      "bar(ind, random.random(12), width)\n",
      "xticks(ind+width/2., ind );"
     ],
     "language": "python",
     "metadata": {},
     "outputs": [],
     "prompt_number": null
    },
    {
     "cell_type": "heading",
     "level": 3,
     "metadata": {},
     "source": [
      "Graphing 2D matrices"
     ]
    },
    {
     "cell_type": "code",
     "collapsed": false,
     "input": [
      "mat = rand(10,10)\n",
      "imshow(mat);"
     ],
     "language": "python",
     "metadata": {},
     "outputs": [],
     "prompt_number": null
    },
    {
     "cell_type": "code",
     "collapsed": false,
     "input": [
      "imshow(mat, cmap=cm.gray)"
     ],
     "language": "python",
     "metadata": {},
     "outputs": [],
     "prompt_number": null
    },
    {
     "cell_type": "code",
     "collapsed": false,
     "input": [
      "imshow(mat)\n",
      "colorbar();"
     ],
     "language": "python",
     "metadata": {},
     "outputs": [],
     "prompt_number": null
    },
    {
     "cell_type": "code",
     "collapsed": false,
     "input": [
      "imshow(mat, cmap=cm.gray)\n",
      "colorbar();"
     ],
     "language": "python",
     "metadata": {},
     "outputs": [],
     "prompt_number": null
    },
    {
     "cell_type": "code",
     "collapsed": false,
     "input": [
      "imshow(mat, cmap=cm.gray, interpolation='nearest')\n",
      "colorbar();"
     ],
     "language": "python",
     "metadata": {},
     "outputs": [],
     "prompt_number": null
    },
    {
     "cell_type": "code",
     "collapsed": false,
     "input": [
      "subplot(1,4,1)\n",
      "imshow(mat, interpolation='nearest')\n",
      "grid(True)\n",
      "\n",
      "subplot(1,4,2)\n",
      "imshow(mat, interpolation='bilinear')\n",
      "\n",
      "subplot(1,4,3)\n",
      "imshow(mat, interpolation='bicubic')\n",
      "\n",
      "subplot(1,4,4)\n",
      "imshow(mat, interpolation='gaussian')\n",
      "\n",
      "gcf().set_figwidth(14)"
     ],
     "language": "python",
     "metadata": {},
     "outputs": [],
     "prompt_number": null
    },
    {
     "cell_type": "code",
     "collapsed": false,
     "input": [
      "imshow(mat, interpolation='nearest')\n",
      "plot(mat[5] + 4.5, 'white', linewidth=5)\n",
      "colorbar();\n",
      "xlim((-0.5, 9.5))\n",
      "ylim((9.5, -0.5))"
     ],
     "language": "python",
     "metadata": {},
     "outputs": [],
     "prompt_number": null
    },
    {
     "cell_type": "heading",
     "level": 3,
     "metadata": {},
     "source": [
      "Scatter Plots"
     ]
    },
    {
     "cell_type": "code",
     "collapsed": false,
     "input": [
      "N=100\n",
      "x = np.random.randn(N)\n",
      "y = np.random.randn(N)\n",
      "\n",
      "scatter(x,y)"
     ],
     "language": "python",
     "metadata": {},
     "outputs": [],
     "prompt_number": null
    },
    {
     "cell_type": "code",
     "collapsed": false,
     "input": [
      "N=100\n",
      "x = np.random.randn(N)\n",
      "y = np.random.randn(N)\n",
      "\n",
      "scatter(x,y,color='blue',s=5,edgecolor='none')"
     ],
     "language": "python",
     "metadata": {},
     "outputs": [],
     "prompt_number": null
    },
    {
     "cell_type": "code",
     "collapsed": false,
     "input": [
      "N=100\n",
      "x = np.random.randn(N)\n",
      "y = np.random.randn(N)\n",
      "\n",
      "scatter(x,y,color='blue',s=40,edgecolor='none', marker=7)"
     ],
     "language": "python",
     "metadata": {},
     "outputs": [],
     "prompt_number": null
    },
    {
     "cell_type": "code",
     "collapsed": false,
     "input": [
      "dict(alpha=0.5, edgecolors='none' )"
     ],
     "language": "python",
     "metadata": {},
     "outputs": [],
     "prompt_number": null
    },
    {
     "cell_type": "code",
     "collapsed": false,
     "input": [
      "d = {'alpha': 0.5, 'edgecolors': 'none'}\n",
      "print(d)\n",
      "d['alpha'] = 'hello'\n",
      "print(d)"
     ],
     "language": "python",
     "metadata": {},
     "outputs": [],
     "prompt_number": null
    },
    {
     "cell_type": "code",
     "collapsed": false,
     "input": [
      "props = dict(alpha=0.5, edgecolors='none', c='blue' )\n",
      "scatter(x, y, s=20, **props)\n",
      "props = dict(alpha=0.8, c='red' )\n",
      "scatter(y,x, s=20, **props)\n",
      "\n",
      "# scatter(x, y, c='red', s=20, alpha=0.5, edgecolors='none')"
     ],
     "language": "python",
     "metadata": {},
     "outputs": [],
     "prompt_number": null
    },
    {
     "cell_type": "code",
     "collapsed": false,
     "input": [
      "props"
     ],
     "language": "python",
     "metadata": {},
     "outputs": [],
     "prompt_number": null
    },
    {
     "cell_type": "code",
     "collapsed": false,
     "input": [
      "N = 10\n",
      "props = dict(alpha=0.5, edgecolors='none' )\n",
      "\n",
      "handles = []\n",
      "colors = ['red', 'blue', 'brown', 'green']\n",
      "for color in colors:\n",
      "    x = np.random.randn(N)\n",
      "    y = np.random.randn(N)\n",
      "    s = np.random.randint(10,300)\n",
      "    handles.append(scatter(x, y, c=color, s=s, **props))\n",
      "\n",
      "ylim([-5,11])\n",
      "xlim([-5,11])\n",
      "\n",
      "legend(handles, colors)\n",
      "grid(True)"
     ],
     "language": "python",
     "metadata": {},
     "outputs": [],
     "prompt_number": null
    },
    {
     "cell_type": "heading",
     "level": 3,
     "metadata": {},
     "source": [
      "Text"
     ]
    },
    {
     "cell_type": "code",
     "collapsed": false,
     "input": [
      "text(0.5, 0.5, 'text')"
     ],
     "language": "python",
     "metadata": {},
     "outputs": [],
     "prompt_number": null
    },
    {
     "cell_type": "code",
     "collapsed": false,
     "input": [
      "\n",
      "# the text bounding box\n",
      "bbox = {'facecolor':'0.9', 'alpha':0.7, 'pad':40, 'color':'red'}\n",
      "props = {'ha':'center', 'va':'center', 'fontsize': 20, 'bbox':bbox}\n",
      "\n",
      "text(0.5, 0.5, 'text 0', props, rotation=0)\n",
      "text(1.5, 0.5, 'text 45', props, rotation=45)\n",
      "text(2.5, 0.5, 'text 135', props, rotation=135, family='Serif')\n",
      "text(3.5, 0.5, 'text 225', props, rotation=225)\n",
      "text(4.5, 0.5, 'text -45', props, rotation=-45, family='Serif')\n",
      "yticks([0,.5,1])\n",
      "xlim(0,5)\n",
      "xticks(arange(0, 5.1, 0.5), [])\n",
      "ylabel('center / center')\n"
     ],
     "language": "python",
     "metadata": {},
     "outputs": [],
     "prompt_number": null
    },
    {
     "cell_type": "heading",
     "level": 3,
     "metadata": {},
     "source": [
      "3D Graphs"
     ]
    },
    {
     "cell_type": "code",
     "collapsed": false,
     "input": [
      "from mpl_toolkits.mplot3d import Axes3D\n",
      "\n",
      "fig = figure()\n",
      "ax = Axes3D(fig)\n",
      "X = arange(-4, 4, 0.25)\n",
      "Y = arange(-4, 4, 0.25)\n",
      "X, Y = meshgrid(X, Y)\n",
      "R = sqrt(X ** 2 + Y ** 2)\n",
      "Z = sin(R)\n",
      "\n",
      "ax.plot_surface(X, Y, Z, rstride=1, cstride=1, cmap=cm.hot)\n",
      "ax.contourf(X, Y, Z, zdir='z', offset=-2, cmap=cm.hot)\n",
      "ax.set_zlim(-2, 2)\n",
      "\n",
      "grid()"
     ],
     "language": "python",
     "metadata": {},
     "outputs": [],
     "prompt_number": null
    },
    {
     "cell_type": "markdown",
     "metadata": {},
     "source": [
      "Another simple tutorial for graphing with ipython: http://nbviewer.ipython.org/github/swcarpentry/notebooks/blob/master/matplotlib.ipynb\n",
      "\n",
      "Comprehensive tutorial: http://scipy-lectures.github.io/intro/matplotlib/matplotlib.html\n",
      "\n",
      "The Matplotlib gallery is a great place to find ideas: http://matplotlib.org/gallery.html"
     ]
    },
    {
     "cell_type": "markdown",
     "metadata": {},
     "source": [
      "By Andr\u00e9s Cabrera mantaraya36@gmail.com\n",
      "\n",
      "For course MAT 201A at UCSB\n",
      "\n",
      "This ipython notebook is licensed under the CC-BY-NC-SA license: http://creativecommons.org/licenses/by-nc-sa/4.0/\n",
      "\n",
      "![http://i.creativecommons.org/l/by-nc-sa/3.0/88x31.png](http://i.creativecommons.org/l/by-nc-sa/3.0/88x31.png)"
     ]
    }
   ],
   "metadata": {}
  }
 ]
}
