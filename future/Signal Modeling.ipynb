{
 "metadata": {
  "name": ""
 },
 "nbformat": 3,
 "nbformat_minor": 0,
 "worksheets": [
  {
   "cells": [
    {
     "cell_type": "code",
     "collapsed": false,
     "input": [
      "%pylab inline\n",
      "rcParams['figure.figsize'] = (10, 4) #wide graphs by default\n",
      "from __future__ import print_function\n",
      "from __future__ import division"
     ],
     "language": "python",
     "metadata": {},
     "outputs": [],
     "prompt_number": null
    },
    {
     "cell_type": "heading",
     "level": 1,
     "metadata": {},
     "source": [
      "Cepstrum"
     ]
    },
    {
     "cell_type": "code",
     "collapsed": false,
     "input": [
      "from scipy.io import wavfile"
     ],
     "language": "python",
     "metadata": {},
     "outputs": [],
     "prompt_number": null
    },
    {
     "cell_type": "code",
     "collapsed": false,
     "input": [
      "sr, e = wavfile.read('e.wav')"
     ],
     "language": "python",
     "metadata": {},
     "outputs": [],
     "prompt_number": null
    },
    {
     "cell_type": "code",
     "collapsed": false,
     "input": [
      "sr"
     ],
     "language": "python",
     "metadata": {},
     "outputs": [],
     "prompt_number": null
    },
    {
     "cell_type": "code",
     "collapsed": false,
     "input": [
      "from IPython.display import Audio\n",
      "Audio(e, rate=sr)"
     ],
     "language": "python",
     "metadata": {},
     "outputs": [],
     "prompt_number": null
    },
    {
     "cell_type": "code",
     "collapsed": false,
     "input": [
      "plot(e)"
     ],
     "language": "python",
     "metadata": {},
     "outputs": [],
     "prompt_number": null
    },
    {
     "cell_type": "code",
     "collapsed": false,
     "input": [
      "start = 4000\n",
      "fourier_trans = rfft(e[start:start + 2048]* hanning(2048), n=4096)\n",
      "mag_spectrum_e = abs(fourier_trans)"
     ],
     "language": "python",
     "metadata": {},
     "outputs": [],
     "prompt_number": null
    },
    {
     "cell_type": "code",
     "collapsed": false,
     "input": [
      "plot(mag_spectrum_e)"
     ],
     "language": "python",
     "metadata": {},
     "outputs": [],
     "prompt_number": null
    },
    {
     "cell_type": "code",
     "collapsed": false,
     "input": [
      "log_mag_spec_e = log(mag_spectrum_e)\n",
      "plot(log_mag_spec_e[:1000])"
     ],
     "language": "python",
     "metadata": {},
     "outputs": [],
     "prompt_number": null
    },
    {
     "cell_type": "code",
     "collapsed": false,
     "input": [
      "freqs = linspace(0, sr/2, 2049)\n",
      "plot(freqs, log_mag_spec_e)\n",
      "xlabel('Frequency (Hz)')\n",
      "ylabel('Log amplitude')\n",
      "xlim((0, 4000))\n",
      "grid()"
     ],
     "language": "python",
     "metadata": {},
     "outputs": [],
     "prompt_number": null
    },
    {
     "cell_type": "code",
     "collapsed": false,
     "input": [
      "sr, a = wavfile.read('a.wav')\n",
      "plot(a)"
     ],
     "language": "python",
     "metadata": {},
     "outputs": [],
     "prompt_number": null
    },
    {
     "cell_type": "code",
     "collapsed": false,
     "input": [
      "Audio(a, rate=sr)"
     ],
     "language": "python",
     "metadata": {},
     "outputs": [],
     "prompt_number": null
    },
    {
     "cell_type": "code",
     "collapsed": false,
     "input": [
      "start = 4000\n",
      "fourier_trans = rfft(a[start:start + 2048]* hanning(2048), n=4096)\n",
      "mag_spectrum_a = abs(fourier_trans)\n",
      "log_mag_spec_a = log(mag_spectrum_a)\n",
      "freqs = linspace(0, sr/2, 2049)\n",
      "plot(freqs, log_mag_spec_a)\n",
      "xlabel('Frequency (Hz)')\n",
      "ylabel('Log amplitude')\n",
      "xlim((0, 4000))\n",
      "grid()"
     ],
     "language": "python",
     "metadata": {},
     "outputs": [],
     "prompt_number": null
    },
    {
     "cell_type": "code",
     "collapsed": false,
     "input": [
      "sr, o = wavfile.read('o.wav')\n",
      "plot(o)"
     ],
     "language": "python",
     "metadata": {},
     "outputs": [],
     "prompt_number": null
    },
    {
     "cell_type": "code",
     "collapsed": false,
     "input": [
      "Audio(o, rate=sr)"
     ],
     "language": "python",
     "metadata": {},
     "outputs": [],
     "prompt_number": null
    },
    {
     "cell_type": "code",
     "collapsed": false,
     "input": [
      "start = 4000\n",
      "fourier_trans = rfft(o[start:start + 2048]* hanning(2048), n=4096)\n",
      "mag_spectrum_o = abs(fourier_trans)\n",
      "log_mag_spec_o = log(mag_spectrum_o)\n",
      "plot(log_mag_spec_o[:1000])\n",
      "figure()\n",
      "plot(mag_spectrum_o[:1000])"
     ],
     "language": "python",
     "metadata": {},
     "outputs": [],
     "prompt_number": null
    },
    {
     "cell_type": "code",
     "collapsed": false,
     "input": [
      "plot(log_mag_spec_a[:1000], alpha=0.5)\n",
      "plot(log_mag_spec_e[:1000], alpha=0.5)\n",
      "plot(log_mag_spec_o[:1000], alpha=0.5)\n",
      "legend(['a','e','o'])"
     ],
     "language": "python",
     "metadata": {},
     "outputs": [],
     "prompt_number": null
    },
    {
     "cell_type": "heading",
     "level": 2,
     "metadata": {},
     "source": [
      "Source-filter separation"
     ]
    },
    {
     "cell_type": "markdown",
     "metadata": {},
     "source": [
      "$$s(t) = x(t) * y(t)$$\n",
      "\n",
      "where $s$ is the voice signal, $x$ is the source or excitation signal and $y$ is the filter.\n",
      "\n",
      "$$S(f) = X(f)Y(f)$$\n",
      "\n",
      "$$|S(f)| = |X(f)||Y(f)|$$\n",
      "\n",
      "$$\\ln|S(f)| = \\ln|X(f)| + \\ln|Y(f)|$$\n",
      "\n",
      "\n",
      "$$\\mathcal{F^{-1}}\\big[\\ln|S(f)|\\big] = \\mathcal{F^{-1}}\\big[\\ln|X(f)|\\big] + \\mathcal{F^{-1}}\\big[\\ln|Y(f)|\\big]$$"
     ]
    },
    {
     "cell_type": "code",
     "collapsed": false,
     "input": [
      "cepstrum_a = ifft(log_mag_spec_a)\n",
      "plot(cepstrum_a[1:])"
     ],
     "language": "python",
     "metadata": {},
     "outputs": [],
     "prompt_number": null
    },
    {
     "cell_type": "code",
     "collapsed": false,
     "input": [
      "plot(cepstrum_a[:])"
     ],
     "language": "python",
     "metadata": {},
     "outputs": [],
     "prompt_number": null
    },
    {
     "cell_type": "markdown",
     "metadata": {},
     "source": [
      "Now we separate the source and the filter by finding the first peak in the cepstrum."
     ]
    },
    {
     "cell_type": "code",
     "collapsed": false,
     "input": [
      "pulse = list(r_[1, zeros(50)])*40\n",
      "plot(pulse)"
     ],
     "language": "python",
     "metadata": {},
     "outputs": [],
     "prompt_number": null
    },
    {
     "cell_type": "code",
     "collapsed": false,
     "input": [
      "plot(abs(rfft(pulse)))"
     ],
     "language": "python",
     "metadata": {},
     "outputs": [],
     "prompt_number": null
    },
    {
     "cell_type": "code",
     "collapsed": false,
     "input": [
      "filtered = abs(rfft(pulse)) *  cos(linspace(0, 0.5*pi, len(rfft(pulse)), endpoint=False))\n",
      "plot(filtered)"
     ],
     "language": "python",
     "metadata": {},
     "outputs": [],
     "prompt_number": null
    },
    {
     "cell_type": "code",
     "collapsed": false,
     "input": [
      "plot(abs(rfft(filtered)))"
     ],
     "language": "python",
     "metadata": {},
     "outputs": [],
     "prompt_number": null
    },
    {
     "cell_type": "markdown",
     "metadata": {},
     "source": [
      "Separate source and filter:"
     ]
    },
    {
     "cell_type": "code",
     "collapsed": false,
     "input": [
      "n0 = argmax(cepstrum_a[1:])+ 1\n",
      "n0"
     ],
     "language": "python",
     "metadata": {},
     "outputs": [],
     "prompt_number": null
    },
    {
     "cell_type": "markdown",
     "metadata": {},
     "source": [
      "Everything before that point represents the filter."
     ]
    },
    {
     "cell_type": "code",
     "collapsed": false,
     "input": [
      "cepstrum_filter_a = abs(fft.fft(cepstrum_a[:n0 - 1], n=2048))\n",
      "plot(cepstrum_filter_a[:1000])\n",
      "grid()"
     ],
     "language": "python",
     "metadata": {},
     "outputs": [],
     "prompt_number": null
    },
    {
     "cell_type": "code",
     "collapsed": false,
     "input": [
      "plot(cepstrum_filter_a, 'green', lw=3)\n",
      "twinx()\n",
      "plot(log_mag_spec_a)\n",
      "xlim((0,1000))"
     ],
     "language": "python",
     "metadata": {},
     "outputs": [],
     "prompt_number": null
    },
    {
     "cell_type": "markdown",
     "metadata": {},
     "source": [
      "Everything after represents the source (excitation)."
     ]
    },
    {
     "cell_type": "code",
     "collapsed": false,
     "input": [
      "source_coeffs = r_[zeros(n0),cepstrum_a[n0:]]"
     ],
     "language": "python",
     "metadata": {},
     "outputs": [],
     "prompt_number": null
    },
    {
     "cell_type": "code",
     "collapsed": false,
     "input": [
      "cepstrum_source_a = fft.fft(source_coeffs, n=2048)\n",
      "plot(abs(cepstrum_source_a)[:1025])"
     ],
     "language": "python",
     "metadata": {},
     "outputs": [],
     "prompt_number": null
    },
    {
     "cell_type": "code",
     "collapsed": false,
     "input": [
      "source_spec = np.e ** (abs(cepstrum_source_a)[:1025])\n",
      "plot(source_spec)"
     ],
     "language": "python",
     "metadata": {},
     "outputs": [],
     "prompt_number": null
    },
    {
     "cell_type": "code",
     "collapsed": false,
     "input": [
      "source = fft.irfft(source_spec)\n",
      "plot(source)"
     ],
     "language": "python",
     "metadata": {},
     "outputs": [],
     "prompt_number": null
    },
    {
     "cell_type": "code",
     "collapsed": false,
     "input": [
      "source_cycled = list(source * 500) * 50\n",
      "plot(source_cycled)\n",
      "Audio(source_cycled, rate=sr*2)"
     ],
     "language": "python",
     "metadata": {},
     "outputs": [],
     "prompt_number": null
    },
    {
     "cell_type": "code",
     "collapsed": false,
     "input": [
      "cepstrum_e = ifft(log_mag_spec_e)\n",
      "n0 = argmax(cepstrum_e[1:])+ 1\n",
      "cepstrum_filter_e = abs(fft.fft(cepstrum_e[:n0 - 1], n=2048))\n",
      "plot(abs(cepstrum_filter_e), 'green', lw=3)\n",
      "twinx()\n",
      "plot(log_mag_spec_e)\n",
      "xlim((0,1000))"
     ],
     "language": "python",
     "metadata": {},
     "outputs": [],
     "prompt_number": null
    },
    {
     "cell_type": "code",
     "collapsed": false,
     "input": [
      "cepstrum_o = ifft(log_mag_spec_o)\n",
      "n0 = argmax(cepstrum_o[10:1024])+ 10 # had to do some minor manual adjustments here!\n",
      "cepstrum_filter_o = abs(fft.fft(cepstrum_o[:n0 - 1], n=2048))\n",
      "plot(cepstrum_filter_o, 'green', lw=3)\n",
      "twinx()\n",
      "plot(log_mag_spec_o)\n",
      "\n",
      "xlim((0,1000))"
     ],
     "language": "python",
     "metadata": {},
     "outputs": [],
     "prompt_number": null
    },
    {
     "cell_type": "code",
     "collapsed": false,
     "input": [
      "freqs = linspace(0, sr/2, 2048)\n",
      "plot(freqs, cepstrum_filter_a)\n",
      "plot(freqs, cepstrum_filter_e)\n",
      "plot(freqs, cepstrum_filter_o)\n",
      "\n",
      "legend(['a','e','o'])\n",
      "xlabel('Frequency (Hz)')\n",
      "grid()\n",
      "xlim((0, 4000))\n",
      "title('Cepstra extracted filter for vowels');"
     ],
     "language": "python",
     "metadata": {},
     "outputs": [],
     "prompt_number": null
    },
    {
     "cell_type": "markdown",
     "metadata": {},
     "source": [
      "Different amount of detail can be preserved by using more or less cepstral coefficients."
     ]
    },
    {
     "cell_type": "code",
     "collapsed": false,
     "input": [
      "num_coeffs = [10, 15, 30, 50]\n",
      "\n",
      "for n in num_coeffs:\n",
      "    cepstrum_filter = abs(fft.fft(cepstrum_a[:n], n=512))\n",
      "    plot(abs(cepstrum_filter)[:250])\n",
      "\n",
      "legend(num_coeffs)\n",
      "grid()\n",
      "title('Different number of coefficients for Cepstral filter (\"a\")');"
     ],
     "language": "python",
     "metadata": {},
     "outputs": [],
     "prompt_number": null
    },
    {
     "cell_type": "code",
     "collapsed": false,
     "input": [
      "num_coeffs = [10, 15, 30,50]\n",
      "\n",
      "for n in num_coeffs:\n",
      "    cepstrum_filter = abs(fft.fft(cepstrum_e[:n], n=512))\n",
      "    plot(abs(cepstrum_filter)[:250])\n",
      "\n",
      "legend(num_coeffs)\n",
      "grid()\n",
      "title('Different number of coefficients for Cepstral filter (\"e\")');"
     ],
     "language": "python",
     "metadata": {},
     "outputs": [],
     "prompt_number": null
    },
    {
     "cell_type": "code",
     "collapsed": false,
     "input": [
      "num_coeffs = [10, 15, 30,50]\n",
      "\n",
      "for n in num_coeffs:\n",
      "    cepstrum_filter = abs(fft.fft(cepstrum_o[:n], n=512))\n",
      "    plot(abs(cepstrum_filter)[:250])\n",
      "\n",
      "legend(num_coeffs)\n",
      "grid()\n",
      "title('Different number of coefficients for Cepstral filter (\"o\")');"
     ],
     "language": "python",
     "metadata": {},
     "outputs": [],
     "prompt_number": null
    },
    {
     "cell_type": "heading",
     "level": 2,
     "metadata": {},
     "source": [
      "Using the DCT instead of the IFT"
     ]
    },
    {
     "cell_type": "markdown",
     "metadata": {},
     "source": [
      "DCT type II is used.\n",
      "\n",
      "$$X_k =\n",
      " \\sum_{n=0}^{N-1} x_n \\cos \\left[\\frac{\\pi}{N} \\left(n+\\frac{1}{2}\\right) k \\right] \\quad \\quad k = 0, \\dots, N-1.$$\n",
      "\n",
      "http://en.wikipedia.org/wiki/Discrete_cosine_transform\n",
      "\n",
      "The DCT is another type of harmonic analisys, but (for DCT type II), each harmonic is shifted by 0.5 \"steps\" within the analysis window."
     ]
    },
    {
     "cell_type": "code",
     "collapsed": false,
     "input": [
      "N = 1024\n",
      "k = 0\n",
      "phs = linspace(k * 0.5*pi/N, (k * pi *(N-0.5))/N, N)\n",
      "plot(cos(phs))"
     ],
     "language": "python",
     "metadata": {},
     "outputs": [],
     "prompt_number": null
    },
    {
     "cell_type": "code",
     "collapsed": false,
     "input": [
      "k = 1\n",
      "phs = linspace(k * 0.5*pi/N, (k * pi *(N-0.5))/N, N)\n",
      "plot(cos(phs))"
     ],
     "language": "python",
     "metadata": {},
     "outputs": [],
     "prompt_number": null
    },
    {
     "cell_type": "code",
     "collapsed": false,
     "input": [
      "k = 2\n",
      "phs = linspace(k * 0.5*pi/N, (k * pi *(N-0.5))/N, N)\n",
      "plot(cos(phs))"
     ],
     "language": "python",
     "metadata": {},
     "outputs": [],
     "prompt_number": null
    },
    {
     "cell_type": "markdown",
     "metadata": {},
     "source": [
      "This produces some assymetrical aliasing on the second half of the spectrum (i.e. it's not symmetrical like the Fourier Transform for real input)"
     ]
    },
    {
     "cell_type": "code",
     "collapsed": false,
     "input": [
      "k = 1023\n",
      "phs = linspace(k * 0.5*pi/N, (k * pi *(N-0.5))/N, N)\n",
      "plot(cos(phs))"
     ],
     "language": "python",
     "metadata": {},
     "outputs": [],
     "prompt_number": null
    },
    {
     "cell_type": "code",
     "collapsed": false,
     "input": [
      "phs = linspace(k * 0.5*pi/N, (k * pi *(N-0.5))/N, N)\n",
      "plot(cos(phs)[0:100])"
     ],
     "language": "python",
     "metadata": {},
     "outputs": [],
     "prompt_number": null
    },
    {
     "cell_type": "code",
     "collapsed": false,
     "input": [
      "from scipy.fftpack import dct\n",
      "\n",
      "cepstrum_dct_o = dct(log_mag_spec_o)\n",
      "n0 = argmax(cepstrum_dct_o[10:1024])+ 10 # had to do some minor manual adjustments here!\n",
      "cepstrum_dct_o = abs(fft.fft(cepstrum_dct_o[:n0 - 1], n=4096))\n",
      "plot(cepstrum_dct_o, 'green', lw=3)\n",
      "\n",
      "twinx()\n",
      "plot((cepstrum_filter_o), 'r')\n",
      "\n",
      "twinx()\n",
      "plot(log_mag_spec_o)\n",
      "\n",
      "xlim((0,1000))"
     ],
     "language": "python",
     "metadata": {},
     "outputs": [],
     "prompt_number": null
    },
    {
     "cell_type": "heading",
     "level": 2,
     "metadata": {},
     "source": [
      "Pitch estimation"
     ]
    },
    {
     "cell_type": "code",
     "collapsed": false,
     "input": [
      "plot(cepstrum_a[1:200])"
     ],
     "language": "python",
     "metadata": {},
     "outputs": [],
     "prompt_number": null
    },
    {
     "cell_type": "code",
     "collapsed": false,
     "input": [
      "len(cepstrum_a)"
     ],
     "language": "python",
     "metadata": {},
     "outputs": [],
     "prompt_number": null
    },
    {
     "cell_type": "code",
     "collapsed": false,
     "input": [
      "plot(cepstrum_e[1:200])"
     ],
     "language": "python",
     "metadata": {},
     "outputs": [],
     "prompt_number": null
    },
    {
     "cell_type": "code",
     "collapsed": false,
     "input": [
      "plot(cepstrum_o[1:200])"
     ],
     "language": "python",
     "metadata": {},
     "outputs": [],
     "prompt_number": null
    },
    {
     "cell_type": "markdown",
     "metadata": {},
     "source": [
      "The x-axis in a Ceptrum plot is called Quefrency. But it is in fact a time axis."
     ]
    },
    {
     "cell_type": "code",
     "collapsed": false,
     "input": [
      "argmax(cepstrum_a[50:100])+ 50"
     ],
     "language": "python",
     "metadata": {},
     "outputs": [],
     "prompt_number": null
    },
    {
     "cell_type": "code",
     "collapsed": false,
     "input": [
      "argmax(cepstrum_e[50:100])+ 50"
     ],
     "language": "python",
     "metadata": {},
     "outputs": [],
     "prompt_number": null
    },
    {
     "cell_type": "code",
     "collapsed": false,
     "input": [
      "argmax(cepstrum_o[50:100])+ 50"
     ],
     "language": "python",
     "metadata": {},
     "outputs": [],
     "prompt_number": null
    },
    {
     "cell_type": "code",
     "collapsed": false,
     "input": [
      "# Cepstrum was oversampled \n",
      "f_a = sr /(2.0*(argmax(cepstrum_a[50:100])+ 50))\n",
      "f_a"
     ],
     "language": "python",
     "metadata": {},
     "outputs": [],
     "prompt_number": null
    },
    {
     "cell_type": "code",
     "collapsed": false,
     "input": [
      "f_e = sr /(2.0 * (argmax(cepstrum_e[50:100])+ 50))\n",
      "f_e"
     ],
     "language": "python",
     "metadata": {},
     "outputs": [],
     "prompt_number": null
    },
    {
     "cell_type": "code",
     "collapsed": false,
     "input": [
      "f_o = sr /(2.0 * (argmax(cepstrum_o[50:100])+ 50))\n",
      "f_o"
     ],
     "language": "python",
     "metadata": {},
     "outputs": [],
     "prompt_number": null
    },
    {
     "cell_type": "code",
     "collapsed": false,
     "input": [
      "freqs = linspace(0, sr/2, 2049)\n",
      "plot(freqs, log_mag_spec_a)\n",
      "xlim((0, 500))\n",
      "vlines(f_a, 0, 14)\n",
      "grid()"
     ],
     "language": "python",
     "metadata": {},
     "outputs": [],
     "prompt_number": null
    },
    {
     "cell_type": "code",
     "collapsed": false,
     "input": [
      "freqs = linspace(0, sr/2, 2049)\n",
      "plot(freqs, log_mag_spec_e)\n",
      "xlim((0, 500))\n",
      "vlines(f_e, 0, 14)\n",
      "grid()"
     ],
     "language": "python",
     "metadata": {},
     "outputs": [],
     "prompt_number": null
    },
    {
     "cell_type": "code",
     "collapsed": false,
     "input": [
      "freqs = linspace(0, sr/2, 2049)\n",
      "plot(freqs, log_mag_spec_o)\n",
      "xlim((0, 500))\n",
      "vlines(f_o, 0, 16)\n",
      "grid()"
     ],
     "language": "python",
     "metadata": {},
     "outputs": [],
     "prompt_number": null
    },
    {
     "cell_type": "heading",
     "level": 2,
     "metadata": {},
     "source": [
      "Harmonic vs. noisy spectra"
     ]
    },
    {
     "cell_type": "code",
     "collapsed": false,
     "input": [
      "noise = 5000.0 * (random.random(2048) - 0.5)\n",
      "fourier_trans = rfft(noise * hanning(2048), n=4096)\n",
      "mag_spectrum_noise = abs(fourier_trans)\n",
      "log_mag_spec_noise = log(mag_spectrum_noise)\n",
      "plot(log_mag_spec_noise)"
     ],
     "language": "python",
     "metadata": {},
     "outputs": [],
     "prompt_number": null
    },
    {
     "cell_type": "code",
     "collapsed": false,
     "input": [
      "cepstrum_noise = ifft(log_mag_spec_noise)\n",
      "plot(abs(cepstrum_noise[1:]))"
     ],
     "language": "python",
     "metadata": {},
     "outputs": [],
     "prompt_number": null
    },
    {
     "cell_type": "code",
     "collapsed": false,
     "input": [
      "sinsig = 2500.0 * ((sin(linspace(0, 20*2*pi,2048))) + (sin(linspace(0, 40*2*pi,2048))))\n",
      "fourier_trans = rfft(sinsig * hanning(2048), n=4096)\n",
      "mag_spectrum_sinsig = abs(fourier_trans)\n",
      "log_mag_spec_sinsig = log(mag_spectrum_sinsig)\n",
      "plot(log_mag_spec_sinsig)"
     ],
     "language": "python",
     "metadata": {},
     "outputs": [],
     "prompt_number": null
    },
    {
     "cell_type": "code",
     "collapsed": false,
     "input": [
      "cepstrum_sinsig = ifft(log_mag_spec_sinsig)\n",
      "plot(abs(cepstrum_sinsig[1:]))"
     ],
     "language": "python",
     "metadata": {},
     "outputs": [],
     "prompt_number": null
    },
    {
     "cell_type": "markdown",
     "metadata": {},
     "source": [
      "The simplest way can be setting a threshold for the maximum value of the cepstrum, but other techniques to detect flatness or peakedness of the cepstrum can be used."
     ]
    },
    {
     "cell_type": "heading",
     "level": 1,
     "metadata": {},
     "source": [
      "Sinusoidal modeling"
     ]
    },
    {
     "cell_type": "markdown",
     "metadata": {},
     "source": [
      "A signal is modeled as a sum of time varying sinusoids:\n",
      "\n",
      "$$P_k(n) = \\alpha_k(n)\\sin(\\phi_k(n))$$\n",
      "\n",
      "The signal is the sum of each individual sinusoid:\n",
      "\n",
      "$$ s(n) = \\sum\\limits_{k}P_k(n)$$\n",
      "\n",
      "*n* is the point in time (sample number) and *k* is the index to each sinusoidal component.\n"
     ]
    },
    {
     "cell_type": "code",
     "collapsed": false,
     "input": [
      "Pxx, freqs, bins, im = specgram(e, 2048, 16000, noverlap=1024, pad_to=8192)"
     ],
     "language": "python",
     "metadata": {},
     "outputs": [],
     "prompt_number": null
    },
    {
     "cell_type": "code",
     "collapsed": false,
     "input": [
      "Pxx.shape"
     ],
     "language": "python",
     "metadata": {},
     "outputs": [],
     "prompt_number": null
    },
    {
     "cell_type": "code",
     "collapsed": false,
     "input": [
      "plot(Pxx[:,0])"
     ],
     "language": "python",
     "metadata": {},
     "outputs": [],
     "prompt_number": null
    },
    {
     "cell_type": "markdown",
     "metadata": {},
     "source": [
      "First we find the local maxima to identify peaks:"
     ]
    },
    {
     "cell_type": "code",
     "collapsed": false,
     "input": [
      "maxima = argwhere((Pxx[:-2,0] < Pxx[1:-1,0]) & (Pxx[2:,0] < Pxx[1:-1,0])) + 1"
     ],
     "language": "python",
     "metadata": {},
     "outputs": [],
     "prompt_number": null
    },
    {
     "cell_type": "code",
     "collapsed": false,
     "input": [
      "plot(Pxx[:,0])\n",
      "plot(maxima, Pxx[maxima, 0], 'o')"
     ],
     "language": "python",
     "metadata": {},
     "outputs": [],
     "prompt_number": null
    },
    {
     "cell_type": "markdown",
     "metadata": {},
     "source": [
      "Now filter by threshold (let's choose 1000):"
     ]
    },
    {
     "cell_type": "code",
     "collapsed": false,
     "input": [
      "peaks = [index for index in maxima if Pxx[index, 0] > 1000]\n",
      "peaks"
     ],
     "language": "python",
     "metadata": {},
     "outputs": [],
     "prompt_number": null
    },
    {
     "cell_type": "code",
     "collapsed": false,
     "input": [
      "plot(Pxx[:,0])\n",
      "plot(peaks, Pxx[peaks, 0], 'o')"
     ],
     "language": "python",
     "metadata": {},
     "outputs": [],
     "prompt_number": null
    },
    {
     "cell_type": "code",
     "collapsed": false,
     "input": [
      "peak_list = []\n",
      "for spec in Pxx.T:\n",
      "    maxima = argwhere((spec[:-2] < spec[1:-1]) & (spec[2:] < spec[1:-1])) + 1\n",
      "    peaks = [(freqs[index][0], spec[index][0]) for index in maxima if spec[index] > 1000]\n",
      "    peak_list.append(peaks)"
     ],
     "language": "python",
     "metadata": {},
     "outputs": [],
     "prompt_number": null
    },
    {
     "cell_type": "code",
     "collapsed": false,
     "input": [
      "A = (4,5)\n",
      "A[0] = 2"
     ],
     "language": "python",
     "metadata": {},
     "outputs": [],
     "prompt_number": null
    },
    {
     "cell_type": "code",
     "collapsed": false,
     "input": [
      "peak_list[0]"
     ],
     "language": "python",
     "metadata": {},
     "outputs": [],
     "prompt_number": null
    },
    {
     "cell_type": "code",
     "collapsed": false,
     "input": [
      "array(peak_list[0])"
     ],
     "language": "python",
     "metadata": {},
     "outputs": [],
     "prompt_number": null
    },
    {
     "cell_type": "code",
     "collapsed": false,
     "input": [
      "array(peak_list[0])[0]"
     ],
     "language": "python",
     "metadata": {},
     "outputs": [],
     "prompt_number": null
    },
    {
     "cell_type": "code",
     "collapsed": false,
     "input": [
      "array(peak_list[0])[0, 0]"
     ],
     "language": "python",
     "metadata": {},
     "outputs": [],
     "prompt_number": null
    },
    {
     "cell_type": "code",
     "collapsed": false,
     "input": [
      "array(peak_list[0])[:,0]"
     ],
     "language": "python",
     "metadata": {},
     "outputs": [],
     "prompt_number": null
    },
    {
     "cell_type": "code",
     "collapsed": false,
     "input": [
      "array(peak_list[0])[:,1] # amplitudes"
     ],
     "language": "python",
     "metadata": {},
     "outputs": [],
     "prompt_number": null
    },
    {
     "cell_type": "code",
     "collapsed": false,
     "input": [
      "for i, peaks in enumerate(peak_list):\n",
      "    freqs = array(peaks)[:,0]\n",
      "    plot(ones(len(freqs))*i, freqs, 'o')"
     ],
     "language": "python",
     "metadata": {},
     "outputs": [],
     "prompt_number": null
    },
    {
     "cell_type": "code",
     "collapsed": false,
     "input": [
      "specgram(e, 2048, 16000, noverlap=1024, pad_to=8192)\n",
      "for i, peaks in enumerate(peak_list):\n",
      "    freqs = array(peaks)[:,0]\n",
      "    plot(ones(len(freqs))*bins[i], freqs, 'o')"
     ],
     "language": "python",
     "metadata": {},
     "outputs": [],
     "prompt_number": null
    },
    {
     "cell_type": "code",
     "collapsed": false,
     "input": [
      "specgram(e, 2048, 16000, noverlap=1024, pad_to=8192, interpolation='nearest')\n",
      "for i, peaks in enumerate(peak_list):\n",
      "    freqs = array(peaks)[:,0]\n",
      "    plot(ones(len(freqs))*bins[i], freqs, 'o')\n",
      "\n",
      "ylim((0, 1000))"
     ],
     "language": "python",
     "metadata": {},
     "outputs": [],
     "prompt_number": null
    },
    {
     "cell_type": "markdown",
     "metadata": {},
     "source": [
      "Top part of the spectrum:"
     ]
    },
    {
     "cell_type": "code",
     "collapsed": false,
     "input": [
      "specgram(e, 2048, 16000, noverlap=1024, pad_to=8192, interpolation='nearest')\n",
      "for i, peaks in enumerate(peak_list):\n",
      "    freqs = array(peaks)[:,0]\n",
      "    plot(ones(len(freqs))*bins[i], freqs, 'o')\n",
      "\n",
      "ylim((1500, 3000))"
     ],
     "language": "python",
     "metadata": {},
     "outputs": [],
     "prompt_number": null
    },
    {
     "cell_type": "markdown",
     "metadata": {},
     "source": [
      "Now connect the dots. First start tracks at initial peak list:"
     ]
    },
    {
     "cell_type": "code",
     "collapsed": false,
     "input": [
      "tracks = [[r_[freq, amp, bins[0]]] for freq, amp in peak_list.pop(0)]\n",
      "tracks"
     ],
     "language": "python",
     "metadata": {},
     "outputs": [],
     "prompt_number": null
    },
    {
     "cell_type": "code",
     "collapsed": false,
     "input": [
      "tracks_ = array(tracks)\n",
      "tracks_, tracks_.shape"
     ],
     "language": "python",
     "metadata": {},
     "outputs": [],
     "prompt_number": null
    },
    {
     "cell_type": "markdown",
     "metadata": {},
     "source": [
      "Then start connecting frame by frame:"
     ]
    },
    {
     "cell_type": "code",
     "collapsed": false,
     "input": [
      "new_peaks = peak_list.pop(0)\n",
      "new_peaks"
     ],
     "language": "python",
     "metadata": {},
     "outputs": [],
     "prompt_number": null
    },
    {
     "cell_type": "code",
     "collapsed": false,
     "input": [
      "f = new_peaks[0][0]\n",
      "f"
     ],
     "language": "python",
     "metadata": {},
     "outputs": [],
     "prompt_number": null
    },
    {
     "cell_type": "code",
     "collapsed": false,
     "input": [
      "tracks[:]"
     ],
     "language": "python",
     "metadata": {},
     "outputs": [],
     "prompt_number": null
    },
    {
     "cell_type": "code",
     "collapsed": false,
     "input": [
      "last_bps_freq = []\n",
      "last_bps_time = []\n",
      "\n",
      "for bps in tracks:\n",
      "    last_bps_freq.append(bps[-1][0]) # get last breakpoint for all tracks\n",
      "    last_bps_time.append(bps[-1][2]) # get last breakpoint for all tracks\n",
      "\n",
      "print(last_bps_freq)"
     ],
     "language": "python",
     "metadata": {},
     "outputs": [],
     "prompt_number": null
    },
    {
     "cell_type": "code",
     "collapsed": false,
     "input": [
      "tracks[:]"
     ],
     "language": "python",
     "metadata": {},
     "outputs": [],
     "prompt_number": null
    },
    {
     "cell_type": "markdown",
     "metadata": {},
     "source": [
      "But last breakpoint must be from the previous frame!"
     ]
    },
    {
     "cell_type": "code",
     "collapsed": false,
     "input": [
      "previous_frame_time = bins[0]\n",
      "previous_frame_time"
     ],
     "language": "python",
     "metadata": {},
     "outputs": [],
     "prompt_number": null
    },
    {
     "cell_type": "code",
     "collapsed": false,
     "input": [
      "active_tracks = argwhere(last_bps_time == previous_frame_time)\n",
      "active_tracks = array(active_tracks)\n",
      "active_tracks"
     ],
     "language": "python",
     "metadata": {},
     "outputs": [],
     "prompt_number": null
    },
    {
     "cell_type": "code",
     "collapsed": false,
     "input": [
      "prev_freqs = array(tracks)[active_tracks,-1,0]\n",
      "prev_freqs"
     ],
     "language": "python",
     "metadata": {},
     "outputs": [],
     "prompt_number": null
    },
    {
     "cell_type": "code",
     "collapsed": false,
     "input": [
      "dists = abs(prev_freqs - f)\n",
      "dists"
     ],
     "language": "python",
     "metadata": {},
     "outputs": [],
     "prompt_number": null
    },
    {
     "cell_type": "code",
     "collapsed": false,
     "input": [
      "argmin(dists)"
     ],
     "language": "python",
     "metadata": {},
     "outputs": [],
     "prompt_number": null
    },
    {
     "cell_type": "code",
     "collapsed": false,
     "input": [
      "active_tracks[argmin(dists)]"
     ],
     "language": "python",
     "metadata": {},
     "outputs": [],
     "prompt_number": null
    },
    {
     "cell_type": "code",
     "collapsed": false,
     "input": [
      "best_matches = []\n",
      "for peak in new_peaks:\n",
      "    f = peak[0]\n",
      "    dists = abs(prev_freqs - f)\n",
      "    best_matches.append([active_tracks[argmin(dists)], dists.min()])\n",
      "\n",
      "best_matches = array(best_matches)\n",
      "best_matches"
     ],
     "language": "python",
     "metadata": {},
     "outputs": [],
     "prompt_number": null
    },
    {
     "cell_type": "markdown",
     "metadata": {},
     "source": [
      "Now that we have the best match for each of the new points, we need to decide which ones get connected."
     ]
    },
    {
     "cell_type": "code",
     "collapsed": false,
     "input": [
      "argwhere(best_matches[:, 0] == 0)"
     ],
     "language": "python",
     "metadata": {},
     "outputs": [],
     "prompt_number": null
    },
    {
     "cell_type": "code",
     "collapsed": false,
     "input": [
      "argwhere(best_matches[:, 0] == 3)"
     ],
     "language": "python",
     "metadata": {},
     "outputs": [],
     "prompt_number": null
    },
    {
     "cell_type": "code",
     "collapsed": false,
     "input": [
      "best_matches[argwhere(best_matches[:, 0] == 3)]"
     ],
     "language": "python",
     "metadata": {},
     "outputs": [],
     "prompt_number": null
    },
    {
     "cell_type": "code",
     "collapsed": false,
     "input": [
      "best_matches[argwhere(best_matches[:, 0] == 3)][:,:,1]"
     ],
     "language": "python",
     "metadata": {},
     "outputs": [],
     "prompt_number": null
    },
    {
     "cell_type": "code",
     "collapsed": false,
     "input": [
      "best_next = argmin(best_matches[argwhere(best_matches[:, 0] == 3)][:,:,1])\n",
      "best_next"
     ],
     "language": "python",
     "metadata": {},
     "outputs": [],
     "prompt_number": null
    },
    {
     "cell_type": "code",
     "collapsed": false,
     "input": [
      "best_next += argwhere(best_matches[:, 0] == 3)[0]\n",
      "best_next"
     ],
     "language": "python",
     "metadata": {},
     "outputs": [],
     "prompt_number": null
    },
    {
     "cell_type": "markdown",
     "metadata": {},
     "source": [
      "Check if close enough"
     ]
    },
    {
     "cell_type": "code",
     "collapsed": false,
     "input": [
      "dist_th = 500 # Set maximum distance allowed for connection\n",
      "if best_matches[best_next,1] < dist_th:\n",
      "    print(\"Match!\")"
     ],
     "language": "python",
     "metadata": {},
     "outputs": [],
     "prompt_number": null
    },
    {
     "cell_type": "markdown",
     "metadata": {},
     "source": [
      "Now, all together:"
     ]
    },
    {
     "cell_type": "code",
     "collapsed": false,
     "input": [
      "Pxx, freqs, bins, im = specgram(e, 2048, 16000, noverlap=1024, pad_to=8192)\n",
      "\n",
      "peak_list = []\n",
      "for spec in Pxx.T:\n",
      "    maxima = argwhere((spec[:-2] < spec[1:-1]) & (spec[2:] < spec[1:-1])) + 1\n",
      "    peaks = [(freqs[index], spec[index]) for index in maxima if spec[index] > 1000]\n",
      "    peak_list.append(peaks)\n",
      "\n",
      "tracks = [[r_[freq, amp, bins[0]]] for freq, amp in peak_list.pop(0)] #inital tracks from initial peaks\n",
      "tracks = array(tracks)"
     ],
     "language": "python",
     "metadata": {},
     "outputs": [],
     "prompt_number": null
    },
    {
     "cell_type": "code",
     "collapsed": false,
     "input": [
      "new_peaks = peak_list.pop(0)\n",
      "last_bps = tracks[:,-1,:]\n",
      "last_bps[:,2]\n",
      "previous_frame_time = 0.064\n",
      "\n",
      "active_tracks = argwhere(last_bps[:,2] == previous_frame_time)\n",
      "active_tracks = array(active_tracks)\n",
      "prev_freqs = tracks[active_tracks,-1,0]\n",
      "\n",
      "best_matches = []\n",
      "for peak in new_peaks:\n",
      "    f = peak[0]\n",
      "    dists = abs(prev_freqs - f)\n",
      "    best_matches.append([active_tracks[argmin(dists)][0], dists.min()])\n",
      "\n",
      "best_matches = array(best_matches)\n",
      "connections = dict()\n",
      "\n",
      "for i in set(best_matches[:, 0]):\n",
      "    best_next = argmin(best_matches[argwhere(best_matches[:, 0] == i)][:,:,1])\n",
      "    best_next += argwhere(best_matches[:, 0] == i)[0]\n",
      "    connections[int(i)] = best_next[0]\n",
      "\n",
      "connections"
     ],
     "language": "python",
     "metadata": {},
     "outputs": [],
     "prompt_number": null
    },
    {
     "cell_type": "code",
     "collapsed": false,
     "input": [],
     "language": "python",
     "metadata": {},
     "outputs": []
    },
    {
     "cell_type": "markdown",
     "metadata": {},
     "source": [
      "Finally place breakpoints in tracks. (Exercise left to the reader)\n",
      "\n",
      "Try sinusoidal modeling:\n",
      "\n",
      "http://www.klingbeil.com/spear/\n",
      "\n",
      "http://mtg.upf.edu/technologies/sms\n",
      "\n",
      "http://www.cerlsoundgroup.org/Loris/\n",
      "\n",
      "http://www.csounds.com/manual/html/SpectralATS.html\n",
      "\n",
      "Streaming real-time:\n",
      "\n",
      "* http://www.csounds.com/manual/html/partials.html\n",
      "* http://doc.sccode.org/Classes/TPV.html"
     ]
    },
    {
     "cell_type": "markdown",
     "metadata": {},
     "source": [
      "By: Andr\u00e9s Cabrera mantaraya36@gmail.com\n",
      "For MAT course MAT 201A at UCSB\n",
      "\n",
      "This ipython notebook is licensed under the CC-BY-NC-SA license: http://creativecommons.org/licenses/by-nc-sa/4.0/\n",
      "\n",
      "![http://i.creativecommons.org/l/by-nc-sa/3.0/88x31.png](http://i.creativecommons.org/l/by-nc-sa/3.0/88x31.png)"
     ]
    }
   ],
   "metadata": {}
  }
 ]
}
