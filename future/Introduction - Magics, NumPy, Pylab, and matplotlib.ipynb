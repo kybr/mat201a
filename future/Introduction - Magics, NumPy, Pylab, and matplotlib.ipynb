{
 "cells": [
  {
   "cell_type": "code",
   "execution_count": null,
   "metadata": {
    "deletable": true,
    "editable": true
   },
   "outputs": [],
   "source": [
    "%pylab inline"
   ]
  },
  {
   "cell_type": "markdown",
   "metadata": {
    "deletable": true,
    "editable": true
   },
   "source": [
    "You will often see the cell above at the top of our notebooks. This is an example of what's called a \"magic\". Magic's consist of the `%` character followed by a word that is the name of the magic. Magics are an IPython thing. They are used as shortcuts that perform a series of actions that might be considered tetious or overly verbose in the context of notebooks. For instance, `%pylab inline` as the effect of executing these lines:\n",
    "\n",
    "```python\n",
    "import numpy\n",
    "import matplotlib\n",
    "from matplotlib import pylab, mlab, pyplot\n",
    "np = numpy\n",
    "plt = pyplot\n",
    "\n",
    "from IPython.display import display\n",
    "from IPython.core.pylabtools import figsize, getfigs\n",
    "\n",
    "from pylab import *\n",
    "from numpy import *\n",
    "\n",
    "```\n",
    "\n",
    "Read about magics [here](http://ipython.readthedocs.io/en/stable/interactive/magics.html).\n",
    "\n",
    "The pylab magic performs imports that allow us to use numpy arrays and plot data as shown in the cell below."
   ]
  },
  {
   "cell_type": "code",
   "execution_count": null,
   "metadata": {},
   "outputs": [],
   "source": [
    "wt = linspace(0, 6 * pi, 1000)\n",
    "x = cos(wt)\n",
    "plot(wt, x)"
   ]
  }
 ],
 "metadata": {
  "kernelspec": {
   "display_name": "Python 3",
   "language": "python",
   "name": "python3"
  },
  "language_info": {
   "codemirror_mode": {
    "name": "ipython",
    "version": 3
   },
   "file_extension": ".py",
   "mimetype": "text/x-python",
   "name": "python",
   "nbconvert_exporter": "python",
   "pygments_lexer": "ipython3",
   "version": "3.6.1"
  }
 },
 "nbformat": 4,
 "nbformat_minor": 0
}
