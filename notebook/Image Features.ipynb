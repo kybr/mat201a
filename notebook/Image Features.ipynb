{
 "cells": [
  {
   "cell_type": "code",
   "execution_count": null,
   "metadata": {},
   "outputs": [],
   "source": [
    "%pylab inline\n",
    "rcParams['figure.figsize'] = (10, 4) #wide graphs by default\n",
    "from __future__ import print_function\n",
    "from __future__ import division"
   ]
  },
  {
   "cell_type": "code",
   "execution_count": null,
   "metadata": {},
   "outputs": [],
   "source": [
    "from scipy.misc import lena\n",
    "lenabw = lena()/float(lena().max())\n",
    "imshow(lenabw, cmap=cm.gray)"
   ]
  },
  {
   "cell_type": "code",
   "execution_count": null,
   "metadata": {},
   "outputs": [],
   "source": [
    "lena().max(), lena().dtype"
   ]
  },
  {
   "cell_type": "code",
   "execution_count": null,
   "metadata": {},
   "outputs": [],
   "source": [
    "from scipy.ndimage.filters import sobel\n",
    "sx = sobel(lenabw, axis=1)\n",
    "sy = sobel(lenabw, axis=0)\n",
    "sxy = hypot(sx, sy)\n",
    "imshow(sxy, cmap=cm.gray)\n",
    "colorbar()"
   ]
  },
  {
   "cell_type": "code",
   "execution_count": null,
   "metadata": {},
   "outputs": [],
   "source": [
    "imshow(sxy*100.0, cmap=cm.gray)\n",
    "colorbar()"
   ]
  },
  {
   "cell_type": "code",
   "execution_count": null,
   "metadata": {},
   "outputs": [],
   "source": [
    "from scipy.ndimage import measurements\n",
    "h = measurements.histogram(lenabw, 0, 1, 256)\n",
    "plot(h)\n",
    "grid()"
   ]
  },
  {
   "cell_type": "code",
   "execution_count": null,
   "metadata": {},
   "outputs": [],
   "source": [
    "h = measurements.histogram(sxy, 0, sxy.max(), 256)\n",
    "plot(h)"
   ]
  },
  {
   "cell_type": "code",
   "execution_count": null,
   "metadata": {},
   "outputs": [],
   "source": [
    "plot(linspace(0, sxy.max(), len(h)), h)\n",
    "grid()"
   ]
  },
  {
   "cell_type": "code",
   "execution_count": null,
   "metadata": {},
   "outputs": [],
   "source": [
    "subplot(131)\n",
    "imshow(where(sxy > 0.2, 1, 0), cmap=cm.gray) \n",
    "subplot(132)\n",
    "imshow(where(sxy > 0.4, 1, 0), cmap=cm.gray) "
   ]
  },
  {
   "cell_type": "code",
   "execution_count": null,
   "metadata": {},
   "outputs": [],
   "source": [
    "plot(linspace(0, sxy.max(), len(h)), h)\n",
    "grid()\n",
    "vlines((0.1, 0.2, 0.4), 0.001, h.max())"
   ]
  },
  {
   "cell_type": "code",
   "execution_count": null,
   "metadata": {},
   "outputs": [],
   "source": [
    "imshow(where(sxy > 0.1, 1, 0), cmap=cm.gray) "
   ]
  },
  {
   "cell_type": "code",
   "execution_count": null,
   "metadata": {},
   "outputs": [],
   "source": [
    "from scipy.integrate import cumtrapz\n",
    "plot(cumtrapz(h), \"o-\")\n",
    "grid()"
   ]
  },
  {
   "cell_type": "code",
   "execution_count": null,
   "metadata": {},
   "outputs": [],
   "source": [
    "argwhere(cumtrapz(h) > cumtrapz(h).max()/2.0)[0]"
   ]
  },
  {
   "cell_type": "code",
   "execution_count": null,
   "metadata": {},
   "outputs": [],
   "source": [
    "7/256.0"
   ]
  },
  {
   "cell_type": "code",
   "execution_count": null,
   "metadata": {},
   "outputs": [],
   "source": [
    "argwhere(cumtrapz(h) > cumtrapz(h).max()*0.75)[0]/256.0"
   ]
  },
  {
   "cell_type": "markdown",
   "metadata": {},
   "source": [
    "To automate threshold setting, maybe you want to find the point at which the derivative of the cumulative integral is a certain value (i.e. the slope of the cumtrapz output)"
   ]
  },
  {
   "cell_type": "markdown",
   "metadata": {},
   "source": [
    "# Edge detection"
   ]
  },
  {
   "cell_type": "markdown",
   "metadata": {},
   "source": [
    "Edge detection is easy by looking at the derivative of a signal:"
   ]
  },
  {
   "cell_type": "code",
   "execution_count": null,
   "metadata": {},
   "outputs": [],
   "source": [
    "edge = r_[zeros((200)), linspace(0,1, 100), ones((100))]\n",
    "subplot(131); imshow((edge,), aspect='auto', cmap=cm.gray)\n",
    "subplot(132); plot(edge)\n",
    "subplot(133); plot(diff(edge))"
   ]
  },
  {
   "cell_type": "markdown",
   "metadata": {},
   "source": [
    "But, what if there is noise?"
   ]
  },
  {
   "cell_type": "code",
   "execution_count": null,
   "metadata": {},
   "outputs": [],
   "source": [
    "noisy_edge = edge + random.random(edge.shape)*0.05\n",
    "subplot(131); imshow((noisy_edge,), aspect='auto', cmap=cm.gray)\n",
    "subplot(132); plot(noisy_edge)\n",
    "subplot(133); plot(diff(noisy_edge))"
   ]
  },
  {
   "cell_type": "markdown",
   "metadata": {},
   "source": [
    "## Marr-Hildreth Edge detection"
   ]
  },
  {
   "cell_type": "markdown",
   "metadata": {},
   "source": [
    "1. Laplacian of Gaussian : i.e. smooth and then take the second derivative http://en.wikipedia.org/wiki/Laplace_operator\n",
    "2. Threshold at 0\n",
    "3. Apply high pass filter\n",
    "\n"
   ]
  },
  {
   "cell_type": "code",
   "execution_count": null,
   "metadata": {},
   "outputs": [],
   "source": [
    "subplot(121); plot(noisy_edge)\n",
    "subplot(122); plot(convolve(noisy_edge, ones(50)/50.0)[:400])"
   ]
  },
  {
   "cell_type": "code",
   "execution_count": null,
   "metadata": {},
   "outputs": [],
   "source": [
    "edge = r_[zeros((200)), linspace(0,1, 100), ones((100))]\n",
    "subplot(141); imshow((edge,), aspect='auto', cmap=cm.gray)\n",
    "subplot(142); plot(edge)\n",
    "subplot(143); plot(diff(edge))\n",
    "subplot(144); plot(diff(diff(edge)))"
   ]
  },
  {
   "cell_type": "code",
   "execution_count": null,
   "metadata": {},
   "outputs": [],
   "source": [
    "smoothed = convolve(noisy_edge, ones(100)/100.0, mode='valid')\n",
    "subplot(131)\n",
    "plot(smoothed)\n",
    "subplot(132)\n",
    "plot(diff(smoothed))\n",
    "subplot(133)\n",
    "plot(diff(diff(smoothed)))\n",
    "ylim((-0.003, 0.003))\n"
   ]
  },
  {
   "cell_type": "code",
   "execution_count": null,
   "metadata": {},
   "outputs": [],
   "source": [
    "from scipy.ndimage import gaussian_laplace\n",
    "LoG = gaussian_laplace(lenabw, 4)\n",
    "imshow(LoG, cmap=cm.gray)\n",
    "colorbar()"
   ]
  },
  {
   "cell_type": "code",
   "execution_count": null,
   "metadata": {},
   "outputs": [],
   "source": [
    "th = LoG > 0\n",
    "subplot(132)\n",
    "imshow(th, cmap=cm.gray);"
   ]
  },
  {
   "cell_type": "code",
   "execution_count": null,
   "metadata": {},
   "outputs": [],
   "source": [
    "from scipy.ndimage.filters import convolve as convolve2\n",
    "kernel = [[-1,-1,-1], [-1, 8, -1], [-1,-1,-1]]\n",
    "MHedges = convolve2(th, kernel)\n",
    "\n",
    "subplot(121)\n",
    "imshow(MHedges, cmap=cm.gray)\n",
    "colorbar()\n",
    "\n",
    "subplot(122)\n",
    "imshow(lenabw, cmap=cm.gray)\n",
    "colorbar()"
   ]
  },
  {
   "cell_type": "markdown",
   "metadata": {},
   "source": [
    "We \"see\" other edges!\n",
    "\n",
    "From Gestalt theory:\n",
    "\n",
    "![http://upload.wikimedia.org/wikipedia/commons/6/63/Reification.jpg](http://upload.wikimedia.org/wikipedia/commons/6/63/Reification.jpg)\n",
    "\n",
    "http://en.wikipedia.org/wiki/Gestalt_psychology"
   ]
  },
  {
   "cell_type": "code",
   "execution_count": null,
   "metadata": {},
   "outputs": [],
   "source": [
    "LoG = gaussian_laplace(lenabw, 8)\n",
    "subplot(131); imshow(LoG, cmap=cm.gray)\n",
    "th = LoG > 0\n",
    "subplot(132); imshow(th, cmap=cm.gray)\n",
    "kernel = [[-1,-1,-1], [-1, 8, -1], [-1,-1,-1]]\n",
    "MHedges_lena = convolve2(th, kernel)\n",
    "subplot(133); imshow(MHedges_lena, cmap=cm.gray)"
   ]
  },
  {
   "cell_type": "code",
   "execution_count": null,
   "metadata": {},
   "outputs": [],
   "source": [
    "LoG = gaussian_laplace(lenabw, 1)\n",
    "subplot(131); imshow(LoG, cmap=cm.gray)\n",
    "th = LoG > 0\n",
    "subplot(132); imshow(th, cmap=cm.gray)\n",
    "kernel = [[-1,-1,-1], [-1, 8, -1], [-1,-1,-1]]\n",
    "MHedges_lena2 = convolve2(th, kernel)\n",
    "subplot(133); imshow(MHedges_lena2, cmap=cm.gray)"
   ]
  },
  {
   "cell_type": "code",
   "execution_count": null,
   "metadata": {},
   "outputs": [],
   "source": [
    "fruits = sum(imread('vitamy fruits.png'), axis=2)\n",
    "imshow(fruits, cmap=cm.gray)"
   ]
  },
  {
   "cell_type": "code",
   "execution_count": null,
   "metadata": {},
   "outputs": [],
   "source": [
    "LoG = gaussian_laplace(fruits, 4)\n",
    "subplot(131)\n",
    "imshow(LoG, cmap=cm.gray)\n",
    "\n",
    "subplot(132)\n",
    "th = LoG > 0\n",
    "\n",
    "imshow(th, cmap=cm.gray)\n",
    "\n",
    "subplot(133)\n",
    "kernel = [[-1,-1,-1], [-1, 8, -1], [-1,-1,-1]]\n",
    "MHedges = convolve2(th, kernel)\n",
    "imshow(MHedges, cmap=cm.gray)"
   ]
  },
  {
   "cell_type": "code",
   "execution_count": null,
   "metadata": {},
   "outputs": [],
   "source": [
    "imshow(MHedges, cmap=cm.gray)"
   ]
  },
  {
   "cell_type": "code",
   "execution_count": null,
   "metadata": {},
   "outputs": [],
   "source": [
    "LoG = gaussian_laplace(fruits, 8)\n",
    "subplot(131); imshow(LoG, cmap=cm.gray)\n",
    "th = LoG > 0\n",
    "subplot(132); imshow(th, cmap=cm.gray)\n",
    "kernel = [[-1,-1,-1], [-1, 8, -1], [-1,-1,-1]]\n",
    "MHedges = convolve2(th, kernel)\n",
    "subplot(133); imshow(MHedges, cmap=cm.gray)"
   ]
  },
  {
   "cell_type": "code",
   "execution_count": null,
   "metadata": {},
   "outputs": [],
   "source": [
    "LoG = gaussian_laplace(fruits, 8)\n",
    "subplot(131); imshow(LoG, cmap=cm.gray)\n",
    "th = LoG > 0\n",
    "subplot(132); imshow(th, cmap=cm.gray)\n",
    "kernel = [[-1,-1,-1], [-1, 8, -1], [-1,-1,-1]]\n",
    "MHedges = convolve2(th, kernel)\n",
    "\n",
    "subplot(133)\n",
    "imshow(MHedges, cmap=cm.gray)"
   ]
  },
  {
   "cell_type": "code",
   "execution_count": null,
   "metadata": {},
   "outputs": [],
   "source": [
    "imshow(MHedges, cmap=cm.gray)"
   ]
  },
  {
   "cell_type": "code",
   "execution_count": null,
   "metadata": {},
   "outputs": [],
   "source": [
    "coins = imread('coins.png')\n",
    "imshow(coins, cmap=cm.gray)"
   ]
  },
  {
   "cell_type": "code",
   "execution_count": null,
   "metadata": {},
   "outputs": [],
   "source": [
    "LoG = gaussian_laplace(coins, 8)\n",
    "subplot(131); imshow(LoG, cmap=cm.gray)\n",
    "th = LoG > 0\n",
    "subplot(132); imshow(th, cmap=cm.gray)\n",
    "kernel = [[-1,-1,-1], [-1, 8, -1], [-1,-1,-1]]\n",
    "MHedges = convolve2(th, kernel)\n",
    "\n",
    "subplot(133)\n",
    "imshow(MHedges, cmap=cm.gray)"
   ]
  },
  {
   "cell_type": "markdown",
   "metadata": {},
   "source": [
    "## Canny Edge Detection"
   ]
  },
  {
   "cell_type": "code",
   "execution_count": null,
   "metadata": {},
   "outputs": [],
   "source": [
    "from scipy.ndimage.filters import gaussian_filter\n",
    "sm = gaussian_filter(fruits, 4)\n",
    "sx = sobel(sm, axis=1)\n",
    "sy = sobel(sm, axis=0)\n",
    "sxy = hypot(sx, sy)\n",
    "imshow(sxy, cmap=cm.gray)"
   ]
  },
  {
   "cell_type": "code",
   "execution_count": null,
   "metadata": {},
   "outputs": [],
   "source": [
    "sx = sobel(sm, axis=1)\n",
    "sy = sobel(sm, axis=0)\n",
    "a = sy/sx\n",
    "a = where(isnan(a), 0, a)\n",
    "fruit_angle = arctan2(sy, sx)\n",
    "\n",
    "imshow(fruit_angle)\n",
    "colorbar()\n",
    "fruit_angle.max(), fruit_angle.min(), fruit_angle[500, 100]"
   ]
  },
  {
   "cell_type": "markdown",
   "metadata": {},
   "source": [
    "### Scikits image\n",
    "\n",
    "Provides extended image processing capabilities\n",
    "\n",
    "http://scikit-image.org/docs/dev/api/skimage.html\n",
    "\n",
    "like:"
   ]
  },
  {
   "cell_type": "code",
   "execution_count": null,
   "metadata": {},
   "outputs": [],
   "source": [
    "'''canny.py - Canny Edge detector\n",
    "\n",
    "Reference: Canny, J., A Computational Approach To Edge Detection, IEEE Trans.\n",
    "    Pattern Analysis and Machine Intelligence, 8:679-714, 1986\n",
    "\n",
    "Originally part of CellProfiler, code licensed under both GPL and BSD licenses.\n",
    "Website: http://www.cellprofiler.org\n",
    "Copyright (c) 2003-2009 Massachusetts Institute of Technology\n",
    "Copyright (c) 2009-2011 Broad Institute\n",
    "All rights reserved.\n",
    "Original author: Lee Kamentsky\n",
    "\n",
    "    Canny, J., A Computational Approach To Edge Detection, IEEE Trans.\n",
    "    Pattern Analysis and Machine Intelligence, 8:679-714, 1986\n",
    "\n",
    "    William Green' Canny tutorial\n",
    "    http://dasl.mem.drexel.edu/alumni/bGreen/www.pages.drexel.edu/_weg22/can_tut.html\n",
    "'''\n",
    "\n",
    "import skimage.filter as filters\n"
   ]
  },
  {
   "cell_type": "code",
   "execution_count": null,
   "metadata": {},
   "outputs": [],
   "source": [
    "fruits_canny = filters.canny(fruits, 4)\n",
    "imshow(fruits_canny, cmap=cm.gray)\n"
   ]
  },
  {
   "cell_type": "code",
   "execution_count": null,
   "metadata": {},
   "outputs": [],
   "source": [
    "fruits_canny = filters.canny(fruits, 2)\n",
    "imshow(fruits_canny, cmap=cm.gray)"
   ]
  },
  {
   "cell_type": "code",
   "execution_count": null,
   "metadata": {},
   "outputs": [],
   "source": [
    "fruits_canny = filters.canny(fruits, 2, 0.05, 0.4)\n",
    "imshow(fruits_canny, cmap=cm.gray)"
   ]
  },
  {
   "cell_type": "code",
   "execution_count": null,
   "metadata": {},
   "outputs": [],
   "source": [
    "fruits_canny = filters.canny(fruits, 2, 0.14, 0.18)\n",
    "imshow(fruits_canny, cmap=cm.gray)"
   ]
  },
  {
   "cell_type": "code",
   "execution_count": null,
   "metadata": {},
   "outputs": [],
   "source": [
    "lena_canny = filters.canny(lenabw, 2)\n",
    "subplot(131); imshow(lena_canny, cmap= cm.gray)\n",
    "subplot(132); imshow(MHedges_lena, cmap=cm.gray)"
   ]
  },
  {
   "cell_type": "code",
   "execution_count": null,
   "metadata": {},
   "outputs": [],
   "source": [
    "subplot(131); imshow(coins, cmap=cm.gray)\n",
    "coins_canny = filters.canny(coins, 2)\n",
    "subplot(132); imshow(coins_canny, cmap= cm.gray)\n",
    "coins_canny = filters.canny(coins, 4)\n",
    "subplot(133); imshow(coins_canny, cmap=cm.gray)"
   ]
  },
  {
   "cell_type": "markdown",
   "metadata": {},
   "source": [
    "# Ridge/Valley detection"
   ]
  },
  {
   "cell_type": "code",
   "execution_count": null,
   "metadata": {},
   "outputs": [],
   "source": [
    "aerial = imread('aerial.png')\n",
    "aerialbw = sum(aerial, axis=2)/3.0\n",
    "imshow(aerialbw, cmap=cm.gray)\n",
    "colorbar()"
   ]
  },
  {
   "cell_type": "code",
   "execution_count": null,
   "metadata": {},
   "outputs": [],
   "source": [
    "LoG = gaussian_laplace(aerialbw, 24)\n",
    "subplot(131); imshow(LoG, cmap=cm.gray)\n",
    "th = where(LoG > 0, 1.0, 0.0)\n",
    "subplot(132); imshow(th, cmap=cm.gray)"
   ]
  },
  {
   "cell_type": "code",
   "execution_count": null,
   "metadata": {},
   "outputs": [],
   "source": [
    "sm = gaussian_filter(th , 8)\n",
    "imshow(sm, cmap=cm.gray)"
   ]
  },
  {
   "cell_type": "code",
   "execution_count": null,
   "metadata": {},
   "outputs": [],
   "source": [
    "sm = gaussian_filter(th , 4)\n",
    "imshow(1 - sm, cmap=cm.gray)"
   ]
  },
  {
   "cell_type": "code",
   "execution_count": null,
   "metadata": {},
   "outputs": [],
   "source": [
    "smoothed = 1 - sm\n",
    "imshow(diff(smoothed) == 0, cmap=cm.gray)"
   ]
  },
  {
   "cell_type": "markdown",
   "metadata": {},
   "source": [
    "Then morphology filters and skeletonize."
   ]
  },
  {
   "cell_type": "code",
   "execution_count": null,
   "metadata": {},
   "outputs": [],
   "source": [
    "sm = where(sm > 0.5, 0, 1)\n",
    "imshow(sm, cmap=cm.gray)"
   ]
  },
  {
   "cell_type": "code",
   "execution_count": null,
   "metadata": {},
   "outputs": [],
   "source": [
    "import skimage.morphology as morphology"
   ]
  },
  {
   "cell_type": "code",
   "execution_count": null,
   "metadata": {},
   "outputs": [],
   "source": [
    "eroded = morphology.binary_erosion(sm, ones((20,20)))\n",
    "imshow(eroded, cmap=cm.gray)"
   ]
  },
  {
   "cell_type": "code",
   "execution_count": null,
   "metadata": {},
   "outputs": [],
   "source": [
    "subplot(121)\n",
    "imshow(eroded[400:700, 400:700], cmap=cm.gray, interpolation='nearest')\n",
    "subplot(122)\n",
    "imshow(morphology.medial_axis(eroded[400:800, 400:800]), cmap=cm.gray, interpolation='nearest')"
   ]
  },
  {
   "cell_type": "markdown",
   "metadata": {},
   "source": [
    "## Hough transform"
   ]
  },
  {
   "cell_type": "code",
   "execution_count": null,
   "metadata": {},
   "outputs": [],
   "source": [
    "#from scikits image\n",
    "def hough(img, theta=None):\n",
    "    if img.ndim != 2:\n",
    "        raise ValueError('The input image must be 2-D')\n",
    "\n",
    "    if theta is None:\n",
    "        theta = np.linspace(-np.pi / 2, np.pi / 2, 179, endpoint=False)\n",
    "\n",
    "    # compute the vertical bins (the distances)\n",
    "    d = np.ceil(np.hypot(*img.shape))\n",
    "    nr_bins = 2 * d\n",
    "    bins = np.linspace(-d, d, nr_bins)\n",
    "\n",
    "    # allocate the output image\n",
    "    out = np.zeros((nr_bins, len(theta)), dtype=np.uint64)\n",
    "\n",
    "    # precompute the sin and cos of the angles\n",
    "    cos_theta = np.cos(theta)\n",
    "    sin_theta = np.sin(theta)\n",
    "\n",
    "    # find the indices of the non-zero values in\n",
    "    # the input image\n",
    "    y, x = np.nonzero(img)\n",
    "\n",
    "    # x and y can be large, so we can't just broadcast to 2D\n",
    "    # arrays as we may run out of memory. Instead we process\n",
    "    # one vertical slice at a time.\n",
    "    for i, (cT, sT) in enumerate(zip(cos_theta, sin_theta)):\n",
    "\n",
    "        # compute the base distances\n",
    "        distances = x * cT + y * sT\n",
    "\n",
    "        # round the distances to the nearest integer\n",
    "        # and shift them to a nonzero bin\n",
    "        shifted = np.round(distances) - bins[0]\n",
    "\n",
    "        # cast the shifted values to ints to use as indices\n",
    "        indices = shifted.astype(np.int)\n",
    "\n",
    "        # use bin count to accumulate the coefficients\n",
    "        bincount = np.bincount(indices)\n",
    "\n",
    "        # finally assign the proper values to the out array\n",
    "        out[:len(bincount), i] = bincount\n",
    "\n",
    "    return out, theta, bins"
   ]
  },
  {
   "cell_type": "code",
   "execution_count": null,
   "metadata": {},
   "outputs": [],
   "source": [
    "test_image = zeros((50, 50))\n",
    "test_image[range(20),range(20)] = 1\n",
    "imshow(test_image)"
   ]
  },
  {
   "cell_type": "code",
   "execution_count": null,
   "metadata": {},
   "outputs": [],
   "source": [
    "h, theta, d = hough(test_image)\n",
    "imshow(h, cmap= cm.binary, extent=[rad2deg(theta[0]), rad2deg(theta[-1]), d[-1], d[0]])"
   ]
  },
  {
   "cell_type": "code",
   "execution_count": null,
   "metadata": {},
   "outputs": [],
   "source": [
    "h.shape"
   ]
  },
  {
   "cell_type": "code",
   "execution_count": null,
   "metadata": {},
   "outputs": [],
   "source": [
    "hypot(50,50) # maximum distance measured by Hough transform"
   ]
  },
  {
   "cell_type": "code",
   "execution_count": null,
   "metadata": {},
   "outputs": [],
   "source": [
    "argmax(h)"
   ]
  },
  {
   "cell_type": "code",
   "execution_count": null,
   "metadata": {},
   "outputs": [],
   "source": [
    "unravel_index(argmax(h),h.shape)"
   ]
  },
  {
   "cell_type": "code",
   "execution_count": null,
   "metadata": {},
   "outputs": [],
   "source": [
    "print(rad2deg(theta[44]), d[71])"
   ]
  },
  {
   "cell_type": "code",
   "execution_count": null,
   "metadata": {},
   "outputs": [],
   "source": [
    "test_image = zeros((50, 50))\n",
    "test_image[range(20),range(20)] = 1\n",
    "test_image[arange(24) + 15, (arange(24)*2)] = 1\n",
    "imshow(test_image, cmap=cm.gray, interpolation='nearest')\n",
    "ylim((0, 50))"
   ]
  },
  {
   "cell_type": "code",
   "execution_count": null,
   "metadata": {},
   "outputs": [],
   "source": [
    "h, theta, d = hough(test_image)\n",
    "imshow(h, cmap= cm.binary , extent=[rad2deg(theta[-1]), rad2deg(theta[0]), d[-1], d[0]])\n",
    "unravel_index(argmax(h),h.shape)\n",
    "colorbar()"
   ]
  },
  {
   "cell_type": "code",
   "execution_count": null,
   "metadata": {},
   "outputs": [],
   "source": [
    "h.max()"
   ]
  },
  {
   "cell_type": "code",
   "execution_count": null,
   "metadata": {},
   "outputs": [],
   "source": [
    "i_r, i_t = unravel_index(argmax(h),h.shape)\n",
    "print(rad2deg(theta[i_t]), d[i_r])"
   ]
  },
  {
   "cell_type": "code",
   "execution_count": null,
   "metadata": {},
   "outputs": [],
   "source": [
    "img = np.zeros((100, 150), dtype=bool)\n",
    "img[30, :] = 1\n",
    "img[:, 65] = 1\n",
    "img[35:45, 35:50] = 1\n",
    "for i in range(90):\n",
    "    img[i, i] = 1\n",
    "img += np.random.random(img.shape) > 0.95\n",
    "imshow(img, cmap=cm.gray)\n",
    "ylim((0,100))"
   ]
  },
  {
   "cell_type": "code",
   "execution_count": null,
   "metadata": {},
   "outputs": [],
   "source": [
    "h, theta, d = hough(img)\n",
    "imshow(h, cmap= cm.binary, extent=[rad2deg(theta[0]), rad2deg(theta[-1]), d[0], d[-1]], aspect='auto')\n",
    "colorbar()"
   ]
  },
  {
   "cell_type": "code",
   "execution_count": null,
   "metadata": {},
   "outputs": [],
   "source": [
    "argsort(h.flat)[-3:]"
   ]
  },
  {
   "cell_type": "code",
   "execution_count": null,
   "metadata": {},
   "outputs": [],
   "source": [
    "for index in argsort(h.flat)[-3:]:\n",
    "    i_r, i_t = unravel_index(index,h.shape)\n",
    "    print(rad2deg(theta[i_t]), d[i_r])"
   ]
  },
  {
   "cell_type": "code",
   "execution_count": null,
   "metadata": {},
   "outputs": [],
   "source": [
    "for index in argsort(h.flat)[-6:]:\n",
    "    i_r, i_t = unravel_index(index,h.shape)\n",
    "    print(rad2deg(theta[i_t]), d[i_r])"
   ]
  },
  {
   "cell_type": "code",
   "execution_count": null,
   "metadata": {},
   "outputs": [],
   "source": [
    "# from http://stackoverflow.com/questions/9111711/get-coordinates-of-local-maxima-in-2d-array-above-certain-value\n",
    "import scipy.ndimage.filters as filters\n",
    "\n",
    "threshold = 0\n",
    "\n",
    "neighborhood_size = 5\n",
    "data_max = filters.maximum_filter(h, neighborhood_size)\n",
    "maxima = (h == data_max)\n",
    "data_min = filters.minimum_filter(h, neighborhood_size)\n",
    "diff = ((data_max - data_min) > threshold)\n",
    "maxima[diff == 0] = 0"
   ]
  },
  {
   "cell_type": "code",
   "execution_count": null,
   "metadata": {},
   "outputs": [],
   "source": [
    "imshow(maxima, aspect='auto', cmap=cm.gray)"
   ]
  },
  {
   "cell_type": "code",
   "execution_count": null,
   "metadata": {},
   "outputs": [],
   "source": [
    "threshold = 30\n",
    "neighborhood_size = 5\n",
    "data_max = filters.maximum_filter(h, neighborhood_size)\n",
    "maxima = (h == data_max)\n",
    "data_min = filters.minimum_filter(h, neighborhood_size)\n",
    "diff = ((data_max - data_min) > threshold)\n",
    "maxima[diff == 0] = 0\n",
    "imshow(maxima, aspect='auto', cmap=cm.gray, interpolation='nearest')"
   ]
  },
  {
   "cell_type": "code",
   "execution_count": null,
   "metadata": {},
   "outputs": [],
   "source": [
    "argwhere(maxima)"
   ]
  },
  {
   "cell_type": "code",
   "execution_count": null,
   "metadata": {},
   "outputs": [],
   "source": [
    "for i_r, i_t in argwhere(maxima):\n",
    "    print(rad2deg(theta[i_t]), d[i_r])"
   ]
  },
  {
   "cell_type": "code",
   "execution_count": null,
   "metadata": {},
   "outputs": [],
   "source": [
    "imshow(img, cmap=cm.gray)"
   ]
  },
  {
   "cell_type": "markdown",
   "metadata": {},
   "source": [
    "## Corner detection"
   ]
  },
  {
   "cell_type": "markdown",
   "metadata": {},
   "source": [
    "http://www.janeriksolem.net/2009/01/harris-corner-detector-in-python.html"
   ]
  },
  {
   "cell_type": "code",
   "execution_count": null,
   "metadata": {},
   "outputs": [],
   "source": [
    "from skimage import data\n",
    "from skimage.feature import corner_harris, corner_subpix, corner_peaks\n",
    "from skimage.transform import warp, AffineTransform\n",
    "from skimage.draw import ellipse\n",
    "\n",
    "tform = AffineTransform(scale=(1.3, 1.1), rotation=1, shear=0.7,\n",
    "                        translation=(210, 50))\n",
    "image = warp(data.checkerboard(), tform.inverse, output_shape=(350, 350))\n",
    "rr, cc = ellipse(310, 175, 10, 100)\n",
    "image[rr, cc] = 1\n",
    "image[180:230, 10:60] = 1\n",
    "image[230:280, 60:110] = 1\n",
    "\n",
    "imshow(image)"
   ]
  },
  {
   "cell_type": "code",
   "execution_count": null,
   "metadata": {},
   "outputs": [],
   "source": [
    "coords = corner_peaks(corner_harris(image), min_distance=5)\n",
    "coords_subpix = corner_subpix(image, coords, window_size=13)\n",
    "\n",
    "imshow(image, interpolation='nearest', cmap=plt.cm.gray)\n",
    "plot(coords[:, 1], coords[:, 0], '.b', markersize=3)\n",
    "plot(coords_subpix[:, 1], coords_subpix[:, 0], '+r', markersize=15)\n",
    "\n",
    "axis((0, 350, 350, 0));"
   ]
  },
  {
   "cell_type": "code",
   "execution_count": null,
   "metadata": {},
   "outputs": [],
   "source": [
    "coords = corner_peaks(corner_harris(lenabw), min_distance=5)\n",
    "coords_subpix = corner_subpix(lenabw, coords, window_size=30)\n",
    "\n",
    "imshow(lenabw, interpolation='nearest', cmap=plt.cm.gray)\n",
    "plot(coords[:, 1], coords[:, 0], '.b', markersize=6)\n",
    "plot(coords_subpix[:, 1], coords_subpix[:, 0], '+r', markersize=10)\n",
    "\n",
    "axis((0, 512, 512, 0));\n"
   ]
  },
  {
   "cell_type": "code",
   "execution_count": null,
   "metadata": {},
   "outputs": [],
   "source": [
    "from skimage.filter import canny\n",
    "coords = corner_peaks(corner_harris(canny(lenabw, 2, 0.05, 0.4)), min_distance=5)\n",
    "coords_subpix = corner_subpix(lenabw, coords, window_size=30)\n",
    "\n",
    "imshow(canny(lenabw, 2, 0.05, 0.4), interpolation='nearest', cmap=plt.cm.gray)\n",
    "plot(coords[:, 1], coords[:, 0], '.b', markersize=6)\n",
    "plot(coords_subpix[:, 1], coords_subpix[:, 0], '+r', markersize=10)\n",
    "\n",
    "axis((0, 512, 512, 0));"
   ]
  },
  {
   "cell_type": "markdown",
   "metadata": {},
   "source": [
    "## Blob detection"
   ]
  },
  {
   "cell_type": "code",
   "execution_count": null,
   "metadata": {},
   "outputs": [],
   "source": [
    "imshow(coins, cmap=cm.gray)"
   ]
  },
  {
   "cell_type": "markdown",
   "metadata": {},
   "source": [
    "### Threshold"
   ]
  },
  {
   "cell_type": "code",
   "execution_count": null,
   "metadata": {},
   "outputs": [],
   "source": [
    "coins_hist = measurements.histogram(coins, 0, 1, 256)\n",
    "plot(linspace(0,1,256), coins_hist)\n",
    "grid()"
   ]
  },
  {
   "cell_type": "code",
   "execution_count": null,
   "metadata": {},
   "outputs": [],
   "source": [
    "coins_hist = measurements.histogram(coins, 0, 1, 256)\n",
    "plot(linspace(0,1,256), coins_hist)\n",
    "grid()\n",
    "vlines((0.39, 0.53, 0.6), 0, 1400)"
   ]
  },
  {
   "cell_type": "code",
   "execution_count": null,
   "metadata": {},
   "outputs": [],
   "source": [
    "imshow(coins > 0.39, cmap=cm.gray)"
   ]
  },
  {
   "cell_type": "code",
   "execution_count": null,
   "metadata": {},
   "outputs": [],
   "source": [
    "imshow(coins > 0.53, cmap=cm.gray)"
   ]
  },
  {
   "cell_type": "code",
   "execution_count": null,
   "metadata": {},
   "outputs": [],
   "source": [
    "imshow(coins > 0.6, cmap=cm.gray)"
   ]
  },
  {
   "cell_type": "code",
   "execution_count": null,
   "metadata": {},
   "outputs": [],
   "source": [
    "from scipy.ndimage.morphology import binary_dilation, binary_erosion"
   ]
  },
  {
   "cell_type": "code",
   "execution_count": null,
   "metadata": {},
   "outputs": [],
   "source": [
    "th = coins > 0.53\n",
    "dilated = binary_dilation(th, ones((2,2)) )\n",
    "imshow(dilated, cmap= cm.gray)"
   ]
  },
  {
   "cell_type": "code",
   "execution_count": null,
   "metadata": {},
   "outputs": [],
   "source": [
    "eroded = binary_erosion(dilated, ones((4,4)) )\n",
    "imshow(eroded, cmap= cm.gray)"
   ]
  },
  {
   "cell_type": "code",
   "execution_count": null,
   "metadata": {},
   "outputs": [],
   "source": [
    "th = coins > 0.5\n",
    "dilated = binary_dilation(th, ones((2,2)) )\n",
    "eroded = binary_erosion(dilated, ones((4,4)) )\n",
    "imshow(eroded, cmap= cm.gray)"
   ]
  },
  {
   "cell_type": "code",
   "execution_count": null,
   "metadata": {},
   "outputs": [],
   "source": [
    "th = coins > 0.5\n",
    "from scipy.ndimage.morphology import binary_dilation, binary_erosion, binary_fill_holes\n",
    "filled = binary_fill_holes(th)\n",
    "imshow(filled, cmap=cm.gray)"
   ]
  },
  {
   "cell_type": "code",
   "execution_count": null,
   "metadata": {},
   "outputs": [],
   "source": [
    "eroded = binary_erosion(filled, ones((2,2)))\n",
    "imshow(filled, cmap= cm.gray)"
   ]
  },
  {
   "cell_type": "code",
   "execution_count": null,
   "metadata": {},
   "outputs": [],
   "source": [
    "imshow(filled, cmap= cm.gray)\n",
    "contour(filled, [0.5], linewidths=2, colors='r')"
   ]
  },
  {
   "cell_type": "code",
   "execution_count": null,
   "metadata": {},
   "outputs": [],
   "source": [
    "imshow(lenabw, cmap= cm.gray)\n",
    "contour(lenabw, [0.7], linewidths=2, colors='r')"
   ]
  },
  {
   "cell_type": "code",
   "execution_count": null,
   "metadata": {},
   "outputs": [],
   "source": [
    "from scipy import ndimage\n",
    "label_objects, nb_labels = ndimage.label(filled)\n",
    "sizes = bincount(label_objects.ravel())"
   ]
  },
  {
   "cell_type": "code",
   "execution_count": null,
   "metadata": {},
   "outputs": [],
   "source": [
    "imshow(coins, cmap= cm.gray)\n",
    "contour(coins, [0.5], linewidths=2, colors='r')"
   ]
  },
  {
   "cell_type": "code",
   "execution_count": null,
   "metadata": {},
   "outputs": [],
   "source": [
    "imshow(coins, cmap= cm.gray)\n",
    "contour(contour, [0.5], linewidths=2, colors='r')"
   ]
  },
  {
   "cell_type": "code",
   "execution_count": null,
   "metadata": {},
   "outputs": [],
   "source": [
    "print(sizes)"
   ]
  },
  {
   "cell_type": "markdown",
   "metadata": {},
   "source": [
    "Threshold by size"
   ]
  },
  {
   "cell_type": "code",
   "execution_count": null,
   "metadata": {},
   "outputs": [],
   "source": [
    "mask_sizes = sizes > 1000\n",
    "mask_sizes[0] = 0\n",
    "coins_cleaned = mask_sizes[label_objects]\n",
    "labeled_coins, nb_coins = ndimage.label(coins_cleaned)\n",
    "imshow(labeled_coins)"
   ]
  },
  {
   "cell_type": "code",
   "execution_count": null,
   "metadata": {},
   "outputs": [],
   "source": [
    "coins"
   ]
  },
  {
   "cell_type": "code",
   "execution_count": null,
   "metadata": {},
   "outputs": [],
   "source": [
    "from scipy.ndimage.measurements import center_of_mass\n",
    "cmass = center_of_mass(coins_cleaned.T, labeled_coins.T, arange(nb_coins + 1))"
   ]
  },
  {
   "cell_type": "code",
   "execution_count": null,
   "metadata": {},
   "outputs": [],
   "source": [
    "imshow(coins, cmap=cm.gray)\n",
    "plot(*zip(*cmass), marker='o', ls= '')"
   ]
  },
  {
   "cell_type": "markdown",
   "metadata": {},
   "source": [
    "### Edge based blob detection"
   ]
  },
  {
   "cell_type": "code",
   "execution_count": null,
   "metadata": {},
   "outputs": [],
   "source": [
    "edges = gaussian_laplace(coins, 10) < 0"
   ]
  },
  {
   "cell_type": "code",
   "execution_count": null,
   "metadata": {},
   "outputs": [],
   "source": [
    "imshow(gaussian_laplace(coins, 10))"
   ]
  },
  {
   "cell_type": "code",
   "execution_count": null,
   "metadata": {},
   "outputs": [],
   "source": [
    "imshow(edges, cmap=cm.gray)"
   ]
  },
  {
   "cell_type": "code",
   "execution_count": null,
   "metadata": {},
   "outputs": [],
   "source": [
    "eroded = binary_erosion(edges, ones((4,4)))\n",
    "imshow(eroded, cmap=cm.gray)"
   ]
  },
  {
   "cell_type": "code",
   "execution_count": null,
   "metadata": {},
   "outputs": [],
   "source": [
    "eroded = binary_erosion(edges, ones((20,20)))\n",
    "imshow(eroded, cmap=cm.gray)"
   ]
  },
  {
   "cell_type": "code",
   "execution_count": null,
   "metadata": {},
   "outputs": [],
   "source": [
    "from scipy import ndimage\n",
    "label_objects, nb_labels = ndimage.label(eroded)\n",
    "sizes = bincount(label_objects.ravel())\n",
    "imshow(label_objects)"
   ]
  },
  {
   "cell_type": "code",
   "execution_count": null,
   "metadata": {},
   "outputs": [],
   "source": [
    "print(nb_labels)"
   ]
  },
  {
   "cell_type": "code",
   "execution_count": null,
   "metadata": {},
   "outputs": [],
   "source": [
    "from scipy.ndimage.measurements import center_of_mass\n",
    "cmass = center_of_mass(eroded.T, label_objects.T, arange(nb_labels + 1))\n",
    "\n",
    "imshow(coins, cmap=cm.gray)\n",
    "plot(*zip(*cmass), marker='o', ls= '')"
   ]
  },
  {
   "cell_type": "markdown",
   "metadata": {},
   "source": [
    "## Hough Circles"
   ]
  },
  {
   "cell_type": "code",
   "execution_count": null,
   "metadata": {},
   "outputs": [],
   "source": [
    "from skimage import data, color\n",
    "from skimage.transform import hough_circle\n",
    "from skimage.feature import peak_local_max\n",
    "from skimage.draw import circle_perimeter\n",
    "\n",
    "# Load picture and detect edges\n",
    "edges = filters.canny(coins*255, sigma=3, low_threshold=10, high_threshold=50)"
   ]
  },
  {
   "cell_type": "code",
   "execution_count": null,
   "metadata": {},
   "outputs": [],
   "source": [
    "imshow(edges, cmap=cm.gray)"
   ]
  },
  {
   "cell_type": "code",
   "execution_count": null,
   "metadata": {},
   "outputs": [],
   "source": [
    "# Detect two radii\n",
    "hough_radii = np.arange(15, 30, 2)\n",
    "hough_res = hough_circle(edges, hough_radii)\n",
    "\n",
    "centers = []\n",
    "accums = []\n",
    "radii = []\n",
    "\n",
    "for radius, h in zip(hough_radii, hough_res):\n",
    "    # For each radius, extract two circles\n",
    "    num_peaks = 2\n",
    "    peaks = peak_local_max(h, num_peaks=num_peaks)\n",
    "    centers.extend(peaks)\n",
    "    accums.extend(h[peaks[:, 0], peaks[:, 1]])\n",
    "    radii.extend([radius] * num_peaks)"
   ]
  },
  {
   "cell_type": "code",
   "execution_count": null,
   "metadata": {},
   "outputs": [],
   "source": [
    "centers"
   ]
  },
  {
   "cell_type": "code",
   "execution_count": null,
   "metadata": {},
   "outputs": [],
   "source": [
    "len(centers)"
   ]
  },
  {
   "cell_type": "code",
   "execution_count": null,
   "metadata": {},
   "outputs": [],
   "source": [
    "imshow(coins.T, cmap=cm.gray)\n",
    "plot(*zip(*centers), marker='o', ls= '')"
   ]
  },
  {
   "cell_type": "code",
   "execution_count": null,
   "metadata": {},
   "outputs": [],
   "source": [
    "# Draw the most prominent 5 circles\n",
    "image = coins[:]*255\n",
    "\n",
    "image = color.gray2rgb(image)\n",
    "for idx in np.argsort(accums)[::-1][:]:\n",
    "    center_x, center_y = centers[idx]\n",
    "    radius = radii[idx]\n",
    "    cx, cy = circle_perimeter(center_y, center_x, radius)\n",
    "    image[cy, cx] = (220, 20, 20)\n",
    "    cx, cy = circle_perimeter(center_y, center_x, int(radius*1.1))\n",
    "    image[cy, cx] = (220, 20, 20)\n",
    "\n",
    "imshow(image.astype(uint8), cmap=plt.cm.gray)"
   ]
  },
  {
   "cell_type": "markdown",
   "metadata": {},
   "source": [
    "## Image Segmentation"
   ]
  },
  {
   "cell_type": "code",
   "execution_count": null,
   "metadata": {},
   "outputs": [],
   "source": [
    "fruits = imread('vitamy fruits.png')\n",
    "imshow(fruits)"
   ]
  },
  {
   "cell_type": "code",
   "execution_count": null,
   "metadata": {},
   "outputs": [],
   "source": [
    "from skimage.segmentation import felzenszwalb, slic, quickshift\n",
    "from skimage.segmentation import mark_boundaries\n",
    "from skimage.util import img_as_float\n",
    "\n",
    "img = img_as_float(fruits[:, :])\n",
    "segments_fz = felzenszwalb(img, scale=100, sigma=1, min_size=50)\n",
    "segments_slic = slic(img, n_segments=250, compactness=10, sigma=1)\n",
    "segments_quick = quickshift(img, kernel_size=6, max_dist=6, ratio=0.5)\n",
    "\n",
    "print(\"Felzenszwalb's number of segments: %d\" % len(np.unique(segments_fz)))\n",
    "print(\"Slic number of segments: %d\" % len(np.unique(segments_slic)))\n",
    "print(\"Quickshift number of segments: %d\" % len(np.unique(segments_quick)))\n"
   ]
  },
  {
   "cell_type": "code",
   "execution_count": null,
   "metadata": {},
   "outputs": [],
   "source": [
    "imshow(mark_boundaries(img, segments_fz))\n",
    "title(\"Felzenszwalbs's method\")"
   ]
  },
  {
   "cell_type": "code",
   "execution_count": null,
   "metadata": {},
   "outputs": [],
   "source": [
    "imshow(mark_boundaries(img, segments_slic))\n",
    "title(\"SLIC\")"
   ]
  },
  {
   "cell_type": "code",
   "execution_count": null,
   "metadata": {},
   "outputs": [],
   "source": [
    "imshow(mark_boundaries(img, segments_quick))\n",
    "title(\"Quickshift\")"
   ]
  },
  {
   "cell_type": "markdown",
   "metadata": {},
   "source": [
    "### Watershed segmentation"
   ]
  },
  {
   "cell_type": "code",
   "execution_count": null,
   "metadata": {},
   "outputs": [],
   "source": [
    "from scipy import ndimage\n",
    "\n",
    "from skimage.morphology import watershed\n",
    "from skimage.feature import peak_local_max\n",
    "\n",
    "# Generate an initial image with two overlapping circles\n",
    "x, y = np.indices((80, 80))\n",
    "x1, y1, x2, y2 = 28, 28, 44, 52\n",
    "r1, r2 = 16, 20\n",
    "mask_circle1 = (x - x1)**2 + (y - y1)**2 < r1**2\n",
    "mask_circle2 = (x - x2)**2 + (y - y2)**2 < r2**2\n",
    "image = logical_or(mask_circle1, mask_circle2)\n",
    "\n",
    "imshow(image)"
   ]
  },
  {
   "cell_type": "code",
   "execution_count": null,
   "metadata": {},
   "outputs": [],
   "source": [
    "# Now we want to separate the two objects in image\n",
    "# Generate the markers as local maxima of the distance to the background\n",
    "distance = ndimage.distance_transform_edt(image)\n",
    "local_maxi = peak_local_max(distance, indices=False, footprint=np.ones((3, 3)),\n",
    "                            labels=image)\n",
    "markers = ndimage.label(local_maxi)[0]\n",
    "labels = watershed(-distance, markers, mask=image)\n",
    "\n",
    "subplot(131)\n",
    "imshow(image, cmap=plt.cm.gray, interpolation='nearest')\n",
    "title('Overlapping objects')\n",
    "\n",
    "subplot(132)\n",
    "imshow(-distance, cmap=plt.cm.jet, interpolation='nearest')\n",
    "title('Distances')\n",
    "\n",
    "subplot(133)\n",
    "imshow(labels, cmap=plt.cm.spectral, interpolation='nearest')\n",
    "title('Separated objects')"
   ]
  },
  {
   "cell_type": "markdown",
   "metadata": {},
   "source": [
    "By: Andrés Cabrera mantaraya36@gmail.com\n",
    "For MAT course MAT 201A at UCSB\n",
    "\n",
    "This ipython notebook is licensed under the CC-BY-NC-SA license: http://creativecommons.org/licenses/by-nc-sa/4.0/\n",
    "\n",
    "![http://i.creativecommons.org/l/by-nc-sa/3.0/88x31.png](http://i.creativecommons.org/l/by-nc-sa/3.0/88x31.png)\n",
    "\n",
    "\n",
    "A lot of material adapted from the scikits image tutorials. http://scikit-image.org"
   ]
  }
 ],
 "metadata": {
  "kernelspec": {
   "display_name": "Python 2",
   "language": "python",
   "name": "python2"
  },
  "language_info": {
   "codemirror_mode": {
    "name": "ipython",
    "version": 2
   },
   "file_extension": ".py",
   "mimetype": "text/x-python",
   "name": "python",
   "nbconvert_exporter": "python",
   "pygments_lexer": "ipython2",
   "version": "2.7.13"
  }
 },
 "nbformat": 4,
 "nbformat_minor": 1
}
