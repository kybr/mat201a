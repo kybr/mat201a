{
 "cells": [
  {
   "cell_type": "code",
   "execution_count": null,
   "metadata": {},
   "outputs": [],
   "source": [
    "%pylab inline\n",
    "rcParams['figure.figsize'] = (20, 4) #wide graphs by default\n",
    "from ipywidgets import widgets, interact\n",
    "from IPython.display import Audio\n",
    "from scipy.io import wavfile"
   ]
  },
  {
   "cell_type": "markdown",
   "metadata": {},
   "source": [
    "## Read in an image"
   ]
  },
  {
   "cell_type": "code",
   "execution_count": null,
   "metadata": {},
   "outputs": [],
   "source": [
    "i = imread('media/spider.png')\n",
    "imshow(i)\n",
    "pass"
   ]
  },
  {
   "cell_type": "markdown",
   "metadata": {},
   "source": [
    "## Convert to greyscale"
   ]
  },
  {
   "cell_type": "code",
   "execution_count": null,
   "metadata": {},
   "outputs": [],
   "source": [
    "print(i.shape)\n",
    "R = i[:, :, 0]\n",
    "G = i[:, :, 1]\n",
    "B = i[:, :, 2]\n",
    "grey = R * 299. / 1000 + G * 587. / 1000 + B * 114. / 1000\n",
    "grey.shape"
   ]
  },
  {
   "cell_type": "code",
   "execution_count": null,
   "metadata": {},
   "outputs": [],
   "source": [
    "print(\"min:%f mean:%f median:%f max:%f\" % (grey[:,0].min(), grey[:,0].mean(), median(grey[:,0]), grey[:,0].max()))"
   ]
  },
  {
   "cell_type": "code",
   "execution_count": null,
   "metadata": {},
   "outputs": [],
   "source": [
    "grey = 256 - grey\n",
    "grey = flip(grey, 0)\n",
    "imshow(grey, cmap='gray')\n",
    "pass"
   ]
  },
  {
   "cell_type": "code",
   "execution_count": null,
   "metadata": {},
   "outputs": [],
   "source": [
    "from scipy.misc import imresize\n",
    "grey = imresize(grey, (1023, 1433)).astype(float64)\n",
    "grey.shape"
   ]
  },
  {
   "cell_type": "code",
   "execution_count": null,
   "metadata": {},
   "outputs": [],
   "source": [
    "grey.dtype"
   ]
  },
  {
   "cell_type": "code",
   "execution_count": null,
   "metadata": {},
   "outputs": [],
   "source": [
    "amax(grey)"
   ]
  },
  {
   "cell_type": "markdown",
   "metadata": {},
   "source": [
    "## Set DC to 0\n",
    "We \"stack\" a row of zeros onto the bottom of the image which represents the first fft bin, the DC bin. With this image of Nick Cave, this stacking has the effect of making the height 1024, a power of 2."
   ]
  },
  {
   "cell_type": "code",
   "execution_count": null,
   "metadata": {},
   "outputs": [],
   "source": [
    "grey = vstack((grey, zeros_like(grey[-1:])))\n",
    "grey = vstack((grey, zeros_like(grey[-1:])))\n",
    "shape(grey)"
   ]
  },
  {
   "cell_type": "code",
   "execution_count": null,
   "metadata": {},
   "outputs": [],
   "source": [
    "grey.dtype"
   ]
  },
  {
   "cell_type": "code",
   "execution_count": null,
   "metadata": {},
   "outputs": [],
   "source": [
    "grey = grey / 256 # scaleed to (0, 1)"
   ]
  },
  {
   "cell_type": "markdown",
   "metadata": {},
   "source": [
    "## Scale by the size of the FFT"
   ]
  },
  {
   "cell_type": "code",
   "execution_count": null,
   "metadata": {},
   "outputs": [],
   "source": [
    "grey *= 2048.0"
   ]
  },
  {
   "cell_type": "code",
   "execution_count": null,
   "metadata": {},
   "outputs": [],
   "source": [
    "grey.max()"
   ]
  },
  {
   "cell_type": "code",
   "execution_count": null,
   "metadata": {},
   "outputs": [],
   "source": [
    "shape(grey)"
   ]
  },
  {
   "cell_type": "markdown",
   "metadata": {},
   "source": [
    "## Randomize phases"
   ]
  },
  {
   "cell_type": "code",
   "execution_count": null,
   "metadata": {},
   "outputs": [],
   "source": [
    "mystft = grey * exp(-1j * uniform(-pi, pi, shape(grey)))"
   ]
  },
  {
   "cell_type": "markdown",
   "metadata": {},
   "source": [
    "## ...or don't"
   ]
  },
  {
   "cell_type": "code",
   "execution_count": null,
   "metadata": {},
   "outputs": [],
   "source": [
    "# mystft = grey * exp(-1j * zeros_like(grey))"
   ]
  },
  {
   "cell_type": "code",
   "execution_count": null,
   "metadata": {},
   "outputs": [],
   "source": [
    "shape(mystft)"
   ]
  },
  {
   "cell_type": "markdown",
   "metadata": {},
   "source": [
    "## Take the inverse FFT"
   ]
  },
  {
   "cell_type": "code",
   "execution_count": null,
   "metadata": {},
   "outputs": [],
   "source": [
    "imystft = fft.irfft(mystft, axis = 0)\n",
    "imystft.shape\n",
    "# the axis = 0 means to treat columns as FFT data"
   ]
  },
  {
   "cell_type": "markdown",
   "metadata": {},
   "source": [
    "## Build the sound"
   ]
  },
  {
   "cell_type": "code",
   "execution_count": null,
   "metadata": {},
   "outputs": [],
   "source": [
    "# allocate a lot of 0s\n",
    "data = zeros(2048 * 1433 + 10000) * 1j\n",
    "for column in range(1433):\n",
    "    # copy in each piece\n",
    "    start = column * 2048\n",
    "    data[start:start+2048] = imystft[:,column]\n",
    "data = real(data)\n",
    "sound = data / amax(abs(data))"
   ]
  },
  {
   "cell_type": "code",
   "execution_count": null,
   "metadata": {},
   "outputs": [],
   "source": [
    "Audio(data = sound, rate = 44100)"
   ]
  },
  {
   "cell_type": "code",
   "execution_count": null,
   "metadata": {},
   "outputs": [],
   "source": [
    "wavfile.write('result/spider.wav', 44100, (sound * 2**15).astype(int16))"
   ]
  },
  {
   "cell_type": "code",
   "execution_count": null,
   "metadata": {},
   "outputs": [],
   "source": [
    "mean(sound)"
   ]
  },
  {
   "cell_type": "code",
   "execution_count": null,
   "metadata": {},
   "outputs": [],
   "source": [
    "sampleRate, sample = wavfile.read('result/spider.wav')\n",
    "specgram(sample, Fs = 44100, NFFT=460)\n",
    "pass"
   ]
  },
  {
   "cell_type": "code",
   "execution_count": null,
   "metadata": {},
   "outputs": [],
   "source": [
    "plot(sound)"
   ]
  },
  {
   "cell_type": "code",
   "execution_count": null,
   "metadata": {},
   "outputs": [],
   "source": [
    "# here's an alternative that takes the iFFT on each loop\n",
    "#sound = zeros(2048 * 1433 + 10000) * 1j\n",
    "#for column in range(1433):\n",
    "#    start = column * 2048\n",
    "#    sound[start:start+2048] = fft.ifft(myfft[:,column])"
   ]
  },
  {
   "cell_type": "markdown",
   "metadata": {},
   "source": [
    "## (Optional) Use windows and overlapping"
   ]
  },
  {
   "cell_type": "code",
   "execution_count": null,
   "metadata": {},
   "outputs": [],
   "source": [
    "window = hamming(2048)\n",
    "#window = bartlett(2048)\n",
    "plot(window)\n",
    "window.shape"
   ]
  },
  {
   "cell_type": "code",
   "execution_count": null,
   "metadata": {},
   "outputs": [],
   "source": [
    "# recalculate...\n",
    "mystft = grey * exp(-1j * zeros_like(grey))\n",
    "imystft = fft.irfft(mystft, axis = 0)"
   ]
  },
  {
   "cell_type": "markdown",
   "metadata": {},
   "source": [
    "## Build the sound"
   ]
  },
  {
   "cell_type": "code",
   "execution_count": null,
   "metadata": {},
   "outputs": [],
   "source": [
    "data = zeros(int(2048 * 1433 / 2 + 10000)) * 1j\n",
    "data[:2048] += window *  imystft[:,0]\n",
    "for column in range(1, 1433):\n",
    "    start = column * 1024\n",
    "    data[start:start+2048] += window * imystft[:,column]\n",
    "data = real(data)\n",
    "sound = data / amax(abs(data))"
   ]
  },
  {
   "cell_type": "code",
   "execution_count": null,
   "metadata": {},
   "outputs": [],
   "source": [
    "plot(sound)\n",
    "pass"
   ]
  },
  {
   "cell_type": "code",
   "execution_count": null,
   "metadata": {},
   "outputs": [],
   "source": [
    "Audio(data = sound, rate = 44100)"
   ]
  },
  {
   "cell_type": "code",
   "execution_count": null,
   "metadata": {},
   "outputs": [],
   "source": [
    "wavfile.write('result/spider_windowed.wav', 44100, (sound * 2**15).astype(int16))"
   ]
  },
  {
   "cell_type": "code",
   "execution_count": null,
   "metadata": {},
   "outputs": [],
   "source": [
    "sampleRate, sample = wavfile.read('result/spider_windowed.wav')\n",
    "specgram(sample, Fs = 44100, NFFT=460)\n",
    "pass"
   ]
  },
  {
   "cell_type": "markdown",
   "metadata": {},
   "source": [
    "Now go watch [this video](https://www.youtube.com/watch?v=M9xMuPWAZW8&feature=youtu.be&t=300) of the spectrogram of Aphex Twin's track named...\n",
    "\n",
    "$$\\Delta M_i^{-1} = -\\alpha \\sum_{n=1}^N D_i[n] \\left[ \\sum_{j \\in C[i]} F_{ji}[n-1]+Fext_i[n^{-1}]\\right]$$"
   ]
  }
 ],
 "metadata": {
  "kernelspec": {
   "display_name": "Python 3",
   "language": "python",
   "name": "python3"
  },
  "language_info": {
   "codemirror_mode": {
    "name": "ipython",
    "version": 3
   },
   "file_extension": ".py",
   "mimetype": "text/x-python",
   "name": "python",
   "nbconvert_exporter": "python",
   "pygments_lexer": "ipython3",
   "version": "3.6.1"
  }
 },
 "nbformat": 4,
 "nbformat_minor": 2
}
