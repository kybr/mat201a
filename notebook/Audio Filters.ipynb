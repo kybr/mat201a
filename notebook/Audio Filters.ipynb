{
 "cells": [
  {
   "cell_type": "code",
   "execution_count": null,
   "metadata": {},
   "outputs": [],
   "source": [
    "%pylab inline\n",
    "rcParams['figure.figsize'] = (10, 4) #wide graphs by default\n",
    "from __future__ import print_function\n",
    "from __future__ import division\n",
    "from IPython.display import Audio"
   ]
  },
  {
   "cell_type": "markdown",
   "metadata": {},
   "source": [
    "# Audio Filters"
   ]
  },
  {
   "cell_type": "code",
   "execution_count": null,
   "metadata": {},
   "outputs": [],
   "source": [
    "signal = random.random(2048) * 2 - 1"
   ]
  },
  {
   "cell_type": "code",
   "execution_count": null,
   "metadata": {},
   "outputs": [],
   "source": [
    "spectrum, _, _, _ = specgram(signal, interpolation='nearest', Fs=44100)\n",
    "colorbar()\n",
    "pass"
   ]
  },
  {
   "cell_type": "code",
   "execution_count": null,
   "metadata": {},
   "outputs": [],
   "source": [
    "spectrum.shape"
   ]
  },
  {
   "cell_type": "code",
   "execution_count": null,
   "metadata": {},
   "outputs": [],
   "source": [
    "type(spectrum)"
   ]
  },
  {
   "cell_type": "markdown",
   "metadata": {},
   "source": [
    "How do we account for the numbers above? How do we confirm our guesses?"
   ]
  },
  {
   "cell_type": "code",
   "execution_count": null,
   "metadata": {},
   "outputs": [],
   "source": [
    "2048 / 256"
   ]
  },
  {
   "cell_type": "code",
   "execution_count": null,
   "metadata": {},
   "outputs": [],
   "source": [
    "plot(spectrum[:, 10])\n",
    "pass"
   ]
  },
  {
   "cell_type": "code",
   "execution_count": null,
   "metadata": {},
   "outputs": [],
   "source": [
    "filtered = (signal + r_[0, signal[:-1]]) # what's this doing?\n",
    "spectrum2, _, _, _ = specgram(filtered, Fs=44100)\n",
    "colorbar()\n",
    "pass"
   ]
  },
  {
   "cell_type": "code",
   "execution_count": null,
   "metadata": {},
   "outputs": [],
   "source": [
    "plot(spectrum2[:, 10])\n",
    "pass"
   ]
  },
  {
   "cell_type": "code",
   "execution_count": null,
   "metadata": {},
   "outputs": [],
   "source": [
    "plot(spectrum[:, 10], label='original')\n",
    "plot(spectrum2[:, 10], label='filtered')\n",
    "legend()\n",
    "pass"
   ]
  },
  {
   "cell_type": "code",
   "execution_count": null,
   "metadata": {},
   "outputs": [],
   "source": [
    "semilogx(spectrum[:, 10], label='original')\n",
    "semilogx(spectrum2[:, 10] / 4.0, label='filtered')\n",
    "legend()\n",
    "pass"
   ]
  },
  {
   "cell_type": "code",
   "execution_count": null,
   "metadata": {},
   "outputs": [],
   "source": [
    "plot(spectrum[:, 10], label='original')\n",
    "plot(spectrum2[:, 10] / 4.0, label='filtered')\n",
    "legend()\n",
    "pass"
   ]
  },
  {
   "cell_type": "markdown",
   "metadata": {},
   "source": [
    "Difference equation:\n",
    "\n",
    "$$y(n) = b_0x(n) + b_1x(n-1) + ... + b_Mx(n-M)$$\n",
    "\n",
    "for this simple filter:\n",
    "\n",
    "$$y(n) = x(n) + x(n-1)$$\n",
    "\n",
    "$$y(n) = 0.25x(n) + 0.25x(n-1)$$"
   ]
  },
  {
   "cell_type": "markdown",
   "metadata": {},
   "source": [
    "You can estimate the effect of frequency from the difference equation!"
   ]
  },
  {
   "cell_type": "code",
   "execution_count": null,
   "metadata": {},
   "outputs": [],
   "source": [
    "from scipy.signal import freqz\n",
    "frequency, response = freqz([1, 1])\n",
    "semilogy(frequency, abs(response))\n",
    "title('Frequency Response')\n",
    "grid()"
   ]
  },
  {
   "cell_type": "code",
   "execution_count": null,
   "metadata": {},
   "outputs": [],
   "source": [
    "plot(frequency, angle(response))\n",
    "title('Phase Response')\n",
    "grid()"
   ]
  },
  {
   "cell_type": "code",
   "execution_count": null,
   "metadata": {},
   "outputs": [],
   "source": [
    "filtered2 = (1 * signal + 0.5 * r_[0, signal[:-1]])\n",
    "spectrum3, _, _, _ = specgram(filtered2, Fs=44100)\n",
    "pass"
   ]
  },
  {
   "cell_type": "markdown",
   "metadata": {},
   "source": [
    "$$y(n) = x(n) + 0.5 \\cdot x(n-1)$$"
   ]
  },
  {
   "cell_type": "code",
   "execution_count": null,
   "metadata": {},
   "outputs": [],
   "source": [
    "plot(spectrum3[:, 10])\n",
    "pass"
   ]
  },
  {
   "cell_type": "code",
   "execution_count": null,
   "metadata": {},
   "outputs": [],
   "source": [
    "plot(spectrum[:, 10])\n",
    "plot(spectrum2[:, 10] / 4.0)\n",
    "plot(spectrum3[:, 10] / (1.5**2))\n",
    "pass"
   ]
  },
  {
   "cell_type": "code",
   "execution_count": null,
   "metadata": {},
   "outputs": [],
   "source": [
    "from scipy.signal import freqz\n",
    "frequency, response = freqz([1, 1])\n",
    "semilogy(frequency, abs(response), label='1 1')\n",
    "\n",
    "frequency, response = freqz([1, 0.5])\n",
    "semilogy(frequency, abs(response), label='1 0.5')\n",
    "title('Frequency Response')\n",
    "legend()\n",
    "grid()"
   ]
  },
  {
   "cell_type": "code",
   "execution_count": null,
   "metadata": {},
   "outputs": [],
   "source": [
    "f, r = freqz([1, 1])\n",
    "semilogy(f, abs(r))\n",
    "\n",
    "f, r = freqz([1, 2])\n",
    "semilogy(f, abs(r))\n",
    "\n",
    "f, r = freqz([1, 0.5])\n",
    "semilogy(f, abs(r))\n",
    "\n",
    "title('Frequency Response')\n",
    "grid()"
   ]
  },
  {
   "cell_type": "code",
   "execution_count": null,
   "metadata": {},
   "outputs": [],
   "source": [
    "f, r = freqz([1, -1])\n",
    "semilogy(f, abs(r))\n",
    "title('Frequency Response')\n",
    "grid()"
   ]
  },
  {
   "cell_type": "markdown",
   "metadata": {},
   "source": [
    "What is this? How is it different?"
   ]
  },
  {
   "cell_type": "markdown",
   "metadata": {},
   "source": [
    "# Transfer function\n",
    "\n",
    "$$ Y(z) = H(z) \\cdot X(z) $$\n",
    "\n",
    "$$ H(z) = \\frac{Y(z)}{X(z)} $$\n",
    "\n",
    "\n",
    "# z-transform\n",
    "\n",
    "$$\\mathcal{Z}[x(n-M)] = z^{-M}X(z)$$\n",
    "\n",
    "z-transform on the difference equation:\n",
    "\n",
    "$$Y(z) = b_0z^{0}X(z) + b_1z^{-1}X(z) + ... + b_Mz^{-M}X(z) - a_1z^{-1}Y(z) - a_2z^{-2}Y(z) - ... - a_Mz^{-M}Y(z)$$\n",
    "\n",
    "$$ [1 + a_1z^{-1} + a_2z^{-2} - ... + a_Mz^{-M}] \\cdot Y(z) = [b_0z^{0} + b_1z^{-1} + ... + b_Mz^{-M}]\\cdot X(z) $$\n",
    "\n",
    "$$H(z) = \\frac{Y(z)}{X(z)} = \\frac{b_0z^{0} + b_1z^{-1} + ... + b_Mz^{-M}}{ 1 + a_1z^{-1} - a_2z^{-2} - ... - a_Mz^{-M}}$$\n",
    "\n",
    "Really, this is just using a different notation to represent what we have already been saying:\n",
    "\n",
    "$$b_0x(n) + b_1x(n-1) + ... + b_Mx(n-M) \\text{  becomes  } b_0z^{0} + b_1z^{-1} + ... + b_Mz^{-M}$$\n",
    "\n",
    "$$\\text{For } X(z) \\text{:   } x(n) = z^{0}, x(n - 1) = z^{-1}, x(n - 2) = z^{-2}, \\text{and so on...}$$\n",
    "\n",
    "Probably the most intuitive way of thinking about the $z$ operator is as a _delay_. $z^{-1}$ is the signal _delayed_ by $1$ sample. Or, in the context of implementing filters in code, then $z^{0}$ means use the current sample and $z^{-1}$ means use the previous sample.\n"
   ]
  },
  {
   "cell_type": "markdown",
   "metadata": {},
   "source": [
    "# One-pole filters"
   ]
  },
  {
   "cell_type": "markdown",
   "metadata": {},
   "source": [
    "$$y(n) = b_0x(n) - a_1y(n-1)$$"
   ]
  },
  {
   "cell_type": "code",
   "execution_count": null,
   "metadata": {},
   "outputs": [],
   "source": [
    "from scipy.signal import lfilter\n",
    "filtered4 = lfilter([1], [1, 1], signal)\n",
    "specgram(filtered4, Fs=44100)\n",
    "pass"
   ]
  },
  {
   "cell_type": "code",
   "execution_count": null,
   "metadata": {},
   "outputs": [],
   "source": [
    "f, Y = freqz([1], [1, 1])\n",
    "semilogy(f, abs(Y))\n",
    "grid()\n",
    "pass"
   ]
  },
  {
   "cell_type": "code",
   "execution_count": null,
   "metadata": {},
   "outputs": [],
   "source": [
    "f, Y = freqz([1], [1, 0.5])\n",
    "semilogy(f, abs(Y))\n",
    "grid()\n",
    "pass"
   ]
  },
  {
   "cell_type": "code",
   "execution_count": null,
   "metadata": {},
   "outputs": [],
   "source": [
    "f, Y = freqz([1], [1, -0.5])\n",
    "semilogy(f, abs(Y))\n",
    "pass"
   ]
  },
  {
   "cell_type": "code",
   "execution_count": null,
   "metadata": {},
   "outputs": [],
   "source": [
    "f, Y = freqz([1], [1, -0.5])\n",
    "plot(f, angle(Y))\n",
    "ylabel('phase')\n",
    "pass"
   ]
  },
  {
   "cell_type": "markdown",
   "metadata": {},
   "source": [
    "$$H(z) = \\frac{b_0z^{0} + b_1z^{-1} + \\cdots + b_Mz^{-M}}{ a_0z^{0} + a_1z^{-1} + a_2z^{-2}  + \\cdots + a_Mz^{-M}}$$\n",
    "\n",
    " * FIR filters are always stable\n",
    " * IIR filters can produce steeper filters with smaller orders"
   ]
  },
  {
   "cell_type": "markdown",
   "metadata": {},
   "source": [
    "# Pole-zero analysis"
   ]
  },
  {
   "cell_type": "code",
   "execution_count": null,
   "metadata": {},
   "outputs": [],
   "source": [
    "from scipy.signal import tf2zpk\n",
    "\n",
    "tf2zpk([1, 1], [1])"
   ]
  },
  {
   "cell_type": "code",
   "execution_count": null,
   "metadata": {},
   "outputs": [],
   "source": [
    "tf2zpk([1], [1, 1])"
   ]
  },
  {
   "cell_type": "code",
   "execution_count": null,
   "metadata": {},
   "outputs": [],
   "source": [
    "tf2zpk([2, 2], [1])"
   ]
  },
  {
   "cell_type": "code",
   "execution_count": null,
   "metadata": {},
   "outputs": [],
   "source": [
    "def PoleZeroPlot(b, a):\n",
    "    (zeros,poles,gain) = tf2zpk(b, a)\n",
    "    angle = np.linspace(-np.pi,np.pi,50)\n",
    "    cirx = np.sin(angle)\n",
    "    ciry = np.cos(angle)\n",
    "    figure()\n",
    "    plot(poles.real, poles.imag, 'x', zeros.real, zeros.imag, 'o', cirx,ciry, 'k-')\n",
    "    grid()\n",
    "    \n",
    "    xlim((-2, 2))\n",
    "    xlabel('Real')\n",
    "    ylim((-1.5, 1.5))\n",
    "    ylabel('Imag')\n",
    "    gcf().set_figwidth(5)\n",
    "    return (zeros,poles,gain)"
   ]
  },
  {
   "cell_type": "code",
   "execution_count": null,
   "metadata": {},
   "outputs": [],
   "source": [
    "PoleZeroPlot([1, 1], [1])"
   ]
  },
  {
   "cell_type": "code",
   "execution_count": null,
   "metadata": {},
   "outputs": [],
   "source": [
    "PoleZeroPlot([1], [1, 1])"
   ]
  },
  {
   "cell_type": "code",
   "execution_count": null,
   "metadata": {},
   "outputs": [],
   "source": [
    "PoleZeroPlot([1], [1, 1.1])"
   ]
  },
  {
   "cell_type": "markdown",
   "metadata": {},
   "source": [
    "When a pole is outside the unit circle in the z-plane the filter is unstable! What does unstable mean? See [What is the exact meaning of unstable system in DSP?](https://dsp.stackexchange.com/questions/8001/what-is-the-exact-meaning-of-unstable-system-in-dsp) or [Is an Unstable Filter Usable?](https://www.kvraudio.com/forum/viewtopic.php?t=179603). Basically, if you use an unstable filter, your filtered signal might \"blow up\", that is go to infinity or negative infinity or both by way of oscillation. In the context of digital signals, this may cause clipping, overflow, or NaNs. Your filter may take a long time to blow up and it might only blow up for certain input signals."
   ]
  },
  {
   "cell_type": "code",
   "execution_count": null,
   "metadata": {},
   "outputs": [],
   "source": [
    "PoleZeroPlot([1], [1.1, 1.1])"
   ]
  },
  {
   "cell_type": "markdown",
   "metadata": {},
   "source": [
    "# Comb filters"
   ]
  },
  {
   "cell_type": "markdown",
   "metadata": {},
   "source": [
    "$$y(n) = b_0x(n) + b_m\\cdot x(n-m)$$"
   ]
  },
  {
   "cell_type": "code",
   "execution_count": null,
   "metadata": {},
   "outputs": [],
   "source": [
    "b = [1, 0, 0, 0, 0, 0, 0, 1]\n",
    "#       1  2  3  4  5  6  7\n",
    "# m = 7\n",
    "a = [1]\n",
    "f, r = freqz(b, a)\n",
    "plot(f, abs(r))\n",
    "pass"
   ]
  },
  {
   "cell_type": "code",
   "execution_count": null,
   "metadata": {},
   "outputs": [],
   "source": [
    "b = [1, 0, 0, 0, 0, 0, 1]\n",
    "a = [1]\n",
    "f, r = freqz(b, a)\n",
    "plot(f, abs(r))\n",
    "grid()\n",
    "pass"
   ]
  },
  {
   "cell_type": "code",
   "execution_count": null,
   "metadata": {},
   "outputs": [],
   "source": [
    "b = [1, 0, 0, 0, 0, 0, 0, 0, 0, 0, 0, 1]\n",
    "a = [1]\n",
    "f, r = freqz(b,a)\n",
    "semilogy(f, abs(r))\n",
    "grid()\n",
    "\n",
    "twinx()\n",
    "\n",
    "plot(f, angle(r), 'r')\n",
    "pass"
   ]
  },
  {
   "cell_type": "code",
   "execution_count": null,
   "metadata": {},
   "outputs": [],
   "source": [
    "b = [1, 0, 0, 0, 0, 0, 0, -1]\n",
    "a = [1]\n",
    "f, r = freqz(b, a)\n",
    "plot(f, abs(r))\n",
    "\n",
    "b = [1, 0, 0, 0, 0, 0, 0, 1]\n",
    "a = [1]\n",
    "f, r = freqz(b, a)\n",
    "plot(f, abs(r))\n",
    "pass"
   ]
  },
  {
   "cell_type": "markdown",
   "metadata": {},
   "source": [
    "## IIR Comb-fiters"
   ]
  },
  {
   "cell_type": "markdown",
   "metadata": {},
   "source": [
    "$$y(n) = b_0x(n) + b_m\\cdot x(n-m) - a_m\\cdot y(n-m)$$"
   ]
  },
  {
   "cell_type": "code",
   "execution_count": null,
   "metadata": {},
   "outputs": [],
   "source": [
    "b = [1, 0, 0, 0, 0, 0, 0, -1]\n",
    "a = [1, 0, 0, 0, 0, 0, 0, 1]\n",
    "f, r = freqz(b, a)\n",
    "semilogy(f, abs(r))\n",
    "pass"
   ]
  },
  {
   "cell_type": "code",
   "execution_count": null,
   "metadata": {},
   "outputs": [],
   "source": [
    "b = [1]\n",
    "a = [1, 0, 0, 0, 0, 0, 0, 1]\n",
    "f, r = freqz(b, a, worN=8192)\n",
    "semilogy(f, abs(r))\n",
    "pass"
   ]
  },
  {
   "cell_type": "markdown",
   "metadata": {},
   "source": [
    "## [Two-zero filters](https://ccrma.stanford.edu/~jos/fp/Two_Zero.html)"
   ]
  },
  {
   "cell_type": "code",
   "execution_count": null,
   "metadata": {},
   "outputs": [],
   "source": [
    "b = [1, 1, 1]\n",
    "a = [1]\n",
    "f, r = freqz(b, a)\n",
    "semilogy(f, abs(r))\n",
    "pass"
   ]
  },
  {
   "cell_type": "markdown",
   "metadata": {},
   "source": [
    "$$\\frac{b_1}{b_0} = -2R\\cos(\\Theta_c)$$\n",
    "$$\\frac{b_2}{b_0} = R^2$$"
   ]
  },
  {
   "cell_type": "code",
   "execution_count": null,
   "metadata": {},
   "outputs": [],
   "source": [
    "Radius = 0.8\n",
    "Angle = 1.0\n",
    "b = [1, -2 * Radius * cos(Angle), Radius**2]\n",
    "a = [1]\n",
    "\n",
    "f, r = freqz(b, a)\n",
    "semilogy(f, abs(r))\n",
    "pass"
   ]
  },
  {
   "cell_type": "code",
   "execution_count": null,
   "metadata": {},
   "outputs": [],
   "source": [
    "Radius = 1\n",
    "Angle = 2.0\n",
    "b = [1, -2 * Radius * cos(Angle), Radius**2]\n",
    "a = [1]\n",
    "\n",
    "f, r = freqz(b, a)\n",
    "plot(f, abs(r))\n",
    "pass"
   ]
  },
  {
   "cell_type": "code",
   "execution_count": null,
   "metadata": {},
   "outputs": [],
   "source": [
    "Radius = 1\n",
    "Angle = 1.5\n",
    "b = [1, -2 * Radius * cos(Angle), Radius**2]\n",
    "a = [1]\n",
    "\n",
    "f, r = freqz(b, a)\n",
    "plot(f, abs(r))\n",
    "pass"
   ]
  },
  {
   "cell_type": "code",
   "execution_count": null,
   "metadata": {},
   "outputs": [],
   "source": [
    "PoleZeroPlot(b, a)"
   ]
  },
  {
   "cell_type": "markdown",
   "metadata": {},
   "source": [
    "## [Two-pole filters](https://ccrma.stanford.edu/~jos/fp/Two_Pole.html)\n",
    "\n",
    "$$a_1 = -2R\\cos(\\theta_c)$$\n",
    "$$a_2 = R^2$$"
   ]
  },
  {
   "cell_type": "code",
   "execution_count": null,
   "metadata": {},
   "outputs": [],
   "source": [
    "Radius = 1\n",
    "Angle = 2.0\n",
    "b = [1]\n",
    "a = [1, -2 * Radius * cos(Angle), Radius**2]\n",
    "\n",
    "f, r = freqz(b, a)\n",
    "plot(f, abs(r))\n",
    "pass"
   ]
  },
  {
   "cell_type": "code",
   "execution_count": null,
   "metadata": {},
   "outputs": [],
   "source": [
    "poles, zeros, k = PoleZeroPlot(b, a)"
   ]
  },
  {
   "cell_type": "code",
   "execution_count": null,
   "metadata": {},
   "outputs": [],
   "source": [
    "abs(zeros)"
   ]
  },
  {
   "cell_type": "code",
   "execution_count": null,
   "metadata": {},
   "outputs": [],
   "source": [
    "Radius = 0.9\n",
    "Angle = 1.5\n",
    "b = [1]\n",
    "a = [1, -2 * Radius * cos(Angle), Radius**2]\n",
    "\n",
    "f, r = freqz(b, a)\n",
    "plot(f, abs(r))\n",
    "pass"
   ]
  },
  {
   "cell_type": "code",
   "execution_count": null,
   "metadata": {},
   "outputs": [],
   "source": [
    "poles, zeros, k = PoleZeroPlot(b, a)"
   ]
  },
  {
   "cell_type": "markdown",
   "metadata": {},
   "source": [
    "## [Biquad Filter](https://en.wikipedia.org/wiki/Digital_biquad_filter)"
   ]
  },
  {
   "cell_type": "markdown",
   "metadata": {},
   "source": [
    "So named for the two [quadratic_functions](https://en.wikipedia.org/wiki/Quadratic_function), one on the top and one on the bottom:\n",
    "\n",
    "$$H(z) = \\frac{b_0z^{0} + b_1z^{-1} +  b_2z^{-2}}{ a_0z^{0} + a_1z^{-1} + a_2z^{-2}}$$\n",
    "\n",
    "These are used a lot. See [Cookbook formulae for audio EQ biquad filter coefficients](http://www.musicdsp.org/files/Audio-EQ-Cookbook.txt) for recipes."
   ]
  },
  {
   "cell_type": "code",
   "execution_count": null,
   "metadata": {},
   "outputs": [],
   "source": [
    "# low shelf-filter\n",
    "\n",
    "Fs = 44100\n",
    "f0 = 10000.0\n",
    "dBgain = 30.0\n",
    "S = 1.0 # shelf slope\n",
    "# -----------------------\n",
    "A  = 10**(dBgain/40)\n",
    "\n",
    "w0 = 2*pi*f0/Fs\n",
    "alpha = sin(w0)/2 * sqrt( (A + 1/A)*(1/S - 1) + 2 ) \n",
    "       \n",
    "b0 =    A*( (A+1) - (A-1)*cos(w0) + 2*sqrt(A)*alpha )\n",
    "b1 =  2*A*( (A-1) - (A+1)*cos(w0)                   )\n",
    "b2 =    A*( (A+1) - (A-1)*cos(w0) - 2*sqrt(A)*alpha )\n",
    "a0 =        (A+1) + (A-1)*cos(w0) + 2*sqrt(A)*alpha\n",
    "a1 =   -2*( (A-1) + (A+1)*cos(w0)                   )\n",
    "a2 =        (A+1) + (A-1)*cos(w0) - 2*sqrt(A)*alpha"
   ]
  },
  {
   "cell_type": "code",
   "execution_count": null,
   "metadata": {},
   "outputs": [],
   "source": [
    "w, h = freqz([b0, b1, b2], [a0, a1, a2])\n",
    "semilogy(w, abs(h))\n",
    "pass"
   ]
  },
  {
   "cell_type": "code",
   "execution_count": null,
   "metadata": {},
   "outputs": [],
   "source": [
    "Fs = 44100\n",
    "f0 = 10000.0\n",
    "dBgain = -20.0\n",
    "S = 2.0 # shelf slope\n",
    "\n",
    "A  = 10**(dBgain/40)\n",
    "\n",
    "w0 = 2*pi*f0/Fs\n",
    "alpha = sin(w0)/2 * sqrt( (A + 1/A)*(1/S - 1) + 2 ) \n",
    "    \n",
    "    \n",
    "b0 =    A*( (A+1) - (A-1)*cos(w0) + 2*sqrt(A)*alpha )\n",
    "b1 =  2*A*( (A-1) - (A+1)*cos(w0)                   )\n",
    "b2 =    A*( (A+1) - (A-1)*cos(w0) - 2*sqrt(A)*alpha )\n",
    "a0 =        (A+1) + (A-1)*cos(w0) + 2*sqrt(A)*alpha\n",
    "a1 =   -2*( (A-1) + (A+1)*cos(w0)                   )\n",
    "a2 =        (A+1) + (A-1)*cos(w0) - 2*sqrt(A)*alpha\n",
    "\n",
    "w, h = freqz([b0, b1, b2], [a0, a1, a2])\n",
    "plot(w,abs(h))\n",
    "pass"
   ]
  },
  {
   "cell_type": "code",
   "execution_count": null,
   "metadata": {},
   "outputs": [],
   "source": [
    "shelved = lfilter([b0, b1, b2], [a0, a1, a2], signal)\n",
    "specgram(shelved, Fs=44100)\n",
    "pass"
   ]
  },
  {
   "cell_type": "code",
   "execution_count": null,
   "metadata": {},
   "outputs": [],
   "source": [
    "PoleZeroPlot([b0, b1, b2], [a0, a1, a2])\n",
    "pass"
   ]
  },
  {
   "cell_type": "markdown",
   "metadata": {},
   "source": [
    "# Filter families"
   ]
  },
  {
   "cell_type": "markdown",
   "metadata": {},
   "source": [
    "<img src=\"http://upload.wikimedia.org/wikipedia/commons/5/5c/Electronic_linear_filters.svg\" width=\"100%\">"
   ]
  },
  {
   "cell_type": "markdown",
   "metadata": {},
   "source": [
    "## [Chebyshev Filters](http://en.wikipedia.org/wiki/Chebyshev_filter)\n",
    "\n",
    "* Type I: Ripple in the pass-band only\n",
    "* Type II: Ripple in the stop-band only"
   ]
  },
  {
   "cell_type": "code",
   "execution_count": null,
   "metadata": {},
   "outputs": [],
   "source": [
    "from scipy.signal import cheby1\n",
    "\n",
    "b, a = cheby1(4, 0.5, 0.1)\n",
    "b, a"
   ]
  },
  {
   "cell_type": "code",
   "execution_count": null,
   "metadata": {},
   "outputs": [],
   "source": [
    "w, h = freqz(b, a)\n",
    "plot(w, np.abs(h), 'b')\n",
    "pass"
   ]
  },
  {
   "cell_type": "code",
   "execution_count": null,
   "metadata": {},
   "outputs": [],
   "source": [
    "PoleZeroPlot(b, a)"
   ]
  },
  {
   "cell_type": "code",
   "execution_count": null,
   "metadata": {},
   "outputs": [],
   "source": [
    "ripples = [2, 0.5, 0.1, 0.01]\n",
    "\n",
    "for ripple in ripples:\n",
    "    b, a = cheby1(4, ripple, 0.6)\n",
    "    f, r = freqz(b, a)\n",
    "    plot(f, abs(r))\n",
    "\n",
    "legend(ripples)\n",
    "title('Different ripple values for a Chebyshev I filter')\n",
    "grid()"
   ]
  },
  {
   "cell_type": "code",
   "execution_count": null,
   "metadata": {},
   "outputs": [],
   "source": [
    "order = [2, 3, 4, 6]\n",
    "\n",
    "for o in order:\n",
    "    b, a = cheby1(o, 2, 0.6)\n",
    "    f, r = freqz(b, a)\n",
    "    plot(f, abs(r))\n",
    "\n",
    "\n",
    "legend(order)\n",
    "title('Different orders for a Chebyshev I filter')\n",
    "grid()"
   ]
  },
  {
   "cell_type": "code",
   "execution_count": null,
   "metadata": {},
   "outputs": [],
   "source": [
    "from scipy.signal import cheby2\n",
    "\n",
    "ripple = [12, 15, 20, 40]\n",
    "\n",
    "for r in ripples:\n",
    "    b, a = cheby2(4, r, 0.6)\n",
    "    f, r = freqz(b, a)\n",
    "    plot(f, abs(r))\n",
    "\n",
    "legend(ripple)\n",
    "title('Different ripple values for a Chebyshev II filter')\n",
    "grid()"
   ]
  },
  {
   "cell_type": "markdown",
   "metadata": {},
   "source": [
    "## Butterworth, Elliptic and Bessel filters"
   ]
  },
  {
   "cell_type": "code",
   "execution_count": null,
   "metadata": {},
   "outputs": [],
   "source": [
    "from scipy.signal import iirdesign"
   ]
  },
  {
   "cell_type": "code",
   "execution_count": null,
   "metadata": {},
   "outputs": [],
   "source": [
    "Wp = 0.5  # Cutoff frequency \n",
    "Ws = 0.6   # Stop frequency \n",
    "Rp = 0.1     # passband maximum loss (gpass)\n",
    "As = 60      # stoppand min attenuation (gstop)\n",
    "b, a = iirdesign(Wp, Ws, Rp, As, ftype='butter')\n",
    "f, r = freqz(b,a)\n",
    "plot(f, abs(r))\n",
    "twinx()\n",
    "plot(f, angle(r), 'r')\n",
    "\n",
    "title('Butterworth filter')\n",
    "grid()"
   ]
  },
  {
   "cell_type": "code",
   "execution_count": null,
   "metadata": {},
   "outputs": [],
   "source": [
    "Wp = 0.5  # Cutoff frequency \n",
    "Ws = 0.6   # Stop frequency \n",
    "Rp = 1     # passband maximum loss (gpass)\n",
    "As = 20      # stoppand min attenuation (gstop)\n",
    "\n",
    "types = ['butter', 'ellip', 'cheby1', 'cheby2']\n",
    "\n",
    "for t in types:\n",
    "    b, a = iirdesign(Wp, Ws, Rp, As, ftype=t)\n",
    "    f, r = freqz(b, a)\n",
    "    plot(f, abs(r))\n",
    "    \n",
    "legend(types)\n",
    "title('Filters')\n",
    "grid()"
   ]
  },
  {
   "cell_type": "markdown",
   "metadata": {},
   "source": [
    "You can use the *iirfilter* function from scipy.signal to design and filter in a single step.\n",
    "\n",
    "http://docs.scipy.org/doc/scipy/reference/signal.html#filter-design"
   ]
  },
  {
   "cell_type": "markdown",
   "metadata": {},
   "source": [
    "## Approximating arbitrary responses"
   ]
  },
  {
   "cell_type": "markdown",
   "metadata": {},
   "source": [
    "There are several techniques that allow you to arbitrarily define target filter responses."
   ]
  },
  {
   "cell_type": "code",
   "execution_count": null,
   "metadata": {},
   "outputs": [],
   "source": [
    "from scipy.signal import firwin2\n",
    "\n",
    "freqs = [0.0, 0.5, 1.0]\n",
    "gains = [1.0, 1.0, 0.0]\n",
    "order = 150\n",
    "\n",
    "taps = firwin2(order, freqs, gains)\n",
    "\n",
    "f, r = freqz(taps)\n",
    "plot(f, abs(r))\n",
    "twinx()\n",
    "plot(f, angle(r), 'r')\n",
    "pass"
   ]
  },
  {
   "cell_type": "code",
   "execution_count": null,
   "metadata": {},
   "outputs": [],
   "source": [
    "freqs = [0.0, 0.3, 0.5, 0.8, 1.0]\n",
    "gains = [1.0, 0.2, 0.5, 0.1, 0.0]\n",
    "order = 200\n",
    "\n",
    "taps = firwin2(order, freqs, gains)\n",
    "\n",
    "f, r = freqz(taps)\n",
    "plot(f, abs(r))\n",
    "twinx()\n",
    "plot(f, angle(r), 'r')\n",
    "pass"
   ]
  },
  {
   "cell_type": "code",
   "execution_count": null,
   "metadata": {},
   "outputs": [],
   "source": [
    "shaped = lfilter(taps, [1], signal)\n",
    "specgram(shaped, Fs=44100)\n",
    "pass"
   ]
  },
  {
   "cell_type": "markdown",
   "metadata": {},
   "source": [
    "## [Remez filter design](https://en.wikipedia.org/wiki/Remez_algorithm)\n",
    "[Parks-McClellan Filter design](https://en.wikipedia.org/wiki/Parks%E2%80%93McClellan_filter_design_algorithm) is a popular refinement of Remez specifically for FIR filters."
   ]
  },
  {
   "cell_type": "code",
   "execution_count": null,
   "metadata": {},
   "outputs": [],
   "source": [
    "from scipy.signal import remez\n",
    "        \n",
    "freqs = [0, 0.1, 0.2, 0.4, 0.45, 0.5]\n",
    "gains = [0, 1, 0]\n",
    "\n",
    "taps = remez(50, freqs, gains, type='bandpass')\n",
    "\n",
    "f, r = freqz(taps)\n",
    "plot(f/(2*pi), abs(r))\n",
    "twinx()\n",
    "plot(f/(2*pi), angle(r), 'r')\n",
    "pass"
   ]
  },
  {
   "cell_type": "code",
   "execution_count": null,
   "metadata": {},
   "outputs": [],
   "source": [
    "from scipy.signal import remez\n",
    "        \n",
    "freqs = [0, 0.1, 0.3, 0.4, 0.45, 0.5]\n",
    "gains = [0, 1, 0]\n",
    "\n",
    "taps = remez(16, freqs, gains, type='bandpass')\n",
    "\n",
    "f, r = freqz(taps)\n",
    "plot(f/(2*pi), abs(r))\n",
    "twinx()\n",
    "plot(f/(2*pi), angle(r), 'r')"
   ]
  },
  {
   "cell_type": "markdown",
   "metadata": {},
   "source": [
    "## [All-pass filters](https://en.wikipedia.org/wiki/All-pass_filter)\n",
    "\n",
    "> a signal processing filter that passes all frequencies equally in gain, but changes the phase relationship among various frequencies. It does this by varying its phase shift as a function of frequency.\n",
    "\n",
    "[What are allpass filters and what are they used for?](http://www.uaudio.com/blog/allpass-filters)\n",
    "\n",
    "> ...neither emphasize nor de-emphasize any part of the spectrum. Rather, they displace signals in time as a function of frequency. The time displacement accomplished by an allpass filter is specified by its phase response. ... If impulse response lengths are kept low, these filters can modify signal phase in a transparent way. With longer impulse responses, allpass filters can be used to create audible effects while preserving the spectral balance of a signal.\n",
    "\n",
    "\n",
    "There are many ways of implmenting an all-pass filter. One is:\n",
    "\n",
    "$$y(n) = -gx(n) + x(n-D) + gy(y-D)$$"
   ]
  },
  {
   "cell_type": "code",
   "execution_count": null,
   "metadata": {},
   "outputs": [],
   "source": [
    "from scipy.signal import freqz\n",
    "g = 0.9 # g is for gain?\n",
    "b = [-g, 0, 0,  1]\n",
    "a = [ 1, 0, 0, -g]\n",
    "\n",
    "# what is the value of D here?\n",
    "\n",
    "f, r = freqz(b, a)\n",
    "plot(f, abs(r))\n",
    "pass"
   ]
  },
  {
   "cell_type": "code",
   "execution_count": null,
   "metadata": {},
   "outputs": [],
   "source": [
    "plot(f, angle(r))\n",
    "xlabel('freq')\n",
    "ylabel('angle')\n",
    "pass"
   ]
  },
  {
   "cell_type": "code",
   "execution_count": null,
   "metadata": {},
   "outputs": [],
   "source": [
    "signal = sin(linspace(0, 2*pi*5, 1000, endpoint=False)) + sin(linspace(0, 2*pi*30, 1000, endpoint=False))\n",
    "plot(signal)\n",
    "pass"
   ]
  },
  {
   "cell_type": "code",
   "execution_count": null,
   "metadata": {},
   "outputs": [],
   "source": [
    "from scipy.signal import lfilter\n",
    "f = lfilter(b, a, signal)\n",
    "subplot(211)\n",
    "plot(abs(rfft(f)), label='filtered')\n",
    "xlim((0,80))\n",
    "legend()\n",
    "subplot(212)\n",
    "plot(abs(rfft(signal)), label='original')\n",
    "legend()\n",
    "xlim((0,80))"
   ]
  },
  {
   "cell_type": "code",
   "execution_count": null,
   "metadata": {},
   "outputs": [],
   "source": [
    "plot(angle(rfft(f)), label='filtered')\n",
    "plot(angle(rfft(signal)), label='original')\n",
    "xlabel('frequency')\n",
    "ylabel('phase')\n",
    "legend()\n",
    "pass"
   ]
  },
  {
   "cell_type": "code",
   "execution_count": null,
   "metadata": {},
   "outputs": [],
   "source": [
    "stem(angle(rfft(f)), linefmt='b:', label='filtered')\n",
    "stem(angle(rfft(signal)), 'g.-.', label='original')\n",
    "\n",
    "legend()\n",
    "xlim(0,50)"
   ]
  },
  {
   "cell_type": "code",
   "execution_count": null,
   "metadata": {},
   "outputs": [],
   "source": [
    "angle(r)[5], angle(r)[30]"
   ]
  },
  {
   "cell_type": "code",
   "execution_count": null,
   "metadata": {},
   "outputs": [],
   "source": [
    "angle(rfft(f))[5] - angle(rfft(signal))[5]"
   ]
  },
  {
   "cell_type": "code",
   "execution_count": null,
   "metadata": {},
   "outputs": [],
   "source": [
    "angle(rfft(f))[30] - angle(rfft(signal))[30]"
   ]
  },
  {
   "cell_type": "markdown",
   "metadata": {},
   "source": [
    "hmmm...."
   ]
  },
  {
   "cell_type": "code",
   "execution_count": null,
   "metadata": {},
   "outputs": [],
   "source": [
    "angle(rfft(f))[30] - angle(rfft(signal))[30] - (2 * pi)"
   ]
  },
  {
   "cell_type": "code",
   "execution_count": null,
   "metadata": {},
   "outputs": [],
   "source": [
    "plot(signal)\n",
    "plot(f)\n",
    "xlim((0, 200))\n",
    "grid()"
   ]
  },
  {
   "cell_type": "markdown",
   "metadata": {},
   "source": [
    "## Excersise\n",
    "\n",
    "1. Implement and test a [DC Blocker](https://ccrma.stanford.edu/~jos/fp/DC_Blocker.html) filter. That is, make a semi-complex signal with some DC offset. For instance, mix 3 sine waves of different frequencies with some constant, non-periodic signal with amplitude between -1 and 1. Then build a filter that, when applied to you signal, removes the DC but leaves the sine waves untouched. Show the frequency and phase response of your filter.\n",
    "\n",
    "2. Audio signals commonly suffer from [\"mains hum\"](https://en.wikipedia.org/wiki/Mains_hum). Given this example of [mains hum](http://www.mat.ucsb.edu/201A/nb/Mains_hum_60_Hz_01.wav), design a filter to clean up [this noisy recording](http://www.mat.ucsb.edu/201A/nb/AlanWattsWithMainsHum.wav).\n"
   ]
  },
  {
   "cell_type": "markdown",
   "metadata": {},
   "source": [
    "By: Andrés Cabrera mantaraya36@gmail.com\n",
    "For MAT course MAT 201A at UCSB\n",
    "\n",
    "Adapted by Karl Yerkes\n",
    "\n",
    "This ipython notebook is licensed under the CC-BY-NC-SA license: http://creativecommons.org/licenses/by-nc-sa/4.0/\n",
    "\n",
    "![http://i.creativecommons.org/l/by-nc-sa/3.0/88x31.png](http://i.creativecommons.org/l/by-nc-sa/3.0/88x31.png)"
   ]
  }
 ],
 "metadata": {
  "kernelspec": {
   "display_name": "Python 3",
   "language": "python",
   "name": "python3"
  },
  "language_info": {
   "codemirror_mode": {
    "name": "ipython",
    "version": 3
   },
   "file_extension": ".py",
   "mimetype": "text/x-python",
   "name": "python",
   "nbconvert_exporter": "python",
   "pygments_lexer": "ipython3",
   "version": "3.6.1"
  }
 },
 "nbformat": 4,
 "nbformat_minor": 1
}
