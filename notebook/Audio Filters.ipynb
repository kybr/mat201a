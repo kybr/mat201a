{
 "metadata": {
  "name": ""
 },
 "nbformat": 3,
 "nbformat_minor": 0,
 "worksheets": [
  {
   "cells": [
    {
     "cell_type": "code",
     "collapsed": false,
     "input": [
      "%pylab inline\n",
      "rcParams['figure.figsize'] = (10, 4) #wide graphs by default\n",
      "from __future__ import print_function\n",
      "from __future__ import division"
     ],
     "language": "python",
     "metadata": {},
     "outputs": []
    },
    {
     "cell_type": "heading",
     "level": 1,
     "metadata": {},
     "source": [
      "Audio Filters"
     ]
    },
    {
     "cell_type": "code",
     "collapsed": false,
     "input": [
      "sig = random.random(2048)*2 -1"
     ],
     "language": "python",
     "metadata": {},
     "outputs": [],
     "prompt_number": null
    },
    {
     "cell_type": "code",
     "collapsed": false,
     "input": [
      "Pxx, freqs, times, im = specgram(sig, interpolation='nearest');\n",
      "colorbar()"
     ],
     "language": "python",
     "metadata": {},
     "outputs": [],
     "prompt_number": null
    },
    {
     "cell_type": "code",
     "collapsed": false,
     "input": [
      "Pxx.shape"
     ],
     "language": "python",
     "metadata": {},
     "outputs": [],
     "prompt_number": null
    },
    {
     "cell_type": "code",
     "collapsed": false,
     "input": [
      "2048/256"
     ],
     "language": "python",
     "metadata": {},
     "outputs": [],
     "prompt_number": null
    },
    {
     "cell_type": "code",
     "collapsed": false,
     "input": [
      "plot(Pxx[:,10])"
     ],
     "language": "python",
     "metadata": {},
     "outputs": [],
     "prompt_number": null
    },
    {
     "cell_type": "code",
     "collapsed": false,
     "input": [
      "filtered = (sig + r_[0,sig[:-1]])\n",
      "Pxx2, freqs, times, im = specgram(filtered);\n",
      "colorbar()"
     ],
     "language": "python",
     "metadata": {},
     "outputs": [],
     "prompt_number": null
    },
    {
     "cell_type": "code",
     "collapsed": false,
     "input": [
      "plot(Pxx2[:,10])"
     ],
     "language": "python",
     "metadata": {},
     "outputs": [],
     "prompt_number": null
    },
    {
     "cell_type": "code",
     "collapsed": false,
     "input": [
      "plot(Pxx[:,10])\n",
      "plot(Pxx2[:,10])"
     ],
     "language": "python",
     "metadata": {},
     "outputs": [],
     "prompt_number": null
    },
    {
     "cell_type": "code",
     "collapsed": false,
     "input": [
      "plot(Pxx[:,10])\n",
      "plot(Pxx2[:,10]/4.0)"
     ],
     "language": "python",
     "metadata": {},
     "outputs": [],
     "prompt_number": null
    },
    {
     "cell_type": "markdown",
     "metadata": {},
     "source": [
      "Difference equation:\n",
      "\n",
      "$$y(n) = b_0x(n) + b_1x(n-1) + ... + b_Mx(n-M)$$\n",
      "\n",
      "for this simple filter:\n",
      "\n",
      "$$y(n) = x(n) + x(n-1)$$"
     ]
    },
    {
     "cell_type": "markdown",
     "metadata": {},
     "source": [
      "You can estimate the effect of frequency from the difference equation!"
     ]
    },
    {
     "cell_type": "code",
     "collapsed": false,
     "input": [
      "from scipy.signal import freqz\n",
      "frq, resp = freqz([1,1])\n",
      "semilogy(frq, abs(resp))\n",
      "title('Frequency Response')\n",
      "grid()\n"
     ],
     "language": "python",
     "metadata": {},
     "outputs": [],
     "prompt_number": null
    },
    {
     "cell_type": "code",
     "collapsed": false,
     "input": [
      "plot(frq, angle(resp))\n",
      "title('Phase Response')\n",
      "grid()"
     ],
     "language": "python",
     "metadata": {},
     "outputs": [],
     "prompt_number": null
    },
    {
     "cell_type": "code",
     "collapsed": false,
     "input": [
      "filtered2 = (sig + 0.5*r_[0,sig[:-1]])\n",
      "Pxx3, freqs, times, im = specgram(filtered2);"
     ],
     "language": "python",
     "metadata": {},
     "outputs": [],
     "prompt_number": null
    },
    {
     "cell_type": "markdown",
     "metadata": {},
     "source": [
      "$$y(n) = x(n) + 0.5 \\cdot x(n-1)$$"
     ]
    },
    {
     "cell_type": "code",
     "collapsed": false,
     "input": [
      "plot(Pxx3[:,10])"
     ],
     "language": "python",
     "metadata": {},
     "outputs": [],
     "prompt_number": null
    },
    {
     "cell_type": "code",
     "collapsed": false,
     "input": [
      "plot(Pxx[:,10])\n",
      "plot(Pxx2[:,10]/4.0)\n",
      "plot(Pxx3[:,10]/(1.5**2))"
     ],
     "language": "python",
     "metadata": {},
     "outputs": [],
     "prompt_number": null
    },
    {
     "cell_type": "code",
     "collapsed": false,
     "input": [
      "from scipy.signal import freqz\n",
      "frq, resp = freqz([1,1])\n",
      "semilogy(frq, abs(resp))\n",
      "\n",
      "frq, resp = freqz([1,0.5])\n",
      "semilogy(frq, abs(resp))\n",
      "title('Frequency Response')\n",
      "grid()"
     ],
     "language": "python",
     "metadata": {},
     "outputs": [],
     "prompt_number": null
    },
    {
     "cell_type": "code",
     "collapsed": false,
     "input": [
      "frq, resp = freqz([1,1])\n",
      "semilogy(frq, abs(resp))\n",
      "\n",
      "frq, resp = freqz([1,2])\n",
      "semilogy(frq, abs(resp))\n",
      "\n",
      "\n",
      "frq, resp = freqz([1,0.5])\n",
      "semilogy(frq, abs(resp))\n",
      "title('Frequency Response')\n",
      "grid()"
     ],
     "language": "python",
     "metadata": {},
     "outputs": [],
     "prompt_number": null
    },
    {
     "cell_type": "code",
     "collapsed": false,
     "input": [
      "frq, resp = freqz([1,-1])\n",
      "semilogy(frq, abs(resp))\n",
      "title('Frequency Response')\n",
      "grid()"
     ],
     "language": "python",
     "metadata": {},
     "outputs": [],
     "prompt_number": null
    },
    {
     "cell_type": "markdown",
     "metadata": {},
     "source": [
      "# Transfer function\n",
      "\n",
      "$$ Y(z) = H(z) \\cdot X(z) $$\n",
      "\n",
      "$$ H(z) = \\frac{Y(z)}{X(z)} $$\n",
      "\n",
      "\n",
      "# z-transform\n",
      "\n",
      "$$\\mathcal{Z}[x(n-M)] = z^{-M}X(z)$$\n",
      "\n",
      "z-transform on the difference equation:\n",
      "\n",
      "$$Y(z) = b_0z^{0}X(z) + b_1z^{-1}X(z) + ... + b_Mz^{-M}X(z) - a_1z^{-1}Y(z) - a_2z^{-2}Y(z) - ... - a_Mz^{-M}Y(z)$$\n",
      "\n",
      "$$ [1 + a_1z^{-1} + a_2z^{-2} - ... + a_Mz^{-M}] \\cdot Y(z) = [b_0z^{0} + b_1z^{-1} + ... + b_Mz^{-M}]\\cdot X(z) $$\n",
      "\n",
      "$$H(z) = \\frac{Y(z)}{X(z)} = \\frac{b_0z^{0} + b_1z^{-1} + ... + b_Mz^{-M}}{ 1 + a_1z^{-1} - a_2z^{-2} - ... - a_Mz^{-M}}$$\n"
     ]
    },
    {
     "cell_type": "heading",
     "level": 1,
     "metadata": {},
     "source": [
      "One-pole filters"
     ]
    },
    {
     "cell_type": "markdown",
     "metadata": {},
     "source": [
      "$$y(n) = b_0x(n) - a_1y(n-1)$$"
     ]
    },
    {
     "cell_type": "code",
     "collapsed": false,
     "input": [
      "from scipy.signal import lfilter\n",
      "filtered4 = lfilter([1],[1, 1], sig)\n",
      "specgram(filtered4);"
     ],
     "language": "python",
     "metadata": {},
     "outputs": [],
     "prompt_number": null
    },
    {
     "cell_type": "code",
     "collapsed": false,
     "input": [
      "frq, Y = freqz([1], [1,1])\n",
      "semilogy(frq, abs(Y))\n"
     ],
     "language": "python",
     "metadata": {},
     "outputs": [],
     "prompt_number": null
    },
    {
     "cell_type": "code",
     "collapsed": false,
     "input": [
      "frq, Y = freqz([1], [1,0.5])\n",
      "semilogy(frq, abs(Y))"
     ],
     "language": "python",
     "metadata": {},
     "outputs": [],
     "prompt_number": null
    },
    {
     "cell_type": "code",
     "collapsed": false,
     "input": [
      "frq, Y = freqz([1], [1,-0.5])\n",
      "semilogy(frq, abs(Y))"
     ],
     "language": "python",
     "metadata": {},
     "outputs": [],
     "prompt_number": null
    },
    {
     "cell_type": "code",
     "collapsed": false,
     "input": [
      "frq, Y = freqz([1], [1,-0.5])\n",
      "plot(frq, angle(Y))"
     ],
     "language": "python",
     "metadata": {},
     "outputs": [],
     "prompt_number": null
    },
    {
     "cell_type": "markdown",
     "metadata": {},
     "source": [
      "$$H(z) = \\frac{b_0z^{0} + b_1z^{-1} + \\cdots + b_Mz^{-M}}{ a_0z^{0} + a_1z^{-1} + a_2z^{-2}  + \\cdots + a_Mz^{-M}}$$\n",
      "\n",
      " * FIR filters are always stable\n",
      " * IIR filters can produce steeper filters with smaller orders"
     ]
    },
    {
     "cell_type": "heading",
     "level": 1,
     "metadata": {},
     "source": [
      "Pole-zero analysis"
     ]
    },
    {
     "cell_type": "code",
     "collapsed": false,
     "input": [
      "from scipy.signal import tf2zpk\n",
      "\n",
      "tf2zpk([1,1],[1])"
     ],
     "language": "python",
     "metadata": {},
     "outputs": [],
     "prompt_number": null
    },
    {
     "cell_type": "code",
     "collapsed": false,
     "input": [
      "tf2zpk([1],[1, 1])"
     ],
     "language": "python",
     "metadata": {},
     "outputs": [],
     "prompt_number": null
    },
    {
     "cell_type": "code",
     "collapsed": false,
     "input": [
      "tf2zpk([2, 2],[1])"
     ],
     "language": "python",
     "metadata": {},
     "outputs": [],
     "prompt_number": null
    },
    {
     "cell_type": "code",
     "collapsed": false,
     "input": [
      "def PoleZeroPlot(b, a):\n",
      "    (zeros,poles,gain) = tf2zpk(b, a)\n",
      "    angle = np.linspace(-np.pi,np.pi,50)\n",
      "    cirx = np.sin(angle)\n",
      "    ciry = np.cos(angle)\n",
      "    figure()\n",
      "    plot(poles.real, poles.imag, 'x', zeros.real, zeros.imag, 'o', cirx,ciry, 'k-')\n",
      "    grid()\n",
      "    \n",
      "    xlim((-2, 2))\n",
      "    xlabel('Real')\n",
      "    ylim((-1.5, 1.5))\n",
      "    ylabel('Imag')\n",
      "    gcf().set_figwidth(5)\n",
      "    return (zeros,poles,gain)"
     ],
     "language": "python",
     "metadata": {},
     "outputs": [],
     "prompt_number": null
    },
    {
     "cell_type": "code",
     "collapsed": false,
     "input": [
      "PoleZeroPlot([1,1],[1])"
     ],
     "language": "python",
     "metadata": {},
     "outputs": [],
     "prompt_number": null
    },
    {
     "cell_type": "code",
     "collapsed": false,
     "input": [
      "PoleZeroPlot([1],[1,1])"
     ],
     "language": "python",
     "metadata": {},
     "outputs": [],
     "prompt_number": null
    },
    {
     "cell_type": "code",
     "collapsed": false,
     "input": [
      "PoleZeroPlot([1],[1,1.1])"
     ],
     "language": "python",
     "metadata": {},
     "outputs": [],
     "prompt_number": null
    },
    {
     "cell_type": "markdown",
     "metadata": {},
     "source": [
      "When a pole is outside the unit circle in the z-plane the filter is unstable!"
     ]
    },
    {
     "cell_type": "code",
     "collapsed": false,
     "input": [
      "PoleZeroPlot([1],[1.1,1.1])"
     ],
     "language": "python",
     "metadata": {},
     "outputs": [],
     "prompt_number": null
    },
    {
     "cell_type": "heading",
     "level": 1,
     "metadata": {},
     "source": [
      "Comb filters"
     ]
    },
    {
     "cell_type": "markdown",
     "metadata": {},
     "source": [
      "$$y(n) = b_0x(n) + b_m\\cdot x(n-m)$$"
     ]
    },
    {
     "cell_type": "code",
     "collapsed": false,
     "input": [
      "b = [1,0,0,0,0,0,0,1]\n",
      "a = [1]\n",
      "frq, resp = freqz(b,a)\n",
      "plot(frq, abs(resp))"
     ],
     "language": "python",
     "metadata": {},
     "outputs": [],
     "prompt_number": null
    },
    {
     "cell_type": "code",
     "collapsed": false,
     "input": [
      "b = [1,0,0,0,0,0,1]\n",
      "a = [1]\n",
      "frq, resp = freqz(b,a)\n",
      "plot(frq, abs(resp))"
     ],
     "language": "python",
     "metadata": {},
     "outputs": [],
     "prompt_number": null
    },
    {
     "cell_type": "code",
     "collapsed": false,
     "input": [
      "b = [1,0,0,0,0,0,0,0,0,0,0,1]\n",
      "a = [1]\n",
      "frq, resp = freqz(b,a)\n",
      "semilogy(frq, abs(resp))\n",
      "\n",
      "twinx()\n",
      "\n",
      "plot(frq, angle(resp), 'r')"
     ],
     "language": "python",
     "metadata": {},
     "outputs": [],
     "prompt_number": null
    },
    {
     "cell_type": "code",
     "collapsed": false,
     "input": [
      "b = [1,0,0,0,0,0,0,-1]\n",
      "a = [1]\n",
      "frq, resp = freqz(b,a)\n",
      "plot(frq, abs(resp))\n",
      "\n",
      "b = [1,0,0,0,0,0,0,1]\n",
      "a = [1]\n",
      "frq, resp = freqz(b,a)\n",
      "plot(frq, abs(resp))"
     ],
     "language": "python",
     "metadata": {},
     "outputs": [],
     "prompt_number": null
    },
    {
     "cell_type": "heading",
     "level": 2,
     "metadata": {},
     "source": [
      "IIR Comb-fiters"
     ]
    },
    {
     "cell_type": "markdown",
     "metadata": {},
     "source": [
      "$$y(n) = b_0x(n) + b_m\\cdot x(n-m) - a_m\\cdot y(n-m)$$"
     ]
    },
    {
     "cell_type": "code",
     "collapsed": false,
     "input": [
      "b = [1,0,0,0,0,0,0,-1]\n",
      "a = [1,0,0,0,0,0,0,1]\n",
      "frq, resp = freqz(b,a)\n",
      "semilogy(frq, abs(resp));"
     ],
     "language": "python",
     "metadata": {},
     "outputs": [],
     "prompt_number": null
    },
    {
     "cell_type": "code",
     "collapsed": false,
     "input": [
      "b = [1]\n",
      "a = [1,0,0,0,0,0,0,1]\n",
      "frq, resp = freqz(b,a, worN=8192)\n",
      "semilogy(frq, abs(resp));"
     ],
     "language": "python",
     "metadata": {},
     "outputs": [],
     "prompt_number": null
    },
    {
     "cell_type": "heading",
     "level": 1,
     "metadata": {},
     "source": [
      "Two-zero filters"
     ]
    },
    {
     "cell_type": "code",
     "collapsed": false,
     "input": [
      "b = [1, 1, 1]\n",
      "a = [1]\n",
      "frq, resp = freqz(b,a)\n",
      "semilogy(frq, abs(resp))"
     ],
     "language": "python",
     "metadata": {},
     "outputs": [],
     "prompt_number": null
    },
    {
     "cell_type": "markdown",
     "metadata": {},
     "source": [
      "$$\\frac{b_1}{b_0} = -2R\\cos(\\Theta_c)$$\n",
      "$$\\frac{b_2}{b_0} = R^2$$"
     ]
    },
    {
     "cell_type": "code",
     "collapsed": false,
     "input": [
      "R = 0.8\n",
      "theta_c = 1.0\n",
      "b = [1, -2*R*cos(theta_c), R**2]\n",
      "a = [1]\n",
      "\n",
      "frq, resp = freqz(b,a)\n",
      "semilogy(frq, abs(resp))"
     ],
     "language": "python",
     "metadata": {},
     "outputs": [],
     "prompt_number": null
    },
    {
     "cell_type": "code",
     "collapsed": false,
     "input": [
      "R = 1\n",
      "theta_c = 2.0\n",
      "b = [1, -2*R*cos(theta_c), R**2]\n",
      "a = [1]\n",
      "\n",
      "frq, resp = freqz(b,a)\n",
      "plot(frq, abs(resp))"
     ],
     "language": "python",
     "metadata": {},
     "outputs": [],
     "prompt_number": null
    },
    {
     "cell_type": "code",
     "collapsed": false,
     "input": [
      "R = 1\n",
      "theta_c = 1.5\n",
      "b = [1, -2*R*cos(theta_c), R**2]\n",
      "a = [1]\n",
      "\n",
      "frq, resp = freqz(b,a)\n",
      "plot(frq, abs(resp))"
     ],
     "language": "python",
     "metadata": {},
     "outputs": [],
     "prompt_number": null
    },
    {
     "cell_type": "code",
     "collapsed": false,
     "input": [
      "PoleZeroPlot(b,a)"
     ],
     "language": "python",
     "metadata": {},
     "outputs": [],
     "prompt_number": null
    },
    {
     "cell_type": "heading",
     "level": 1,
     "metadata": {},
     "source": [
      "Two-pole filters"
     ]
    },
    {
     "cell_type": "code",
     "collapsed": false,
     "input": [
      "R = 1\n",
      "theta_c = 2.0\n",
      "b = [1]\n",
      "a = [1, -2*R*cos(2.0), R**2]\n",
      "\n",
      "frq, resp = freqz(b,a)\n",
      "plot(frq, abs(resp))"
     ],
     "language": "python",
     "metadata": {},
     "outputs": [],
     "prompt_number": null
    },
    {
     "cell_type": "code",
     "collapsed": false,
     "input": [
      "poles, zeros, k = PoleZeroPlot(b,a)"
     ],
     "language": "python",
     "metadata": {},
     "outputs": [],
     "prompt_number": null
    },
    {
     "cell_type": "code",
     "collapsed": false,
     "input": [
      "abs(zeros)"
     ],
     "language": "python",
     "metadata": {},
     "outputs": [],
     "prompt_number": null
    },
    {
     "cell_type": "code",
     "collapsed": false,
     "input": [
      "R = 0.9\n",
      "theta_c = 1.5\n",
      "b = [1]\n",
      "a = [1, -2*R*cos(theta_c), R**2]\n",
      "\n",
      "frq, resp = freqz(b,a)\n",
      "plot(frq, abs(resp))"
     ],
     "language": "python",
     "metadata": {},
     "outputs": [],
     "prompt_number": null
    },
    {
     "cell_type": "code",
     "collapsed": false,
     "input": [
      "poles, zeros, k = PoleZeroPlot(b,a)"
     ],
     "language": "python",
     "metadata": {},
     "outputs": [],
     "prompt_number": null
    },
    {
     "cell_type": "heading",
     "level": 1,
     "metadata": {},
     "source": [
      "Biquad Filter"
     ]
    },
    {
     "cell_type": "markdown",
     "metadata": {},
     "source": [
      "$$H(z) = \\frac{b_0z^{0} + b_1z^{-1} +  b_2z^{-2}}{ a_0z^{0} + a_1z^{-1} + a_2z^{-2}}$$\n",
      "\n",
      "Great \"cookbook\":\n",
      "[http://www.musicdsp.org/files/Audio-EQ-Cookbook.txt](http://www.musicdsp.org/files/Audio-EQ-Cookbook.txt)"
     ]
    },
    {
     "cell_type": "code",
     "collapsed": false,
     "input": [
      "# low shelf-filter\n",
      "\n",
      "Fs = 44100\n",
      "f0 = 10000.0\n",
      "dBgain = 30.0\n",
      "S = 1.0 # shelf slope\n",
      "# -----------------------\n",
      "A  = 10**(dBgain/40)\n",
      "\n",
      "w0 = 2*pi*f0/Fs\n",
      "alpha = sin(w0)/2 * sqrt( (A + 1/A)*(1/S - 1) + 2 ) \n",
      "       \n",
      "b0 =    A*( (A+1) - (A-1)*cos(w0) + 2*sqrt(A)*alpha )\n",
      "b1 =  2*A*( (A-1) - (A+1)*cos(w0)                   )\n",
      "b2 =    A*( (A+1) - (A-1)*cos(w0) - 2*sqrt(A)*alpha )\n",
      "a0 =        (A+1) + (A-1)*cos(w0) + 2*sqrt(A)*alpha\n",
      "a1 =   -2*( (A-1) + (A+1)*cos(w0)                   )\n",
      "a2 =        (A+1) + (A-1)*cos(w0) - 2*sqrt(A)*alpha"
     ],
     "language": "python",
     "metadata": {},
     "outputs": [],
     "prompt_number": null
    },
    {
     "cell_type": "code",
     "collapsed": false,
     "input": [
      "w, h = freqz([b0, b1, b2], [a0, a1, a2])\n",
      "semilogy(w,abs(h))"
     ],
     "language": "python",
     "metadata": {},
     "outputs": [],
     "prompt_number": null
    },
    {
     "cell_type": "code",
     "collapsed": false,
     "input": [
      "Fs = 44100\n",
      "f0 = 10000.0\n",
      "dBgain = -20.0\n",
      "S = 2.0 # shelf slope\n",
      "\n",
      "A  = 10**(dBgain/40)\n",
      "\n",
      "w0 = 2*pi*f0/Fs\n",
      "alpha = sin(w0)/2 * sqrt( (A + 1/A)*(1/S - 1) + 2 ) \n",
      "    \n",
      "    \n",
      "b0 =    A*( (A+1) - (A-1)*cos(w0) + 2*sqrt(A)*alpha )\n",
      "b1 =  2*A*( (A-1) - (A+1)*cos(w0)                   )\n",
      "b2 =    A*( (A+1) - (A-1)*cos(w0) - 2*sqrt(A)*alpha )\n",
      "a0 =        (A+1) + (A-1)*cos(w0) + 2*sqrt(A)*alpha\n",
      "a1 =   -2*( (A-1) + (A+1)*cos(w0)                   )\n",
      "a2 =        (A+1) + (A-1)*cos(w0) - 2*sqrt(A)*alpha\n",
      "\n",
      "w, h = freqz([b0, b1, b2], [a0, a1, a2])\n",
      "plot(w,abs(h))"
     ],
     "language": "python",
     "metadata": {},
     "outputs": [],
     "prompt_number": null
    },
    {
     "cell_type": "code",
     "collapsed": false,
     "input": [
      "shelved = lfilter([b0, b1, b2], [a0, a1, a2], sig)\n",
      "specgram(shelved);"
     ],
     "language": "python",
     "metadata": {},
     "outputs": [],
     "prompt_number": null
    },
    {
     "cell_type": "code",
     "collapsed": false,
     "input": [
      "PoleZeroPlot([b0, b1, b2], [a0, a1, a2]);"
     ],
     "language": "python",
     "metadata": {},
     "outputs": [],
     "prompt_number": null
    },
    {
     "cell_type": "heading",
     "level": 1,
     "metadata": {},
     "source": [
      "Filter families"
     ]
    },
    {
     "cell_type": "markdown",
     "metadata": {},
     "source": [
      "<img src=\"http://upload.wikimedia.org/wikipedia/commons/5/5c/Electronic_linear_filters.svg\" width=\"100%\">"
     ]
    },
    {
     "cell_type": "heading",
     "level": 2,
     "metadata": {},
     "source": [
      "Chebyshev Filters"
     ]
    },
    {
     "cell_type": "markdown",
     "metadata": {},
     "source": [
      "http://en.wikipedia.org/wiki/Chebyshev_filter\n",
      "\n",
      "* Type I: Ripple in the pass-band only\n",
      "* Type II: Ripple in the stop-band only"
     ]
    },
    {
     "cell_type": "code",
     "collapsed": false,
     "input": [
      "from scipy.signal import cheby1\n",
      "\n",
      "b, a = cheby1(4, 0.5, 0.1)\n",
      "b,a"
     ],
     "language": "python",
     "metadata": {},
     "outputs": [],
     "prompt_number": null
    },
    {
     "cell_type": "code",
     "collapsed": false,
     "input": [
      "w, h = freqz(b,a)\n",
      "plot(w, np.abs(h), 'b')"
     ],
     "language": "python",
     "metadata": {},
     "outputs": [],
     "prompt_number": null
    },
    {
     "cell_type": "code",
     "collapsed": false,
     "input": [
      "PoleZeroPlot(b,a)"
     ],
     "language": "python",
     "metadata": {},
     "outputs": [],
     "prompt_number": null
    },
    {
     "cell_type": "code",
     "collapsed": false,
     "input": [
      "ripples = [2, 0.5, 0.1, 0.01]\n",
      "\n",
      "for ripple in ripples:\n",
      "    b, a = cheby1(4, ripple, 0.6)\n",
      "    frq, resp = freqz(b,a)\n",
      "    plot(frq, abs(resp))\n",
      "\n",
      "\n",
      "legend(ripples)\n",
      "title('Different ripple values for a Chebyshev I filter')\n",
      "grid()"
     ],
     "language": "python",
     "metadata": {},
     "outputs": [],
     "prompt_number": null
    },
    {
     "cell_type": "code",
     "collapsed": false,
     "input": [
      "orders = [2,3,4,6]\n",
      "\n",
      "for order in orders:\n",
      "    b, a = cheby1(order, 2, 0.6)\n",
      "    frq, resp = freqz(b,a)\n",
      "    plot(frq, abs(resp))\n",
      "\n",
      "\n",
      "legend(orders)\n",
      "title('Different orders for a Chebyshev I filter')\n",
      "grid()"
     ],
     "language": "python",
     "metadata": {},
     "outputs": [],
     "prompt_number": null
    },
    {
     "cell_type": "code",
     "collapsed": false,
     "input": [
      "from scipy.signal import cheby2\n",
      "\n",
      "ripples = [12, 15, 20, 40]\n",
      "\n",
      "for ripple in ripples:\n",
      "    b, a = cheby2(4, ripple, 0.6)\n",
      "    frq, resp = freqz(b,a)\n",
      "    plot(frq, abs(resp))\n",
      "\n",
      "legend(ripples)\n",
      "title('Different ripple values for a Chebyshev II filter')\n",
      "grid()"
     ],
     "language": "python",
     "metadata": {},
     "outputs": [],
     "prompt_number": null
    },
    {
     "cell_type": "heading",
     "level": 2,
     "metadata": {},
     "source": [
      "Butterworth, Elliptic and Bessel filters"
     ]
    },
    {
     "cell_type": "code",
     "collapsed": false,
     "input": [
      "from scipy.signal import iirdesign"
     ],
     "language": "python",
     "metadata": {},
     "outputs": [],
     "prompt_number": null
    },
    {
     "cell_type": "code",
     "collapsed": false,
     "input": [
      "Wp = 0.5  # Cutoff frequency \n",
      "Ws = 0.6   # Stop frequency \n",
      "Rp = 0.1     # passband maximum loss (gpass)\n",
      "As = 60      # stoppand min attenuation (gstop)\n",
      "b,a = iirdesign(Wp, Ws, Rp, As, ftype='butter')\n",
      "frq, resp = freqz(b,a)\n",
      "plot(frq, abs(resp))\n",
      "twinx()\n",
      "plot(frq, angle(resp), 'r')\n",
      "\n",
      "title('Butterworth filter')\n",
      "grid()"
     ],
     "language": "python",
     "metadata": {},
     "outputs": [],
     "prompt_number": null
    },
    {
     "cell_type": "code",
     "collapsed": false,
     "input": [
      "Wp = 0.5  # Cutoff frequency \n",
      "Ws = 0.6   # Stop frequency \n",
      "Rp = 1     # passband maximum loss (gpass)\n",
      "As = 20      # stoppand min attenuation (gstop)\n",
      "\n",
      "types = ['butter', 'ellip', 'cheby1', 'cheby2']\n",
      "\n",
      "for t in types:\n",
      "    b,a = iirdesign(Wp, Ws, Rp, As, ftype=t)\n",
      "    frq, resp = freqz(b,a)\n",
      "    plot(frq, abs(resp))\n",
      "    \n",
      "legend(types)\n",
      "title('Filters')\n",
      "grid()"
     ],
     "language": "python",
     "metadata": {},
     "outputs": [],
     "prompt_number": null
    },
    {
     "cell_type": "markdown",
     "metadata": {},
     "source": [
      "You can use the *iirfilter* function from scipy.signal to design and filter in a single step.\n",
      "\n",
      "http://docs.scipy.org/doc/scipy/reference/signal.html#filter-design"
     ]
    },
    {
     "cell_type": "heading",
     "level": 2,
     "metadata": {},
     "source": [
      "Approximating arbitrary responses"
     ]
    },
    {
     "cell_type": "markdown",
     "metadata": {},
     "source": [
      "There are several techniques that allow you to arbitrarily define target filter responses."
     ]
    },
    {
     "cell_type": "code",
     "collapsed": false,
     "input": [
      "from scipy.signal import firwin2\n",
      "\n",
      "freqs = [0.0, 0.5, 1.0]\n",
      "gains = [1.0, 1.0, 0.0]\n",
      "order = 150\n",
      "\n",
      "taps = firwin2(order, freqs, gains)\n",
      "\n",
      "frq, resp = freqz(taps)\n",
      "plot(frq, abs(resp))\n",
      "twinx()\n",
      "plot(frq, angle(resp), 'r')\n"
     ],
     "language": "python",
     "metadata": {},
     "outputs": [],
     "prompt_number": null
    },
    {
     "cell_type": "code",
     "collapsed": false,
     "input": [
      "freqs = [0.0, 0.3, 0.5, 0.8, 1.0]\n",
      "gains = [1.0, 0.2, 0.5, 0.1, 0.0]\n",
      "order = 200\n",
      "\n",
      "taps = firwin2(order, freqs, gains)\n",
      "\n",
      "frq, resp = freqz(taps)\n",
      "plot(frq, abs(resp))\n",
      "twinx()\n",
      "plot(frq, angle(resp), 'r')"
     ],
     "language": "python",
     "metadata": {},
     "outputs": [],
     "prompt_number": null
    },
    {
     "cell_type": "code",
     "collapsed": false,
     "input": [
      "shaped = lfilter(taps, [1], sig)\n",
      "specgram(shaped);"
     ],
     "language": "python",
     "metadata": {},
     "outputs": [],
     "prompt_number": null
    },
    {
     "cell_type": "heading",
     "level": 2,
     "metadata": {},
     "source": [
      "Parks-McClellan Filter design"
     ]
    },
    {
     "cell_type": "markdown",
     "metadata": {},
     "source": [
      "http://en.wikipedia.org/wiki/Parks%E2%80%93McClellan_filter_design_algorithm"
     ]
    },
    {
     "cell_type": "heading",
     "level": 2,
     "metadata": {},
     "source": [
      "Remez filter design"
     ]
    },
    {
     "cell_type": "code",
     "collapsed": false,
     "input": [
      "from scipy.signal import remez\n",
      "        \n",
      "freqs = [0, 0.1, 0.2, 0.4, 0.45, 0.5]\n",
      "gains = [0, 1, 0]\n",
      "\n",
      "taps = remez(50, freqs, gains, type='bandpass')\n",
      "\n",
      "frq, resp = freqz(taps)\n",
      "plot(frq/(2*pi), abs(resp))\n",
      "twinx()\n",
      "plot(frq/(2*pi), angle(resp), 'r')"
     ],
     "language": "python",
     "metadata": {},
     "outputs": [],
     "prompt_number": null
    },
    {
     "cell_type": "code",
     "collapsed": false,
     "input": [
      "from scipy.signal import remez\n",
      "        \n",
      "freqs = [0, 0.1, 0.3, 0.4, 0.45, 0.5]\n",
      "gains = [0, 1, 0]\n",
      "\n",
      "taps = remez(16, freqs, gains, type='bandpass')\n",
      "\n",
      "frq, resp = freqz(taps)\n",
      "plot(frq/(2*pi), abs(resp))\n",
      "twinx()\n",
      "plot(frq/(2*pi), angle(resp), 'r')"
     ],
     "language": "python",
     "metadata": {},
     "outputs": [],
     "prompt_number": null
    },
    {
     "cell_type": "heading",
     "level": 1,
     "metadata": {},
     "source": [
      "All-pass filters"
     ]
    },
    {
     "cell_type": "markdown",
     "metadata": {},
     "source": [
      "Many ways of doing them. One is:\n",
      "\n",
      "$$y(n) = -gx(n) + x(n-D) + gy(y-D)$$"
     ]
    },
    {
     "cell_type": "code",
     "collapsed": false,
     "input": [
      "from scipy.signal import freqz\n",
      "g = 0.9\n",
      "b = [-g, 0,0, 1]\n",
      "a = [1, 0,0,-g]\n",
      "frq, resp = freqz(b,a)\n",
      "plot(frq, abs(resp))"
     ],
     "language": "python",
     "metadata": {},
     "outputs": [],
     "prompt_number": null
    },
    {
     "cell_type": "code",
     "collapsed": false,
     "input": [
      "plot(frq, angle(resp))\n",
      "xlabel('freq')\n",
      "ylabel('angle')"
     ],
     "language": "python",
     "metadata": {},
     "outputs": [],
     "prompt_number": null
    },
    {
     "cell_type": "code",
     "collapsed": false,
     "input": [
      "sig = sin(linspace(0, 2*pi*5, 1000, endpoint=False)) + sin(linspace(0, 2*pi*30, 1000, endpoint=False))\n",
      "plot(sig)"
     ],
     "language": "python",
     "metadata": {},
     "outputs": [],
     "prompt_number": null
    },
    {
     "cell_type": "code",
     "collapsed": false,
     "input": [
      "from scipy.signal import lfilter\n",
      "f = lfilter(b, a, sig)\n",
      "plot(abs(rfft(f)))\n",
      "plot(abs(rfft(sig)))\n",
      "xlim((0,80))"
     ],
     "language": "python",
     "metadata": {},
     "outputs": [],
     "prompt_number": null
    },
    {
     "cell_type": "code",
     "collapsed": false,
     "input": [
      "plot(angle(rfft(f)))\n",
      "plot(angle(rfft(sig)))\n",
      "\n",
      "legend(['original', 'all-pass'])"
     ],
     "language": "python",
     "metadata": {},
     "outputs": [],
     "prompt_number": null
    },
    {
     "cell_type": "code",
     "collapsed": false,
     "input": [
      "stem(angle(rfft(f)),linefmt='b:')\n",
      "stem(angle(rfft(sig)), 'g.-.')\n",
      "\n",
      "legend(['original', 'all-pass'])\n",
      "xlim(0,50)"
     ],
     "language": "python",
     "metadata": {},
     "outputs": [],
     "prompt_number": null
    },
    {
     "cell_type": "code",
     "collapsed": false,
     "input": [
      "angle(resp)[5], angle(resp)[30]"
     ],
     "language": "python",
     "metadata": {},
     "outputs": [],
     "prompt_number": null
    },
    {
     "cell_type": "code",
     "collapsed": false,
     "input": [
      "angle(rfft(f))[5] - angle(rfft(sig))[5]"
     ],
     "language": "python",
     "metadata": {},
     "outputs": [],
     "prompt_number": null
    },
    {
     "cell_type": "code",
     "collapsed": false,
     "input": [
      "angle(rfft(f))[30] - angle(rfft(sig))[30]"
     ],
     "language": "python",
     "metadata": {},
     "outputs": [],
     "prompt_number": null
    },
    {
     "cell_type": "markdown",
     "metadata": {},
     "source": [
      "hmmm...."
     ]
    },
    {
     "cell_type": "code",
     "collapsed": false,
     "input": [
      "angle(rfft(f))[30] - angle(rfft(sig))[30] - (2 * pi)"
     ],
     "language": "python",
     "metadata": {},
     "outputs": [],
     "prompt_number": null
    },
    {
     "cell_type": "code",
     "collapsed": false,
     "input": [
      "plot(sig)\n",
      "plot(f)\n",
      "xlim((0, 200))\n",
      "grid()"
     ],
     "language": "python",
     "metadata": {},
     "outputs": [],
     "prompt_number": null
    },
    {
     "cell_type": "markdown",
     "metadata": {},
     "source": [
      "By: Andr\u00e9s Cabrera mantaraya36@gmail.com\n",
      "For MAT course MAT 201A at UCSB\n",
      "\n",
      "This ipython notebook is licensed under the CC-BY-NC-SA license: http://creativecommons.org/licenses/by-nc-sa/4.0/\n",
      "\n",
      "![http://i.creativecommons.org/l/by-nc-sa/3.0/88x31.png](http://i.creativecommons.org/l/by-nc-sa/3.0/88x31.png)"
     ]
    }
   ],
   "metadata": {}
  }
 ]
}
