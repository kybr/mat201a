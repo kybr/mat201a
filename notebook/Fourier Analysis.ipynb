{
 "cells": [
  {
   "cell_type": "code",
   "execution_count": null,
   "metadata": {},
   "outputs": [],
   "source": [
    "%pylab inline\n",
    "\n",
    "from __future__ import print_function\n",
    "from __future__ import division\n",
    "\n",
    "from ipywidgets import widgets, interact\n",
    "\n",
    "from IPython.display import display, HTML, Audio\n",
    "display(HTML(data=\"\"\"\n",
    "<style>\n",
    "    div#notebook-container    { width: 95%; }\n",
    "    div#menubar-container     { width: 65%; }\n",
    "    div#maintoolbar-container { width: 99%; }\n",
    "</style>\n",
    "\"\"\"))\n",
    "\n",
    "rcParams['figure.figsize'] = (20, 4) #wide graphs by default"
   ]
  },
  {
   "cell_type": "markdown",
   "metadata": {},
   "source": [
    "# Fourier Analysis"
   ]
  },
  {
   "cell_type": "markdown",
   "metadata": {},
   "source": [
    "## The Fourier Transform"
   ]
  },
  {
   "cell_type": "markdown",
   "metadata": {},
   "source": [
    "Fourier's theorem:\n",
    "\n",
    "Any periodic function can be written as a Fourier series. i.e. proves that any periodic function can be written as a Fourier series.\n",
    "\n",
    "Or, any periodic function can be written as a sum of harmonic phasors.\n",
    "\n",
    "$$S(f) = \\int_{-\\infty}^{\\infty} s(t) \\cdot e^{- i 2\\pi f t} dt$$\n",
    "\n",
    "Which is multiplying the input function by phasors of the frequency $f$. So it describes how to calculate a value that is a function of the frequency chosen.\n",
    "\n",
    "This continuous version calculates the function for infinite time, and for a continuous and infinite set of frequencies.\n",
    "\n",
    "To discretize, we need to make the time range and the set of frequencies be both finite and discrete."
   ]
  },
  {
   "cell_type": "markdown",
   "metadata": {},
   "source": [
    "## The Discrete Fourier Transform"
   ]
  },
  {
   "cell_type": "markdown",
   "metadata": {},
   "source": [
    "When working with discrete data, you need to use the [Discrete Fourier Transform (DFT)](http://en.wikipedia.org/wiki/Discrete_Fourier_transform):\n",
    "\n",
    "$$X_k = \\sum_{n=0}^{N-1} x_n \\cdot e^{-i 2 \\pi k n / N}$$\n",
    "\n",
    "$$OR$$\n",
    "\n",
    "$$X_k = \\sum_{n=0}^{N-1} x_n \\cdot [\\cos(-2 \\pi k n / N) + i \\sin(-2 \\pi k n / N)]$$\n",
    "\n",
    "$$OR$$\n",
    "\n",
    "$$X_k = \\sum_{n=0}^{N-1} x_n \\cdot [\\cos(2 \\pi k n / N) - i \\sin(2 \\pi k n / N)]$$"
   ]
  },
  {
   "cell_type": "code",
   "execution_count": null,
   "metadata": {},
   "outputs": [],
   "source": [
    "phase = linspace(0, 10 * 2 * pi, 512, endpoint=False)\n",
    "x = sin(phase)\n",
    "plot(phase, x)\n",
    "title('10 Oscillations in 512 points');"
   ]
  },
  {
   "cell_type": "markdown",
   "metadata": {},
   "source": [
    "Now calculate the Fourier transform for bin $k=1$  :"
   ]
  },
  {
   "cell_type": "code",
   "execution_count": null,
   "metadata": {},
   "outputs": [],
   "source": [
    "phasor_phase = linspace(0, 2 * pi, 512, endpoint=False)\n",
    "plot(x)\n",
    "plot(sin(phasor_phase))\n",
    "plot(cos(phasor_phase));"
   ]
  },
  {
   "cell_type": "markdown",
   "metadata": {},
   "source": [
    "for $k= 1\\ $\n",
    "and \n",
    "$N=512$\n",
    "\n",
    "$$X_1 = \\sum_{n=0}^{511} x_n \\cdot [\\cos(2 \\pi n / 512) - i \\sin(2 \\pi n / 512)]$$"
   ]
  },
  {
   "cell_type": "code",
   "execution_count": null,
   "metadata": {},
   "outputs": [],
   "source": [
    "subplot(121)\n",
    "plot(x * sin(phasor_phase))\n",
    "fill_between(arange(512), x * sin(phasor_phase))\n",
    "\n",
    "subplot(122)\n",
    "plot(x * cos(phasor_phase))\n",
    "fill_between(arange(512), x*cos(phasor_phase))\n",
    "\n",
    "print(sum(x * sin(phasor_phase)), sum(x * cos(phasor_phase)))"
   ]
  },
  {
   "cell_type": "markdown",
   "metadata": {},
   "source": [
    "We keep going for all values of $k$, e.g. $k=9$ :\n",
    "\n",
    "\n",
    "$$X_9 = \\sum_{n=0}^{511} x_n \\cdot [\\cos(2 \\pi \\cdot 9 \\cdot n / 512) - i \\sin(2 \\pi \\cdot 9 \\cdot n / 512)]$$"
   ]
  },
  {
   "cell_type": "code",
   "execution_count": null,
   "metadata": {},
   "outputs": [],
   "source": [
    "subplot(121)\n",
    "plot(x * sin(9 * phasor_phase))\n",
    "fill_between(arange(512), x * sin(9 * phasor_phase))\n",
    "\n",
    "subplot(122)\n",
    "plot(x * cos(9 * phasor_phase))\n",
    "fill_between(arange(512), x * cos(9 * phasor_phase))\n",
    "\n",
    "print(sum(x * sin(9 * phasor_phase)), sum(x * cos(9 * phasor_phase)))"
   ]
  },
  {
   "cell_type": "markdown",
   "metadata": {},
   "source": [
    "And $k=10\\ $    :"
   ]
  },
  {
   "cell_type": "code",
   "execution_count": null,
   "metadata": {},
   "outputs": [],
   "source": [
    "k = 10\n",
    "subplot(121)\n",
    "plot(x * sin(k * phasor_phase))\n",
    "fill_between(arange(512), x * sin(k * phasor_phase))\n",
    "subplot(122)\n",
    "plot(x * cos(k * phasor_phase))\n",
    "fill_between(arange(512), x * cos(k * phasor_phase))\n",
    "\n",
    "print(sum(x * sin(k * phasor_phase)), sum(x * cos(k * phasor_phase)))"
   ]
  },
  {
   "cell_type": "markdown",
   "metadata": {},
   "source": [
    "Now the whole Fourier transform for all bins $0 < k < N\\ \\ $:"
   ]
  },
  {
   "cell_type": "code",
   "execution_count": null,
   "metadata": {},
   "outputs": [],
   "source": [
    "phase = linspace(0, 10.0 * 2.0 * pi, 512, endpoint=False)\n",
    "x = sin(phase)\n",
    "x.dtype"
   ]
  },
  {
   "cell_type": "code",
   "execution_count": null,
   "metadata": {},
   "outputs": [],
   "source": [
    "dft = []\n",
    "for k in range(len(x)):\n",
    "    bin_phase = linspace(0, k * 2.0 * pi, 512, endpoint=False)\n",
    "    fft_bin = complex(sum(x * cos(bin_phase)),\n",
    "                     -sum(x * sin(bin_phase)))\n",
    "    dft.append(fft_bin)\n",
    "\n",
    "subplot(121)\n",
    "plot(real(dft))\n",
    "title('Real part')\n",
    "\n",
    "subplot(122)\n",
    "plot(imag(dft))\n",
    "title('Imaginary part')\n",
    "\n",
    "pass"
   ]
  },
  {
   "cell_type": "markdown",
   "metadata": {},
   "source": [
    "The magnitude spectrum is the length of the vector in the complex plain. This function is equivalent to finding the absolute value of the complex number:\n",
    "\n",
    "$$ Magnitude\\ spectrum = |X_n|$$\n",
    "\n",
    "The phase spectrum is the angle of the vector in the complex plane:\n",
    "\n",
    "$$Phase\\ spectrum = \\angle X_n$$"
   ]
  },
  {
   "cell_type": "code",
   "execution_count": null,
   "metadata": {},
   "outputs": [],
   "source": [
    "phase = linspace(0, 10.0 * 2.0 * pi, 512)\n",
    "x = sin(phase)\n",
    "subplot(121)\n",
    "plot(abs(array(dft)))\n",
    "title('The magnitude spectrum')\n",
    "subplot(122)\n",
    "plot(angle(array(dft)))\n",
    "title('The phase spectrum')\n",
    "pass"
   ]
  },
  {
   "cell_type": "markdown",
   "metadata": {},
   "source": [
    "Using the fft function from the fft module in numpy:"
   ]
  },
  {
   "cell_type": "code",
   "execution_count": null,
   "metadata": {},
   "outputs": [],
   "source": [
    "phase = linspace(0, 10.0 * 2.0 * pi, 512, endpoint=False)\n",
    "x = 0.5 * cos(phase + 0.3 * pi)\n",
    "subplot(121)\n",
    "plot(abs(fft.fft(x)))\n",
    "title('The magnitude spectrum')\n",
    "subplot(122)\n",
    "plot(angle(fft.fft(x)))\n",
    "title('The phase spectrum')\n",
    "pass"
   ]
  },
  {
   "cell_type": "code",
   "execution_count": null,
   "metadata": {},
   "outputs": [],
   "source": [
    "fft.fft(x)[10]"
   ]
  },
  {
   "cell_type": "code",
   "execution_count": null,
   "metadata": {},
   "outputs": [],
   "source": [
    "plot(angle(fft.fft(x)))\n",
    "xlim((0, 20))\n",
    "pass"
   ]
  },
  {
   "cell_type": "code",
   "execution_count": null,
   "metadata": {},
   "outputs": [],
   "source": [
    "angle(fft.fft(x))[10]"
   ]
  },
  {
   "cell_type": "code",
   "execution_count": null,
   "metadata": {},
   "outputs": [],
   "source": [
    "0.3 * pi"
   ]
  },
  {
   "cell_type": "markdown",
   "metadata": {},
   "source": [
    "The phase spectrum captures the phase of each bin."
   ]
  },
  {
   "cell_type": "markdown",
   "metadata": {},
   "source": [
    "## Real DFTs"
   ]
  },
  {
   "cell_type": "markdown",
   "metadata": {},
   "source": [
    "When the input to the DFT is real only (no imaginary part), the second half of the transform is the complex conjugate in reverse. i.e. it mirrors around the center, and the imaginary part changes sign.\n",
    "\n",
    "You can think of this happening because the FFT harmonic \"phasors\" wrap around with phase inversion at the Nyquist frequency, which is in the middle of the transform output.\n",
    "\n",
    "\n",
    "$$X_k = \\sum_{n=0}^{N-1} x_n \\cdot [\\cos(2 \\pi k n / N) - i \\sin(2 \\pi k n / N)]$$"
   ]
  },
  {
   "cell_type": "code",
   "execution_count": null,
   "metadata": {},
   "outputs": [],
   "source": [
    "N = 128\n",
    "\n",
    "k1 = 10\n",
    "k2 = N - k1\n",
    "\n",
    "subplot(121)\n",
    "plot(sin(linspace(0 , 2 * pi * k1, N, endpoint=False)))\n",
    "plot(sin(linspace(0 , 2 * pi * k2, N, endpoint=False)))\n",
    "subplot(122)\n",
    "plot(cos(linspace(0 , 2 * pi * k1, N, endpoint=False)))\n",
    "plot(cos(linspace(0 , 2 * pi * k2, N, endpoint=False)))"
   ]
  },
  {
   "cell_type": "markdown",
   "metadata": {},
   "source": [
    "The frequencies mirror around after the first half of bins, both in frequency and in phase (phase is inverted)"
   ]
  },
  {
   "cell_type": "code",
   "execution_count": null,
   "metadata": {},
   "outputs": [],
   "source": [
    "plot(abs(fft.fft(x)))\n",
    "argsort(abs(fft.fft(x)))[-2:]"
   ]
  },
  {
   "cell_type": "markdown",
   "metadata": {},
   "source": [
    "The second half of the FFT is the reversed complex conjugate of the first."
   ]
  },
  {
   "cell_type": "markdown",
   "metadata": {},
   "source": [
    "This also shows as a reflection of the amplitude spectrum, and a phase reversed and reflected phase spectrum.\n",
    "\n",
    "This property is called *Hermitian*. i.e. the FFT of a real signal is Hermitian around its center\n",
    "\n",
    "The transform can be performed more quickly and can take up less memory if this property can be exploited (as in the case of audio signals)."
   ]
  },
  {
   "cell_type": "code",
   "execution_count": null,
   "metadata": {},
   "outputs": [],
   "source": [
    "plot(abs(fft.rfft(x)))"
   ]
  },
  {
   "cell_type": "markdown",
   "metadata": {},
   "source": [
    "Now we only get half the spectrum because we already know the other half.\n"
   ]
  },
  {
   "cell_type": "code",
   "execution_count": null,
   "metadata": {},
   "outputs": [],
   "source": [
    "len(fft.rfft(x))"
   ]
  },
  {
   "cell_type": "code",
   "execution_count": null,
   "metadata": {},
   "outputs": [],
   "source": [
    "len(x)"
   ]
  },
  {
   "cell_type": "markdown",
   "metadata": {},
   "source": [
    "The number of points we get from the real FFT is $\\frac{N}{2} +1$"
   ]
  },
  {
   "cell_type": "markdown",
   "metadata": {},
   "source": [
    "## Scaling the DFT"
   ]
  },
  {
   "cell_type": "markdown",
   "metadata": {},
   "source": [
    "Because the DFT adds the multiplication of many points together, the magnitude spectrum needs scaling of the amplitude by $N/2$"
   ]
  },
  {
   "cell_type": "code",
   "execution_count": null,
   "metadata": {},
   "outputs": [],
   "source": [
    "N = 512\n",
    "phase = linspace(0, 10 * 2 * pi, 512, endpoint=False)\n",
    "x = 0.6 * sin(phase + 0.3 * pi)\n",
    "subplot(211)\n",
    "plot(phase, x)\n",
    "subplot(212)\n",
    "plot(abs(fft.rfft(x)) / (N/2))\n",
    "pass"
   ]
  },
  {
   "cell_type": "code",
   "execution_count": null,
   "metadata": {},
   "outputs": [],
   "source": [
    "plot(real(fft.rfft(x)) / (N/2))\n",
    "pass"
   ]
  },
  {
   "cell_type": "code",
   "execution_count": null,
   "metadata": {},
   "outputs": [],
   "source": [
    "plot(imag(fft.rfft(x)) / (N/2))\n",
    "pass"
   ]
  },
  {
   "cell_type": "code",
   "execution_count": null,
   "metadata": {},
   "outputs": [],
   "source": [
    "N = 512\n",
    "phase = linspace(0, 10 * 2 * pi, 512, endpoint=False)\n",
    "x = 0.6 * sin(phase) + 0.4 * sin(phase * 3)\n",
    "plot(x)\n",
    "pass"
   ]
  },
  {
   "cell_type": "code",
   "execution_count": null,
   "metadata": {},
   "outputs": [],
   "source": [
    "plot(abs(fft.rfft(x)) / (N/2))\n",
    "pass"
   ]
  },
  {
   "cell_type": "markdown",
   "metadata": {},
   "source": [
    "But the x scale is not telling us much about frequency..."
   ]
  },
  {
   "cell_type": "code",
   "execution_count": null,
   "metadata": {},
   "outputs": [],
   "source": [
    "normalized = linspace(0, 0.5, 257)\n",
    "X = abs(fft.rfft(x)) / (N/2)\n",
    "plot(normalized, X)\n",
    "title('Normalized frequency scale')\n",
    "pass"
   ]
  },
  {
   "cell_type": "code",
   "execution_count": null,
   "metadata": {},
   "outputs": [],
   "source": [
    "fw = linspace(0, pi, 257)\n",
    "X = abs(fft.rfft(x)) / (N/2)\n",
    "plot(fw, X)\n",
    "xticks(linspace(0, pi, 5), ['0', '$\\pi/4$', '$\\pi/2$', '$3\\pi/4$', '$\\pi$'])\n",
    "title('Radians frequency scale')\n",
    "pass"
   ]
  },
  {
   "cell_type": "code",
   "execution_count": null,
   "metadata": {},
   "outputs": [],
   "source": [
    "sampleRate = 44100\n",
    "nyquistFrequency = sampleRate / 2.0\n",
    "hertz = linspace(0, nyquistFrequency, 257, endpoint=True)\n",
    "X = abs(fft.rfft(x)) / (N/2)\n",
    "plot(hertz, X)\n",
    "xlabel('Hz')\n",
    "title('Hz frequency scale')\n",
    "pass"
   ]
  },
  {
   "cell_type": "markdown",
   "metadata": {},
   "source": [
    "$$f = \\frac{f_0  f_s}{N}$$\n",
    "\n",
    "where $f$ is the \"real\" frequency, $f_0$ is the number of oscillations within the analysis window, $f_s$ is the sampling rate and $N$ is the size of the window"
   ]
  },
  {
   "cell_type": "code",
   "execution_count": null,
   "metadata": {},
   "outputs": [],
   "source": [
    "10.0 * float(sampleRate) / 512, 30.0 * float(sampleRate) / 512"
   ]
  },
  {
   "cell_type": "code",
   "execution_count": null,
   "metadata": {},
   "outputs": [],
   "source": [
    "sampleRate = 44100\n",
    "nyquist = sampleRate / 2.0\n",
    "hertz = linspace(0, nyquist, 257)\n",
    "X = abs(fft.rfft(x)) / (N/2)\n",
    "plot(hertz, X, 'o-')\n",
    "title('Hz frequency scale')\n",
    "xlim((500, 2700))"
   ]
  },
  {
   "cell_type": "markdown",
   "metadata": {},
   "source": [
    "## Power Spectrum"
   ]
  },
  {
   "cell_type": "markdown",
   "metadata": {},
   "source": [
    "The power spectrum can be computed by squaring the magnitude spectrum:\n",
    "\n",
    "$$|X_n|^2$$"
   ]
  },
  {
   "cell_type": "code",
   "execution_count": null,
   "metadata": {},
   "outputs": [],
   "source": [
    "plot(hertz, X**2)\n",
    "title('Power spectrum')\n",
    "xlim((500, 2700))"
   ]
  },
  {
   "cell_type": "markdown",
   "metadata": {},
   "source": [
    "This results in a sort of \"warping\" of the amplitude scale, making peaks more pronounced, and lower level detail less visible. This can be a useful technique when trying to emphasize peaks."
   ]
  },
  {
   "cell_type": "markdown",
   "metadata": {},
   "source": [
    "# Fast Fourier Transform"
   ]
  },
  {
   "cell_type": "markdown",
   "metadata": {},
   "source": [
    "It turns out that the computation of the DFT can be optimized if:\n",
    "   \n",
    "* The number of points for the analysis is a power of 2"
   ]
  },
  {
   "cell_type": "code",
   "execution_count": null,
   "metadata": {},
   "outputs": [],
   "source": [
    "for i in range(20):\n",
    "    print(2**i)"
   ]
  },
  {
   "cell_type": "markdown",
   "metadata": {},
   "source": [
    "# Short-Time Fourier Transform"
   ]
  },
  {
   "cell_type": "markdown",
   "metadata": {},
   "source": [
    "One of the key assumptions of the DFT is that a signal is static within the analysis frame. (This relates to the assumption of periodicity.)\n",
    "\n",
    "One trick to extract a time-varying spectrum from a signal is to perform short DFTs, each starting a bit later than the previous one."
   ]
  },
  {
   "cell_type": "code",
   "execution_count": null,
   "metadata": {},
   "outputs": [],
   "source": [
    "from scipy.io import wavfile\n",
    "sr, signal = wavfile.read('media/passport.wav')"
   ]
  },
  {
   "cell_type": "code",
   "execution_count": null,
   "metadata": {},
   "outputs": [],
   "source": [
    "Audio('media/passport.wav')"
   ]
  },
  {
   "cell_type": "code",
   "execution_count": null,
   "metadata": {},
   "outputs": [],
   "source": [
    "win1 = signal[0:1024]\n",
    "win2 = signal[1024:2048]\n",
    "win3 = signal[2048: 3072]\n",
    "\n",
    "plot(abs(fft.rfft(win1)))\n",
    "plot(abs(fft.rfft(win2)))\n",
    "plot(abs(fft.rfft(win3)))\n",
    "pass"
   ]
  },
  {
   "cell_type": "code",
   "execution_count": null,
   "metadata": {},
   "outputs": [],
   "source": [
    "arange(0, 40000, 2048)"
   ]
  },
  {
   "cell_type": "code",
   "execution_count": null,
   "metadata": {},
   "outputs": [],
   "source": [
    "win_start = arange(0, 40000, 2048)\n",
    "win_len = 2048\n",
    "\n",
    "mag_spectrum = []\n",
    "\n",
    "for start in win_start:\n",
    "    win = signal[start: start + win_len]\n",
    "    X = fft.rfft(win)\n",
    "    mag_spectrum.append(abs(X)/float(win_len/2))\n",
    "\n",
    "imshow(mag_spectrum, aspect='auto')"
   ]
  },
  {
   "cell_type": "code",
   "execution_count": null,
   "metadata": {},
   "outputs": [],
   "source": [
    "plot(abs(fft.rfft(signal)))"
   ]
  },
  {
   "cell_type": "code",
   "execution_count": null,
   "metadata": {},
   "outputs": [],
   "source": [
    "win_start = arange(0, 40000, 2048)\n",
    "win_len = 2048\n",
    "\n",
    "pow_spectrum = []\n",
    "\n",
    "for start in win_start:\n",
    "    win = signal[start: start + win_len]\n",
    "    X = fft.rfft(win)\n",
    "    pow_spectrum.append(abs(X)**2/float(win_len/2))\n",
    "\n",
    "imshow(pow_spectrum, aspect='auto')\n",
    "title('Power spectrum')\n"
   ]
  },
  {
   "cell_type": "code",
   "execution_count": null,
   "metadata": {},
   "outputs": [],
   "source": [
    "subplot(121)\n",
    "imshow(array(mag_spectrum).T, aspect='auto')\n",
    "subplot(122)\n",
    "imshow(array(pow_spectrum).T, aspect='auto')\n",
    "\n",
    "colorbar()"
   ]
  },
  {
   "cell_type": "code",
   "execution_count": null,
   "metadata": {},
   "outputs": [],
   "source": [
    "array(mag_spectrum).shape"
   ]
  },
  {
   "cell_type": "markdown",
   "metadata": {},
   "source": [
    "## Spectrogram"
   ]
  },
  {
   "cell_type": "code",
   "execution_count": null,
   "metadata": {},
   "outputs": [],
   "source": [
    "sout = specgram(signal[:40000], NFFT=2048, noverlap=0, window=window_none, Fs=sr);\n",
    "\n",
    "sout[0].shape, sout[1].shape, sout[2].shape\n",
    "colorbar();"
   ]
  },
  {
   "cell_type": "code",
   "execution_count": null,
   "metadata": {},
   "outputs": [],
   "source": [
    "imshow(10*log10(pow_spectrum), aspect='auto')\n",
    "colorbar()"
   ]
  },
  {
   "cell_type": "code",
   "execution_count": null,
   "metadata": {},
   "outputs": [],
   "source": [
    "imshow(10*log10(pow_spectrum).T, aspect='auto', interpolation='nearest')\n",
    "colorbar()\n",
    "ylim((0, 1024))"
   ]
  },
  {
   "cell_type": "markdown",
   "metadata": {},
   "source": [
    "So the *specgram* function in pylab plots the Power spectrum on a decibel scale. The decibel scale is more useful than the linear scale as the relative amplitudes can be detected better."
   ]
  },
  {
   "cell_type": "markdown",
   "metadata": {},
   "source": [
    "# Windowed analysis"
   ]
  },
  {
   "cell_type": "code",
   "execution_count": null,
   "metadata": {},
   "outputs": [],
   "source": [
    "N = 512\n",
    "phs = linspace(0.2* pi, 7.8 * 2 * pi, N)\n",
    "x = sin(phs)\n",
    "plot(x)"
   ]
  },
  {
   "cell_type": "code",
   "execution_count": null,
   "metadata": {},
   "outputs": [],
   "source": [
    "X = fft.rfft(x)\n",
    "plot(abs(X))"
   ]
  },
  {
   "cell_type": "code",
   "execution_count": null,
   "metadata": {},
   "outputs": [],
   "source": [
    "plot(abs(X)/len(X), 'o-')\n",
    "xlim((0, 20))"
   ]
  },
  {
   "cell_type": "code",
   "execution_count": null,
   "metadata": {},
   "outputs": [],
   "source": [
    "plot(abs(X)/len(X), 'o:')\n",
    "xlim((3, 12))\n",
    "grid()\n",
    "vlines(7.8, 0, 0.9)"
   ]
  },
  {
   "cell_type": "code",
   "execution_count": null,
   "metadata": {},
   "outputs": [],
   "source": [
    "def plot_mag_spectrum(x, sr=44100, db=True):\n",
    "    X = fft.rfft(x)\n",
    "    fw = linspace(0, sr/2.0, len(X))\n",
    "    if db:\n",
    "        plot(fw,20*log10(abs(X)/len(X)))  # assumes real FFT\n",
    "    else:\n",
    "        plot(fw,abs(X)/len(X))  # assumes real FFT\n",
    "    ylabel('Amplitude (dB)'); xlabel('Frequency (Hz)'); title('Magnitude spectrum')\n",
    "    xlim((0, sr/2.0))\n",
    "    grid(True)\n",
    "    \n",
    "plot_mag_spectrum(x)"
   ]
  },
  {
   "cell_type": "code",
   "execution_count": null,
   "metadata": {},
   "outputs": [],
   "source": [
    "plot_mag_spectrum(x )\n",
    "xlim(0, 2500)"
   ]
  },
  {
   "cell_type": "markdown",
   "metadata": {},
   "source": [
    "Why is there energy/amplitude around the center frequency, when only a single frequency was present?"
   ]
  },
  {
   "cell_type": "markdown",
   "metadata": {},
   "source": [
    "## Effect of analysis windows"
   ]
  },
  {
   "cell_type": "code",
   "execution_count": null,
   "metadata": {},
   "outputs": [],
   "source": [
    "N = 512\n",
    "phs = linspace(0.6* pi, 107.2 * 2 * pi, N)\n",
    "x = sin(phs)\n",
    "plot_mag_spectrum(x)\n",
    "\n",
    "x = 0.01 * sin(phs * 1.11)\n",
    "plot_mag_spectrum(x)\n",
    "\n",
    "ylim((-200, 0))\n"
   ]
  },
  {
   "cell_type": "code",
   "execution_count": null,
   "metadata": {},
   "outputs": [],
   "source": [
    "N = 512\n",
    "phs = linspace(0.6* pi, 107.2 * 2 * pi, N)\n",
    "x = sin(phs) + (0.01 * sin(phs * 1.11))\n",
    "plot_mag_spectrum(x)"
   ]
  },
  {
   "cell_type": "markdown",
   "metadata": {},
   "source": [
    "Which are true components of the signal?"
   ]
  },
  {
   "cell_type": "code",
   "execution_count": null,
   "metadata": {},
   "outputs": [],
   "source": [
    "plot(hanning(N));"
   ]
  },
  {
   "cell_type": "code",
   "execution_count": null,
   "metadata": {},
   "outputs": [],
   "source": [
    "plot(hanning(N) * x);"
   ]
  },
  {
   "cell_type": "code",
   "execution_count": null,
   "metadata": {},
   "outputs": [],
   "source": [
    "plot(x)"
   ]
  },
  {
   "cell_type": "code",
   "execution_count": null,
   "metadata": {},
   "outputs": [],
   "source": [
    "plot(x)\n",
    "xlim((0, 100))"
   ]
  },
  {
   "cell_type": "code",
   "execution_count": null,
   "metadata": {},
   "outputs": [],
   "source": [
    "plot_mag_spectrum(hanning(N) * x)"
   ]
  },
  {
   "cell_type": "markdown",
   "metadata": {},
   "source": [
    "Ah! Much better!\n",
    "\n",
    "But wait, isn't amplitude wrong? It doesn't match the amplitude values when not using a window..."
   ]
  },
  {
   "cell_type": "code",
   "execution_count": null,
   "metadata": {},
   "outputs": [],
   "source": [
    "def plot_mag_spectrum(x, sr=44100, db=True, window=window_none):\n",
    "    w = window(len(x))\n",
    "    X = fft.rfft(window(len(x)) *x)\n",
    "    fw = linspace(0, sr/2.0, len(X))\n",
    "    if db:\n",
    "        plot(fw,20*log10(abs(X)/(sum(w)/2.0)))  # assumes real FFT\n",
    "    else:\n",
    "        plot(fw,abs(X)/(sum(w)/2.0))  # assumes real FFT\n",
    "    ylabel('Amplitude'); xlabel('Frequency (Hz)'); title('Magnitude spectrum')\n",
    "    xlim((0, sr/2.0))\n",
    "    grid(True)"
   ]
  },
  {
   "cell_type": "code",
   "execution_count": null,
   "metadata": {},
   "outputs": [],
   "source": [
    "plot_mag_spectrum(x, window=hanning)"
   ]
  },
  {
   "cell_type": "markdown",
   "metadata": {},
   "source": [
    "Windowing the analysis frame results in a tradeoff between main lobe width and sidelobe (leakage) level.\n",
    "\n",
    "http://en.wikipedia.org/wiki/Windowing_function\n",
    "\n",
    "There are many different functions which can be useful for different applications. In audio the most common are Hann (Hanning), Hamming, Kaiser and Bartlett, because they have lower sidelobe levels."
   ]
  },
  {
   "cell_type": "code",
   "execution_count": null,
   "metadata": {},
   "outputs": [],
   "source": [
    "plot_mag_spectrum(x, window=hanning)\n",
    "plot_mag_spectrum(x, window=hamming)\n",
    "plot_mag_spectrum(x, window=bartlett)\n",
    "plot_mag_spectrum(x, window=ones)\n",
    "\n",
    "xlim((5000, 12000))\n",
    "legend(['Hanning', 'Hamming', 'Bartlett', 'Rectangular'], loc='best')"
   ]
  },
  {
   "cell_type": "markdown",
   "metadata": {},
   "source": [
    "## Zero padding"
   ]
  },
  {
   "cell_type": "markdown",
   "metadata": {},
   "source": [
    "Zero padding consists of adding zeros at the end of an analysis frame, to improve smoothness of the spectrum or to adjust to make the window size a power of two."
   ]
  },
  {
   "cell_type": "code",
   "execution_count": null,
   "metadata": {},
   "outputs": [],
   "source": [
    "def plot_mag_spectrum(x, sr=44100, db=True, window=window_none, zp=0):\n",
    "    w = window(len(x))\n",
    "    padded_x = r_[window(len(x)) *x, zeros(zp)]\n",
    "    X = fft.rfft(padded_x)\n",
    "    fw = linspace(0, sr/2.0, len(X))\n",
    "    if db:\n",
    "        plot(fw,10*log10(abs(X)/(sum(w)/2.0)))  # assumes real FFT\n",
    "    else:\n",
    "        plot(fw,abs(X)/(sum(w)/2.0))  # assumes real FFT\n",
    "    ylabel('Amplitude'); xlabel('Frequency (Hz)'); title('Magnitude spectrum')\n",
    "    xlim((0, sr/2.0))\n",
    "    grid(True)\n",
    "\n",
    "plot_mag_spectrum(x, window=hanning, zp=2048)\n",
    "plot_mag_spectrum(x, window=hamming, zp=2048)\n",
    "plot_mag_spectrum(x, window=bartlett, zp=2048)\n",
    "plot_mag_spectrum(x, window=ones, zp=2048)\n",
    "\n",
    "xlim((5000, 12000))\n",
    "legend(['Hanning', 'Hamming', 'Bartlett', 'Rectangular'], loc='best')"
   ]
  },
  {
   "cell_type": "code",
   "execution_count": null,
   "metadata": {},
   "outputs": [],
   "source": [
    "plot_mag_spectrum(x, window=hanning, zp=2048)\n",
    "plot_mag_spectrum(x, window=hamming, zp=2048)\n",
    "plot_mag_spectrum(x, window=bartlett, zp=2048)\n",
    "plot_mag_spectrum(x, window=ones, zp=2048)\n",
    "\n",
    "xlim((9000, 9500))\n",
    "ylim((-40, 5))\n",
    "legend(['Hanning', 'Hamming', 'Bartlett', 'Rectangular'], loc='lower center')"
   ]
  },
  {
   "cell_type": "markdown",
   "metadata": {},
   "source": [
    "Zero padding is actually similar to interpolating the spectrum, it doesn't really give better frequency resolution.\n",
    "\n",
    "But it can reveal artifacts, so it is more like upsampling."
   ]
  },
  {
   "cell_type": "markdown",
   "metadata": {},
   "source": [
    "## Spectrogram (again)"
   ]
  },
  {
   "cell_type": "markdown",
   "metadata": {},
   "source": [
    "Because windowing makes the spectrum focus on the center of the window, it is common to overlap windows"
   ]
  },
  {
   "cell_type": "code",
   "execution_count": null,
   "metadata": {},
   "outputs": [],
   "source": [
    "sout = specgram(signal[:20000], NFFT=2048, noverlap=0, Fs=sr);"
   ]
  },
  {
   "cell_type": "code",
   "execution_count": null,
   "metadata": {},
   "outputs": [],
   "source": [
    "sout = specgram(signal[:20000], NFFT=2048, noverlap=1024, Fs=sr);"
   ]
  },
  {
   "cell_type": "markdown",
   "metadata": {},
   "source": [
    "# The Inverse Fourier Transform"
   ]
  },
  {
   "cell_type": "markdown",
   "metadata": {},
   "source": [
    "The Inverse Fourier transform can reconstruct the time domain representation of a frequency domain spectrum.\n",
    "\n",
    "\n",
    "$$s(t) = \\int_{-\\infty}^{\\infty} S(f) \\cdot e^{i 2\\pi f t} df$$\n",
    "\n",
    "The only change in practice is the sign of the exponent!"
   ]
  },
  {
   "cell_type": "code",
   "execution_count": null,
   "metadata": {},
   "outputs": [],
   "source": [
    "mag_spec = [0, 1,0,0,0,0,0,0,0]\n",
    "phs_spec = [0, 0, 0,0,0,0,0,0,0]"
   ]
  },
  {
   "cell_type": "code",
   "execution_count": null,
   "metadata": {},
   "outputs": [],
   "source": [
    "X = [np.complex(cos(phs)* mag, sin(phs)* mag) for mag, phs in zip(mag_spec, phs_spec)]\n",
    "plot(real(X))"
   ]
  },
  {
   "cell_type": "code",
   "execution_count": null,
   "metadata": {},
   "outputs": [],
   "source": [
    "plot(imag(X))"
   ]
  },
  {
   "cell_type": "code",
   "execution_count": null,
   "metadata": {},
   "outputs": [],
   "source": [
    "x = fft.irfft(X)\n",
    "plot(x)"
   ]
  },
  {
   "cell_type": "code",
   "execution_count": null,
   "metadata": {},
   "outputs": [],
   "source": [
    "mag_spec = [0,0,0,1,0,0,0,0,0]\n",
    "phs_spec = [0, 0, 0, pi/2,0,0,0,0,0]\n",
    "X = [np.complex(cos(phs)* mag, -sin(phs)* mag) for mag, phs in zip(mag_spec, phs_spec)]\n",
    "x = fft.irfft(X)\n",
    "plot(x, 'o-')"
   ]
  },
  {
   "cell_type": "markdown",
   "metadata": {},
   "source": [
    "The inverse FT must be scaled."
   ]
  },
  {
   "cell_type": "code",
   "execution_count": null,
   "metadata": {},
   "outputs": [],
   "source": [
    "mag_spec = [0,1,0,0,0,0,0,0, 0]\n",
    "phs_spec = [0, 0, 0,0,0,0,0,0, 0]\n",
    "X = [np.complex(cos(phs)* mag, sin(phs)* mag) for mag, phs in zip(mag_spec, phs_spec)]\n",
    "x = fft.irfft(X) * 8\n",
    "plot(x)"
   ]
  },
  {
   "cell_type": "code",
   "execution_count": null,
   "metadata": {},
   "outputs": [],
   "source": [
    "mag_spec = [0] + ([0,0,0,0,0,0,1] * 4)\n",
    "print(len(mag_spec))\n",
    "mag_spec += [0]"
   ]
  },
  {
   "cell_type": "code",
   "execution_count": null,
   "metadata": {},
   "outputs": [],
   "source": [
    "phs_spec = ones(29) * pi/2\n",
    "X = [np.complex(cos(phs)* mag, -sin(phs)* mag) for mag, phs in zip(mag_spec, phs_spec)]"
   ]
  },
  {
   "cell_type": "code",
   "execution_count": null,
   "metadata": {},
   "outputs": [],
   "source": [
    "type([0,0,0,0,0,0,1])"
   ]
  },
  {
   "cell_type": "code",
   "execution_count": null,
   "metadata": {},
   "outputs": [],
   "source": [
    "type(ones(29))"
   ]
  },
  {
   "cell_type": "code",
   "execution_count": null,
   "metadata": {},
   "outputs": [],
   "source": [
    "x = fft.irfft(X)\n",
    "plot(x)"
   ]
  },
  {
   "cell_type": "code",
   "execution_count": null,
   "metadata": {},
   "outputs": [],
   "source": [
    "phs_spec = linspace(0, 1, 29)\n",
    "X = [np.complex(cos(phs)* mag, -sin(phs)* mag) for mag, phs in zip(mag_spec, phs_spec)]\n",
    "x = fft.irfft(X)\n",
    "plot(x)"
   ]
  },
  {
   "cell_type": "markdown",
   "metadata": {},
   "source": [
    "By: Andrés Cabrera mantaraya36@gmail.com\n",
    "For MAT course MAT 201A at UCSB\n",
    "\n",
    "Adapted by Karl Yerkes\n",
    "\n",
    "This ipython notebook is licensed under the CC-BY-NC-SA license: http://creativecommons.org/licenses/by-nc-sa/4.0/\n",
    "\n",
    "![http://i.creativecommons.org/l/by-nc-sa/3.0/88x31.png](http://i.creativecommons.org/l/by-nc-sa/3.0/88x31.png)"
   ]
  }
 ],
 "metadata": {
  "kernelspec": {
   "display_name": "Python 3",
   "language": "python",
   "name": "python3"
  },
  "language_info": {
   "codemirror_mode": {
    "name": "ipython",
    "version": 2
   },
   "file_extension": ".py",
   "mimetype": "text/x-python",
   "name": "python",
   "nbconvert_exporter": "python",
   "pygments_lexer": "ipython2",
   "version": "2.7.13"
  }
 },
 "nbformat": 4,
 "nbformat_minor": 1
}
