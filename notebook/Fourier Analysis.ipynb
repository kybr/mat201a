{
 "cells": [
  {
   "cell_type": "code",
   "execution_count": null,
   "metadata": {},
   "outputs": [],
   "source": [
    "%pylab inline\n",
    "\n",
    "from __future__ import print_function\n",
    "from __future__ import division\n",
    "\n",
    "from ipywidgets import widgets, interact\n",
    "\n",
    "from IPython.display import display, HTML, Audio\n",
    "display(HTML(data=\"\"\"\n",
    "<style>\n",
    "    div#notebook-container    { width: 95%; }\n",
    "    div#menubar-container     { width: 65%; }\n",
    "    div#maintoolbar-container { width: 99%; }\n",
    "</style>\n",
    "\"\"\"))\n",
    "\n",
    "rcParams['figure.figsize'] = (20, 4) #wide graphs by default"
   ]
  },
  {
   "cell_type": "markdown",
   "metadata": {},
   "source": [
    "# Fourier Analysis"
   ]
  },
  {
   "cell_type": "markdown",
   "metadata": {},
   "source": [
    "## The Fourier Transform"
   ]
  },
  {
   "cell_type": "markdown",
   "metadata": {},
   "source": [
    "Fourier's theorem:\n",
    "\n",
    "Any periodic function can be written as a Fourier series. i.e. proves that any periodic function can be written as a Fourier series.\n",
    "\n",
    "Or, any periodic function can be written as a sum of harmonic phasors.\n",
    "\n",
    "$$S(f) = \\int_{-\\infty}^{\\infty} s(t) e^{- i 2\\pi f t} dt$$\n",
    "\n",
    "By $e^{-i x} = \\cos x - i\\sin x$ we get $S(f) = \\int_{-\\infty}^{\\infty} s(t) (\\cos 2\\pi f t - i\\sin 2\\pi f t ) dt$ and finally:\n",
    "\n",
    "$$S(f) = \\int_{-\\infty}^{\\infty} s(t)\\cos(2\\pi f t) dt - i\\int_{-\\infty}^{\\infty} s(t)\\sin(2\\pi f t) dt$$\n",
    "\n",
    "Which is multiplying the input function by phasors of the frequency $f$. So it describes how to calculate a value that is a function of the frequency chosen.\n",
    "\n",
    "This continuous version calculates the function for infinite time, and for a continuous and infinite set of frequencies.\n",
    "\n",
    "To discretize, we need to make the time range and the set of frequencies be both finite and discrete."
   ]
  },
  {
   "cell_type": "markdown",
   "metadata": {},
   "source": [
    "## The Discrete Fourier Transform"
   ]
  },
  {
   "cell_type": "markdown",
   "metadata": {},
   "source": [
    "When working with discrete data, you need to use the [Discrete Fourier Transform (DFT)](http://en.wikipedia.org/wiki/Discrete_Fourier_transform):\n",
    "\n",
    "$$X_k = \\sum_{n=0}^{N-1} x_n e^{-i 2 \\pi k n / N}$$\n",
    "\n",
    "$$OR$$\n",
    "\n",
    "$$X_k = \\sum_{n=0}^{N-1} x_n \\cos(2 \\pi k n / N) -  i\\sum_{n=0}^{N-1} x_n \\sin(2 \\pi k n / N)$$"
   ]
  },
  {
   "cell_type": "code",
   "execution_count": null,
   "metadata": {},
   "outputs": [],
   "source": [
    "phase = linspace(0, 10 * 2 * pi, 512, endpoint=False)\n",
    "x = sin(phase)\n",
    "plot(phase, x)\n",
    "title('10 Oscillations in 512 points');"
   ]
  },
  {
   "cell_type": "markdown",
   "metadata": {},
   "source": [
    "Now calculate the Fourier transform for bin $k=1$  :"
   ]
  },
  {
   "cell_type": "code",
   "execution_count": null,
   "metadata": {},
   "outputs": [],
   "source": [
    "phasor_phase = linspace(0, 2 * pi, 512, endpoint=False)\n",
    "plot(x)\n",
    "plot(sin(phasor_phase))\n",
    "plot(cos(phasor_phase))\n",
    "pass"
   ]
  },
  {
   "cell_type": "markdown",
   "metadata": {},
   "source": [
    "for $k= 1\\ $\n",
    "and \n",
    "$N=512$\n",
    "\n",
    "$$X_1 = \\sum_{n=0}^{511} x_n \\cdot [\\cos(2 \\pi n / 512) - i \\sin(2 \\pi n / 512)]$$\n",
    "\n"
   ]
  },
  {
   "cell_type": "code",
   "execution_count": null,
   "metadata": {},
   "outputs": [],
   "source": [
    "\n",
    "subplot(121)\n",
    "plot(x * cos(phasor_phase))\n",
    "title('real part')\n",
    "fill_between(arange(512), x * cos(phasor_phase))\n",
    "\n",
    "subplot(122)\n",
    "plot(x * sin(phasor_phase))\n",
    "title('imaginary part')\n",
    "fill_between(arange(512), x * sin(phasor_phase))\n",
    "\n",
    "\n",
    "print(sum(x * cos(phasor_phase)), sum(x * sin(phasor_phase)))"
   ]
  },
  {
   "cell_type": "markdown",
   "metadata": {},
   "source": [
    "note that everything above zero cancels out the stuff below zero, so we get really small numbers."
   ]
  },
  {
   "cell_type": "markdown",
   "metadata": {},
   "source": [
    "We keep going for all values of $k$, e.g. $k=9$ :\n",
    "\n",
    "\n",
    "$$X_9 = \\sum_{n=0}^{511} x_n \\cdot [\\cos(2 \\pi \\cdot 9 \\cdot n / 512) - i \\sin(2 \\pi \\cdot 9 \\cdot n / 512)]$$"
   ]
  },
  {
   "cell_type": "code",
   "execution_count": null,
   "metadata": {},
   "outputs": [],
   "source": [
    "subplot(121)\n",
    "plot(x * sin(9 * phasor_phase))\n",
    "title('real part')\n",
    "fill_between(arange(512), x * sin(9 * phasor_phase))\n",
    "\n",
    "subplot(122)\n",
    "plot(x * cos(9 * phasor_phase))\n",
    "title('imaginary part')\n",
    "fill_between(arange(512), x * cos(9 * phasor_phase))\n",
    "\n",
    "print(sum(x * cos(9 * phasor_phase)), sum(x * sin(9 * phasor_phase)))"
   ]
  },
  {
   "cell_type": "markdown",
   "metadata": {},
   "source": [
    "And $k=10\\ $    :"
   ]
  },
  {
   "cell_type": "code",
   "execution_count": null,
   "metadata": {},
   "outputs": [],
   "source": [
    "k = 10\n",
    "subplot(121)\n",
    "plot(x * cos(k * phasor_phase))\n",
    "title('real part')\n",
    "fill_between(arange(512), x * cos(k * phasor_phase))\n",
    "\n",
    "subplot(122)\n",
    "plot(x * sin(k * phasor_phase))\n",
    "title('imaginary part')\n",
    "fill_between(arange(512), x * sin(k * phasor_phase))\n",
    "\n",
    "print(sum(x * cos(k * phasor_phase)), sum(x * sin(k * phasor_phase)))"
   ]
  },
  {
   "cell_type": "markdown",
   "metadata": {},
   "source": [
    "Woah! This one is different."
   ]
  },
  {
   "cell_type": "code",
   "execution_count": null,
   "metadata": {},
   "outputs": [],
   "source": [
    "sinusoid = lambda f, p = 0, N = 512: cos(p + linspace(0, f * 2 * pi, N, endpoint=False))\n",
    "\n",
    "# make a 10/N cps signal (that's cycles per sample)\n",
    "signal = sinusoid(10)\n",
    "\n",
    "@interact(k = (0, 10))\n",
    "def foo(k = 0):\n",
    "    realTest = sinusoid(k)\n",
    "    imaginaryTest = sinusoid(k, -pi / 2)\n",
    "    plot(signal)\n",
    "    plot(realTest)\n",
    "    plot(imaginaryTest)\n",
    "    v = complex(sum(signal * realTest), sum(signal * imaginaryTest))\n",
    "    print(\"magnitude:%g\\nphase:%g\\nreal:%g\\nimaginary:%g\" % (abs(v), angle(v), real(v), imag(v)))\n",
    "    show()\n",
    "\n",
    "# What happens when k = 10?"
   ]
  },
  {
   "cell_type": "markdown",
   "metadata": {},
   "source": [
    "Now the whole Fourier transform for all bins $0 < k < N\\ \\ $:"
   ]
  },
  {
   "cell_type": "code",
   "execution_count": null,
   "metadata": {},
   "outputs": [],
   "source": [
    "phase = linspace(0, 10.0 * 2.0 * pi, 512, endpoint=False)\n",
    "x = sin(phase)\n",
    "x.dtype"
   ]
  },
  {
   "cell_type": "code",
   "execution_count": null,
   "metadata": {},
   "outputs": [],
   "source": [
    "dft = []\n",
    "for k in range(len(x)):\n",
    "    bin_phase = linspace(0, k * 2.0 * pi, 512, endpoint=False)\n",
    "    fft_bin = complex(sum(x * cos(bin_phase)), -sum(x * sin(bin_phase))) # this is the equation\n",
    "    dft.append(fft_bin)\n",
    "\n",
    "subplot(121)\n",
    "plot(real(dft))\n",
    "title('Real part')\n",
    "\n",
    "subplot(122)\n",
    "plot(imag(dft))\n",
    "title('Imaginary part')\n",
    "\n",
    "pass"
   ]
  },
  {
   "cell_type": "markdown",
   "metadata": {},
   "source": [
    "The *magnitude spectrum* is the length of the vector (aka phasor) in the complex plain. This function is equivalent to finding the absolute value of the complex number:\n",
    "\n",
    "$$ Magnitude\\ spectrum = |X_n| $$\n",
    "\n",
    "The phase spectrum is the angle of the vector in the complex plane:\n",
    "\n",
    "$$ Phase\\ spectrum = \\angle X_n $$"
   ]
  },
  {
   "cell_type": "code",
   "execution_count": null,
   "metadata": {},
   "outputs": [],
   "source": [
    "phase = linspace(0, 10.0 * 2.0 * pi, 512)\n",
    "x = sin(phase)\n",
    "subplot(121)\n",
    "plot(abs(array(dft))) # like |Xn|\n",
    "title('The magnitude spectrum')\n",
    "subplot(122)\n",
    "plot(angle(array(dft))) # like <Xn\n",
    "title('The phase spectrum')\n",
    "pass"
   ]
  },
  {
   "cell_type": "markdown",
   "metadata": {},
   "source": [
    "Using the fft function from the fft module in numpy:"
   ]
  },
  {
   "cell_type": "markdown",
   "metadata": {},
   "source": [
    "## Let's use a new signal"
   ]
  },
  {
   "cell_type": "code",
   "execution_count": null,
   "metadata": {},
   "outputs": [],
   "source": [
    "phase = linspace(0, 10.0 * 2.0 * pi, 512, endpoint=False)\n",
    "\n",
    "x = 0.5 * cos(phase + 0.3 * pi)\n",
    "\n",
    "subplot(121)\n",
    "plot(abs(fft.fft(x)))\n",
    "title('The magnitude spectrum')\n",
    "subplot(122)\n",
    "plot(angle(fft.fft(x)))\n",
    "title('The phase spectrum')\n",
    "pass"
   ]
  },
  {
   "cell_type": "markdown",
   "metadata": {},
   "source": [
    "### Here's a plot on the complex plane of bin 10"
   ]
  },
  {
   "cell_type": "code",
   "execution_count": null,
   "metadata": {},
   "outputs": [],
   "source": [
    "bin10 = fft.fft(x)[10]\n",
    "polar([0,angle(bin10)],[0,abs(bin10)],marker='o')\n",
    "gcf().set_size_inches(10, 10)"
   ]
  },
  {
   "cell_type": "code",
   "execution_count": null,
   "metadata": {},
   "outputs": [],
   "source": [
    "stem(angle(fft.fft(x)))\n",
    "xlim((0, 20))\n",
    "pass"
   ]
  },
  {
   "cell_type": "code",
   "execution_count": null,
   "metadata": {},
   "outputs": [],
   "source": [
    "angle(fft.fft(x))[10]"
   ]
  },
  {
   "cell_type": "code",
   "execution_count": null,
   "metadata": {},
   "outputs": [],
   "source": [
    "0.3 * pi"
   ]
  },
  {
   "cell_type": "markdown",
   "metadata": {},
   "source": [
    "The phase spectrum captures the phase of each bin."
   ]
  },
  {
   "cell_type": "markdown",
   "metadata": {},
   "source": [
    "## Real DFTs"
   ]
  },
  {
   "cell_type": "markdown",
   "metadata": {},
   "source": [
    "When the input to the DFT is real only (no imaginary part), the second half of the transform is the [complex conjugate](https://en.wikipedia.org/wiki/Complex_conjugate) in reverse. i.e. *it mirrors around the center, and the imaginary part changes sign.*\n",
    "\n",
    "You can think of this happening because the FFT harmonic \"phasors\" wrap around with phase inversion at the Nyquist frequency, which is in the middle of the transform output.\n",
    "\n",
    "$$X_k = \\sum_{n=0}^{N-1} x_n \\cdot [\\cos(2 \\pi k n / N) - i \\sin(2 \\pi k n / N)]$$"
   ]
  },
  {
   "cell_type": "code",
   "execution_count": null,
   "metadata": {},
   "outputs": [],
   "source": [
    "N = 128\n",
    "\n",
    "k1 = 5\n",
    "k2 = N - k1\n",
    "\n",
    "subplot(221)\n",
    "plot(cos(linspace(0 , 2 * pi * k1, N, endpoint=False)))\n",
    "title('bin b and bin N - b are the same frequency')\n",
    "\n",
    "subplot(223)\n",
    "plot(cos(linspace(0 , 2 * pi * k2, N, endpoint=False)))\n",
    "\n",
    "subplot(222)\n",
    "plot(sin(linspace(0 , 2 * pi * k1, N, endpoint=False)))\n",
    "title('but.. bin N - b is phase inverted compared to b')\n",
    "\n",
    "subplot(224)\n",
    "plot(sin(linspace(0 , 2 * pi * k2, N, endpoint=False)))\n",
    "\n",
    "pass"
   ]
  },
  {
   "cell_type": "markdown",
   "metadata": {},
   "source": [
    "The frequencies mirror around after the first half of bins, both in frequency and in phase (phase is inverted)"
   ]
  },
  {
   "cell_type": "code",
   "execution_count": null,
   "metadata": {},
   "outputs": [],
   "source": [
    "plot(abs(fft.fft(x)))\n",
    "\n",
    "# what are the indices of the two largest data points?\n",
    "argsort(abs(fft.fft(x)))[-2:] # interesting line"
   ]
  },
  {
   "cell_type": "markdown",
   "metadata": {},
   "source": [
    "The second half of the FFT is the reversed complex conjugate of the first."
   ]
  },
  {
   "cell_type": "markdown",
   "metadata": {},
   "source": [
    "This also shows as a reflection of the amplitude spectrum, and a phase reversed and reflected phase spectrum.\n",
    "\n",
    "This property is called *Hermitian*. i.e. **the FFT of a real signal is Hermitian around its center** (make a note of this)\n",
    "\n",
    "The transform can be performed more quickly and can take up less memory if this property can be exploited (as in the case of audio signals)."
   ]
  },
  {
   "cell_type": "code",
   "execution_count": null,
   "metadata": {},
   "outputs": [],
   "source": [
    "plot(abs(fft.rfft(x))) # note the r; that's an rfft.\n",
    "pass"
   ]
  },
  {
   "cell_type": "markdown",
   "metadata": {},
   "source": [
    "Now we only get half the spectrum because we already know the other half.\n"
   ]
  },
  {
   "cell_type": "code",
   "execution_count": null,
   "metadata": {},
   "outputs": [],
   "source": [
    "len(fft.rfft(x))"
   ]
  },
  {
   "cell_type": "code",
   "execution_count": null,
   "metadata": {},
   "outputs": [],
   "source": [
    "len(x)"
   ]
  },
  {
   "cell_type": "markdown",
   "metadata": {},
   "source": [
    "The number of points we get from the real FFT is $\\frac{N}{2} +1$"
   ]
  },
  {
   "cell_type": "markdown",
   "metadata": {},
   "source": [
    "## Scaling the DFT"
   ]
  },
  {
   "cell_type": "markdown",
   "metadata": {},
   "source": [
    "Because the DFT adds the multiplication of many points together, the magnitude spectrum needs scaling of the amplitude by $N/2$"
   ]
  },
  {
   "cell_type": "code",
   "execution_count": null,
   "metadata": {},
   "outputs": [],
   "source": [
    "N = 512\n",
    "phase = linspace(0, 10 * 2 * pi, 512, endpoint=False)\n",
    "# try larger amplitudes\n",
    "x = 0.6 * sin(phase + 0.3 * pi)\n",
    "subplot(211)\n",
    "plot(phase, x)\n",
    "subplot(212)\n",
    "plot(abs(fft.rfft(x)) / (N / 2))\n",
    "pass"
   ]
  },
  {
   "cell_type": "code",
   "execution_count": null,
   "metadata": {},
   "outputs": [],
   "source": [
    "plot(real(fft.rfft(x)) / (N / 2))\n",
    "pass"
   ]
  },
  {
   "cell_type": "code",
   "execution_count": null,
   "metadata": {},
   "outputs": [],
   "source": [
    "plot(imag(fft.rfft(x)) / (N / 2))\n",
    "pass"
   ]
  },
  {
   "cell_type": "code",
   "execution_count": null,
   "metadata": {},
   "outputs": [],
   "source": [
    "real(fft.rfft(x)[10] / (N / 2)), imag(fft.rfft(x)[10] / (N / 2))"
   ]
  },
  {
   "cell_type": "code",
   "execution_count": null,
   "metadata": {},
   "outputs": [],
   "source": [
    "abs(fft.rfft(x)[10] / (N / 2)), angle(fft.rfft(x)[10] / (N / 2))"
   ]
  },
  {
   "cell_type": "code",
   "execution_count": null,
   "metadata": {},
   "outputs": [],
   "source": [
    "bin10 = fft.fft(x)[10] / (N / 2)\n",
    "polar([0,angle(bin10)],[0,abs(bin10)],marker='o')\n",
    "gcf().set_size_inches(10, 10)"
   ]
  },
  {
   "cell_type": "code",
   "execution_count": null,
   "metadata": {},
   "outputs": [],
   "source": [
    "N = 512\n",
    "phase = linspace(0, 10 * 2 * pi, 512, endpoint=False)\n",
    "\n",
    "\n",
    "x = 0.6 * sin(phase) + 0.4 * sin(phase * 3)\n",
    "\n",
    "\n",
    "plot(x)\n",
    "pass"
   ]
  },
  {
   "cell_type": "code",
   "execution_count": null,
   "metadata": {},
   "outputs": [],
   "source": [
    "plot(abs(fft.rfft(x)) / (N / 2))\n",
    "pass"
   ]
  },
  {
   "cell_type": "markdown",
   "metadata": {},
   "source": [
    "But the x scale is not telling us much about frequency..."
   ]
  },
  {
   "cell_type": "code",
   "execution_count": null,
   "metadata": {},
   "outputs": [],
   "source": [
    "normalized = linspace(0, 0.5, 257)\n",
    "X = abs(fft.rfft(x)) / (N / 2)\n",
    "plot(normalized, X)\n",
    "title('Normalized frequency scale')\n",
    "pass"
   ]
  },
  {
   "cell_type": "code",
   "execution_count": null,
   "metadata": {},
   "outputs": [],
   "source": [
    "fw = linspace(0, pi, 257)\n",
    "X = abs(fft.rfft(x)) / (N/2)\n",
    "plot(fw, X)\n",
    "xticks(linspace(0, pi, 5), ['0', '$\\pi/4$', '$\\pi/2$', '$3\\pi/4$', '$\\pi$'])\n",
    "title('Radians frequency scale')\n",
    "pass"
   ]
  },
  {
   "cell_type": "code",
   "execution_count": null,
   "metadata": {},
   "outputs": [],
   "source": [
    "sampleRate = 44100\n",
    "nyquistFrequency = sampleRate / 2.0\n",
    "hertz = linspace(0, nyquistFrequency, 257, endpoint=True)\n",
    "X = abs(fft.rfft(x)) / (N / 2)\n",
    "stem(hertz, X)\n",
    "xlabel('Hz')\n",
    "title('Hz frequency scale')\n",
    "\n",
    "xlim((700, 3000))\n",
    "pass"
   ]
  },
  {
   "cell_type": "code",
   "execution_count": null,
   "metadata": {},
   "outputs": [],
   "source": [
    "sampleRate = 44100\n",
    "nyquistFrequency = sampleRate / 2.0\n",
    "hertz = linspace(0, nyquistFrequency, 257, endpoint=True)\n",
    "X = abs(fft.rfft(x)) / (N/2)\n",
    "semilogx(hertz, X)\n",
    "xscale('log', basex = 2)\n",
    "xlabel('Hz')\n",
    "title('Hz frequency scale')\n",
    "pass"
   ]
  },
  {
   "cell_type": "markdown",
   "metadata": {},
   "source": [
    "$$f = \\frac{f_0  f_s}{N}$$\n",
    "\n",
    "where $f$ is the \"real\" frequency, $f_0$ is the number of oscillations within the analysis window, $f_s$ is the sampling rate and $N$ is the size of the window"
   ]
  },
  {
   "cell_type": "code",
   "execution_count": null,
   "metadata": {},
   "outputs": [],
   "source": [
    "10.0 * float(sampleRate) / 512, 30.0 * float(sampleRate) / 512"
   ]
  },
  {
   "cell_type": "code",
   "execution_count": null,
   "metadata": {},
   "outputs": [],
   "source": [
    "sampleRate = 44100\n",
    "nyquist = sampleRate / 2.0\n",
    "hertz = linspace(0, nyquist, 257)\n",
    "X = abs(fft.rfft(x)) / (N/2)\n",
    "plot(hertz, X, 'o-')\n",
    "title('Hz frequency scale')\n",
    "xlim((500, 2700))"
   ]
  },
  {
   "cell_type": "markdown",
   "metadata": {},
   "source": [
    "## Power Spectrum"
   ]
  },
  {
   "cell_type": "markdown",
   "metadata": {},
   "source": [
    "The power spectrum can be computed by squaring the magnitude spectrum:\n",
    "\n",
    "$$|X_n|^2$$"
   ]
  },
  {
   "cell_type": "code",
   "execution_count": null,
   "metadata": {},
   "outputs": [],
   "source": [
    "plot(hertz, X**2)\n",
    "title('Power spectrum')\n",
    "xlim((500, 2700))"
   ]
  },
  {
   "cell_type": "markdown",
   "metadata": {},
   "source": [
    "This results in a sort of \"warping\" of the amplitude scale, making peaks more pronounced, and lower level detail less visible. This can be a useful technique when trying to emphasize peaks."
   ]
  },
  {
   "cell_type": "markdown",
   "metadata": {},
   "source": [
    "# The Inverse Fourier Transform"
   ]
  },
  {
   "cell_type": "markdown",
   "metadata": {},
   "source": [
    "The Inverse Fourier transform can reconstruct the time domain representation of a frequency domain spectrum.\n",
    "\n",
    "\n",
    "$$s(t) = \\int_{-\\infty}^{\\infty} S(f) \\cdot e^{i 2\\pi f t} df$$\n",
    "\n",
    "\n",
    "The only change in practice is the sign of the exponent!"
   ]
  },
  {
   "cell_type": "code",
   "execution_count": null,
   "metadata": {},
   "outputs": [],
   "source": [
    "magnitude = zeros(101)\n",
    "phase = zeros(101)\n",
    "\n",
    "magnitude[1] = 1\n",
    "\n",
    "X = [complex(cos(p) * A, -sin(p) * A) for A, p in zip(magnitude, phase)]\n",
    "plot(real(X))\n",
    "pass"
   ]
  },
  {
   "cell_type": "code",
   "execution_count": null,
   "metadata": {},
   "outputs": [],
   "source": [
    "subplot(121)\n",
    "plot(real(X))\n",
    "subplot(122)\n",
    "plot(imag(X))\n",
    "pass"
   ]
  },
  {
   "cell_type": "code",
   "execution_count": null,
   "metadata": {},
   "outputs": [],
   "source": [
    "x = fft.irfft(X)\n",
    "plot(x)\n",
    "pass"
   ]
  },
  {
   "cell_type": "code",
   "execution_count": null,
   "metadata": {},
   "outputs": [],
   "source": [
    "magnitude = zeros(101)\n",
    "phase = zeros(101)\n",
    "\n",
    "magnitude[3] = 1\n",
    "phase[3] = pi / 2\n",
    "\n",
    "X = [complex(cos(p) * A, -sin(p) * A) for A, p in zip(magnitude, phase)]\n",
    "x = fft.irfft(X)\n",
    "plot(x)"
   ]
  },
  {
   "cell_type": "markdown",
   "metadata": {},
   "source": [
    "The inverse FT must be scaled."
   ]
  },
  {
   "cell_type": "code",
   "execution_count": null,
   "metadata": {},
   "outputs": [],
   "source": [
    "magnitude = zeros(101)\n",
    "phase = zeros(101)\n",
    "\n",
    "magnitude[1] = 1\n",
    "\n",
    "X = [complex(cos(p) * A, -sin(p) * A) for A, p in zip(magnitude, phase)]\n",
    "x = fft.irfft(X) * 100\n",
    "plot(x)\n",
    "pass"
   ]
  },
  {
   "cell_type": "code",
   "execution_count": null,
   "metadata": {},
   "outputs": [],
   "source": [
    "\n",
    "\n",
    "magnitude = [0,0,0,0,0,0,1] * 7 + [0] * 52\n",
    "phase = ones_like(magnitude) * pi / 2\n",
    "\n",
    "X = [complex(cos(p) * A, sin(p) * A) for A, p in zip(magnitude, phase)]\n",
    "x = fft.irfft(X) * 100\n",
    "plot(x)\n",
    "pass"
   ]
  },
  {
   "cell_type": "code",
   "execution_count": null,
   "metadata": {},
   "outputs": [],
   "source": [
    "stem(abs(fft.rfft(x)) / 100)"
   ]
  },
  {
   "cell_type": "code",
   "execution_count": null,
   "metadata": {},
   "outputs": [],
   "source": [
    "\n",
    "phase = linspace(-pi / 2,  pi / 2, len(magnitude))\n",
    "\n",
    "X = [complex(cos(p) * A, sin(p) * A) for A, p in zip(magnitude, phase)]\n",
    "x = fft.irfft(X) * 8\n",
    "plot(x)\n",
    "pass"
   ]
  },
  {
   "cell_type": "markdown",
   "metadata": {},
   "source": [
    "# Fast Fourier Transform"
   ]
  },
  {
   "cell_type": "markdown",
   "metadata": {},
   "source": [
    "It turns out that the computation of the DFT can be optimized if:\n",
    "   \n",
    "* The number of points for the analysis is a power of 2"
   ]
  },
  {
   "cell_type": "code",
   "execution_count": null,
   "metadata": {},
   "outputs": [],
   "source": [
    "for i in range(20):\n",
    "    print(2**i)"
   ]
  },
  {
   "cell_type": "markdown",
   "metadata": {},
   "source": [
    "# Short-Time Fourier Transform"
   ]
  },
  {
   "cell_type": "markdown",
   "metadata": {},
   "source": [
    "One of the key assumptions of the DFT is that a signal is static within the analysis frame. (This relates to the assumption of periodicity.)\n",
    "\n",
    "One trick to extract a time-varying spectrum from a signal is to perform short DFTs, each starting a bit later than the previous one."
   ]
  },
  {
   "cell_type": "code",
   "execution_count": null,
   "metadata": {},
   "outputs": [],
   "source": [
    "from scipy.io import wavfile\n",
    "sr, signal = wavfile.read('media/passport.wav')"
   ]
  },
  {
   "cell_type": "code",
   "execution_count": null,
   "metadata": {},
   "outputs": [],
   "source": [
    "Audio(data = signal, rate = sr)"
   ]
  },
  {
   "cell_type": "code",
   "execution_count": null,
   "metadata": {},
   "outputs": [],
   "source": [
    "signal.shape"
   ]
  },
  {
   "cell_type": "code",
   "execution_count": null,
   "metadata": {},
   "outputs": [],
   "source": [
    "win1 = signal[0:1024]\n",
    "\n",
    "win2 = signal[1024:2048]\n",
    "\n",
    "win3 = signal[2048: 3072]\n",
    "\n",
    "subplot(311)\n",
    "plot(abs(fft.rfft(win1)))\n",
    "xscale('log', basex = 2)\n",
    "\n",
    "subplot(312)\n",
    "plot(abs(fft.rfft(win2)))\n",
    "xscale('log', basex = 2)\n",
    "\n",
    "subplot(313)\n",
    "plot(abs(fft.rfft(win3)))\n",
    "xscale('log', basex = 2)\n",
    "pass"
   ]
  },
  {
   "cell_type": "code",
   "execution_count": null,
   "metadata": {},
   "outputs": [],
   "source": [
    "arange(0, 40000, 2048)\n"
   ]
  },
  {
   "cell_type": "code",
   "execution_count": null,
   "metadata": {},
   "outputs": [],
   "source": [
    "win_start = arange(0, 40000, 2048)\n",
    "win_len = 2048\n",
    "mag_spectrum = []\n",
    "\n",
    "for start in win_start:\n",
    "    win = signal[start: start + win_len]\n",
    "    X = fft.rfft(win)\n",
    "    mag_spectrum.append(abs(X) / float(win_len / 2))\n",
    "\n",
    "print(shape(mag_spectrum))\n",
    "    \n",
    "# .T transposes\n",
    "# flip(foo, axis=0) flips foo across the horizontal axis\n",
    "mag_spectrum = flip(array(mag_spectrum).T, axis=0)\n",
    "imshow(mag_spectrum[-30:], aspect='auto')\n",
    "pass"
   ]
  },
  {
   "cell_type": "code",
   "execution_count": null,
   "metadata": {},
   "outputs": [],
   "source": [
    "plot(abs(fft.rfft(signal)))\n",
    "xscale('log', basex = 2)"
   ]
  },
  {
   "cell_type": "code",
   "execution_count": null,
   "metadata": {},
   "outputs": [],
   "source": [
    "\n",
    "\n",
    "win_start = arange(0, 40000, 2048)\n",
    "win_len = 2048\n",
    "pow_spectrum = []\n",
    "\n",
    "for start in win_start:\n",
    "    win = signal[start: start + win_len]\n",
    "    X = fft.rfft(win)\n",
    "    pow_spectrum.append(abs(X)**2 / float(win_len / 2))\n",
    "\n",
    "# .T transposes\n",
    "# flip(foo, axis=0) flips foo across the horizontal axis\n",
    "pow_spectrum = flip(array(pow_spectrum).T, axis=0)\n",
    "imshow(pow_spectrum[-30:], aspect='auto')\n",
    "title('Power spectrum')\n",
    "pass\n",
    "\n"
   ]
  },
  {
   "cell_type": "code",
   "execution_count": null,
   "metadata": {},
   "outputs": [],
   "source": [
    "subplot(211)\n",
    "imshow(mag_spectrum[-30:], aspect='auto')\n",
    "subplot(212)\n",
    "imshow(pow_spectrum[-30:], aspect='auto')\n",
    "pass"
   ]
  },
  {
   "cell_type": "markdown",
   "metadata": {},
   "source": [
    "## Spectrogram\n",
    "All that flipping! Too much work and the axes are still wrong."
   ]
  },
  {
   "cell_type": "code",
   "execution_count": null,
   "metadata": {},
   "outputs": [],
   "source": [
    "sout = specgram(signal, NFFT=2048, noverlap=0, window=window_none, Fs=sr);\n",
    "print(sout[0].shape, sout[1].shape, sout[2].shape)\n",
    "colorbar()\n",
    "yscale('log', basex = 2)\n",
    "ylim((2**7, 2**14))\n",
    "pass"
   ]
  },
  {
   "cell_type": "code",
   "execution_count": null,
   "metadata": {},
   "outputs": [],
   "source": [
    "imshow(10 * log10(pow_spectrum), aspect='auto')\n",
    "colorbar()\n",
    "pass"
   ]
  },
  {
   "cell_type": "code",
   "execution_count": null,
   "metadata": {},
   "outputs": [],
   "source": [
    "imshow(10 * log10(pow_spectrum), aspect='auto', interpolation='nearest')\n",
    "colorbar()\n",
    "ylim((0, 1024))"
   ]
  },
  {
   "cell_type": "markdown",
   "metadata": {},
   "source": [
    "So the *specgram* function in pylab plots the Power spectrum on a decibel scale. The decibel scale is more useful than the linear scale as the relative amplitudes can be detected better."
   ]
  },
  {
   "cell_type": "markdown",
   "metadata": {},
   "source": [
    "# Windowed analysis"
   ]
  },
  {
   "cell_type": "code",
   "execution_count": null,
   "metadata": {},
   "outputs": [],
   "source": [
    "N = 512\n",
    "phs = linspace(0.2 * pi, 7.8 * 2 * pi, N)\n",
    "x = sin(phs)\n",
    "plot(x)\n",
    "pass"
   ]
  },
  {
   "cell_type": "code",
   "execution_count": null,
   "metadata": {},
   "outputs": [],
   "source": [
    "X = fft.rfft(x)\n",
    "plot(abs(X))\n",
    "xscale('log', basex = 2)\n",
    "pass"
   ]
  },
  {
   "cell_type": "code",
   "execution_count": null,
   "metadata": {},
   "outputs": [],
   "source": [
    "stem(abs(X)/len(X), 'o-')\n",
    "xlim((0, 20))"
   ]
  },
  {
   "cell_type": "code",
   "execution_count": null,
   "metadata": {},
   "outputs": [],
   "source": [
    "stem(abs(X) / len(X), 'o:')\n",
    "xlim((3, 12))\n",
    "grid()\n",
    "vlines(7.8, 0, 0.9)\n",
    "pass"
   ]
  },
  {
   "cell_type": "markdown",
   "metadata": {},
   "source": [
    "There is no bin at 7.8. There's a bin 7 and a bin 8 and only those can have energy in them. That's why they're called bins. It's like a histogram. Most of the energy from 7.8 Hz goes into bin 8, but some goes into bin 7."
   ]
  },
  {
   "cell_type": "code",
   "execution_count": null,
   "metadata": {},
   "outputs": [],
   "source": [
    "def plot_mag_spectrum(x, sr=44100, db=True):\n",
    "    X = fft.rfft(x)\n",
    "    fw = linspace(0, sr/2.0, len(X))\n",
    "    if db:\n",
    "        plot(fw,20*log10(abs(X)/len(X)))  # assumes real FFT\n",
    "    else:\n",
    "        plot(fw,abs(X)/len(X))  # assumes real FFT\n",
    "    #xscale('log', basex = 2)\n",
    "    ylabel('Amplitude (dB)');\n",
    "    xlabel('Frequency (Hz)');\n",
    "    title('Magnitude spectrum')\n",
    "    xlim((0, sr / 2.0))\n",
    "    grid(True)\n",
    "    \n",
    "plot_mag_spectrum(x)"
   ]
  },
  {
   "cell_type": "code",
   "execution_count": null,
   "metadata": {},
   "outputs": [],
   "source": [
    "plot_mag_spectrum(x )\n",
    "xlim(0, 2500)"
   ]
  },
  {
   "cell_type": "markdown",
   "metadata": {},
   "source": [
    "Why is there energy/amplitude *around* the center frequency, when only a single frequency was present? Or, why isn't this peak more narrow?"
   ]
  },
  {
   "cell_type": "markdown",
   "metadata": {},
   "source": [
    "## Effect of analysis windows"
   ]
  },
  {
   "cell_type": "code",
   "execution_count": null,
   "metadata": {},
   "outputs": [],
   "source": [
    "N = 512\n",
    "phase = linspace(0.6* pi, 107.2 * 2 * pi, N)\n",
    "x = sin(phase)\n",
    "plot_mag_spectrum(x)\n",
    "\n",
    "x = 0.01 * sin(phase * 1.11)\n",
    "plot_mag_spectrum(x)\n",
    "\n",
    "ylim((-200, 0))\n"
   ]
  },
  {
   "cell_type": "code",
   "execution_count": null,
   "metadata": {},
   "outputs": [],
   "source": [
    "N = 512\n",
    "phase = linspace(0.6* pi, 107.2 * 2 * pi, N)\n",
    "x = sin(phase) + (0.01 * sin(phase * 1.11)) # x is now a sum of two sin waves\n",
    "plot_mag_spectrum(x)"
   ]
  },
  {
   "cell_type": "markdown",
   "metadata": {},
   "source": [
    "Which are true components of the signal?"
   ]
  },
  {
   "cell_type": "code",
   "execution_count": null,
   "metadata": {},
   "outputs": [],
   "source": [
    "plot(x)\n",
    "pass"
   ]
  },
  {
   "cell_type": "code",
   "execution_count": null,
   "metadata": {},
   "outputs": [],
   "source": [
    "plot(hanning(N))\n",
    "pass"
   ]
  },
  {
   "cell_type": "code",
   "execution_count": null,
   "metadata": {},
   "outputs": [],
   "source": [
    "plot(hanning(N) * x)\n",
    "pass"
   ]
  },
  {
   "cell_type": "code",
   "execution_count": null,
   "metadata": {},
   "outputs": [],
   "source": [
    "plot(x)\n",
    "xlim((0, 100))"
   ]
  },
  {
   "cell_type": "code",
   "execution_count": null,
   "metadata": {},
   "outputs": [],
   "source": [
    "plot_mag_spectrum(hanning(N) * x)"
   ]
  },
  {
   "cell_type": "markdown",
   "metadata": {},
   "source": [
    "Ah! Much better!\n",
    "\n",
    "But wait, isn't amplitude wrong? It doesn't match the amplitude values when not using a window..."
   ]
  },
  {
   "cell_type": "code",
   "execution_count": null,
   "metadata": {},
   "outputs": [],
   "source": [
    "def plot_mag_spectrum(x, sr=44100, db=True, window=window_none):\n",
    "    w = window(len(x))\n",
    "    X = fft.rfft(window(len(x)) *x)\n",
    "    fw = linspace(0, sr/2.0, len(X))\n",
    "    if db:\n",
    "        plot(fw,20*log10(abs(X)/(sum(w)/2.0)))  # assumes real FFT\n",
    "    else:\n",
    "        plot(fw,abs(X)/(sum(w)/2.0))  # assumes real FFT\n",
    "    ylabel('Amplitude'); xlabel('Frequency (Hz)'); title('Magnitude spectrum')\n",
    "    xlim((0, sr/2.0))\n",
    "    grid(True)"
   ]
  },
  {
   "cell_type": "code",
   "execution_count": null,
   "metadata": {},
   "outputs": [],
   "source": [
    "plot_mag_spectrum(x, window=hanning)"
   ]
  },
  {
   "cell_type": "markdown",
   "metadata": {},
   "source": [
    "Windowing the analysis frame results in a tradeoff between main lobe width and sidelobe (leakage) level.\n",
    "\n",
    "http://en.wikipedia.org/wiki/Windowing_function\n",
    "\n",
    "There are many different functions which can be useful for different applications. In audio the most common are Hann (Hanning), Hamming, Kaiser and Bartlett, because they have lower sidelobe levels."
   ]
  },
  {
   "cell_type": "code",
   "execution_count": null,
   "metadata": {},
   "outputs": [],
   "source": [
    "plot_mag_spectrum(x, window=hanning)\n",
    "plot_mag_spectrum(x, window=hamming)\n",
    "plot_mag_spectrum(x, window=bartlett)\n",
    "plot_mag_spectrum(x, window=ones)\n",
    "\n",
    "xlim((5000, 12000))\n",
    "legend(['Hanning', 'Hamming', 'Bartlett', 'Rectangular'], loc='best')"
   ]
  },
  {
   "cell_type": "markdown",
   "metadata": {},
   "source": [
    "## Zero padding"
   ]
  },
  {
   "cell_type": "markdown",
   "metadata": {},
   "source": [
    "Zero padding consists of adding zeros at the end of an analysis frame, to improve smoothness of the spectrum or to adjust to make the window size a power of two."
   ]
  },
  {
   "cell_type": "code",
   "execution_count": null,
   "metadata": {},
   "outputs": [],
   "source": [
    "def plot_mag_spectrum(x, sr=44100, db=True, window=window_none, zp=0):\n",
    "    w = window(len(x))\n",
    "    padded_x = r_[window(len(x)) *x, zeros(zp)]\n",
    "    X = fft.rfft(padded_x)\n",
    "    fw = linspace(0, sr/2.0, len(X))\n",
    "    if db:\n",
    "        plot(fw,10*log10(abs(X)/(sum(w)/2.0)))  # assumes real FFT\n",
    "    else:\n",
    "        plot(fw,abs(X)/(sum(w)/2.0))  # assumes real FFT\n",
    "    ylabel('Amplitude'); xlabel('Frequency (Hz)'); title('Magnitude spectrum')\n",
    "    xlim((0, sr/2.0))\n",
    "    grid(True)\n",
    "\n",
    "plot_mag_spectrum(x, window=hanning, zp=2048)\n",
    "plot_mag_spectrum(x, window=hamming, zp=2048)\n",
    "plot_mag_spectrum(x, window=bartlett, zp=2048)\n",
    "plot_mag_spectrum(x, window=ones, zp=2048)\n",
    "\n",
    "xlim((5000, 12000))\n",
    "legend(['Hanning', 'Hamming', 'Bartlett', 'Rectangular'], loc='best')"
   ]
  },
  {
   "cell_type": "code",
   "execution_count": null,
   "metadata": {},
   "outputs": [],
   "source": [
    "plot_mag_spectrum(x, window=hanning, zp=2048)\n",
    "plot_mag_spectrum(x, window=hamming, zp=2048)\n",
    "plot_mag_spectrum(x, window=bartlett, zp=2048)\n",
    "plot_mag_spectrum(x, window=ones, zp=2048)\n",
    "\n",
    "xlim((9000, 9500))\n",
    "ylim((-40, 5))\n",
    "legend(['Hanning', 'Hamming', 'Bartlett', 'Rectangular'], loc='lower center')"
   ]
  },
  {
   "cell_type": "markdown",
   "metadata": {},
   "source": [
    "Zero padding is actually similar to interpolating the spectrum, it doesn't really give better frequency resolution.\n",
    "\n",
    "But it can reveal artifacts, so it is more like upsampling."
   ]
  },
  {
   "cell_type": "markdown",
   "metadata": {},
   "source": [
    "## Spectrogram (again)"
   ]
  },
  {
   "cell_type": "markdown",
   "metadata": {},
   "source": [
    "Because windowing makes the spectrum focus on the center of the window, it is common to overlap windows"
   ]
  },
  {
   "cell_type": "code",
   "execution_count": null,
   "metadata": {},
   "outputs": [],
   "source": [
    "sout = specgram(signal[:20000], NFFT=2048, noverlap=0, Fs=sr);"
   ]
  },
  {
   "cell_type": "code",
   "execution_count": null,
   "metadata": {},
   "outputs": [],
   "source": [
    "sout = specgram(signal[:20000], NFFT=2048, noverlap=1024, Fs=sr);"
   ]
  },
  {
   "cell_type": "markdown",
   "metadata": {},
   "source": [
    "By: Andrés Cabrera mantaraya36@gmail.com\n",
    "For MAT course MAT 201A at UCSB\n",
    "\n",
    "Adapted by Karl Yerkes\n",
    "\n",
    "This ipython notebook is licensed under the CC-BY-NC-SA license: http://creativecommons.org/licenses/by-nc-sa/4.0/\n",
    "\n",
    "![http://i.creativecommons.org/l/by-nc-sa/3.0/88x31.png](http://i.creativecommons.org/l/by-nc-sa/3.0/88x31.png)"
   ]
  }
 ],
 "metadata": {
  "kernelspec": {
   "display_name": "Python 3",
   "language": "python",
   "name": "python3"
  },
  "language_info": {
   "codemirror_mode": {
    "name": "ipython",
    "version": 2
   },
   "file_extension": ".py",
   "mimetype": "text/x-python",
   "name": "python",
   "nbconvert_exporter": "python",
   "pygments_lexer": "ipython2",
   "version": "2.7.13"
  }
 },
 "nbformat": 4,
 "nbformat_minor": 1
}
