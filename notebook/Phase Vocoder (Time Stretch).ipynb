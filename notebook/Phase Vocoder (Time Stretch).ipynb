{
 "cells": [
  {
   "cell_type": "code",
   "execution_count": null,
   "metadata": {},
   "outputs": [],
   "source": [
    "# phase vocoder example\n",
    "# (c) V Lazzarini, 2010\n",
    "# GNU Public License\n",
    "#"
   ]
  },
  {
   "cell_type": "markdown",
   "metadata": {},
   "source": [
    "- https://dsp.stackexchange.com/questions/1232/programming-a-vocoder\n",
    "- https://audioprograming.wordpress.com/2012/03/02/a-phase-vocoder-in-python"
   ]
  },
  {
   "cell_type": "code",
   "execution_count": null,
   "metadata": {},
   "outputs": [],
   "source": [
    "%pylab inline\n",
    "rcParams['figure.figsize'] = (15, 4)"
   ]
  },
  {
   "cell_type": "code",
   "execution_count": null,
   "metadata": {},
   "outputs": [],
   "source": [
    "from scipy.io import wavfile\n",
    "from IPython.display import Audio\n",
    "from scipy.fftpack import dct"
   ]
  },
  {
   "cell_type": "code",
   "execution_count": null,
   "metadata": {},
   "outputs": [],
   "source": [
    "sampleRate, signal = wavfile.read('media/misery.wav')\n",
    "signal.shape"
   ]
  },
  {
   "cell_type": "code",
   "execution_count": null,
   "metadata": {},
   "outputs": [],
   "source": [
    "subplot(121)\n",
    "plot(signal)\n",
    "subplot(122)\n",
    "plot(log(abs(fft.rfft(signal))))\n",
    "Audio(signal, rate=sampleRate)"
   ]
  },
  {
   "cell_type": "code",
   "execution_count": null,
   "metadata": {},
   "outputs": [],
   "source": [
    "N = 2048\n",
    "H = N // 4\n",
    "L = len(signal)\n",
    "tscale = 0.45"
   ]
  },
  {
   "cell_type": "code",
   "execution_count": null,
   "metadata": {},
   "outputs": [],
   "source": [
    "# signal blocks for processing and output\n",
    "phi = zeros(N)\n",
    "out = zeros(N, dtype=complex)\n",
    "output = zeros(int(L / tscale + N) + 1)\n",
    "\n",
    "amp = max(signal)\n",
    "window = hanning(N)\n",
    "p = 0\n",
    "pp = 0\n",
    "\n",
    "while p < L-(N+H):\n",
    "    \n",
    "    # take the spectra of two consecutive windows\n",
    "    p1 = int(p)\n",
    "    spec1 =  fft.fft(window * signal[p1:p1 + N])\n",
    "    spec2 =  fft.fft(window * signal[p1 + H:p1 + N + H])\n",
    "    \n",
    "    # take their phase difference and integrate\n",
    "    phi += (angle(spec2) - angle(spec1))\n",
    "\n",
    "    # bring the phase back to between pi and -pi\n",
    "    for i in phi:\n",
    "        while i < -pi:\n",
    "            i += 2 * pi\n",
    "        while i >= pi:\n",
    "            i -= 2 * pi\n",
    "    out.real, out.imag = cos(phi), sin(phi)\n",
    "\n",
    "    # make the output FFT with frequency magnitudes from the next spectrum\n",
    "    # but use the unrolled, more accurate phase data\n",
    "    synthesized = abs(spec2) * out\n",
    "    \n",
    "    # inverse FFT and overlap-add\n",
    "    output[pp:pp + N] += window * real(fft.ifft(synthesized))\n",
    "    \n",
    "    # move the output pointer forward by the hopesize\n",
    "    pp += H\n",
    "    \n",
    "    # move the signal pointer forward by the hopesize scaled\n",
    "    p += H * tscale"
   ]
  },
  {
   "cell_type": "code",
   "execution_count": null,
   "metadata": {},
   "outputs": [],
   "source": [
    "#  write file to output, scaling it to original amp\n",
    "#data = array(amp * output / max(output)).astype('int16')\n",
    "#wavfile.write('clip_pv.wav', sampleRate, data)"
   ]
  },
  {
   "cell_type": "code",
   "execution_count": null,
   "metadata": {},
   "outputs": [],
   "source": [
    "Audio(data=output, rate=sampleRate)"
   ]
  },
  {
   "cell_type": "code",
   "execution_count": null,
   "metadata": {},
   "outputs": [],
   "source": [
    "subplot(121)\n",
    "plot(output)\n",
    "subplot(122)\n",
    "plot(log(abs(fft.rfft(output))))"
   ]
  }
 ],
 "metadata": {
  "kernelspec": {
   "display_name": "Python 3",
   "language": "python",
   "name": "python3"
  },
  "language_info": {
   "codemirror_mode": {
    "name": "ipython",
    "version": 3
   },
   "file_extension": ".py",
   "mimetype": "text/x-python",
   "name": "python",
   "nbconvert_exporter": "python",
   "pygments_lexer": "ipython3",
   "version": "3.6.1"
  }
 },
 "nbformat": 4,
 "nbformat_minor": 2
}
