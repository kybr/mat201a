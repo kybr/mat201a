{
 "cells": [
  {
   "cell_type": "code",
   "execution_count": null,
   "metadata": {},
   "outputs": [],
   "source": [
    "%pylab inline\n",
    "rcParams['figure.figsize'] = (10, 4) #wide graphs by default\n",
    "from __future__ import print_function\n",
    "from __future__ import division\n",
    "from IPython.display import display, HTML, Audio"
   ]
  },
  {
   "cell_type": "markdown",
   "metadata": {},
   "source": [
    "# Variance and correlation"
   ]
  },
  {
   "cell_type": "markdown",
   "metadata": {},
   "source": [
    "![http://imgs.xkcd.com/comics/random_number.png](http://imgs.xkcd.com/comics/random_number.png)"
   ]
  },
  {
   "cell_type": "markdown",
   "metadata": {},
   "source": [
    "![http://imgs.xkcd.com/comics/sports.png](http://imgs.xkcd.com/comics/sports.png)"
   ]
  },
  {
   "cell_type": "markdown",
   "metadata": {},
   "source": [
    "![http://imgs.xkcd.com/comics/cell_phones.png](http://imgs.xkcd.com/comics/cell_phones.png)"
   ]
  },
  {
   "cell_type": "markdown",
   "metadata": {},
   "source": [
    "[http://xkcd.com/882/](http://xkcd.com/882/)"
   ]
  },
  {
   "cell_type": "markdown",
   "metadata": {},
   "source": [
    "## Variance and covariance"
   ]
  },
  {
   "cell_type": "markdown",
   "metadata": {},
   "source": [
    "$$\\operatorname{Var}(X) =\\sigma^2 =\\int (x-\\mu)^2  f(x)  dx =\\int x^2  f(x)  dx - \\mu^2$$\n",
    "\n",
    "$$\\operatorname{Var}(X) = \\sum_{i=1}^n p_i\\cdot(x_i - \\mu)^2 = \\sum_{i=1}^n (p_i\\cdot x_i^2) - \\mu^2$$\n",
    "\n",
    "$p_i$ is the probability of $x_i$\n",
    "\n",
    "http://en.wikipedia.org/wiki/Variance\n",
    "\n",
    "For equally likely values:\n",
    "\n",
    "$$\\operatorname{Var}(X) = \\frac{1}{n} \\sum_{i=1}^n (x_i - \\mu)^2$$\n",
    "\n",
    "\n",
    "...or the sum of the squares of the differences from the mean ($\\mu$) all divided by the number of elements ($n$).\n",
    "\n",
    "(Also see [Mean squared error](https://en.wikipedia.org/wiki/Mean_squared_error) and [Least squares](https://en.wikipedia.org/wiki/Least_squares))\n",
    "\n",
    "<!-- $p_i$ is $f(x)$ so $x$ turns into $i$ -->"
   ]
  },
  {
   "cell_type": "markdown",
   "metadata": {},
   "source": [
    "#### Variance and Standard Deviation "
   ]
  },
  {
   "cell_type": "code",
   "execution_count": null,
   "metadata": {},
   "outputs": [],
   "source": [
    "sample = normal(scale=2.0, size = 10000)\n",
    "sample.std(), sample.var()"
   ]
  },
  {
   "cell_type": "code",
   "execution_count": null,
   "metadata": {},
   "outputs": [],
   "source": [
    "[print(s, normal(scale=s, size=10000).var()) for s in range(1, 10)]\n",
    "pass"
   ]
  },
  {
   "cell_type": "code",
   "execution_count": null,
   "metadata": {},
   "outputs": [],
   "source": [
    "sample.std(), sample.std()**2, sample.var()"
   ]
  },
  {
   "cell_type": "markdown",
   "metadata": {},
   "source": [
    "#### Covariance\n",
    "\n",
    "> a measure of the joint variability of two random variables; show if two sets of sample behave similarly"
   ]
  },
  {
   "cell_type": "code",
   "execution_count": null,
   "metadata": {},
   "outputs": [],
   "source": [
    "a = rand(100)\n",
    "b = rand(100)\n",
    "cov(a, b)"
   ]
  },
  {
   "cell_type": "markdown",
   "metadata": {},
   "source": [
    "You get a matrix: [[aa, ab], [ba, bb]]"
   ]
  },
  {
   "cell_type": "code",
   "execution_count": null,
   "metadata": {},
   "outputs": [],
   "source": [
    "((a - a.mean())**2).mean()"
   ]
  },
  {
   "cell_type": "code",
   "execution_count": null,
   "metadata": {},
   "outputs": [],
   "source": [
    "((a - a.mean()) * (b - b.mean())).mean()"
   ]
  },
  {
   "cell_type": "code",
   "execution_count": null,
   "metadata": {},
   "outputs": [],
   "source": [
    "a = rand(100) * 100\n",
    "b = rand(100) * 100\n",
    "cov(a, b)\n",
    "# the thing to look for is whether var(x) similar cov(x, y)[0, 1]"
   ]
  },
  {
   "cell_type": "code",
   "execution_count": null,
   "metadata": {},
   "outputs": [],
   "source": [
    "a = rand(100000) * 100\n",
    "b = rand(100000) * 100\n",
    "cov(a, b)"
   ]
  },
  {
   "cell_type": "code",
   "execution_count": null,
   "metadata": {},
   "outputs": [],
   "source": [
    "# var(a) ==> cov(a, b)[0, 0]\n",
    "# var(b) ==> cov(a, b)[1, 1]\n",
    "var(a), var(b)"
   ]
  },
  {
   "cell_type": "code",
   "execution_count": null,
   "metadata": {},
   "outputs": [],
   "source": [
    "var(a), cov(a, b)[0,0], abs(var(a) - cov(a, b)[0,0])"
   ]
  },
  {
   "cell_type": "markdown",
   "metadata": {},
   "source": [
    "#### Comparing noisy signals"
   ]
  },
  {
   "cell_type": "code",
   "execution_count": null,
   "metadata": {},
   "outputs": [],
   "source": [
    "a = rand(100)\n",
    "b = rand(100)\n",
    "d = sin(linspace(0, 2 * pi * 7, 100))\n",
    "plot(a + d)\n",
    "plot(b + d)\n",
    "pass"
   ]
  },
  {
   "cell_type": "code",
   "execution_count": null,
   "metadata": {},
   "outputs": [],
   "source": [
    "cov(a + d, b + d) # the d in both should lead to some correlation (relationship)\n",
    "# top row is getting similar"
   ]
  },
  {
   "cell_type": "code",
   "execution_count": null,
   "metadata": {},
   "outputs": [],
   "source": [
    "\n",
    "# top row is getting very similar\n",
    "plot(a + d * 100)\n",
    "plot(b + d * 100)\n",
    "pass"
   ]
  },
  {
   "cell_type": "code",
   "execution_count": null,
   "metadata": {},
   "outputs": [],
   "source": [
    "cov(a + d * 100, b + d * 100)"
   ]
  },
  {
   "cell_type": "markdown",
   "metadata": {},
   "source": [
    "#### [Pearson r](https://docs.scipy.org/doc/scipy-0.14.0/reference/generated/scipy.stats.pearsonr.html) (related to the covariance)\n",
    "> a measure of the linear correlation between two variables X and Y. It has a value between +1 and −1, where 1 is total positive linear correlation, 0 is no linear correlation, and −1 is total negative linear correlation"
   ]
  },
  {
   "cell_type": "code",
   "execution_count": null,
   "metadata": {},
   "outputs": [],
   "source": [
    "from scipy.stats import pearsonr\n",
    "pearsonr(a + d, b + d)"
   ]
  },
  {
   "cell_type": "code",
   "execution_count": null,
   "metadata": {},
   "outputs": [],
   "source": [
    "a = rand(100)\n",
    "b = rand(100)\n",
    "c = rand(100)\n",
    "cov(a + (2 * c), b + (2 * c)) # the c in both should lead to some correlation (relationship)"
   ]
  },
  {
   "cell_type": "code",
   "execution_count": null,
   "metadata": {},
   "outputs": [],
   "source": [
    "pearsonr(a + (2 * c), b + (2 * c))"
   ]
  },
  {
   "cell_type": "code",
   "execution_count": null,
   "metadata": {},
   "outputs": [],
   "source": [
    "plot(a + d + 2)\n",
    "plot(-2 * (b + d))\n",
    "pass"
   ]
  },
  {
   "cell_type": "code",
   "execution_count": null,
   "metadata": {},
   "outputs": [],
   "source": [
    "cov(a + d + 2, -2 * (b + d))\n",
    "# not so correlated?"
   ]
  },
  {
   "cell_type": "code",
   "execution_count": null,
   "metadata": {},
   "outputs": [],
   "source": [
    "pearsonr(a + d + 2, -2 * (b + d))"
   ]
  },
  {
   "cell_type": "code",
   "execution_count": null,
   "metadata": {},
   "outputs": [],
   "source": [
    "plot(a + (d * 3))\n",
    "plot(-(b + (d * 3)))\n",
    "pass"
   ]
  },
  {
   "cell_type": "code",
   "execution_count": null,
   "metadata": {},
   "outputs": [],
   "source": [
    "cov(a + (d * 3), -(b + (d * 3)))\n",
    "# negatively correlated"
   ]
  },
  {
   "cell_type": "code",
   "execution_count": null,
   "metadata": {},
   "outputs": [],
   "source": [
    "pearsonr(a + (d * 3), -(b + (d * 3)))"
   ]
  },
  {
   "cell_type": "markdown",
   "metadata": {},
   "source": [
    "- - - - - - -\n",
    "**sample ordering and time does not matter for all the stuff above, but now were moving into time-domain analysis**\n"
   ]
  },
  {
   "cell_type": "markdown",
   "metadata": {},
   "source": [
    "## Correlation and autocorrelation"
   ]
  },
  {
   "cell_type": "markdown",
   "metadata": {},
   "source": [
    "$$(f \\star g)(\\tau)\\ \\stackrel{\\mathrm{def}}{=} \\int_{-\\infty}^{\\infty} f^*(t)\\ g(t+\\tau)\\,dt$$\n",
    "\n",
    "$$ (f \\star g)(n) = \\frac{1}{N} \\sum_{i=1}^N f(i) . g(i + n)$$\n"
   ]
  },
  {
   "cell_type": "markdown",
   "metadata": {},
   "source": [
    "### [cross correlation](https://en.wikipedia.org/wiki/Cross-correlation)\n",
    "\n",
    "> In signal processing, cross-correlation is a measure of similarity of two series as a function of the displacement of one relative to the other. This is also known as a sliding dot product or sliding inner-product. It is commonly used for searching a long signal for a shorter, known feature.\n",
    "\n",
    "Say you have a recording of a trumpet player and you have a clip of a punchy trumpet note. You might use cross-correlation between the recording and the clip to get back a signal whose amplitude is high where the punchy notes might be and low elsewhere.\n",
    "\n",
    "\n",
    "### [autocorrelation](https://en.wikipedia.org/wiki/Autocorrelation)\n",
    "\n",
    "> In an autocorrelation, which is the cross-correlation of a signal with itself, there will always be a peak at a lag of zero, and its size will be the signal energy.\n",
    "\n",
    "This will show where a signal is self-similar."
   ]
  },
  {
   "cell_type": "markdown",
   "metadata": {},
   "source": [
    "![](https://upload.wikimedia.org/wikipedia/commons/2/21/Comparison_convolution_correlation.svg)"
   ]
  },
  {
   "cell_type": "code",
   "execution_count": null,
   "metadata": {},
   "outputs": [],
   "source": [
    "sig1 = sin(linspace(0, 100 * 2 * pi, 44100))\n",
    "sig2 = sin(linspace(0.3, 0.3 + (100 * 2 * pi), 44100))\n",
    "plot(sig1, label='sig1')\n",
    "plot(sig2, label='sig2')\n",
    "legend()\n",
    "xlim((0, 1000))\n",
    "#xlim((210, 230))\n",
    "#grid()\n",
    "# these two signals are offset by how much? describe this in terms of \"lag\""
   ]
  },
  {
   "cell_type": "code",
   "execution_count": null,
   "metadata": {},
   "outputs": [],
   "source": [
    "argmax(correlate(sig1, sig2, mode='full'))"
   ]
  },
  {
   "cell_type": "code",
   "execution_count": null,
   "metadata": {},
   "outputs": [],
   "source": [
    "lags, c, line, b = xcorr(sig1, sig2, maxlags=500, usevlines=False)\n",
    "xlabel('lag')\n",
    "ylabel('correlation')\n",
    "grid()"
   ]
  },
  {
   "cell_type": "code",
   "execution_count": null,
   "metadata": {},
   "outputs": [],
   "source": [
    "with xkcd():\n",
    "    lags, c, line, b = xcorr(sig1, sig2, maxlags=50, usevlines=False)\n",
    "    xlabel('lag')\n",
    "    ylabel('correlation')"
   ]
  },
  {
   "cell_type": "code",
   "execution_count": null,
   "metadata": {},
   "outputs": [],
   "source": [
    "plot(lags,c)"
   ]
  },
  {
   "cell_type": "code",
   "execution_count": null,
   "metadata": {},
   "outputs": [],
   "source": [
    "len(c)"
   ]
  },
  {
   "cell_type": "code",
   "execution_count": null,
   "metadata": {},
   "outputs": [],
   "source": [
    "plot(c) # c is for (c)orrelation\n",
    "grid()\n",
    "pass"
   ]
  },
  {
   "cell_type": "code",
   "execution_count": null,
   "metadata": {},
   "outputs": [],
   "source": [
    "argmax(c) # find the index of the peak"
   ]
  },
  {
   "cell_type": "code",
   "execution_count": null,
   "metadata": {},
   "outputs": [],
   "source": [
    "cc_index = lags[argmax(c)] # what's the value of lag at that peak?\n",
    "print(cc_index, \"samples lag\")"
   ]
  },
  {
   "cell_type": "code",
   "execution_count": null,
   "metadata": {},
   "outputs": [],
   "source": [
    "plot(lags, c)\n",
    "vlines(cc_index, 0.5, 1.09, color='r', lw=2)\n",
    "text(cc_index + 1, 1.05, 'CC peak', color='r')\n",
    "grid()"
   ]
  },
  {
   "cell_type": "code",
   "execution_count": null,
   "metadata": {},
   "outputs": [],
   "source": [
    "sr = 44100\n",
    "f = 100.0\n",
    "Ps = sr / f\n",
    "Ps # period of our signal in number of samples"
   ]
  },
  {
   "cell_type": "code",
   "execution_count": null,
   "metadata": {},
   "outputs": [],
   "source": [
    "cc_index"
   ]
  },
  {
   "cell_type": "code",
   "execution_count": null,
   "metadata": {},
   "outputs": [],
   "source": [
    "cc_index / Ps"
   ]
  },
  {
   "cell_type": "code",
   "execution_count": null,
   "metadata": {},
   "outputs": [],
   "source": [
    "2 * pi * cc_index / Ps # we get back our initial phase difference"
   ]
  },
  {
   "cell_type": "code",
   "execution_count": null,
   "metadata": {},
   "outputs": [],
   "source": [
    "2 * pi * (cc_index + 1) / Ps"
   ]
  },
  {
   "cell_type": "markdown",
   "metadata": {},
   "source": [
    "Later, we'll use cross-correlation (CC) to determine pitch and periodicity."
   ]
  },
  {
   "cell_type": "markdown",
   "metadata": {},
   "source": [
    "Two different noise samples produce low values of cross-correlation:"
   ]
  },
  {
   "cell_type": "code",
   "execution_count": null,
   "metadata": {},
   "outputs": [],
   "source": [
    "noise1 = random.random(44100) - 0.5\n",
    "noise2 = random.random(44100) - 0.5"
   ]
  },
  {
   "cell_type": "code",
   "execution_count": null,
   "metadata": {},
   "outputs": [],
   "source": [
    "lags, c, line, b = xcorr(noise1, noise2, maxlags=500, usevlines=False)\n",
    "xlabel('lag')\n",
    "ylabel('correlation')\n",
    "grid()"
   ]
  },
  {
   "cell_type": "markdown",
   "metadata": {},
   "source": [
    "And no clear patterns in the CC function:"
   ]
  },
  {
   "cell_type": "code",
   "execution_count": null,
   "metadata": {},
   "outputs": [],
   "source": [
    "noise1 = normal(size=44100)\n",
    "noise2 = normal(size=44100)"
   ]
  },
  {
   "cell_type": "code",
   "execution_count": null,
   "metadata": {},
   "outputs": [],
   "source": [
    "lags, c, line, b = xcorr(noise1, noise2, maxlags=500, usevlines=False);\n",
    "grid()"
   ]
  },
  {
   "cell_type": "markdown",
   "metadata": {},
   "source": [
    "Cross-correlation can find harder to see relationships:"
   ]
  },
  {
   "cell_type": "code",
   "execution_count": null,
   "metadata": {},
   "outputs": [],
   "source": [
    "noiseA = (rand(44100) * 2) - 1\n",
    "plot(noiseA)\n",
    "pass"
   ]
  },
  {
   "cell_type": "code",
   "execution_count": null,
   "metadata": {},
   "outputs": [],
   "source": [
    "signalA = sin(linspace(0, 2 * pi * 200, 44100)) * 0.3\n",
    "plot(noiseA + signalA) # noise, but there's a signal in there! can you see it?\n",
    "pass"
   ]
  },
  {
   "cell_type": "code",
   "execution_count": null,
   "metadata": {},
   "outputs": [],
   "source": [
    "noiseB = (rand(44100) * 2) - 1\n",
    "signalB = sin(linspace(0.7, 0.7 + (2 * pi * 200), 44100)) * 0.3\n",
    "plot(noiseB + signalB)\n",
    "pass"
   ]
  },
  {
   "cell_type": "code",
   "execution_count": null,
   "metadata": {},
   "outputs": [],
   "source": [
    "plot(noiseB + signalB)\n",
    "xlim(0, 1000) # yeah, if you know to look closely"
   ]
  },
  {
   "cell_type": "code",
   "execution_count": null,
   "metadata": {},
   "outputs": [],
   "source": [
    "lags, c, line, b = xcorr(noiseA + signalA, noiseB + signalB, maxlags=500)\n",
    "grid()\n",
    "pass\n",
    "# here a and c have the same frequency, but different phases\n",
    "# the CC is still small, but there's a clearly visible pattern"
   ]
  },
  {
   "cell_type": "code",
   "execution_count": null,
   "metadata": {},
   "outputs": [],
   "source": [
    "argmax(c[500:600])"
   ]
  },
  {
   "cell_type": "code",
   "execution_count": null,
   "metadata": {},
   "outputs": [],
   "source": [
    "m = argmax(c[500:600]) + 500"
   ]
  },
  {
   "cell_type": "code",
   "execution_count": null,
   "metadata": {},
   "outputs": [],
   "source": [
    "lags[m]"
   ]
  },
  {
   "cell_type": "code",
   "execution_count": null,
   "metadata": {},
   "outputs": [],
   "source": [
    "sr = 44100\n",
    "f = 200.0\n",
    "Ps = sr / f\n",
    "Ps # period in number of samples"
   ]
  },
  {
   "cell_type": "code",
   "execution_count": null,
   "metadata": {},
   "outputs": [],
   "source": [
    "lags[m] / Ps"
   ]
  },
  {
   "cell_type": "code",
   "execution_count": null,
   "metadata": {},
   "outputs": [],
   "source": [
    "(lags[m] / Ps) * 2 * pi"
   ]
  },
  {
   "cell_type": "markdown",
   "metadata": {},
   "source": [
    "The result is approximate"
   ]
  },
  {
   "cell_type": "markdown",
   "metadata": {},
   "source": [
    "# Autocorrelation"
   ]
  },
  {
   "cell_type": "code",
   "execution_count": null,
   "metadata": {},
   "outputs": [],
   "source": [
    "lags, c, line, b = acorr(noiseA + signalA, maxlags=500)\n",
    "#xlim((-10, 60))\n",
    "pass"
   ]
  },
  {
   "cell_type": "markdown",
   "metadata": {},
   "source": [
    "Note: this (above) is a stem plot it looks like."
   ]
  },
  {
   "cell_type": "code",
   "execution_count": null,
   "metadata": {},
   "outputs": [],
   "source": [
    "plot(c[501:])\n",
    "vlines(220.5, -0.15, 0.15)\n",
    "pass"
   ]
  },
  {
   "cell_type": "markdown",
   "metadata": {},
   "source": [
    "### Find Inter-aural time delay (or stereo relationships) using running cross-correlation"
   ]
  },
  {
   "cell_type": "code",
   "execution_count": null,
   "metadata": {},
   "outputs": [],
   "source": [
    "from scipy.io import wavfile\n",
    "from IPython.display import Audio"
   ]
  },
  {
   "cell_type": "code",
   "execution_count": null,
   "metadata": {},
   "outputs": [],
   "source": [
    "sampleRate, signal = wavfile.read('media/cars.wav')"
   ]
  },
  {
   "cell_type": "code",
   "execution_count": null,
   "metadata": {},
   "outputs": [],
   "source": [
    "shape(signal)"
   ]
  },
  {
   "cell_type": "code",
   "execution_count": null,
   "metadata": {},
   "outputs": [],
   "source": [
    "Audio(data=signal.flat[0::2], rate=sampleRate)"
   ]
  },
  {
   "cell_type": "code",
   "execution_count": null,
   "metadata": {},
   "outputs": [],
   "source": [
    "signal.dtype"
   ]
  },
  {
   "cell_type": "code",
   "execution_count": null,
   "metadata": {},
   "outputs": [],
   "source": [
    "shape(signal)"
   ]
  },
  {
   "cell_type": "code",
   "execution_count": null,
   "metadata": {},
   "outputs": [],
   "source": [
    "type(signal)"
   ]
  },
  {
   "cell_type": "code",
   "execution_count": null,
   "metadata": {},
   "outputs": [],
   "source": [
    "cc_lags = int(ceil(0.001 * sampleRate)) # 1 ms max lag\n",
    "print(cc_lags)"
   ]
  },
  {
   "cell_type": "code",
   "execution_count": null,
   "metadata": {},
   "outputs": [],
   "source": [
    "1024/44100"
   ]
  },
  {
   "cell_type": "code",
   "execution_count": null,
   "metadata": {},
   "outputs": [],
   "source": [
    "\n",
    "win_size = 1024\n",
    "hop = 256\n",
    "\n",
    "lags = arange(-cc_lags, cc_lags + 1)\n",
    "\n",
    "rccf = []\n",
    "for start in arange(0, signal.shape[0] - win_size, hop):\n",
    "    win = signal[start:start + win_size].astype(float)\n",
    "    c = correlate(win[:,0], win[:,1], mode='full')\n",
    "    c /= sqrt(dot(win[:,0], win[:,0]) * np.dot(win[:,1], win[:,1])) # normalize\n",
    "    c = c[len(win[:,0]) - 1 - cc_lags:len(win[:,0]) + cc_lags] # filter\n",
    "    rccf.append(c)"
   ]
  },
  {
   "cell_type": "code",
   "execution_count": null,
   "metadata": {},
   "outputs": [],
   "source": [
    "imshow(array(rccf).T, aspect='auto')\n",
    "pass"
   ]
  },
  {
   "cell_type": "code",
   "execution_count": null,
   "metadata": {},
   "outputs": [],
   "source": [
    "shape(signal)[0] / 256"
   ]
  },
  {
   "cell_type": "code",
   "execution_count": null,
   "metadata": {},
   "outputs": [],
   "source": [
    "plot(signal)\n",
    "pass"
   ]
  },
  {
   "cell_type": "markdown",
   "metadata": {},
   "source": [
    "#### CC for tempo and rhythm estimation:"
   ]
  },
  {
   "cell_type": "code",
   "execution_count": null,
   "metadata": {},
   "outputs": [],
   "source": [
    "sampleRate, signal = wavfile.read('media/superstition.wav')\n",
    "shape(signal)\n",
    "shape(signal.flat[0::2])"
   ]
  },
  {
   "cell_type": "code",
   "execution_count": null,
   "metadata": {},
   "outputs": [],
   "source": [
    "Audio(data = signal.flat[0::2], rate = sampleRate)"
   ]
  },
  {
   "cell_type": "code",
   "execution_count": null,
   "metadata": {},
   "outputs": [],
   "source": [
    "plot(signal.flat[0::2]) # what are we looking at here?\n",
    "pass"
   ]
  },
  {
   "cell_type": "code",
   "execution_count": null,
   "metadata": {},
   "outputs": [],
   "source": [
    "signal.shape"
   ]
  },
  {
   "cell_type": "code",
   "execution_count": null,
   "metadata": {},
   "outputs": [],
   "source": [
    "lags, c, line, b = acorr(signal[0:150000,0].astype(double), maxlags=60000)\n",
    "pass"
   ]
  },
  {
   "cell_type": "code",
   "execution_count": null,
   "metadata": {},
   "outputs": [],
   "source": [
    "lags, c, line, b = acorr(signal[90000:300000,0].astype(double), maxlags=60000)\n",
    "pass"
   ]
  },
  {
   "cell_type": "markdown",
   "metadata": {},
   "source": [
    "What question is the plot above answering?"
   ]
  },
  {
   "cell_type": "code",
   "execution_count": null,
   "metadata": {},
   "outputs": [],
   "source": [
    "2 * 60 / ((-lags[argmax(c[:12000])]) / 44100)"
   ]
  },
  {
   "cell_type": "code",
   "execution_count": null,
   "metadata": {},
   "outputs": [],
   "source": [
    "lags, c, line, b = acorr(signal[90000:300000,0].astype(double), maxlags=60000)\n",
    "xlim((-10, 60000))\n",
    "pass"
   ]
  },
  {
   "cell_type": "markdown",
   "metadata": {},
   "source": [
    "## Two-dimensional cross-correlation\n",
    "\n",
    "We can find a given pattern in a larger image..."
   ]
  },
  {
   "cell_type": "markdown",
   "metadata": {},
   "source": [
    "<!--\n",
    "![sidereusnuncius_crawford_dbyn2008.jpg](media/sidereusnuncius_crawford_dbyn2008.jpg)\n",
    "\n",
    "-->\n",
    "![](media/galileo.png)"
   ]
  },
  {
   "cell_type": "code",
   "execution_count": null,
   "metadata": {},
   "outputs": [],
   "source": [
    "i = imread('media/galileo.png')\n",
    "imshow(i)\n",
    "shape(i)"
   ]
  },
  {
   "cell_type": "code",
   "execution_count": null,
   "metadata": {},
   "outputs": [],
   "source": [
    "i.shape"
   ]
  },
  {
   "cell_type": "code",
   "execution_count": null,
   "metadata": {},
   "outputs": [],
   "source": [
    "i.dtype"
   ]
  },
  {
   "cell_type": "code",
   "execution_count": null,
   "metadata": {},
   "outputs": [],
   "source": [
    "i = sum(i[:,:,:-1], axis=2)/3.0\n",
    "imshow(i)\n",
    "colorbar()\n",
    "shape(i)"
   ]
  },
  {
   "cell_type": "code",
   "execution_count": null,
   "metadata": {},
   "outputs": [],
   "source": [
    "imshow(i, cmap=cm.gray)\n",
    "colorbar()\n",
    "pass"
   ]
  },
  {
   "cell_type": "code",
   "execution_count": null,
   "metadata": {},
   "outputs": [],
   "source": [
    "i = where(i > 0.9, 0, 1)\n",
    "imshow(i, cmap='gray')\n",
    "colorbar()"
   ]
  },
  {
   "cell_type": "code",
   "execution_count": null,
   "metadata": {},
   "outputs": [],
   "source": [
    "o = imread('media/o.png')\n",
    "imshow(o)\n",
    "colorbar()\n",
    "pass"
   ]
  },
  {
   "cell_type": "code",
   "execution_count": null,
   "metadata": {},
   "outputs": [],
   "source": [
    "shape(o)"
   ]
  },
  {
   "cell_type": "code",
   "execution_count": null,
   "metadata": {},
   "outputs": [],
   "source": [
    "o.dtype"
   ]
  },
  {
   "cell_type": "code",
   "execution_count": null,
   "metadata": {},
   "outputs": [],
   "source": [
    "o.astype(float).sum(axis=-1) / 4"
   ]
  },
  {
   "cell_type": "code",
   "execution_count": null,
   "metadata": {},
   "outputs": [],
   "source": [
    "o = o.astype(float).sum(axis=-1) / 4\n",
    "o = where(o > 0.9, 0, 1)\n",
    "imshow(o, cmap=cm.gray, interpolation='nearest')\n",
    "shape(o)"
   ]
  },
  {
   "cell_type": "code",
   "execution_count": null,
   "metadata": {},
   "outputs": [],
   "source": [
    "from scipy.signal import correlate2d\n",
    "cc = correlate2d(i, o)\n",
    "imshow(cc)\n",
    "colorbar()\n",
    "gcf().set_figheight(8)"
   ]
  },
  {
   "cell_type": "code",
   "execution_count": null,
   "metadata": {},
   "outputs": [],
   "source": [
    "imshow(cc, cmap=cm.gray)\n",
    "colorbar()\n",
    "gcf().set_figheight(8)"
   ]
  },
  {
   "cell_type": "code",
   "execution_count": null,
   "metadata": {},
   "outputs": [],
   "source": [
    "imshow(where(cc > 200, 1, 0), interpolation='nearest', cmap=cm.gray)\n",
    "colorbar()\n",
    "gcf().set_figheight(8)"
   ]
  },
  {
   "cell_type": "code",
   "execution_count": null,
   "metadata": {},
   "outputs": [],
   "source": [
    "imshow(where(cc > 300, 1, 0), interpolation='nearest', cmap=cm.gray)\n",
    "colorbar()\n",
    "gcf().set_figheight(8)"
   ]
  },
  {
   "cell_type": "code",
   "execution_count": null,
   "metadata": {},
   "outputs": [],
   "source": [
    "from scipy.ndimage.filters import maximum_filter\n",
    "\n",
    "imshow(maximum_filter(cc, (10,10)))\n",
    "gcf().set_figheight(8)"
   ]
  },
  {
   "cell_type": "code",
   "execution_count": null,
   "metadata": {},
   "outputs": [],
   "source": [
    "subplot(121)\n",
    "imshow(maximum_filter(cc, (50,50)))\n",
    "subplot(122)\n",
    "imshow(i, cmap=cm.gray)\n",
    "gcf().set_figheight(8)"
   ]
  },
  {
   "cell_type": "code",
   "execution_count": null,
   "metadata": {},
   "outputs": [],
   "source": [
    "mf = maximum_filter(cc, (50,50))"
   ]
  },
  {
   "cell_type": "code",
   "execution_count": null,
   "metadata": {},
   "outputs": [],
   "source": [
    "argmax(mf)"
   ]
  },
  {
   "cell_type": "code",
   "execution_count": null,
   "metadata": {},
   "outputs": [],
   "source": [
    "unravel_index(argmax(mf), mf.shape)"
   ]
  },
  {
   "cell_type": "code",
   "execution_count": null,
   "metadata": {},
   "outputs": [],
   "source": [
    "argmax(cc)"
   ]
  },
  {
   "cell_type": "code",
   "execution_count": null,
   "metadata": {},
   "outputs": [],
   "source": [
    "unravel_index(argmax(cc), cc.shape)"
   ]
  },
  {
   "cell_type": "markdown",
   "metadata": {},
   "source": [
    "By: Andrés Cabrera mantaraya36@gmail.com\n",
    "For MAT course MAT 201A at UCSB\n",
    "\n",
    "Adapted by Karl Yerkes\n",
    "\n",
    "This ipython notebook is licensed under the CC-BY-NC-SA license: http://creativecommons.org/licenses/by-nc-sa/4.0/\n",
    "\n",
    "![http://i.creativecommons.org/l/by-nc-sa/3.0/88x31.png](http://i.creativecommons.org/l/by-nc-sa/3.0/88x31.png)"
   ]
  }
 ],
 "metadata": {
  "kernelspec": {
   "display_name": "Python 3",
   "language": "python",
   "name": "python3"
  },
  "language_info": {
   "codemirror_mode": {
    "name": "ipython",
    "version": 3
   },
   "file_extension": ".py",
   "mimetype": "text/x-python",
   "name": "python",
   "nbconvert_exporter": "python",
   "pygments_lexer": "ipython3",
   "version": "3.6.1"
  }
 },
 "nbformat": 4,
 "nbformat_minor": 1
}
