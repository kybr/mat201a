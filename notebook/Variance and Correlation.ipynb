{
 "cells": [
  {
   "cell_type": "code",
   "execution_count": null,
   "metadata": {},
   "outputs": [],
   "source": [
    "%pylab inline\n",
    "rcParams['figure.figsize'] = (10, 4) #wide graphs by default\n",
    "from __future__ import print_function\n",
    "from __future__ import division\n",
    "from IPython.display import display, HTML, Audio"
   ]
  },
  {
   "cell_type": "markdown",
   "metadata": {},
   "source": [
    "# Variance and correlation"
   ]
  },
  {
   "cell_type": "markdown",
   "metadata": {},
   "source": [
    "![http://imgs.xkcd.com/comics/random_number.png](http://imgs.xkcd.com/comics/random_number.png)"
   ]
  },
  {
   "cell_type": "markdown",
   "metadata": {},
   "source": [
    "![http://imgs.xkcd.com/comics/sports.png](http://imgs.xkcd.com/comics/sports.png)"
   ]
  },
  {
   "cell_type": "markdown",
   "metadata": {},
   "source": [
    "![http://imgs.xkcd.com/comics/cell_phones.png](http://imgs.xkcd.com/comics/cell_phones.png)"
   ]
  },
  {
   "cell_type": "markdown",
   "metadata": {},
   "source": [
    "[http://xkcd.com/882/](http://xkcd.com/882/)"
   ]
  },
  {
   "cell_type": "markdown",
   "metadata": {},
   "source": [
    "## Variance and covariance"
   ]
  },
  {
   "cell_type": "markdown",
   "metadata": {},
   "source": [
    "$$\\operatorname{Var}(X) =\\sigma^2 =\\int (x-\\mu)^2  f(x)  dx =\\int x^2  f(x)  dx - \\mu^2$$\n",
    "\n",
    "$$\\operatorname{Var}(X) = \\sum_{i=1}^n p_i\\cdot(x_i - \\mu)^2 = \\sum_{i=1}^n (p_i\\cdot x_i^2) - \\mu^2$$\n",
    "\n",
    "http://en.wikipedia.org/wiki/Variance\n",
    "\n",
    "For equally likely values:\n",
    "\n",
    "$$\\operatorname{Var}(X) = \\frac{1}{n} \\sum_{i=1}^n (x_i - \\mu)^2$$\n",
    "\n",
    "\n",
    "$\\mu$ is mean.\n",
    "\n",
    "(Also see [Mean squared error](https://en.wikipedia.org/wiki/Mean_squared_error) and [Least squares](https://en.wikipedia.org/wiki/Least_squares))\n",
    "\n",
    "$p_i$ is $f(x)$ so $x$ turns into $i$"
   ]
  },
  {
   "cell_type": "code",
   "execution_count": null,
   "metadata": {},
   "outputs": [],
   "source": [
    "samps = normal(scale=2.0, size= 10000)\n",
    "samps.var()\n",
    "## variance... assumes gausian dist.."
   ]
  },
  {
   "cell_type": "code",
   "execution_count": null,
   "metadata": {},
   "outputs": [],
   "source": [
    "samps.std(), samps.std()**2"
   ]
  },
  {
   "cell_type": "code",
   "execution_count": null,
   "metadata": {},
   "outputs": [],
   "source": [
    "a = rand(100)\n",
    "b = rand(100)\n",
    "cov(a, b)\n",
    "# mat out is....\n",
    "# aa ab\n",
    "# ba bb"
   ]
  },
  {
   "cell_type": "code",
   "execution_count": null,
   "metadata": {},
   "outputs": [],
   "source": [
    "a = rand(100) * 100\n",
    "b = rand(100) * 100\n",
    "cov(a, b)"
   ]
  },
  {
   "cell_type": "code",
   "execution_count": null,
   "metadata": {},
   "outputs": [],
   "source": [
    "a = rand(100000) * 100\n",
    "b = rand(100000) * 100\n",
    "cov(a, b)"
   ]
  },
  {
   "cell_type": "code",
   "execution_count": null,
   "metadata": {},
   "outputs": [],
   "source": [
    "# var(a) ==> aa\n",
    "var(a), var(b)"
   ]
  },
  {
   "cell_type": "code",
   "execution_count": null,
   "metadata": {},
   "outputs": [],
   "source": [
    "a = rand(100)\n",
    "b = rand(100)\n",
    "d = sin(linspace(0, 2 * pi * 7, 100))\n",
    "plot(a + d)\n",
    "plot(b + d)\n",
    "pass"
   ]
  },
  {
   "cell_type": "code",
   "execution_count": null,
   "metadata": {},
   "outputs": [],
   "source": [
    "cov(a + d, b + d)"
   ]
  },
  {
   "cell_type": "code",
   "execution_count": null,
   "metadata": {},
   "outputs": [],
   "source": [
    "\n",
    "a = rand(100)\n",
    "b = rand(100)\n",
    "c = rand(100)\n",
    "cov(a + (2 * c), b + (2 * c)) # the c in both should lead to some correlation (relationship)\n",
    "\n",
    "# the thing to look for is that the var(x) is more similar to the cov(x, y)"
   ]
  },
  {
   "cell_type": "code",
   "execution_count": null,
   "metadata": {},
   "outputs": [],
   "source": [
    "a = rand(100000)\n",
    "b = rand(100000)\n",
    "c = rand(100000)\n",
    "cov(a + (2 * c), b + (2 * c))\n",
    "# XXX order does not matter... not time-domain dependent"
   ]
  },
  {
   "cell_type": "code",
   "execution_count": null,
   "metadata": {},
   "outputs": [],
   "source": [
    "plot(a + d + 2)\n",
    "plot(-2 * (b + d))\n",
    "cov(a + d + 2, -2 * (b + d))"
   ]
  },
  {
   "cell_type": "code",
   "execution_count": null,
   "metadata": {},
   "outputs": [],
   "source": [
    "plot(a + (d * 3))\n",
    "plot(-(b + (d * 3)))\n",
    "pass"
   ]
  },
  {
   "cell_type": "code",
   "execution_count": null,
   "metadata": {},
   "outputs": [],
   "source": [
    "cov(a + (d * 3), -(b + (d * 3)))"
   ]
  },
  {
   "cell_type": "markdown",
   "metadata": {},
   "source": [
    "## Correlation and autocorrelation"
   ]
  },
  {
   "cell_type": "markdown",
   "metadata": {},
   "source": [
    "$$(f \\star g)(\\tau)\\ \\stackrel{\\mathrm{def}}{=} \\int_{-\\infty}^{\\infty} f^*(t)\\ g(t+\\tau)\\,dt$$\n",
    "\n",
    "$$ (f \\star g)(n) = \\frac{1}{N} \\sum_{i=1}^N f(i) . g(i + n)$$\n"
   ]
  },
  {
   "cell_type": "markdown",
   "metadata": {},
   "source": [
    "[cross correlation](https://en.wikipedia.org/wiki/Cross-correlation)\n",
    "[autocorrelation](https://en.wikipedia.org/wiki/Autocorrelation)\n",
    "\n",
    "time matters in the domain..."
   ]
  },
  {
   "cell_type": "code",
   "execution_count": null,
   "metadata": {},
   "outputs": [],
   "source": [
    "sig1 = sin(linspace(0, 100 * 2 * pi, 44100))\n",
    "sig2 = sin(linspace(0.1, 0.1 + (100 * 2 * pi), 44100))\n",
    "plot(sig1)\n",
    "plot(sig2)\n",
    "xlim((0, 1000))"
   ]
  },
  {
   "cell_type": "code",
   "execution_count": null,
   "metadata": {},
   "outputs": [],
   "source": [
    "lags, c, lines, line = xcorr(sig1, sig2, maxlags=500, usevlines=False)\n",
    "grid()"
   ]
  },
  {
   "cell_type": "code",
   "execution_count": null,
   "metadata": {},
   "outputs": [],
   "source": [
    "lags, c, lines, line = xcorr(sig1, sig2, maxlags=50, usevlines=False)\n",
    "grid()"
   ]
  },
  {
   "cell_type": "code",
   "execution_count": null,
   "metadata": {},
   "outputs": [],
   "source": [
    "len(c)"
   ]
  },
  {
   "cell_type": "code",
   "execution_count": null,
   "metadata": {},
   "outputs": [],
   "source": [
    "plot(c)\n",
    "pass"
   ]
  },
  {
   "cell_type": "code",
   "execution_count": null,
   "metadata": {},
   "outputs": [],
   "source": [
    "argmax(c)"
   ]
  },
  {
   "cell_type": "code",
   "execution_count": null,
   "metadata": {},
   "outputs": [],
   "source": [
    "cc_index = lags[argmax(c)]\n",
    "print(cc_index)"
   ]
  },
  {
   "cell_type": "code",
   "execution_count": null,
   "metadata": {},
   "outputs": [],
   "source": [
    "plot(lags, c)\n",
    "vlines(cc_index, 0.5, 1.09, color='r', lw=2)\n",
    "text(cc_index + 1, 1.05, 'CC peak', color='r')\n",
    "grid()"
   ]
  },
  {
   "cell_type": "code",
   "execution_count": null,
   "metadata": {},
   "outputs": [],
   "source": [
    "sr = 44100\n",
    "f = 100.0\n",
    "Ps = sr / f\n",
    "Ps # period in number of samples"
   ]
  },
  {
   "cell_type": "code",
   "execution_count": null,
   "metadata": {},
   "outputs": [],
   "source": [
    "cc_index"
   ]
  },
  {
   "cell_type": "markdown",
   "metadata": {},
   "source": [
    "CC can be used to determine pitch and periodicity."
   ]
  },
  {
   "cell_type": "code",
   "execution_count": null,
   "metadata": {},
   "outputs": [],
   "source": [
    "cc_index / Ps"
   ]
  },
  {
   "cell_type": "code",
   "execution_count": null,
   "metadata": {},
   "outputs": [],
   "source": [
    "2 * pi * cc_index / Ps"
   ]
  },
  {
   "cell_type": "code",
   "execution_count": null,
   "metadata": {},
   "outputs": [],
   "source": [
    "2 * pi * (cc_index + 1) / Ps"
   ]
  },
  {
   "cell_type": "markdown",
   "metadata": {},
   "source": [
    "Two different noise samples produce low values of cross-correlation:"
   ]
  },
  {
   "cell_type": "code",
   "execution_count": null,
   "metadata": {},
   "outputs": [],
   "source": [
    "noise1 = random.random(44100) - 0.5\n",
    "noise2 = random.random(44100) - 0.5"
   ]
  },
  {
   "cell_type": "code",
   "execution_count": null,
   "metadata": {},
   "outputs": [],
   "source": [
    "lags, c, lines, line = xcorr(noise1, noise2, maxlags=500, usevlines=False);\n",
    "grid()"
   ]
  },
  {
   "cell_type": "markdown",
   "metadata": {},
   "source": [
    "And no clear patterns in the CC function:"
   ]
  },
  {
   "cell_type": "code",
   "execution_count": null,
   "metadata": {},
   "outputs": [],
   "source": [
    "noise1 = normal(size=44100)\n",
    "noise2 = normal(size=44100)"
   ]
  },
  {
   "cell_type": "code",
   "execution_count": null,
   "metadata": {},
   "outputs": [],
   "source": [
    "lags, c, lines, line = xcorr(noise1, noise2, maxlags=500, usevlines=False);\n",
    "grid()"
   ]
  },
  {
   "cell_type": "markdown",
   "metadata": {},
   "source": [
    "Cross-correlation can find harder to see relationships:"
   ]
  },
  {
   "cell_type": "code",
   "execution_count": null,
   "metadata": {},
   "outputs": [],
   "source": [
    "a = (rand(44100) * 2) - 1\n",
    "plot(a)\n",
    "pass"
   ]
  },
  {
   "cell_type": "code",
   "execution_count": null,
   "metadata": {},
   "outputs": [],
   "source": [
    "b = sin(linspace(0, 2 * pi * 200, 44100)) * 0.3\n",
    "plot(a + b)\n",
    "pass"
   ]
  },
  {
   "cell_type": "code",
   "execution_count": null,
   "metadata": {},
   "outputs": [],
   "source": [
    "c = (rand(44100) * 2) - 1\n",
    "d = sin(linspace(0.7, 0.7 + (2 * pi * 200), 44100)) * 0.3\n",
    "plot(c + d)\n",
    "pass"
   ]
  },
  {
   "cell_type": "code",
   "execution_count": null,
   "metadata": {},
   "outputs": [],
   "source": [
    "plot(c + d)\n",
    "xlim(0, 1000)"
   ]
  },
  {
   "cell_type": "code",
   "execution_count": null,
   "metadata": {},
   "outputs": [],
   "source": [
    "lags, c, lines, line = xcorr(a + b, c + d, maxlags=500)\n",
    "pass"
   ]
  },
  {
   "cell_type": "code",
   "execution_count": null,
   "metadata": {},
   "outputs": [],
   "source": [
    "m = argmax(c[500:600]) + 500"
   ]
  },
  {
   "cell_type": "code",
   "execution_count": null,
   "metadata": {},
   "outputs": [],
   "source": [
    "lags[m]"
   ]
  },
  {
   "cell_type": "code",
   "execution_count": null,
   "metadata": {},
   "outputs": [],
   "source": [
    "sr = 44100\n",
    "f = 200.0\n",
    "Ps = sr / f\n",
    "Ps # period in number of samples"
   ]
  },
  {
   "cell_type": "code",
   "execution_count": null,
   "metadata": {},
   "outputs": [],
   "source": [
    "lags[m] / Ps"
   ]
  },
  {
   "cell_type": "code",
   "execution_count": null,
   "metadata": {},
   "outputs": [],
   "source": [
    "(lags[m] / Ps) * 2 * pi"
   ]
  },
  {
   "cell_type": "markdown",
   "metadata": {},
   "source": [
    "# Autocorrelation"
   ]
  },
  {
   "cell_type": "code",
   "execution_count": null,
   "metadata": {},
   "outputs": [],
   "source": [
    "lags, c, lines, line = acorr(a + b, maxlags=500);"
   ]
  },
  {
   "cell_type": "code",
   "execution_count": null,
   "metadata": {},
   "outputs": [],
   "source": [
    "plot(c[501:])\n",
    "vlines(220.5, -0.15, 0.15)"
   ]
  },
  {
   "cell_type": "markdown",
   "metadata": {},
   "source": [
    "CC for Inter-aural time delay (or stereo relationships) using running cross-correlation"
   ]
  },
  {
   "cell_type": "code",
   "execution_count": null,
   "metadata": {},
   "outputs": [],
   "source": [
    "%pylab inline"
   ]
  },
  {
   "cell_type": "code",
   "execution_count": null,
   "metadata": {},
   "outputs": [],
   "source": [
    "from scipy.io import wavfile"
   ]
  },
  {
   "cell_type": "code",
   "execution_count": null,
   "metadata": {},
   "outputs": [],
   "source": [
    "sr, in_sig = wavfile.read('media/cars.wav')"
   ]
  },
  {
   "cell_type": "code",
   "execution_count": null,
   "metadata": {},
   "outputs": [],
   "source": [
    "in_sig = in_sig[:318000, :]"
   ]
  },
  {
   "cell_type": "code",
   "execution_count": null,
   "metadata": {},
   "outputs": [],
   "source": [
    "win_size = 1024\n",
    "hop = 256\n",
    "\n",
    "cc_lags = 0.001 * sr # 1 ms max lag\n",
    "print(cc_lags)\n",
    "\n",
    "\n",
    "rccf = []\n",
    "win_start = arange(0, in_sig.shape[0] - win_size, hop)\n",
    "for start in win_start:\n",
    "    win = in_sig[start: start + win_size].astype(float)\n",
    "    lags, c, lines, line = xcorr(win[:,0], win[:,1], maxlags = 44) # int(cc_lags))\n",
    "    rccf.append(c)\n"
   ]
  },
  {
   "cell_type": "code",
   "execution_count": null,
   "metadata": {},
   "outputs": [],
   "source": [
    "imshow(array(rccf).T, aspect='auto')"
   ]
  },
  {
   "cell_type": "code",
   "execution_count": null,
   "metadata": {},
   "outputs": [],
   "source": [
    "plot(in_sig)"
   ]
  },
  {
   "cell_type": "markdown",
   "metadata": {},
   "source": [
    "CC for tempo and rhythm estimation:"
   ]
  },
  {
   "cell_type": "code",
   "execution_count": null,
   "metadata": {},
   "outputs": [],
   "source": [
    "sr, in_sig = wavfile.read('media/superstition.wav')\n",
    "shape(in_sig)\n",
    "shape(in_sig.flat[0::2])"
   ]
  },
  {
   "cell_type": "code",
   "execution_count": null,
   "metadata": {},
   "outputs": [],
   "source": [
    "Audio(data = in_sig.flat[0::2], rate = sr)"
   ]
  },
  {
   "cell_type": "code",
   "execution_count": null,
   "metadata": {},
   "outputs": [],
   "source": [
    "plot(in_sig.flat[0::2])"
   ]
  },
  {
   "cell_type": "code",
   "execution_count": null,
   "metadata": {},
   "outputs": [],
   "source": [
    "in_sig.shape"
   ]
  },
  {
   "cell_type": "code",
   "execution_count": null,
   "metadata": {},
   "outputs": [],
   "source": [
    "lags,c, lines, line = acorr(in_sig[:100000,0].astype(double), maxlags= 50000);"
   ]
  },
  {
   "cell_type": "markdown",
   "metadata": {},
   "source": [
    "## Two-dimensional cross-correlation"
   ]
  },
  {
   "cell_type": "markdown",
   "metadata": {},
   "source": [
    "![sidereusnuncius_crawford_dbyn2008.jpg](media/sidereusnuncius_crawford_dbyn2008.jpg)"
   ]
  },
  {
   "cell_type": "code",
   "execution_count": null,
   "metadata": {},
   "outputs": [],
   "source": [
    "i = imread('media/galileo.png')\n",
    "imshow(i)\n",
    "shape(i)"
   ]
  },
  {
   "cell_type": "code",
   "execution_count": null,
   "metadata": {},
   "outputs": [],
   "source": [
    "plot(i[:,:,3].T);"
   ]
  },
  {
   "cell_type": "code",
   "execution_count": null,
   "metadata": {},
   "outputs": [],
   "source": [
    "i.shape"
   ]
  },
  {
   "cell_type": "code",
   "execution_count": null,
   "metadata": {},
   "outputs": [],
   "source": [
    "i.dtype"
   ]
  },
  {
   "cell_type": "code",
   "execution_count": null,
   "metadata": {},
   "outputs": [],
   "source": [
    "i = sum(i[:,:,:-1], axis=2)/3.0\n",
    "imshow(i)\n",
    "colorbar()"
   ]
  },
  {
   "cell_type": "code",
   "execution_count": null,
   "metadata": {},
   "outputs": [],
   "source": [
    "i.shape"
   ]
  },
  {
   "cell_type": "code",
   "execution_count": null,
   "metadata": {},
   "outputs": [],
   "source": [
    "imshow(i)\n",
    "colorbar()"
   ]
  },
  {
   "cell_type": "code",
   "execution_count": null,
   "metadata": {},
   "outputs": [],
   "source": [
    "imshow(i, cmap=cm.gray)\n",
    "colorbar()"
   ]
  },
  {
   "cell_type": "code",
   "execution_count": null,
   "metadata": {},
   "outputs": [],
   "source": [
    "i = where(i > 0.9, 0, 1)\n",
    "imshow(i, cmap='gray')\n",
    "colorbar()"
   ]
  },
  {
   "cell_type": "code",
   "execution_count": null,
   "metadata": {},
   "outputs": [],
   "source": [
    "o = imread('media/o.png')\n",
    "imshow(o)\n",
    "colorbar()"
   ]
  },
  {
   "cell_type": "code",
   "execution_count": null,
   "metadata": {},
   "outputs": [],
   "source": [
    "o = o.astype(float).sum(axis=-1)/3\n",
    "o = where(o > 0.9, 0, 1)\n",
    "imshow(o, cmap=cm.gray, interpolation='nearest')"
   ]
  },
  {
   "cell_type": "code",
   "execution_count": null,
   "metadata": {},
   "outputs": [],
   "source": [
    "from scipy.signal import correlate2d\n",
    "cc = correlate2d(i, o)\n",
    "imshow(cc)\n",
    "colorbar()\n",
    "gcf().set_figheight(8)"
   ]
  },
  {
   "cell_type": "code",
   "execution_count": null,
   "metadata": {},
   "outputs": [],
   "source": [
    "imshow(cc, cmap=cm.gray)\n",
    "colorbar()\n",
    "gcf().set_figheight(8)"
   ]
  },
  {
   "cell_type": "code",
   "execution_count": null,
   "metadata": {},
   "outputs": [],
   "source": [
    "imshow(where(cc > 200, 1, 0), interpolation='nearest', cmap=cm.gray)\n",
    "colorbar()\n",
    "gcf().set_figheight(8)"
   ]
  },
  {
   "cell_type": "code",
   "execution_count": null,
   "metadata": {},
   "outputs": [],
   "source": [
    "imshow(where(cc > 300, 1, 0), interpolation='nearest', cmap=cm.gray)\n",
    "colorbar()\n",
    "gcf().set_figheight(8)"
   ]
  },
  {
   "cell_type": "code",
   "execution_count": null,
   "metadata": {},
   "outputs": [],
   "source": [
    "from scipy.ndimage.filters import maximum_filter\n",
    "\n",
    "imshow(maximum_filter(cc, (10,10)))\n",
    "gcf().set_figheight(8)"
   ]
  },
  {
   "cell_type": "code",
   "execution_count": null,
   "metadata": {},
   "outputs": [],
   "source": [
    "subplot(121)\n",
    "imshow(maximum_filter(cc, (50,50)))\n",
    "subplot(122)\n",
    "imshow(i, cmap=cm.gray)\n",
    "gcf().set_figheight(8)"
   ]
  },
  {
   "cell_type": "code",
   "execution_count": null,
   "metadata": {},
   "outputs": [],
   "source": [
    "mf = maximum_filter(cc, (50,50))"
   ]
  },
  {
   "cell_type": "code",
   "execution_count": null,
   "metadata": {},
   "outputs": [],
   "source": [
    "argmax(mf)"
   ]
  },
  {
   "cell_type": "code",
   "execution_count": null,
   "metadata": {},
   "outputs": [],
   "source": [
    "unravel_index(argmax(mf), mf.shape)"
   ]
  },
  {
   "cell_type": "code",
   "execution_count": null,
   "metadata": {},
   "outputs": [],
   "source": [
    "argmax(cc)"
   ]
  },
  {
   "cell_type": "code",
   "execution_count": null,
   "metadata": {},
   "outputs": [],
   "source": [
    "unravel_index(argmax(cc), cc.shape)"
   ]
  },
  {
   "cell_type": "markdown",
   "metadata": {},
   "source": [
    "By: Andrés Cabrera mantaraya36@gmail.com\n",
    "For MAT course MAT 201A at UCSB\n",
    "\n",
    "This ipython notebook is licensed under the CC-BY-NC-SA license: http://creativecommons.org/licenses/by-nc-sa/4.0/\n",
    "\n",
    "![http://i.creativecommons.org/l/by-nc-sa/3.0/88x31.png](http://i.creativecommons.org/l/by-nc-sa/3.0/88x31.png)"
   ]
  }
 ],
 "metadata": {
  "kernelspec": {
   "display_name": "Python 3",
   "language": "python",
   "name": "python3"
  },
  "language_info": {
   "codemirror_mode": {
    "name": "ipython",
    "version": 3
   },
   "file_extension": ".py",
   "mimetype": "text/x-python",
   "name": "python",
   "nbconvert_exporter": "python",
   "pygments_lexer": "ipython3",
   "version": "3.6.1"
  }
 },
 "nbformat": 4,
 "nbformat_minor": 1
}
