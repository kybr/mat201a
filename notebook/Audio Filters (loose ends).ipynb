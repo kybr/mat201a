{
 "cells": [
  {
   "cell_type": "markdown",
   "metadata": {},
   "source": [
    "## Issues to settle\n",
    "- Someone mentioned \"feed-forward\". What is that?\n",
    "  + [Feed-Forward (control)][]\n",
    "  + [Feed-Forward Filters](http://webhome.cs.uvic.ca/~gtzan/elec484/Summer2007/feedforward_filters.pdf)\n",
    "  + [Feed-Forward Comb Filters](https://ccrma.stanford.edu/~jos/pasp/Feedforward_Comb_Filters.html) and [this](https://www.dsprelated.com/freebooks/pasp/Feedforward_Comb_Filters.html)\n",
    "  + $b_i$ are feedforward terms and $a_i$ are feedback terms.\n",
    "- What is IIR versus FIR?\n",
    "  + [FIR filters](http://www.eas.uccs.edu/~mwickert/ece2610/lecture_notes/ece2610_chap5.pdf) only have $b_i$ terms.\n",
    "  + [IIR filters](https://learn.mikroe.com/ebooks/digitalfilterdesign/chapter/introduction-iir-filter) have [feedback](https://en.wikipedia.org/wiki/Feedback) in the form of $y$ terms which means $a_i$ terms (aka poles).\n",
    "- What is with $a_0$ in digital filters?\n",
    "  + $a_0y(n) = b_0x(n) + \\dots + b_{nb}x(n-nb) - a_1y(n-1) - \\dots - a_{na}y(n-na)$ so...\n",
    "  + $y(n) = \\frac{b_0x(n) + \\dots + b_{nb}x(n-nb) - a_1y(n-1) - \\dots - a_{na}y(n-na)}{a_0}$ so...\n",
    "  + $a_0$ is just a scale factor.\n",
    "\n",
    "[Feed-Forward (control)]: https://en.wikipedia.org/wiki/Feed_forward_(control)\n",
    "\n",
    "## pylab functions you should know\n",
    "- freqz\n",
    "- lfilter\n",
    "- specgram\n",
    "- r\\_\n",
    "- semilogy, semilogx\n",
    "- cheby1, cheby2\n",
    "- iirdesign\n",
    "- firwin2\n",
    "- remez"
   ]
  },
  {
   "cell_type": "code",
   "execution_count": null,
   "metadata": {},
   "outputs": [],
   "source": []
  }
 ],
 "metadata": {
  "kernelspec": {
   "display_name": "Python 3",
   "language": "python",
   "name": "python3"
  },
  "language_info": {
   "codemirror_mode": {
    "name": "ipython",
    "version": 3
   },
   "file_extension": ".py",
   "mimetype": "text/x-python",
   "name": "python",
   "nbconvert_exporter": "python",
   "pygments_lexer": "ipython3",
   "version": "3.6.1"
  }
 },
 "nbformat": 4,
 "nbformat_minor": 2
}
