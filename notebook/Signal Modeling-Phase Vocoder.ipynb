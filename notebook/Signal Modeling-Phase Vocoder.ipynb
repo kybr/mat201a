{
 "metadata": {
  "name": ""
 },
 "nbformat": 3,
 "nbformat_minor": 0,
 "worksheets": [
  {
   "cells": [
    {
     "cell_type": "code",
     "collapsed": false,
     "input": [
      "%pylab inline"
     ],
     "language": "python",
     "metadata": {},
     "outputs": [],
     "prompt_number": null
    },
    {
     "cell_type": "code",
     "collapsed": false,
     "input": [
      "phs = linspace(0, 20* 2*pi, 1024, endpoint=False)\n",
      "g = cos(phs + 0.4)\n",
      "plot(g)"
     ],
     "language": "python",
     "metadata": {},
     "outputs": [],
     "prompt_number": null
    },
    {
     "cell_type": "code",
     "collapsed": false,
     "input": [
      "from scipy.signal import freqz"
     ],
     "language": "python",
     "metadata": {},
     "outputs": [],
     "prompt_number": null
    },
    {
     "cell_type": "code",
     "collapsed": false,
     "input": [
      "plot(abs(fft.rfft(g[:512], n=512)))\n",
      "xlim(0, 400);"
     ],
     "language": "python",
     "metadata": {},
     "outputs": [],
     "prompt_number": null
    },
    {
     "cell_type": "code",
     "collapsed": false,
     "input": [
      "plot(abs(fft.rfft(g[512:1024], n=512)))\n",
      "xlim(0, 400);"
     ],
     "language": "python",
     "metadata": {},
     "outputs": [],
     "prompt_number": null
    },
    {
     "cell_type": "markdown",
     "metadata": {},
     "source": [
      "Starting phase for first window:"
     ]
    },
    {
     "cell_type": "code",
     "collapsed": false,
     "input": [
      "angle(fft.rfft(g[:512])[10])"
     ],
     "language": "python",
     "metadata": {},
     "outputs": [],
     "prompt_number": null
    },
    {
     "cell_type": "markdown",
     "metadata": {},
     "source": [
      "Starting phase for second window: (no phase change!)"
     ]
    },
    {
     "cell_type": "code",
     "collapsed": false,
     "input": [
      "angle(fft.rfft(g[512:1024])[10])"
     ],
     "language": "python",
     "metadata": {},
     "outputs": [],
     "prompt_number": null
    },
    {
     "cell_type": "markdown",
     "metadata": {},
     "source": [
      "Phase at the end of the window:"
     ]
    },
    {
     "cell_type": "code",
     "collapsed": false,
     "input": [
      "0.4 + (10 * 2 * pi)"
     ],
     "language": "python",
     "metadata": {},
     "outputs": [],
     "prompt_number": null
    },
    {
     "cell_type": "markdown",
     "metadata": {},
     "source": [
      "If we wrap the phase:"
     ]
    },
    {
     "cell_type": "code",
     "collapsed": false,
     "input": [
      "(0.4 + (10 * 2 * pi)) %(2* pi)"
     ],
     "language": "python",
     "metadata": {},
     "outputs": [],
     "prompt_number": null
    },
    {
     "cell_type": "markdown",
     "metadata": {},
     "source": [
      "However for a frequency that has a fractional cycle the ending window phase is:"
     ]
    },
    {
     "cell_type": "code",
     "collapsed": false,
     "input": [
      "(10.1 * 2 * pi)"
     ],
     "language": "python",
     "metadata": {},
     "outputs": [],
     "prompt_number": null
    },
    {
     "cell_type": "markdown",
     "metadata": {},
     "source": [
      "And wrapped:"
     ]
    },
    {
     "cell_type": "code",
     "collapsed": false,
     "input": [
      "(10.1 * 2 * pi)%(2* pi)"
     ],
     "language": "python",
     "metadata": {},
     "outputs": [],
     "prompt_number": null
    },
    {
     "cell_type": "markdown",
     "metadata": {},
     "source": [
      "Let's see a concrete example:"
     ]
    },
    {
     "cell_type": "code",
     "collapsed": false,
     "input": [
      "phs = linspace(0, 23.4* 2*pi, 1024, endpoint=False)\n",
      "g = cos(phs)\n",
      "plot(g)"
     ],
     "language": "python",
     "metadata": {},
     "outputs": [],
     "prompt_number": null
    },
    {
     "cell_type": "code",
     "collapsed": false,
     "input": [
      "plot(abs(fft.rfft(g[:512], n=512)))\n",
      "xlim(0, 50);"
     ],
     "language": "python",
     "metadata": {},
     "outputs": [],
     "prompt_number": null
    },
    {
     "cell_type": "code",
     "collapsed": false,
     "input": [
      "X = abs(fft.rfft(g[:512], n=512))\n",
      "argmax(X)"
     ],
     "language": "python",
     "metadata": {},
     "outputs": [],
     "prompt_number": null
    },
    {
     "cell_type": "markdown",
     "metadata": {},
     "source": [
      "The precise center is at 23.4 / 2.\n",
      "\n",
      "Because the number of cycles is not an integer, the starting phase for the second window is different:"
     ]
    },
    {
     "cell_type": "code",
     "collapsed": false,
     "input": [
      "plot(g[:512])\n",
      "plot(g[512:1024])"
     ],
     "language": "python",
     "metadata": {},
     "outputs": [],
     "prompt_number": null
    },
    {
     "cell_type": "markdown",
     "metadata": {},
     "source": [
      "Starting phase first window:"
     ]
    },
    {
     "cell_type": "code",
     "collapsed": false,
     "input": [
      "angle(fft.rfft(g[:512]))[12]"
     ],
     "language": "python",
     "metadata": {},
     "outputs": [],
     "prompt_number": null
    },
    {
     "cell_type": "markdown",
     "metadata": {},
     "source": [
      "Starting phase second window:"
     ]
    },
    {
     "cell_type": "code",
     "collapsed": false,
     "input": [
      "angle(fft.rfft(g[512:1024]))[12]"
     ],
     "language": "python",
     "metadata": {},
     "outputs": [],
     "prompt_number": null
    },
    {
     "cell_type": "markdown",
     "metadata": {},
     "source": [
      "Phase difference:"
     ]
    },
    {
     "cell_type": "code",
     "collapsed": false,
     "input": [
      "angle(fft.rfft(g[512:1024]))[12] - angle(fft.rfft(g[:512]))[12]"
     ],
     "language": "python",
     "metadata": {},
     "outputs": [],
     "prompt_number": null
    },
    {
     "cell_type": "markdown",
     "metadata": {},
     "source": [
      "The total elapsed phase for the bin should be:"
     ]
    },
    {
     "cell_type": "code",
     "collapsed": false,
     "input": [
      "12 * 2 * pi"
     ],
     "language": "python",
     "metadata": {},
     "outputs": [],
     "prompt_number": null
    },
    {
     "cell_type": "markdown",
     "metadata": {},
     "source": [
      "But what actually elapsed (adding the phase difference measured) was:"
     ]
    },
    {
     "cell_type": "code",
     "collapsed": false,
     "input": [
      "12 * 2 * pi + __"
     ],
     "language": "python",
     "metadata": {},
     "outputs": [],
     "prompt_number": null
    },
    {
     "cell_type": "markdown",
     "metadata": {},
     "source": [
      "Which if we count cycles in that phase accumulation we get:"
     ]
    },
    {
     "cell_type": "code",
     "collapsed": false,
     "input": [
      "_ / (2 * pi)"
     ],
     "language": "python",
     "metadata": {},
     "outputs": [],
     "prompt_number": null
    },
    {
     "cell_type": "markdown",
     "metadata": {},
     "source": [
      "Must multiply by two because we split the signal into two windows and get the frequency we put in (to the presicion allowed by the sampling rate):"
     ]
    },
    {
     "cell_type": "code",
     "collapsed": false,
     "input": [
      "_ * 2"
     ],
     "language": "python",
     "metadata": {},
     "outputs": [],
     "prompt_number": null
    },
    {
     "cell_type": "markdown",
     "metadata": {},
     "source": [
      "#Phase Vocoder"
     ]
    },
    {
     "cell_type": "markdown",
     "metadata": {},
     "source": [
      "Two sine tones ( Second one 4 times the frequency and half the amplitude)"
     ]
    },
    {
     "cell_type": "code",
     "collapsed": false,
     "input": [
      "f0 = 203.3\n",
      "p0 = 0.3\n",
      "N = 4096\n",
      "\n",
      "test_phs = linspace(0, (f0 * 2*pi), N, endpoint=False)\n",
      "test_sig = sin(test_phs + p0) + 0.5 * cos(p0 + (test_phs * 4))"
     ],
     "language": "python",
     "metadata": {},
     "outputs": [],
     "prompt_number": null
    },
    {
     "cell_type": "code",
     "collapsed": false,
     "input": [
      "X = rfft(test_sig[:512])\n",
      "plot(abs(X))\n",
      "# xlim(0,1000);"
     ],
     "language": "python",
     "metadata": {},
     "outputs": [],
     "prompt_number": null
    },
    {
     "cell_type": "code",
     "collapsed": false,
     "input": [
      "X = rfft(test_sig[:512])\n",
      "plot(abs(X))\n",
      "xlim(10, 40);"
     ],
     "language": "python",
     "metadata": {},
     "outputs": [],
     "prompt_number": null
    },
    {
     "cell_type": "code",
     "collapsed": false,
     "input": [
      "argmax(abs(X))"
     ],
     "language": "python",
     "metadata": {},
     "outputs": [],
     "prompt_number": null
    },
    {
     "cell_type": "code",
     "collapsed": false,
     "input": [
      "(argmax(abs(X)) + 1)"
     ],
     "language": "python",
     "metadata": {},
     "outputs": [],
     "prompt_number": null
    },
    {
     "cell_type": "markdown",
     "metadata": {},
     "source": [
      "The frequency we are looking for is in between. Let's do STFT with overlap:"
     ]
    },
    {
     "cell_type": "code",
     "collapsed": false,
     "input": [
      "hopsize = 128\n",
      "winsize = 512\n",
      "win_start = linspace(0, len(test_sig) - winsize, hopsize)\n",
      "\n",
      "stft = []\n",
      "\n",
      "for start in win_start:\n",
      "    X = rfft(test_sig[start: start + winsize]* hanning(winsize))\n",
      "    stft.append(X)"
     ],
     "language": "python",
     "metadata": {},
     "outputs": [],
     "prompt_number": null
    },
    {
     "cell_type": "code",
     "collapsed": false,
     "input": [
      "argmax(abs(stft[1]))"
     ],
     "language": "python",
     "metadata": {},
     "outputs": [],
     "prompt_number": null
    },
    {
     "cell_type": "code",
     "collapsed": false,
     "input": [
      "plot(abs(stft[1]))\n",
      "plot(abs(stft[5]))\n",
      "plot(abs(stft[9]))\n",
      "xlim(10, 40)"
     ],
     "language": "python",
     "metadata": {},
     "outputs": [],
     "prompt_number": null
    },
    {
     "cell_type": "code",
     "collapsed": false,
     "input": [
      "imshow(angle(stft).T, aspect='auto', cmap=cm.gray, interpolation='nearest')\n",
      "gcf().set_figwidth(10)\n",
      "colorbar();"
     ],
     "language": "python",
     "metadata": {},
     "outputs": [],
     "prompt_number": null
    },
    {
     "cell_type": "code",
     "collapsed": false,
     "input": [
      "plot(angle(stft).T[24])"
     ],
     "language": "python",
     "metadata": {},
     "outputs": [],
     "prompt_number": null
    },
    {
     "cell_type": "code",
     "collapsed": false,
     "input": [
      "plot(angle(stft).T[25])"
     ],
     "language": "python",
     "metadata": {},
     "outputs": [],
     "prompt_number": null
    },
    {
     "cell_type": "markdown",
     "metadata": {},
     "source": [
      "Let's look at the unwrapped phase:"
     ]
    },
    {
     "cell_type": "code",
     "collapsed": false,
     "input": [
      "unwrapped = [angle(stft).T[25][0]]\n",
      "\n",
      "for p in angle(stft).T[25][1:]:\n",
      "    while (p < unwrapped[-1]):\n",
      "        p += 2 * pi\n",
      "    unwrapped.append(p)\n",
      "\n",
      "plot(unwrapped, 'x')"
     ],
     "language": "python",
     "metadata": {},
     "outputs": [],
     "prompt_number": null
    },
    {
     "cell_type": "markdown",
     "metadata": {},
     "source": [
      "A line! The frequency is constant across all the bins!"
     ]
    },
    {
     "cell_type": "code",
     "collapsed": false,
     "input": [
      "delta_phs = diff(unwrapped)"
     ],
     "language": "python",
     "metadata": {},
     "outputs": [],
     "prompt_number": null
    },
    {
     "cell_type": "code",
     "collapsed": false,
     "input": [
      "plot(delta_phs)"
     ],
     "language": "python",
     "metadata": {},
     "outputs": [],
     "prompt_number": null
    },
    {
     "cell_type": "markdown",
     "metadata": {},
     "source": [
      "Now accumulate phase for the hop period:"
     ]
    },
    {
     "cell_type": "code",
     "collapsed": false,
     "input": [
      "k = 25 # bin number\n",
      "num_cycles = k * (hopsize/ float(winsize)) # how many cycles of bin between STFT hops\n",
      "\n",
      "total_phs_k = num_cycles * 2* pi # Total accumulated phase for bin\n",
      "num_cycles, total_phs_k"
     ],
     "language": "python",
     "metadata": {},
     "outputs": [],
     "prompt_number": null
    },
    {
     "cell_type": "markdown",
     "metadata": {},
     "source": [
      "Adjusted phase:"
     ]
    },
    {
     "cell_type": "code",
     "collapsed": false,
     "input": [
      "phs_change = delta_phs[0]\n",
      "phs_change"
     ],
     "language": "python",
     "metadata": {},
     "outputs": [],
     "prompt_number": null
    },
    {
     "cell_type": "markdown",
     "metadata": {},
     "source": [
      "Expected change:"
     ]
    },
    {
     "cell_type": "code",
     "collapsed": false,
     "input": [
      "total_phs_k % (2 * pi)"
     ],
     "language": "python",
     "metadata": {},
     "outputs": [],
     "prompt_number": null
    },
    {
     "cell_type": "markdown",
     "metadata": {},
     "source": [
      "Phase divergence:"
     ]
    },
    {
     "cell_type": "code",
     "collapsed": false,
     "input": [
      "div = phs_change - total_phs_k % (2 * pi)\n",
      "div"
     ],
     "language": "python",
     "metadata": {},
     "outputs": [],
     "prompt_number": null
    },
    {
     "cell_type": "code",
     "collapsed": false,
     "input": [
      "final_phs = total_phs_k + div\n",
      "final_phs"
     ],
     "language": "python",
     "metadata": {},
     "outputs": [],
     "prompt_number": null
    },
    {
     "cell_type": "markdown",
     "metadata": {},
     "source": [
      "Estimate number of cycles in hop period from total accumulated phase:"
     ]
    },
    {
     "cell_type": "code",
     "collapsed": false,
     "input": [
      "final_phs/(2*pi)"
     ],
     "language": "python",
     "metadata": {},
     "outputs": [],
     "prompt_number": null
    },
    {
     "cell_type": "markdown",
     "metadata": {},
     "source": [
      "Multiply by overlap:"
     ]
    },
    {
     "cell_type": "code",
     "collapsed": false,
     "input": [
      "(winsize/float(hopsize)) *final_phs/(2*pi)"
     ],
     "language": "python",
     "metadata": {},
     "outputs": [],
     "prompt_number": null
    },
    {
     "cell_type": "markdown",
     "metadata": {},
     "source": [
      "Now times the number of windows to match the original full length:"
     ]
    },
    {
     "cell_type": "code",
     "collapsed": false,
     "input": [
      "(N/float(winsize))*(winsize/hopsize) *final_phs/(2*pi)"
     ],
     "language": "python",
     "metadata": {},
     "outputs": [],
     "prompt_number": null
    },
    {
     "cell_type": "markdown",
     "metadata": {},
     "source": [
      "Yay! (or not...!) \n",
      "\n",
      "Original frequency was 203.3, but this still got us much closer to the original frequency than what the FFT bins provide:"
     ]
    },
    {
     "cell_type": "code",
     "collapsed": false,
     "input": [
      "(N/float(winsize))*25"
     ],
     "language": "python",
     "metadata": {},
     "outputs": [],
     "prompt_number": null
    },
    {
     "cell_type": "code",
     "collapsed": false,
     "input": [
      "(N/float(winsize))*26"
     ],
     "language": "python",
     "metadata": {},
     "outputs": [],
     "prompt_number": null
    },
    {
     "cell_type": "markdown",
     "metadata": {},
     "source": [
      "By: Andr\u00e9s Cabrera mantaraya36@gmail.com\n",
      "For MAT course MAT 201A at UCSB\n",
      "\n",
      "This ipython notebook is licensed under the CC-BY-NC-SA license: http://creativecommons.org/licenses/by-nc-sa/4.0/\n",
      "\n",
      "![http://i.creativecommons.org/l/by-nc-sa/3.0/88x31.png](http://i.creativecommons.org/l/by-nc-sa/3.0/88x31.png)"
     ]
    }
   ],
   "metadata": {}
  }
 ]
}
