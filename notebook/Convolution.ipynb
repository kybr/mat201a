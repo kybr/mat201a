{
 "metadata": {
  "name": ""
 },
 "nbformat": 3,
 "nbformat_minor": 0,
 "worksheets": [
  {
   "cells": [
    {
     "cell_type": "code",
     "collapsed": false,
     "input": [
      "%pylab inline\n",
      "rcParams['figure.figsize'] = (10, 4) #wide graphs by default\n",
      "from __future__ import print_function\n",
      "from __future__ import division"
     ],
     "language": "python",
     "metadata": {},
     "outputs": [],
     "prompt_number": null
    },
    {
     "cell_type": "markdown",
     "metadata": {},
     "source": [
      "Convolution:\n",
      "\n",
      "$$(f * g )(\\tau) \\stackrel{\\mathrm{def}}{=}\\ \\int_{-\\infty}^\\infty f(t)\\, g(\\tau - t)\\, d\\tau$$\n",
      "\n",
      "Doesn't this look a lot like cross-correlation?\n",
      "\n",
      "$$(f \\star g)(t)\\ \\stackrel{\\mathrm{def}}{=} \\int_{-\\infty}^{\\infty} f^*(\\tau)\\ g(t+\\tau)\\,d\\tau$$\n",
      "\n",
      "Discrete Convolution:\n",
      "\n",
      "$$(f * g)[n]\\ \\stackrel{\\mathrm{def}}{=}\\ \\sum_{m=-\\infty}^\\infty f[m]\\, g[n - m]$$\n",
      "\n",
      "Circular discrete convolution:\n",
      "\n",
      "$$(f * g_N)[n] = \\sum_{m=0}^{N-1} f[m]\\ g_N[n-m]$$\n",
      "\n",
      "https://en.wikipedia.org/wiki/Convolution"
     ]
    },
    {
     "cell_type": "markdown",
     "metadata": {},
     "source": [
      "![http://upload.wikimedia.org/wikipedia/commons/6/6a/Convolution_of_box_signal_with_itself2.gif](http://upload.wikimedia.org/wikipedia/commons/6/6a/Convolution_of_box_signal_with_itself2.gif)\n",
      "\n",
      "![http://upload.wikimedia.org/wikipedia/commons/b/b9/Convolution_of_spiky_function_with_box2.gif](http://upload.wikimedia.org/wikipedia/commons/b/b9/Convolution_of_spiky_function_with_box2.gif)\n"
     ]
    },
    {
     "cell_type": "markdown",
     "metadata": {},
     "source": [
      "Discrete Convolution can be understood as placing a copy of the Impulse Response (one of the source signals) at every sample of the other, scaled by it. IOW treat each sample as an impulse that \"activates\" the response."
     ]
    },
    {
     "cell_type": "code",
     "collapsed": false,
     "input": [
      "impulse = r_[1,zeros(15)]\n",
      "stem(arange(16),impulse)\n",
      "xlim((-0.5, 16))\n",
      "ylim((-1.1, 1.1))"
     ],
     "language": "python",
     "metadata": {},
     "outputs": [],
     "prompt_number": null
    },
    {
     "cell_type": "markdown",
     "metadata": {},
     "source": [
      "Now make an impulse response:"
     ]
    },
    {
     "cell_type": "code",
     "collapsed": false,
     "input": [
      "ir = 2*(random.random(3) -0.5)\n",
      "\n",
      "stem(arange(3),ir)\n",
      "\n",
      "xlim((-0.5, 2.5))\n",
      "ylim((-1.1, 1.1))"
     ],
     "language": "python",
     "metadata": {},
     "outputs": [],
     "prompt_number": null
    },
    {
     "cell_type": "markdown",
     "metadata": {},
     "source": [
      "Convolving an impulse with the response:"
     ]
    },
    {
     "cell_type": "code",
     "collapsed": false,
     "input": [
      "stem(arange(18),convolve(impulse, ir))\n",
      "xlim(-1,18)"
     ],
     "language": "python",
     "metadata": {},
     "outputs": [],
     "prompt_number": null
    },
    {
     "cell_type": "markdown",
     "metadata": {},
     "source": [
      "When we convolve an impulse, the response is copied at the time and amplitude of it:"
     ]
    },
    {
     "cell_type": "code",
     "collapsed": false,
     "input": [
      "impulse2 = r_[zeros(5), -1, zeros(10)]\n",
      "stem(arange(16),impulse2)\n",
      "xlim((-0.5, 16))\n",
      "ylim((-1.1, 1.1))"
     ],
     "language": "python",
     "metadata": {},
     "outputs": [],
     "prompt_number": null
    },
    {
     "cell_type": "code",
     "collapsed": false,
     "input": [
      "stem(arange(18),convolve(impulse2, ir));"
     ],
     "language": "python",
     "metadata": {},
     "outputs": [],
     "prompt_number": null
    },
    {
     "cell_type": "markdown",
     "metadata": {},
     "source": [
      "Because the process is linear and the superposition principle applies (we can superimpose the result instead of superimposing the input with the same result):"
     ]
    },
    {
     "cell_type": "code",
     "collapsed": false,
     "input": [
      "subplot(121)\n",
      "added_after = convolve(impulse, ir) + convolve(impulse2, ir)\n",
      "stem(arange(18),added_after)\n",
      "\n",
      "added_before = convolve(impulse + impulse2, ir)\n",
      "subplot(122)\n",
      "stem(arange(18),added_before);"
     ],
     "language": "python",
     "metadata": {},
     "outputs": [],
     "prompt_number": null
    },
    {
     "cell_type": "code",
     "collapsed": false,
     "input": [
      "f = [1,2,3,0,0,0]\n",
      "g = [-0.5, 0.5, 0.1]\n",
      "\n",
      "subplot(121)\n",
      "stem(arange(6),f)\n",
      "xlim((-0.5, 4.5))\n",
      "subplot(122)\n",
      "stem(arange(3),g)\n",
      "xlim((-0.5, 4.5))"
     ],
     "language": "python",
     "metadata": {},
     "outputs": [],
     "prompt_number": null
    },
    {
     "cell_type": "code",
     "collapsed": false,
     "input": [
      "markerline, stemlines, baseline  = stem(arange(5),convolve(array([1,0,0]),g))\n",
      "\n",
      "markerline, stemlines, baseline  = stem(arange(5),convolve(array([0,2,0]),g), 'g', 'og')\n",
      "\n",
      "markerline, stemlines, baseline  = stem(arange(5),convolve(array([0,0 ,3]),g), 'r', 'or')\n",
      "markerline.set_color('r')\n",
      "grid()\n",
      "\n",
      "xlim((-0.5, 4.5))\n",
      "ylim((-2, 2))"
     ],
     "language": "python",
     "metadata": {},
     "outputs": [],
     "prompt_number": null
    },
    {
     "cell_type": "markdown",
     "metadata": {},
     "source": [
      "Now doing it manually without the convolution function:"
     ]
    },
    {
     "cell_type": "code",
     "collapsed": false,
     "input": [
      "f = array([0.3, 0.2, -0.5, 0, -0.1, 0.1, 0.25 ])\n",
      "stem(f)"
     ],
     "language": "python",
     "metadata": {},
     "outputs": [],
     "prompt_number": null
    },
    {
     "cell_type": "code",
     "collapsed": false,
     "input": [
      "g = array([0.1, 0.2, -0.1])\n",
      "stem(g)"
     ],
     "language": "python",
     "metadata": {},
     "outputs": [],
     "prompt_number": null
    },
    {
     "cell_type": "code",
     "collapsed": false,
     "input": [
      "fg0 = f[0] * g\n",
      "subplot(211)\n",
      "stem(fg0)\n",
      "subplot(212)\n",
      "stem(g)"
     ],
     "language": "python",
     "metadata": {},
     "outputs": [],
     "prompt_number": null
    },
    {
     "cell_type": "code",
     "collapsed": false,
     "input": [
      "fg1 = f[1] * g\n",
      "stem(fg1)"
     ],
     "language": "python",
     "metadata": {},
     "outputs": [],
     "prompt_number": null
    },
    {
     "cell_type": "markdown",
     "metadata": {},
     "source": [
      "But we need to shift it in time to place it at the position of f[1]"
     ]
    },
    {
     "cell_type": "code",
     "collapsed": false,
     "input": [
      "fg1 = r_[0, fg1]\n",
      "stem(fg1)"
     ],
     "language": "python",
     "metadata": {},
     "outputs": [],
     "prompt_number": null
    },
    {
     "cell_type": "code",
     "collapsed": false,
     "input": [
      "fg2 = f[2] * g\n",
      "fg2 = r_[0, 0, fg2]\n",
      "stem(fg2)"
     ],
     "language": "python",
     "metadata": {},
     "outputs": [],
     "prompt_number": null
    },
    {
     "cell_type": "markdown",
     "metadata": {},
     "source": [
      "Now we need to add them"
     ]
    },
    {
     "cell_type": "code",
     "collapsed": false,
     "input": [
      "def hide_axes(ax):\n",
      "    ax.spines[\"top\"].set_visible(False)  \n",
      "    ax.spines[\"right\"].set_visible(False) \n",
      "    ax.spines[\"bottom\"].set_visible(False) \n",
      "    ax.spines[\"left\"].set_visible(False)\n",
      "    tick_params(axis=\"both\", which=\"both\", bottom=\"off\", top=\"off\",  \n",
      "                labelbottom=\"off\", left=\"off\", right=\"off\", labelleft=\"on\")\n",
      "    "
     ],
     "language": "python",
     "metadata": {},
     "outputs": [],
     "prompt_number": null
    },
    {
     "cell_type": "code",
     "collapsed": false,
     "input": [
      "\n",
      "subplot(511)\n",
      "stem(fg0)\n",
      "xlim(0,6)\n",
      "ylim(-0.1, 0.1)\n",
      "hide_axes(gca())\n",
      "\n",
      "subplot(512)\n",
      "stem(fg1)\n",
      "xlim(0,6)\n",
      "ylim(-0.1, 0.1)\n",
      "hide_axes(gca())\n",
      "\n",
      "\n",
      "subplot(513)\n",
      "stem(fg2)\n",
      "xlim(0,6)\n",
      "ylim(-0.1, 0.1)\n",
      "hide_axes(gca())\n",
      "\n",
      "\n",
      "subplot(514)\n",
      "stem(f)\n",
      "\n",
      "xlim(0,6)\n",
      "\n",
      "\n",
      "subplot(515)\n",
      "stem(g[::-1])\n",
      "\n",
      "xlim(0,6)\n",
      "\n",
      "\n",
      "gcf().set_figheight(8)"
     ],
     "language": "python",
     "metadata": {},
     "outputs": [],
     "prompt_number": null
    },
    {
     "cell_type": "code",
     "collapsed": false,
     "input": [
      "def apply_ir(f , n, g):\n",
      "    fg = f[n] * g\n",
      "    fg = r_[zeros(n), fg, zeros(len(g) + len(f) - len(fg) - n - 1 )]\n",
      "    return fg"
     ],
     "language": "python",
     "metadata": {},
     "outputs": [],
     "prompt_number": null
    },
    {
     "cell_type": "code",
     "collapsed": false,
     "input": [
      "fg = apply_ir(f, 6, g)\n",
      "stem(fg)"
     ],
     "language": "python",
     "metadata": {},
     "outputs": [],
     "prompt_number": null
    },
    {
     "cell_type": "code",
     "collapsed": false,
     "input": [
      "convolved = zeros(9)\n",
      "for i in range(len(f)):\n",
      "    convolved += apply_ir(f, i, g)"
     ],
     "language": "python",
     "metadata": {},
     "outputs": [],
     "prompt_number": null
    },
    {
     "cell_type": "code",
     "collapsed": false,
     "input": [
      "stem(convolved)"
     ],
     "language": "python",
     "metadata": {},
     "outputs": [],
     "prompt_number": null
    },
    {
     "cell_type": "code",
     "collapsed": false,
     "input": [
      "stem(convolve(f,g))"
     ],
     "language": "python",
     "metadata": {},
     "outputs": [],
     "prompt_number": null
    },
    {
     "cell_type": "markdown",
     "metadata": {},
     "source": [
      "Same result!"
     ]
    },
    {
     "cell_type": "heading",
     "level": 3,
     "metadata": {},
     "source": [
      "Filtering and Convolution"
     ]
    },
    {
     "cell_type": "markdown",
     "metadata": {},
     "source": [
      "Convolution can be used the mechanism to realize FIR filters."
     ]
    },
    {
     "cell_type": "code",
     "collapsed": false,
     "input": [
      "f = random.random(4096) - 0.5\n",
      "specgram(f);"
     ],
     "language": "python",
     "metadata": {},
     "outputs": [],
     "prompt_number": null
    },
    {
     "cell_type": "code",
     "collapsed": false,
     "input": [
      "g = ones(30)/30.0"
     ],
     "language": "python",
     "metadata": {},
     "outputs": [],
     "prompt_number": null
    },
    {
     "cell_type": "code",
     "collapsed": false,
     "input": [
      "plot(f)\n",
      "figure()\n",
      "stem(g)"
     ],
     "language": "python",
     "metadata": {},
     "outputs": [],
     "prompt_number": null
    },
    {
     "cell_type": "code",
     "collapsed": false,
     "input": [
      "fg = convolve(f, g)"
     ],
     "language": "python",
     "metadata": {},
     "outputs": [],
     "prompt_number": null
    },
    {
     "cell_type": "code",
     "collapsed": false,
     "input": [
      "Pxx, freqs, bins, im = specgram(fg);"
     ],
     "language": "python",
     "metadata": {},
     "outputs": [],
     "prompt_number": null
    },
    {
     "cell_type": "code",
     "collapsed": false,
     "input": [
      "plot(Pxx[:, 10])"
     ],
     "language": "python",
     "metadata": {},
     "outputs": [],
     "prompt_number": null
    },
    {
     "cell_type": "code",
     "collapsed": false,
     "input": [
      "from scipy.signal import freqz\n",
      "w, h = freqz(g)\n",
      "plot(w, abs(h))\n",
      "twinx()\n",
      "plot(w, angle(h), 'r')"
     ],
     "language": "python",
     "metadata": {},
     "outputs": [],
     "prompt_number": null
    },
    {
     "cell_type": "markdown",
     "metadata": {},
     "source": [
      "Convolution in the time domain is multiplication in the frequency domain!"
     ]
    },
    {
     "cell_type": "code",
     "collapsed": false,
     "input": [
      "plot(abs(fft.rfft(g)), 'o-')"
     ],
     "language": "python",
     "metadata": {},
     "outputs": [],
     "prompt_number": null
    },
    {
     "cell_type": "code",
     "collapsed": false,
     "input": [
      "plot(abs(fft.rfft(g, n=512)))\n",
      "twinx()\n",
      "plot(angle(fft.rfft(g, n=512)), 'r')"
     ],
     "language": "python",
     "metadata": {},
     "outputs": [],
     "prompt_number": null
    },
    {
     "cell_type": "code",
     "collapsed": false,
     "input": [
      "window = f[:256]\n",
      "plot(abs(rfft(window)))"
     ],
     "language": "python",
     "metadata": {},
     "outputs": [],
     "prompt_number": null
    },
    {
     "cell_type": "code",
     "collapsed": false,
     "input": [
      "plot(abs(rfft(window)*rfft(g, n=256)))"
     ],
     "language": "python",
     "metadata": {},
     "outputs": [],
     "prompt_number": null
    },
    {
     "cell_type": "markdown",
     "metadata": {},
     "source": [
      "Convolution can be used for filtering but also with long IRs for reverb."
     ]
    },
    {
     "cell_type": "markdown",
     "metadata": {},
     "source": [
      "By: Andr\u00e9s Cabrera mantaraya36@gmail.com\n",
      "For MAT course MAT 201A at UCSB\n",
      "\n",
      "This ipython notebook is licensed under the CC-BY-NC-SA license: http://creativecommons.org/licenses/by-nc-sa/4.0/\n",
      "\n",
      "![http://i.creativecommons.org/l/by-nc-sa/3.0/88x31.png](http://i.creativecommons.org/l/by-nc-sa/3.0/88x31.png)"
     ]
    }
   ],
   "metadata": {}
  }
 ]
}
