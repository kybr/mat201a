{
 "cells": [
  {
   "cell_type": "code",
   "execution_count": null,
   "metadata": {},
   "outputs": [],
   "source": [
    "%pylab inline\n",
    "rcParams['figure.figsize'] = (10, 4) #wide graphs by default\n",
    "from __future__ import print_function\n",
    "from __future__ import division\n",
    "from IPython.display import Audio"
   ]
  },
  {
   "cell_type": "markdown",
   "metadata": {},
   "source": [
    "Convolution:\n",
    "\n",
    "$$(f * g )(\\tau) \\stackrel{\\mathrm{def}}{=}\\ \\int_{-\\infty}^\\infty f(t)\\, g(\\tau - t)\\, d\\tau$$\n",
    "\n",
    "Doesn't this look a lot like cross-correlation?\n",
    "\n",
    "$$(f \\star g)(t)\\ \\stackrel{\\mathrm{def}}{=} \\int_{-\\infty}^{\\infty} f^*(\\tau)\\ g(t+\\tau)\\,d\\tau$$\n",
    "\n",
    "Discrete Convolution:\n",
    "\n",
    "$$(f * g)[n]\\ \\stackrel{\\mathrm{def}}{=}\\ \\sum_{m=-\\infty}^\\infty f[m]\\, g[n - m]$$\n",
    "\n",
    "Circular discrete convolution:\n",
    "\n",
    "$$(f * g_N)[n] = \\sum_{m=0}^{N-1} f[m]\\ g_N[n-m]$$\n",
    "\n",
    "https://en.wikipedia.org/wiki/Convolution"
   ]
  },
  {
   "cell_type": "markdown",
   "metadata": {},
   "source": [
    "![http://upload.wikimedia.org/wikipedia/commons/6/6a/Convolution_of_box_signal_with_itself2.gif](http://upload.wikimedia.org/wikipedia/commons/6/6a/Convolution_of_box_signal_with_itself2.gif)\n",
    "\n",
    "![http://upload.wikimedia.org/wikipedia/commons/b/b9/Convolution_of_spiky_function_with_box2.gif](http://upload.wikimedia.org/wikipedia/commons/b/b9/Convolution_of_spiky_function_with_box2.gif)\n"
   ]
  },
  {
   "cell_type": "markdown",
   "metadata": {},
   "source": [
    "Discrete Convolution can be understood as placing a scaled copy of the [Impulse Response](https://en.wikipedia.org/wiki/Impulse_response) (usually the shorter of the source signals) at every sample of the other. In other words, we treat each sample in the input signal as an impulse that \"activates\" the response.\n",
    "\n",
    "### Impulse Response\n",
    "> In signal processing, the impulse response, or impulse response function (IRF), of a dynamic system is its output when presented with a brief input signal, called an impulse. More generally, an impulse response is the reaction of any dynamic system in response to some external change. In both cases, the impulse response describes the reaction of the system as a function of time\n",
    "\n",
    "(Check out the [impulse response database](http://www.openairlib.net/auralizationdb))"
   ]
  },
  {
   "cell_type": "code",
   "execution_count": null,
   "metadata": {},
   "outputs": [],
   "source": [
    "impulse = r_[1, zeros(15)]\n",
    "stem(impulse)\n",
    "ylim((-1.1, 1.1))\n",
    "pass"
   ]
  },
  {
   "cell_type": "markdown",
   "metadata": {},
   "source": [
    "Now make an impulse response:"
   ]
  },
  {
   "cell_type": "code",
   "execution_count": null,
   "metadata": {},
   "outputs": [],
   "source": [
    "impulseResponse = [0.5, -1, 0, 0, 0.2, 0]\n",
    "stem(impulseResponse)\n",
    "ylim((-1.1, 1.1))\n",
    "pass"
   ]
  },
  {
   "cell_type": "markdown",
   "metadata": {},
   "source": [
    "Convolving an impulse with the response:"
   ]
  },
  {
   "cell_type": "code",
   "execution_count": null,
   "metadata": {},
   "outputs": [],
   "source": [
    "stem(convolve(impulse, impulseResponse))\n",
    "ylim((-1.1, 1.1))\n",
    "pass"
   ]
  },
  {
   "cell_type": "markdown",
   "metadata": {},
   "source": [
    "When we convolve an impulse signal with some \"impulse response\", we can see that it's like placing a scaled copy of the impulse response at the position of the impulse."
   ]
  },
  {
   "cell_type": "code",
   "execution_count": null,
   "metadata": {},
   "outputs": [],
   "source": [
    "impulse2 = r_[zeros(5), -0.5, zeros(10)]\n",
    "stem(impulse2)\n",
    "ylim((-1.1, 1.1))\n",
    "pass"
   ]
  },
  {
   "cell_type": "code",
   "execution_count": null,
   "metadata": {},
   "outputs": [],
   "source": [
    "stem(convolve(impulse2, impulseResponse))\n",
    "ylim((-1.1, 1.1))\n",
    "pass"
   ]
  },
  {
   "cell_type": "markdown",
   "metadata": {},
   "source": [
    "Because the process is [linear](https://en.wikipedia.org/wiki/Linear_system) and the [superposition principle](https://en.wikipedia.org/wiki/Superposition_principle\n",
    ") applies (we can superimpose the result instead of superimposing the input with the same result):"
   ]
  },
  {
   "cell_type": "code",
   "execution_count": null,
   "metadata": {},
   "outputs": [],
   "source": [
    "subplot(121)\n",
    "added_after = convolve(impulse, impulseResponse) + convolve(impulse2, impulseResponse)\n",
    "stem(added_after)\n",
    "\n",
    "added_before = convolve(impulse + impulse2, impulseResponse)\n",
    "subplot(122)\n",
    "stem(added_before)\n",
    "\n",
    "pass"
   ]
  },
  {
   "cell_type": "markdown",
   "metadata": {},
   "source": [
    "Convolve these two signals manually (by hand):"
   ]
  },
  {
   "cell_type": "code",
   "execution_count": null,
   "metadata": {},
   "outputs": [],
   "source": [
    "f = [   1,   2,   3,  0,  0,  0]\n",
    "g = [-0.5, 0.5, 0.1]\n",
    "\n",
    "print(len(f) + len(g) - 1)\n",
    "\n",
    "subplot(121)\n",
    "stem(arange(6), f)\n",
    "xlim((-0.5, 6.5))\n",
    "\n",
    "subplot(122)\n",
    "stem(arange(3), g)\n",
    "xlim((-0.5, 6.5))\n",
    "pass"
   ]
  },
  {
   "cell_type": "code",
   "execution_count": null,
   "metadata": {},
   "outputs": [],
   "source": [
    "subplot(121)\n",
    "stem(array([-0.5, -0.5, -0.4, 1.7, 0.3]))\n",
    "\n",
    "subplot(122)\n",
    "stem(convolve(f, g))\n",
    "pass"
   ]
  },
  {
   "cell_type": "markdown",
   "metadata": {},
   "source": [
    "What's the difference between the two above? Shouldn't they be the same? (The convolved signal may be len(f) + len(g) - 1)\n",
    "\n",
    "Let's try another impulse response.."
   ]
  },
  {
   "cell_type": "code",
   "execution_count": null,
   "metadata": {},
   "outputs": [],
   "source": [
    "g = array([0.1, 0.2, -0.1])\n",
    "stem(g)\n",
    "pass"
   ]
  },
  {
   "cell_type": "code",
   "execution_count": null,
   "metadata": {},
   "outputs": [],
   "source": [
    "fg0 = f[0] * g  # f[0] == 1\n",
    "subplot(211)\n",
    "stem(fg0)\n",
    "subplot(212)\n",
    "stem(g)\n",
    "pass"
   ]
  },
  {
   "cell_type": "code",
   "execution_count": null,
   "metadata": {},
   "outputs": [],
   "source": [
    "fg1 = f[1] * g # f[1] == 2\n",
    "stem(fg1)\n",
    "pass"
   ]
  },
  {
   "cell_type": "markdown",
   "metadata": {},
   "source": [
    "But we need to shift it in time to place it at the position of f[1]"
   ]
  },
  {
   "cell_type": "code",
   "execution_count": null,
   "metadata": {},
   "outputs": [],
   "source": [
    "fg1 = r_[0, fg1] # shift over by 1\n",
    "stem(fg1)\n",
    "pass"
   ]
  },
  {
   "cell_type": "code",
   "execution_count": null,
   "metadata": {},
   "outputs": [],
   "source": [
    "fg2 = f[2] * g\n",
    "fg2 = r_[0, 0, fg2] # shift over by 2\n",
    "stem(fg2)\n",
    "pass"
   ]
  },
  {
   "cell_type": "markdown",
   "metadata": {},
   "source": [
    "Now we need to add them"
   ]
  },
  {
   "cell_type": "code",
   "execution_count": null,
   "metadata": {},
   "outputs": [],
   "source": [
    "def hide_axes(ax):\n",
    "    ax.spines[\"top\"].set_visible(False)  \n",
    "    ax.spines[\"right\"].set_visible(False) \n",
    "    ax.spines[\"bottom\"].set_visible(False) \n",
    "    ax.spines[\"left\"].set_visible(False)\n",
    "    tick_params(axis=\"both\", which=\"both\", bottom=\"off\", top=\"off\",  \n",
    "                labelbottom=\"off\", left=\"off\", right=\"off\", labelleft=\"on\")\n",
    "    "
   ]
  },
  {
   "cell_type": "code",
   "execution_count": null,
   "metadata": {},
   "outputs": [],
   "source": [
    "subplot(511)\n",
    "stem(fg0)\n",
    "xlim(0, 6)\n",
    "ylim(-0.33, 0.61)\n",
    "hide_axes(gca())\n",
    "\n",
    "subplot(512)\n",
    "stem(fg1)\n",
    "xlim(0, 6)\n",
    "ylim(-0.33, 0.62)\n",
    "hide_axes(gca())\n",
    "\n",
    "subplot(513)\n",
    "stem(fg2)\n",
    "xlim(0, 6)\n",
    "ylim(-0.33, 0.62)\n",
    "hide_axes(gca())\n",
    "\n",
    "subplot(514)\n",
    "stem(f[0] * r_[g, zeros(4)] + f[1] * r_[0, g, zeros(3)] + f[2] * r_[0, 0, g, zeros(2)])\n",
    "xlim(0, 6)\n",
    "ylim(-0.33, 0.62)\n",
    "\n",
    "subplot(515)\n",
    "stem(convolve(f, g))\n",
    "xlim(0, 6)\n",
    "ylim(-0.33, 0.62)\n",
    "\n",
    "print(convolve(f, g))\n",
    "\n",
    "gcf().set_figheight(8)"
   ]
  },
  {
   "cell_type": "code",
   "execution_count": null,
   "metadata": {},
   "outputs": [],
   "source": [
    "def apply_ir(f, n, g):\n",
    "    fg = f[n] * g # here's where the scaling happens!\n",
    "    # this is the shifting\n",
    "    fg = r_[zeros(n), fg, zeros(len(g) + len(f) - len(fg) - n - 1 )]\n",
    "    return fg"
   ]
  },
  {
   "cell_type": "code",
   "execution_count": null,
   "metadata": {},
   "outputs": [],
   "source": [
    "f, g"
   ]
  },
  {
   "cell_type": "code",
   "execution_count": null,
   "metadata": {},
   "outputs": [],
   "source": [
    "fg = apply_ir(f, 2, g)\n",
    "stem(fg)\n",
    "pass"
   ]
  },
  {
   "cell_type": "code",
   "execution_count": null,
   "metadata": {},
   "outputs": [],
   "source": [
    "#\n",
    "convolved = zeros(8)\n",
    "for i in range(len(f)):\n",
    "    convolved += apply_ir(f, i, g)"
   ]
  },
  {
   "cell_type": "code",
   "execution_count": null,
   "metadata": {},
   "outputs": [],
   "source": [
    "stem(convolved)\n",
    "pass"
   ]
  },
  {
   "cell_type": "code",
   "execution_count": null,
   "metadata": {},
   "outputs": [],
   "source": [
    "stem(convolve(f, g))\n",
    "pass"
   ]
  },
  {
   "cell_type": "markdown",
   "metadata": {},
   "source": [
    "Same result!"
   ]
  },
  {
   "cell_type": "markdown",
   "metadata": {},
   "source": [
    "### Filtering and Convolution"
   ]
  },
  {
   "cell_type": "markdown",
   "metadata": {},
   "source": [
    "Convolution can be used the mechanism to realize [Finite impulse response (FIR)](https://en.wikipedia.org/wiki/Finite_impulse_response) filters."
   ]
  },
  {
   "cell_type": "code",
   "execution_count": null,
   "metadata": {},
   "outputs": [],
   "source": [
    "signal = random.random(4096) * 2 - 1\n",
    "originalSpectrum = specgram(signal, Fs=44100)\n",
    "pass"
   ]
  },
  {
   "cell_type": "code",
   "execution_count": null,
   "metadata": {},
   "outputs": [],
   "source": [
    "impulseResponse = ones(30) / 30.0"
   ]
  },
  {
   "cell_type": "code",
   "execution_count": null,
   "metadata": {},
   "outputs": [],
   "source": [
    "plot(signal)\n",
    "figure()\n",
    "stem(impulseResponse)\n",
    "pass"
   ]
  },
  {
   "cell_type": "code",
   "execution_count": null,
   "metadata": {},
   "outputs": [],
   "source": [
    "signalNew = convolve(signal, impulseResponse)"
   ]
  },
  {
   "cell_type": "code",
   "execution_count": null,
   "metadata": {},
   "outputs": [],
   "source": [
    "subplot(211)\n",
    "plot(signal)\n",
    "xlim(0, 20)\n",
    "subplot(212)\n",
    "plot(signalNew)\n",
    "xlim(0, 20)\n"
   ]
  },
  {
   "cell_type": "markdown",
   "metadata": {},
   "source": [
    "What just happened? What did we just do?"
   ]
  },
  {
   "cell_type": "code",
   "execution_count": null,
   "metadata": {},
   "outputs": [],
   "source": [
    "Audio(data = signal, rate = 44100)"
   ]
  },
  {
   "cell_type": "code",
   "execution_count": null,
   "metadata": {},
   "outputs": [],
   "source": [
    "Audio(data = signalNew, rate = 44100)"
   ]
  },
  {
   "cell_type": "code",
   "execution_count": null,
   "metadata": {},
   "outputs": [],
   "source": [
    "spectrum, frequency, time, image = specgram(signalNew, Fs=44100)\n",
    "pass"
   ]
  },
  {
   "cell_type": "code",
   "execution_count": null,
   "metadata": {},
   "outputs": [],
   "source": [
    "subplot(211)\n",
    "semilogx(spectrum[:, 10])\n",
    "subplot(212)\n",
    "semilogx(originalSpectrum[0][:, 10])\n",
    "pass"
   ]
  },
  {
   "cell_type": "markdown",
   "metadata": {},
   "source": [
    "Each sample of the output ends up being an average of up to 30 of it's neighbors. This \"rounds out\" sharp edges in the signal. This is a low-pass filter.\n",
    "\n",
    "Now let's look at how we might expect this filter to effect an arbitrary signal."
   ]
  },
  {
   "cell_type": "code",
   "execution_count": null,
   "metadata": {},
   "outputs": [],
   "source": [
    "from scipy.signal import freqz # grab freqz which tells you about the filter you made\n",
    "\n",
    "normalizedFrequency, frequencyResponse = freqz(impulseResponse)\n",
    "\n",
    "plot(normalizedFrequency, abs(frequencyResponse))\n",
    "ylabel('magnitude')\n",
    "twinx()\n",
    "plot(normalizedFrequency, angle(frequencyResponse), 'r')\n",
    "ylabel('phase')\n",
    "pass"
   ]
  },
  {
   "cell_type": "markdown",
   "metadata": {},
   "source": [
    "Convolution in the time domain is multiplication in the frequency domain! This is good because convolution is $O(n^2)$ and the FFT is $O(n\\log(n))$, so that means we can do convolution in $O(n\\log(n))$."
   ]
  },
  {
   "cell_type": "code",
   "execution_count": null,
   "metadata": {},
   "outputs": [],
   "source": [
    "plot(abs(fft.rfft(impulseResponse)), 'o-')\n",
    "pass"
   ]
  },
  {
   "cell_type": "code",
   "execution_count": null,
   "metadata": {},
   "outputs": [],
   "source": [
    "plot(abs(fft.rfft(impulseResponse, n=512))) # n= adds zero padding\n",
    "twinx()\n",
    "plot(angle(fft.rfft(impulseResponse, n=512)), 'r')\n",
    "pass"
   ]
  },
  {
   "cell_type": "markdown",
   "metadata": {},
   "source": [
    "What's happening with phase here?"
   ]
  },
  {
   "cell_type": "code",
   "execution_count": null,
   "metadata": {},
   "outputs": [],
   "source": [
    "window = signalNew[:256]\n",
    "semilogx(abs(rfft(window)))\n",
    "pass"
   ]
  },
  {
   "cell_type": "code",
   "execution_count": null,
   "metadata": {},
   "outputs": [],
   "source": [
    "semilogx(abs(rfft(window) * rfft(impulseResponse, n=256))) # equivalent to convolution\n",
    "pass"
   ]
  },
  {
   "cell_type": "markdown",
   "metadata": {},
   "source": [
    "Convolution can be used for filtering but also with long IRs for reverb."
   ]
  },
  {
   "cell_type": "markdown",
   "metadata": {},
   "source": [
    "By: Andrés Cabrera mantaraya36@gmail.com\n",
    "For MAT course MAT 201A at UCSB\n",
    "\n",
    "Adapted by Karl Yerkes\n",
    "\n",
    "This ipython notebook is licensed under the CC-BY-NC-SA license: http://creativecommons.org/licenses/by-nc-sa/4.0/\n",
    "\n",
    "![http://i.creativecommons.org/l/by-nc-sa/3.0/88x31.png](http://i.creativecommons.org/l/by-nc-sa/3.0/88x31.png)"
   ]
  }
 ],
 "metadata": {
  "kernelspec": {
   "display_name": "Python 3",
   "language": "python",
   "name": "python3"
  },
  "language_info": {
   "codemirror_mode": {
    "name": "ipython",
    "version": 3
   },
   "file_extension": ".py",
   "mimetype": "text/x-python",
   "name": "python",
   "nbconvert_exporter": "python",
   "pygments_lexer": "ipython3",
   "version": "3.6.1"
  }
 },
 "nbformat": 4,
 "nbformat_minor": 1
}
