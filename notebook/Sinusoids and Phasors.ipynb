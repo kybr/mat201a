{
 "cells": [
  {
   "cell_type": "code",
   "execution_count": null,
   "metadata": {},
   "outputs": [],
   "source": [
    "%pylab inline\n",
    "\n",
    "from __future__ import print_function\n",
    "from __future__ import division\n",
    "\n",
    "from ipywidgets import widgets, interact\n",
    "\n",
    "from IPython.display import display, HTML\n",
    "display(HTML(data=\"\"\"\n",
    "<style>\n",
    "    div#notebook-container    { width: 95%; }\n",
    "    div#menubar-container     { width: 65%; }\n",
    "    div#maintoolbar-container { width: 99%; }\n",
    "</style>\n",
    "\"\"\"))\n",
    "\n",
    "rcParams['figure.figsize'] = (20, 4) #wide graphs by default"
   ]
  },
  {
   "cell_type": "markdown",
   "metadata": {},
   "source": [
    "# Sinusoids\n",
    "\n",
    "A sinusoid or [sine wave](https://en.wikipedia.org/wiki/Sine_wave) is \"a mathematical curve that describes a smooth repetitive oscillation ... [that] occurs often in pure and applied mathematics, as well as physics, engineering, signal processing and many other fields\". Sinusoids are one of a class of many [trigonometric functions](https://en.wikipedia.org/wiki/Trigonometric_functions) such as cosine, tangent, and cosecant.\n",
    "\n",
    "<table>\n",
    "<tr><td>\n",
    "<img src=\"media/sohcahtoa.svg\" alt=\"?\" width=300px>\n",
    "</td><td>\n",
    "<img src=\"media/sine.png\" alt=\"?\" width=300px>\n",
    "</td></tr>\n",
    "</table>\n",
    "\n",
    "## $$\\begin{matrix} \\sin(\\alpha)= \\frac{opposite}{hypotenuse} & \\cos(\\alpha)= \\frac{adjacent}{hypotenuse} & \\cos(\\alpha) = \\sin(\\alpha + \\frac{\\pi}{2}) \\end{matrix}$$\n",
    "\n"
   ]
  },
  {
   "cell_type": "code",
   "execution_count": null,
   "metadata": {},
   "outputs": [],
   "source": [
    "# here's a sinusoid\n",
    "x = linspace(0, 2 * pi, 500)\n",
    "plot(x, sin(x), label='sine')\n",
    "plot(x, cos(x), label='cosine')\n",
    "legend(loc='best')\n",
    "pass"
   ]
  },
  {
   "cell_type": "markdown",
   "metadata": {},
   "source": [
    "# Phasor\n",
    "\n",
    "Imagine a vector spinning about the origin with constant amplitude ($A$) and angular velocity ($\\omega$) and consider that the vector started spinning at some angle ($\\theta$). As time passes, this phasor traces the shape of a cosine wave when projected onto some axis.\n",
    "\n",
    "$$A \\cos(\\omega t + \\theta)$$\n",
    "\n",
    "<img src=\"media/unfasor.gif\" alt=\"?\" width=200px>\n"
   ]
  },
  {
   "cell_type": "markdown",
   "metadata": {},
   "source": [
    "We may think of sinusoids and phasors as continuous, but we are going to need to use them in discrete contexts. Let's show 10 samples of a phasor..."
   ]
  },
  {
   "cell_type": "code",
   "execution_count": null,
   "metadata": {},
   "outputs": [],
   "source": [
    "# A is for amplitude\n",
    "amplitude = 1\n",
    "\n",
    "# theta is initial phase\n",
    "initialPhase = 0\n",
    "\n",
    "# w is frequency or \"angular velocity\"\n",
    "frequency = 1\n",
    "\n",
    "# \n",
    "angle = linspace(0, 2 * pi * frequency, 10, endpoint = False) + initialPhase\n",
    "radius = ones_like(angle) * amplitude\n",
    "\n",
    "# plot using polar coordinates\n",
    "p = plt.subplot(111, projection = 'polar')\n",
    "c = p.stem(angle, radius)\n",
    "for a in angle:\n",
    "    annotate('{:.2f}$\\pi$'.format(a / pi), xy = (a, amplitude))\n",
    "\n",
    "# make the figure bigger\n",
    "gcf().set_size_inches(10, 10, forward=True)"
   ]
  },
  {
   "cell_type": "markdown",
   "metadata": {},
   "source": [
    "Each sample of the phasor is separated by a constant angle just as each sample is taken at a constant rate, so we can say that the *angular velocity* is constant."
   ]
  },
  {
   "cell_type": "markdown",
   "metadata": {},
   "source": [
    "# Phasor arithmetic"
   ]
  },
  {
   "cell_type": "code",
   "execution_count": null,
   "metadata": {},
   "outputs": [],
   "source": [
    "phase = linspace(0, 5 * 2 * pi, 300)\n",
    "\n",
    "y1 = sin(phase)\n",
    "\n",
    "# lower amplitude, shift initial phase\n",
    "y2 = 0.7 * sin(phase + 0.7 * pi)\n",
    "\n",
    "plot(y1, label='y1')\n",
    "plot(y2, label='y2')\n",
    "legend(loc='best')\n",
    "pass"
   ]
  },
  {
   "cell_type": "code",
   "execution_count": null,
   "metadata": {},
   "outputs": [],
   "source": [
    "# sum the two phasors\n",
    "plot(y1 + y2)\n",
    "pass"
   ]
  },
  {
   "cell_type": "markdown",
   "metadata": {},
   "source": [
    "> The sine wave is important in physics because it retains its wave shape when added to another sine wave of the same frequency and arbitrary phase and magnitude. It is the only periodic waveform that has this property. This property leads to its importance in Fourier analysis and makes it acoustically unique. (Wikipedia)"
   ]
  },
  {
   "cell_type": "code",
   "execution_count": null,
   "metadata": {},
   "outputs": [],
   "source": [
    "plot(y1, label='y1')\n",
    "plot(y2, label='y2');\n",
    "plot(y1 + y2, label = 'y1 + y2')\n",
    "legend(loc='best')\n",
    "pass"
   ]
  },
  {
   "cell_type": "code",
   "execution_count": null,
   "metadata": {},
   "outputs": [],
   "source": [
    "frequency = 2\n",
    "phase = linspace(0, frequency * 2 * pi, 300)\n",
    "y1 = sin(phase)\n",
    "\n",
    "@interact(amplitude=(-1.0, 1.0, 0.05), initialPhase=(-pi, pi, 0.05))\n",
    "def foo(amplitude, initialPhase):\n",
    "    y2 = amplitude * sin(phase + initialPhase)\n",
    "    plot(y1, label='y1')\n",
    "    plot(y2, label='y2')\n",
    "    plot(y1 + y2, label='y1 + Y2')\n",
    "    ylim([-2, 2])\n",
    "    legend(loc='best')\n",
    "    show()\n"
   ]
  },
  {
   "cell_type": "markdown",
   "metadata": {},
   "source": [
    "\n",
    "- Summing up sinusoids of the same frequency will always result in the same frequency, no matter the phase.\n",
    "- The amplitude of the resulting sum depends on the original sinusoids' amplitude and their phase relationships.\n",
    "- Summing sinusoids is the same as adding the rotating phasor vectors.\n",
    "- When phasors are \"in phase\" their amplitudes add to create constructive (or destructive) interference.\n",
    "\n",
    "A most interesting implication is that by adding a single phasor with initial phase of 0 with another with a 90 degree shift, a phasor with any phase and amplitude can be described. i.e.:\n",
    "\n",
    "$$ A \\cdot \\sin(\\omega t + \\phi) = [A \\cdot \\cos(\\phi) ]\\sin(\\omega t) + [A \\cdot \\sin(\\phi)]\\cos(\\omega t)$$\n",
    "\n",
    "This comes from the trigonometric identity:\n",
    "\n",
    "$$\\sin(a + b) = \\sin(a)\\cos(b) + \\cos(a)\\sin(b)$$\n",
    "\n",
    "<div style=\"float:right;\"><img src=\"media/phasorSumRotated.gif\" alt=\"?\"></div>\n"
   ]
  },
  {
   "cell_type": "markdown",
   "metadata": {},
   "source": [
    "## Phasors in the complex plane\n",
    "\n",
    "The [complex plane](http://en.wikipedia.org/wiki/Complex_plane) is a geometric representation of [complex numbers](https://en.wikipedia.org/wiki/Complex_number). The $x$ axis represents the purely real numbers and the $y$ axis represents the purely [imaginary numbers](https://en.wikipedia.org/wiki/Imaginary_number) any points not found on an axis we call _complex_. Complex numbers are a sort of upgrade to our number system that allows for mathematical operations that would be difficult or impossible without them. Note that either $i$ or $j$ may signal imaginary numbers.\n",
    "\n",
    "A [phasor](https://en.wikipedia.org/wiki/Phasor) is \"a complex number representing a sinusoidal function whose amplitude (A), angular frequency (ω), and initial phase (θ) are [time-invariant](https://en.wikipedia.org/wiki/Time-invariant_system).\" That is, it's amplitude, frequency, and initial phase are all constant with respect to time or they are not functions of time.\n",
    "\n",
    "$$ a \\cdot \\cos(\\omega t) + b \\cdot j \\cdot \\sin(\\omega t)$$\n",
    "\n",
    "![?](media/complex.gif)"
   ]
  },
  {
   "cell_type": "markdown",
   "metadata": {},
   "source": [
    "## Euler's formula\n",
    "\n",
    "[Euler's formula](https://en.wikipedia.org/wiki/Euler%27s_formula):\n",
    "\n",
    "- $ e^{jx} = \\cos(x) + j\\sin(x)$\n",
    "\n",
    "It follows from Euler's formul that..\n",
    "\n",
    "- $\\cos(\\omega t) = \\mathbb{R}[e^{j\\omega t}]$ where $\\mathbb{R}[c]$ means \"the real part of $c$\"\n",
    "- $\\sin(\\omega t) = \\mathbb{I}[e^{j\\omega t}]$ where $\\mathbb{I}[c]$ means \"the imaginary part of $c$\"\n",
    "\n",
    "And there is this curiosity:\n",
    "\n",
    "- $e^{j\\pi} + 1 = 0\\ \\ $ (or $e^{j\\pi} = -1$)\n",
    "\n",
    "...which is famous for relating so many important numbers (0, 1, $\\pi$, $e$, $j$) and operations ($=$, $\\cdot$, $+$).\n",
    " \n",
    "Think $e^{jx}$ (aka \"complex exponential\") is weird? Yeah, it is. But trust us, it's a real thing and it turns out to be useful.\n",
    "\n",
    "(Watch [Euler's formula with introductory group theory](https://www.youtube.com/watch?v=mvmuCPvRoWQ) if you want.)"
   ]
  },
  {
   "cell_type": "markdown",
   "metadata": {},
   "source": [
    "# Adding sinusoids"
   ]
  },
  {
   "cell_type": "code",
   "execution_count": null,
   "metadata": {},
   "outputs": [],
   "source": [
    "# this is a \"lambda\". it's just another way of defining a function in python.\n",
    "reciprocal = lambda x: 1.0 / x\n",
    "# equivalent to \n",
    "#def reciprocal(x):\n",
    "#    return 1.0 / x"
   ]
  },
  {
   "cell_type": "markdown",
   "metadata": {},
   "source": [
    "## The harmonic series\n",
    "\n",
    "In [mathematics]\n",
    "\n",
    "[mathematics]: https://en.wikipedia.org/wiki/Harmonic_series_(mathematics)\n",
    "\n",
    "## $$\\sum_{i=1}^\\infty \\frac{1}{n} = 1 + \\frac{1}{2} + \\frac{1}{3} + \\frac{1}{4} + \\frac{1}{5} + \\dots$$\n",
    "\n",
    "The sum above slowly grows to infinity.\n",
    "\n",
    "## $$\\sum_{i=1}^N \\frac{1}{n} = 1 + \\frac{1}{2} + \\frac{1}{3} + \\frac{1}{4} + \\frac{1}{5} + \\dots + \\frac{1}{N}$$\n",
    "\n",
    "In code...\n",
    "\n",
    "```c\n",
    "float sum = 0;\n",
    "for (int n = 1; i <= N; i++)\n",
    "  sum += 1.0f / n;\n",
    "```\n",
    "\n",
    "In [music]\n",
    "\n",
    "[music]: https://en.wikipedia.org/wiki/Harmonic_series_(music)\n",
    "\n",
    "| String Vibration Modes | Just Intoned Intervals |\n",
    "|:-:|:-:|\n",
    "| <img src=\"media/harmonic_partials.svg\"> | <img src=\"media/harmonic_intervals.png\"  width=\"900px\" > |\n",
    "\n",
    "Now, what happens if we use the harmonic series to build a period waveform? We'll make a sine wave with the frequency of each harmonic, give them with the reciprocal of each harmonic, and sum these together to form a new signal $s(t) =$\n",
    "\n",
    "## $$ \\sum_{i=1}^{30} \\frac{\\sin(nt)}{n} = \\sin(t) + \\frac{\\sin(2t)}{2} + \\frac{\\sin(3t)}{3} + \\dots + \\frac{\\sin(30t)}{30}$$"
   ]
  },
  {
   "cell_type": "code",
   "execution_count": null,
   "metadata": {},
   "outputs": [],
   "source": [
    "harmonic = arange(30) + 1\n",
    "amplitude = reciprocal(harmonic)\n",
    "print(harmonic)\n",
    "print(amplitude)\n",
    "plot(harmonic, amplitude, 'o')\n",
    "xlabel('frequency')\n",
    "ylabel('amplitude')\n",
    "pass"
   ]
  },
  {
   "cell_type": "code",
   "execution_count": null,
   "metadata": {},
   "outputs": [],
   "source": [
    "zip(harmonic, amplitude)"
   ]
  },
  {
   "cell_type": "code",
   "execution_count": null,
   "metadata": {},
   "outputs": [],
   "source": [
    "t = linspace(0, 2 * pi, 500)\n",
    "signal = zeros_like(t)\n",
    "for w, A in zip(harmonic, amplitude):\n",
    "    signal += A * sin(w * t)\n",
    "plot(signal, label=\"$s(t)$\")\n",
    "xlabel('time')\n",
    "ylabel('amplitude')\n",
    "legend(loc='best')\n",
    "pass"
   ]
  },
  {
   "cell_type": "markdown",
   "metadata": {},
   "source": [
    "Adding sine wave and its harmonics at amplitude of $\\frac{1}{n}$ produces a saw wave:"
   ]
  },
  {
   "cell_type": "code",
   "execution_count": null,
   "metadata": {},
   "outputs": [],
   "source": [
    "t = linspace(0, 2 * pi, 500)\n",
    "@interact(N = (1, 100))\n",
    "def harmonicSum(N):\n",
    "    signal = zeros_like(t)\n",
    "    for w, A in [(n, 1/n) for n in 1 + arange(N)]:\n",
    "        signal += A * sin(w * t)\n",
    "    plot(signal, label = 'sum')\n",
    "    plot(sin(N * t) / N, label = 'highest harmonic')\n",
    "    legend()\n",
    "    show()"
   ]
  },
  {
   "cell_type": "markdown",
   "metadata": {},
   "source": [
    "Adding sine wave and its *odd* harmonics at amplitude of $\\frac{1}{n}$ produces a saw wave:"
   ]
  },
  {
   "cell_type": "code",
   "execution_count": null,
   "metadata": {},
   "outputs": [],
   "source": [
    "t = linspace(0, 2 * pi, 500)\n",
    "@interact(N = (1, 100, 2))\n",
    "def harmonicSum(N):\n",
    "    signal = zeros_like(t)\n",
    "    for w, A in [(n, 1/n) for n in 1 + arange(N)]:\n",
    "        if w % 2 == 0:\n",
    "            continue\n",
    "        signal += A * sin(w * t)\n",
    "    plot(signal, label = 'sum')\n",
    "    plot(sin(N * t) / N, label = 'highest harmonic')\n",
    "    legend()\n",
    "    show()"
   ]
  },
  {
   "cell_type": "markdown",
   "metadata": {},
   "source": [
    "Adding sine wave harmonics with the unit amplitude results in a bi-polar impulse:"
   ]
  },
  {
   "cell_type": "code",
   "execution_count": null,
   "metadata": {},
   "outputs": [],
   "source": [
    "t = linspace(0, 2 * pi, 500)\n",
    "@interact(N = (1, 100), phase=(-pi / 2, pi / 2, 0.01))\n",
    "def harmonicSum(N, phase):\n",
    "    signal = zeros_like(t)\n",
    "    for n in 1 + arange(N):\n",
    "        signal += sin(n * t + phase)\n",
    "    plot(signal / N, label = 'sum')\n",
    "    plot(sin(N * t + phase) / N, label = 'highest harmonic')\n",
    "    legend()\n",
    "    show()    "
   ]
  },
  {
   "cell_type": "markdown",
   "metadata": {},
   "source": [
    "## Fourier Series\n",
    "\n",
    "[*Fourier Series*](http://en.wikipedia.org/wiki/Fourier_series) allow us to construct continuous periodic functions by summing sinusoids. Each of the summations above are examples of Fourier Series.\n",
    "\n",
    "![?](media/fourier.gif)\n",
    "\n",
    "A Fourier series is described as:\n",
    "\n",
    "$$s_N(x) = \\frac{a_0}{2} + \\sum_{n=1}^N A_n\\cdot \\sin(\\tfrac{2\\pi nx}{P}+\\phi_n)$$\n",
    "\n",
    "Where $P$ is the size of the interval.\n",
    "\n",
    "It's good to know that we may construct interesting signals by summing sinusoids, but what about deconstructing and analysing arbitrary signals? \n"
   ]
  },
  {
   "cell_type": "markdown",
   "metadata": {},
   "source": [
    "## Fourier's theorem\n",
    "\n",
    "> Any periodic function can be written as a Fourier series. i.e. any periodic function can be written as a sum of harmonic phasors."
   ]
  },
  {
   "cell_type": "markdown",
   "metadata": {},
   "source": [
    "## Fourier transform\n",
    "\n",
    "A [Fourier transform](https://en.wikipedia.org/wiki/Fourier_transform) is described as:\n",
    "\n",
    "$$S(f) = \\int_{-\\infty}^{\\infty} s(t) \\cdot e^{- i 2\\pi f t} dt$$\n",
    "\n",
    "Which is like summing the result of the multiplication of the input function by a phasor of the \"input\" frequency. The formula above returns us a phasor (aka a complex number) that represents a sinusoid. It calculates the answer to the question \"how much of frequency $f$ does $s(t)$ contain?\" The magnitude of the calculated phasor is a measure of presence of $f$ in $s(t)$. "
   ]
  },
  {
   "cell_type": "markdown",
   "metadata": {},
   "source": [
    "## Discrete Fourier Transform\n",
    "\n",
    "When working with discrete data, you need to use the [Discrete Fourier Transform (DFT)](http://en.wikipedia.org/wiki/Discrete_Fourier_transform):\n",
    "\n",
    "$$X_k = \\sum_{n=0}^{N-1} x_n \\cdot e^{-i 2 \\pi k n / N}$$\n",
    "\n",
    "Without knowing the sample/playback rate which relates samples and seconds, we must think of frequency in these terms: cycles per sample. Frequency above is $k/N$ or $k$ cycles per $N$ samples. $x_n$ is the value of the nth sample.\n"
   ]
  },
  {
   "cell_type": "code",
   "execution_count": null,
   "metadata": {},
   "outputs": [],
   "source": [
    "phase = linspace(0, 10 * 2 * pi, 512, endpoint = False)\n",
    "x = cos(phase)\n",
    "plot(phase, x)\n",
    "pass"
   ]
  },
  {
   "cell_type": "code",
   "execution_count": null,
   "metadata": {},
   "outputs": [],
   "source": [
    "phasor_phase = linspace(0, 2 * pi, 512, endpoint = False)\n",
    "plot(x)\n",
    "plot(sin(phasor_phase))\n",
    "plot(cos(phasor_phase))\n",
    "pass"
   ]
  },
  {
   "cell_type": "code",
   "execution_count": null,
   "metadata": {},
   "outputs": [],
   "source": [
    "60*44100"
   ]
  },
  {
   "cell_type": "code",
   "execution_count": null,
   "metadata": {},
   "outputs": [],
   "source": [
    "plot(x * sin(phasor_phase))\n",
    "plot(x * cos(phasor_phase))\n",
    "sum(x * sin(phasor_phase)), sum(x * cos(phasor_phase))"
   ]
  },
  {
   "cell_type": "code",
   "execution_count": null,
   "metadata": {},
   "outputs": [],
   "source": [
    "plot(x * sin(2 * phasor_phase))\n",
    "plot(x * cos(2 * phasor_phase))\n",
    "sum(x * sin(2 * phasor_phase)), sum(x * cos(2 * phasor_phase))"
   ]
  },
  {
   "cell_type": "code",
   "execution_count": null,
   "metadata": {},
   "outputs": [],
   "source": [
    "plot(x * sin(5 * phasor_phase))\n",
    "plot(x * cos(5 * phasor_phase))\n",
    "sum(x * sin(5 * phasor_phase)), sum(x * cos(5 * phasor_phase))"
   ]
  },
  {
   "cell_type": "code",
   "execution_count": null,
   "metadata": {},
   "outputs": [],
   "source": [
    "dft = []\n",
    "for k in range(len(x)):\n",
    "    dft_bin = complex(sum(x * cos(k * phasor_phase)), sum(-x * sin(k * phasor_phase)))\n",
    "    dft.append(dft_bin)\n",
    "\n",
    "subplot(121)\n",
    "plot(real(dft))\n",
    "title('Real part (symmetrical)')\n",
    "\n",
    "subplot(122)\n",
    "plot(imag(dft))\n",
    "title('Imaginary part (tiny)')\n",
    "pass"
   ]
  },
  {
   "cell_type": "markdown",
   "metadata": {},
   "source": [
    "If you put $N$ samples into the DFT, you get $N$ \"bins\" back out. However, if the input signal is entirely real, then the real part of the DFT output is symmetrical. The top half may be thrown away because it is redundant. Also, because our input signal is a cosine which is associated with the real part of complex sinusoids, our imaginary part is tiny."
   ]
  },
  {
   "cell_type": "code",
   "execution_count": null,
   "metadata": {},
   "outputs": [],
   "source": [
    "plot(real(dft))\n",
    "xlim((0, 20))"
   ]
  },
  {
   "cell_type": "code",
   "execution_count": null,
   "metadata": {},
   "outputs": [],
   "source": [
    "plot(real(dft))\n",
    "xlim((500,512))"
   ]
  },
  {
   "cell_type": "code",
   "execution_count": null,
   "metadata": {},
   "outputs": [],
   "source": [
    "# illustrate aliasing...\n",
    "@interact(sampleRate = (40, 140))\n",
    "def foo(sampleRate):\n",
    "    phs_alias = linspace(0, 35 * 2 * pi, sampleRate, endpoint = False)\n",
    "    plot(sin(phs_alias))\n",
    "    show()"
   ]
  },
  {
   "cell_type": "markdown",
   "metadata": {},
   "source": [
    "The hypotenuse of the complex number in the complex plane is the magnitude of the component and the angle is the phase. If you plot all hypotenuses, you get what's called the *Magnitude spectrum*:"
   ]
  },
  {
   "cell_type": "code",
   "execution_count": null,
   "metadata": {},
   "outputs": [],
   "source": [
    "plot(hypot(real(dft), imag(dft)))\n",
    "pass"
   ]
  },
  {
   "cell_type": "code",
   "execution_count": null,
   "metadata": {},
   "outputs": [],
   "source": [
    "plot(hypot(real(dft), imag(dft)))\n",
    "xlim((0, 50))"
   ]
  },
  {
   "cell_type": "code",
   "execution_count": null,
   "metadata": {},
   "outputs": [],
   "source": [
    "plot(real(fft.fft(x)))\n",
    "pass"
   ]
  },
  {
   "cell_type": "code",
   "execution_count": null,
   "metadata": {},
   "outputs": [],
   "source": [
    "plot(imag(fft.fft(x)))\n",
    "pass"
   ]
  },
  {
   "cell_type": "code",
   "execution_count": null,
   "metadata": {},
   "outputs": [],
   "source": [
    "plot(abs(fft.fft(x)))\n",
    "title('The magnitude spectrum')"
   ]
  },
  {
   "cell_type": "code",
   "execution_count": null,
   "metadata": {},
   "outputs": [],
   "source": [
    "plot(np.angle(fft.fft(x)))\n",
    "title('The phase spectrum')"
   ]
  },
  {
   "cell_type": "code",
   "execution_count": null,
   "metadata": {},
   "outputs": [],
   "source": [
    "plot(np.angle(fft.fft(x)))\n",
    "xlim((0, 20))"
   ]
  },
  {
   "cell_type": "code",
   "execution_count": null,
   "metadata": {},
   "outputs": [],
   "source": [
    "plot(np.angle(fft.fft(sin(phs))))\n",
    "xlim((0, 20))"
   ]
  },
  {
   "cell_type": "markdown",
   "metadata": {},
   "source": [
    "By: Andrés Cabrera mantaraya36@gmail.com\n",
    "For MAT course MAT 201A at UCSB\n",
    "\n",
    "This ipython notebook is licensed under the CC-BY-NC-SA license: http://creativecommons.org/licenses/by-nc-sa/4.0/\n",
    "\n",
    "![http://i.creativecommons.org/l/by-nc-sa/3.0/88x31.png](http://i.creativecommons.org/l/by-nc-sa/3.0/88x31.png)"
   ]
  }
 ],
 "metadata": {
  "kernelspec": {
   "display_name": "Python 3",
   "language": "python",
   "name": "python3"
  },
  "language_info": {
   "codemirror_mode": {
    "name": "ipython",
    "version": 2
   },
   "file_extension": ".py",
   "mimetype": "text/x-python",
   "name": "python",
   "nbconvert_exporter": "python",
   "pygments_lexer": "ipython2",
   "version": "2.7.13"
  }
 },
 "nbformat": 4,
 "nbformat_minor": 1
}
