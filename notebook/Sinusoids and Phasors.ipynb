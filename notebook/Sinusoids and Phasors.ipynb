{
 "cells": [
  {
   "cell_type": "code",
   "execution_count": null,
   "metadata": {
    "deletable": true,
    "editable": true
   },
   "outputs": [],
   "source": [
    "%pylab inline\n",
    "from __future__ import print_function\n",
    "from __future__ import division"
   ]
  },
  {
   "cell_type": "markdown",
   "metadata": {
    "deletable": true,
    "editable": true
   },
   "source": [
    "# Sinusoids and Phasors"
   ]
  },
  {
   "cell_type": "markdown",
   "metadata": {
    "deletable": true,
    "editable": true
   },
   "source": [
    "## Trigonometric functions"
   ]
  },
  {
   "cell_type": "code",
   "execution_count": null,
   "metadata": {
    "deletable": true,
    "editable": true
   },
   "outputs": [],
   "source": [
    "x = linspace(0, 2*pi, 500)\n",
    "plot(x, sin(x))"
   ]
  },
  {
   "cell_type": "markdown",
   "metadata": {
    "deletable": true,
    "editable": true
   },
   "source": [
    "http://en.wikipedia.org/wiki/Trigonometric_functions\n",
    "\n",
    "The Sine function relates the length of the opposite side to the angle of a right angle triangle:\n",
    "\n",
    "$$\\sin(\\theta)= \\frac{opposite}{hypotenuse}$$\n",
    "\n",
    "![http://upload.wikimedia.org/wikipedia/commons/0/08/Periodic_sine.PNG](http://upload.wikimedia.org/wikipedia/commons/0/08/Periodic_sine.PNG)"
   ]
  },
  {
   "cell_type": "markdown",
   "metadata": {
    "deletable": true,
    "editable": true
   },
   "source": [
    "The Cosine function is the sine function with a 90 degree ($\\frac{\\pi}{2}$) phase shift. It is related to the adjacent side in a right angle triangle:\n",
    "\n",
    "\n",
    "$$\\cos(\\theta)= \\frac{adjacent}{hypotenuse}$$\n",
    "\n",
    "![http://upload.wikimedia.org/wikipedia/commons/7/7e/Trigonometry_triangle.svg](http://upload.wikimedia.org/wikipedia/commons/7/7e/Trigonometry_triangle.svg)"
   ]
  },
  {
   "cell_type": "markdown",
   "metadata": {
    "deletable": true,
    "editable": true
   },
   "source": [
    "# Phasor"
   ]
  },
  {
   "cell_type": "markdown",
   "metadata": {
    "deletable": true,
    "editable": true
   },
   "source": [
    "A phase vector with constant amplitude and angular velocity.\n",
    "\n",
    "An angle (for a constant line of length $A$) changes at a constant speed.\n",
    "\n",
    "http://en.wikipedia.org/wiki/Phasor\n",
    "\n",
    "$$A\\cdot \\cos(\\omega t + \\theta)$$\n",
    "\n",
    "![http://upload.wikimedia.org/wikipedia/commons/8/89/Unfasor.gif](http://upload.wikimedia.org/wikipedia/commons/8/89/Unfasor.gif)\n",
    "\n",
    "Now discrete:"
   ]
  },
  {
   "cell_type": "code",
   "execution_count": null,
   "metadata": {
    "deletable": true,
    "editable": true
   },
   "outputs": [],
   "source": [
    "theta = linspace(0,2*pi, 10, endpoint=False)\n",
    "print(theta)"
   ]
  },
  {
   "cell_type": "code",
   "execution_count": null,
   "metadata": {
    "deletable": true,
    "editable": true
   },
   "outputs": [],
   "source": [
    "theta = linspace(0,2*pi, 10, endpoint=False)\n",
    "r = ones_like(theta) # ones(theta.shape)\n",
    "polar(theta, r, 'o')\n",
    "\n",
    "for ang in theta:\n",
    "    annotate('{:.2f}$\\pi$'.format(ang/pi), xy=(ang,1))\n",
    "    \n",
    "    \n",
    "#xticks(())\n",
    "#yticks(());\n",
    "#grid()"
   ]
  },
  {
   "cell_type": "code",
   "execution_count": null,
   "metadata": {
    "deletable": true,
    "editable": true
   },
   "outputs": [],
   "source": [
    "r"
   ]
  },
  {
   "cell_type": "markdown",
   "metadata": {
    "deletable": true,
    "editable": true
   },
   "source": [
    "The separation in angles is constant, so if the separation between \"samples\" a constant time, then you can say the angular velocity is constant."
   ]
  },
  {
   "cell_type": "markdown",
   "metadata": {
    "deletable": true,
    "editable": true
   },
   "source": [
    "# Phasor arithmetic"
   ]
  },
  {
   "cell_type": "code",
   "execution_count": null,
   "metadata": {
    "deletable": true,
    "editable": true
   },
   "outputs": [],
   "source": [
    "phs1 = linspace(0, 5 * 2*pi, 300)\n",
    "\n",
    "y1 = sin(phs1)\n",
    "y2 = 0.7 * sin(phs1 + 0.7*pi)\n",
    "\n",
    "plot(y1)\n",
    "plot(y2);"
   ]
  },
  {
   "cell_type": "code",
   "execution_count": null,
   "metadata": {
    "deletable": true,
    "editable": true
   },
   "outputs": [],
   "source": [
    "plot(y1 + y2);"
   ]
  },
  {
   "cell_type": "code",
   "execution_count": null,
   "metadata": {
    "deletable": true,
    "editable": true
   },
   "outputs": [],
   "source": [
    "plot(y1)\n",
    "plot(y2);\n",
    "plot(y1 + y2);"
   ]
  },
  {
   "cell_type": "code",
   "execution_count": null,
   "metadata": {
    "deletable": true,
    "editable": true
   },
   "outputs": [],
   "source": [
    "phs1 = linspace(0, 5 * 2*pi, 300)\n",
    "\n",
    "y1 = sin(phs1)\n",
    "y2 = 0.7 * sin(phs1 + 1.2*pi)\n",
    "\n",
    "plot(y1)\n",
    "plot(y2);\n",
    "plot(y1 + y2);"
   ]
  },
  {
   "cell_type": "code",
   "execution_count": null,
   "metadata": {
    "deletable": true,
    "editable": true
   },
   "outputs": [],
   "source": [
    "phs1 = linspace(0, 5 * 2*pi, 300)\n",
    "\n",
    "y1 = sin(phs1)\n",
    "y2 = 0.7 * sin(phs1 + 0.5*pi)\n",
    "\n",
    "plot(y1)\n",
    "plot(y2);\n",
    "plot(y1 + y2);"
   ]
  },
  {
   "cell_type": "code",
   "execution_count": null,
   "metadata": {
    "deletable": true,
    "editable": true
   },
   "outputs": [],
   "source": [
    "phs1 = linspace(0, 5 * 2*pi, 300)\n",
    "\n",
    "y1 = sin(phs1)\n",
    "y2 = 0.7 * sin(phs1 + 1*pi)\n",
    "\n",
    "plot(y1)\n",
    "plot(y2);\n",
    "plot(y1 + y2);"
   ]
  },
  {
   "cell_type": "markdown",
   "metadata": {
    "deletable": true,
    "editable": true
   },
   "source": [
    "Adding two sinusoids of the same frequency will always result in the same frequency, no matter the phase.\n",
    "\n",
    "The resulting amplitude of the sum depends on the original sinusoids' amplitude and their phase relationships\n",
    "\n",
    "You can easily calculate this with phasors. Adding sinusoids is the same as adding the rotating phasor vectors.\n",
    "\n",
    "![http://upload.wikimedia.org/wikipedia/commons/9/92/Sumafasores.gif](http://upload.wikimedia.org/wikipedia/commons/9/92/Sumafasores.gif)\n",
    "\n",
    "You can see:\n",
    "\n",
    "* In-phase vectors add their amplitude directly\n",
    "* Inverse phase (180 degree shift) vectors cancel out\n",
    "\n",
    "But, the most interesting implication is that by adding a single phasor with initial phase of 0 with another with a 90 degree shift, a phasor with any phase and amplitude can be described. i.e.:\n",
    "\n",
    "$$ A \\cdot \\sin(\\omega t + \\phi) = [A \\cdot \\cos(\\phi) ]\\sin(\\omega t) + [A \\cdot \\sin(\\phi)]\\cos(\\omega t)$$\n",
    "\n",
    "This comes from the trigonometric identity:\n",
    "\n",
    "$$\\sin(a + b) = \\sin(a)\\cos(b) + \\cos(a)\\sin(b)$$"
   ]
  },
  {
   "cell_type": "markdown",
   "metadata": {
    "deletable": true,
    "editable": true
   },
   "source": [
    "## Phasors in the imaginary plane"
   ]
  },
  {
   "cell_type": "markdown",
   "metadata": {
    "deletable": true,
    "editable": true
   },
   "source": [
    "What if we consider the x-y plane, as the complex plane, where the x-axis describes the real part of a number and the y-axis the imaginary part? Then we can describe any phasor as:\n",
    "\n",
    "$$ a \\cdot \\cos(\\omega t) + b \\cdot j \\cdot \\sin(\\omega t)$$\n",
    "\n",
    "![http://www.electronics-tutorials.ws/accircuits/acp75.gif](http://www.electronics-tutorials.ws/accircuits/acp75.gif)\n",
    "\n",
    "http://en.wikipedia.org/wiki/Complex_plane"
   ]
  },
  {
   "cell_type": "markdown",
   "metadata": {
    "deletable": true,
    "editable": true
   },
   "source": [
    "# Euler's formula"
   ]
  },
  {
   "cell_type": "markdown",
   "metadata": {
    "deletable": true,
    "editable": true
   },
   "source": [
    "http://en.wikipedia.org/wiki/Euler%27s_formula\n",
    "\n",
    "$$\\ \\ \\ \\ \\ \\ \\ e^{jx} = \\cos(x) + j\\sin(x)$$\n",
    "\n",
    "So Euler's formula describes a phasor in two different ways!\n",
    "\n",
    "And:\n",
    "\n",
    "$$\\cos(\\omega t) = \\mathrm{Re}[ e^{j\\omega t}] $$\n",
    "\n",
    "$$\\sin(\\omega t) = \\mathrm{Im}[ e^{j\\omega t}] $$\n",
    "\n",
    "$$ \\ \\ \\ \\ e^{j\\pi} + 1 = 0 $$"
   ]
  },
  {
   "cell_type": "markdown",
   "metadata": {
    "deletable": true,
    "editable": true
   },
   "source": [
    "# Adding sinusoids"
   ]
  },
  {
   "cell_type": "code",
   "execution_count": null,
   "metadata": {
    "deletable": true,
    "editable": true
   },
   "outputs": [],
   "source": [
    "amp_harm_rel = lambda x: 1.0/x\n",
    "print(amp_harm_rel)\n",
    "\n",
    "amp_harm_rel(5)"
   ]
  },
  {
   "cell_type": "markdown",
   "metadata": {
    "deletable": true,
    "editable": true
   },
   "source": [
    "Equivalent to:"
   ]
  },
  {
   "cell_type": "code",
   "execution_count": null,
   "metadata": {
    "deletable": true,
    "editable": true
   },
   "outputs": [],
   "source": [
    "def amp_harp_rel_func(x):\n",
    "    return 1.0/x\n",
    "\n",
    "print(amp_harp_rel_func)\n",
    "\n",
    "amp_harp_rel_func(5)"
   ]
  },
  {
   "cell_type": "code",
   "execution_count": null,
   "metadata": {
    "deletable": true,
    "editable": true
   },
   "outputs": [],
   "source": [
    "amp_harm_rel = lambda x: 1.0/x\n",
    "harmonics = arange(30) + 1\n",
    "print(harmonics)"
   ]
  },
  {
   "cell_type": "code",
   "execution_count": null,
   "metadata": {
    "deletable": true,
    "editable": true
   },
   "outputs": [],
   "source": [
    "amps = amp_harm_rel(harmonics)\n",
    "plot(amps, 'o')"
   ]
  },
  {
   "cell_type": "code",
   "execution_count": null,
   "metadata": {
    "deletable": true,
    "editable": true
   },
   "outputs": [],
   "source": [
    "zip(harmonics,amps)"
   ]
  },
  {
   "cell_type": "code",
   "execution_count": null,
   "metadata": {
    "deletable": true,
    "editable": true
   },
   "outputs": [],
   "source": [
    "zip(harmonics,arange(20))"
   ]
  },
  {
   "cell_type": "code",
   "execution_count": null,
   "metadata": {
    "deletable": true,
    "editable": true
   },
   "outputs": [],
   "source": [
    "x = linspace(0, 2*pi, 500)\n",
    "out = zeros_like(x)\n",
    "for harm, amp in zip(harmonics,amps):\n",
    "    out += amp * sin(x*harm)\n",
    "\n",
    "plot(out)"
   ]
  },
  {
   "cell_type": "code",
   "execution_count": null,
   "metadata": {
    "deletable": true,
    "editable": true
   },
   "outputs": [],
   "source": [
    "def add_harmonics(num, amp_harm_rel, numpoints=500):\n",
    "    x = linspace(0, 2*pi, numpoints)\n",
    "    out = zeros_like(x)\n",
    "    harmonics = arange(num) + 1\n",
    "    amps = amp_harm_rel(harmonics)\n",
    "    for harm, amp in zip(harmonics,amps):\n",
    "        out += amp * sin(x*harm)\n",
    "    return out\n",
    "\n",
    "amp_harm_rel = lambda x: 1.0/x\n",
    "for i in range(20):\n",
    "    plot(add_harmonics(i + 1, amp_harm_rel))"
   ]
  },
  {
   "cell_type": "code",
   "execution_count": null,
   "metadata": {
    "deletable": true,
    "editable": true
   },
   "outputs": [],
   "source": [
    "amp_harm_rel = lambda x: 1.0/x\n",
    "for i in range(20):\n",
    "    plot(add_harmonics(i + 10, amp_harm_rel))"
   ]
  },
  {
   "cell_type": "code",
   "execution_count": null,
   "metadata": {
    "deletable": true,
    "editable": true
   },
   "outputs": [],
   "source": [
    "plot(add_harmonics(300, amp_harm_rel))"
   ]
  },
  {
   "cell_type": "markdown",
   "metadata": {
    "deletable": true,
    "editable": true
   },
   "source": [
    "Adding sine wave and its harmonics at amplitude of $\\frac{1}{N}$ produces a saw wave.\n",
    "\n",
    "We also saw that adding sine waves with the same amplitude results in a bi-polar impulse:"
   ]
  },
  {
   "cell_type": "code",
   "execution_count": null,
   "metadata": {
    "deletable": true,
    "editable": true
   },
   "outputs": [],
   "source": [
    "def amp_harm_rel(x):\n",
    "    return ones_like(x)\n",
    "\n",
    "for i in range(20):\n",
    "    plot(add_harmonics(i + 10, amp_harm_rel))"
   ]
  },
  {
   "cell_type": "markdown",
   "metadata": {
    "deletable": true,
    "editable": true
   },
   "source": [
    "Adding only the odd harmonics witha amplitude of $\\frac{1}{N}$ produces a square wave:"
   ]
  },
  {
   "cell_type": "code",
   "execution_count": null,
   "metadata": {
    "deletable": true,
    "editable": true
   },
   "outputs": [],
   "source": [
    "amp_harm_rel = (lambda x: ceil(x/2.0 - (x/2).astype(int)) * 1.0/x)\n",
    "for i in range(20):\n",
    "    plot(add_harmonics(i + 1, amp_harm_rel))"
   ]
  },
  {
   "cell_type": "code",
   "execution_count": null,
   "metadata": {
    "deletable": true,
    "editable": true
   },
   "outputs": [],
   "source": [
    "amp_harm_rel = (lambda x: ceil(x/2.0 - (x/2).astype(int)) * 1.0/x)\n",
    "for i in range(20):\n",
    "    plot(add_harmonics(i + 20, amp_harm_rel))"
   ]
  },
  {
   "cell_type": "markdown",
   "metadata": {
    "deletable": true,
    "editable": true
   },
   "source": [
    "These are all examples of *Fourier Series*, which allow calculating a continuous periodic function through the sum of simple sinusoids.\n",
    "\n",
    "http://en.wikipedia.org/wiki/Fourier_series\n",
    "\n",
    "http://www.encyclopediaofmath.org/index.php/Fourier_series\n",
    "\n",
    "![http://upload.wikimedia.org/wikipedia/commons/2/2b/Fourier_series_and_transform.gif](http://upload.wikimedia.org/wikipedia/commons/2/2b/Fourier_series_and_transform.gif)"
   ]
  },
  {
   "cell_type": "markdown",
   "metadata": {
    "deletable": true,
    "editable": true
   },
   "source": [
    "A Fourier series is described as:\n",
    "\n",
    "$$s_N(x) = \\frac{a_0}{2} + \\sum_{n=1}^N A_n\\cdot \\sin(\\tfrac{2\\pi nx}{P}+\\phi_n)$$"
   ]
  },
  {
   "cell_type": "markdown",
   "metadata": {
    "deletable": true,
    "editable": true
   },
   "source": [
    "# Fourier transform"
   ]
  },
  {
   "cell_type": "markdown",
   "metadata": {
    "deletable": true,
    "editable": true
   },
   "source": [
    "Fourier's theorem\n",
    "\n",
    "Any periodic function can be written as a Fourier series. i.e. any periodic function can be written as a sum of harmonic phasors.\n",
    "\n",
    "$$S(f) = \\int_{-\\infty}^{\\infty} s(t) \\cdot e^{- i 2\\pi f t} dt$$\n",
    "\n",
    "Which is multiplying the input function by a phasor of the \"input\" frequency."
   ]
  },
  {
   "cell_type": "markdown",
   "metadata": {
    "deletable": true,
    "editable": true
   },
   "source": [
    "## Discrete Fourier Transform"
   ]
  },
  {
   "cell_type": "markdown",
   "metadata": {
    "deletable": true,
    "editable": true
   },
   "source": [
    "When working with discrete data, you need to use the Discrete Fourier Transform (DFT):\n",
    "\n",
    "$$X_k = \\sum_{n=0}^{N-1} x_n \\cdot e^{-i 2 \\pi k n / N}$$\n",
    "\n",
    "http://en.wikipedia.org/wiki/Discrete_Fourier_transform"
   ]
  },
  {
   "cell_type": "code",
   "execution_count": null,
   "metadata": {
    "deletable": true,
    "editable": true
   },
   "outputs": [],
   "source": [
    "phs = linspace(0, 10* 2 * pi, 512, endpoint=False)\n",
    "x = cos(phs)\n",
    "plot(phs, x)"
   ]
  },
  {
   "cell_type": "code",
   "execution_count": null,
   "metadata": {
    "deletable": true,
    "editable": true
   },
   "outputs": [],
   "source": [
    "phasor_phs = linspace(0, 2 * pi, 512, endpoint=False)\n",
    "plot(x)\n",
    "plot(sin(phasor_phs))\n",
    "plot(cos(phasor_phs))"
   ]
  },
  {
   "cell_type": "code",
   "execution_count": null,
   "metadata": {
    "deletable": true,
    "editable": true
   },
   "outputs": [],
   "source": [
    "60*44100"
   ]
  },
  {
   "cell_type": "code",
   "execution_count": null,
   "metadata": {
    "deletable": true,
    "editable": true
   },
   "outputs": [],
   "source": [
    "plot(x*sin(phasor_phs))\n",
    "plot(x*cos(phasor_phs))\n",
    "sum(x*sin(phasor_phs)), sum(x*cos(phasor_phs))"
   ]
  },
  {
   "cell_type": "code",
   "execution_count": null,
   "metadata": {
    "deletable": true,
    "editable": true
   },
   "outputs": [],
   "source": [
    "plot(x*sin(2*phasor_phs))\n",
    "plot(x*cos(2*phasor_phs))\n",
    "sum(x*sin(2*phasor_phs)), sum(x*cos(2*phasor_phs))"
   ]
  },
  {
   "cell_type": "code",
   "execution_count": null,
   "metadata": {
    "deletable": true,
    "editable": true
   },
   "outputs": [],
   "source": [
    "plot(x*sin(5*phasor_phs))\n",
    "plot(x*cos(5*phasor_phs))\n",
    "sum(x*sin(5*phasor_phs)), sum(x*cos(5*phasor_phs))"
   ]
  },
  {
   "cell_type": "code",
   "execution_count": null,
   "metadata": {
    "deletable": true,
    "editable": true
   },
   "outputs": [],
   "source": [
    "dft = []\n",
    "for k in range(len(x)):\n",
    "    fft_bin = complex(sum(x*cos(k * phasor_phs)), sum(-x*sin(k * phasor_phs)))\n",
    "    dft.append(fft_bin)\n",
    "\n",
    "subplot(121)\n",
    "plot(real(dft))\n",
    "title('Real part')\n",
    "\n",
    "subplot(122)\n",
    "plot(imag(dft))\n",
    "title('Imaginary part')\n",
    "\n",
    "gcf().set_figwidth(10)"
   ]
  },
  {
   "cell_type": "code",
   "execution_count": null,
   "metadata": {
    "deletable": true,
    "editable": true
   },
   "outputs": [],
   "source": [
    "plot(real(dft))\n",
    "xlim((0, 20))"
   ]
  },
  {
   "cell_type": "code",
   "execution_count": null,
   "metadata": {
    "deletable": true,
    "editable": true
   },
   "outputs": [],
   "source": [
    "plot(real(dft))\n",
    "xlim((500,512))"
   ]
  },
  {
   "cell_type": "code",
   "execution_count": null,
   "metadata": {
    "deletable": true,
    "editable": true
   },
   "outputs": [],
   "source": [
    "phs_alias = linspace(0, 35* 2*pi, 40, endpoint=False)\n",
    "plot(sin(phs_alias))"
   ]
  },
  {
   "cell_type": "markdown",
   "metadata": {
    "deletable": true,
    "editable": true
   },
   "source": [
    "The hypotenuse of the complex number in the complex plane is the magnitude of the component and the angle is the phase. If you plot all hypotenuses, you get what's called the *Magnitude spectrum*:"
   ]
  },
  {
   "cell_type": "code",
   "execution_count": null,
   "metadata": {
    "deletable": true,
    "editable": true
   },
   "outputs": [],
   "source": [
    "plot(hypot(real(dft), imag(dft)))"
   ]
  },
  {
   "cell_type": "code",
   "execution_count": null,
   "metadata": {
    "deletable": true,
    "editable": true
   },
   "outputs": [],
   "source": [
    "plot(hypot(real(dft), imag(dft)))\n",
    "xlim((0, 50))"
   ]
  },
  {
   "cell_type": "code",
   "execution_count": null,
   "metadata": {
    "deletable": true,
    "editable": true
   },
   "outputs": [],
   "source": [
    "plot(real(fft.fft(x)))"
   ]
  },
  {
   "cell_type": "code",
   "execution_count": null,
   "metadata": {
    "deletable": true,
    "editable": true
   },
   "outputs": [],
   "source": [
    "plot(imag(fft.fft(x)))"
   ]
  },
  {
   "cell_type": "code",
   "execution_count": null,
   "metadata": {
    "deletable": true,
    "editable": true
   },
   "outputs": [],
   "source": [
    "plot(abs(fft.fft(x)))\n",
    "title('The magnitude spectrum')"
   ]
  },
  {
   "cell_type": "code",
   "execution_count": null,
   "metadata": {
    "deletable": true,
    "editable": true
   },
   "outputs": [],
   "source": [
    "plot(angle(fft.fft(x)))\n",
    "title('The phase spectrum')"
   ]
  },
  {
   "cell_type": "code",
   "execution_count": null,
   "metadata": {
    "deletable": true,
    "editable": true
   },
   "outputs": [],
   "source": [
    "plot(angle(fft.fft(x)))\n",
    "xlim((0, 20))"
   ]
  },
  {
   "cell_type": "code",
   "execution_count": null,
   "metadata": {
    "deletable": true,
    "editable": true
   },
   "outputs": [],
   "source": [
    "plot(angle(fft.fft(sin(phs))))\n",
    "xlim((0, 20))"
   ]
  },
  {
   "cell_type": "markdown",
   "metadata": {
    "deletable": true,
    "editable": true
   },
   "source": [
    "By: Andrés Cabrera mantaraya36@gmail.com\n",
    "For MAT course MAT 201A at UCSB\n",
    "\n",
    "This ipython notebook is licensed under the CC-BY-NC-SA license: http://creativecommons.org/licenses/by-nc-sa/4.0/\n",
    "\n",
    "![http://i.creativecommons.org/l/by-nc-sa/3.0/88x31.png](http://i.creativecommons.org/l/by-nc-sa/3.0/88x31.png)"
   ]
  }
 ],
 "metadata": {
  "kernelspec": {
   "display_name": "Python 3",
   "language": "python",
   "name": "python3"
  },
  "language_info": {
   "codemirror_mode": {
    "name": "ipython",
    "version": 3
   },
   "file_extension": ".py",
   "mimetype": "text/x-python",
   "name": "python",
   "nbconvert_exporter": "python",
   "pygments_lexer": "ipython3",
   "version": "3.6.1"
  }
 },
 "nbformat": 4,
 "nbformat_minor": 0
}
