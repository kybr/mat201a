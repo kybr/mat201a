{
 "metadata": {
  "name": ""
 },
 "nbformat": 3,
 "nbformat_minor": 0,
 "worksheets": [
  {
   "cells": [
    {
     "cell_type": "code",
     "collapsed": false,
     "input": [
      "%pylab inline\n",
      "rcParams['figure.figsize'] = (16,4)"
     ],
     "language": "python",
     "metadata": {},
     "outputs": [],
     "prompt_number": null
    },
    {
     "cell_type": "code",
     "collapsed": false,
     "input": [
      "from scipy.io import wavfile\n",
      "sr, sig = wavfile.read('superstition.wav')"
     ],
     "language": "python",
     "metadata": {},
     "outputs": [],
     "prompt_number": null
    },
    {
     "cell_type": "code",
     "collapsed": false,
     "input": [
      "left = sig[67000:110000,0]\n",
      "plot(left)"
     ],
     "language": "python",
     "metadata": {},
     "outputs": [],
     "prompt_number": null
    },
    {
     "cell_type": "code",
     "collapsed": false,
     "input": [
      "from IPython.display import Audio\n",
      "Audio(data=left, rate=sr)"
     ],
     "language": "python",
     "metadata": {},
     "outputs": [],
     "prompt_number": null
    },
    {
     "cell_type": "code",
     "collapsed": false,
     "input": [
      "from scipy import signal"
     ],
     "language": "python",
     "metadata": {},
     "outputs": [],
     "prompt_number": null
    },
    {
     "cell_type": "markdown",
     "metadata": {},
     "source": [
      "Let's try to compare the signal to an arbitrary function"
     ]
    },
    {
     "cell_type": "code",
     "collapsed": false,
     "input": [
      "from scipy.special import jn\n",
      "x = linspace(0,20, 1000)\n",
      "j1 = jn(1,x)\n",
      "plot(x, j1)"
     ],
     "language": "python",
     "metadata": {},
     "outputs": [],
     "prompt_number": null
    },
    {
     "cell_type": "code",
     "collapsed": false,
     "input": [
      "c = convolve(left, j1[::-1])\n",
      "plot(c)"
     ],
     "language": "python",
     "metadata": {},
     "outputs": [],
     "prompt_number": null
    },
    {
     "cell_type": "code",
     "collapsed": false,
     "input": [
      "plot(abs(fft.rfft(j1[::-1], n=len(j1)* 4)))\n",
      "xlim((0, 300));"
     ],
     "language": "python",
     "metadata": {},
     "outputs": [],
     "prompt_number": null
    },
    {
     "cell_type": "code",
     "collapsed": false,
     "input": [
      "plot(abs(fft.rfft(left)))\n",
      "xlim((0, 3000));"
     ],
     "language": "python",
     "metadata": {},
     "outputs": [],
     "prompt_number": null
    },
    {
     "cell_type": "code",
     "collapsed": false,
     "input": [
      "plot(abs(fft.rfft(c)))\n",
      "xlim((0, 3000));"
     ],
     "language": "python",
     "metadata": {},
     "outputs": [],
     "prompt_number": null
    },
    {
     "cell_type": "code",
     "collapsed": false,
     "input": [
      "noise = (random.random(1024) * 2) -1\n",
      "hp_noise = noise[1:] - noise[:-1]\n",
      "plot(abs(fft.rfft(hp_noise)))"
     ],
     "language": "python",
     "metadata": {},
     "outputs": [],
     "prompt_number": null
    },
    {
     "cell_type": "code",
     "collapsed": false,
     "input": [
      "c = convolve(left, hp_noise[::-1])\n",
      "plot(c)"
     ],
     "language": "python",
     "metadata": {},
     "outputs": [],
     "prompt_number": null
    },
    {
     "cell_type": "markdown",
     "metadata": {},
     "source": [
      "Now let's try the Ricker wavelet:\n",
      "https://en.wikipedia.org/wiki/Mexican_hat_wavelet"
     ]
    },
    {
     "cell_type": "code",
     "collapsed": false,
     "input": [
      "points = 100\n",
      "a = 1\n",
      "vec2 = signal.ricker(points, a)\n",
      "plot(vec2);"
     ],
     "language": "python",
     "metadata": {},
     "outputs": [],
     "prompt_number": null
    },
    {
     "cell_type": "code",
     "collapsed": false,
     "input": [
      "wlet = signal.ricker(8000, 10)\n",
      "cwt = convolve(left, wlet, mode='same')\n",
      "subplot(121)\n",
      "plot(cwt)\n",
      "subplot(122)\n",
      "plot(wlet);"
     ],
     "language": "python",
     "metadata": {},
     "outputs": [],
     "prompt_number": null
    },
    {
     "cell_type": "code",
     "collapsed": false,
     "input": [
      "signal.freqz(signal.ricker(8000, 10), plot= lambda w, h: plot(w, abs(h)));\n",
      "signal.freqz(signal.ricker(8000, 20), plot= lambda w, h: plot(w, abs(h)));\n",
      "signal.freqz(signal.ricker(8000, 1), plot= lambda w, h: plot(w, abs(h)));"
     ],
     "language": "python",
     "metadata": {},
     "outputs": [],
     "prompt_number": null
    },
    {
     "cell_type": "markdown",
     "metadata": {},
     "source": [
      "It's a band pass filter!"
     ]
    },
    {
     "cell_type": "code",
     "collapsed": false,
     "input": [
      "phs = linspace(0, 10 * 2 * pi, 256, endpoint=False)\n",
      "complex_phasor = 1j*sin(phs) + cos(phs)\n",
      "signal.freqz(complex_phasor, plot= lambda w, h: plot(w, abs(h)));\n",
      "complex_phasor2 = 1j*sin(1.5 * phs) + cos(1.5 *phs)\n",
      "signal.freqz(complex_phasor2, plot= lambda w, h: plot(w, abs(h)));\n",
      "\n",
      "complex_phasor3 = 1j*sin(4 * phs) + cos(4 *phs)\n",
      "signal.freqz(complex_phasor3, plot= lambda w, h: plot(w, abs(h)));"
     ],
     "language": "python",
     "metadata": {},
     "outputs": [],
     "prompt_number": null
    },
    {
     "cell_type": "code",
     "collapsed": false,
     "input": [
      "k = 1\n",
      "N = 256\n",
      "norm_freq = k/float(N)\n",
      "norm_freq"
     ],
     "language": "python",
     "metadata": {},
     "outputs": [],
     "prompt_number": null
    },
    {
     "cell_type": "code",
     "collapsed": false,
     "input": [
      "sr = 44100\n",
      "bin_freq = sr * norm_freq\n",
      "bin_freq"
     ],
     "language": "python",
     "metadata": {},
     "outputs": [],
     "prompt_number": null
    },
    {
     "cell_type": "markdown",
     "metadata": {},
     "source": [
      "And so are complex phasors!\n",
      "They just happen to be different types of band pass filters."
     ]
    },
    {
     "cell_type": "code",
     "collapsed": false,
     "input": [
      "wlet = signal.ricker(8000, 100)\n",
      "cwt = convolve(left, wlet, mode='same')\n",
      "subplot(121)\n",
      "plot(cwt)\n",
      "subplot(122)\n",
      "plot(wlet);"
     ],
     "language": "python",
     "metadata": {},
     "outputs": [],
     "prompt_number": null
    },
    {
     "cell_type": "code",
     "collapsed": false,
     "input": [
      "wlet = signal.ricker(8000, 800)\n",
      "cwt = convolve(left, wlet, mode='same')\n",
      "subplot(121)\n",
      "plot(cwt)\n",
      "subplot(122)\n",
      "plot(wlet);"
     ],
     "language": "python",
     "metadata": {},
     "outputs": [],
     "prompt_number": null
    },
    {
     "cell_type": "markdown",
     "metadata": {},
     "source": [
      "#The Wavelet Transform\n",
      "\n",
      "$$X(a,b) = \\frac{1}{\\sqrt{a}}\\int_{-\\infty}^{\\infty}\\overline{\\Psi\\left(\\frac{t - b}{a}\\right)} x(t)\\, dt$$"
     ]
    },
    {
     "cell_type": "markdown",
     "metadata": {},
     "source": [
      "The cross-correlation of the wavelet with the signal. The wavelet transform is a function of the wavelet's shift ($b$) and scaling ($a$)\n",
      "\n",
      "The wavelet function is chosen so that it forms a complete orthonormal system.\n"
     ]
    },
    {
     "cell_type": "markdown",
     "metadata": {},
     "source": [
      "#Scaleogram and the Continuous Wavelet Transform"
     ]
    },
    {
     "cell_type": "code",
     "collapsed": false,
     "input": [
      "widths = arange(1, 30) * 10 # leave some gaps for efficiency (we are only visualizing)\n",
      "cwtmatr = signal.cwt(left, signal.ricker, widths)"
     ],
     "language": "python",
     "metadata": {},
     "outputs": [],
     "prompt_number": null
    },
    {
     "cell_type": "code",
     "collapsed": false,
     "input": [
      "imshow(cwtmatr, extent=[-1, 1, 1, 300], cmap='PRGn', aspect='auto',\n",
      "       vmax=abs(cwtmatr).max(), vmin=-abs(cwtmatr).max(), interpolation='nearest')\n",
      "colorbar();"
     ],
     "language": "python",
     "metadata": {},
     "outputs": [],
     "prompt_number": null
    },
    {
     "cell_type": "code",
     "collapsed": false,
     "input": [
      "width_100 = cwtmatr[9, :]\n",
      "plot(width_100)"
     ],
     "language": "python",
     "metadata": {},
     "outputs": [],
     "prompt_number": null
    },
    {
     "cell_type": "code",
     "collapsed": false,
     "input": [
      "wlet = signal.ricker(len(left), 100)\n",
      "cwt = convolve(left, wlet, mode='same')\n",
      "plot(cwt)"
     ],
     "language": "python",
     "metadata": {},
     "outputs": [],
     "prompt_number": null
    },
    {
     "cell_type": "code",
     "collapsed": false,
     "input": [
      "imshow(cwtmatr[:, :8000], extent=[-1, 1, 1, 300], cmap='PRGn', aspect='auto',\n",
      "       vmax=abs(cwtmatr).max(), vmin=-abs(cwtmatr).max(), interpolation='nearest')"
     ],
     "language": "python",
     "metadata": {},
     "outputs": [],
     "prompt_number": null
    },
    {
     "cell_type": "code",
     "collapsed": false,
     "input": [
      "imshow(cwtmatr[:, -11000:], extent=[-1, 1, 1, 3000], cmap='PRGn', aspect='auto',\n",
      "       vmax=abs(cwtmatr).max(), vmin=-abs(cwtmatr).max(), interpolation='nearest')"
     ],
     "language": "python",
     "metadata": {},
     "outputs": [],
     "prompt_number": null
    },
    {
     "cell_type": "code",
     "collapsed": false,
     "input": [
      "specgram(left);"
     ],
     "language": "python",
     "metadata": {},
     "outputs": [],
     "prompt_number": null
    },
    {
     "cell_type": "code",
     "collapsed": false,
     "input": [
      "widths = arange(1, 10)/2.0 # leave some gaps for efficiency (we are only visualizing)\n",
      "cwtmatr = signal.cwt(left, signal.ricker, widths)"
     ],
     "language": "python",
     "metadata": {},
     "outputs": [],
     "prompt_number": null
    },
    {
     "cell_type": "code",
     "collapsed": false,
     "input": [
      "imshow(cwtmatr, extent=[-1, 1, 1, 300], cmap='PRGn', aspect='auto',\n",
      "       vmax=abs(cwtmatr).max(), vmin=-abs(cwtmatr).max(), interpolation='nearest')"
     ],
     "language": "python",
     "metadata": {},
     "outputs": [],
     "prompt_number": null
    },
    {
     "cell_type": "code",
     "collapsed": false,
     "input": [
      "plot(cwtmatr[2,:])"
     ],
     "language": "python",
     "metadata": {},
     "outputs": [],
     "prompt_number": null
    },
    {
     "cell_type": "markdown",
     "metadata": {},
     "source": [
      "Zoom in to the highhat"
     ]
    },
    {
     "cell_type": "code",
     "collapsed": false,
     "input": [
      "cwt_slice = cwtmatr[:,15000: 30000]\n",
      "imshow(cwt_slice, extent=[-1, 1, 1, 300], cmap='PRGn', aspect='auto',\n",
      "       vmax=abs(cwt_slice).max(), vmin=-abs(cwt_slice).max(), interpolation='nearest')"
     ],
     "language": "python",
     "metadata": {},
     "outputs": [],
     "prompt_number": null
    },
    {
     "cell_type": "markdown",
     "metadata": {},
     "source": [
      "#Discrete Wavelet Transform"
     ]
    },
    {
     "cell_type": "markdown",
     "metadata": {},
     "source": [
      "Although the previous ones are discrete, they represent a discretization of the CWT.\n",
      "\n",
      "The discrete wavelet transform refers to \"greater\" discretization in time and scale, i.e. not all scales and shifts need to be computed in order to achieve a reversible transform."
     ]
    },
    {
     "cell_type": "code",
     "collapsed": false,
     "input": [
      "import pywt"
     ],
     "language": "python",
     "metadata": {},
     "outputs": [],
     "prompt_number": null
    },
    {
     "cell_type": "code",
     "collapsed": false,
     "input": [
      "tree = pywt.wavedec(left, 'db1')"
     ],
     "language": "python",
     "metadata": {},
     "outputs": [],
     "prompt_number": null
    },
    {
     "cell_type": "markdown",
     "metadata": {},
     "source": [
      "http://wavelets.pybytes.com/wavelet/db1/"
     ]
    },
    {
     "cell_type": "code",
     "collapsed": false,
     "input": [
      "len(tree)"
     ],
     "language": "python",
     "metadata": {},
     "outputs": [],
     "prompt_number": null
    },
    {
     "cell_type": "code",
     "collapsed": false,
     "input": [
      "tree[0]"
     ],
     "language": "python",
     "metadata": {},
     "outputs": [],
     "prompt_number": null
    },
    {
     "cell_type": "code",
     "collapsed": false,
     "input": [
      "tree[1]"
     ],
     "language": "python",
     "metadata": {},
     "outputs": [],
     "prompt_number": null
    },
    {
     "cell_type": "code",
     "collapsed": false,
     "input": [
      "tree[2]"
     ],
     "language": "python",
     "metadata": {},
     "outputs": [],
     "prompt_number": null
    },
    {
     "cell_type": "code",
     "collapsed": false,
     "input": [
      "tree[3]"
     ],
     "language": "python",
     "metadata": {},
     "outputs": [],
     "prompt_number": null
    },
    {
     "cell_type": "code",
     "collapsed": false,
     "input": [
      "tree[4]"
     ],
     "language": "python",
     "metadata": {},
     "outputs": [],
     "prompt_number": null
    },
    {
     "cell_type": "code",
     "collapsed": false,
     "input": [
      "# From: http://stackoverflow.com/questions/16482166/basic-plotting-of-wavelet-analysis-output-in-matplotlib\n",
      "data = tree\n",
      "bottom = 0\n",
      "\n",
      "vmin = min(map(lambda x: -max(abs(x)), data))\n",
      "vmax = max(map(lambda x: max(abs(x)), data))\n",
      "\n",
      "for row in range(0, len(data)):\n",
      "    scale = 2.0 ** (row - len(data))\n",
      "\n",
      "    imshow(\n",
      "        array([data[row]]),\n",
      "        interpolation = 'nearest',\n",
      "        vmin = vmin,\n",
      "        vmax = vmax,\n",
      "        extent = [0, 1, bottom, bottom + scale],\n",
      "        cmap='PRGn')\n",
      "\n",
      "    bottom += scale\n",
      "\n",
      "ylim((0, 0.2))"
     ],
     "language": "python",
     "metadata": {},
     "outputs": [],
     "prompt_number": null
    },
    {
     "cell_type": "code",
     "collapsed": false,
     "input": [
      "data = tree\n",
      "bottom = 0\n",
      "\n",
      "vmin = min(map(lambda x: -max(abs(x)), data))\n",
      "vmax = max(map(lambda x: max(abs(x)), data))\n",
      "\n",
      "for row in range(0, len(data)):\n",
      "    scale = 2.0 ** (row - len(data))\n",
      "\n",
      "    imshow(\n",
      "        array([data[row]]),\n",
      "        interpolation = 'nearest',\n",
      "        vmin = vmin,\n",
      "        vmax = vmax,\n",
      "        extent = [0, 1, bottom, bottom + scale],\n",
      "        cmap='PRGn', aspect='auto')\n",
      "\n",
      "    bottom += scale\n",
      "\n",
      "ylim((0, 0.1))\n",
      "xlim((0, 0.1));"
     ],
     "language": "python",
     "metadata": {},
     "outputs": [],
     "prompt_number": null
    },
    {
     "cell_type": "markdown",
     "metadata": {},
     "source": [
      "In the DWT the \"smaller\" wavelets are performed more often in time and occupy a wider \"detail\" region. This is why the DWT can resolve detail accurately both in \"detail\" and \"time\"."
     ]
    },
    {
     "cell_type": "markdown",
     "metadata": {},
     "source": [
      "# 2D DWT"
     ]
    },
    {
     "cell_type": "code",
     "collapsed": false,
     "input": [
      "im = imread('fruits.png').sum(axis=2)"
     ],
     "language": "python",
     "metadata": {},
     "outputs": [],
     "prompt_number": null
    },
    {
     "cell_type": "code",
     "collapsed": false,
     "input": [
      "im.dtype"
     ],
     "language": "python",
     "metadata": {},
     "outputs": [],
     "prompt_number": null
    },
    {
     "cell_type": "code",
     "collapsed": false,
     "input": [
      "imshow(im, cmap=cm.gray)"
     ],
     "language": "python",
     "metadata": {},
     "outputs": [],
     "prompt_number": null
    },
    {
     "cell_type": "code",
     "collapsed": false,
     "input": [
      "tree = pywt.dwt2(im, 'db1')"
     ],
     "language": "python",
     "metadata": {},
     "outputs": [],
     "prompt_number": null
    },
    {
     "cell_type": "code",
     "collapsed": false,
     "input": [
      "len(tree)"
     ],
     "language": "python",
     "metadata": {},
     "outputs": [],
     "prompt_number": null
    },
    {
     "cell_type": "code",
     "collapsed": false,
     "input": [
      "array(tree[0]).shape"
     ],
     "language": "python",
     "metadata": {},
     "outputs": [],
     "prompt_number": null
    },
    {
     "cell_type": "code",
     "collapsed": false,
     "input": [
      "len(tree[1])"
     ],
     "language": "python",
     "metadata": {},
     "outputs": [],
     "prompt_number": null
    },
    {
     "cell_type": "code",
     "collapsed": false,
     "input": [
      "array(tree[1][0]).shape"
     ],
     "language": "python",
     "metadata": {},
     "outputs": [],
     "prompt_number": null
    },
    {
     "cell_type": "code",
     "collapsed": false,
     "input": [
      "cA = tree[0] \n",
      "\n",
      "cH = array(tree[1])[0]\n",
      "cV = array(tree[1])[1] \n",
      "cD = array(tree[1])[2]\n",
      "\n",
      "#cA, cH, cV and cD are approximation, horizontal detail, vertical detail and diagonal detail coefficients"
     ],
     "language": "python",
     "metadata": {},
     "outputs": [],
     "prompt_number": null
    },
    {
     "cell_type": "code",
     "collapsed": false,
     "input": [
      "imshow(cA, cmap=cm.gray, interpolation='nearest')\n",
      "colorbar()"
     ],
     "language": "python",
     "metadata": {},
     "outputs": [],
     "prompt_number": null
    },
    {
     "cell_type": "code",
     "collapsed": false,
     "input": [
      "imshow(cH, cmap=cm.RdGy, interpolation='nearest')\n",
      "colorbar()"
     ],
     "language": "python",
     "metadata": {},
     "outputs": [],
     "prompt_number": null
    },
    {
     "cell_type": "code",
     "collapsed": false,
     "input": [
      "imshow(cV, cmap=cm.RdGy, interpolation='nearest')\n",
      "colorbar()"
     ],
     "language": "python",
     "metadata": {},
     "outputs": [],
     "prompt_number": null
    },
    {
     "cell_type": "code",
     "collapsed": false,
     "input": [
      "imshow(cD, cmap=cm.RdGy, interpolation='nearest')\n",
      "colorbar()"
     ],
     "language": "python",
     "metadata": {},
     "outputs": [],
     "prompt_number": null
    },
    {
     "cell_type": "markdown",
     "metadata": {},
     "source": [
      "Multi-level transform"
     ]
    },
    {
     "cell_type": "code",
     "collapsed": false,
     "input": [
      "tree = pywt.wavedec2(im, 'db1')"
     ],
     "language": "python",
     "metadata": {},
     "outputs": [],
     "prompt_number": null
    },
    {
     "cell_type": "code",
     "collapsed": false,
     "input": [
      "len(tree)"
     ],
     "language": "python",
     "metadata": {},
     "outputs": [],
     "prompt_number": null
    },
    {
     "cell_type": "code",
     "collapsed": false,
     "input": [
      "array(tree[0]).shape"
     ],
     "language": "python",
     "metadata": {},
     "outputs": [],
     "prompt_number": null
    },
    {
     "cell_type": "code",
     "collapsed": false,
     "input": [
      "array(tree[1]).shape"
     ],
     "language": "python",
     "metadata": {},
     "outputs": [],
     "prompt_number": null
    },
    {
     "cell_type": "code",
     "collapsed": false,
     "input": [
      "array(tree[2]).shape"
     ],
     "language": "python",
     "metadata": {},
     "outputs": [],
     "prompt_number": null
    },
    {
     "cell_type": "code",
     "collapsed": false,
     "input": [
      "array(tree[3]).shape"
     ],
     "language": "python",
     "metadata": {},
     "outputs": [],
     "prompt_number": null
    },
    {
     "cell_type": "code",
     "collapsed": false,
     "input": [
      "imshow(array(tree[0]), cmap=cm.RdGy, interpolation='nearest')\n",
      "colorbar()"
     ],
     "language": "python",
     "metadata": {},
     "outputs": [],
     "prompt_number": null
    },
    {
     "cell_type": "code",
     "collapsed": false,
     "input": [
      "imshow(array(tree[2][0]), cmap=cm.RdGy, interpolation='nearest')\n",
      "colorbar()"
     ],
     "language": "python",
     "metadata": {},
     "outputs": [],
     "prompt_number": null
    },
    {
     "cell_type": "code",
     "collapsed": false,
     "input": [
      "imshow(array(tree[3][0]), cmap=cm.RdGy, interpolation='nearest')\n",
      "colorbar()"
     ],
     "language": "python",
     "metadata": {},
     "outputs": [],
     "prompt_number": null
    },
    {
     "cell_type": "code",
     "collapsed": false,
     "input": [
      "imshow(array(tree[4][0]), cmap=cm.RdGy, interpolation='nearest')\n",
      "colorbar()"
     ],
     "language": "python",
     "metadata": {},
     "outputs": [],
     "prompt_number": null
    },
    {
     "cell_type": "code",
     "collapsed": false,
     "input": [
      "imshow(array(tree[5][0]), cmap=cm.RdGy, interpolation='nearest')\n",
      "colorbar()"
     ],
     "language": "python",
     "metadata": {},
     "outputs": [],
     "prompt_number": null
    },
    {
     "cell_type": "code",
     "collapsed": false,
     "input": [
      "imshow(array(tree[6][0]), cmap=cm.RdGy, interpolation='nearest')\n",
      "colorbar()"
     ],
     "language": "python",
     "metadata": {},
     "outputs": [],
     "prompt_number": null
    },
    {
     "cell_type": "code",
     "collapsed": false,
     "input": [
      "imshow(array(tree[9][0]), cmap=cm.RdGy, interpolation='nearest')\n",
      "colorbar()"
     ],
     "language": "python",
     "metadata": {},
     "outputs": [],
     "prompt_number": null
    },
    {
     "cell_type": "code",
     "collapsed": false,
     "input": [
      "imshow(array(tree[9][0]), cmap=cm.RdGy, interpolation='nearest')\n",
      "colorbar()\n",
      "ylim((250, 150))\n",
      "xlim((200, 300));"
     ],
     "language": "python",
     "metadata": {},
     "outputs": [],
     "prompt_number": null
    },
    {
     "cell_type": "code",
     "collapsed": false,
     "input": [
      "imshow(array(tree[9][1]), cmap=cm.RdGy, interpolation='nearest')\n",
      "colorbar()\n",
      "ylim((250, 150))\n",
      "xlim((200, 300));"
     ],
     "language": "python",
     "metadata": {},
     "outputs": [],
     "prompt_number": null
    },
    {
     "cell_type": "code",
     "collapsed": false,
     "input": [
      "imshow(array(tree[9][2]), cmap=cm.RdGy, interpolation='nearest')\n",
      "colorbar()\n",
      "ylim((250, 150))\n",
      "xlim((200, 300));"
     ],
     "language": "python",
     "metadata": {},
     "outputs": [],
     "prompt_number": null
    },
    {
     "cell_type": "code",
     "collapsed": false,
     "input": [
      "from scipy.misc import imresize"
     ],
     "language": "python",
     "metadata": {},
     "outputs": [],
     "prompt_number": null
    },
    {
     "cell_type": "code",
     "collapsed": false,
     "input": [
      "scaling1 = array(tree[1][0])\n",
      "scaling2 = array(tree[2][0])\n",
      "summed = scaling2 + imresize(scaling1, scaling2.shape, interp='nearest' )\n",
      "imshow(summed, interpolation='nearest', cmap=cm.gray)"
     ],
     "language": "python",
     "metadata": {},
     "outputs": [],
     "prompt_number": null
    },
    {
     "cell_type": "code",
     "collapsed": false,
     "input": [
      "size = array(tree[9][0]).shape\n",
      "\n",
      "num = 3\n",
      "summed = imresize(array(tree[0]), size, interp='nearest').astype(float)\n",
      "\n",
      "for i in range(num - 1):\n",
      "    scaled = imresize(array(tree[i + 1][0]), size, interp='nearest' )\n",
      "    summed += scaled\n",
      "    \n",
      "imshow(summed, interpolation='nearest', cmap=cm.gray)"
     ],
     "language": "python",
     "metadata": {},
     "outputs": [],
     "prompt_number": null
    },
    {
     "cell_type": "code",
     "collapsed": false,
     "input": [
      "size = array(tree[9][0]).shape\n",
      "\n",
      "num = 5\n",
      "summed = imresize(array(tree[0]), size, interp='nearest').astype(float)\n",
      "\n",
      "for i in range(num - 1):\n",
      "    scaled = imresize(array(tree[i + 1][0]), size, interp='nearest' )\n",
      "    summed += scaled\n",
      "    \n",
      "imshow(summed, interpolation='nearest', cmap=cm.gray)"
     ],
     "language": "python",
     "metadata": {},
     "outputs": [],
     "prompt_number": null
    },
    {
     "cell_type": "code",
     "collapsed": false,
     "input": [
      "size = array(tree[9][0]).shape\n",
      "\n",
      "num = 10\n",
      "summed = imresize(array(tree[0]), size, interp='nearest').astype(float)\n",
      "\n",
      "for i in range(num - 1):\n",
      "    scaled = imresize(array(tree[i + 1][0]), size, interp='nearest' ).astype(float)\n",
      "    summed += scaled\n",
      "    \n",
      "imshow(summed, interpolation='nearest', cmap=cm.gray)"
     ],
     "language": "python",
     "metadata": {},
     "outputs": [],
     "prompt_number": null
    },
    {
     "cell_type": "code",
     "collapsed": false,
     "input": [
      "size = array(tree[9][0]).shape\n",
      "\n",
      "num = 10\n",
      "summed = imresize(array(tree[0]), size, interp='nearest').astype(float)\n",
      "\n",
      "for i in range(num - 1):\n",
      "    scaled = imresize(array(tree[i + 1][1]), size, interp='nearest' )\n",
      "    summed += scaled\n",
      "    \n",
      "imshow(summed, interpolation='nearest', cmap=cm.gray)"
     ],
     "language": "python",
     "metadata": {},
     "outputs": [],
     "prompt_number": null
    },
    {
     "cell_type": "code",
     "collapsed": false,
     "input": [
      "size = array(tree[9][0]).shape\n",
      "\n",
      "num = 10\n",
      "summed = imresize(array(tree[0]), size, interp='nearest').astype(float)\n",
      "\n",
      "for i in range(num - 1):\n",
      "    scaled = imresize(array(tree[i + 1][2]), size, interp='nearest' )\n",
      "    summed += scaled\n",
      "    \n",
      "imshow(summed, interpolation='nearest', cmap=cm.gray)"
     ],
     "language": "python",
     "metadata": {},
     "outputs": [],
     "prompt_number": null
    },
    {
     "cell_type": "code",
     "collapsed": false,
     "input": [
      "size = array(tree[9][0]).shape\n",
      "\n",
      "num = 10\n",
      "summed = imresize(array(tree[0]), size, interp='nearest').astype(float)\n",
      "\n",
      "for i in range(num - 1):\n",
      "    scaled = imresize(array(tree[i + 1][0]), size, interp='nearest' )\n",
      "    scaled *= imresize(array(tree[i + 1][1]), size, interp='nearest' )\n",
      "    scaled *= imresize(array(tree[i + 1][2]), size, interp='nearest' )\n",
      "    summed += scaled\n",
      "    \n",
      "imshow(summed, interpolation='nearest', cmap=cm.gray)"
     ],
     "language": "python",
     "metadata": {},
     "outputs": [],
     "prompt_number": null
    },
    {
     "cell_type": "code",
     "collapsed": false,
     "input": [
      "recon = pywt.waverec2(tree, 'db1')\n",
      "imshow(recon, cmap= cm.gray)\n"
     ],
     "language": "python",
     "metadata": {},
     "outputs": [],
     "prompt_number": null
    },
    {
     "cell_type": "markdown",
     "metadata": {},
     "source": [
      "Some uses of wavelets:\n",
      "\n",
      "* Signal processing: Processing in the wavelet domain (Smooting and denoising, \n",
      "* Data compression: Both lossless and lossy\n",
      "* Edge detection\n",
      "* Recognition and analysis\n",
      "* Numerical Analysis: used in the solution of partial differential equations and integral equations\n",
      "\n",
      "http://cva.stanford.edu/classes/ee482a/docs/lect01_sample.pdf"
     ]
    },
    {
     "cell_type": "markdown",
     "metadata": {},
     "source": [
      "By: Andr\u00e9s Cabrera mantaraya36@gmail.com\n",
      "For MAT course MAT 201A at UCSB\n",
      "\n",
      "This ipython notebook is licensed under the CC-BY-NC-SA license: http://creativecommons.org/licenses/by-nc-sa/4.0/\n",
      "\n",
      "![http://i.creativecommons.org/l/by-nc-sa/3.0/88x31.png](http://i.creativecommons.org/l/by-nc-sa/3.0/88x31.png)"
     ]
    }
   ],
   "metadata": {}
  }
 ]
}
