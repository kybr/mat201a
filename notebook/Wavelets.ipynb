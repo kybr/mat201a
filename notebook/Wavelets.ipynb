{
 "cells": [
  {
   "cell_type": "code",
   "execution_count": null,
   "metadata": {},
   "outputs": [],
   "source": [
    "%pylab inline\n",
    "rcParams['figure.figsize'] = (16, 5)"
   ]
  },
  {
   "cell_type": "code",
   "execution_count": null,
   "metadata": {},
   "outputs": [],
   "source": [
    "from scipy.io import wavfile\n",
    "from IPython.display import Audio"
   ]
  },
  {
   "cell_type": "code",
   "execution_count": null,
   "metadata": {},
   "outputs": [],
   "source": [
    "sr, sig = wavfile.read('media/superstition.wav')\n",
    "left = sig[67000:110000,0]\n",
    "plot(left)\n",
    "Audio(data=left, rate=sr)"
   ]
  },
  {
   "cell_type": "markdown",
   "metadata": {},
   "source": [
    "## [Bessel Function](https://en.wikipedia.org/wiki/Bessel_function)\n",
    "\n",
    "![](https://upload.wikimedia.org/wikipedia/commons/5/5d/Bessel_Functions_%281st_Kind%2C_n%3D0%2C1%2C2%29.svg)\n",
    "\n",
    "Let's convolve our signal with an arbitrary function. We'll use a Bessel...."
   ]
  },
  {
   "cell_type": "code",
   "execution_count": null,
   "metadata": {},
   "outputs": [],
   "source": [
    "from scipy.special import jn # jn is a bessel function..."
   ]
  },
  {
   "cell_type": "code",
   "execution_count": null,
   "metadata": {},
   "outputs": [],
   "source": [
    "x = linspace(0, 20, 1000)\n",
    "j1 = jn(1, x)\n",
    "plot(x, j1)\n",
    "pass"
   ]
  },
  {
   "cell_type": "code",
   "execution_count": null,
   "metadata": {},
   "outputs": [],
   "source": [
    "c = convolve(left, j1[::-1])\n",
    "plot(c)\n",
    "Audio(data=c, rate=sr)"
   ]
  },
  {
   "cell_type": "code",
   "execution_count": null,
   "metadata": {},
   "outputs": [],
   "source": [
    "# ::-1 slice notation means \"make a reversed copy\"\n",
    "plot(abs(fft.rfft(j1[::-1], n=len(j1) * 4)))\n",
    "xlim((0, 300))\n",
    "pass"
   ]
  },
  {
   "cell_type": "code",
   "execution_count": null,
   "metadata": {},
   "outputs": [],
   "source": [
    "plot(abs(fft.rfft(left)))\n",
    "xlim((0, 3000))\n",
    "pass"
   ]
  },
  {
   "cell_type": "code",
   "execution_count": null,
   "metadata": {},
   "outputs": [],
   "source": [
    "plot(abs(fft.rfft(c)))\n",
    "xlim((0, 3000))\n",
    "pass"
   ]
  },
  {
   "cell_type": "code",
   "execution_count": null,
   "metadata": {},
   "outputs": [],
   "source": [
    "Audio(data=c, rate=sr)"
   ]
  },
  {
   "cell_type": "markdown",
   "metadata": {},
   "source": [
    "Seems to be a lowpass filter. Let's convolve with some high-passed noise..."
   ]
  },
  {
   "cell_type": "code",
   "execution_count": null,
   "metadata": {},
   "outputs": [],
   "source": [
    "noise = (random.random(1024) * 2) -1\n",
    "hp_noise = noise[1:] - noise[:-1]\n",
    "plot(abs(fft.rfft(hp_noise)))\n",
    "pass"
   ]
  },
  {
   "cell_type": "code",
   "execution_count": null,
   "metadata": {},
   "outputs": [],
   "source": [
    "c = convolve(left, hp_noise[::-1])\n",
    "plot(c)\n",
    "Audio(data=c, rate=sr)"
   ]
  },
  {
   "cell_type": "markdown",
   "metadata": {},
   "source": [
    "This seems to be a highpass filter."
   ]
  },
  {
   "cell_type": "markdown",
   "metadata": {},
   "source": [
    "## [Ricker Wavelet](https://en.wikipedia.org/wiki/Mexican_hat_wavelet)\n",
    "\n",
    "![](https://upload.wikimedia.org/wikipedia/commons/0/08/MexicanHatMathematica.svg)\n",
    "\n",
    "$$\\psi(t) = {2 \\over {\\sqrt {3\\sigma}\\pi^{1 \\over 4}}} \\left( 1 - {({t \\over \\sigma})^2} \\right) e^{{-1 \\over 2}({t \\over \\sigma})^2}$$\n",
    "\n",
    "([blob detection](https://en.wikipedia.org/wiki/Blob_detection#The_Laplacian_of_Gaussian), [David Marr][])\n",
    "\n",
    "[David Marr]: https://en.wikipedia.org/wiki/David_Marr_(neuroscientist)\n",
    "\n",
    "Now let's convolve our signal with something new."
   ]
  },
  {
   "cell_type": "code",
   "execution_count": null,
   "metadata": {},
   "outputs": [],
   "source": [
    "from scipy.signal import ricker, freqz"
   ]
  },
  {
   "cell_type": "code",
   "execution_count": null,
   "metadata": {},
   "outputs": [],
   "source": [
    "points = 100\n",
    "a = 1\n",
    "vec2 = ricker(points, a)\n",
    "stem(vec2)\n",
    "pass"
   ]
  },
  {
   "cell_type": "code",
   "execution_count": null,
   "metadata": {},
   "outputs": [],
   "source": [
    "wlet = ricker(8000, 10)\n",
    "cwt = convolve(left, wlet, mode='same') # depends on mode\n",
    "plot(cwt)\n",
    "Audio(data=cwt, rate=sr)"
   ]
  },
  {
   "cell_type": "code",
   "execution_count": null,
   "metadata": {},
   "outputs": [],
   "source": [
    "semilogx(abs(rfft(cwt)))\n",
    "pass"
   ]
  },
  {
   "cell_type": "code",
   "execution_count": null,
   "metadata": {},
   "outputs": [],
   "source": [
    "freqz(ricker(8000, 32), plot=lambda w, h: plot(w, abs(h)))\n",
    "freqz(ricker(8000, 16), plot=lambda w, h: plot(w, abs(h)))\n",
    "freqz(ricker(8000,  8), plot=lambda w, h: plot(w, abs(h)))\n",
    "freqz(ricker(8000,  4), plot=lambda w, h: plot(w, abs(h)))\n",
    "freqz(ricker(8000,  2), plot=lambda w, h: plot(w, abs(h)))\n",
    "freqz(ricker(8000,  1), plot=lambda w, h: plot(w, abs(h)))\n",
    "title('Frequency Response of various Ricker wavelets')\n",
    "pass"
   ]
  },
  {
   "cell_type": "code",
   "execution_count": null,
   "metadata": {},
   "outputs": [],
   "source": [
    "freqz(ricker(8000, 6), plot=lambda w, h: plot(w, abs(h)))\n",
    "freqz(ricker(8000, 5), plot=lambda w, h: plot(w, abs(h)))\n",
    "freqz(ricker(8000, 4), plot=lambda w, h: plot(w, abs(h)))\n",
    "freqz(ricker(8000, 3), plot=lambda w, h: plot(w, abs(h)))\n",
    "freqz(ricker(8000, 2), plot=lambda w, h: plot(w, abs(h)))\n",
    "freqz(ricker(8000, 1), plot=lambda w, h: plot(w, abs(h)))\n",
    "title('Frequency Response of various Ricker wavelets')\n",
    "pass"
   ]
  },
  {
   "cell_type": "markdown",
   "metadata": {},
   "source": [
    "Each is a band pass filter!"
   ]
  },
  {
   "cell_type": "code",
   "execution_count": null,
   "metadata": {},
   "outputs": [],
   "source": [
    "phs = linspace(0, 10 * 2 * pi, 256, endpoint=False)\n",
    "\n",
    "complex_phasor = 1j*sin(phs) + cos(phs)\n",
    "freqz(complex_phasor, plot=lambda w, h: plot(w, abs(h)))\n",
    "\n",
    "complex_phasor2 = 1j*sin(2 * phs) + cos(2 * phs)\n",
    "freqz(complex_phasor2, plot=lambda w, h: plot(w, abs(h)))\n",
    "\n",
    "complex_phasor3 = 1j*sin(4 * phs) + cos(4 * phs)\n",
    "freqz(complex_phasor3, plot=lambda w, h: plot(w, abs(h)))\n",
    "\n",
    "complex_phasor4 = 1j*sin(8 * phs) + cos(8 * phs)\n",
    "freqz(complex_phasor4, plot=lambda w, h: plot(w, abs(h)))\n",
    "\n",
    "title('Frequency Response of Complex Phasors (FFT)')\n",
    "\n",
    "pass"
   ]
  },
  {
   "cell_type": "code",
   "execution_count": null,
   "metadata": {},
   "outputs": [],
   "source": [
    "phs = linspace(0, 10 * 2 * pi, 256, endpoint=False)\n",
    "\n",
    "complex_phasor = 1j*sin(phs) + cos(phs)\n",
    "freqz(complex_phasor, plot=lambda w, h: plot(w, abs(h)))\n",
    "\n",
    "complex_phasor2 = 1j*sin(2 * phs) + cos(2 * phs)\n",
    "freqz(complex_phasor2, plot=lambda w, h: plot(w, abs(h)))\n",
    "\n",
    "complex_phasor3 = 1j*sin(3 * phs) + cos(3 * phs)\n",
    "freqz(complex_phasor3, plot=lambda w, h: plot(w, abs(h)))\n",
    "\n",
    "complex_phasor4 = 1j*sin(4 * phs) + cos(4 * phs)\n",
    "freqz(complex_phasor4, plot=lambda w, h: plot(w, abs(h)))\n",
    "\n",
    "title('Frequency Response of Complex Phasors (FFT)')\n",
    "\n",
    "pass"
   ]
  },
  {
   "cell_type": "markdown",
   "metadata": {},
   "source": [
    "So complex phasors are also band pass filters, but of a different character; They have **constant bandwidth** whereas Ricker wavelets each have a different bandwidth that seems to be based on their *width* parameter. "
   ]
  },
  {
   "cell_type": "markdown",
   "metadata": {},
   "source": [
    "A quick aside on calculating the frequency of an FFT bin..."
   ]
  },
  {
   "cell_type": "code",
   "execution_count": null,
   "metadata": {},
   "outputs": [],
   "source": [
    "binNumber = 1\n",
    "fftSize = 256\n",
    "normalizedFrequency = binNumber / fftSize\n",
    "normalizedFrequency"
   ]
  },
  {
   "cell_type": "code",
   "execution_count": null,
   "metadata": {},
   "outputs": [],
   "source": [
    "sampleRate = 44100\n",
    "frequencyHertz = sampleRate * normalizedFrequency\n",
    "frequencyHertz"
   ]
  },
  {
   "cell_type": "code",
   "execution_count": null,
   "metadata": {},
   "outputs": [],
   "source": [
    "def frequency_of_bin(binNumber, fftSize, sampleRate):\n",
    "    return sampleRate * binNumber / fftSize\n",
    "\n",
    "f = frequency_of_bin(1, 256, 44100)\n",
    "F = fftfreq(256, 1/44100)[1]\n",
    "\n",
    "f, F"
   ]
  },
  {
   "cell_type": "code",
   "execution_count": null,
   "metadata": {},
   "outputs": [],
   "source": [
    "wlet = ricker(8000, 100)\n",
    "cwt = convolve(left, wlet, mode='same')\n",
    "subplot(121)\n",
    "plot(cwt)\n",
    "subplot(122)\n",
    "plot(wlet)\n",
    "Audio(data=cwt, rate=sr)"
   ]
  },
  {
   "cell_type": "code",
   "execution_count": null,
   "metadata": {},
   "outputs": [],
   "source": [
    "wlet = ricker(8000, 800)\n",
    "cwt = convolve(left, wlet, mode='same')\n",
    "subplot(121)\n",
    "plot(cwt)\n",
    "subplot(122)\n",
    "plot(wlet)\n",
    "Audio(data=cwt, rate=sr)"
   ]
  },
  {
   "cell_type": "markdown",
   "metadata": {},
   "source": [
    "Each Ricker represents a band-pass filter. Using many of these, we can desconstruct a signal into bands and perfectly reconstruct the signal without loss of information. Wavelets are an alternative to the Fourier Transform."
   ]
  },
  {
   "cell_type": "markdown",
   "metadata": {},
   "source": [
    "# The Wavelet Transform\n",
    "\n",
    "$$X(a,b) = \\frac{1}{\\sqrt{a}}\\int_{-\\infty}^{\\infty}\\overline{\\Psi\\left(\\frac{t - b}{a}\\right)} x(t)\\, dt$$\n",
    "\n",
    "The cross-correlation of the wavelet with the signal. The wavelet transform is a function of the wavelet's shift ($b$) and scaling ($a$)\n",
    "\n",
    "The wavelet function is chosen so that it forms a complete orthonormal system. This means that, like the Fourier Transform, we may reconstruct the original signal perfectly without loss of information."
   ]
  },
  {
   "cell_type": "markdown",
   "metadata": {},
   "source": [
    "## [Scaleogram](https://en.wikipedia.org/wiki/Scaleogram)s and the [Continuous Wavelet Transform](https://en.wikipedia.org/wiki/Continuous_wavelet_transform)\n",
    "\n",
    " Also see [Scale-Based Analysis](https://www.mathworks.com/help/wavelet/gs/continuous-wavelet-transform-and-scale-based-analysis.html).\n",
    " \n",
    "![](https://upload.wikimedia.org/wikipedia/commons/5/58/Scaleogram.png)"
   ]
  },
  {
   "cell_type": "code",
   "execution_count": null,
   "metadata": {},
   "outputs": [],
   "source": [
    "from scipy.signal import cwt # Continuous Wavelet Transform "
   ]
  },
  {
   "cell_type": "code",
   "execution_count": null,
   "metadata": {},
   "outputs": [],
   "source": [
    "width = arange(1, 30) * 10 # leave some gaps for efficiency (we are only visualizing)\n",
    "cwtmatr = cwt(left.astype('float64'), ricker, width)\n",
    "width"
   ]
  },
  {
   "cell_type": "code",
   "execution_count": null,
   "metadata": {},
   "outputs": [],
   "source": [
    "# the verticle is the wavelet \"width\" (or scale) parameter which we can think of as relating to frequency\n",
    "# the horizontal is \"shift\" which we can think of as time\n",
    "# the color indicates the energy\n",
    "imshow(cwtmatr, extent=[-1, 1, 1, 300], cmap='PRGn', aspect='auto',\n",
    "       vmax=abs(cwtmatr).max(), vmin=-abs(cwtmatr).max(), interpolation='nearest')\n",
    "colorbar()\n",
    "shape(cwtmatr)"
   ]
  },
  {
   "cell_type": "code",
   "execution_count": null,
   "metadata": {},
   "outputs": [],
   "source": [
    "plot(left) # compare to...\n",
    "Audio(data=left, rate=sr)"
   ]
  },
  {
   "cell_type": "code",
   "execution_count": null,
   "metadata": {},
   "outputs": [],
   "source": [
    "width_100 = cwtmatr[9, :]\n",
    "plot(width_100)\n",
    "Audio(data=width_100/1000, rate=sr)"
   ]
  },
  {
   "cell_type": "code",
   "execution_count": null,
   "metadata": {},
   "outputs": [],
   "source": [
    "wlet = ricker(len(left), 100)\n",
    "cwt_ = convolve(left, wlet, mode='same')\n",
    "plot(cwt_)\n",
    "Audio(data=width_100/1000, rate=sr)"
   ]
  },
  {
   "cell_type": "markdown",
   "metadata": {},
   "source": [
    "Note that the two methods above are equivalent!"
   ]
  },
  {
   "cell_type": "code",
   "execution_count": null,
   "metadata": {},
   "outputs": [],
   "source": [
    "# zoom in on the front part\n",
    "print(shape(cwtmatr))\n",
    "imshow(cwtmatr[:, :10000], extent=[-1, 1, 1, 300], cmap='PRGn', aspect='auto',\n",
    "       vmax=abs(cwtmatr).max(), vmin=-abs(cwtmatr).max(), interpolation='nearest')\n",
    "pass"
   ]
  },
  {
   "cell_type": "code",
   "execution_count": null,
   "metadata": {},
   "outputs": [],
   "source": [
    "# zoom in on the back part\n",
    "imshow(cwtmatr[:, -11000:], extent=[-1, 1, 1, 3000], cmap='PRGn', aspect='auto',\n",
    "       vmax=abs(cwtmatr).max(), vmin=-abs(cwtmatr).max(), interpolation='nearest')\n",
    "pass"
   ]
  },
  {
   "cell_type": "code",
   "execution_count": null,
   "metadata": {},
   "outputs": [],
   "source": [
    "ha = plt.subplot(111)\n",
    "specgram(left, Fs=sr)\n",
    "ha.set_yscale('symlog')\n",
    "ylim(10, 10000)\n",
    "pass"
   ]
  },
  {
   "cell_type": "code",
   "execution_count": null,
   "metadata": {},
   "outputs": [],
   "source": [
    "width = arange(1, 10) / 2.0 # small widths == high frequencies\n",
    "cwtmatr = cwt(left.astype(float64), ricker, width)\n",
    "width"
   ]
  },
  {
   "cell_type": "code",
   "execution_count": null,
   "metadata": {},
   "outputs": [],
   "source": [
    "imshow(cwtmatr, extent=[-1, 1, 1, 10], cmap='PRGn', aspect='auto',\n",
    "       vmax=abs(cwtmatr).max(), vmin=-abs(cwtmatr).max(), interpolation='nearest')\n",
    "shape(cwtmatr)"
   ]
  },
  {
   "cell_type": "code",
   "execution_count": null,
   "metadata": {},
   "outputs": [],
   "source": [
    "plot(cwtmatr[2,:])\n",
    "Audio(data=cwtmatr[2,:], rate=sr)"
   ]
  },
  {
   "cell_type": "markdown",
   "metadata": {},
   "source": [
    "Zoom in to the highhat"
   ]
  },
  {
   "cell_type": "code",
   "execution_count": null,
   "metadata": {},
   "outputs": [],
   "source": [
    "cwt_slice = cwtmatr[:,15000:30000]\n",
    "imshow(cwt_slice, extent=[-1, 1, 1, 300], cmap='PRGn', aspect='auto',\n",
    "       vmax=abs(cwt_slice).max(), vmin=-abs(cwt_slice).max(), interpolation='nearest')\n",
    "pass"
   ]
  },
  {
   "cell_type": "markdown",
   "metadata": {},
   "source": [
    "> Wavelets are defined by the wavelet function ψ(t) (i.e. the mother wavelet) and scaling function φ(t) (also called father wavelet) in the time domain.\n",
    "\n",
    "> The wavelet function is in effect a band-pass filter and scaling it for each level halves its bandwidth. This creates the problem that in order to cover the entire spectrum, an infinite number of levels would be required. The scaling function filters the lowest level of the transform and ensures all the spectrum is covered.\n",
    "\n",
    "> The Haar transform is the simplest of the wavelet transforms. This transform cross-multiplies a function against the Haar wavelet with various shifts and stretches, like the Fourier transform cross-multiplies a function against a sine wave with two phases and many stretches.\n",
    "\n",
    "\n",
    "(Wikipedia on [Haar wavelet](https://en.wikipedia.org/wiki/Haar_wavelet) and [Wavelet](https://en.wikipedia.org/wiki/Wavelet))"
   ]
  },
  {
   "cell_type": "markdown",
   "metadata": {},
   "source": [
    "## The [Discrete Wavelet Transform](https://en.wikipedia.org/wiki/Discrete_wavelet_transform)\n",
    "\n",
    "We've been using the `cwt` function in `scipy.signal` to do the \"[Continuous Wavelet Transform (CWT)](https://en.wikipedia.org/wiki/Continuous_wavelet_transform)\" but of course it is discrete, so what's up? The `cwt` is a discretization of the CWT _per sample_. It calculates the result of each wavelet for each sample of the signal. This is costly.\n",
    "\n",
    "The Discrete Wavelet Transform (DWT) refers to broader discretization in time and scale, i.e. bigger chunks. Not all scales and shifts need to be computed in order to achieve a reversible transform. The DWT minimizes the computational cost while still offering a reversable transform.\n",
    "\n",
    "> the basis function $\\psi$ can be regarded as an impulse response of a system with which the function $x(t)$ has been filtered. The transformed signal provides information about the time and the frequency. Therefore, wavelet-transformation contains information similar to the short-time-Fourier-transformation, but with additional special properties of the wavelets (https://en.wikipedia.org/wiki/Wavelet_transform#Principle)\n",
    "\n",
    "$$\\Delta t \\Delta \\omega \\geqq \\frac{1}{2}$$\n",
    "\n",
    "> where $t$ represents time and $\\omega$ angular frequency ($\\omega = 2 \\pi f$, where $f$ is temporal frequency). The higher the required resolution in time, the lower the resolution in frequency has to be. The larger the extension of the analysis windows is chosen, the larger is the value of $\\Delta t$. (https://en.wikipedia.org/wiki/Uncertainty_principle#Signal_processing)\n",
    "\n",
    "\n",
    "`scipy` does not have a DWT library yet, so we use [pywt (aka PyWavelets)](https://pywavelets.readthedocs.io/en/latest). Follow the [installation instructions](https://pywavelets.readthedocs.io/en/latest/#install) for your system.\n",
    "\n",
    "(See also [FWT](https://en.wikipedia.org/wiki/Fast_wavelet_transform), [Ingrid Daubechies](https://en.wikipedia.org/wiki/Ingrid_Daubechies), [Simple Haar Wavelet Transform Implementation](https://en.wikipedia.org/wiki/Discrete_wavelet_transform#Code_example))"
   ]
  },
  {
   "cell_type": "code",
   "execution_count": null,
   "metadata": {},
   "outputs": [],
   "source": [
    "from pywt import wavedec, waverec, dwt"
   ]
  },
  {
   "cell_type": "markdown",
   "metadata": {},
   "source": [
    "- http://wavelets.pybytes.com/wavelet/db1\n",
    "- http://wavelets.pybytes.com/wavelet/haar\n",
    "<img src=\"https://upload.wikimedia.org/wikipedia/commons/a/a0/Haar_wavelet.svg\" alt=\"\" width=600>\n",
    "![](https://upload.wikimedia.org/wikipedia/commons/c/c4/STFT_and_WT.jpg)"
   ]
  },
  {
   "cell_type": "code",
   "execution_count": null,
   "metadata": {},
   "outputs": [],
   "source": [
    "tree = wavedec(left, 'db1') # Daubechies 1 == Haar"
   ]
  },
  {
   "cell_type": "code",
   "execution_count": null,
   "metadata": {},
   "outputs": [],
   "source": [
    "len(tree)"
   ]
  },
  {
   "cell_type": "code",
   "execution_count": null,
   "metadata": {},
   "outputs": [],
   "source": [
    "tree[0]"
   ]
  },
  {
   "cell_type": "code",
   "execution_count": null,
   "metadata": {},
   "outputs": [],
   "source": [
    "for level in range(1, len(tree)):\n",
    "    print(len(tree) - level, len(tree[level]))"
   ]
  },
  {
   "cell_type": "code",
   "execution_count": null,
   "metadata": {},
   "outputs": [],
   "source": [
    "tree[1]"
   ]
  },
  {
   "cell_type": "code",
   "execution_count": null,
   "metadata": {},
   "outputs": [],
   "source": [
    "tree[2]"
   ]
  },
  {
   "cell_type": "code",
   "execution_count": null,
   "metadata": {},
   "outputs": [],
   "source": [
    "tree[3]"
   ]
  },
  {
   "cell_type": "code",
   "execution_count": null,
   "metadata": {},
   "outputs": [],
   "source": [
    "tree[4]"
   ]
  },
  {
   "cell_type": "code",
   "execution_count": null,
   "metadata": {},
   "outputs": [],
   "source": [
    "# From: http://stackoverflow.com/questions/16482166/basic-plotting-of-wavelet-analysis-output-in-matplotlib\n",
    "data = tree\n",
    "bottom = 0\n",
    "\n",
    "vmin = min(map(lambda x: -max(abs(x)), data))\n",
    "vmax = max(map(lambda x: max(abs(x)), data))\n",
    "\n",
    "for row in range(0, len(data)):\n",
    "    scale = 2.0 ** (row - len(data))\n",
    "\n",
    "    imshow(\n",
    "        array([data[row]]),\n",
    "        interpolation = 'nearest',\n",
    "        vmin = vmin,\n",
    "        vmax = vmax,\n",
    "        extent = [0, 1, bottom, bottom + scale],\n",
    "        cmap='PRGn', aspect='auto')\n",
    "\n",
    "    bottom += scale\n",
    "\n",
    "ylim((0, 0.2))\n",
    "colorbar()\n",
    "pass"
   ]
  },
  {
   "cell_type": "code",
   "execution_count": null,
   "metadata": {},
   "outputs": [],
   "source": [
    "data = tree\n",
    "bottom = 0\n",
    "\n",
    "vmin = min(map(lambda x: -max(abs(x)), data))\n",
    "vmax = max(map(lambda x: max(abs(x)), data))\n",
    "\n",
    "for row in range(0, len(data)):\n",
    "    scale = 2.0 ** (row - len(data))\n",
    "\n",
    "    imshow(\n",
    "        array([data[row]]),\n",
    "        interpolation = 'nearest',\n",
    "        vmin = vmin,\n",
    "        vmax = vmax,\n",
    "        extent = [0, 1, bottom, bottom + scale],\n",
    "        cmap='PRGn', aspect='auto')\n",
    "\n",
    "    bottom += scale\n",
    "\n",
    "ylim((0, 0.1))\n",
    "xlim((0, 0.1)) # zoom in\n",
    "colorbar()\n",
    "pass"
   ]
  },
  {
   "cell_type": "markdown",
   "metadata": {},
   "source": [
    "In the DWT the \"smaller\" wavelets are performed more often in time and occupy a wider \"detail\" region. This is why the DWT can resolve detail accurately both in \"detail\" and \"time\"."
   ]
  },
  {
   "cell_type": "markdown",
   "metadata": {},
   "source": [
    "# 2D DWT"
   ]
  },
  {
   "cell_type": "code",
   "execution_count": null,
   "metadata": {},
   "outputs": [],
   "source": [
    "from pywt import dwt2, idwt2"
   ]
  },
  {
   "cell_type": "code",
   "execution_count": null,
   "metadata": {},
   "outputs": [],
   "source": [
    "im = imread('media/fruits.png').sum(axis=2)"
   ]
  },
  {
   "cell_type": "code",
   "execution_count": null,
   "metadata": {},
   "outputs": [],
   "source": [
    "im.dtype"
   ]
  },
  {
   "cell_type": "code",
   "execution_count": null,
   "metadata": {},
   "outputs": [],
   "source": [
    "imshow(im, cmap=cm.gray)\n",
    "pass"
   ]
  },
  {
   "cell_type": "code",
   "execution_count": null,
   "metadata": {},
   "outputs": [],
   "source": [
    "tree = dwt2(im, 'db1')"
   ]
  },
  {
   "cell_type": "code",
   "execution_count": null,
   "metadata": {},
   "outputs": [],
   "source": [
    "len(tree)"
   ]
  },
  {
   "cell_type": "code",
   "execution_count": null,
   "metadata": {},
   "outputs": [],
   "source": [
    "shape(tree)"
   ]
  },
  {
   "cell_type": "code",
   "execution_count": null,
   "metadata": {},
   "outputs": [],
   "source": [
    "array(tree[0]).shape"
   ]
  },
  {
   "cell_type": "code",
   "execution_count": null,
   "metadata": {},
   "outputs": [],
   "source": [
    "shape(im)"
   ]
  },
  {
   "cell_type": "code",
   "execution_count": null,
   "metadata": {},
   "outputs": [],
   "source": [
    "len(tree[1])"
   ]
  },
  {
   "cell_type": "code",
   "execution_count": null,
   "metadata": {},
   "outputs": [],
   "source": [
    "array(tree[1][0]).shape"
   ]
  },
  {
   "cell_type": "code",
   "execution_count": null,
   "metadata": {},
   "outputs": [],
   "source": [
    "# coefficients\n",
    "cA = tree[0] # approximation\n",
    "cH = array(tree[1])[0] # horizontal detail\n",
    "cV = array(tree[1])[1] # vertical detail\n",
    "cD = array(tree[1])[2] # diagonal detail\n",
    "shape(cD)"
   ]
  },
  {
   "cell_type": "code",
   "execution_count": null,
   "metadata": {},
   "outputs": [],
   "source": [
    "subplot(121)\n",
    "imshow(im, cmap=cm.gray, interpolation='nearest')\n",
    "colorbar()\n",
    "subplot(122)\n",
    "imshow(cA, cmap=cm.gray, interpolation='nearest')\n",
    "colorbar()\n",
    "pass"
   ]
  },
  {
   "cell_type": "code",
   "execution_count": null,
   "metadata": {},
   "outputs": [],
   "source": [
    "imshow(cH, cmap=cm.RdGy, interpolation='nearest')\n",
    "colorbar()\n",
    "pass"
   ]
  },
  {
   "cell_type": "code",
   "execution_count": null,
   "metadata": {},
   "outputs": [],
   "source": [
    "imshow(cV, cmap=cm.RdGy, interpolation='nearest')\n",
    "colorbar()\n",
    "pass"
   ]
  },
  {
   "cell_type": "code",
   "execution_count": null,
   "metadata": {},
   "outputs": [],
   "source": [
    "imshow(cD, cmap=cm.RdGy, interpolation='nearest')\n",
    "colorbar()\n",
    "pass"
   ]
  },
  {
   "cell_type": "code",
   "execution_count": null,
   "metadata": {},
   "outputs": [],
   "source": [
    "imshow(idwt2((cA, (cH, cH, cD)), 'db1'), cmap=cm.gray)\n",
    "pass"
   ]
  },
  {
   "cell_type": "markdown",
   "metadata": {},
   "source": [
    "## Multi-level transform"
   ]
  },
  {
   "cell_type": "code",
   "execution_count": null,
   "metadata": {},
   "outputs": [],
   "source": [
    "from pywt import wavedec2, waverec2"
   ]
  },
  {
   "cell_type": "code",
   "execution_count": null,
   "metadata": {},
   "outputs": [],
   "source": [
    "tree = wavedec2(im, 'db1')"
   ]
  },
  {
   "cell_type": "code",
   "execution_count": null,
   "metadata": {},
   "outputs": [],
   "source": [
    "len(tree) # 10 levels"
   ]
  },
  {
   "cell_type": "code",
   "execution_count": null,
   "metadata": {},
   "outputs": [],
   "source": [
    "array(tree[0]).shape"
   ]
  },
  {
   "cell_type": "code",
   "execution_count": null,
   "metadata": {},
   "outputs": [],
   "source": [
    "array(tree[1]).shape"
   ]
  },
  {
   "cell_type": "code",
   "execution_count": null,
   "metadata": {},
   "outputs": [],
   "source": [
    "array(tree[2]).shape"
   ]
  },
  {
   "cell_type": "code",
   "execution_count": null,
   "metadata": {},
   "outputs": [],
   "source": [
    "array(tree[3]).shape"
   ]
  },
  {
   "cell_type": "code",
   "execution_count": null,
   "metadata": {},
   "outputs": [],
   "source": [
    "# approximation coefficients\n",
    "print('10', shape(tree[0]))\n",
    "\n",
    "# detail coefficients\n",
    "for level in range(1, len(tree)):\n",
    "    print(len(tree) - level, shape(tree[level]))\n",
    "# detail coefficients\n",
    "# 0:cHn (horizontal)\n",
    "# 1:cVn (verticle)\n",
    "# 2:cDn (diagonal)"
   ]
  },
  {
   "cell_type": "code",
   "execution_count": null,
   "metadata": {},
   "outputs": [],
   "source": [
    "imshow(array(tree[0]), cmap=cm.RdGy, interpolation='nearest')\n",
    "colorbar()\n",
    "array(tree[0]).shape"
   ]
  },
  {
   "cell_type": "markdown",
   "metadata": {},
   "source": [
    "That's a first approximation of the image!!! "
   ]
  },
  {
   "cell_type": "code",
   "execution_count": null,
   "metadata": {},
   "outputs": [],
   "source": [
    "imshow(array(tree[2][0]), cmap=cm.RdGy, interpolation='nearest')\n",
    "colorbar()\n",
    "array(tree[2][0]).shape"
   ]
  },
  {
   "cell_type": "code",
   "execution_count": null,
   "metadata": {},
   "outputs": [],
   "source": [
    "imshow(array(tree[3][0]), cmap=cm.RdGy, interpolation='nearest')\n",
    "colorbar()\n",
    "array(tree[3][0]).shape"
   ]
  },
  {
   "cell_type": "code",
   "execution_count": null,
   "metadata": {},
   "outputs": [],
   "source": [
    "imshow(array(tree[4][0]), cmap=cm.RdGy, interpolation='nearest')\n",
    "colorbar()\n",
    "array(tree[4][0]).shape"
   ]
  },
  {
   "cell_type": "code",
   "execution_count": null,
   "metadata": {},
   "outputs": [],
   "source": [
    "imshow(array(tree[5][0]), cmap=cm.RdGy, interpolation='nearest')\n",
    "colorbar()\n",
    "array(tree[5][0]).shape"
   ]
  },
  {
   "cell_type": "code",
   "execution_count": null,
   "metadata": {},
   "outputs": [],
   "source": [
    "imshow(array(tree[6][0]), cmap=cm.RdGy, interpolation='nearest')\n",
    "colorbar()\n",
    "array(tree[6][0]).shape"
   ]
  },
  {
   "cell_type": "code",
   "execution_count": null,
   "metadata": {},
   "outputs": [],
   "source": [
    "imshow(array(tree[9][0]), cmap=cm.RdGy, interpolation='nearest')\n",
    "colorbar()\n",
    "array(tree[9][0]).shape"
   ]
  },
  {
   "cell_type": "code",
   "execution_count": null,
   "metadata": {},
   "outputs": [],
   "source": [
    "imshow(array(tree[9][0]), cmap=cm.RdGy, interpolation='nearest')\n",
    "colorbar()\n",
    "ylim((250, 150))\n",
    "xlim((200, 300))\n",
    "array(tree[9][0]).shape"
   ]
  },
  {
   "cell_type": "code",
   "execution_count": null,
   "metadata": {},
   "outputs": [],
   "source": [
    "imshow(array(tree[9][1]), cmap=cm.RdGy, interpolation='nearest')\n",
    "colorbar()\n",
    "ylim((250, 150))\n",
    "xlim((200, 300))\n",
    "array(tree[9][1]).shape"
   ]
  },
  {
   "cell_type": "code",
   "execution_count": null,
   "metadata": {},
   "outputs": [],
   "source": [
    "imshow(array(tree[9][2]), cmap=cm.RdGy, interpolation='nearest')\n",
    "colorbar()\n",
    "ylim((250, 150))\n",
    "xlim((200, 300))\n",
    "array(tree[9][2]).shape"
   ]
  },
  {
   "cell_type": "code",
   "execution_count": null,
   "metadata": {},
   "outputs": [],
   "source": [
    "from scipy.misc import imresize"
   ]
  },
  {
   "cell_type": "code",
   "execution_count": null,
   "metadata": {},
   "outputs": [],
   "source": [
    "scaling1 = array(tree[1][0])\n",
    "scaling2 = array(tree[2][0])\n",
    "summed = scaling2 + imresize(scaling1, scaling2.shape, interp='nearest' )\n",
    "imshow(summed, interpolation='nearest', cmap=cm.gray)\n",
    "pass"
   ]
  },
  {
   "cell_type": "code",
   "execution_count": null,
   "metadata": {},
   "outputs": [],
   "source": [
    "size = array(tree[9][0]).shape\n",
    "\n",
    "num = 3\n",
    "summed = imresize(array(tree[0]), size, interp='nearest').astype(float)\n",
    "\n",
    "for i in range(num - 1):\n",
    "    scaled = imresize(array(tree[i + 1][0]), size, interp='nearest' )\n",
    "    summed += scaled\n",
    "    \n",
    "imshow(summed, interpolation='nearest', cmap=cm.gray)\n",
    "pass"
   ]
  },
  {
   "cell_type": "code",
   "execution_count": null,
   "metadata": {},
   "outputs": [],
   "source": [
    "size = array(tree[9][0]).shape\n",
    "\n",
    "num = 5\n",
    "summed = imresize(array(tree[0]), size, interp='nearest').astype(float)\n",
    "\n",
    "for i in range(num - 1):\n",
    "    scaled = imresize(array(tree[i + 1][0]), size, interp='nearest' )\n",
    "    summed += scaled\n",
    "    \n",
    "imshow(summed, interpolation='nearest', cmap=cm.gray)\n",
    "pass"
   ]
  },
  {
   "cell_type": "code",
   "execution_count": null,
   "metadata": {},
   "outputs": [],
   "source": [
    "size = array(tree[9][0]).shape\n",
    "\n",
    "num = 10\n",
    "summed = imresize(array(tree[0]), size, interp='nearest').astype(float)\n",
    "\n",
    "for i in range(num - 1):\n",
    "    scaled = imresize(array(tree[i + 1][0]), size, interp='nearest' ).astype(float)\n",
    "    summed += scaled\n",
    "    \n",
    "imshow(summed, interpolation='nearest', cmap=cm.gray)\n",
    "pass"
   ]
  },
  {
   "cell_type": "code",
   "execution_count": null,
   "metadata": {},
   "outputs": [],
   "source": [
    "size = array(tree[9][0]).shape\n",
    "\n",
    "num = 10\n",
    "summed = imresize(array(tree[0]), size, interp='nearest').astype(float)\n",
    "\n",
    "for i in range(num - 1):\n",
    "    scaled = imresize(array(tree[i + 1][1]), size, interp='nearest' )\n",
    "    summed += scaled\n",
    "    \n",
    "imshow(summed, interpolation='nearest', cmap=cm.gray)\n",
    "pass"
   ]
  },
  {
   "cell_type": "code",
   "execution_count": null,
   "metadata": {},
   "outputs": [],
   "source": [
    "size = array(tree[9][0]).shape\n",
    "\n",
    "num = 10\n",
    "summed = imresize(array(tree[0]), size, interp='nearest').astype(float)\n",
    "\n",
    "for i in range(num - 1):\n",
    "    scaled = imresize(array(tree[i + 1][2]), size, interp='nearest' )\n",
    "    summed += scaled\n",
    "    \n",
    "imshow(summed, interpolation='nearest', cmap=cm.gray)\n",
    "pass"
   ]
  },
  {
   "cell_type": "code",
   "execution_count": null,
   "metadata": {},
   "outputs": [],
   "source": [
    "size = array(tree[9][0]).shape\n",
    "\n",
    "num = 10\n",
    "summed = imresize(array(tree[0]), size, interp='nearest').astype(float)\n",
    "\n",
    "for i in range(num - 1):\n",
    "    scaled = imresize(array(tree[i + 1][0]), size, interp='nearest' )\n",
    "    scaled *= imresize(array(tree[i + 1][1]), size, interp='nearest' )\n",
    "    scaled *= imresize(array(tree[i + 1][2]), size, interp='nearest' )\n",
    "    summed += scaled\n",
    "    \n",
    "imshow(summed, interpolation='nearest', cmap=cm.gray)\n",
    "pass"
   ]
  },
  {
   "cell_type": "markdown",
   "metadata": {},
   "source": [
    "we wish we could manually do the reconstruction above"
   ]
  },
  {
   "cell_type": "code",
   "execution_count": null,
   "metadata": {},
   "outputs": [],
   "source": [
    "# this is the inverse of wavedec2\n",
    "recon = waverec2(tree, 'db1')\n",
    "imshow(recon, cmap=cm.gray)\n",
    "pass"
   ]
  },
  {
   "cell_type": "markdown",
   "metadata": {},
   "source": [
    "Some uses of wavelets:\n",
    "\n",
    "* Signal processing: Processing in the wavelet domain (smoothing and denoising) \n",
    "* Data compression: Both lossless and lossy\n",
    "* Edge detection\n",
    "* Recognition and analysis\n",
    "* Numerical Analysis: used in the solution of partial differential equations and integral equations\n",
    "\n",
    "http://cva.stanford.edu/classes/ee482a/docs/lect01_sample.pdf"
   ]
  },
  {
   "cell_type": "markdown",
   "metadata": {},
   "source": [
    "By: Andrés Cabrera mantaraya36@gmail.com\n",
    "For MAT course MAT 201A at UCSB\n",
    "\n",
    "Adapted by Karl Yerkes\n",
    "\n",
    "This ipython notebook is licensed under the CC-BY-NC-SA license: http://creativecommons.org/licenses/by-nc-sa/4.0/\n",
    "\n",
    "![http://i.creativecommons.org/l/by-nc-sa/3.0/88x31.png](http://i.creativecommons.org/l/by-nc-sa/3.0/88x31.png)"
   ]
  }
 ],
 "metadata": {
  "kernelspec": {
   "display_name": "Python 3",
   "language": "python",
   "name": "python3"
  },
  "language_info": {
   "codemirror_mode": {
    "name": "ipython",
    "version": 3
   },
   "file_extension": ".py",
   "mimetype": "text/x-python",
   "name": "python",
   "nbconvert_exporter": "python",
   "pygments_lexer": "ipython3",
   "version": "3.6.1"
  }
 },
 "nbformat": 4,
 "nbformat_minor": 1
}
