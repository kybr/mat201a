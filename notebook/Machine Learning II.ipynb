{
 "metadata": {
  "name": ""
 },
 "nbformat": 3,
 "nbformat_minor": 0,
 "worksheets": [
  {
   "cells": [
    {
     "cell_type": "code",
     "collapsed": false,
     "input": [
      "%pylab inline\n",
      "rcParams['figure.figsize'] = (10, 4) #wide graphs by default\n",
      "from __future__ import print_function\n",
      "from __future__ import division\n",
      "\n",
      "# A lot of code below borrowed from the scikits learn docs"
     ],
     "language": "python",
     "metadata": {},
     "outputs": [],
     "prompt_number": null
    },
    {
     "cell_type": "markdown",
     "metadata": {},
     "source": [
      "http://peekaboo-vision.blogspot.com/2013/01/machine-learning-cheat-sheet-for-scikit.html\n",
      "\n",
      "![http://1.bp.blogspot.com/-ME24ePzpzIM/UQLWTwurfXI/AAAAAAAAANw/W3EETIroA80/s1600/drop_shadows_background.png](http://1.bp.blogspot.com/-ME24ePzpzIM/UQLWTwurfXI/AAAAAAAAANw/W3EETIroA80/s1600/drop_shadows_background.png)"
     ]
    },
    {
     "cell_type": "code",
     "collapsed": false,
     "input": [
      "from sklearn.datasets import load_iris\n",
      "data = load_iris()"
     ],
     "language": "python",
     "metadata": {},
     "outputs": [],
     "prompt_number": null
    },
    {
     "cell_type": "heading",
     "level": 1,
     "metadata": {},
     "source": [
      "Desicion Trees"
     ]
    },
    {
     "cell_type": "markdown",
     "metadata": {},
     "source": [
      "http://scikit-learn.org/stable/modules/tree.html"
     ]
    },
    {
     "cell_type": "code",
     "collapsed": false,
     "input": [
      "from sklearn import tree"
     ],
     "language": "python",
     "metadata": {},
     "outputs": [],
     "prompt_number": null
    },
    {
     "cell_type": "code",
     "collapsed": false,
     "input": [
      "clf = tree.DecisionTreeClassifier()\n",
      "clf.fit(data.data, data.target)"
     ],
     "language": "python",
     "metadata": {},
     "outputs": [],
     "prompt_number": null
    },
    {
     "cell_type": "code",
     "collapsed": false,
     "input": [
      "clf.predict(data.data[0])"
     ],
     "language": "python",
     "metadata": {},
     "outputs": [],
     "prompt_number": null
    },
    {
     "cell_type": "code",
     "collapsed": false,
     "input": [
      "clf.predict(data.data[10])"
     ],
     "language": "python",
     "metadata": {},
     "outputs": [],
     "prompt_number": null
    },
    {
     "cell_type": "code",
     "collapsed": false,
     "input": [
      "clf.predict(data.data)"
     ],
     "language": "python",
     "metadata": {},
     "outputs": [],
     "prompt_number": null
    },
    {
     "cell_type": "code",
     "collapsed": false,
     "input": [
      "from IPython.display import Image #needed to render in notebook\n",
      "import StringIO, pydot  #needed to convert dot format to png\n",
      "\n",
      "dot_data = StringIO.StringIO() \n",
      "tree.export_graphviz(clf, out_file=dot_data) \n",
      "graph = pydot.graph_from_dot_data(dot_data.getvalue())\n",
      "Image(graph.create_png())"
     ],
     "language": "python",
     "metadata": {},
     "outputs": [],
     "prompt_number": null
    },
    {
     "cell_type": "heading",
     "level": 1,
     "metadata": {},
     "source": [
      "Cross-validation"
     ]
    },
    {
     "cell_type": "markdown",
     "metadata": {},
     "source": [
      "http://scikit-learn.org/stable/modules/classes.html#module-sklearn.cross_validation"
     ]
    },
    {
     "cell_type": "code",
     "collapsed": false,
     "input": [
      "from sklearn.naive_bayes import GaussianNB\n",
      "\n",
      "clf2 = GaussianNB()\n",
      "\n",
      "clf2.fit(data.data, data.target)\n"
     ],
     "language": "python",
     "metadata": {},
     "outputs": [],
     "prompt_number": null
    },
    {
     "cell_type": "code",
     "collapsed": false,
     "input": [
      "from sklearn import cross_validation"
     ],
     "language": "python",
     "metadata": {},
     "outputs": [],
     "prompt_number": null
    },
    {
     "cell_type": "code",
     "collapsed": false,
     "input": [
      "kf = cross_validation.KFold(len(data.data), n_folds=10)\n",
      "len(kf)"
     ],
     "language": "python",
     "metadata": {},
     "outputs": [],
     "prompt_number": null
    },
    {
     "cell_type": "code",
     "collapsed": false,
     "input": [
      "pc_folds = []\n",
      "for train_index, test_index in kf:\n",
      "    clf2 = GaussianNB()\n",
      "    clf2.fit(data.data[train_index], data.target[train_index])\n",
      "    predictions = clf2.predict(data.data[test_index])\n",
      "    pc_right = sum(predictions == data.target[test_index])/float(len(test_index))\n",
      "    pc_folds.append(pc_right)\n",
      "    "
     ],
     "language": "python",
     "metadata": {},
     "outputs": [],
     "prompt_number": null
    },
    {
     "cell_type": "code",
     "collapsed": false,
     "input": [
      "pc_folds"
     ],
     "language": "python",
     "metadata": {},
     "outputs": [],
     "prompt_number": null
    },
    {
     "cell_type": "code",
     "collapsed": false,
     "input": [
      "mean(pc_folds)"
     ],
     "language": "python",
     "metadata": {},
     "outputs": [],
     "prompt_number": null
    },
    {
     "cell_type": "code",
     "collapsed": false,
     "input": [
      "min(pc_folds)"
     ],
     "language": "python",
     "metadata": {},
     "outputs": [],
     "prompt_number": null
    },
    {
     "cell_type": "heading",
     "level": 2,
     "metadata": {},
     "source": [
      "Metrics"
     ]
    },
    {
     "cell_type": "code",
     "collapsed": false,
     "input": [
      "from sklearn import metrics"
     ],
     "language": "python",
     "metadata": {},
     "outputs": [],
     "prompt_number": null
    },
    {
     "cell_type": "code",
     "collapsed": false,
     "input": [
      "predictions = clf2.predict(data.data)\n",
      "predictions"
     ],
     "language": "python",
     "metadata": {},
     "outputs": [],
     "prompt_number": null
    },
    {
     "cell_type": "code",
     "collapsed": false,
     "input": [
      "metrics.accuracy_score(data.target, predictions)"
     ],
     "language": "python",
     "metadata": {},
     "outputs": [],
     "prompt_number": null
    },
    {
     "cell_type": "code",
     "collapsed": false,
     "input": [
      "print(metrics.classification_report(data.target, predictions))"
     ],
     "language": "python",
     "metadata": {},
     "outputs": [],
     "prompt_number": null
    },
    {
     "cell_type": "code",
     "collapsed": false,
     "input": [
      "metrics.confusion_matrix(data.target, predictions)"
     ],
     "language": "python",
     "metadata": {},
     "outputs": [],
     "prompt_number": null
    },
    {
     "cell_type": "code",
     "collapsed": false,
     "input": [
      "confmat = metrics.confusion_matrix(data.target, predictions)\n",
      "imshow(confmat,interpolation='nearest', cmap=cm.gray_r)"
     ],
     "language": "python",
     "metadata": {},
     "outputs": [],
     "prompt_number": null
    },
    {
     "cell_type": "code",
     "collapsed": false,
     "input": [
      "confmat = metrics.confusion_matrix(data.target, predictions)\n",
      "\n",
      "imshow(confmat.max() - confmat,interpolation='nearest', cmap=cm.gray)\n",
      "\n",
      "for rownum, row in enumerate(confmat):\n",
      "    for colnum, val in enumerate(row):\n",
      "        text(colnum, rownum, str(val/sum(data.target == rownum).astype(float)), fontsize=24, color='black' if val < confmat.max()/2 else 'white', ha='center', va='center' )\n",
      "        \n",
      "xticks(arange(len(data.target_names)), data.target_names)\n",
      "yticks(arange(len(data.target_names)), data.target_names);"
     ],
     "language": "python",
     "metadata": {},
     "outputs": [],
     "prompt_number": null
    },
    {
     "cell_type": "markdown",
     "metadata": {},
     "source": [
      "http://media.aau.dk/null_space_pursuits/2012/01/frustrations-with-music-genre.html"
     ]
    },
    {
     "cell_type": "heading",
     "level": 1,
     "metadata": {},
     "source": [
      "Dimensionality reduction"
     ]
    },
    {
     "cell_type": "markdown",
     "metadata": {},
     "source": [
      "http://nbviewer.ipython.org/github/rasbt/pattern_classification/blob/master/dimensionality_reduction/projection/principal_component_analysis.ipynb\n",
      "\n",
      "http://gael-varoquaux.info/science/ica_vs_pca.html\n",
      "\n",
      "From: http://nbviewer.ipython.org/github/temporaer/tutorial_ml_gkbionics/blob/master/1%20-%20PCA.ipynb"
     ]
    },
    {
     "cell_type": "code",
     "collapsed": false,
     "input": [
      "Cov = array([[2.9, -2.2], [-2.2, 6.5]])\n",
      "X = random.multivariate_normal([1,2], Cov, size=200)\n",
      "figure(figsize=(4,4))\n",
      "scatter(X[:,0], X[:,1])\n",
      "axis('equal') # equal scaling on both axis;"
     ],
     "language": "python",
     "metadata": {},
     "outputs": [],
     "prompt_number": null
    },
    {
     "cell_type": "markdown",
     "metadata": {},
     "source": [
      "http://en.wikipedia.org/wiki/Multivariate_normal_distribution"
     ]
    },
    {
     "cell_type": "code",
     "collapsed": false,
     "input": [
      "print(cov(X,rowvar=False))"
     ],
     "language": "python",
     "metadata": {},
     "outputs": [],
     "prompt_number": null
    },
    {
     "cell_type": "code",
     "collapsed": false,
     "input": [
      "from sklearn.decomposition import PCA\n",
      "pca = PCA()"
     ],
     "language": "python",
     "metadata": {},
     "outputs": [],
     "prompt_number": null
    },
    {
     "cell_type": "code",
     "collapsed": false,
     "input": [
      "X_pca = pca.fit_transform(X)"
     ],
     "language": "python",
     "metadata": {},
     "outputs": [],
     "prompt_number": null
    },
    {
     "cell_type": "code",
     "collapsed": false,
     "input": [
      "pca.components_, pca.mean_"
     ],
     "language": "python",
     "metadata": {},
     "outputs": [],
     "prompt_number": null
    },
    {
     "cell_type": "code",
     "collapsed": false,
     "input": [
      "\n",
      "figure(figsize=(4,4))\n",
      "scatter(X_pca[:,0], X_pca[:,1])\n",
      "# axis('equal');\n",
      "axis('equal') # equal scaling on both axis;"
     ],
     "language": "python",
     "metadata": {},
     "outputs": [],
     "prompt_number": null
    },
    {
     "cell_type": "code",
     "collapsed": false,
     "input": [
      "var(X_pca[:,0]), var(X_pca[:,1])"
     ],
     "language": "python",
     "metadata": {},
     "outputs": [],
     "prompt_number": null
    },
    {
     "cell_type": "heading",
     "level": 2,
     "metadata": {},
     "source": [
      "Hidden Markov Models"
     ]
    },
    {
     "cell_type": "code",
     "collapsed": false,
     "input": [
      "notes = [\"A\", \"B\", \"C\", \"D\"]\n",
      "\n",
      "markov_model = [ [ 0.5,  0.3, 0.2, 0],\n",
      "                [0.2, 0.1, 0.6, 0.1],\n",
      "                [0.1, 0, 0.2, 0.7],\n",
      "                [0, 0, 0.9, 0.1] ]\n",
      "state = random.randint(0, 4)\n",
      "print(state)"
     ],
     "language": "python",
     "metadata": {},
     "outputs": [],
     "prompt_number": null
    },
    {
     "cell_type": "code",
     "collapsed": false,
     "input": [
      "throw = random.random()\n",
      "print(throw)"
     ],
     "language": "python",
     "metadata": {},
     "outputs": [],
     "prompt_number": null
    },
    {
     "cell_type": "code",
     "collapsed": false,
     "input": [
      "probabilities = markov_model[state]"
     ],
     "language": "python",
     "metadata": {},
     "outputs": [],
     "prompt_number": null
    },
    {
     "cell_type": "code",
     "collapsed": false,
     "input": [
      "cumsum(probabilities)"
     ],
     "language": "python",
     "metadata": {},
     "outputs": [],
     "prompt_number": null
    },
    {
     "cell_type": "code",
     "collapsed": false,
     "input": [
      "cumsum(probabilities) > throw"
     ],
     "language": "python",
     "metadata": {},
     "outputs": [],
     "prompt_number": null
    },
    {
     "cell_type": "code",
     "collapsed": false,
     "input": [
      "argmax(cumsum(probabilities) > throw)"
     ],
     "language": "python",
     "metadata": {},
     "outputs": [],
     "prompt_number": null
    },
    {
     "cell_type": "code",
     "collapsed": false,
     "input": [
      "state = argmax(cumsum(probabilities) > throw)\n",
      "print(state)"
     ],
     "language": "python",
     "metadata": {},
     "outputs": [],
     "prompt_number": null
    },
    {
     "cell_type": "code",
     "collapsed": false,
     "input": [
      "throw = random.random()\n",
      "state = argmax(cumsum(probabilities) > throw)\n",
      "probabilities = markov_model[state]\n",
      "print(state)"
     ],
     "language": "python",
     "metadata": {},
     "outputs": [],
     "prompt_number": null
    },
    {
     "cell_type": "code",
     "collapsed": false,
     "input": [
      "throw = random.random()\n",
      "state = argmax(cumsum(probabilities) > throw)\n",
      "probabilities = markov_model[state]\n",
      "print(state)"
     ],
     "language": "python",
     "metadata": {},
     "outputs": [],
     "prompt_number": null
    },
    {
     "cell_type": "code",
     "collapsed": false,
     "input": [
      "def markov(matrix, state, num_iter=10):\n",
      "    out = [state]\n",
      "    probabilities = markov_model[state]\n",
      "    for i in range(num_iter):\n",
      "        throw = random.random()\n",
      "        state = argmax(cumsum(probabilities) > throw)\n",
      "        probabilities = markov_model[state]\n",
      "        out.append(state)\n",
      "    return out"
     ],
     "language": "python",
     "metadata": {},
     "outputs": [],
     "prompt_number": null
    },
    {
     "cell_type": "code",
     "collapsed": false,
     "input": [
      "markov(markov_model, 0)"
     ],
     "language": "python",
     "metadata": {},
     "outputs": [],
     "prompt_number": null
    },
    {
     "cell_type": "code",
     "collapsed": false,
     "input": [
      "markov_model"
     ],
     "language": "python",
     "metadata": {},
     "outputs": [],
     "prompt_number": null
    },
    {
     "cell_type": "code",
     "collapsed": false,
     "input": [
      "markov(markov_model, 3)"
     ],
     "language": "python",
     "metadata": {},
     "outputs": [],
     "prompt_number": null
    },
    {
     "cell_type": "markdown",
     "metadata": {},
     "source": [
      "Hidden Markov Models have a \"hidden\" internal state which determines the output"
     ]
    },
    {
     "cell_type": "code",
     "collapsed": false,
     "input": [
      "possible_outputs = ['M', 'N', 'O']\n",
      "output_probabilites = [ [ 0.1, 0.9, 0],\n",
      "                       [0.8, 0.1, 0.1],\n",
      "                       [0.1, 0, 0.9],\n",
      "                       [0.2, 0.3, 0.5]]"
     ],
     "language": "python",
     "metadata": {},
     "outputs": [],
     "prompt_number": null
    },
    {
     "cell_type": "code",
     "collapsed": false,
     "input": [
      "states = markov(markov_model, 3)\n",
      "for state in states:\n",
      "    throw = random.random()\n",
      "    out_index = argmax(cumsum(output_probabilites[state]) > throw)\n",
      "    print(possible_outputs[out_index])"
     ],
     "language": "python",
     "metadata": {},
     "outputs": [],
     "prompt_number": null
    },
    {
     "cell_type": "code",
     "collapsed": false,
     "input": [
      "def genHMM(markov_model, initial_state, possible_outputs, output_probabilites, num_iter=10):\n",
      "    out = []\n",
      "    states = markov(markov_model, initial_state)\n",
      "    for state in states:\n",
      "        throw = random.random()\n",
      "        out_index = argmax(cumsum(output_probabilites[state]) > throw)\n",
      "        out.append(possible_outputs[out_index])\n",
      "    return out, states"
     ],
     "language": "python",
     "metadata": {},
     "outputs": [],
     "prompt_number": null
    },
    {
     "cell_type": "code",
     "collapsed": false,
     "input": [
      "genHMM(markov_model, 3, possible_outputs, output_probabilites)"
     ],
     "language": "python",
     "metadata": {},
     "outputs": [],
     "prompt_number": null
    },
    {
     "cell_type": "markdown",
     "metadata": {},
     "source": [
      "By Andr\u00e9s Cabrera mantaraya36@gmail.com\n",
      "\n",
      "For course MAT 201A at UCSB\n",
      "\n",
      "This ipython notebook is licensed under the CC-BY-NC-SA license: http://creativecommons.org/licenses/by-nc-sa/4.0/\n",
      "\n",
      "![http://i.creativecommons.org/l/by-nc-sa/3.0/88x31.png](http://i.creativecommons.org/l/by-nc-sa/3.0/88x31.png)"
     ]
    }
   ],
   "metadata": {}
  }
 ]
}
