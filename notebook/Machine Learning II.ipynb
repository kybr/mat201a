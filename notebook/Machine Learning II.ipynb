{
 "cells": [
  {
   "cell_type": "code",
   "execution_count": null,
   "metadata": {},
   "outputs": [],
   "source": [
    "%pylab inline\n",
    "rcParams['figure.figsize'] = (10, 4) #wide graphs by default\n",
    "from __future__ import print_function\n",
    "from __future__ import division\n",
    "\n",
    "# this is here to make GraphViz work for me...\n",
    "# try GraphViz: http://www.graphviz.org/Gallery.php\n",
    "import os     \n",
    "os.environ[\"PATH\"] += os.pathsep + '/usr/local/bin'\n",
    "\n",
    "\n",
    "# A lot of code below borrowed from the scikits learn docs"
   ]
  },
  {
   "cell_type": "markdown",
   "metadata": {},
   "source": [
    "http://peekaboo-vision.blogspot.com/2013/01/machine-learning-cheat-sheet-for-scikit.html\n",
    "\n",
    "![http://1.bp.blogspot.com/-ME24ePzpzIM/UQLWTwurfXI/AAAAAAAAANw/W3EETIroA80/s1600/drop_shadows_background.png](http://1.bp.blogspot.com/-ME24ePzpzIM/UQLWTwurfXI/AAAAAAAAANw/W3EETIroA80/s1600/drop_shadows_background.png)"
   ]
  },
  {
   "cell_type": "code",
   "execution_count": null,
   "metadata": {},
   "outputs": [],
   "source": [
    "from sklearn.datasets import load_iris\n",
    "data = load_iris()"
   ]
  },
  {
   "cell_type": "markdown",
   "metadata": {},
   "source": [
    "# Desicion Trees"
   ]
  },
  {
   "cell_type": "markdown",
   "metadata": {},
   "source": [
    "http://scikit-learn.org/stable/modules/tree.html"
   ]
  },
  {
   "cell_type": "code",
   "execution_count": null,
   "metadata": {},
   "outputs": [],
   "source": [
    "from sklearn import tree"
   ]
  },
  {
   "cell_type": "code",
   "execution_count": null,
   "metadata": {},
   "outputs": [],
   "source": [
    "clf = tree.DecisionTreeClassifier()\n",
    "clf.fit(data.data, data.target) # generates a decision tree!"
   ]
  },
  {
   "cell_type": "code",
   "execution_count": null,
   "metadata": {},
   "outputs": [],
   "source": [
    "clf.predict([data.data[0]])"
   ]
  },
  {
   "cell_type": "code",
   "execution_count": null,
   "metadata": {},
   "outputs": [],
   "source": [
    "clf.predict([data.data[10]])"
   ]
  },
  {
   "cell_type": "code",
   "execution_count": null,
   "metadata": {},
   "outputs": [],
   "source": [
    "clf.predict(data.data)"
   ]
  },
  {
   "cell_type": "code",
   "execution_count": null,
   "metadata": {},
   "outputs": [],
   "source": [
    "from IPython.display import Image #needed to render in notebook\n",
    "import io, pydot  #needed to convert dot format to png\n",
    "\n",
    "dot_data = io.StringIO()\n",
    "tree.export_graphviz(clf, out_file=dot_data) \n",
    "graph = pydot.graph_from_dot_data(dot_data.getvalue())\n",
    "graph[0]\n",
    "Image(graph[0].create_png())"
   ]
  },
  {
   "cell_type": "markdown",
   "metadata": {},
   "source": [
    "See [Decision tree](https://en.wikipedia.org/wiki/Decision_tree) and [Decision tree learning](https://en.wikipedia.org/wiki/Decision_tree_learning). Also, try [GraphViz](http://www.graphviz.org/Gallery.php). You will have to install GraphViz and configure your path to make the graph above apear on your system.\n",
    "\n",
    "# Cross-validation\n",
    "- http://scikit-learn.org/stable/modules/cross_validation.html#cross-validation\n",
    "- http://scikit-learn.org/stable/model_selection.html"
   ]
  },
  {
   "cell_type": "code",
   "execution_count": null,
   "metadata": {},
   "outputs": [],
   "source": [
    "from sklearn.naive_bayes import GaussianNB\n",
    "clf2 = GaussianNB()\n",
    "clf2.fit(data.data, data.target)"
   ]
  },
  {
   "cell_type": "code",
   "execution_count": null,
   "metadata": {},
   "outputs": [],
   "source": [
    "from sklearn import model_selection"
   ]
  },
  {
   "cell_type": "code",
   "execution_count": null,
   "metadata": {},
   "outputs": [],
   "source": [
    "#from sklearn.model_selection import KFold\n",
    "# http://scikit-learn.org/stable/modules/cross_validation.html#k-fold\n",
    "pc_folds = []\n",
    "kf = model_selection.KFold(n_splits=10, shuffle=True, random_state=2)\n",
    "for train, test in kf.split(data.data):\n",
    "    clf2 = GaussianNB()\n",
    "    clf2.fit(data.data[train], data.target[train])\n",
    "    predictions = clf2.predict(data.data[test])\n",
    "    pc_right = sum(predictions == data.target[test]) / float(len(test))\n",
    "    pc_folds.append(pc_right)"
   ]
  },
  {
   "cell_type": "code",
   "execution_count": null,
   "metadata": {},
   "outputs": [],
   "source": [
    "array(pc_folds).mean(), pc_folds"
   ]
  },
  {
   "cell_type": "code",
   "execution_count": null,
   "metadata": {},
   "outputs": [],
   "source": [
    "mean(pc_folds)"
   ]
  },
  {
   "cell_type": "code",
   "execution_count": null,
   "metadata": {},
   "outputs": [],
   "source": [
    "min(pc_folds)"
   ]
  },
  {
   "cell_type": "markdown",
   "metadata": {},
   "source": [
    "## Metrics\n",
    "- http://scikit-learn.org/stable/modules/model_evaluation.html#model-evaluation\n",
    "- http://scikit-learn.org/stable/modules/classes.html#sklearn-metrics-metrics"
   ]
  },
  {
   "cell_type": "code",
   "execution_count": null,
   "metadata": {},
   "outputs": [],
   "source": [
    "from sklearn import metrics"
   ]
  },
  {
   "cell_type": "code",
   "execution_count": null,
   "metadata": {},
   "outputs": [],
   "source": [
    "predictions = clf2.predict(data.data)\n",
    "predictions"
   ]
  },
  {
   "cell_type": "code",
   "execution_count": null,
   "metadata": {},
   "outputs": [],
   "source": [
    "metrics.accuracy_score(data.target, predictions)"
   ]
  },
  {
   "cell_type": "code",
   "execution_count": null,
   "metadata": {},
   "outputs": [],
   "source": [
    "print(metrics.classification_report(data.target, predictions))"
   ]
  },
  {
   "cell_type": "markdown",
   "metadata": {},
   "source": [
    "<http://www.dataschool.io/simple-guide-to-confusion-matrix-terminology/>"
   ]
  },
  {
   "cell_type": "code",
   "execution_count": null,
   "metadata": {},
   "outputs": [],
   "source": [
    "metrics.confusion_matrix(data.target, predictions)"
   ]
  },
  {
   "cell_type": "code",
   "execution_count": null,
   "metadata": {},
   "outputs": [],
   "source": [
    "confmat = metrics.confusion_matrix(data.target, predictions)\n",
    "imshow(confmat,interpolation='nearest', cmap=cm.gray_r)\n",
    "pass"
   ]
  },
  {
   "cell_type": "code",
   "execution_count": null,
   "metadata": {},
   "outputs": [],
   "source": [
    "confmat = metrics.confusion_matrix(data.target, predictions)\n",
    "\n",
    "imshow(confmat.max() - confmat,interpolation='nearest', cmap=cm.gray)\n",
    "\n",
    "for rownum, row in enumerate(confmat):\n",
    "    for colnum, val in enumerate(row):\n",
    "        text(colnum, rownum, str(val/sum(data.target == rownum).astype(float)), fontsize=24, color='black' if val < confmat.max()/2 else 'white', ha='center', va='center' )\n",
    "        \n",
    "xticks(arange(len(data.target_names)), data.target_names)\n",
    "yticks(arange(len(data.target_names)), data.target_names)\n",
    "pass"
   ]
  },
  {
   "cell_type": "markdown",
   "metadata": {},
   "source": [
    "Here's an example of a [Confusion matrix](https://en.wikipedia.org/wiki/Confusion_matrix) from here: http://media.aau.dk/null_space_pursuits/2012/01/frustrations-with-music-genre.html\n",
    "![](http://media.aau.dk/null_space_pursuits/2012/01/21/confusion.png)"
   ]
  },
  {
   "cell_type": "markdown",
   "metadata": {},
   "source": [
    "# Dimensionality reduction"
   ]
  },
  {
   "cell_type": "markdown",
   "metadata": {},
   "source": [
    "http://nbviewer.ipython.org/github/rasbt/pattern_classification/blob/master/dimensionality_reduction/projection/principal_component_analysis.ipynb\n",
    "\n",
    "http://gael-varoquaux.info/science/ica_vs_pca.html\n",
    "\n",
    "From: http://nbviewer.ipython.org/github/temporaer/tutorial_ml_gkbionics/blob/master/1%20-%20PCA.ipynb"
   ]
  },
  {
   "cell_type": "code",
   "execution_count": null,
   "metadata": {},
   "outputs": [],
   "source": [
    "Cov = array([[2.9, -2.2], [-2.2, 6.5]])\n",
    "X = random.multivariate_normal([1, 2], Cov, size=200)\n",
    "figure(figsize=(4, 4))\n",
    "scatter(X[:,0], X[:,1])\n",
    "axis('equal') # equal scaling on both axis;"
   ]
  },
  {
   "cell_type": "markdown",
   "metadata": {},
   "source": [
    "http://en.wikipedia.org/wiki/Multivariate_normal_distribution"
   ]
  },
  {
   "cell_type": "code",
   "execution_count": null,
   "metadata": {},
   "outputs": [],
   "source": [
    "print(cov(X, rowvar=False), '\\n\\n', Cov)"
   ]
  },
  {
   "cell_type": "markdown",
   "metadata": {},
   "source": [
    "## [Principal component analysis](https://en.wikipedia.org/wiki/Principal_component_analysis)\n",
    "- http://setosa.io/ev/principal-component-analysis\n",
    "- http://gael-varoquaux.info/science/ica_vs_pca.html"
   ]
  },
  {
   "cell_type": "code",
   "execution_count": null,
   "metadata": {},
   "outputs": [],
   "source": [
    "from sklearn.decomposition import PCA\n",
    "pca = PCA()"
   ]
  },
  {
   "cell_type": "code",
   "execution_count": null,
   "metadata": {},
   "outputs": [],
   "source": [
    "X_pca = pca.fit_transform(X) # supervised or unsupervised?"
   ]
  },
  {
   "cell_type": "code",
   "execution_count": null,
   "metadata": {},
   "outputs": [],
   "source": [
    "pca.components_, pca.mean_ # components are vectors in N-d space"
   ]
  },
  {
   "cell_type": "code",
   "execution_count": null,
   "metadata": {},
   "outputs": [],
   "source": [
    "figure(figsize=(4, 4))\n",
    "scatter(X_pca[:,0], X_pca[:,1])\n",
    "# axis('equal');\n",
    "axis('equal') # equal scaling on both axis;"
   ]
  },
  {
   "cell_type": "code",
   "execution_count": null,
   "metadata": {},
   "outputs": [],
   "source": [
    "print(cov(X, rowvar=False))\n",
    "var(X_pca[:,1]), var(X_pca[:,0])"
   ]
  },
  {
   "cell_type": "markdown",
   "metadata": {},
   "source": [
    "## [Hidden Markov Models](https://en.wikipedia.org/wiki/Hidden_Markov_model)"
   ]
  },
  {
   "cell_type": "code",
   "execution_count": null,
   "metadata": {},
   "outputs": [],
   "source": [
    "notes = [\"A\", \"B\", \"C\", \"D\"]\n",
    "\n",
    "markov_model = [[0.5, 0.3, 0.2, 0.0],\n",
    "                [0.2, 0.1, 0.6, 0.1],\n",
    "                [0.1, 0.0, 0.2, 0.7],\n",
    "                [0.0, 0.0, 0.9, 0.1]]\n",
    "state = random.randint(0, 4)\n",
    "print(state)"
   ]
  },
  {
   "cell_type": "code",
   "execution_count": null,
   "metadata": {},
   "outputs": [],
   "source": [
    "throw = random.random()\n",
    "print(throw)"
   ]
  },
  {
   "cell_type": "code",
   "execution_count": null,
   "metadata": {},
   "outputs": [],
   "source": [
    "probabilities = markov_model[state]\n",
    "probabilities"
   ]
  },
  {
   "cell_type": "code",
   "execution_count": null,
   "metadata": {},
   "outputs": [],
   "source": [
    "cumsum(probabilities) # ...cumulative sum of the elements along a given axis"
   ]
  },
  {
   "cell_type": "code",
   "execution_count": null,
   "metadata": {},
   "outputs": [],
   "source": [
    "cumsum(probabilities) > throw"
   ]
  },
  {
   "cell_type": "code",
   "execution_count": null,
   "metadata": {},
   "outputs": [],
   "source": [
    "argmax(cumsum(probabilities) > throw)"
   ]
  },
  {
   "cell_type": "code",
   "execution_count": null,
   "metadata": {},
   "outputs": [],
   "source": [
    "state = argmax(cumsum(probabilities) > throw)\n",
    "print(state)"
   ]
  },
  {
   "cell_type": "code",
   "execution_count": null,
   "metadata": {},
   "outputs": [],
   "source": [
    "throw = random.random()\n",
    "state = argmax(cumsum(probabilities) > throw)\n",
    "probabilities = markov_model[state]\n",
    "print(state)"
   ]
  },
  {
   "cell_type": "code",
   "execution_count": null,
   "metadata": {},
   "outputs": [],
   "source": [
    "throw = random.random()\n",
    "state = argmax(cumsum(probabilities) > throw)\n",
    "probabilities = markov_model[state]\n",
    "print(state)"
   ]
  },
  {
   "cell_type": "code",
   "execution_count": null,
   "metadata": {},
   "outputs": [],
   "source": [
    "def markov(matrix, state, num_iter=10):\n",
    "    out = [state]\n",
    "    probabilities = markov_model[state]\n",
    "    for i in range(num_iter):\n",
    "        throw = random.random()\n",
    "        state = argmax(cumsum(probabilities) > throw)\n",
    "        probabilities = markov_model[state]\n",
    "        out.append(state)\n",
    "    return out"
   ]
  },
  {
   "cell_type": "code",
   "execution_count": null,
   "metadata": {},
   "outputs": [],
   "source": [
    "markov(markov_model, 0)"
   ]
  },
  {
   "cell_type": "code",
   "execution_count": null,
   "metadata": {},
   "outputs": [],
   "source": [
    "markov_model"
   ]
  },
  {
   "cell_type": "code",
   "execution_count": null,
   "metadata": {},
   "outputs": [],
   "source": [
    "markov(markov_model, 3)"
   ]
  },
  {
   "cell_type": "markdown",
   "metadata": {},
   "source": [
    "Hidden Markov Models have a \"hidden\" internal state which determines the output"
   ]
  },
  {
   "cell_type": "code",
   "execution_count": null,
   "metadata": {},
   "outputs": [],
   "source": [
    "possible_outputs = ['M', 'N', 'O']\n",
    "output_probabilites = [[0.1, 0.9, 0.0],\n",
    "                       [0.8, 0.1, 0.1],\n",
    "                       [0.1, 0.0, 0.9],\n",
    "                       [0.2, 0.3, 0.5]]"
   ]
  },
  {
   "cell_type": "code",
   "execution_count": null,
   "metadata": {},
   "outputs": [],
   "source": [
    "states = markov(markov_model, 3)\n",
    "for state in states:\n",
    "    throw = random.random()\n",
    "    out_index = argmax(cumsum(output_probabilites[state]) > throw)\n",
    "    print(possible_outputs[out_index])"
   ]
  },
  {
   "cell_type": "code",
   "execution_count": null,
   "metadata": {},
   "outputs": [],
   "source": [
    "def genHMM(markov_model, initial_state, possible_outputs, output_probabilites, num_iter=10):\n",
    "    out = []\n",
    "    states = markov(markov_model, initial_state)\n",
    "    for state in states:\n",
    "        throw = random.random()\n",
    "        out_index = argmax(cumsum(output_probabilites[state]) > throw)\n",
    "        out.append(possible_outputs[out_index])\n",
    "    return out, states"
   ]
  },
  {
   "cell_type": "code",
   "execution_count": null,
   "metadata": {},
   "outputs": [],
   "source": [
    "genHMM(markov_model, 3, possible_outputs, output_probabilites)"
   ]
  },
  {
   "cell_type": "markdown",
   "metadata": {},
   "source": [
    "HMMs have been removed from sklearn, but they are still available as an ongoing, related project. \n",
    "- http://hmmlearn.readthedocs.io/en/latest/tutorial.html\n",
    "- http://scikit-learn.org/stable/related_projects.html"
   ]
  },
  {
   "cell_type": "markdown",
   "metadata": {},
   "source": [
    "By Andrés Cabrera mantaraya36@gmail.com\n",
    "\n",
    "For course MAT 201A at UCSB\n",
    "\n",
    "Adapted by Karl Yerkes\n",
    "\n",
    "This ipython notebook is licensed under the CC-BY-NC-SA license: http://creativecommons.org/licenses/by-nc-sa/4.0/\n",
    "\n",
    "![http://i.creativecommons.org/l/by-nc-sa/3.0/88x31.png](http://i.creativecommons.org/l/by-nc-sa/3.0/88x31.png)"
   ]
  }
 ],
 "metadata": {
  "kernelspec": {
   "display_name": "Python 3",
   "language": "python",
   "name": "python3"
  },
  "language_info": {
   "codemirror_mode": {
    "name": "ipython",
    "version": 3
   },
   "file_extension": ".py",
   "mimetype": "text/x-python",
   "name": "python",
   "nbconvert_exporter": "python",
   "pygments_lexer": "ipython3",
   "version": "3.6.1"
  }
 },
 "nbformat": 4,
 "nbformat_minor": 1
}
