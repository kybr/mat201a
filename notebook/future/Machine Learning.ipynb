{
 "metadata": {
  "name": ""
 },
 "nbformat": 3,
 "nbformat_minor": 0,
 "worksheets": [
  {
   "cells": [
    {
     "cell_type": "code",
     "collapsed": false,
     "input": [
      "%pylab inline\n",
      "rcParams['figure.figsize'] = (10, 4) #wide graphs by default\n",
      "from __future__ import print_function\n",
      "from __future__ import division"
     ],
     "language": "python",
     "metadata": {},
     "outputs": [],
     "prompt_number": null
    },
    {
     "cell_type": "heading",
     "level": 2,
     "metadata": {},
     "source": [
      "Machine Learning"
     ]
    },
    {
     "cell_type": "code",
     "collapsed": false,
     "input": [
      "from sklearn.datasets import load_iris\n",
      "\n",
      "# most examples here are based on examples from the sklearn docs"
     ],
     "language": "python",
     "metadata": {},
     "outputs": [],
     "prompt_number": null
    },
    {
     "cell_type": "code",
     "collapsed": false,
     "input": [
      "data = load_iris()"
     ],
     "language": "python",
     "metadata": {},
     "outputs": [],
     "prompt_number": null
    },
    {
     "cell_type": "code",
     "collapsed": false,
     "input": [
      "data"
     ],
     "language": "python",
     "metadata": {},
     "outputs": [],
     "prompt_number": null
    },
    {
     "cell_type": "code",
     "collapsed": false,
     "input": [
      "type(data)"
     ],
     "language": "python",
     "metadata": {},
     "outputs": [],
     "prompt_number": null
    },
    {
     "cell_type": "code",
     "collapsed": false,
     "input": [
      "print(data['DESCR'])"
     ],
     "language": "python",
     "metadata": {},
     "outputs": [],
     "prompt_number": null
    },
    {
     "cell_type": "code",
     "collapsed": false,
     "input": [
      "data['data'].shape"
     ],
     "language": "python",
     "metadata": {},
     "outputs": [],
     "prompt_number": null
    },
    {
     "cell_type": "markdown",
     "metadata": {},
     "source": [
      "For sklearn \"Bunches\", you can use key names as members of the object too:"
     ]
    },
    {
     "cell_type": "code",
     "collapsed": false,
     "input": [
      "data.data.shape"
     ],
     "language": "python",
     "metadata": {},
     "outputs": [],
     "prompt_number": null
    },
    {
     "cell_type": "code",
     "collapsed": false,
     "input": [
      "data.feature_names"
     ],
     "language": "python",
     "metadata": {},
     "outputs": [],
     "prompt_number": null
    },
    {
     "cell_type": "code",
     "collapsed": false,
     "input": [
      "data.target"
     ],
     "language": "python",
     "metadata": {},
     "outputs": [],
     "prompt_number": null
    },
    {
     "cell_type": "code",
     "collapsed": false,
     "input": [
      "data.target.shape"
     ],
     "language": "python",
     "metadata": {},
     "outputs": [],
     "prompt_number": null
    },
    {
     "cell_type": "code",
     "collapsed": false,
     "input": [
      "data.target_names"
     ],
     "language": "python",
     "metadata": {},
     "outputs": [],
     "prompt_number": null
    },
    {
     "cell_type": "markdown",
     "metadata": {},
     "source": [
      "To find a set:"
     ]
    },
    {
     "cell_type": "code",
     "collapsed": false,
     "input": [
      "virginicas = argwhere(data.target == list(data.target_names).index('virginica'))[:,0]\n",
      "print(virginicas)"
     ],
     "language": "python",
     "metadata": {},
     "outputs": [],
     "prompt_number": null
    },
    {
     "cell_type": "code",
     "collapsed": false,
     "input": [
      "feature = 1\n",
      "data.feature_names[feature]"
     ],
     "language": "python",
     "metadata": {},
     "outputs": [],
     "prompt_number": null
    },
    {
     "cell_type": "code",
     "collapsed": false,
     "input": [
      "data.data[virginicas].shape"
     ],
     "language": "python",
     "metadata": {},
     "outputs": [],
     "prompt_number": null
    },
    {
     "cell_type": "code",
     "collapsed": false,
     "input": [
      "data.data[virginicas][:,1].mean()"
     ],
     "language": "python",
     "metadata": {},
     "outputs": [],
     "prompt_number": null
    },
    {
     "cell_type": "code",
     "collapsed": false,
     "input": [
      "data.data[virginicas][:,1].var()"
     ],
     "language": "python",
     "metadata": {},
     "outputs": [],
     "prompt_number": null
    },
    {
     "cell_type": "code",
     "collapsed": false,
     "input": [
      "plot(data.data[virginicas][:,1])"
     ],
     "language": "python",
     "metadata": {},
     "outputs": [],
     "prompt_number": null
    },
    {
     "cell_type": "code",
     "collapsed": false,
     "input": [
      "setosas = argwhere(data.target == list(data.target_names).index('setosa'))[:,0]\n",
      "\n",
      "plot(data.data[virginicas][:,1])\n",
      "plot(data.data[setosas][:,1])"
     ],
     "language": "python",
     "metadata": {},
     "outputs": [],
     "prompt_number": null
    },
    {
     "cell_type": "code",
     "collapsed": false,
     "input": [
      "versicolors = argwhere(data.target == list(data.target_names).index('versicolor'))[:,0]\n",
      "\n",
      "plot(data.data[virginicas][:,1])\n",
      "plot(data.data[setosas][:,1])\n",
      "plot(data.data[versicolors][:,1])\n",
      "\n",
      "title(\"Feature: \" + data.feature_names[1])\n",
      "legend(['virginica', 'setosa', 'versicolor'])"
     ],
     "language": "python",
     "metadata": {},
     "outputs": [],
     "prompt_number": null
    },
    {
     "cell_type": "code",
     "collapsed": false,
     "input": [
      "feature = 0\n",
      "\n",
      "plot(data.data[virginicas][:,feature])\n",
      "plot(data.data[setosas][:,feature])\n",
      "plot(data.data[versicolors][:,feature])\n",
      "\n",
      "title(\"Feature: \" + data.feature_names[feature])\n",
      "legend(['virginica', 'setosa', 'versicolor'])"
     ],
     "language": "python",
     "metadata": {},
     "outputs": [],
     "prompt_number": null
    },
    {
     "cell_type": "markdown",
     "metadata": {},
     "source": [
      "Taking the first two features for all samples:"
     ]
    },
    {
     "cell_type": "code",
     "collapsed": false,
     "input": [
      "from matplotlib.colors import ListedColormap\n",
      "cmap_bold = ListedColormap(['#FF0000', '#00FF00', '#0000FF'])"
     ],
     "language": "python",
     "metadata": {},
     "outputs": [],
     "prompt_number": null
    },
    {
     "cell_type": "code",
     "collapsed": false,
     "input": [
      "scatter(data.data[:, 0], data.data[:, 1], c=data.target, cmap=cmap_bold)\n",
      "xlabel(data.feature_names[0])\n",
      "ylabel(data.feature_names[1])"
     ],
     "language": "python",
     "metadata": {},
     "outputs": [],
     "prompt_number": null
    },
    {
     "cell_type": "heading",
     "level": 1,
     "metadata": {},
     "source": [
      "Baseline Classifiers"
     ]
    },
    {
     "cell_type": "markdown",
     "metadata": {},
     "source": [
      "http://scikit-learn.org/stable/modules/generated/sklearn.dummy.DummyClassifier.html#sklearn.dummy.DummyClassifier"
     ]
    },
    {
     "cell_type": "code",
     "collapsed": false,
     "input": [
      "from sklearn.dummy import DummyClassifier\n",
      "\n",
      "clf = DummyClassifier(strategy='uniform')"
     ],
     "language": "python",
     "metadata": {},
     "outputs": [],
     "prompt_number": null
    },
    {
     "cell_type": "code",
     "collapsed": false,
     "input": [
      "# Training set (all the samples, just the first two features\n",
      "X = data.data[:, :2]\n",
      "y = data.target"
     ],
     "language": "python",
     "metadata": {},
     "outputs": [],
     "prompt_number": null
    },
    {
     "cell_type": "code",
     "collapsed": false,
     "input": [
      "clf.fit(X, y)"
     ],
     "language": "python",
     "metadata": {},
     "outputs": [],
     "prompt_number": null
    },
    {
     "cell_type": "code",
     "collapsed": false,
     "input": [
      "clf.predict((7.2, 2.5))"
     ],
     "language": "python",
     "metadata": {},
     "outputs": [],
     "prompt_number": null
    },
    {
     "cell_type": "code",
     "collapsed": false,
     "input": [
      "clf.predict((7.2, 2.5))"
     ],
     "language": "python",
     "metadata": {},
     "outputs": [],
     "prompt_number": null
    },
    {
     "cell_type": "heading",
     "level": 1,
     "metadata": {},
     "source": [
      "k-Nearest Neighbor Classifiers"
     ]
    },
    {
     "cell_type": "code",
     "collapsed": false,
     "input": [
      "from sklearn import neighbors"
     ],
     "language": "python",
     "metadata": {},
     "outputs": [],
     "prompt_number": null
    },
    {
     "cell_type": "code",
     "collapsed": false,
     "input": [
      "X = data.data[:, :2]\n",
      "y = data.target"
     ],
     "language": "python",
     "metadata": {},
     "outputs": [],
     "prompt_number": null
    },
    {
     "cell_type": "code",
     "collapsed": false,
     "input": [
      "n_neighbors = 15\n",
      "clf = neighbors.KNeighborsClassifier(n_neighbors, )\n",
      "clf.fit(X, y)"
     ],
     "language": "python",
     "metadata": {},
     "outputs": [],
     "prompt_number": null
    },
    {
     "cell_type": "code",
     "collapsed": false,
     "input": [
      "clf.predict((7.2, 2.5))"
     ],
     "language": "python",
     "metadata": {},
     "outputs": [],
     "prompt_number": null
    },
    {
     "cell_type": "code",
     "collapsed": false,
     "input": [
      "clf.predict((5.0, 3.5))"
     ],
     "language": "python",
     "metadata": {},
     "outputs": [],
     "prompt_number": null
    },
    {
     "cell_type": "code",
     "collapsed": false,
     "input": [
      "scatter(data.data[:, 0], data.data[:, 1], c=data.target, cmap=cmap_bold)\n",
      "xlabel(data.feature_names[0])\n",
      "ylabel(data.feature_names[1])\n",
      "scatter(*zip((7.2, 2.5),(5.0, 3.5)), c='purple', marker='x', lw=8)"
     ],
     "language": "python",
     "metadata": {},
     "outputs": [],
     "prompt_number": null
    },
    {
     "cell_type": "markdown",
     "metadata": {},
     "source": [
      "Showing the desicion boundary"
     ]
    },
    {
     "cell_type": "code",
     "collapsed": false,
     "input": [
      "h = .02  # step size in the mesh\n",
      "\n",
      "x_min, x_max = X[:, 0].min() - 1, X[:, 0].max() + 1\n",
      "y_min, y_max = X[:, 1].min() - 1, X[:, 1].max() + 1\n",
      "xx, yy = np.meshgrid(np.arange(x_min, x_max, h),\n",
      "                     np.arange(y_min, y_max, h))\n",
      "\n",
      "xx"
     ],
     "language": "python",
     "metadata": {},
     "outputs": [],
     "prompt_number": null
    },
    {
     "cell_type": "markdown",
     "metadata": {},
     "source": [
      "Now get the prediction for each point in the mesh"
     ]
    },
    {
     "cell_type": "code",
     "collapsed": false,
     "input": [
      "Z = clf.predict(c_[xx.ravel(), yy.ravel()])\n",
      "\n",
      "Z = Z.reshape(xx.shape)\n",
      "pcolormesh(xx, yy, Z, cmap=cmap_bold)"
     ],
     "language": "python",
     "metadata": {},
     "outputs": [],
     "prompt_number": null
    },
    {
     "cell_type": "markdown",
     "metadata": {},
     "source": [
      "The number of neighbors affects the classification boundaries"
     ]
    },
    {
     "cell_type": "code",
     "collapsed": false,
     "input": [
      "n_neighbors = [5, 10, 15, 50]\n",
      "\n",
      "X = data.data[:, :2]  # we only take the first two features. We could\n",
      "                      # avoid this ugly slicing by using a two-dim dataset\n",
      "y = data.target\n",
      "h = .02  # step size in the mesh\n",
      "sp = 1\n",
      "for n in n_neighbors:\n",
      "    # we create an instance of Neighbours Classifier and fit the data.\n",
      "    clf = neighbors.KNeighborsClassifier(n, weights='distance')\n",
      "    clf.fit(X, y)\n",
      "\n",
      "    # Plot the decision boundary. For that, we will assign a color to each\n",
      "    # point in the mesh [x_min, m_max]x[y_min, y_max].\n",
      "    x_min, x_max = X[:, 0].min() - 1, X[:, 0].max() + 1\n",
      "    y_min, y_max = X[:, 1].min() - 1, X[:, 1].max() + 1\n",
      "    xx, yy = np.meshgrid(np.arange(x_min, x_max, h),\n",
      "                         np.arange(y_min, y_max, h))\n",
      "    Z = clf.predict(np.c_[xx.ravel(), yy.ravel()])\n",
      "\n",
      "    # Put the result into a color plot\n",
      "    Z = Z.reshape(xx.shape)\n",
      "    \n",
      "    subplot(1,4,sp); sp += 1 \n",
      "    pcolormesh(xx, yy, Z, cmap=cmap_bold)\n",
      "\n",
      "    xlim(xx.min(), xx.max())\n",
      "    ylim(yy.min(), yy.max())\n",
      "    title(\"k = %i\"% (n))"
     ],
     "language": "python",
     "metadata": {},
     "outputs": [],
     "prompt_number": null
    },
    {
     "cell_type": "markdown",
     "metadata": {},
     "source": [
      "Distance can be measured in many ways!\n",
      "\n",
      "http://scikit-learn.org/stable/modules/generated/sklearn.neighbors.DistanceMetric.html"
     ]
    },
    {
     "cell_type": "code",
     "collapsed": false,
     "input": [
      "n_neighbors = 5\n",
      "\n",
      "X = data.data[:, :2]  # we only take the first two features. We could\n",
      "                      # avoid this ugly slicing by using a two-dim dataset\n",
      "y = data.target\n",
      "h = .02  # step size in the mesh\n",
      "\n",
      "# Create color maps\n",
      "\n",
      "for weights in ['uniform', 'distance']:\n",
      "    # we create an instance of Neighbours Classifier and fit the data.\n",
      "    clf = neighbors.KNeighborsClassifier(n_neighbors, weights=weights)\n",
      "    clf.fit(X, y)\n",
      "\n",
      "    # Plot the decision boundary. For that, we will assign a color to each\n",
      "    # point in the mesh [x_min, m_max]x[y_min, y_max].\n",
      "    x_min, x_max = X[:, 0].min() - 1, X[:, 0].max() + 1\n",
      "    y_min, y_max = X[:, 1].min() - 1, X[:, 1].max() + 1\n",
      "    xx, yy = np.meshgrid(np.arange(x_min, x_max, h),\n",
      "                         np.arange(y_min, y_max, h))\n",
      "    Z = clf.predict(np.c_[xx.ravel(), yy.ravel()])\n",
      "\n",
      "    # Put the result into a color plot\n",
      "    Z = Z.reshape(xx.shape)\n",
      "    figure()\n",
      "    pcolormesh(xx, yy, Z, cmap=cmap_bold)\n",
      "\n",
      "    # Plot also the training points\n",
      "    scatter(X[:, 0], X[:, 1], c=y, cmap=cmap_bold)\n",
      "    xlim(xx.min(), xx.max())\n",
      "    ylim(yy.min(), yy.max())\n",
      "    title(\"3-Class classification (k = %i, weights = '%s')\"\n",
      "             % (n_neighbors, weights))"
     ],
     "language": "python",
     "metadata": {},
     "outputs": [],
     "prompt_number": null
    },
    {
     "cell_type": "markdown",
     "metadata": {},
     "source": [
      "How do I ask for a prediction using 4 features?"
     ]
    },
    {
     "cell_type": "code",
     "collapsed": false,
     "input": [
      "n_neighbors = 15\n",
      "\n",
      "X = data.data[:, :]  # we only take the first two features. We could\n",
      "                      # avoid this ugly slicing by using a two-dim dataset\n",
      "y = data.target\n",
      "clf = neighbors.KNeighborsClassifier(n_neighbors, weights='uniform')\n",
      "clf.fit(X, y)"
     ],
     "language": "python",
     "metadata": {},
     "outputs": [],
     "prompt_number": null
    },
    {
     "cell_type": "code",
     "collapsed": false,
     "input": [
      "clf.predict((7.2, 2.5, 3.0, 3.0))"
     ],
     "language": "python",
     "metadata": {},
     "outputs": [],
     "prompt_number": null
    },
    {
     "cell_type": "code",
     "collapsed": false,
     "input": [
      "clf.predict((7.2, 2.5, 5.0, 2.4))"
     ],
     "language": "python",
     "metadata": {},
     "outputs": [],
     "prompt_number": null
    },
    {
     "cell_type": "code",
     "collapsed": false,
     "input": [
      "data.data[120, :]"
     ],
     "language": "python",
     "metadata": {},
     "outputs": [],
     "prompt_number": null
    },
    {
     "cell_type": "heading",
     "level": 1,
     "metadata": {},
     "source": [
      "Generative probabilistic approaches"
     ]
    },
    {
     "cell_type": "heading",
     "level": 2,
     "metadata": {},
     "source": [
      "Naive Bayes Classifier"
     ]
    },
    {
     "cell_type": "code",
     "collapsed": false,
     "input": [
      "X = data.data[:, :2]"
     ],
     "language": "python",
     "metadata": {},
     "outputs": [],
     "prompt_number": null
    },
    {
     "cell_type": "code",
     "collapsed": false,
     "input": [
      "from sklearn.naive_bayes import GaussianNB"
     ],
     "language": "python",
     "metadata": {},
     "outputs": [],
     "prompt_number": null
    },
    {
     "cell_type": "code",
     "collapsed": false,
     "input": [
      "clf = GaussianNB()\n",
      "\n",
      "clf.fit(X, y)\n",
      "\n",
      "Z = clf.predict(c_[xx.ravel(), yy.ravel()])\n",
      "\n",
      "Z = Z.reshape(xx.shape)\n",
      "pcolormesh(xx, yy, Z, cmap=cmap_bold)\n",
      "scatter(X[:, 0], X[:, 1], c=y, cmap=cmap_bold)\n",
      "xlim(xx.min(), xx.max())\n",
      "ylim(yy.min(), yy.max())"
     ],
     "language": "python",
     "metadata": {},
     "outputs": [],
     "prompt_number": null
    },
    {
     "cell_type": "code",
     "collapsed": false,
     "input": [
      "from sklearn.mixture import GMM"
     ],
     "language": "python",
     "metadata": {},
     "outputs": [],
     "prompt_number": null
    },
    {
     "cell_type": "code",
     "collapsed": false,
     "input": [
      "clf = GMM(n_components=3)\n",
      "\n",
      "clf.fit(X)\n",
      "\n",
      "Z = clf.predict(c_[xx.ravel(), yy.ravel()])\n",
      "\n",
      "Z = Z.reshape(xx.shape)\n",
      "pcolormesh(xx, yy, Z, cmap=cmap_bold)\n",
      "scatter(X[:, 0], X[:, 1], c=y, cmap=cmap_bold)\n",
      "xlim(xx.min(), xx.max())\n",
      "ylim(yy.min(), yy.max())"
     ],
     "language": "python",
     "metadata": {},
     "outputs": [],
     "prompt_number": null
    },
    {
     "cell_type": "heading",
     "level": 1,
     "metadata": {},
     "source": [
      "Decision Hyperplanes"
     ]
    },
    {
     "cell_type": "markdown",
     "metadata": {},
     "source": [
      "http://scikit-learn.org/stable/modules/classes.html#module-sklearn.svm"
     ]
    },
    {
     "cell_type": "code",
     "collapsed": false,
     "input": [
      "from sklearn.svm import SVC"
     ],
     "language": "python",
     "metadata": {},
     "outputs": [],
     "prompt_number": null
    },
    {
     "cell_type": "code",
     "collapsed": false,
     "input": [
      "clf = SVC(kernel='linear')"
     ],
     "language": "python",
     "metadata": {},
     "outputs": [],
     "prompt_number": null
    },
    {
     "cell_type": "code",
     "collapsed": false,
     "input": [
      "clf.fit(X,y)"
     ],
     "language": "python",
     "metadata": {},
     "outputs": [],
     "prompt_number": null
    },
    {
     "cell_type": "code",
     "collapsed": false,
     "input": [
      "\n",
      "Z = clf.predict(c_[xx.ravel(), yy.ravel()])\n",
      "\n",
      "Z = Z.reshape(xx.shape)\n",
      "pcolormesh(xx, yy, Z, cmap=cmap_bold)\n",
      "scatter(X[:, 0], X[:, 1], c=y, cmap=cmap_bold)\n",
      "xlim(xx.min(), xx.max())\n",
      "ylim(yy.min(), yy.max())"
     ],
     "language": "python",
     "metadata": {},
     "outputs": [],
     "prompt_number": null
    },
    {
     "cell_type": "code",
     "collapsed": false,
     "input": [
      "clf = SVC()"
     ],
     "language": "python",
     "metadata": {},
     "outputs": [],
     "prompt_number": null
    },
    {
     "cell_type": "code",
     "collapsed": false,
     "input": [
      "clf.fit(data.data, data.target)"
     ],
     "language": "python",
     "metadata": {},
     "outputs": [],
     "prompt_number": null
    },
    {
     "cell_type": "code",
     "collapsed": false,
     "input": [
      "clf.predict(data.data[0:50])"
     ],
     "language": "python",
     "metadata": {},
     "outputs": [],
     "prompt_number": null
    },
    {
     "cell_type": "code",
     "collapsed": false,
     "input": [
      "clf.predict(data.data[50:100])"
     ],
     "language": "python",
     "metadata": {},
     "outputs": [],
     "prompt_number": null
    },
    {
     "cell_type": "code",
     "collapsed": false,
     "input": [
      "clf.predict(data.data[100:150])"
     ],
     "language": "python",
     "metadata": {},
     "outputs": [],
     "prompt_number": null
    },
    {
     "cell_type": "markdown",
     "metadata": {},
     "source": [
      "By: Andr\u00e9s Cabrera mantaraya36@gmail.com\n",
      "\n",
      "For Course MAT 201A at UCSB\n",
      "\n",
      "This ipython notebook is licensed under the CC-BY-NC-SA license: http://creativecommons.org/licenses/by-nc-sa/4.0/\n",
      "\n",
      "![http://i.creativecommons.org/l/by-nc-sa/3.0/88x31.png](http://i.creativecommons.org/l/by-nc-sa/3.0/88x31.png)"
     ]
    }
   ],
   "metadata": {}
  }
 ]
}
