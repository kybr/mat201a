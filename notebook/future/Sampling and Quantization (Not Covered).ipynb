{
 "cells": [
  {
   "cell_type": "code",
   "execution_count": null,
   "metadata": {},
   "outputs": [],
   "source": [
    "%pylab inline"
   ]
  },
  {
   "cell_type": "markdown",
   "metadata": {},
   "source": [
    "## A-law and $\\mu\\ \\ $-law"
   ]
  },
  {
   "cell_type": "markdown",
   "metadata": {},
   "source": [
    "The amplitude scale can be encoded \"warped\", i.e. non-linearly\n",
    "\n",
    "$$F(x) = sgn(x) \\frac{\\ln(1+ \\mu |x|)}{\\ln(1+\\mu)}~~~~-1 \\leq x \\leq 1$$\n",
    "\n",
    "http://en.wikipedia.org/wiki/Mu-law_algorithm\n",
    "\n",
    "The higher amplitudes are compressed to make the quantization non-linear."
   ]
  },
  {
   "cell_type": "code",
   "execution_count": null,
   "metadata": {},
   "outputs": [],
   "source": [
    "x = linspace(-1,1, 100)\n",
    "ylabel('out')\n",
    "xlabel('in')\n",
    "plot(x, x)\n",
    "grid()"
   ]
  },
  {
   "cell_type": "code",
   "execution_count": null,
   "metadata": {},
   "outputs": [],
   "source": [
    "x = linspace(-1,1, 100)\n",
    "bits = 8\n",
    "mu = (2**bits) - 1\n",
    "\n",
    "mu_shaping = sign(x)*log(1 + mu *abs(x))/log(1+mu)\n",
    "plot(x, x, label= 'linear')\n",
    "plot(x, mu_shaping, label= 'mu-law out')\n",
    "\n",
    "legend(loc='best')\n",
    "grid()"
   ]
  },
  {
   "cell_type": "code",
   "execution_count": null,
   "metadata": {},
   "outputs": [],
   "source": [
    "x = linspace(0, 2*pi, 100)\n",
    "y = sin(x)\n",
    "\n",
    "def mu_law(insig, nbits = 8):\n",
    "    mu = (2**nbits) - 1\n",
    "    return sign(insig)*log(1 + mu *abs(insig))/log(1+mu)\n",
    "\n",
    "plot(x, y)\n",
    "plot(x, mu_law(y))"
   ]
  },
  {
   "cell_type": "markdown",
   "metadata": {},
   "source": [
    "A-law:\n",
    "\n",
    "$$F(x) = sgn(x) \\begin{cases} {A |x| \\over 1 + \\ln(A)}, & |x| < {1 \\over A} \\frac{1+ \\ln(A |x|)}{1 + \\ln(A)}, & {1 \\over A} \\leq |x| \\leq 1, \\end{cases}$$\n",
    "\n",
    "http://en.wikipedia.org/w/index.php?title=A-law_algorithm&action=edit"
   ]
  },
  {
   "cell_type": "code",
   "execution_count": null,
   "metadata": {},
   "outputs": [],
   "source": [
    "x = linspace(-1,1, 100)\n",
    "A = 87.5\n",
    "x = linspace(-1,1, 100)\n",
    "a_shaping = sign(x) * where(abs(x) < 1/A, A*abs(x)/(1+log(A)), (1 + log(A*abs(x)))/(1+log(A)))\n",
    "plot(x, x,label = 'in')\n",
    "plot(x, mu_shaping, label= 'mu-law out')\n",
    "plot(x, a_shaping, label = 'A-law out')\n",
    "\n",
    "\n",
    "legend(loc='best')"
   ]
  },
  {
   "cell_type": "code",
   "execution_count": null,
   "metadata": {},
   "outputs": [],
   "source": [
    "plot(x, label = 'in')\n",
    "plot(x, mu_shaping, label= 'mu-law out')\n",
    "plot(x, a_shaping, label = 'A-law out')\n",
    "\n",
    "legend(loc='best')\n",
    "\n",
    "xlim((0,0.5))\n",
    "ylim((0,1))\n",
    "     "
   ]
  },
  {
   "cell_type": "markdown",
   "metadata": {},
   "source": [
    "Floating point formats can be thought of as \"adaptive\"\n",
    "\n",
    "Floating point formats are represented using mantissa and exponent. 32-bit floats: 24-bit mantissa and 8 bit exponent. "
   ]
  },
  {
   "cell_type": "markdown",
   "metadata": {},
   "source": [
    "# Digital to Analog conversion"
   ]
  },
  {
   "cell_type": "markdown",
   "metadata": {},
   "source": [
    "## Sample and hold"
   ]
  },
  {
   "cell_type": "code",
   "execution_count": null,
   "metadata": {},
   "outputs": [],
   "source": [
    "from scipy.interpolate import interp1d\n",
    "samplehold = interp1d(linspace(0,10, len(samples)), samples, kind='zero')\n",
    "new_x = linspace(0, 10, 500)\n",
    "plot(new_x, samplehold(new_x))"
   ]
  },
  {
   "cell_type": "markdown",
   "metadata": {},
   "source": [
    "## Low-pass filter"
   ]
  },
  {
   "cell_type": "code",
   "execution_count": null,
   "metadata": {},
   "outputs": [],
   "source": [
    "from scipy.signal import butter, lfilter\n",
    "\n",
    "b, a = butter(4, 0.2, 'low')\n",
    "lopassed = lfilter(b, a, samplehold(new_x))\n",
    "plot(lopassed)\n"
   ]
  },
  {
   "cell_type": "code",
   "execution_count": null,
   "metadata": {},
   "outputs": [],
   "source": [
    "\n",
    "b, a = butter(4, 0.1, 'low')\n",
    "lopassed = lfilter(b, a, samplehold(new_x))\n",
    "plot(lopassed)\n",
    "\n",
    "b, a = butter(4, 0.05, 'low')\n",
    "lopassed = lfilter(b, a, samplehold(new_x))\n",
    "plot(lopassed, lw=4)"
   ]
  },
  {
   "cell_type": "code",
   "execution_count": null,
   "metadata": {},
   "outputs": [],
   "source": [
    "from scipy.signal import bessel"
   ]
  },
  {
   "cell_type": "code",
   "execution_count": null,
   "metadata": {},
   "outputs": [],
   "source": [
    "b, a = bessel(10, 0.05, 'low')\n",
    "lopassed = lfilter(b, a, samplehold(new_x))\n",
    "plot(lopassed)\n"
   ]
  },
  {
   "cell_type": "code",
   "execution_count": null,
   "metadata": {},
   "outputs": [],
   "source": [
    "plot(new_x*50, jn(1,new_x))\n",
    "plot(lopassed)"
   ]
  },
  {
   "cell_type": "code",
   "execution_count": null,
   "metadata": {},
   "outputs": [],
   "source": [
    "plot(new_x*50, jn(1,new_x))\n",
    "plot(lopassed[58:])"
   ]
  },
  {
   "cell_type": "markdown",
   "metadata": {},
   "source": [
    "By: Andrés Cabrera mantaraya36@gmail.com\n",
    "For MAT course MAT 201A at UCSB\n",
    "\n",
    "This ipython notebook is licensed under the CC-BY-NC-SA license: http://creativecommons.org/licenses/by-nc-sa/4.0/\n",
    "\n",
    "![http://i.creativecommons.org/l/by-nc-sa/3.0/88x31.png](http://i.creativecommons.org/l/by-nc-sa/3.0/88x31.png)"
   ]
  }
 ],
 "metadata": {
  "kernelspec": {
   "display_name": "Python 3",
   "language": "python",
   "name": "python3"
  },
  "language_info": {
   "codemirror_mode": {
    "name": "ipython",
    "version": 2
   },
   "file_extension": ".py",
   "mimetype": "text/x-python",
   "name": "python",
   "nbconvert_exporter": "python",
   "pygments_lexer": "ipython2",
   "version": "2.7.13"
  }
 },
 "nbformat": 4,
 "nbformat_minor": 1
}
