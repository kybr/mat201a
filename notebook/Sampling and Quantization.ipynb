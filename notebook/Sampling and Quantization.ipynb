{
 "cells": [
  {
   "cell_type": "code",
   "execution_count": null,
   "metadata": {
    "deletable": true,
    "editable": true
   },
   "outputs": [],
   "source": [
    "%pylab inline"
   ]
  },
  {
   "cell_type": "markdown",
   "metadata": {
    "deletable": true,
    "editable": true
   },
   "source": [
    "## Dirac Comb"
   ]
  },
  {
   "cell_type": "markdown",
   "metadata": {
    "deletable": true,
    "editable": true
   },
   "source": [
    "http://en.wikipedia.org/wiki/Dirac_delta_function\n",
    "\n",
    "http://en.wikipedia.org/wiki/Dirac_comb"
   ]
  },
  {
   "cell_type": "markdown",
   "metadata": {
    "deletable": true,
    "editable": true
   },
   "source": [
    "An impulse train (Dirac comb) can be expressed as an infinite sum of harmonics of the same amplitude, whose fundamental is the frequency of the impulse train. "
   ]
  },
  {
   "cell_type": "code",
   "execution_count": null,
   "metadata": {
    "deletable": true,
    "editable": true
   },
   "outputs": [],
   "source": [
    "linspace(0, 1, 10) # inclusive"
   ]
  },
  {
   "cell_type": "markdown",
   "metadata": {
    "deletable": true,
    "editable": true
   },
   "source": [
    "$$ x(t) = cos(\\omega t)$$ "
   ]
  },
  {
   "cell_type": "code",
   "execution_count": null,
   "metadata": {
    "deletable": true,
    "editable": true
   },
   "outputs": [],
   "source": [
    "wt = linspace(0, 6 * pi, 20000)"
   ]
  },
  {
   "cell_type": "code",
   "execution_count": null,
   "metadata": {
    "deletable": true,
    "editable": true
   },
   "outputs": [],
   "source": [
    "oscillation = cos(wt)\n",
    "plot(oscillation);"
   ]
  },
  {
   "cell_type": "markdown",
   "metadata": {
    "deletable": true,
    "editable": true
   },
   "source": [
    "How do I get the next harmonic i.e. double the frequency of this sinusoid?\n",
    "\n",
    "$$ x(t) = cos(2 \\pi f t)$$"
   ]
  },
  {
   "cell_type": "code",
   "execution_count": null,
   "metadata": {
    "deletable": true,
    "editable": true
   },
   "outputs": [],
   "source": [
    "f = 3\n",
    "w = 2 * pi * f"
   ]
  },
  {
   "cell_type": "code",
   "execution_count": null,
   "metadata": {
    "deletable": true,
    "editable": true
   },
   "outputs": [],
   "source": [
    "phase_t = linspace(0, w, 50000)\n",
    "impulse = cos(phase_t) + cos(2*phase_t)\n",
    "impulse /= 2\n",
    "plot(impulse);"
   ]
  },
  {
   "cell_type": "code",
   "execution_count": null,
   "metadata": {
    "deletable": true,
    "editable": true
   },
   "outputs": [],
   "source": [
    "impulse = cos(phase_t) + cos(2*phase_t) + cos(3*phase_t) + cos(4*phase_t)\n",
    "impulse /= 4\n",
    "plot(impulse);"
   ]
  },
  {
   "cell_type": "markdown",
   "metadata": {
    "deletable": true,
    "editable": true
   },
   "source": [
    "equally weighted harmonics form a impulse"
   ]
  },
  {
   "cell_type": "code",
   "execution_count": null,
   "metadata": {
    "deletable": true,
    "editable": true
   },
   "outputs": [],
   "source": [
    "N = 100\n",
    "phase = linspace(0, 6*pi, 50000)\n",
    "harmonics = arange(N) + 1\n",
    "impulse = zeros_like(phase) # zeros(phase.shape)\n",
    "for harmonic in harmonics:\n",
    "    impulse += cos(harmonic * phase)\n",
    "    \n",
    "impulse /= N\n",
    "plot(impulse);"
   ]
  },
  {
   "cell_type": "markdown",
   "metadata": {
    "deletable": true,
    "editable": true
   },
   "source": [
    "[Gibbs phenomenon](https://en.wikipedia.org/wiki/Gibbs_phenomenon)"
   ]
  },
  {
   "cell_type": "code",
   "execution_count": null,
   "metadata": {
    "deletable": true,
    "editable": true
   },
   "outputs": [],
   "source": [
    "plot(impulse)\n",
    "xlim((0, 5000))"
   ]
  },
  {
   "cell_type": "markdown",
   "metadata": {
    "deletable": true,
    "editable": true
   },
   "source": [
    "Why do we use cosine? Isn't sine the same thing?"
   ]
  },
  {
   "cell_type": "code",
   "execution_count": null,
   "metadata": {
    "deletable": true,
    "editable": true
   },
   "outputs": [],
   "source": [
    "N = 100\n",
    "phase = linspace(0, 6*pi, 50000)\n",
    "harmonics = arange(N) + 1\n",
    "impulse = zeros_like(phase)\n",
    "for harmonic in harmonics:\n",
    "    impulse += sin(harmonic * phase)\n",
    "    \n",
    "impulse /= N\n",
    "plot(impulse);"
   ]
  },
  {
   "cell_type": "markdown",
   "metadata": {
    "deletable": true,
    "editable": true
   },
   "source": [
    "(See [Even and odd functions](https://en.wikipedia.org/wiki/Even_and_odd_functions) - optional)"
   ]
  },
  {
   "cell_type": "markdown",
   "metadata": {
    "deletable": true,
    "editable": true
   },
   "source": [
    "## Sampling"
   ]
  },
  {
   "cell_type": "markdown",
   "metadata": {
    "deletable": true,
    "editable": true
   },
   "source": [
    "Sampling can be described as a multiplication between the Dirac comb and the signal:"
   ]
  },
  {
   "cell_type": "code",
   "execution_count": null,
   "metadata": {
    "deletable": true,
    "editable": true
   },
   "outputs": [],
   "source": [
    "comb = [1,0,0,0,0,0,0,0,0,0,0,0,0,0,0,0,0,0,0,0] * 25\n",
    "comb [-1] = 1 # unholy trick to make some things simpler later...\n",
    "# plot(comb)\n",
    "stem(comb) # a different kind of plot\n",
    "ylim(0, 1.1)\n",
    "xticks(())\n",
    "title(\"Dirac Comb\")"
   ]
  },
  {
   "cell_type": "markdown",
   "metadata": {
    "deletable": true,
    "editable": true
   },
   "source": [
    "To be strict, this that I just created is the Kronecker delta because it's discrete, but let's assume it's continuous\n",
    "\n",
    "https://en.wikipedia.org/wiki/Kronecker_delta"
   ]
  },
  {
   "cell_type": "markdown",
   "metadata": {
    "deletable": true,
    "editable": true
   },
   "source": [
    "Now let's get a function that we can sample:"
   ]
  },
  {
   "cell_type": "code",
   "execution_count": null,
   "metadata": {
    "deletable": true,
    "editable": true
   },
   "outputs": [],
   "source": [
    "from scipy.special import jn\n",
    "jn(0, 0), jn(0, 1)"
   ]
  },
  {
   "cell_type": "markdown",
   "metadata": {
    "deletable": true,
    "editable": true
   },
   "source": [
    "Bessel functions: http://en.wikipedia.org/wiki/Bessel_function"
   ]
  },
  {
   "cell_type": "code",
   "execution_count": null,
   "metadata": {
    "deletable": true,
    "editable": true
   },
   "outputs": [],
   "source": [
    "jn(1,0), jn(7,0.3), jn(1, 1)"
   ]
  },
  {
   "cell_type": "markdown",
   "metadata": {
    "deletable": true,
    "editable": true
   },
   "source": [
    "Our \"Continuous\" function: "
   ]
  },
  {
   "cell_type": "code",
   "execution_count": null,
   "metadata": {
    "deletable": true,
    "editable": true
   },
   "outputs": [],
   "source": [
    "x = linspace(0,10, 500)\n",
    "plot(x, jn(1,x))\n",
    "title('Bessel function of the first type, order 1');"
   ]
  },
  {
   "cell_type": "code",
   "execution_count": null,
   "metadata": {
    "deletable": true,
    "editable": true
   },
   "outputs": [],
   "source": [
    "x = linspace(0,10, 500)\n",
    "plot(x, jn(1,x))\n",
    "plot(x, jn(1,x) * comb); # plot again in the same cell for superposition"
   ]
  },
  {
   "cell_type": "code",
   "execution_count": null,
   "metadata": {
    "deletable": true,
    "editable": true
   },
   "outputs": [],
   "source": [
    "plot(x, jn(1,x) * comb);"
   ]
  },
  {
   "cell_type": "markdown",
   "metadata": {
    "deletable": true,
    "editable": true
   },
   "source": [
    "Now just keep the values when the Dirac comb == 1"
   ]
  },
  {
   "cell_type": "code",
   "execution_count": null,
   "metadata": {
    "deletable": true,
    "editable": true
   },
   "outputs": [],
   "source": [
    "sampled = jn(1,x) * comb\n",
    "samples = []\n",
    "for i in range(len(comb)):\n",
    "    if comb[i] == 1:\n",
    "        samples.append(sampled[i])\n",
    "\n",
    "plot(samples, 'o');"
   ]
  },
  {
   "cell_type": "code",
   "execution_count": null,
   "metadata": {
    "deletable": true,
    "editable": true
   },
   "outputs": [],
   "source": [
    "len(samples)"
   ]
  },
  {
   "cell_type": "code",
   "execution_count": null,
   "metadata": {
    "deletable": true,
    "editable": true
   },
   "outputs": [],
   "source": [
    "x_sampled = linspace(0,10, len(samples))\n",
    "plot(x_sampled, samples)\n",
    "x = linspace(0,10, 500)\n",
    "plot(x, jn(1,x));"
   ]
  },
  {
   "cell_type": "markdown",
   "metadata": {
    "deletable": true,
    "editable": true
   },
   "source": [
    "connect our samples with lines"
   ]
  },
  {
   "cell_type": "code",
   "execution_count": null,
   "metadata": {
    "deletable": true,
    "editable": true
   },
   "outputs": [],
   "source": [
    "plot(x_sampled, samples, 'x-')\n",
    "plot(x, jn(1,x));\n",
    "xlim((0.5, 3))\n",
    "ylim((0.3, 0.65))"
   ]
  },
  {
   "cell_type": "markdown",
   "metadata": {
    "deletable": true,
    "editable": true
   },
   "source": [
    "the original signal compared to the piecewise linear reconstruction"
   ]
  },
  {
   "cell_type": "code",
   "execution_count": null,
   "metadata": {
    "deletable": true,
    "editable": true
   },
   "outputs": [],
   "source": [
    "# upsample using linear interpolation\n",
    "from scipy.interpolate import interp1d\n",
    "interpf = interp1d(linspace(0,10, len(samples)), samples)\n",
    "sqe = (jn(1,x) - interpf(x))**2\n",
    "plot(interpf(x))\n",
    "plot(jn(1,x))\n",
    "\n",
    "twinx()\n",
    "plot(sqe, 'r')\n",
    "axis(ymax= sqe.max())\n",
    "ylabel('squared error', color='r',fontsize=18);"
   ]
  },
  {
   "cell_type": "markdown",
   "metadata": {
    "deletable": true,
    "editable": true
   },
   "source": [
    "Hot tip: Shift-Tab on functions for documentation"
   ]
  },
  {
   "cell_type": "code",
   "execution_count": null,
   "metadata": {
    "deletable": true,
    "editable": true
   },
   "outputs": [],
   "source": [
    "sqe = (jn(1,x) - interpf(x))**2\n",
    "plot(interpf(x))\n",
    "plot(jn(1,x))\n",
    "ylim((0.3, 0.65))\n",
    "\n",
    "twinx()\n",
    "axis(ymax= sqe.max())\n",
    "gca().set_ylabel('squared error', color='r',fontsize=18)\n",
    "plot(sqe, 'r')\n",
    "xlim((50,150));"
   ]
  },
  {
   "cell_type": "markdown",
   "metadata": {
    "deletable": true,
    "editable": true
   },
   "source": [
    "...now showing the \"error\"---how well does the reconstruction do?"
   ]
  },
  {
   "cell_type": "code",
   "execution_count": null,
   "metadata": {
    "deletable": true,
    "editable": true
   },
   "outputs": [],
   "source": [
    "MSE = sqe.mean()\n",
    "print(MSE)"
   ]
  },
  {
   "cell_type": "markdown",
   "metadata": {
    "deletable": true,
    "editable": true
   },
   "source": [
    "\n",
    "Mean squared error is a common way to quantify the difference between two signals:\n",
    "\n",
    "$$MSE = \\frac{1}{n}\\sum_{i=1}^n(X_1 - X_2)^2$$"
   ]
  },
  {
   "cell_type": "markdown",
   "metadata": {
    "deletable": true,
    "editable": true
   },
   "source": [
    "***Note:* This does not mean that the digitized signal has that error!**\n",
    "\n",
    "It just means that if we reconstruct the signal by drawing straight lines we get this error."
   ]
  },
  {
   "cell_type": "markdown",
   "metadata": {
    "deletable": true,
    "editable": true
   },
   "source": [
    "# Sampling theorem"
   ]
  },
  {
   "cell_type": "markdown",
   "metadata": {
    "deletable": true,
    "editable": true
   },
   "source": [
    "If a function $f(x)$  contains no frequencies higher than B hertz, it is completely determined by its ordinates (value on the y axis) at a series of points spaced 1/(2B) seconds apart. Or.. you must sample a signal at a rate two times that of it's highest frequency if you hope to capture the signal perfectly."
   ]
  },
  {
   "cell_type": "code",
   "execution_count": null,
   "metadata": {
    "deletable": true,
    "editable": true
   },
   "outputs": [],
   "source": [
    "# the recorded (aka sampled) signal which is \n",
    "# sampled at 10 Hz (10B Hz)\n",
    "x = linspace(0, 2 * pi, 10)\n",
    "plot(x, sin(x))\n",
    "\n",
    "# the original signal which has frequency B = 1\n",
    "x0 = linspace(0, 2 * pi, 100)\n",
    "plot(x0, sin(x0))"
   ]
  },
  {
   "cell_type": "markdown",
   "metadata": {
    "deletable": true,
    "editable": true
   },
   "source": [
    "But.... isn't there loss here? Even though the samples are spaced closer than 1/B???\n",
    "\n",
    "\n",
    "\n",
    ".\n",
    "\n",
    ".\n",
    "\n",
    "\n",
    ".\n",
    "\n",
    "\n",
    ".\n",
    "\n",
    ".\n",
    "\n",
    ".\n",
    "\n",
    "\n",
    ".\n",
    "\n",
    "\n",
    "."
   ]
  },
  {
   "cell_type": "markdown",
   "metadata": {
    "deletable": true,
    "editable": true
   },
   "source": [
    "Although there is a difference between the different sampled signals, no information from the original signal has been lost!\n",
    "\n",
    "i.e. when we do the ADC there will be no difference between either. (in theory...  it's another thing in practice!)"
   ]
  },
  {
   "cell_type": "markdown",
   "metadata": {
    "deletable": true,
    "editable": true
   },
   "source": [
    "## Foldover/Aliasing"
   ]
  },
  {
   "cell_type": "markdown",
   "metadata": {
    "deletable": true,
    "editable": true
   },
   "source": [
    "But there will be a difference if there are less than two points per sine oscillation, i.e. when the frequency we are sampling is higher that sr/2 (Nyquist frequency)."
   ]
  },
  {
   "cell_type": "code",
   "execution_count": null,
   "metadata": {
    "deletable": true,
    "editable": true
   },
   "outputs": [],
   "source": [
    "phs = linspace(0, 10 * 2 * pi, 300)\n",
    "plot(sin(phs))"
   ]
  },
  {
   "cell_type": "markdown",
   "metadata": {
    "deletable": true,
    "editable": true
   },
   "source": [
    "Anything less than 20 points will cause problems:"
   ]
  },
  {
   "cell_type": "code",
   "execution_count": null,
   "metadata": {
    "deletable": true,
    "editable": true
   },
   "outputs": [],
   "source": [
    "phs = linspace(0, 10 * 2 * pi, 300)\n",
    "plot(phs, sin(phs))\n",
    "phs = linspace(0, 10 * 2 * pi, 12)\n",
    "plot(phs, sin(phs), 'o--')"
   ]
  },
  {
   "cell_type": "markdown",
   "metadata": {
    "deletable": true,
    "editable": true
   },
   "source": [
    "Here our ADC finds a single cycle in the 10 cycles of the original signal. This is bad data."
   ]
  },
  {
   "cell_type": "code",
   "execution_count": null,
   "metadata": {
    "deletable": true,
    "editable": true
   },
   "outputs": [],
   "source": [
    "from ipywidgets import interact\n",
    "dense = linspace(0, 10 * 2 * pi, 300, endpoint=False)\n",
    "\n",
    "def plotsin(steps):\n",
    "    plot(dense, cos(dense))\n",
    "    phs = linspace(0, 10 * 2 * pi, steps, endpoint=False)\n",
    "    plot(phs, cos(phs), 'o--')\n",
    "    show()\n",
    "\n",
    "interact(plotsin, steps=(1, 30))\n",
    "pass"
   ]
  },
  {
   "cell_type": "code",
   "execution_count": null,
   "metadata": {
    "deletable": true,
    "editable": true
   },
   "outputs": [],
   "source": [
    "phs = linspace(0, 10 * 2 * pi, 300)\n",
    "plot(phs, sin(phs))\n",
    "phs = linspace(0, 10 * 2 * pi, 21)\n",
    "plot(phs, sin(phs), 'o--')"
   ]
  },
  {
   "cell_type": "markdown",
   "metadata": {
    "deletable": true,
    "editable": true
   },
   "source": [
    "In discrete sampling twice the Nyquist frequency is the same as DC (i.e. frequency 0)..."
   ]
  },
  {
   "cell_type": "code",
   "execution_count": null,
   "metadata": {
    "deletable": true,
    "editable": true
   },
   "outputs": [],
   "source": [
    "phs = linspace(0, 10 * 2 * pi, 300)\n",
    "plot(phs, cos(phs))\n",
    "phs = linspace(0, 10 * 2 * pi, 11)\n",
    "plot(phs, cos(phs), 'o--')"
   ]
  },
  {
   "cell_type": "markdown",
   "metadata": {
    "deletable": true,
    "editable": true
   },
   "source": [
    "The frequency of the foldover component is:\n",
    "\n",
    "$$ f_{ALIAS} = \\frac{f_{sr}}{2} - (f_0 - \\frac{f_{sr}}{2})$$\n",
    "\n",
    "i.e. fold/mirror the frequency around the Nyquist frequency.\n",
    "\n",
    "$$ f_{ALIAS} = f_{sr} - f_0$$\n",
    "\n",
    "More strictly:\n",
    "\n",
    "$$ f_{ALIAS} = f_{sr} - (f_0\\pmod {f_{sr}})$$\n",
    "\n",
    "The frequency wraps around the sampling frequency.\n"
   ]
  },
  {
   "cell_type": "markdown",
   "metadata": {
    "deletable": true,
    "editable": true
   },
   "source": [
    "## Quantization"
   ]
  },
  {
   "cell_type": "markdown",
   "metadata": {
    "deletable": true,
    "editable": true
   },
   "source": [
    "Once the signal has been sampled, a value needs to be assigned to it."
   ]
  },
  {
   "cell_type": "code",
   "execution_count": null,
   "metadata": {
    "deletable": true,
    "editable": true
   },
   "outputs": [],
   "source": [
    "x = linspace(0, 2*pi, 300)\n",
    "f = sin(x)\n",
    "plot(f);"
   ]
  },
  {
   "cell_type": "code",
   "execution_count": null,
   "metadata": {
    "deletable": true,
    "editable": true
   },
   "outputs": [],
   "source": [
    "f = sin(3 * x)\n",
    "f2 = (f*2).astype(int)\n",
    "plot(f) \n",
    "plot(f2); "
   ]
  },
  {
   "cell_type": "markdown",
   "metadata": {
    "deletable": true,
    "editable": true
   },
   "source": [
    "These 3 different values can be encoded in 2 bits."
   ]
  },
  {
   "cell_type": "code",
   "execution_count": null,
   "metadata": {
    "deletable": true,
    "editable": true
   },
   "outputs": [],
   "source": [
    "f = sin(x)\n",
    "f2 = (f*2).astype(int)\n",
    "f4 = (f*4).astype(int)\n",
    "plot(f)\n",
    "plot(f2)\n",
    "plot(f4/3.0)\n",
    "legend(['sine', '2-bit', '3-bit']);"
   ]
  },
  {
   "cell_type": "code",
   "execution_count": null,
   "metadata": {
    "deletable": true,
    "editable": true
   },
   "outputs": [],
   "source": [
    "2**2, 2**3"
   ]
  },
  {
   "cell_type": "code",
   "execution_count": null,
   "metadata": {
    "deletable": true,
    "editable": true
   },
   "outputs": [],
   "source": [
    "2**16"
   ]
  },
  {
   "cell_type": "code",
   "execution_count": null,
   "metadata": {
    "deletable": true,
    "editable": true
   },
   "outputs": [],
   "source": [
    "#integer representations\n",
    "x = linspace(0, 2*pi, 100000)\n",
    "f = sin(x)\n",
    "\n",
    "def dothings(BITS):\n",
    "    N = BITS # number of bits\n",
    "    max_value = 2**(N-1) - 1\n",
    "    fN = (f*(max_value)).astype(int16)\n",
    "    plot(sin(x)*max_value)\n",
    "    plot(fN);\n",
    "    show()\n",
    "    \n",
    "interact(dothings, BITS=(3, 8))\n",
    "pass"
   ]
  },
  {
   "cell_type": "code",
   "execution_count": null,
   "metadata": {
    "deletable": true,
    "editable": true
   },
   "outputs": [],
   "source": [
    "x = linspace(0, 2*pi, 100000)\n",
    "f = sin(x)\n",
    "N = 16 # number of bits\n",
    "max_value = 2**(N-1) - 1\n",
    "f16 = (f*(max_value)).astype(int16)\n",
    "plot(f16, 'x-' )\n",
    "xlim((0, 50))\n",
    "ylim((0, 80))"
   ]
  },
  {
   "cell_type": "code",
   "execution_count": null,
   "metadata": {
    "deletable": true,
    "editable": true
   },
   "outputs": [],
   "source": [
    "N = 5 # number of bits\n",
    "max_value = 2**(N-1) - 1\n",
    "f8 = (f*(max_value)).astype(int8)\n",
    "plot(f8)"
   ]
  },
  {
   "cell_type": "code",
   "execution_count": null,
   "metadata": {
    "deletable": true,
    "editable": true
   },
   "outputs": [],
   "source": [
    "plot(f8, 'o')\n",
    "xlim((0,20))\n",
    "ylim((0, 10))\n",
    "grid();"
   ]
  },
  {
   "cell_type": "code",
   "execution_count": null,
   "metadata": {
    "deletable": true,
    "editable": true
   },
   "outputs": [],
   "source": [
    "2**24"
   ]
  },
  {
   "cell_type": "markdown",
   "metadata": {
    "deletable": true,
    "editable": true
   },
   "source": [
    "## Dynamic range\n",
    "(See [Dynamic range](https://en.wikipedia.org/wiki/Dynamic_range))"
   ]
  },
  {
   "cell_type": "code",
   "execution_count": null,
   "metadata": {
    "deletable": true,
    "editable": true
   },
   "outputs": [],
   "source": [
    "N = 16\n",
    "20 * log10((2 ** (N - 1))/1)\n",
    "\n",
    "def dynrangedb(N):\n",
    "    return 20 * log10((2 ** (N - 1))/1)"
   ]
  },
  {
   "cell_type": "code",
   "execution_count": null,
   "metadata": {
    "deletable": true,
    "editable": true
   },
   "outputs": [],
   "source": [
    "print(dynrangedb(8), dynrangedb(16), dynrangedb(24))"
   ]
  },
  {
   "cell_type": "code",
   "execution_count": null,
   "metadata": {
    "deletable": true,
    "editable": true
   },
   "outputs": [],
   "source": [
    "20*log10(0.5)"
   ]
  },
  {
   "cell_type": "code",
   "execution_count": null,
   "metadata": {
    "deletable": true,
    "editable": true
   },
   "outputs": [],
   "source": [
    "20*log10(60/30)"
   ]
  },
  {
   "cell_type": "markdown",
   "metadata": {
    "deletable": true,
    "editable": true
   },
   "source": [
    "Half the linear amplitude scale is only 6 dB!"
   ]
  },
  {
   "cell_type": "markdown",
   "metadata": {
    "deletable": true,
    "editable": true
   },
   "source": [
    "## Amplitude encoding"
   ]
  },
  {
   "cell_type": "code",
   "execution_count": null,
   "metadata": {
    "deletable": true,
    "editable": true
   },
   "outputs": [],
   "source": [
    "22050 * 16"
   ]
  },
  {
   "cell_type": "code",
   "execution_count": null,
   "metadata": {
    "deletable": true,
    "editable": true
   },
   "outputs": [],
   "source": [
    "352800 * 60"
   ]
  },
  {
   "cell_type": "code",
   "execution_count": null,
   "metadata": {
    "deletable": true,
    "editable": true
   },
   "outputs": [],
   "source": [
    "21168000/(8 * 1024)"
   ]
  },
  {
   "cell_type": "markdown",
   "metadata": {
    "deletable": true,
    "editable": true
   },
   "source": [
    "When the values for amplitude are stored directly from the linear measurements of energy, this form of \"encoding\" is known as LPCM (Linear Pulse Code Modulation)\n",
    "\n",
    "http://en.wikipedia.org/wiki/Pulse-code_modulation\n",
    "\n",
    "Differential Pulse Code modulation stores the difference between samples"
   ]
  },
  {
   "cell_type": "code",
   "execution_count": null,
   "metadata": {
    "deletable": true,
    "editable": true
   },
   "outputs": [],
   "source": [
    "from scipy.io import wavfile\n",
    "\n",
    "sr,audio = wavfile.read('media/passport.wav')\n",
    "plot(audio)\n",
    "print(audio.max(), audio.min(), sr)"
   ]
  },
  {
   "cell_type": "code",
   "execution_count": null,
   "metadata": {
    "deletable": true,
    "editable": true
   },
   "outputs": [],
   "source": [
    "2**16"
   ]
  },
  {
   "cell_type": "code",
   "execution_count": null,
   "metadata": {
    "deletable": true,
    "editable": true
   },
   "outputs": [],
   "source": [
    "audio.dtype"
   ]
  },
  {
   "cell_type": "code",
   "execution_count": null,
   "metadata": {
    "deletable": true,
    "editable": true
   },
   "outputs": [],
   "source": [
    "x = linspace(0, 2*pi, 50)\n",
    "plot(sin(x), 'o')\n",
    "plot(diff(sin(x)))"
   ]
  },
  {
   "cell_type": "code",
   "execution_count": null,
   "metadata": {
    "deletable": true,
    "editable": true
   },
   "outputs": [],
   "source": [
    "dpcm = diff(audio)\n",
    "plot(dpcm)\n",
    "dpcm.max(), dpcm.min()"
   ]
  },
  {
   "cell_type": "code",
   "execution_count": null,
   "metadata": {
    "deletable": true,
    "editable": true
   },
   "outputs": [],
   "source": [
    "log(max(dpcm.max(), abs(dpcm.min())))/log(2)"
   ]
  },
  {
   "cell_type": "code",
   "execution_count": null,
   "metadata": {
    "deletable": true,
    "editable": true
   },
   "outputs": [],
   "source": [
    "log(max(audio.max(), abs(audio.min())))/log(2)"
   ]
  },
  {
   "cell_type": "markdown",
   "metadata": {
    "deletable": true,
    "editable": true
   },
   "source": [
    "The differential encoding would save 1 bit"
   ]
  },
  {
   "cell_type": "markdown",
   "metadata": {
    "deletable": true,
    "editable": true
   },
   "source": [
    "ADPCM (Adaptive DPCM) uses different resolutions depending on what it needs.\n",
    "\n",
    "Delta modulation encodes using only 1 bit to describe the change, and so requires a higher sampling rate. e.g. DSD\n",
    "\n",
    "http://en.wikipedia.org/wiki/Direct_Stream_Digital"
   ]
  },
  {
   "cell_type": "markdown",
   "metadata": {
    "deletable": true,
    "editable": true
   },
   "source": [
    "## A-law and $\\mu\\ \\ $-law"
   ]
  },
  {
   "cell_type": "markdown",
   "metadata": {
    "deletable": true,
    "editable": true
   },
   "source": [
    "The amplitude scale can be encoded \"warped\", i.e. non-linearly\n",
    "\n",
    "$$F(x) = sgn(x) \\frac{\\ln(1+ \\mu |x|)}{\\ln(1+\\mu)}~~~~-1 \\leq x \\leq 1$$\n",
    "\n",
    "http://en.wikipedia.org/wiki/Mu-law_algorithm\n",
    "\n",
    "The higher amplitudes are compressed to make the quantization non-linear."
   ]
  },
  {
   "cell_type": "code",
   "execution_count": null,
   "metadata": {
    "deletable": true,
    "editable": true
   },
   "outputs": [],
   "source": [
    "x = linspace(-1,1, 100)\n",
    "ylabel('out')\n",
    "xlabel('in')\n",
    "plot(x, x)\n",
    "grid()"
   ]
  },
  {
   "cell_type": "code",
   "execution_count": null,
   "metadata": {
    "deletable": true,
    "editable": true
   },
   "outputs": [],
   "source": [
    "x = linspace(-1,1, 100)\n",
    "bits = 8\n",
    "mu = (2**bits) - 1\n",
    "\n",
    "mu_shaping = sign(x)*log(1 + mu *abs(x))/log(1+mu)\n",
    "plot(x, x, label= 'linear')\n",
    "plot(x, mu_shaping, label= 'mu-law out')\n",
    "\n",
    "legend(loc='best')\n",
    "grid()"
   ]
  },
  {
   "cell_type": "code",
   "execution_count": null,
   "metadata": {
    "deletable": true,
    "editable": true
   },
   "outputs": [],
   "source": [
    "x = linspace(0, 2*pi, 100)\n",
    "y = sin(x)\n",
    "\n",
    "def mu_law(insig, nbits = 8):\n",
    "    mu = (2**nbits) - 1\n",
    "    return sign(insig)*log(1 + mu *abs(insig))/log(1+mu)\n",
    "\n",
    "plot(x, y)\n",
    "plot(x, mu_law(y))"
   ]
  },
  {
   "cell_type": "markdown",
   "metadata": {
    "deletable": true,
    "editable": true
   },
   "source": [
    "A-law:\n",
    "\n",
    "$$F(x) = sgn(x) \\begin{cases} {A |x| \\over 1 + \\ln(A)}, & |x| < {1 \\over A} \\frac{1+ \\ln(A |x|)}{1 + \\ln(A)}, & {1 \\over A} \\leq |x| \\leq 1, \\end{cases}$$\n",
    "\n",
    "http://en.wikipedia.org/w/index.php?title=A-law_algorithm&action=edit"
   ]
  },
  {
   "cell_type": "code",
   "execution_count": null,
   "metadata": {
    "deletable": true,
    "editable": true
   },
   "outputs": [],
   "source": [
    "x = linspace(-1,1, 100)\n",
    "A = 87.5\n",
    "x = linspace(-1,1, 100)\n",
    "a_shaping = sign(x) * where(abs(x) < 1/A, A*abs(x)/(1+log(A)), (1 + log(A*abs(x)))/(1+log(A)))\n",
    "plot(x, x,label = 'in')\n",
    "plot(x, mu_shaping, label= 'mu-law out')\n",
    "plot(x, a_shaping, label = 'A-law out')\n",
    "\n",
    "\n",
    "legend(loc='best')"
   ]
  },
  {
   "cell_type": "code",
   "execution_count": null,
   "metadata": {
    "deletable": true,
    "editable": true
   },
   "outputs": [],
   "source": [
    "plot(x, label = 'in')\n",
    "plot(x, mu_shaping, label= 'mu-law out')\n",
    "plot(x, a_shaping, label = 'A-law out')\n",
    "\n",
    "legend(loc='best')\n",
    "\n",
    "xlim((0,0.5))\n",
    "ylim((0,1))\n",
    "     "
   ]
  },
  {
   "cell_type": "markdown",
   "metadata": {
    "deletable": true,
    "editable": true
   },
   "source": [
    "Floating point formats can be thought of as \"adaptive\"\n",
    "\n",
    "Floating point formats are represented using mantissa and exponent. 32-bit floats: 24-bit mantissa and 8 bit exponent. "
   ]
  },
  {
   "cell_type": "markdown",
   "metadata": {
    "deletable": true,
    "editable": true
   },
   "source": [
    "# Digital to Analog conversion"
   ]
  },
  {
   "cell_type": "markdown",
   "metadata": {
    "deletable": true,
    "editable": true
   },
   "source": [
    "## Sample and hold"
   ]
  },
  {
   "cell_type": "code",
   "execution_count": null,
   "metadata": {
    "deletable": true,
    "editable": true
   },
   "outputs": [],
   "source": [
    "from scipy.interpolate import interp1d\n",
    "samplehold = interp1d(linspace(0,10, len(samples)), samples, kind='zero')\n",
    "new_x = linspace(0, 10, 500)\n",
    "plot(new_x, samplehold(new_x))"
   ]
  },
  {
   "cell_type": "markdown",
   "metadata": {
    "deletable": true,
    "editable": true
   },
   "source": [
    "## Low-pass filter"
   ]
  },
  {
   "cell_type": "code",
   "execution_count": null,
   "metadata": {
    "deletable": true,
    "editable": true
   },
   "outputs": [],
   "source": [
    "from scipy.signal import butter, lfilter\n",
    "\n",
    "b, a = butter(4, 0.2, 'low')\n",
    "lopassed = lfilter(b, a, samplehold(new_x))\n",
    "plot(lopassed)\n"
   ]
  },
  {
   "cell_type": "code",
   "execution_count": null,
   "metadata": {
    "deletable": true,
    "editable": true
   },
   "outputs": [],
   "source": [
    "\n",
    "b, a = butter(4, 0.1, 'low')\n",
    "lopassed = lfilter(b, a, samplehold(new_x))\n",
    "plot(lopassed)\n",
    "\n",
    "b, a = butter(4, 0.05, 'low')\n",
    "lopassed = lfilter(b, a, samplehold(new_x))\n",
    "plot(lopassed, lw=4)"
   ]
  },
  {
   "cell_type": "code",
   "execution_count": null,
   "metadata": {
    "deletable": true,
    "editable": true
   },
   "outputs": [],
   "source": [
    "from scipy.signal import bessel"
   ]
  },
  {
   "cell_type": "code",
   "execution_count": null,
   "metadata": {
    "deletable": true,
    "editable": true
   },
   "outputs": [],
   "source": [
    "b, a = bessel(10, 0.05, 'low')\n",
    "lopassed = lfilter(b, a, samplehold(new_x))\n",
    "plot(lopassed)\n"
   ]
  },
  {
   "cell_type": "code",
   "execution_count": null,
   "metadata": {
    "deletable": true,
    "editable": true
   },
   "outputs": [],
   "source": [
    "plot(new_x*50, jn(1,new_x))\n",
    "plot(lopassed)"
   ]
  },
  {
   "cell_type": "code",
   "execution_count": null,
   "metadata": {
    "deletable": true,
    "editable": true
   },
   "outputs": [],
   "source": [
    "plot(new_x*50, jn(1,new_x))\n",
    "plot(lopassed[58:])"
   ]
  },
  {
   "cell_type": "markdown",
   "metadata": {
    "deletable": true,
    "editable": true
   },
   "source": [
    "By: Andrés Cabrera mantaraya36@gmail.com\n",
    "For MAT course MAT 201A at UCSB\n",
    "\n",
    "This ipython notebook is licensed under the CC-BY-NC-SA license: http://creativecommons.org/licenses/by-nc-sa/4.0/\n",
    "\n",
    "![http://i.creativecommons.org/l/by-nc-sa/3.0/88x31.png](http://i.creativecommons.org/l/by-nc-sa/3.0/88x31.png)"
   ]
  }
 ],
 "metadata": {
  "kernelspec": {
   "display_name": "Python 3",
   "language": "python",
   "name": "python3"
  },
  "language_info": {
   "codemirror_mode": {
    "name": "ipython",
    "version": 3
   },
   "file_extension": ".py",
   "mimetype": "text/x-python",
   "name": "python",
   "nbconvert_exporter": "python",
   "pygments_lexer": "ipython3",
   "version": "3.6.1"
  }
 },
 "nbformat": 4,
 "nbformat_minor": 0
}
