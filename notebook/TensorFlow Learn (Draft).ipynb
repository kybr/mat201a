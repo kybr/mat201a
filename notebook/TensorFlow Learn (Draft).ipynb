{
 "cells": [
  {
   "cell_type": "code",
   "execution_count": null,
   "metadata": {},
   "outputs": [],
   "source": [
    "%pylab inline"
   ]
  },
  {
   "cell_type": "code",
   "execution_count": null,
   "metadata": {},
   "outputs": [],
   "source": [
    "import tensorflow as tf\n",
    "import tensorflow.contrib.learn as skflow\n",
    "from sklearn import datasets, metrics\n",
    "iris = datasets.load_iris()"
   ]
  },
  {
   "cell_type": "code",
   "execution_count": null,
   "metadata": {},
   "outputs": [],
   "source": [
    "x_train = iris.data\n",
    "x_train"
   ]
  },
  {
   "cell_type": "code",
   "execution_count": null,
   "metadata": {},
   "outputs": [],
   "source": [
    "y_train = iris.target\n",
    "y_train"
   ]
  },
  {
   "cell_type": "code",
   "execution_count": null,
   "metadata": {},
   "outputs": [],
   "source": [
    "\n",
    "\n",
    "#iris = datasets.load_iris()\n",
    "#classifier = skflow.LinearClassifier(iris.data, n_classes=3)\n",
    "#classifier.fit(iris.data, iris.target)\n",
    "#score = metrics.accuracy_score(iris.target, classifier.predict(iris.data))\n",
    "#print(\"Accuracy: %f\" % score)\n",
    "\n",
    "# tf.summary.histogram(... and the one below it (scalar) needs to be tf.summary.scalar(...\n",
    "\n",
    "\n",
    "# https://medium.com/towards-data-science/from-scikit-learn-to-tensorflow-part-1-9ee0b96d4c85\n",
    "\n",
    "\n",
    "feats = tf.contrib.learn.infer_real_valued_columns_from_input(x_train)\n",
    "\n",
    "# Building a 3-layer DNN with 50 units each.\n",
    "classifier_tf = tf.contrib.learn.DNNClassifier(feature_columns=feats, \n",
    "                                               hidden_units=[50, 50, 50], \n",
    "                                               n_classes=3)\n",
    "# Use the train data to train this classifier\n",
    "classifier_tf.fit(x_train, y_train, steps=5000)"
   ]
  },
  {
   "cell_type": "code",
   "execution_count": null,
   "metadata": {},
   "outputs": [],
   "source": [
    "x_test = array([5.7,  4.4,  1.5,  0.4])\n",
    "y_test = array([1])\n",
    "# Use the trained model to predict on the test data\n",
    "predictions = list(classifier_tf.predict(x_test, as_iterable=True))\n",
    "score = metrics.accuracy_score(y_test, predictions)"
   ]
  },
  {
   "cell_type": "code",
   "execution_count": null,
   "metadata": {},
   "outputs": [],
   "source": []
  }
 ],
 "metadata": {
  "kernelspec": {
   "display_name": "Python 3",
   "language": "python",
   "name": "python3"
  },
  "language_info": {
   "codemirror_mode": {
    "name": "ipython",
    "version": 3
   },
   "file_extension": ".py",
   "mimetype": "text/x-python",
   "name": "python",
   "nbconvert_exporter": "python",
   "pygments_lexer": "ipython3",
   "version": "3.6.1"
  }
 },
 "nbformat": 4,
 "nbformat_minor": 2
}
