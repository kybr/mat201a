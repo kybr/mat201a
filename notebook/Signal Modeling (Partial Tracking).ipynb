{
 "cells": [
  {
   "cell_type": "code",
   "execution_count": null,
   "metadata": {},
   "outputs": [],
   "source": [
    "%pylab inline\n",
    "rcParams['figure.figsize'] = (15, 4)\n",
    "from __future__ import print_function\n",
    "from __future__ import division"
   ]
  },
  {
   "cell_type": "code",
   "execution_count": null,
   "metadata": {},
   "outputs": [],
   "source": [
    "from scipy.io import wavfile\n",
    "from IPython.display import Audio\n",
    "from scipy.fftpack import dct"
   ]
  },
  {
   "cell_type": "code",
   "execution_count": null,
   "metadata": {},
   "outputs": [],
   "source": [
    "sampleRate, misery = wavfile.read('media/misery.wav')\n",
    "plot(misery)\n",
    "Audio(misery, rate=sampleRate)"
   ]
  },
  {
   "cell_type": "code",
   "execution_count": null,
   "metadata": {},
   "outputs": [],
   "source": [
    "data, f, t, _ = specgram(misery, NFFT=1024, noverlap=768, pad_to=16384, Fs=sampleRate)\n",
    "ylim((0, 10000))\n",
    "data.shape"
   ]
  },
  {
   "cell_type": "code",
   "execution_count": null,
   "metadata": {},
   "outputs": [],
   "source": [
    "def maxima(s):\n",
    "    return argwhere((s[:-2] < s[1:-1]) & (s[2:] < s[1:-1])) + 1\n",
    "def peaks(s, t):\n",
    "    return [(f[i], s[i]) for i in maxima(s) if s[i] > t]"
   ]
  },
  {
   "cell_type": "code",
   "execution_count": null,
   "metadata": {},
   "outputs": [],
   "source": [
    "peak = []\n",
    "for k in range(data.shape[1]):\n",
    "    peak.append(peaks(data[:, k], data.mean() / 200))"
   ]
  },
  {
   "cell_type": "code",
   "execution_count": null,
   "metadata": {},
   "outputs": [],
   "source": [
    "data, f, time, _ = specgram(misery, NFFT=1024, noverlap=768, pad_to=16384, Fs=sampleRate)\n",
    "for i, k in enumerate(peak):\n",
    "    if not k:\n",
    "        continue\n",
    "    freq = array(k)[:, 0]\n",
    "    plot(ones(len(freq)) * time[i], freq, '.')\n",
    "xlim(0, 1)\n",
    "ylim(0, 3500)"
   ]
  },
  {
   "cell_type": "code",
   "execution_count": null,
   "metadata": {},
   "outputs": [],
   "source": [
    "fft.fftfreq(16384, 1/44100)[1]"
   ]
  },
  {
   "cell_type": "code",
   "execution_count": null,
   "metadata": {},
   "outputs": [],
   "source": [
    "maximumDistance = 2.69 * 3\n",
    "connection = []\n",
    "for i in range(len(peak) - 1):\n",
    "    if not (peak[i] and peak[i + 1]):\n",
    "        connection.append([])\n",
    "        continue\n",
    "    f = array(peak[i])[:, 0]\n",
    "    f_ = array(peak[i + 1])[:, 0]\n",
    "    local = []\n",
    "    for k in range(len(f)):\n",
    "        k_ = argmin(abs(f_ - f[k]))\n",
    "        if (abs(f_[k_] - f[k]) < maximumDistance):\n",
    "            local.append([i, k, i + 1, k_])\n",
    "    connection.append(local)"
   ]
  },
  {
   "cell_type": "code",
   "execution_count": null,
   "metadata": {},
   "outputs": [],
   "source": [
    "len(connection), len(peak), data.shape[1]"
   ]
  },
  {
   "cell_type": "code",
   "execution_count": null,
   "metadata": {},
   "outputs": [],
   "source": [
    "connection[:10]"
   ]
  },
  {
   "cell_type": "code",
   "execution_count": null,
   "metadata": {},
   "outputs": [],
   "source": [
    "# this cell is unfinished...\n",
    "# Connecting the dots and resynthesizing the partials is an exercise left to the reader.\n",
    "ID = 0\n",
    "for n in range(len(connection)):\n",
    "    if not connection[n]:\n",
    "        continue\n",
    "    for h in range(len(connection[n])):\n",
    "        c = connection[n][h]\n",
    "        if len(c) > 4:\n",
    "            continue\n",
    "        connection[n][h].append(ID)\n",
    "        ID = 1 + ID"
   ]
  },
  {
   "cell_type": "markdown",
   "metadata": {},
   "source": [
    "#### Try sinusoidal modeling:\n",
    "- http://www.klingbeil.com/spear/\n",
    "- http://mtg.upf.edu/technologies/sms\n",
    "- http://www.cerlsoundgroup.org/Loris/\n",
    "- https://ccrma.stanford.edu/~juan/ATS_manual.html\n",
    "\n",
    "#### Streaming real-time:\n",
    "* http://www.csounds.com/manual/html/partials.html\n",
    "* http://doc.sccode.org/Classes/TPV.html"
   ]
  },
  {
   "cell_type": "markdown",
   "metadata": {},
   "source": [
    "By: Andrés Cabrera mantaraya36@gmail.com\n",
    "For MAT course MAT 201A at UCSB\n",
    "\n",
    "Adapted by Karl Yerkes\n",
    "\n",
    "This ipython notebook is licensed under the CC-BY-NC-SA license: http://creativecommons.org/licenses/by-nc-sa/4.0/\n",
    "\n",
    "![http://i.creativecommons.org/l/by-nc-sa/3.0/88x31.png](http://i.creativecommons.org/l/by-nc-sa/3.0/88x31.png)"
   ]
  }
 ],
 "metadata": {
  "kernelspec": {
   "display_name": "Python 3",
   "language": "python",
   "name": "python3"
  },
  "language_info": {
   "codemirror_mode": {
    "name": "ipython",
    "version": 3
   },
   "file_extension": ".py",
   "mimetype": "text/x-python",
   "name": "python",
   "nbconvert_exporter": "python",
   "pygments_lexer": "ipython3",
   "version": "3.6.1"
  }
 },
 "nbformat": 4,
 "nbformat_minor": 1
}
