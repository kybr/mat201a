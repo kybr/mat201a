{
 "cells": [
  {
   "cell_type": "code",
   "execution_count": null,
   "metadata": {},
   "outputs": [],
   "source": [
    "%pylab inline\n",
    "rcParams['figure.figsize'] = (15, 4) #wide graphs by default\n",
    "from __future__ import print_function\n",
    "from __future__ import division"
   ]
  },
  {
   "cell_type": "markdown",
   "metadata": {},
   "source": [
    "## [Cepstrum](https://en.wikipedia.org/wiki/Cepstrum)\n",
    "> ... is the result of taking the inverse Fourier transform (IFT) of the logarithm of the estimated spectrum of a signal.\n",
    "\n",
    "- _complex_ cepstrum throws away *no* information allowing signal reconstruction\n",
    "- _real_ cepstrum throws away the imaginary part\n",
    "- _phase_ cepstrum...\n",
    "- _power_ cepstrum is defined as the squared magnitude of the inverse Fourier transform of the logarithm of the squared magnitude of the Fourier transform of a signal, but we can use `abs` instead of the \"squared\" magnitude\n",
    "\n",
    "We will use the _power_ cepstrum calculated by FT → abs() → log → IFT"
   ]
  },
  {
   "cell_type": "code",
   "execution_count": null,
   "metadata": {},
   "outputs": [],
   "source": [
    "from scipy.io import wavfile\n",
    "from IPython.display import Audio"
   ]
  },
  {
   "cell_type": "code",
   "execution_count": null,
   "metadata": {},
   "outputs": [],
   "source": [
    "sr, e = wavfile.read('media/e.wav')\n",
    "sr"
   ]
  },
  {
   "cell_type": "code",
   "execution_count": null,
   "metadata": {},
   "outputs": [],
   "source": [
    "plot(e)\n",
    "Audio(e, rate=sr)"
   ]
  },
  {
   "cell_type": "code",
   "execution_count": null,
   "metadata": {},
   "outputs": [],
   "source": [
    "start = 4000\n",
    "fourier_trans = rfft(e[start:start + 2048] * hanning(2048), n=4096)\n",
    "mag_spectrum_e = abs(fourier_trans)"
   ]
  },
  {
   "cell_type": "code",
   "execution_count": null,
   "metadata": {},
   "outputs": [],
   "source": [
    "plot(mag_spectrum_e)\n",
    "pass"
   ]
  },
  {
   "cell_type": "code",
   "execution_count": null,
   "metadata": {},
   "outputs": [],
   "source": [
    "log_mag_spec_e = log(mag_spectrum_e)\n",
    "plot(log_mag_spec_e[:1000])\n",
    "pass"
   ]
  },
  {
   "cell_type": "code",
   "execution_count": null,
   "metadata": {},
   "outputs": [],
   "source": [
    "freqs = linspace(0, sr / 2, 2049)\n",
    "plot(freqs, log_mag_spec_e)\n",
    "xlabel('Frequency (Hz)')\n",
    "ylabel('Log amplitude')\n",
    "xlim((0, 4000))\n",
    "grid()"
   ]
  },
  {
   "cell_type": "code",
   "execution_count": null,
   "metadata": {},
   "outputs": [],
   "source": [
    "sr, a = wavfile.read('media/a.wav')\n",
    "print(sr)\n",
    "plot(a)\n",
    "Audio(a, rate=sr)"
   ]
  },
  {
   "cell_type": "code",
   "execution_count": null,
   "metadata": {},
   "outputs": [],
   "source": [
    "start = 4000\n",
    "fourier_trans = rfft(a[start:start + 2048] * hanning(2048), n=4096)\n",
    "mag_spectrum_a = abs(fourier_trans)\n",
    "log_mag_spec_a = log(mag_spectrum_a)\n",
    "freqs = linspace(0, sr/2, 2049)\n",
    "plot(freqs, log_mag_spec_a)\n",
    "xlabel('Frequency (Hz)')\n",
    "ylabel('Log amplitude')\n",
    "xlim((0, 4000))\n",
    "grid()"
   ]
  },
  {
   "cell_type": "code",
   "execution_count": null,
   "metadata": {},
   "outputs": [],
   "source": [
    "sr, o = wavfile.read('media/o.wav')\n",
    "print(sr)\n",
    "plot(o)\n",
    "Audio(o, rate=sr)"
   ]
  },
  {
   "cell_type": "code",
   "execution_count": null,
   "metadata": {},
   "outputs": [],
   "source": [
    "start = 4000\n",
    "fourier_trans = rfft(o[start:start + 2048] * hanning(2048), n=4096)\n",
    "subplot(211)\n",
    "mag_spectrum_o = abs(fourier_trans)\n",
    "plot(mag_spectrum_o[:1000])\n",
    "subplot(212)\n",
    "log_mag_spec_o = log(mag_spectrum_o)\n",
    "plot(log_mag_spec_o[:1000])\n",
    "pass"
   ]
  },
  {
   "cell_type": "code",
   "execution_count": null,
   "metadata": {},
   "outputs": [],
   "source": [
    "plot(log_mag_spec_a[:1000], alpha=0.5)\n",
    "plot(log_mag_spec_e[:1000], alpha=0.5)\n",
    "plot(log_mag_spec_o[:1000], alpha=0.5)\n",
    "legend(['a','e','o'])\n",
    "pass"
   ]
  },
  {
   "cell_type": "markdown",
   "metadata": {},
   "source": [
    "- similar fundamentals\n",
    "- similar overall contour, but different in detail"
   ]
  },
  {
   "cell_type": "code",
   "execution_count": null,
   "metadata": {},
   "outputs": [],
   "source": [
    "#cepstrum_a = abs(ifft(log_mag_spec_a))\n",
    "#cepstrum_a = irfft(log_mag_spec_a)\n",
    "cepstrum_a = ifft(log_mag_spec_a)"
   ]
  },
  {
   "cell_type": "code",
   "execution_count": null,
   "metadata": {},
   "outputs": [],
   "source": [
    "plot(cepstrum_a[:])\n",
    "pass"
   ]
  },
  {
   "cell_type": "code",
   "execution_count": null,
   "metadata": {},
   "outputs": [],
   "source": [
    "cepstrum_a[0:4]"
   ]
  },
  {
   "cell_type": "markdown",
   "metadata": {},
   "source": [
    "There's always a huge peak near that we will ignore when when estimating pitch"
   ]
  },
  {
   "cell_type": "code",
   "execution_count": null,
   "metadata": {},
   "outputs": [],
   "source": [
    "plot(cepstrum_a[2:])\n",
    "pass"
   ]
  },
  {
   "cell_type": "code",
   "execution_count": null,
   "metadata": {},
   "outputs": [],
   "source": [
    "plot(cepstrum_a[100:200])\n",
    "pass"
   ]
  },
  {
   "cell_type": "code",
   "execution_count": null,
   "metadata": {},
   "outputs": [],
   "source": [
    "16000 / (38 + 100) # Hz"
   ]
  },
  {
   "cell_type": "markdown",
   "metadata": {},
   "source": [
    "> The independent variable of the cepstrum is nominally time since it is the IDFT of a log-spectrum, but is interpreted as a frequency since we are treating the log spectrum as a waveform. The name of the independent variable of the cepstrum is known as a _quefrency_ and a linear filtering operation is known as _liftering_.\n",
    "\n",
    "From a lecture on [Cepstral analysis](http://research.cs.tamu.edu/prism/lectures/sp/l9.pdf).\n",
    "\n",
    "Each quefrency bin in this cepstrum space is called a \"cepstral coefficient\". We will use these coefficients used to built filters and signals.\n",
    "\n",
    "If you find clear peaks in the cepstrum, then it's likely that there is pitched content at those peaks. Whereas if you find no peaks, the content may be unpitched or noisy."
   ]
  },
  {
   "cell_type": "markdown",
   "metadata": {},
   "source": [
    "### [Source-filter](https://en.wikipedia.org/wiki/Source%E2%80%93filter_model_of_speech_production) separation\n",
    "\n",
    "Human voices and other signals may be modeled as a combination of a source signal and a filter.\n",
    "\n",
    "$$s(t) = x(t) * y(t)$$\n",
    "\n",
    "where $s$ is the voice signal, $x$ is the source or excitation signal and $y$ is the filter.\n",
    "\n",
    "$$S(f) = X(f)Y(f)$$\n",
    "\n",
    "$$|S(f)| = |X(f)||Y(f)|$$\n",
    "\n",
    "$$\\ln|S(f)| = \\ln|X(f)| + \\ln|Y(f)|$$ (note the move to + instead of *)\n",
    "\n",
    "\n",
    "$$\\mathcal{F^{-1}}\\big[\\ln|S(f)|\\big] = \\mathcal{F^{-1}}\\big[\\ln|X(f)|\\big] + \\mathcal{F^{-1}}\\big[\\ln|Y(f)|\\big]$$\n",
    "\n",
    "- [lyrebird.ai](https://lyrebird.ai/demo)\n",
    "- [Source Filter Analysis](http://web.science.mq.edu.au/~cassidy/comp449/html/ch07s05.html)\n",
    "- [Speak and Spell](http://www.datamath.org/Speech_IC.htm)\n",
    "- [Linear Predictive Coding](https://en.wikipedia.org/wiki/Linear_predictive_coding)"
   ]
  },
  {
   "cell_type": "code",
   "execution_count": null,
   "metadata": {},
   "outputs": [],
   "source": [
    "pulse = list(r_[1, zeros(50)]) * 40\n",
    "plot(pulse)\n",
    "pass"
   ]
  },
  {
   "cell_type": "code",
   "execution_count": null,
   "metadata": {},
   "outputs": [],
   "source": [
    "plot(abs(rfft(pulse)))\n",
    "pass"
   ]
  },
  {
   "cell_type": "code",
   "execution_count": null,
   "metadata": {},
   "outputs": [],
   "source": [
    "# we're shaping the spectrum using cos as a tool\n",
    "filtered = abs(rfft(pulse)) * cos(linspace(0, 0.5 * pi, len(rfft(pulse)), endpoint=False))\n",
    "plot(filtered)\n",
    "pass"
   ]
  },
  {
   "cell_type": "markdown",
   "metadata": {},
   "source": [
    "### Separate source and filter\n",
    "\n",
    "Finding the first peak in the cepstrum ignoring the lowest, largest coefficients. This peak represents the fundamental pitch of the original signal. Everything below this peak we consider a filter coefficient. Everything above this peak we consider part of the source/excitation signal in the source+filter model."
   ]
  },
  {
   "cell_type": "code",
   "execution_count": null,
   "metadata": {},
   "outputs": [],
   "source": [
    "n0 = argmax(cepstrum_a[100:200]) + 100 # +100 to make up for starting at 100\n",
    "n0"
   ]
  },
  {
   "cell_type": "code",
   "execution_count": null,
   "metadata": {},
   "outputs": [],
   "source": [
    "16000 / n0 # to Hz"
   ]
  },
  {
   "cell_type": "markdown",
   "metadata": {},
   "source": [
    "Everything before the peak represents the filter..."
   ]
  },
  {
   "cell_type": "code",
   "execution_count": null,
   "metadata": {},
   "outputs": [],
   "source": [
    "cepstrum_filter_a = abs(fft.fft(cepstrum_a[:n0 - 1], n=2048))\n",
    "plot(cepstrum_filter_a[:1000])\n",
    "grid()"
   ]
  },
  {
   "cell_type": "code",
   "execution_count": null,
   "metadata": {},
   "outputs": [],
   "source": [
    "plot(cepstrum_filter_a, 'green', lw=3)\n",
    "twinx()\n",
    "plot(log_mag_spec_a)\n",
    "xlim((0,1000))"
   ]
  },
  {
   "cell_type": "markdown",
   "metadata": {},
   "source": [
    "Everything after represents the source (excitation)."
   ]
  },
  {
   "cell_type": "code",
   "execution_count": null,
   "metadata": {},
   "outputs": [],
   "source": [
    "source_coeffs = r_[zeros(n0), cepstrum_a[n0:]]"
   ]
  },
  {
   "cell_type": "code",
   "execution_count": null,
   "metadata": {},
   "outputs": [],
   "source": [
    "cepstrum_source_a = fft.fft(source_coeffs, n=2048)\n",
    "plot(abs(cepstrum_source_a)[:1025])\n",
    "pass"
   ]
  },
  {
   "cell_type": "code",
   "execution_count": null,
   "metadata": {},
   "outputs": [],
   "source": [
    "source_spec = np.e ** (abs(cepstrum_source_a)[:1025])\n",
    "plot(source_spec)\n",
    "pass"
   ]
  },
  {
   "cell_type": "code",
   "execution_count": null,
   "metadata": {},
   "outputs": [],
   "source": [
    "source = fft.ifft(source_spec)\n",
    "plot(source)\n",
    "pass"
   ]
  },
  {
   "cell_type": "code",
   "execution_count": null,
   "metadata": {},
   "outputs": [],
   "source": [
    "source_cycled = list(source * 500) * 50 # the 500 here is because Audio expects 16bit range\n",
    "plot(source_cycled)\n",
    "Audio(source_cycled, rate=sr*2) "
   ]
  },
  {
   "cell_type": "code",
   "execution_count": null,
   "metadata": {},
   "outputs": [],
   "source": [
    "cepstrum_e = ifft(log_mag_spec_e)\n",
    "n0 = argmax(cepstrum_e[100:150]) + 100\n",
    "cepstrum_filter_e = abs(fft.fft(cepstrum_e[:n0 - 1], n=2048))\n",
    "plot(abs(cepstrum_filter_e), 'green', lw=3)\n",
    "twinx()\n",
    "plot(log_mag_spec_e)\n",
    "xlim((0,1000))\n",
    "16000 / n0"
   ]
  },
  {
   "cell_type": "code",
   "execution_count": null,
   "metadata": {},
   "outputs": [],
   "source": [
    "cepstrum_o = ifft(log_mag_spec_o)\n",
    "n0 = argmax(cepstrum_o[100:150]) + 100 # had to do some minor manual adjustments here!\n",
    "cepstrum_filter_o = abs(fft.fft(cepstrum_o[:n0 - 1], n=2048))\n",
    "plot(cepstrum_filter_o, 'green', lw=3)\n",
    "twinx()\n",
    "plot(log_mag_spec_o)\n",
    "\n",
    "xlim((0,1000))\n",
    "16000 / n0"
   ]
  },
  {
   "cell_type": "code",
   "execution_count": null,
   "metadata": {},
   "outputs": [],
   "source": [
    "freqs = linspace(0, sr/2, 2048)\n",
    "plot(freqs, cepstrum_filter_a)\n",
    "plot(freqs, cepstrum_filter_e)\n",
    "plot(freqs, cepstrum_filter_o)\n",
    "\n",
    "legend(['a','e','o'])\n",
    "xlabel('Frequency (Hz)')\n",
    "grid()\n",
    "xlim((0, 4000))\n",
    "title('Cepstra extracted filter for vowels');\n",
    "pass"
   ]
  },
  {
   "cell_type": "markdown",
   "metadata": {},
   "source": [
    "Different amount of detail can be preserved by using more or less cepstral coefficients."
   ]
  },
  {
   "cell_type": "code",
   "execution_count": null,
   "metadata": {},
   "outputs": [],
   "source": [
    "num_coeffs = [10, 15, 30, 50]\n",
    "\n",
    "for n in num_coeffs:\n",
    "    cepstrum_filter = abs(fft.fft(cepstrum_a[:n], n=512))\n",
    "    plot(abs(cepstrum_filter)[:250])\n",
    "\n",
    "legend(num_coeffs)\n",
    "grid()\n",
    "title('Different number of coefficients for Cepstral filter (\"a\")');"
   ]
  },
  {
   "cell_type": "code",
   "execution_count": null,
   "metadata": {},
   "outputs": [],
   "source": [
    "num_coeffs = [10, 15, 30,50]\n",
    "\n",
    "for n in num_coeffs:\n",
    "    cepstrum_filter = abs(fft.fft(cepstrum_e[:n], n=512))\n",
    "    plot(abs(cepstrum_filter)[:250])\n",
    "\n",
    "legend(num_coeffs)\n",
    "grid()\n",
    "title('Different number of coefficients for Cepstral filter (\"e\")');"
   ]
  },
  {
   "cell_type": "code",
   "execution_count": null,
   "metadata": {},
   "outputs": [],
   "source": [
    "num_coeffs = [10, 15, 30, 50]\n",
    "\n",
    "for n in num_coeffs:\n",
    "    cepstrum_filter = abs(fft.fft(cepstrum_o[:n], n=512))\n",
    "    plot(abs(cepstrum_filter)[:250])\n",
    "\n",
    "legend(num_coeffs)\n",
    "grid()\n",
    "title('Different number of coefficients for Cepstral filter (\"o\")');"
   ]
  },
  {
   "cell_type": "markdown",
   "metadata": {},
   "source": [
    "## Using the [DCT](http://en.wikipedia.org/wiki/Discrete_cosine_transform) instead of the FFT"
   ]
  },
  {
   "cell_type": "markdown",
   "metadata": {},
   "source": [
    "DCT type II:\n",
    "\n",
    "$$X_k =\n",
    " \\sum_{n=0}^{N-1} x_n \\cos \\left[\\frac{\\pi}{N} \\left(n+\\frac{1}{2}\\right) k \\right] \\quad \\quad k = 0, \\dots, N-1.$$\n",
    "\n",
    "\n",
    "\n",
    "The DCT is another type of harmonic analysis.\n",
    "\n",
    "- fewer cosine functions are needed to approximate a typical signal\n",
    "- uses only real numbers\n",
    "- reduced computational complexity \n",
    "- for DCT type II, each harmonic is shifted by 0.5 \"steps\" within the analysis window"
   ]
  },
  {
   "cell_type": "code",
   "execution_count": null,
   "metadata": {},
   "outputs": [],
   "source": [
    "N = 1024\n",
    "k = 0\n",
    "phs = linspace(k * 0.5*pi/N, (k * pi *(N-0.5))/N, N)\n",
    "plot(cos(phs))\n",
    "pass"
   ]
  },
  {
   "cell_type": "code",
   "execution_count": null,
   "metadata": {},
   "outputs": [],
   "source": [
    "k = 1\n",
    "phs = linspace(k * 0.5*pi/N, (k * pi *(N-0.5))/N, N)\n",
    "plot(cos(phs))\n",
    "pass"
   ]
  },
  {
   "cell_type": "code",
   "execution_count": null,
   "metadata": {},
   "outputs": [],
   "source": [
    "k = 2\n",
    "phs = linspace(k * 0.5*pi/N, (k * pi *(N-0.5))/N, N)\n",
    "plot(cos(phs))\n",
    "pass"
   ]
  },
  {
   "cell_type": "markdown",
   "metadata": {},
   "source": [
    "This produces some assymetrical aliasing on the second half of the spectrum (i.e. it's not symmetrical like the Fourier Transform for real input)"
   ]
  },
  {
   "cell_type": "code",
   "execution_count": null,
   "metadata": {},
   "outputs": [],
   "source": [
    "k = 1023\n",
    "phs = linspace(k * 0.5 * pi / N, (k * pi * (N - 0.5)) / N, N)\n",
    "plot(cos(phs))\n",
    "pass"
   ]
  },
  {
   "cell_type": "code",
   "execution_count": null,
   "metadata": {},
   "outputs": [],
   "source": [
    "phs = linspace(k * 0.5*pi/N, (k * pi *(N-0.5))/N, N)\n",
    "plot(cos(phs)[0:100])\n",
    "pass"
   ]
  },
  {
   "cell_type": "code",
   "execution_count": null,
   "metadata": {},
   "outputs": [],
   "source": [
    "from scipy.fftpack import dct"
   ]
  },
  {
   "cell_type": "code",
   "execution_count": null,
   "metadata": {},
   "outputs": [],
   "source": [
    "cepstrum_dct_o = dct(log_mag_spec_o)\n",
    "n0 = argmax(cepstrum_dct_o[100:150]) + 100 # had to do some minor manual adjustments here!\n",
    "cepstrum_dct_o = abs(fft.fft(cepstrum_dct_o[:n0 - 1], n=4096))\n",
    "plot(cepstrum_dct_o, 'green', lw=3)\n",
    "\n",
    "twinx()\n",
    "plot((cepstrum_filter_o), 'r')\n",
    "\n",
    "twinx()\n",
    "plot(log_mag_spec_o)\n",
    "\n",
    "xlim((0,1000))"
   ]
  },
  {
   "cell_type": "markdown",
   "metadata": {},
   "source": [
    "## Pitch estimation"
   ]
  },
  {
   "cell_type": "code",
   "execution_count": null,
   "metadata": {},
   "outputs": [],
   "source": [
    "plot(cepstrum_a[1:200])\n",
    "pass"
   ]
  },
  {
   "cell_type": "code",
   "execution_count": null,
   "metadata": {},
   "outputs": [],
   "source": [
    "len(cepstrum_a)"
   ]
  },
  {
   "cell_type": "code",
   "execution_count": null,
   "metadata": {},
   "outputs": [],
   "source": [
    "plot(cepstrum_e[1:200])\n",
    "pass"
   ]
  },
  {
   "cell_type": "code",
   "execution_count": null,
   "metadata": {},
   "outputs": [],
   "source": [
    "plot(cepstrum_o[1:200])\n",
    "pass"
   ]
  },
  {
   "cell_type": "markdown",
   "metadata": {},
   "source": [
    "The x-axis in a Ceptrum plot is called Quefrency. But it is in fact a time axis."
   ]
  },
  {
   "cell_type": "code",
   "execution_count": null,
   "metadata": {},
   "outputs": [],
   "source": [
    "argmax(cepstrum_a[100:150]) + 100"
   ]
  },
  {
   "cell_type": "code",
   "execution_count": null,
   "metadata": {},
   "outputs": [],
   "source": [
    "argmax(cepstrum_e[100:150]) + 100"
   ]
  },
  {
   "cell_type": "code",
   "execution_count": null,
   "metadata": {},
   "outputs": [],
   "source": [
    "argmax(cepstrum_o[100:150]) + 100"
   ]
  },
  {
   "cell_type": "code",
   "execution_count": null,
   "metadata": {},
   "outputs": [],
   "source": [
    "f_a = sr /(argmax(cepstrum_a[100:150]) + 100)\n",
    "f_a"
   ]
  },
  {
   "cell_type": "code",
   "execution_count": null,
   "metadata": {},
   "outputs": [],
   "source": [
    "f_e = sr /(argmax(cepstrum_e[100:150]) + 100)\n",
    "f_e"
   ]
  },
  {
   "cell_type": "code",
   "execution_count": null,
   "metadata": {},
   "outputs": [],
   "source": [
    "f_o = sr /(argmax(cepstrum_o[100:150]) + 100)\n",
    "f_o"
   ]
  },
  {
   "cell_type": "code",
   "execution_count": null,
   "metadata": {},
   "outputs": [],
   "source": [
    "freqs = linspace(0, sr/2, 2049)\n",
    "plot(freqs, log_mag_spec_a)\n",
    "xlim((0, 500))\n",
    "vlines(f_a, 0, 14)\n",
    "grid()"
   ]
  },
  {
   "cell_type": "code",
   "execution_count": null,
   "metadata": {},
   "outputs": [],
   "source": [
    "freqs = linspace(0, sr/2, 2049)\n",
    "plot(freqs, log_mag_spec_e)\n",
    "xlim((0, 500))\n",
    "vlines(f_e, 0, 14)\n",
    "grid()"
   ]
  },
  {
   "cell_type": "code",
   "execution_count": null,
   "metadata": {},
   "outputs": [],
   "source": [
    "freqs = linspace(0, sr/2, 2049)\n",
    "plot(freqs, log_mag_spec_o)\n",
    "xlim((0, 500))\n",
    "vlines(f_o, 0, 16)\n",
    "grid()"
   ]
  },
  {
   "cell_type": "markdown",
   "metadata": {},
   "source": [
    "## Harmonic vs. noisy spectra"
   ]
  },
  {
   "cell_type": "code",
   "execution_count": null,
   "metadata": {},
   "outputs": [],
   "source": [
    "noise = 5000.0 * (random.random(2048) - 0.5)\n",
    "fourier_trans = rfft(noise * hanning(2048), n=4096)\n",
    "mag_spectrum_noise = abs(fourier_trans)\n",
    "log_mag_spec_noise = log(mag_spectrum_noise)\n",
    "plot(log_mag_spec_noise)"
   ]
  },
  {
   "cell_type": "code",
   "execution_count": null,
   "metadata": {},
   "outputs": [],
   "source": [
    "cepstrum_noise = ifft(log_mag_spec_noise)\n",
    "plot(abs(cepstrum_noise[1:]))"
   ]
  },
  {
   "cell_type": "code",
   "execution_count": null,
   "metadata": {},
   "outputs": [],
   "source": [
    "sinsig = 2500.0 * ((sin(linspace(0, 20*2*pi,2048))) + (sin(linspace(0, 40*2*pi,2048))))\n",
    "fourier_trans = rfft(sinsig * hanning(2048), n=4096)\n",
    "mag_spectrum_sinsig = abs(fourier_trans)\n",
    "log_mag_spec_sinsig = log(mag_spectrum_sinsig)\n",
    "plot(log_mag_spec_sinsig)"
   ]
  },
  {
   "cell_type": "code",
   "execution_count": null,
   "metadata": {},
   "outputs": [],
   "source": [
    "cepstrum_sinsig = ifft(log_mag_spec_sinsig)\n",
    "plot(abs(cepstrum_sinsig[1:]))"
   ]
  },
  {
   "cell_type": "markdown",
   "metadata": {},
   "source": [
    "The simplest way can be setting a threshold for the maximum value of the cepstrum, but other techniques to detect flatness or peakedness of the cepstrum can be used."
   ]
  },
  {
   "cell_type": "markdown",
   "metadata": {},
   "source": [
    "# Sinusoidal modeling"
   ]
  },
  {
   "cell_type": "markdown",
   "metadata": {},
   "source": [
    "A signal is modeled as a sum of time varying sinusoids:\n",
    "\n",
    "$$P_k(n) = \\alpha_k(n)\\sin(\\phi_k(n))$$\n",
    "\n",
    "The signal is the sum of each individual sinusoid:\n",
    "\n",
    "$$ s(n) = \\sum\\limits_{k}P_k(n)$$\n",
    "\n",
    "*n* is the point in time (sample number) and *k* is the index to each sinusoidal component.\n"
   ]
  },
  {
   "cell_type": "code",
   "execution_count": null,
   "metadata": {},
   "outputs": [],
   "source": [
    "spec, freqs, bins, _ = specgram(e, NFFT=2048, Fs=16000, noverlap=1024, pad_to=8192)"
   ]
  },
  {
   "cell_type": "code",
   "execution_count": null,
   "metadata": {},
   "outputs": [],
   "source": [
    "spec.shape"
   ]
  },
  {
   "cell_type": "code",
   "execution_count": null,
   "metadata": {},
   "outputs": [],
   "source": [
    "plot(spec[:,0])\n",
    "pass"
   ]
  },
  {
   "cell_type": "markdown",
   "metadata": {},
   "source": [
    "First we find the local maxima to identify peaks:"
   ]
  },
  {
   "cell_type": "code",
   "execution_count": null,
   "metadata": {},
   "outputs": [],
   "source": [
    "maxima = argwhere((spec[:-2, 0] < spec[1:-1, 0]) & (spec[2:, 0] < spec[1:-1, 0])) + 1"
   ]
  },
  {
   "cell_type": "code",
   "execution_count": null,
   "metadata": {},
   "outputs": [],
   "source": [
    "plot(spec[:,0])\n",
    "plot(maxima, spec[maxima, 0], 'o')\n",
    "xlim(0, 2000)\n",
    "pass"
   ]
  },
  {
   "cell_type": "markdown",
   "metadata": {},
   "source": [
    "Now filter by threshold (let's choose 100000):"
   ]
  },
  {
   "cell_type": "code",
   "execution_count": null,
   "metadata": {},
   "outputs": [],
   "source": [
    "peaks = [index for index in maxima if spec[index, 0] > 100000]\n",
    "peaks"
   ]
  },
  {
   "cell_type": "code",
   "execution_count": null,
   "metadata": {},
   "outputs": [],
   "source": [
    "plot(spec[:,0])\n",
    "plot(peaks, spec[peaks, 0], 'o')\n",
    "pass"
   ]
  },
  {
   "cell_type": "code",
   "execution_count": null,
   "metadata": {},
   "outputs": [],
   "source": [
    "peak_list = []\n",
    "for s in spec.T:\n",
    "    maxima = argwhere((s[:-2] < s[1:-1]) & (s[2:] < s[1:-1])) + 1\n",
    "    peaks = [(freqs[index][0], s[index][0]) for index in maxima if s[index] > 100000]\n",
    "    peak_list.append(peaks)"
   ]
  },
  {
   "cell_type": "code",
   "execution_count": null,
   "metadata": {},
   "outputs": [],
   "source": [
    "A = (4,5)\n",
    "A[0] = 2"
   ]
  },
  {
   "cell_type": "code",
   "execution_count": null,
   "metadata": {},
   "outputs": [],
   "source": [
    "peak_list[0]"
   ]
  },
  {
   "cell_type": "code",
   "execution_count": null,
   "metadata": {},
   "outputs": [],
   "source": [
    "array(peak_list[0])"
   ]
  },
  {
   "cell_type": "code",
   "execution_count": null,
   "metadata": {},
   "outputs": [],
   "source": [
    "array(peak_list[0])[0]"
   ]
  },
  {
   "cell_type": "code",
   "execution_count": null,
   "metadata": {},
   "outputs": [],
   "source": [
    "array(peak_list[0])[0, 0]"
   ]
  },
  {
   "cell_type": "code",
   "execution_count": null,
   "metadata": {},
   "outputs": [],
   "source": [
    "array(peak_list[0])[:,0]"
   ]
  },
  {
   "cell_type": "code",
   "execution_count": null,
   "metadata": {},
   "outputs": [],
   "source": [
    "array(peak_list[0])[:,1] # amplitudes"
   ]
  },
  {
   "cell_type": "code",
   "execution_count": null,
   "metadata": {},
   "outputs": [],
   "source": [
    "for i, peaks in enumerate(peak_list):\n",
    "    freqs = array(peaks)[:,0]\n",
    "    plot(ones(len(freqs))*i, freqs, 'o')"
   ]
  },
  {
   "cell_type": "code",
   "execution_count": null,
   "metadata": {},
   "outputs": [],
   "source": [
    "specgram(e, NFFT=2048, Fs=16000, noverlap=1024, pad_to=8192)\n",
    "for i, peaks in enumerate(peak_list):\n",
    "    freqs = array(peaks)[:,0]\n",
    "    plot(ones(len(freqs))*bins[i], freqs, 'o')"
   ]
  },
  {
   "cell_type": "code",
   "execution_count": null,
   "metadata": {},
   "outputs": [],
   "source": [
    "specgram(e, NFFT=2048, Fs=16000, noverlap=1024, pad_to=8192, interpolation='nearest')\n",
    "for i, peaks in enumerate(peak_list):\n",
    "    freqs = array(peaks)[:,0]\n",
    "    plot(ones(len(freqs))*bins[i], freqs, 'o')\n",
    "\n",
    "ylim((0, 1000))"
   ]
  },
  {
   "cell_type": "markdown",
   "metadata": {},
   "source": [
    "Top part of the spectrum:"
   ]
  },
  {
   "cell_type": "code",
   "execution_count": null,
   "metadata": {},
   "outputs": [],
   "source": [
    "specgram(e, NFFT=2048, Fs=16000, noverlap=1024, pad_to=8192, interpolation='nearest')\n",
    "for i, peaks in enumerate(peak_list):\n",
    "    freqs = array(peaks)[:,0]\n",
    "    plot(ones(len(freqs))*bins[i], freqs, 'o')\n",
    "\n",
    "ylim((1500, 3000))"
   ]
  },
  {
   "cell_type": "markdown",
   "metadata": {},
   "source": [
    "Now connect the dots. First start tracks at initial peak list:"
   ]
  },
  {
   "cell_type": "code",
   "execution_count": null,
   "metadata": {},
   "outputs": [],
   "source": [
    "tracks = [[r_[freq, amp, bins[0]]] for freq, amp in peak_list.pop(0)]\n",
    "tracks"
   ]
  },
  {
   "cell_type": "code",
   "execution_count": null,
   "metadata": {},
   "outputs": [],
   "source": [
    "tracks_ = array(tracks)\n",
    "tracks_, tracks_.shape"
   ]
  },
  {
   "cell_type": "markdown",
   "metadata": {},
   "source": [
    "Then start connecting frame by frame:"
   ]
  },
  {
   "cell_type": "code",
   "execution_count": null,
   "metadata": {},
   "outputs": [],
   "source": [
    "new_peaks = peak_list.pop(0)\n",
    "new_peaks"
   ]
  },
  {
   "cell_type": "code",
   "execution_count": null,
   "metadata": {},
   "outputs": [],
   "source": [
    "f = new_peaks[0][0]\n",
    "f"
   ]
  },
  {
   "cell_type": "code",
   "execution_count": null,
   "metadata": {},
   "outputs": [],
   "source": [
    "tracks[:]"
   ]
  },
  {
   "cell_type": "code",
   "execution_count": null,
   "metadata": {},
   "outputs": [],
   "source": [
    "last_bps_freq = []\n",
    "last_bps_time = []\n",
    "\n",
    "for bps in tracks:\n",
    "    last_bps_freq.append(bps[-1][0]) # get last breakpoint for all tracks\n",
    "    last_bps_time.append(bps[-1][2]) # get last breakpoint for all tracks\n",
    "\n",
    "print(last_bps_freq)"
   ]
  },
  {
   "cell_type": "code",
   "execution_count": null,
   "metadata": {},
   "outputs": [],
   "source": [
    "tracks[:]"
   ]
  },
  {
   "cell_type": "markdown",
   "metadata": {},
   "source": [
    "But last breakpoint must be from the previous frame!"
   ]
  },
  {
   "cell_type": "code",
   "execution_count": null,
   "metadata": {},
   "outputs": [],
   "source": [
    "previous_frame_time = bins[0]\n",
    "previous_frame_time"
   ]
  },
  {
   "cell_type": "code",
   "execution_count": null,
   "metadata": {},
   "outputs": [],
   "source": [
    "active_tracks = argwhere(last_bps_time == previous_frame_time)\n",
    "active_tracks = array(active_tracks)\n",
    "active_tracks"
   ]
  },
  {
   "cell_type": "code",
   "execution_count": null,
   "metadata": {},
   "outputs": [],
   "source": [
    "prev_freqs = array(tracks)[active_tracks,-1,0]\n",
    "prev_freqs"
   ]
  },
  {
   "cell_type": "code",
   "execution_count": null,
   "metadata": {},
   "outputs": [],
   "source": [
    "dists = abs(prev_freqs - f)\n",
    "dists"
   ]
  },
  {
   "cell_type": "code",
   "execution_count": null,
   "metadata": {},
   "outputs": [],
   "source": [
    "argmin(dists)"
   ]
  },
  {
   "cell_type": "code",
   "execution_count": null,
   "metadata": {},
   "outputs": [],
   "source": [
    "active_tracks[argmin(dists)]"
   ]
  },
  {
   "cell_type": "code",
   "execution_count": null,
   "metadata": {},
   "outputs": [],
   "source": [
    "best_matches = []\n",
    "for peak in new_peaks:\n",
    "    f = peak[0]\n",
    "    dists = abs(prev_freqs - f)\n",
    "    best_matches.append([active_tracks[argmin(dists)], dists.min()])\n",
    "\n",
    "best_matches = array(best_matches)\n",
    "best_matches"
   ]
  },
  {
   "cell_type": "markdown",
   "metadata": {},
   "source": [
    "Now that we have the best match for each of the new points, we need to decide which ones get connected."
   ]
  },
  {
   "cell_type": "code",
   "execution_count": null,
   "metadata": {},
   "outputs": [],
   "source": [
    "argwhere(best_matches[:, 0] == 0)"
   ]
  },
  {
   "cell_type": "code",
   "execution_count": null,
   "metadata": {},
   "outputs": [],
   "source": [
    "argwhere(best_matches[:, 0] == 3)"
   ]
  },
  {
   "cell_type": "code",
   "execution_count": null,
   "metadata": {},
   "outputs": [],
   "source": [
    "best_matches[argwhere(best_matches[:, 0] == 3)]"
   ]
  },
  {
   "cell_type": "code",
   "execution_count": null,
   "metadata": {},
   "outputs": [],
   "source": [
    "best_matches[argwhere(best_matches[:, 0] == 3)][:,:,1]"
   ]
  },
  {
   "cell_type": "code",
   "execution_count": null,
   "metadata": {},
   "outputs": [],
   "source": [
    "best_next = argmin(best_matches[argwhere(best_matches[:, 0] == 3)][:,:,1])\n",
    "best_next"
   ]
  },
  {
   "cell_type": "code",
   "execution_count": null,
   "metadata": {},
   "outputs": [],
   "source": [
    "best_next += argwhere(best_matches[:, 0] == 3)[0]\n",
    "best_next"
   ]
  },
  {
   "cell_type": "markdown",
   "metadata": {},
   "source": [
    "Check if close enough"
   ]
  },
  {
   "cell_type": "code",
   "execution_count": null,
   "metadata": {},
   "outputs": [],
   "source": [
    "dist_th = 100 # Set maximum distance allowed for connection\n",
    "if best_matches[best_next,1] < dist_th:\n",
    "    print(\"Match!\")"
   ]
  },
  {
   "cell_type": "markdown",
   "metadata": {},
   "source": [
    "Now, all together:"
   ]
  },
  {
   "cell_type": "code",
   "execution_count": null,
   "metadata": {},
   "outputs": [],
   "source": [
    "spec, freqs, bins, im = specgram(e, 2048, 16000, noverlap=1024, pad_to=8192)\n",
    "\n",
    "peak_list = []\n",
    "for s in spec.T:\n",
    "    maxima = argwhere((s[:-2] < s[1:-1]) & (s[2:] < s[1:-1])) + 1\n",
    "    peaks = [(freqs[index], s[index]) for index in maxima if s[index] > 1000]\n",
    "    peak_list.append(peaks)\n",
    "\n",
    "tracks = [[r_[freq, amp, bins[0]]] for freq, amp in peak_list.pop(0)] #inital tracks from initial peaks\n",
    "tracks = array(tracks)"
   ]
  },
  {
   "cell_type": "code",
   "execution_count": null,
   "metadata": {},
   "outputs": [],
   "source": [
    "new_peaks = peak_list.pop(0)\n",
    "last_bps = tracks[:,-1,:]\n",
    "last_bps[:,2]\n",
    "previous_frame_time = 0.064\n",
    "\n",
    "active_tracks = argwhere(last_bps[:,2] == previous_frame_time)\n",
    "active_tracks = array(active_tracks)\n",
    "prev_freqs = tracks[active_tracks,-1,0]\n",
    "\n",
    "best_matches = []\n",
    "for peak in new_peaks:\n",
    "    f = peak[0]\n",
    "    dists = abs(prev_freqs - f)\n",
    "    best_matches.append([active_tracks[argmin(dists)][0], dists.min()])\n",
    "\n",
    "best_matches = array(best_matches)\n",
    "connections = dict()\n",
    "\n",
    "for i in set(best_matches[:, 0]):\n",
    "    best_next = argmin(best_matches[argwhere(best_matches[:, 0] == i)][:,:,1])\n",
    "    best_next += argwhere(best_matches[:, 0] == i)[0]\n",
    "    connections[int(i)] = best_next[0]\n",
    "\n",
    "connections"
   ]
  },
  {
   "cell_type": "markdown",
   "metadata": {},
   "source": [
    "Finally place breakpoints in tracks. (Exercise left to the reader)\n",
    "\n",
    "Try sinusoidal modeling:\n",
    "\n",
    "http://www.klingbeil.com/spear/\n",
    "\n",
    "http://mtg.upf.edu/technologies/sms\n",
    "\n",
    "http://www.cerlsoundgroup.org/Loris/\n",
    "\n",
    "https://ccrma.stanford.edu/~juan/ATS_manual.html\n",
    "\n",
    "Streaming real-time:\n",
    "\n",
    "* http://www.csounds.com/manual/html/partials.html\n",
    "* http://doc.sccode.org/Classes/TPV.html"
   ]
  },
  {
   "cell_type": "markdown",
   "metadata": {},
   "source": [
    "By: Andrés Cabrera mantaraya36@gmail.com\n",
    "For MAT course MAT 201A at UCSB\n",
    "\n",
    "Adapted by Karl Yerkes\n",
    "\n",
    "This ipython notebook is licensed under the CC-BY-NC-SA license: http://creativecommons.org/licenses/by-nc-sa/4.0/\n",
    "\n",
    "![http://i.creativecommons.org/l/by-nc-sa/3.0/88x31.png](http://i.creativecommons.org/l/by-nc-sa/3.0/88x31.png)"
   ]
  }
 ],
 "metadata": {
  "kernelspec": {
   "display_name": "Python 3",
   "language": "python",
   "name": "python3"
  },
  "language_info": {
   "codemirror_mode": {
    "name": "ipython",
    "version": 3
   },
   "file_extension": ".py",
   "mimetype": "text/x-python",
   "name": "python",
   "nbconvert_exporter": "python",
   "pygments_lexer": "ipython3",
   "version": "3.6.1"
  }
 },
 "nbformat": 4,
 "nbformat_minor": 1
}
