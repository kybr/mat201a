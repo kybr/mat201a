{
 "cells": [
  {
   "cell_type": "code",
   "execution_count": null,
   "metadata": {},
   "outputs": [],
   "source": [
    "%pylab inline\n",
    "rcParams['figure.figsize'] = (15, 4) #wide graphs by default\n",
    "from __future__ import print_function\n",
    "from __future__ import division"
   ]
  },
  {
   "cell_type": "markdown",
   "metadata": {},
   "source": [
    "# Image Filters"
   ]
  },
  {
   "cell_type": "markdown",
   "metadata": {},
   "source": [
    "## 2D convolution"
   ]
  },
  {
   "cell_type": "code",
   "execution_count": null,
   "metadata": {},
   "outputs": [],
   "source": [
    "from scipy.signal import convolve2d"
   ]
  },
  {
   "cell_type": "code",
   "execution_count": null,
   "metadata": {},
   "outputs": [],
   "source": [
    "mat = zeros((100, 100))\n",
    "mat[50, 50] = 1\n",
    "imshow(mat, cmap=cm.gray, interpolation='nearest')\n",
    "colorbar()\n",
    "pass"
   ]
  },
  {
   "cell_type": "code",
   "execution_count": null,
   "metadata": {},
   "outputs": [],
   "source": [
    "kernel = ones((20, 20)) / 20"
   ]
  },
  {
   "cell_type": "code",
   "execution_count": null,
   "metadata": {},
   "outputs": [],
   "source": [
    "from scipy.signal import freqz\n",
    "ir = ones(20) / 20\n",
    "w, h = freqz(ir)\n",
    "plot(abs(h))\n",
    "pass"
   ]
  },
  {
   "cell_type": "code",
   "execution_count": null,
   "metadata": {},
   "outputs": [],
   "source": [
    "c = convolve2d(mat, kernel)\n",
    "imshow(c, cmap= cm.gray, interpolation='nearest')\n",
    "colorbar()\n",
    "pass"
   ]
  },
  {
   "cell_type": "code",
   "execution_count": null,
   "metadata": {},
   "outputs": [],
   "source": [
    "mat = zeros((100, 100))\n",
    "mat[50, 50] = 1\n",
    "kernel = zeros((20, 20))\n",
    "kernel[10, :] = 1\n",
    "kernel[:, 10] = 1\n",
    "subplot(121)\n",
    "imshow(kernel, cmap=cm.gray, interpolation='nearest')\n",
    "subplot(122)\n",
    "imshow(mat, cmap=cm.gray, interpolation='nearest')\n",
    "pass"
   ]
  },
  {
   "cell_type": "code",
   "execution_count": null,
   "metadata": {},
   "outputs": [],
   "source": [
    "c = convolve2d(mat, kernel)\n",
    "imshow(c, cmap=cm.gray, interpolation='nearest')\n",
    "colorbar()\n",
    "pass"
   ]
  },
  {
   "cell_type": "code",
   "execution_count": null,
   "metadata": {},
   "outputs": [],
   "source": [
    "a = random.rand(64, 64)\n",
    "snow = where(a > 0.997, 1, 0)\n",
    "imshow(snow, cmap=cm.gray, interpolation='nearest')\n",
    "colorbar()\n",
    "pass"
   ]
  },
  {
   "cell_type": "code",
   "execution_count": null,
   "metadata": {},
   "outputs": [],
   "source": [
    "c = convolve2d(snow, kernel)\n",
    "imshow(c, cmap=cm.gray, interpolation='nearest')\n",
    "colorbar()\n",
    "pass"
   ]
  },
  {
   "cell_type": "code",
   "execution_count": null,
   "metadata": {},
   "outputs": [],
   "source": [
    "from scipy.ndimage.filters import convolve as convolve2 # renaming looks like this!\n",
    "kernel_ghost = zeros((31, 31))\n",
    "kernel_ghost[15, 15] = 1\n",
    "kernel_ghost[30, 30] = 0.5\n",
    "imshow(kernel_ghost, cmap = cm.gray, interpolation='nearest')\n",
    "pass"
   ]
  },
  {
   "cell_type": "code",
   "execution_count": null,
   "metadata": {},
   "outputs": [],
   "source": [
    "rcParams['figure.figsize'] = (10, 10)\n",
    "from scipy.misc import ascent\n",
    "i = ascent()\n",
    "imshow(i, cmap=cm.gray)\n",
    "colorbar()\n",
    "i.dtype"
   ]
  },
  {
   "cell_type": "code",
   "execution_count": null,
   "metadata": {},
   "outputs": [],
   "source": [
    "ghost = convolve2(i[:, :], kernel_ghost)\n",
    "imshow(ghost, cmap = cm.gray, interpolation='nearest')\n",
    "colorbar()\n",
    "pass"
   ]
  },
  {
   "cell_type": "code",
   "execution_count": null,
   "metadata": {},
   "outputs": [],
   "source": [
    "rcParams['figure.figsize'] = (10, 4)\n",
    "kernel_stamp = zeros((30, 30))\n",
    "kernel_stamp[arange(30), arange(30)] = 1.0\n",
    "imshow(kernel_stamp, cmap=cm.gray, interpolation='nearest')\n",
    "pass"
   ]
  },
  {
   "cell_type": "code",
   "execution_count": null,
   "metadata": {},
   "outputs": [],
   "source": [
    "subplot(131)\n",
    "src_image = i[:, :]\n",
    "imshow(src_image, cmap=cm.gray, interpolation='nearest')\n",
    "\n",
    "subplot(132) # this is with the \\ (backslash)\n",
    "kernel_stamp = zeros((30, 30))\n",
    "kernel_stamp[arange(30), arange(30)] = 1.0\n",
    "stamp = convolve2(src_image, kernel_stamp)\n",
    "imshow(stamp, cmap=cm.gray, interpolation='nearest')\n",
    "\n",
    "subplot(133) # the cross again\n",
    "kernel_stamp = zeros((30, 30))\n",
    "kernel_stamp[15, :] = 1.0\n",
    "kernel_stamp[: ,15] = 1.0\n",
    "stamp = convolve2(src_image, kernel_stamp)\n",
    "imshow(stamp, cmap=cm.gray, interpolation='nearest')\n",
    "gcf().set_figwidth(16)"
   ]
  },
  {
   "cell_type": "markdown",
   "metadata": {},
   "source": [
    "## Gaussian Filter"
   ]
  },
  {
   "cell_type": "code",
   "execution_count": null,
   "metadata": {},
   "outputs": [],
   "source": [
    "import scipy.ndimage as ndimage"
   ]
  },
  {
   "cell_type": "code",
   "execution_count": null,
   "metadata": {},
   "outputs": [],
   "source": [
    "single_dot = zeros((101, 101))\n",
    "single_dot[50, 50] = 1.0\n",
    "gauss_kernel = ndimage.gaussian_filter(single_dot, 5)\n",
    "imshow(gauss_kernel, cmap=cm.gray)\n",
    "colorbar()\n",
    "pass"
   ]
  },
  {
   "cell_type": "code",
   "execution_count": null,
   "metadata": {},
   "outputs": [],
   "source": [
    "from mpl_toolkits.mplot3d import Axes3D\n",
    "\n",
    "fig = figure()\n",
    "ax = Axes3D(fig)\n",
    "x, y = mgrid[0:101, 0:101]\n",
    "ax.plot_surface(x, y, gauss_kernel)\n",
    "fig.add_axes(ax)\n",
    "pass"
   ]
  },
  {
   "cell_type": "code",
   "execution_count": null,
   "metadata": {},
   "outputs": [],
   "source": [
    "plot(abs(fft.rfft(gauss_kernel[:, 50])), 'o-')\n",
    "pass"
   ]
  },
  {
   "cell_type": "code",
   "execution_count": null,
   "metadata": {},
   "outputs": [],
   "source": [
    "plot(abs(fft.rfft(gauss_kernel[:, 50], n=512)))\n",
    "\n",
    "twinx()\n",
    "plot(angle(fft.rfft(gauss_kernel[:, 50], n=512)), 'r')\n",
    "pass"
   ]
  },
  {
   "cell_type": "markdown",
   "metadata": {},
   "source": [
    "It's a low-pass filter!"
   ]
  },
  {
   "cell_type": "code",
   "execution_count": null,
   "metadata": {},
   "outputs": [],
   "source": [
    "rcParams['figure.figsize'] = (10, 10)\n",
    "gauss_blur = convolve2(src_image, gauss_kernel)\n",
    "imshow(gauss_blur, cmap=cm.gray, interpolation= 'nearest')\n",
    "colorbar()\n",
    "pass"
   ]
  },
  {
   "cell_type": "code",
   "execution_count": null,
   "metadata": {},
   "outputs": [],
   "source": [
    "rcParams['figure.figsize'] = (10, 4)\n",
    "single_dot = zeros((101, 101))\n",
    "single_dot[50, 50] = 1.0\n",
    "gauss_kernel = ndimage.gaussian_filter(single_dot, 20) # note the new sigma!\n",
    "imshow(gauss_kernel, interpolation='nearest')\n",
    "colorbar()\n",
    "pass"
   ]
  },
  {
   "cell_type": "code",
   "execution_count": null,
   "metadata": {},
   "outputs": [],
   "source": [
    "rcParams['figure.figsize'] = (10, 10)\n",
    "gauss_blur = convolve2(src_image, gauss_kernel)\n",
    "imshow(gauss_blur, cmap=cm.gray, interpolation= 'nearest')\n",
    "colorbar()\n",
    "pass"
   ]
  },
  {
   "cell_type": "code",
   "execution_count": null,
   "metadata": {},
   "outputs": [],
   "source": [
    "rcParams['figure.figsize'] = (10, 4)\n",
    "plot(abs(fft.rfft(gauss_kernel[:, 50], n= 512)))\n",
    "pass"
   ]
  },
  {
   "cell_type": "markdown",
   "metadata": {},
   "source": [
    "It's an even lower-pass filter!"
   ]
  },
  {
   "cell_type": "code",
   "execution_count": null,
   "metadata": {},
   "outputs": [],
   "source": [
    "import scipy.stats as stats\n",
    "gauss = stats.norm.pdf(arange(17), loc=8, scale=5)\n",
    "stem(gauss)\n",
    "gauss.shape"
   ]
  },
  {
   "cell_type": "code",
   "execution_count": null,
   "metadata": {},
   "outputs": [],
   "source": [
    "sum(gauss)"
   ]
  },
  {
   "cell_type": "code",
   "execution_count": null,
   "metadata": {},
   "outputs": [],
   "source": [
    "kernel = zeros((17,17))\n",
    "kernel[8,:] = gauss\n",
    "imshow(kernel, cmap = cm.gray, interpolation='nearest')\n",
    "colorbar()\n",
    "pass"
   ]
  },
  {
   "cell_type": "code",
   "execution_count": null,
   "metadata": {},
   "outputs": [],
   "source": [
    "plot(abs(rfft(gauss, 512)))\n",
    "pass"
   ]
  },
  {
   "cell_type": "code",
   "execution_count": null,
   "metadata": {},
   "outputs": [],
   "source": [
    "subplot(121)\n",
    "imshow(kernel, interpolation='nearest', cmap=cm.gray)\n",
    "subplot(122)\n",
    "imshow(gauss_kernel, interpolation='nearest', cmap=cm.gray)\n",
    "pass"
   ]
  },
  {
   "cell_type": "code",
   "execution_count": null,
   "metadata": {},
   "outputs": [],
   "source": [
    "\n",
    "subplot(141)\n",
    "imshow(src_image, cmap=cm.gray, interpolation='nearest')\n",
    "\n",
    "c = convolve2(src_image, kernel)\n",
    "subplot(142)\n",
    "imshow(c, cmap=cm.gray, interpolation='nearest')\n",
    "\n",
    "c = convolve2(src_image, gauss_kernel)\n",
    "subplot(143)\n",
    "imshow(c, cmap=cm.gray, interpolation='nearest')\n",
    "\n",
    "subplot(144)\n",
    "imshow(ndimage.gaussian_filter(src_image, 5), cmap=cm.gray, interpolation='nearest')\n",
    "\n",
    "gcf().set_figwidth(16)"
   ]
  },
  {
   "cell_type": "markdown",
   "metadata": {},
   "source": [
    "### Reduce [Moiré patterns](https://en.wikipedia.org/wiki/Moir%C3%A9_pattern) / Anti-aliasing"
   ]
  },
  {
   "cell_type": "code",
   "execution_count": null,
   "metadata": {},
   "outputs": [],
   "source": [
    "pyt = imread('media/maxresdefault.png')\n",
    "imshow(pyt)\n",
    "gcf().set_figheight(8)"
   ]
  },
  {
   "cell_type": "code",
   "execution_count": null,
   "metadata": {},
   "outputs": [],
   "source": [
    "from scipy.misc import imresize"
   ]
  },
  {
   "cell_type": "code",
   "execution_count": null,
   "metadata": {},
   "outputs": [],
   "source": [
    "shape(pyt)"
   ]
  },
  {
   "cell_type": "code",
   "execution_count": null,
   "metadata": {},
   "outputs": [],
   "source": [
    "1064 * 0.08"
   ]
  },
  {
   "cell_type": "code",
   "execution_count": null,
   "metadata": {},
   "outputs": [],
   "source": [
    "resized = imresize(pyt, 0.08, interp='nearest')"
   ]
  },
  {
   "cell_type": "code",
   "execution_count": null,
   "metadata": {},
   "outputs": [],
   "source": [
    "imshow(resized, interpolation='nearest')\n",
    "pass"
   ]
  },
  {
   "cell_type": "code",
   "execution_count": null,
   "metadata": {},
   "outputs": [],
   "source": [
    "resized_soft = imresize(ndimage.gaussian_filter(pyt, 4.0), 0.08, interp='nearest')\n",
    "imshow(resized_soft, interpolation='nearest')\n",
    "pass"
   ]
  },
  {
   "cell_type": "code",
   "execution_count": null,
   "metadata": {},
   "outputs": [],
   "source": [
    "imshow(ndimage.gaussian_filter(resized, 0.4), interpolation='nearest')\n",
    "pass"
   ]
  },
  {
   "cell_type": "markdown",
   "metadata": {},
   "source": [
    "## Uniform filter"
   ]
  },
  {
   "cell_type": "code",
   "execution_count": null,
   "metadata": {},
   "outputs": [],
   "source": [
    "\n",
    "\n",
    "subplot(121)\n",
    "single_dot = zeros((101, 101))\n",
    "single_dot[50, 50] = 1.0\n",
    "imshow(single_dot)\n",
    "\n",
    "subplot(122)\n",
    "uniform_kernel = ndimage.uniform_filter(single_dot, 20)\n",
    "imshow(uniform_kernel)\n",
    "colorbar()\n",
    "\n",
    "sum(uniform_kernel)\n"
   ]
  },
  {
   "cell_type": "markdown",
   "metadata": {},
   "source": [
    "Another low-pass filter"
   ]
  },
  {
   "cell_type": "code",
   "execution_count": null,
   "metadata": {},
   "outputs": [],
   "source": [
    "plot(abs(rfft(uniform_kernel[:, 50], 512)))\n",
    "pass"
   ]
  },
  {
   "cell_type": "code",
   "execution_count": null,
   "metadata": {},
   "outputs": [],
   "source": [
    "from scipy.misc import face\n",
    "print(shape(face()))\n",
    "src_image = sum(face(), axis=2) / face().shape[2] # make grey"
   ]
  },
  {
   "cell_type": "code",
   "execution_count": null,
   "metadata": {},
   "outputs": [],
   "source": [
    "\n",
    "subplot(121)\n",
    "imshow(src_image)\n",
    "subplot(122)\n",
    "src_image_eyes = src_image[250:400,525:775]\n",
    "imshow(src_image_eyes, cmap= cm.gray)\n",
    "pass"
   ]
  },
  {
   "cell_type": "code",
   "execution_count": null,
   "metadata": {},
   "outputs": [],
   "source": [
    "#rcParams['figure.figsize'] = (10, 10)\n",
    "subplot(121)\n",
    "imshow(ndimage.gaussian_filter(src_image_eyes, 5), cmap=cm.gray, interpolation='nearest')\n",
    "#colorbar()\n",
    "subplot(122)\n",
    "imshow(ndimage.uniform_filter(src_image_eyes, 13), cmap=cm.gray, interpolation='nearest')\n",
    "#colorbar()\n",
    "gcf().set_figwidth(16)\n",
    "\n",
    "# "
   ]
  },
  {
   "cell_type": "markdown",
   "metadata": {},
   "source": [
    "This filter is often called \"Mean filter\""
   ]
  },
  {
   "cell_type": "markdown",
   "metadata": {},
   "source": [
    "# Median Filter"
   ]
  },
  {
   "cell_type": "code",
   "execution_count": null,
   "metadata": {},
   "outputs": [],
   "source": [
    "def imshow2(im):\n",
    "    imshow(im, cmap=cm.gray, interpolation='nearest')"
   ]
  },
  {
   "cell_type": "code",
   "execution_count": null,
   "metadata": {},
   "outputs": [],
   "source": [
    "#rcParams['figure.figsize'] = (10, 10)\n",
    "subplot(121)\n",
    "c3 = ndimage.median_filter(src_image_eyes, size=15)\n",
    "imshow2(c3)\n",
    "subplot(122)\n",
    "foo = ndimage.uniform_filter(src_image_eyes, 15)\n",
    "imshow2(foo)\n",
    "gcf().set_figwidth(16)"
   ]
  },
  {
   "cell_type": "code",
   "execution_count": null,
   "metadata": {},
   "outputs": [],
   "source": [
    "noise = where(random.random(src_image_eyes.shape) > 0.9, 0.5, 0)\n",
    "imshow2(noise)\n",
    "pass"
   ]
  },
  {
   "cell_type": "code",
   "execution_count": null,
   "metadata": {},
   "outputs": [],
   "source": [
    "print(mean(noise), amax(noise), mean(src_image_eyes), amax(src_image_eyes))\n",
    "src_image_eyes.max(), src_image_eyes.dtype"
   ]
  },
  {
   "cell_type": "code",
   "execution_count": null,
   "metadata": {},
   "outputs": [],
   "source": [
    "noisy_image = (src_image_eyes / 255.0) + noise\n",
    "imshow2(noisy_image)\n",
    "amin(noisy_image), mean(noisy_image), amax(noisy_image)"
   ]
  },
  {
   "cell_type": "code",
   "execution_count": null,
   "metadata": {},
   "outputs": [],
   "source": [
    "noisy_image /= noisy_image.max() # normalize"
   ]
  },
  {
   "cell_type": "code",
   "execution_count": null,
   "metadata": {},
   "outputs": [],
   "source": [
    "subplot(131)\n",
    "imshow2(ndimage.gaussian_filter(noisy_image, 5))\n",
    "subplot(132)\n",
    "imshow2(ndimage.gaussian_filter(noisy_image, 3))\n",
    "subplot(133)\n",
    "imshow2(ndimage.gaussian_filter(noisy_image, 1))\n",
    "gcf().set_figwidth(16)"
   ]
  },
  {
   "cell_type": "code",
   "execution_count": null,
   "metadata": {},
   "outputs": [],
   "source": [
    "subplot(131)\n",
    "imshow2(ndimage.median_filter(noisy_image, 3))\n",
    "\n",
    "subplot(132)\n",
    "imshow2(ndimage.median_filter(noisy_image, 10))\n",
    "\n",
    "subplot(133)\n",
    "imshow2(ndimage.median_filter(noisy_image, 4))\n",
    "\n",
    "gcf().set_figwidth(16)"
   ]
  },
  {
   "cell_type": "markdown",
   "metadata": {},
   "source": [
    "# Sharpening"
   ]
  },
  {
   "cell_type": "code",
   "execution_count": null,
   "metadata": {},
   "outputs": [],
   "source": [
    "title('Sharpen')\n",
    "subplot(131)\n",
    "imshow2(src_image)\n",
    "\n",
    "subplot(132)\n",
    "blurred = ndimage.gaussian_filter(src_image, 1)\n",
    "sharpened = src_image - blurred * 0.5\n",
    "imshow2(sharpened)\n",
    "\n",
    "subplot(133)\n",
    "blurred = ndimage.gaussian_filter(src_image, 1)\n",
    "difference = src_image - blurred\n",
    "imshow2(difference)\n",
    "gcf().set_figwidth(16)"
   ]
  },
  {
   "cell_type": "markdown",
   "metadata": {},
   "source": [
    "Turn the Gaussian Low-pass filter into a High-pass filter"
   ]
  },
  {
   "cell_type": "code",
   "execution_count": null,
   "metadata": {},
   "outputs": [],
   "source": [
    "rcParams['figure.figsize'] = (15, 4)\n",
    "gauss = stats.norm.pdf(arange(33), loc=16, scale=2.5)\n",
    "plot(gauss)\n",
    "pass"
   ]
  },
  {
   "cell_type": "code",
   "execution_count": null,
   "metadata": {},
   "outputs": [],
   "source": [
    "sharpen = zeros(33)\n",
    "sharpen[16] = 1\n",
    "sharpen -= gauss\n",
    "plot(sharpen)\n",
    "pass"
   ]
  },
  {
   "cell_type": "code",
   "execution_count": null,
   "metadata": {},
   "outputs": [],
   "source": [
    "plot(abs(rfft(sharpen)))\n",
    "pass"
   ]
  },
  {
   "cell_type": "code",
   "execution_count": null,
   "metadata": {},
   "outputs": [],
   "source": [
    "imshow(mat)"
   ]
  },
  {
   "cell_type": "code",
   "execution_count": null,
   "metadata": {},
   "outputs": [],
   "source": [
    "log_kernel = ndimage.gaussian_laplace(mat, 5)\n",
    "imshow(log_kernel, interpolation='nearest')\n",
    "colorbar()\n",
    "pass"
   ]
  },
  {
   "cell_type": "code",
   "execution_count": null,
   "metadata": {},
   "outputs": [],
   "source": [
    "plot(log_kernel[:,50])\n",
    "pass"
   ]
  },
  {
   "cell_type": "code",
   "execution_count": null,
   "metadata": {},
   "outputs": [],
   "source": [
    "plot(abs(fft.rfft(log_kernel[:,50])))\n",
    "pass"
   ]
  },
  {
   "cell_type": "markdown",
   "metadata": {},
   "source": [
    "# Mathematical morphology"
   ]
  },
  {
   "cell_type": "markdown",
   "metadata": {},
   "source": [
    "http://en.wikipedia.org/wiki/Mathematical_morphology"
   ]
  },
  {
   "cell_type": "code",
   "execution_count": null,
   "metadata": {},
   "outputs": [],
   "source": [
    "def imshow2(image):\n",
    "    imshow(image, interpolation='nearest', cmap=cm.gray)"
   ]
  },
  {
   "cell_type": "code",
   "execution_count": null,
   "metadata": {},
   "outputs": [],
   "source": [
    "src_image = zeros((100,100))\n",
    "src_image[25:-25, 25:-25] = 1.0\n",
    "noise =  where(random.random(src_image.shape) > 0.98, 0.5, 0)\n",
    "src_image += noise\n",
    "imshow2(src_image)\n",
    "colorbar()\n",
    "pass"
   ]
  },
  {
   "cell_type": "code",
   "execution_count": null,
   "metadata": {},
   "outputs": [],
   "source": [
    "structure = zeros((20,20))\n",
    "structure[range(20), range(20)] = 1.0 #\n",
    "#structure[range(20), 19 - arange(20)] = 1.0 #\n",
    "imshow2(structure)"
   ]
  },
  {
   "cell_type": "markdown",
   "metadata": {},
   "source": [
    "## Minimum filter (erosion)\n",
    "\n",
    "> replaces the central pixel with the darkest one in the running window.\n",
    "\n",
    "- [video](https://www.youtube.com/watch?v=fmyE7DiaIYQ)\n",
    "- [example](http://www.digimizer.com/manual/m-image-filtermin.php)"
   ]
  },
  {
   "cell_type": "code",
   "execution_count": null,
   "metadata": {},
   "outputs": [],
   "source": [
    "subplot(121)\n",
    "imshow2(src_image)\n",
    "subplot(122)\n",
    "eroded = ndimage.binary_erosion(src_image, structure)\n",
    "imshow2(eroded)\n",
    "colorbar()\n",
    "pass"
   ]
  },
  {
   "cell_type": "code",
   "execution_count": null,
   "metadata": {},
   "outputs": [],
   "source": [
    "subplot(141)\n",
    "imshow2(i)\n",
    "\n",
    "subplot(142)\n",
    "src_image = where(i[:,:] > 255 * 0.4, 1, 0) # note: using i!!\n",
    "imshow2(src_image)\n",
    "\n",
    "subplot(143)\n",
    "eroded = ndimage.binary_erosion(src_image, structure)\n",
    "imshow2(eroded)\n",
    "\n",
    "subplot(144)\n",
    "eroded = ndimage.binary_erosion(eroded, structure)\n",
    "imshow2(eroded)"
   ]
  },
  {
   "cell_type": "code",
   "execution_count": null,
   "metadata": {},
   "outputs": [],
   "source": [
    "eroded = ndimage.binary_erosion(eroded, structure)\n",
    "imshow2(eroded)"
   ]
  },
  {
   "cell_type": "code",
   "execution_count": null,
   "metadata": {},
   "outputs": [],
   "source": [
    "subplot(121)\n",
    "src_image = where(i[:,:] > 255*0.4, 1, 0)\n",
    "imshow2(src_image)\n",
    "\n",
    "structure = zeros((20,20))\n",
    "structure[range(20), 19 - arange(20)] = 1.0\n",
    "eroded = ndimage.binary_erosion(src_image, structure)\n",
    "subplot(122)\n",
    "imshow2(eroded)"
   ]
  },
  {
   "cell_type": "markdown",
   "metadata": {},
   "source": [
    "## Maximum filter (dilation)\n",
    "\n",
    "> replaces the central pixel with the brightest one in the running window. ... is typically applied to an image to remove positive outlier noise.\n",
    "\n",
    "- [video](https://www.youtube.com/watch?v=xO3ED27rMHs)"
   ]
  },
  {
   "cell_type": "code",
   "execution_count": null,
   "metadata": {},
   "outputs": [],
   "source": [
    "subplot(121)\n",
    "src_image = where(i > 255 * 0.5, 1, 0) # make image binary\n",
    "imshow2(src_image)\n",
    "\n",
    "subplot(122)\n",
    "dilated = ndimage.binary_dilation(src_image, structure)\n",
    "imshow2(dilated)"
   ]
  },
  {
   "cell_type": "code",
   "execution_count": null,
   "metadata": {},
   "outputs": [],
   "source": [
    "subplot(131)\n",
    "src_image = where(i > 255 * 0.7, 1, 0)\n",
    "imshow2(src_image)\n",
    "\n",
    "subplot(132)\n",
    "structure = fliplr(structure)\n",
    "imshow2(structure)\n",
    "\n",
    "subplot(133)\n",
    "#structure[range(40), 1-arange(40)]\n",
    "dilated = ndimage.binary_dilation(src_image, structure)\n",
    "imshow2(dilated)"
   ]
  },
  {
   "cell_type": "code",
   "execution_count": null,
   "metadata": {},
   "outputs": [],
   "source": [
    "mgrid[-3:3, 0:6]"
   ]
  },
  {
   "cell_type": "code",
   "execution_count": null,
   "metadata": {},
   "outputs": [],
   "source": [
    "#structure[range(40), 1-arange(40)]\n",
    "subplot(131)\n",
    "src_image = where(i > 255 * 0.7, 1, 0)\n",
    "imshow2(src_image)\n",
    "\n",
    "subplot(132)\n",
    "g = mgrid[-15:15, -15:15]\n",
    "structure = where(sum(g**2, axis=0) < 150, 1, 0)\n",
    "imshow2(structure)\n",
    "\n",
    "subplot(133)\n",
    "dilated = ndimage.binary_dilation(src_image, structure)\n",
    "imshow2(dilated)"
   ]
  },
  {
   "cell_type": "markdown",
   "metadata": {},
   "source": [
    "## Opening and closing"
   ]
  },
  {
   "cell_type": "markdown",
   "metadata": {},
   "source": [
    "Opening is erosion followed by dilation.\n",
    "\n",
    "Closing is the opposite, dilation followed by erosion."
   ]
  },
  {
   "cell_type": "code",
   "execution_count": null,
   "metadata": {},
   "outputs": [],
   "source": [
    "subplot(151)\n",
    "src_image = zeros((100,100))\n",
    "src_image[25:-25, 25:-25] = 1\n",
    "src_image[10:30, 10:30] = 1\n",
    "imshow2(src_image)\n",
    "title(\"Image\")\n",
    "\n",
    "subplot(152)\n",
    "g = mgrid[-15:15, -15:15]\n",
    "structure = where(sum(g**2, axis=0) < 150, 1, 0)\n",
    "imshow2(structure)\n",
    "title(\"Structure\")\n",
    "\n",
    "\n",
    "subplot(153)\n",
    "imshow2(ndimage.binary_erosion(src_image, structure))\n",
    "title(\"Erosion\")\n",
    "\n",
    "\n",
    "subplot(154)\n",
    "imshow2(ndimage.binary_dilation(ndimage.binary_erosion(src_image, structure), structure))\n",
    "title(\"Dilation\")\n",
    "\n",
    "subplot(155)\n",
    "imshow2(ndimage.binary_opening(src_image, structure))\n",
    "title(\"Opening\")\n",
    "pass"
   ]
  },
  {
   "cell_type": "code",
   "execution_count": null,
   "metadata": {},
   "outputs": [],
   "source": [
    "subplot(151)\n",
    "src_image = zeros((100,100))\n",
    "src_image[25:-25, 25:-25] = 1\n",
    "src_image[10:30, 10:30] = 1\n",
    "imshow2(src_image)\n",
    "title(\"Image\")\n",
    "\n",
    "subplot(152)\n",
    "g = mgrid[-15:15, -15:15]\n",
    "structure = where(sum(g**2, axis=0) < 150, 1, 0)\n",
    "imshow2(structure)\n",
    "title(\"Structure\")\n",
    "\n",
    "\n",
    "subplot(153)\n",
    "imshow2(ndimage.binary_dilation(src_image, structure))\n",
    "title(\"Dilation\")\n",
    "\n",
    "\n",
    "subplot(154)\n",
    "imshow2(ndimage.binary_erosion(ndimage.binary_dilation(src_image, structure), structure))\n",
    "title(\"Erosion\")\n",
    "\n",
    "subplot(155)\n",
    "imshow2(ndimage.binary_closing(src_image, structure))\n",
    "title(\"Closing\")\n",
    "pass"
   ]
  },
  {
   "cell_type": "code",
   "execution_count": null,
   "metadata": {},
   "outputs": [],
   "source": [
    "subplot(131)\n",
    "imshow2(src_image)\n",
    "title(\"Image\")\n",
    "\n",
    "subplot(132)\n",
    "g = mgrid[-15:15, -15:15]\n",
    "structure = where(sum(g**2, axis=0) < 50, 1, 0)\n",
    "imshow2(structure)\n",
    "title(\"Structure\")\n",
    "\n",
    "subplot(133)\n",
    "imshow2(ndimage.binary_erosion(src_image, structure))\n",
    "title(\"Erosion\")\n",
    "pass"
   ]
  },
  {
   "cell_type": "code",
   "execution_count": null,
   "metadata": {},
   "outputs": [],
   "source": [
    "subplot(151)\n",
    "src_image = zeros((100,100))\n",
    "src_image[25:-25, 25:-25] = 1\n",
    "src_image[10:30, 10:30] = 1\n",
    "imshow2(src_image)\n",
    "title(\"Image\")\n",
    "\n",
    "subplot(152)\n",
    "g = mgrid[-5:5, -5:5]\n",
    "structure = where(sum(g**2, axis=0) < 17, 1, 0)\n",
    "imshow2(structure)\n",
    "title(\"Structure\")\n",
    "\n",
    "subplot(153)\n",
    "imshow2(ndimage.binary_opening(src_image, structure))\n",
    "title(\"Opening\")\n",
    "\n",
    "subplot(154)\n",
    "imshow2(ndimage.binary_closing(src_image, structure))\n",
    "title(\"Closing\")\n",
    "\n",
    "subplot(155)\n",
    "imshow2(ndimage.binary_dilation(src_image, structure))\n",
    "title(\"Dilation\")\n",
    "pass"
   ]
  },
  {
   "cell_type": "code",
   "execution_count": null,
   "metadata": {},
   "outputs": [],
   "source": [
    "src_image = where(i > 255 * 0.5, 1, 0)\n",
    "subplot(131)\n",
    "imshow2(src_image)\n",
    "subplot(132)\n",
    "imshow2(ndimage.binary_opening(src_image, structure))\n",
    "title('opening')\n",
    "subplot(133)\n",
    "imshow2(ndimage.binary_closing(src_image, structure))\n",
    "title('closing')\n",
    "gcf().set_figwidth(10)"
   ]
  },
  {
   "cell_type": "markdown",
   "metadata": {},
   "source": [
    "### Grayscale morphology\n",
    "\n",
    "These are the operations we just saw (i.e., erosion, dilation, opening, closing), but generalized to greyscale images."
   ]
  },
  {
   "cell_type": "code",
   "execution_count": null,
   "metadata": {},
   "outputs": [],
   "source": [
    "ibwface = sum(face(), axis=2) / 3\n",
    "imshow2(ibwface)\n",
    "ibwface.shape"
   ]
  },
  {
   "cell_type": "code",
   "execution_count": null,
   "metadata": {},
   "outputs": [],
   "source": [
    "min_filter = ndimage.minimum_filter(ibwface, (10, 10))\n",
    "imshow(min_filter, cmap=cm.gray)\n",
    "pass"
   ]
  },
  {
   "cell_type": "code",
   "execution_count": null,
   "metadata": {},
   "outputs": [],
   "source": [
    "subplot(121)\n",
    "min_filter = ndimage.minimum_filter(ibwface, (64, 64))\n",
    "imshow(min_filter, cmap=cm.gray)\n",
    "title('Minimum')\n",
    "\n",
    "subplot(122)\n",
    "max_filter = ndimage.maximum_filter(ibwface, (64, 64))\n",
    "imshow(max_filter, cmap=cm.gray)\n",
    "title('Maximum')\n",
    "pass"
   ]
  },
  {
   "cell_type": "code",
   "execution_count": null,
   "metadata": {},
   "outputs": [],
   "source": [
    "size = (128, 12) # <--- note the asymmetrical structure\n",
    "series = ndimage.minimum_filter(ndimage.maximum_filter(ibwface, size), size)\n",
    "imshow(series, cmap=cm.gray)\n",
    "pass"
   ]
  },
  {
   "cell_type": "markdown",
   "metadata": {},
   "source": [
    "### Morphological gradient\n",
    "\n",
    "> In mathematical morphology and digital image processing, a morphological gradient is the difference between the dilation and the erosion of a given image. It is an image where each pixel value (typically non-negative) indicates the contrast intensity in the close neighborhood of that pixel. It is useful for edge detection and segmentation applications."
   ]
  },
  {
   "cell_type": "code",
   "execution_count": null,
   "metadata": {},
   "outputs": [],
   "source": [
    "def togray(i):\n",
    "    if (len(shape(i)) > 2):\n",
    "        return sum(i, axis=2) / i.shape[2]\n",
    "    return i\n",
    "\n",
    "narino = togray(imread(\"media/antonio+nariño.png\"))\n",
    "imshow(narino, cmap=cm.gray)\n",
    "pass"
   ]
  },
  {
   "cell_type": "code",
   "execution_count": null,
   "metadata": {},
   "outputs": [],
   "source": [
    "subplot(131)\n",
    "min_filter = ndimage.minimum_filter(narino, 10)\n",
    "imshow(min_filter, cmap=cm.gray)\n",
    "\n",
    "subplot(132)\n",
    "max_filter = ndimage.maximum_filter(narino, 10)\n",
    "imshow(max_filter, cmap=cm.gray)\n",
    "\n",
    "subplot(133)\n",
    "imshow(max_filter - min_filter, cmap=cm.gray)\n",
    "pass"
   ]
  },
  {
   "cell_type": "code",
   "execution_count": null,
   "metadata": {},
   "outputs": [],
   "source": [
    "subplot(131)\n",
    "min_filter = ndimage.minimum_filter(narino, 64)\n",
    "imshow(min_filter, cmap=cm.gray)\n",
    "\n",
    "subplot(132)\n",
    "max_filter = ndimage.maximum_filter(narino, 64)\n",
    "imshow(max_filter, cmap=cm.gray)\n",
    "\n",
    "subplot(133)\n",
    "imshow(max_filter - min_filter, cmap=cm.gray)\n",
    "pass"
   ]
  },
  {
   "cell_type": "markdown",
   "metadata": {},
   "source": [
    "http://www.ee.lamar.edu/gleb/dip/10-3%20-%20Morphological%20Image%20Processing.pdf\n",
    "https://web.stanford.edu/class/ee368/Handouts/Lectures/2014_Spring/Combined_Slides/7-Morphological-Image-Processing-Combined.pdf"
   ]
  },
  {
   "cell_type": "code",
   "execution_count": null,
   "metadata": {},
   "outputs": [],
   "source": [
    "import scipy.ndimage.morphology as morphology"
   ]
  },
  {
   "cell_type": "code",
   "execution_count": null,
   "metadata": {},
   "outputs": [],
   "source": [
    "mg = morphology.morphological_gradient(narino, size=10)\n",
    "imshow(mg, cmap=cm.gray)\n",
    "pass"
   ]
  },
  {
   "cell_type": "code",
   "execution_count": null,
   "metadata": {},
   "outputs": [],
   "source": [
    "mg = morphology.morphological_gradient(narino, size=50)\n",
    "imshow(mg, cmap=cm.gray)\n",
    "pass"
   ]
  },
  {
   "cell_type": "markdown",
   "metadata": {},
   "source": [
    "### Top-hat transform\n",
    "\n",
    "\n",
    "\n",
    "From : http://en.wikipedia.org/wiki/Top-hat_transform (show example from here)\n",
    "\n",
    "> The white top-hat transform is defined as the difference between the input image and its opening by some structuring element; The black top-hat transform is defined dually as the difference between the closing and the input image.\n",
    "\n",
    "The white top-hat transform returns an image, containing those \"objects\" or \"elements\" of an input image that:\n",
    "\n",
    "* Are \"smaller\" than the structuring element (i.e., places where the structuring element does not fit in), and\n",
    "* are brighter than their surroundings.\n",
    "\n",
    "The black top-hat returns an image, containing the \"objects\" or \"elements\" that:\n",
    "\n",
    "* Are \"smaller\" than the structuring element, and\n",
    "* are darker than their surroundings."
   ]
  },
  {
   "cell_type": "code",
   "execution_count": null,
   "metadata": {},
   "outputs": [],
   "source": [
    "subplot(121)\n",
    "imshow2(narino)\n",
    "subplot(122)\n",
    "wtp = morphology.white_tophat(narino, size=10)\n",
    "imshow(wtp, cmap=cm.gray)\n",
    "pass"
   ]
  },
  {
   "cell_type": "code",
   "execution_count": null,
   "metadata": {},
   "outputs": [],
   "source": [
    "subplot(121)\n",
    "imshow2(narino)\n",
    "subplot(122)\n",
    "btp = morphology.black_tophat(narino, size=10)\n",
    "imshow(btp, cmap=cm.gray)\n",
    "pass"
   ]
  },
  {
   "cell_type": "code",
   "execution_count": null,
   "metadata": {},
   "outputs": [],
   "source": [
    "imshow(btp + wtp, cmap=cm.gray)\n",
    "pass"
   ]
  },
  {
   "cell_type": "markdown",
   "metadata": {},
   "source": [
    "### Handling \"blobs\""
   ]
  },
  {
   "cell_type": "code",
   "execution_count": null,
   "metadata": {},
   "outputs": [],
   "source": [
    "subplot(131)\n",
    "n = 100\n",
    "l = 256\n",
    "original = np.zeros((256, 256))\n",
    "points = l * random.random((2, n))\n",
    "original[(points[0]).astype(int), (points[1]).astype(int)] = 1\n",
    "imshow2(original)\n",
    "\n",
    "subplot(132)\n",
    "bloby = ndimage.gaussian_filter(original, 6)\n",
    "print(bloby.mean())\n",
    "bloby = where(bloby > bloby.mean(), 1, 0)\n",
    "imshow2(bloby)\n",
    "\n",
    "subplot(133)\n",
    "imshow2(bloby - original)\n",
    "\n",
    "im = bloby"
   ]
  },
  {
   "cell_type": "code",
   "execution_count": null,
   "metadata": {},
   "outputs": [],
   "source": [
    "label_im, nb_labels = ndimage.label(im) # see the docs\n",
    "print(nb_labels) # number of regions"
   ]
  },
  {
   "cell_type": "code",
   "execution_count": null,
   "metadata": {},
   "outputs": [],
   "source": [
    "imshow(label_im)\n",
    "colorbar()\n",
    "pass"
   ]
  },
  {
   "cell_type": "code",
   "execution_count": null,
   "metadata": {},
   "outputs": [],
   "source": [
    "# just show blobs 13 and 22\n",
    "blob = where(label_im == 13, 13, 0)\n",
    "blob += where(label_im == 22, 22, 0)\n",
    "blob += where(label_im == 3, 3, 0)\n",
    "subplot(121)\n",
    "imshow(blob, vmax=nb_labels)\n",
    "subplot(122)\n",
    "imshow2(bloby)\n",
    "pass"
   ]
  },
  {
   "cell_type": "code",
   "execution_count": null,
   "metadata": {},
   "outputs": [],
   "source": [
    "blobs = where(label_im > 13, 1, 0)\n",
    "imshow(blobs)\n",
    "pass"
   ]
  },
  {
   "cell_type": "markdown",
   "metadata": {},
   "source": [
    "## Edge Detection"
   ]
  },
  {
   "cell_type": "code",
   "execution_count": null,
   "metadata": {},
   "outputs": [],
   "source": [
    "im = zeros((256, 256))\n",
    "im[64:-64, 64:-64] = 1\n",
    "subplot(131)\n",
    "imshow2(im)\n",
    "im = ndimage.rotate(im, 15, mode='constant')\n",
    "subplot(132)\n",
    "imshow2(im)\n",
    "im = ndimage.gaussian_filter(im, 8)\n",
    "subplot(133)\n",
    "imshow2(im)"
   ]
  },
  {
   "cell_type": "markdown",
   "metadata": {},
   "source": [
    "#### Excercise\n",
    "Write a python function called `trim` that takes a 2d image and returns a (possibly) smaller image as well as the pixel coordinates of the smaller image within the original image. This function should remove all \"empty\" columns to the right and to the left and all \"empty\" rows from the top and from the bottom."
   ]
  },
  {
   "cell_type": "markdown",
   "metadata": {},
   "source": [
    "## [Sobel operator](https://en.wikipedia.org/wiki/Sobel_operator)\n",
    "\n",
    "> is used in image processing and computer vision, particularly within edge detection algorithms where it creates an image emphasising edges.\n",
    "\n",
    "- [Kernel_(image_processing)][]\n",
    "- [image kernels][]\n",
    "- [Filters][]\n",
    "- [Gimp Convolution Matrix][]\n",
    "\n",
    "[Kernel_(image_processing)]: https://en.wikipedia.org/wiki/Kernel_(image_processing)\n",
    "[image kernels]: http://setosa.io/ev/image-kernels\n",
    "[Filters]: http://www.cs.cornell.edu/courses/cs6670/2011sp/lectures/lec02_filter.pdf\n",
    "[Gimp Convolution Matrix]: https://docs.gimp.org/en/plug-in-convmatrix.html\n"
   ]
  },
  {
   "cell_type": "code",
   "execution_count": null,
   "metadata": {},
   "outputs": [],
   "source": [
    "sx = ndimage.sobel(im, axis=0, mode='constant')\n",
    "sy = ndimage.sobel(im, axis=1, mode='constant')\n",
    "subplot(121)\n",
    "imshow(sx)\n",
    "colorbar()\n",
    "title('sobel vertical')\n",
    "subplot(122)\n",
    "imshow(sy)\n",
    "title('sobel horizontal')\n",
    "gcf().set_figwidth(16)"
   ]
  },
  {
   "cell_type": "code",
   "execution_count": null,
   "metadata": {},
   "outputs": [],
   "source": [
    "sob = hypot(sx, sy) # sqrt(x*x + y*y) magnitude / norm\n",
    "imshow(sob)\n",
    "colorbar()\n",
    "pass"
   ]
  },
  {
   "cell_type": "code",
   "execution_count": null,
   "metadata": {},
   "outputs": [],
   "source": [
    "sob = sx + sy\n",
    "imshow(sob)\n",
    "colorbar()\n",
    "pass"
   ]
  },
  {
   "cell_type": "code",
   "execution_count": null,
   "metadata": {},
   "outputs": [],
   "source": [
    "imshow(sob > 0.33)\n",
    "pass"
   ]
  },
  {
   "cell_type": "code",
   "execution_count": null,
   "metadata": {},
   "outputs": [],
   "source": [
    "src_mat = zeros((3, 3))\n",
    "src_mat[1,1] = 1\n",
    "print(src_mat)\n",
    "print(ndimage.sobel(src_mat, axis=0))\n",
    "print(ndimage.sobel(src_mat, axis=1))"
   ]
  },
  {
   "cell_type": "markdown",
   "metadata": {},
   "source": [
    "## [Prewitt Operator](https://en.wikipedia.org/wiki/Prewitt_operator)"
   ]
  },
  {
   "cell_type": "code",
   "execution_count": null,
   "metadata": {},
   "outputs": [],
   "source": [
    "sx = ndimage.prewitt(im, axis=0, mode='constant')\n",
    "sy = ndimage.prewitt(im, axis=1, mode='constant')\n",
    "subplot(121)\n",
    "imshow(sx)\n",
    "colorbar()\n",
    "subplot(122)\n",
    "imshow(sy)\n",
    "gcf().set_figwidth(16)"
   ]
  },
  {
   "cell_type": "code",
   "execution_count": null,
   "metadata": {},
   "outputs": [],
   "source": [
    "pre = hypot(sx, sy) # sqrt(x*x + y*y)\n",
    "imshow(pre)\n",
    "colorbar()\n",
    "pass"
   ]
  },
  {
   "cell_type": "code",
   "execution_count": null,
   "metadata": {},
   "outputs": [],
   "source": [
    "src_mat= zeros((5, 5))\n",
    "src_mat[2, 2] = 1\n",
    "print(ndimage.sobel(src_mat, axis=0))\n",
    "print(ndimage.sobel(src_mat, axis=1))\n",
    "print(\"-----\")\n",
    "src_mat= zeros((5, 5))\n",
    "src_mat[2,2] = 1\n",
    "print(ndimage.prewitt(src_mat, axis=0))\n",
    "print(ndimage.prewitt(src_mat, axis=1))"
   ]
  },
  {
   "cell_type": "code",
   "execution_count": null,
   "metadata": {},
   "outputs": [],
   "source": [
    "src_image = i\n",
    "sx = ndimage.sobel(src_image, axis=0, mode='constant')\n",
    "sy = ndimage.sobel(src_image, axis=1, mode='constant')\n",
    "subplot(121)\n",
    "imshow2(sx)\n",
    "title('sobel vertical')\n",
    "colorbar()\n",
    "subplot(122)\n",
    "imshow2(sy)\n",
    "title('sobel horizontal')"
   ]
  },
  {
   "cell_type": "code",
   "execution_count": null,
   "metadata": {},
   "outputs": [],
   "source": [
    "sob = hypot(sx, sy) # sqrt(x*x + y*y)\n",
    "imshow2(sob)\n",
    "colorbar()\n",
    "pass"
   ]
  },
  {
   "cell_type": "code",
   "execution_count": null,
   "metadata": {},
   "outputs": [],
   "source": [
    "imshow2(sob[100:300, 300:450])"
   ]
  },
  {
   "cell_type": "code",
   "execution_count": null,
   "metadata": {},
   "outputs": [],
   "source": [
    "src_image = i\n",
    "sx = ndimage.prewitt(src_image, axis=0, mode='constant')\n",
    "sy = ndimage.prewitt(src_image, axis=1, mode='constant')\n",
    "subplot(121)\n",
    "imshow2(sx)\n",
    "colorbar()\n",
    "title('prewitt x')\n",
    "subplot(122)\n",
    "imshow2(sy)\n",
    "title('prewitt y')"
   ]
  },
  {
   "cell_type": "code",
   "execution_count": null,
   "metadata": {},
   "outputs": [],
   "source": [
    "subplot(121)\n",
    "pre = hypot(sx, sy)\n",
    "imshow2(pre)\n",
    "title('prewitt')\n",
    "colorbar()\n",
    "\n",
    "subplot(122)\n",
    "imshow2(sob)\n",
    "title('sobel')\n",
    "colorbar()\n",
    "pass"
   ]
  },
  {
   "cell_type": "code",
   "execution_count": null,
   "metadata": {},
   "outputs": [],
   "source": [
    "subplot(121)\n",
    "imshow2(sob[100:300, 300:450])\n",
    "colorbar()\n",
    "subplot(122)\n",
    "imshow2(pre[100:300, 300:450])\n",
    "gcf().set_figwidth(16)"
   ]
  },
  {
   "cell_type": "code",
   "execution_count": null,
   "metadata": {},
   "outputs": [],
   "source": [
    "src_image = sob\n",
    "filtered = ndimage.median_filter((src_image > 255 * 0.5), 4)\n",
    "imshow2(filtered)"
   ]
  },
  {
   "cell_type": "code",
   "execution_count": null,
   "metadata": {},
   "outputs": [],
   "source": [
    "src_image = sob[100:300, 300:450]\n",
    "filtered = ndimage.median_filter((src_image > 255 * 0.5), 4)\n",
    "imshow2(filtered)"
   ]
  },
  {
   "cell_type": "markdown",
   "metadata": {},
   "source": [
    "# Pixel Mapping"
   ]
  },
  {
   "cell_type": "code",
   "execution_count": null,
   "metadata": {},
   "outputs": [],
   "source": [
    "def warp(a, b):\n",
    "    if a < b:\n",
    "        out = a + b\n",
    "    else:\n",
    "        out = a - b\n",
    "    return out\n",
    "\n",
    "vfunc = vectorize(warp)"
   ]
  },
  {
   "cell_type": "code",
   "execution_count": null,
   "metadata": {},
   "outputs": [],
   "source": [
    "src_image = i\n",
    "warped = vfunc(src_image, 127)\n",
    "subplot(121)\n",
    "imshow(warped, cmap=cm.gray)\n",
    "subplot(122)\n",
    "imshow2(src_image)\n",
    "pass"
   ]
  },
  {
   "cell_type": "code",
   "execution_count": null,
   "metadata": {},
   "outputs": [],
   "source": [
    "hist(src_image.flat, bins=255)\n",
    "pass"
   ]
  },
  {
   "cell_type": "code",
   "execution_count": null,
   "metadata": {},
   "outputs": [],
   "source": [
    "hist(warped.flat, bins=255)\n",
    "pass"
   ]
  },
  {
   "cell_type": "markdown",
   "metadata": {},
   "source": [
    "# Non-linear filtering"
   ]
  },
  {
   "cell_type": "markdown",
   "metadata": {},
   "source": [
    "## Dynamic range processing"
   ]
  },
  {
   "cell_type": "code",
   "execution_count": null,
   "metadata": {},
   "outputs": [],
   "source": [
    "# Assumes uint8 data!\n",
    "def expand(pixel, center, factor):\n",
    "    centered = float(pixel) - center\n",
    "    out = (centered * factor) + center\n",
    "    \n",
    "    # clamp!\n",
    "    if out > 255:\n",
    "        out = 255\n",
    "    if out < 0:\n",
    "        out = 0\n",
    "    return uint8(out)\n",
    "    \n",
    "vfunc = vectorize(expand)"
   ]
  },
  {
   "cell_type": "code",
   "execution_count": null,
   "metadata": {},
   "outputs": [],
   "source": [
    "subplot(121)\n",
    "imshow2(i)\n",
    "colorbar()\n",
    "subplot(122)\n",
    "expanded = vfunc(i, 128, 2.0)\n",
    "imshow(expanded, cmap=cm.gray)\n",
    "colorbar()\n",
    "pass"
   ]
  },
  {
   "cell_type": "code",
   "execution_count": null,
   "metadata": {},
   "outputs": [],
   "source": [
    "hist(expanded.flat, bins=255)\n",
    "xlim((0, 300))\n",
    "pass"
   ]
  },
  {
   "cell_type": "code",
   "execution_count": null,
   "metadata": {},
   "outputs": [],
   "source": [
    "hist(i.flat, bins=255)\n",
    "xlim((0, 300))"
   ]
  },
  {
   "cell_type": "code",
   "execution_count": null,
   "metadata": {},
   "outputs": [],
   "source": [
    "compressed = vfunc(i, 100, 0.02)\n",
    "imshow(compressed, cmap=cm.gray)\n",
    "colorbar()\n",
    "pass"
   ]
  },
  {
   "cell_type": "code",
   "execution_count": null,
   "metadata": {},
   "outputs": [],
   "source": [
    "hist(compressed.flat, bins=255)\n",
    "pass"
   ]
  },
  {
   "cell_type": "code",
   "execution_count": null,
   "metadata": {},
   "outputs": [],
   "source": [
    "compressed = vfunc(i, 10, 0.02)\n",
    "imshow(compressed, cmap=cm.gray)\n",
    "colorbar()\n",
    "pass"
   ]
  },
  {
   "cell_type": "code",
   "execution_count": null,
   "metadata": {},
   "outputs": [],
   "source": [
    "hist(compressed.flat, bins=255)\n",
    "pass"
   ]
  },
  {
   "cell_type": "markdown",
   "metadata": {},
   "source": [
    "## Colorspace processing"
   ]
  },
  {
   "cell_type": "markdown",
   "metadata": {},
   "source": [
    "http://scikit-image.org/"
   ]
  },
  {
   "cell_type": "code",
   "execution_count": null,
   "metadata": {},
   "outputs": [],
   "source": [
    "from skimage import color\n",
    "fruits = imread('media/fruits.png')\n",
    "subplot(121)\n",
    "imshow(fruits)\n",
    "subplot(122)\n",
    "img_hsv = color.rgb2hsv(fruits)\n",
    "imshow(img_hsv)\n",
    "colorbar()\n",
    "print(shape(img_hsv), shape(fruits))\n",
    "pass"
   ]
  },
  {
   "cell_type": "code",
   "execution_count": null,
   "metadata": {},
   "outputs": [],
   "source": [
    "imshow(img_hsv[:, :, 2], cmap=cm.hsv)\n",
    "colorbar()\n",
    "pass"
   ]
  },
  {
   "cell_type": "code",
   "execution_count": null,
   "metadata": {},
   "outputs": [],
   "source": [
    "imshow(img_hsv[:,:, 1], cmap=cm.gray)\n",
    "colorbar()\n",
    "pass"
   ]
  },
  {
   "cell_type": "code",
   "execution_count": null,
   "metadata": {},
   "outputs": [],
   "source": [
    "imshow(img_hsv[:,:, 2], cmap=cm.gray)\n",
    "pass"
   ]
  },
  {
   "cell_type": "code",
   "execution_count": null,
   "metadata": {},
   "outputs": [],
   "source": [
    "img_hsv[:,:,0].max(), img_hsv[:,:,0].min()"
   ]
  },
  {
   "cell_type": "code",
   "execution_count": null,
   "metadata": {},
   "outputs": [],
   "source": [
    "img_hsv.shape"
   ]
  },
  {
   "cell_type": "code",
   "execution_count": null,
   "metadata": {},
   "outputs": [],
   "source": [
    "subplot(141)\n",
    "title(\"Hue\")\n",
    "imshow(img_hsv[:,:,0], cmap=cm.hsv)\n",
    "\n",
    "subplot(142)\n",
    "title(\"Saturation\")\n",
    "imshow2(img_hsv[:,:,1])\n",
    "\n",
    "subplot(143)\n",
    "title(\"Value\")\n",
    "imshow2(img_hsv[:,:,2])\n",
    "\n",
    "subplot(144)\n",
    "title(\"Original\")\n",
    "imshow2(fruits)\n",
    "pass"
   ]
  },
  {
   "cell_type": "markdown",
   "metadata": {},
   "source": [
    "<img src=\"https://doc.qt.io/archives/qq/qq26-hsv-space.png\">"
   ]
  },
  {
   "cell_type": "code",
   "execution_count": null,
   "metadata": {},
   "outputs": [],
   "source": [
    "low_s = img_hsv[:,:,1] * 0.3\n",
    "processed = img_hsv.copy()\n",
    "processed[:,:, 1] = low_s\n",
    "imshow(color.hsv2rgb(processed))\n",
    "pass"
   ]
  },
  {
   "cell_type": "code",
   "execution_count": null,
   "metadata": {},
   "outputs": [],
   "source": [
    "low_s = img_hsv[:, :, 2][:] * 0.2 + 0.8\n",
    "processed = img_hsv.copy()\n",
    "processed[:, :, 2] = low_s\n",
    "imshow(color.hsv2rgb(processed))\n",
    "pass"
   ]
  },
  {
   "cell_type": "code",
   "execution_count": null,
   "metadata": {},
   "outputs": [],
   "source": [
    "low_s = img_hsv[:, :, 0][:] + 0.3\n",
    "processed = img_hsv.copy()\n",
    "processed[:, :, 0] = low_s\n",
    "imshow(color.hsv2rgb(processed))\n",
    "pass"
   ]
  },
  {
   "cell_type": "markdown",
   "metadata": {},
   "source": [
    "## 2D Fourier Transform"
   ]
  },
  {
   "cell_type": "code",
   "execution_count": null,
   "metadata": {},
   "outputs": [],
   "source": [
    "imshow2(narino)"
   ]
  },
  {
   "cell_type": "code",
   "execution_count": null,
   "metadata": {},
   "outputs": [],
   "source": [
    "FFT = fft.fft2(narino)\n",
    "FFT_centered = fft.fftshift(FFT)\n",
    "mag_spec = abs(FFT_centered)\n",
    "phs_spec = angle(FFT_centered)"
   ]
  },
  {
   "cell_type": "code",
   "execution_count": null,
   "metadata": {},
   "outputs": [],
   "source": [
    "imshow(mag_spec, cmap=cm.gray)\n",
    "colorbar()\n",
    "pass"
   ]
  },
  {
   "cell_type": "code",
   "execution_count": null,
   "metadata": {},
   "outputs": [],
   "source": [
    "imshow(log(mag_spec), cmap=cm.gray)\n",
    "colorbar()\n",
    "pass"
   ]
  },
  {
   "cell_type": "code",
   "execution_count": null,
   "metadata": {},
   "outputs": [],
   "source": [
    "imshow(phs_spec, cmap=cm.gray)\n",
    "pass"
   ]
  },
  {
   "cell_type": "code",
   "execution_count": null,
   "metadata": {},
   "outputs": [],
   "source": [
    "imshow(ibwface)"
   ]
  },
  {
   "cell_type": "code",
   "execution_count": null,
   "metadata": {},
   "outputs": [],
   "source": [
    "\n",
    "FFT = fft.fft2(ibwface)\n",
    "FFT_centered = fft.fftshift(FFT)\n",
    "mag_spec = abs(FFT_centered)\n",
    "phs_spec = angle(FFT_centered)\n",
    "imshow(log(mag_spec), cmap=cm.gray)\n",
    "pass"
   ]
  },
  {
   "cell_type": "code",
   "execution_count": null,
   "metadata": {},
   "outputs": [],
   "source": [
    "imshow(phs_spec, cmap=cm.gray)\n",
    "pass"
   ]
  },
  {
   "cell_type": "code",
   "execution_count": null,
   "metadata": {},
   "outputs": [],
   "source": [
    "FFT1 = fft.fft2(sum(fruits[:400, :332, :], axis=2) / fruits.shape[2])\n",
    "FFT2 = fft.fft2(narino[:400, :332])\n",
    "\n",
    "mag_spec = abs(FFT1)\n",
    "phs_spec = angle(FFT2)\n",
    "\n",
    "new_FFT = mag_spec * exp(1j * phs_spec)\n",
    "phs_only = fft.ifft2(new_FFT)\n",
    "imshow(real(phs_only), cmap=cm.gray)\n",
    "pass"
   ]
  },
  {
   "cell_type": "code",
   "execution_count": null,
   "metadata": {},
   "outputs": [],
   "source": [
    "FFT1 = fft.fft2(sum(fruits[:400, :332, :], axis=2) / fruits.shape[2])\n",
    "FFT2 = fft.fft2(narino[:400, :332])\n",
    "\n",
    "mag_spec = abs(FFT2)\n",
    "phs_spec = angle(FFT1)\n",
    "\n",
    "new_FFT = mag_spec * exp(1j*phs_spec)\n",
    "phs_only = fft.ifft2(new_FFT)\n",
    "imshow(real(phs_only), cmap=cm.gray)\n",
    "pass"
   ]
  },
  {
   "cell_type": "markdown",
   "metadata": {},
   "source": [
    "For images, most of the \"information\" is carried in the phase spectrum, while the inverse is true for audio!"
   ]
  },
  {
   "cell_type": "markdown",
   "metadata": {},
   "source": [
    "An excellent resource on additional ideas for image processing:\n",
    "\n",
    "http://nbviewer.ipython.org/github/gestaltrevision/python_for_visres/blob/master/Part7/Part7_Image_Statistics.ipynb"
   ]
  },
  {
   "cell_type": "markdown",
   "metadata": {},
   "source": [
    "By: Andrés Cabrera mantaraya36@gmail.com\n",
    "For MAT course MAT 201A at UCSB\n",
    "\n",
    "Adapted by Karl Yerkes\n",
    "\n",
    "This ipython notebook is licensed under the CC-BY-NC-SA license: http://creativecommons.org/licenses/by-nc-sa/4.0/\n",
    "\n",
    "![http://i.creativecommons.org/l/by-nc-sa/3.0/88x31.png](http://i.creativecommons.org/l/by-nc-sa/3.0/88x31.png)"
   ]
  }
 ],
 "metadata": {
  "kernelspec": {
   "display_name": "Python 3",
   "language": "python",
   "name": "python3"
  },
  "language_info": {
   "codemirror_mode": {
    "name": "ipython",
    "version": 3
   },
   "file_extension": ".py",
   "mimetype": "text/x-python",
   "name": "python",
   "nbconvert_exporter": "python",
   "pygments_lexer": "ipython3",
   "version": "3.6.1"
  }
 },
 "nbformat": 4,
 "nbformat_minor": 1
}
