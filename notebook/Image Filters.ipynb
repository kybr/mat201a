{
 "cells": [
  {
   "cell_type": "code",
   "execution_count": null,
   "metadata": {
    "deletable": true,
    "editable": true
   },
   "outputs": [],
   "source": [
    "%pylab inline\n",
    "rcParams['figure.figsize'] = (10, 4) #wide graphs by default\n",
    "from __future__ import print_function\n",
    "from __future__ import division"
   ]
  },
  {
   "cell_type": "markdown",
   "metadata": {
    "deletable": true,
    "editable": true
   },
   "source": [
    "# Image Filters"
   ]
  },
  {
   "cell_type": "markdown",
   "metadata": {
    "deletable": true,
    "editable": true
   },
   "source": [
    "## 2D convolution"
   ]
  },
  {
   "cell_type": "code",
   "execution_count": null,
   "metadata": {
    "deletable": true,
    "editable": true
   },
   "outputs": [],
   "source": [
    "from scipy.signal import convolve2d"
   ]
  },
  {
   "cell_type": "code",
   "execution_count": null,
   "metadata": {
    "deletable": true,
    "editable": true
   },
   "outputs": [],
   "source": [
    "mat = zeros((100,100))\n",
    "mat[50,50] = 1\n",
    "imshow(mat, cmap=cm.gray, interpolation='nearest')"
   ]
  },
  {
   "cell_type": "code",
   "execution_count": null,
   "metadata": {
    "deletable": true,
    "editable": true
   },
   "outputs": [],
   "source": [
    "kernel = ones((20,20))/20"
   ]
  },
  {
   "cell_type": "code",
   "execution_count": null,
   "metadata": {
    "deletable": true,
    "editable": true
   },
   "outputs": [],
   "source": [
    "from scipy.signal import freqz\n",
    "ir = ones(20)/20\n",
    "w, h = freqz(ir)\n",
    "plot(abs(h))"
   ]
  },
  {
   "cell_type": "code",
   "execution_count": null,
   "metadata": {
    "deletable": true,
    "editable": true
   },
   "outputs": [],
   "source": [
    "c = convolve2d(mat, kernel)\n",
    "imshow(c, cmap= cm.gray, interpolation='nearest')\n",
    "colorbar()"
   ]
  },
  {
   "cell_type": "code",
   "execution_count": null,
   "metadata": {
    "deletable": true,
    "editable": true
   },
   "outputs": [],
   "source": [
    "mat = zeros((100,100))\n",
    "mat[50,50] = 1\n",
    "kernel = zeros((20, 20))\n",
    "kernel[10,  :] = 1\n",
    "kernel[:, 10] = 1\n",
    "imshow(kernel, cmap= cm.gray, interpolation='nearest')"
   ]
  },
  {
   "cell_type": "code",
   "execution_count": null,
   "metadata": {
    "deletable": true,
    "editable": true
   },
   "outputs": [],
   "source": [
    "c = convolve2d(mat, kernel)\n",
    "imshow(c, cmap= cm.gray, interpolation='nearest')\n",
    "colorbar()"
   ]
  },
  {
   "cell_type": "code",
   "execution_count": null,
   "metadata": {
    "deletable": true,
    "editable": true
   },
   "outputs": [],
   "source": [
    "a = random.rand(64,64)\n",
    "snow = where (a > 0.997, 1, 0)\n",
    "imshow(snow, cmap= cm.gray, interpolation='nearest')"
   ]
  },
  {
   "cell_type": "code",
   "execution_count": null,
   "metadata": {
    "deletable": true,
    "editable": true
   },
   "outputs": [],
   "source": [
    "c = convolve2d(snow, kernel)\n",
    "imshow(c, cmap= cm.gray, interpolation='nearest')\n",
    "colorbar()"
   ]
  },
  {
   "cell_type": "code",
   "execution_count": null,
   "metadata": {
    "deletable": true,
    "editable": true
   },
   "outputs": [],
   "source": [
    "from scipy.ndimage.filters import convolve as convolve2\n",
    "kernel_ghost = zeros((31, 31))\n",
    "kernel_ghost[15,15] = 1\n",
    "kernel_ghost[30,30] = 0.5\n",
    "imshow(kernel_ghost, cmap = cm.gray, interpolation='nearest')"
   ]
  },
  {
   "cell_type": "code",
   "execution_count": null,
   "metadata": {
    "deletable": true,
    "editable": true
   },
   "outputs": [],
   "source": [
    "from scipy.misc import lena\n",
    "i = lena()\n",
    "imshow(i, cmap=cm.gray)\n",
    "\n",
    "i.dtype"
   ]
  },
  {
   "cell_type": "code",
   "execution_count": null,
   "metadata": {
    "deletable": true,
    "editable": true
   },
   "outputs": [],
   "source": [
    "ghost = convolve2(i[:,:], kernel_ghost)\n",
    "imshow(ghost, cmap = cm.gray, interpolation='nearest')\n",
    "colorbar()"
   ]
  },
  {
   "cell_type": "code",
   "execution_count": null,
   "metadata": {
    "deletable": true,
    "editable": true
   },
   "outputs": [],
   "source": [
    "kernel_stamp = zeros((30,30))\n",
    "kernel_stamp[arange(30), arange(30)] = 1.0\n",
    "imshow(kernel_stamp, cmap=cm.gray, interpolation='nearest')"
   ]
  },
  {
   "cell_type": "code",
   "execution_count": null,
   "metadata": {
    "deletable": true,
    "editable": true
   },
   "outputs": [],
   "source": [
    "subplot(131)\n",
    "src_image = i[:,:]\n",
    "imshow(src_image, cmap=cm.gray, interpolation='nearest')\n",
    "\n",
    "subplot(132)\n",
    "kernel_stamp = zeros((30,30))\n",
    "kernel_stamp[arange(30), arange(30)] = 1.0\n",
    "stamp = convolve2(src_image, kernel_stamp)\n",
    "imshow(stamp, cmap=cm.gray, interpolation='nearest')\n",
    "\n",
    "subplot(133)\n",
    "kernel_stamp = zeros((30,30))\n",
    "kernel_stamp[15,:] = 1.0\n",
    "kernel_stamp[:,15] = 1.0\n",
    "stamp = convolve2(src_image, kernel_stamp)\n",
    "imshow(stamp, cmap=cm.gray, interpolation='nearest')\n",
    "gcf().set_figwidth(16)"
   ]
  },
  {
   "cell_type": "markdown",
   "metadata": {
    "deletable": true,
    "editable": true
   },
   "source": [
    "## Gaussian Filter"
   ]
  },
  {
   "cell_type": "code",
   "execution_count": null,
   "metadata": {
    "deletable": true,
    "editable": true
   },
   "outputs": [],
   "source": [
    "import scipy.ndimage as ndimage"
   ]
  },
  {
   "cell_type": "code",
   "execution_count": null,
   "metadata": {
    "deletable": true,
    "editable": true
   },
   "outputs": [],
   "source": [
    "single_dot = zeros((101, 101))\n",
    "single_dot[50, 50] = 1.0\n",
    "gauss_kernel = ndimage.gaussian_filter(single_dot, 5)\n",
    "imshow(gauss_kernel)\n",
    "colorbar()"
   ]
  },
  {
   "cell_type": "code",
   "execution_count": null,
   "metadata": {
    "deletable": true,
    "editable": true
   },
   "outputs": [],
   "source": [
    "from mpl_toolkits.mplot3d import Axes3D\n",
    "\n",
    "fig = figure()\n",
    "ax = Axes3D(fig)\n",
    "x, y = mgrid[0:101, 0:101]\n",
    "ax.plot_surface(x,y,gauss_kernel)\n",
    "fig.add_axes(ax)"
   ]
  },
  {
   "cell_type": "code",
   "execution_count": null,
   "metadata": {
    "deletable": true,
    "editable": true
   },
   "outputs": [],
   "source": [
    "plot(abs(fft.rfft(gauss_kernel[:, 50])), 'o-')"
   ]
  },
  {
   "cell_type": "code",
   "execution_count": null,
   "metadata": {
    "deletable": true,
    "editable": true
   },
   "outputs": [],
   "source": [
    "plot(abs(fft.rfft(gauss_kernel[:, 50], n=512)))\n",
    "\n",
    "twinx()\n",
    "plot(angle(fft.rfft(gauss_kernel[:, 50], n=512)), 'r')"
   ]
  },
  {
   "cell_type": "markdown",
   "metadata": {
    "deletable": true,
    "editable": true
   },
   "source": [
    "It's a low-pass filter!"
   ]
  },
  {
   "cell_type": "code",
   "execution_count": null,
   "metadata": {
    "deletable": true,
    "editable": true
   },
   "outputs": [],
   "source": [
    "gauss_blur = convolve2(src_image, gauss_kernel)\n",
    "imshow(gauss_blur, cmap=cm.gray, interpolation= 'nearest')"
   ]
  },
  {
   "cell_type": "code",
   "execution_count": null,
   "metadata": {
    "deletable": true,
    "editable": true
   },
   "outputs": [],
   "source": [
    "single_dot = zeros((101, 101))\n",
    "single_dot[50, 50] = 1.0\n",
    "gauss_kernel = ndimage.gaussian_filter(single_dot, 20)\n",
    "imshow(gauss_kernel, interpolation='nearest')\n",
    "colorbar()"
   ]
  },
  {
   "cell_type": "code",
   "execution_count": null,
   "metadata": {
    "deletable": true,
    "editable": true
   },
   "outputs": [],
   "source": [
    "gauss_blur = convolve2(src_image, gauss_kernel)\n",
    "imshow(gauss_blur, cmap=cm.gray, interpolation= 'nearest')"
   ]
  },
  {
   "cell_type": "code",
   "execution_count": null,
   "metadata": {
    "deletable": true,
    "editable": true
   },
   "outputs": [],
   "source": [
    "plot(abs(fft.rfft(gauss_kernel[:, 50], n= 512)))"
   ]
  },
  {
   "cell_type": "code",
   "execution_count": null,
   "metadata": {
    "deletable": true,
    "editable": true
   },
   "outputs": [],
   "source": [
    "import scipy.stats as stats\n",
    "gauss = stats.norm.pdf(arange(17), loc=8, scale=5)\n",
    "plot(gauss)"
   ]
  },
  {
   "cell_type": "code",
   "execution_count": null,
   "metadata": {
    "deletable": true,
    "editable": true
   },
   "outputs": [],
   "source": [
    "\n",
    "kernel = zeros((17,17))\n",
    "kernel[8,:] = gauss\n",
    "imshow(kernel, cmap = cm.gray, interpolation='nearest')"
   ]
  },
  {
   "cell_type": "code",
   "execution_count": null,
   "metadata": {
    "deletable": true,
    "editable": true
   },
   "outputs": [],
   "source": [
    "plot(abs(rfft(gauss, 512)))"
   ]
  },
  {
   "cell_type": "code",
   "execution_count": null,
   "metadata": {
    "deletable": true,
    "editable": true
   },
   "outputs": [],
   "source": [
    "imshow(kernel, interpolation='nearest', cmap=cm.gray)\n",
    "figure()\n",
    "imshow(gauss_kernel, interpolation='nearest', cmap=cm.gray)"
   ]
  },
  {
   "cell_type": "code",
   "execution_count": null,
   "metadata": {
    "deletable": true,
    "editable": true
   },
   "outputs": [],
   "source": [
    "c = convolve2(src_image, kernel)\n",
    "subplot(131)\n",
    "imshow(c, cmap=cm.gray, interpolation='nearest')\n",
    "\n",
    "c = convolve2(src_image, gauss_kernel)\n",
    "subplot(132)\n",
    "imshow(c, cmap=cm.gray, interpolation='nearest')\n",
    "\n",
    "subplot(133)\n",
    "imshow(ndimage.gaussian_filter(src_image, 5), cmap=cm.gray, interpolation='nearest')\n",
    "\n",
    "gcf().set_figwidth(16)"
   ]
  },
  {
   "cell_type": "markdown",
   "metadata": {
    "deletable": true,
    "editable": true
   },
   "source": [
    "### Reduce Moiré patterns/Anti-aliasing"
   ]
  },
  {
   "cell_type": "code",
   "execution_count": null,
   "metadata": {
    "deletable": true,
    "editable": true
   },
   "outputs": [],
   "source": [
    "pyt = imread('maxresdefault.jpg')\n",
    "imshow(pyt)\n",
    "gcf().set_figheight(8)"
   ]
  },
  {
   "cell_type": "code",
   "execution_count": null,
   "metadata": {
    "deletable": true,
    "editable": true
   },
   "outputs": [],
   "source": [
    "from scipy.misc import imresize"
   ]
  },
  {
   "cell_type": "code",
   "execution_count": null,
   "metadata": {
    "deletable": true,
    "editable": true
   },
   "outputs": [],
   "source": [
    "resized = imresize(pyt, 0.08, interp='nearest')"
   ]
  },
  {
   "cell_type": "code",
   "execution_count": null,
   "metadata": {
    "deletable": true,
    "editable": true
   },
   "outputs": [],
   "source": [
    "imshow(resized, interpolation='nearest')"
   ]
  },
  {
   "cell_type": "code",
   "execution_count": null,
   "metadata": {
    "deletable": true,
    "editable": true
   },
   "outputs": [],
   "source": [
    "resized_soft = imresize(ndimage.gaussian_filter(pyt, 4.0), 0.08, interp='nearest')\n",
    "\n",
    "imshow(resized_soft, interpolation='nearest')"
   ]
  },
  {
   "cell_type": "code",
   "execution_count": null,
   "metadata": {
    "deletable": true,
    "editable": true
   },
   "outputs": [],
   "source": [
    "imshow(ndimage.gaussian_filter(resized, 0.4), interpolation='nearest')"
   ]
  },
  {
   "cell_type": "markdown",
   "metadata": {
    "deletable": true,
    "editable": true
   },
   "source": [
    "## Uniform filter"
   ]
  },
  {
   "cell_type": "code",
   "execution_count": null,
   "metadata": {
    "deletable": true,
    "editable": true
   },
   "outputs": [],
   "source": [
    "single_dot = zeros((101, 101))\n",
    "single_dot[50, 50] = 1.0\n",
    "gauss_kernel = ndimage.uniform_filter(single_dot, 20)\n",
    "imshow(gauss_kernel)\n",
    "colorbar()"
   ]
  },
  {
   "cell_type": "markdown",
   "metadata": {
    "deletable": true,
    "editable": true
   },
   "source": [
    "Another low-pass filter"
   ]
  },
  {
   "cell_type": "code",
   "execution_count": null,
   "metadata": {
    "deletable": true,
    "editable": true
   },
   "outputs": [],
   "source": [
    "src_image_eyes = src_image[150:300, 100:400]\n",
    "subplot(121)\n",
    "imshow(ndimage.gaussian_filter(src_image_eyes, 5), cmap=cm.gray, interpolation='nearest')\n",
    "subplot(122)\n",
    "imshow(ndimage.uniform_filter(src_image_eyes, 13), cmap= cm.gray, interpolation='nearest');\n",
    "gcf().set_figwidth(16)"
   ]
  },
  {
   "cell_type": "markdown",
   "metadata": {
    "deletable": true,
    "editable": true
   },
   "source": [
    "This filter is often called \"Mean filter\""
   ]
  },
  {
   "cell_type": "markdown",
   "metadata": {
    "deletable": true,
    "editable": true
   },
   "source": [
    "# Median Filter"
   ]
  },
  {
   "cell_type": "code",
   "execution_count": null,
   "metadata": {
    "deletable": true,
    "editable": true
   },
   "outputs": [],
   "source": [
    "def imshow2(im):\n",
    "    imshow(im, cmap=cm.gray, interpolation='nearest')"
   ]
  },
  {
   "cell_type": "code",
   "execution_count": null,
   "metadata": {
    "deletable": true,
    "editable": true
   },
   "outputs": [],
   "source": [
    "c3 = ndimage.median_filter(src_image_eyes, size=15)\n",
    "imshow2(c3)"
   ]
  },
  {
   "cell_type": "code",
   "execution_count": null,
   "metadata": {
    "deletable": true,
    "editable": true
   },
   "outputs": [],
   "source": [
    "noise = where(random.random(src_image_eyes.shape) > 0.9, 0.5, 0)\n",
    "imshow2(noise)"
   ]
  },
  {
   "cell_type": "code",
   "execution_count": null,
   "metadata": {
    "deletable": true,
    "editable": true
   },
   "outputs": [],
   "source": [
    "src_image_eyes.max(), src_image_eyes.dtype"
   ]
  },
  {
   "cell_type": "code",
   "execution_count": null,
   "metadata": {
    "deletable": true,
    "editable": true
   },
   "outputs": [],
   "source": [
    "noisy_image = (src_image_eyes/255.0) +noise\n",
    "imshow2(noisy_image)\n",
    "colorbar()"
   ]
  },
  {
   "cell_type": "code",
   "execution_count": null,
   "metadata": {
    "deletable": true,
    "editable": true
   },
   "outputs": [],
   "source": [
    "subplot(131)\n",
    "imshow2(ndimage.gaussian_filter(noisy_image, 5))\n",
    "#colorbar()\n",
    "subplot(132)\n",
    "imshow2(ndimage.gaussian_filter(noisy_image, 3))\n",
    "subplot(133)\n",
    "imshow2(ndimage.gaussian_filter(noisy_image, 1))\n",
    "gcf().set_figwidth(16)"
   ]
  },
  {
   "cell_type": "code",
   "execution_count": null,
   "metadata": {
    "deletable": true,
    "editable": true
   },
   "outputs": [],
   "source": [
    "subplot(311)\n",
    "imshow2(ndimage.median_filter(noisy_image, 3))\n",
    "colorbar()\n",
    "\n",
    "subplot(312)\n",
    "imshow2(ndimage.median_filter(noisy_image, 10))\n",
    "colorbar()\n",
    "\n",
    "subplot(313)\n",
    "imshow2(ndimage.median_filter(noisy_image, 4))\n",
    "colorbar()\n",
    "gcf().set_figheight(8)"
   ]
  },
  {
   "cell_type": "markdown",
   "metadata": {
    "deletable": true,
    "editable": true
   },
   "source": [
    "# Sharpening"
   ]
  },
  {
   "cell_type": "code",
   "execution_count": null,
   "metadata": {
    "deletable": true,
    "editable": true
   },
   "outputs": [],
   "source": [
    "title('Sharpen')\n",
    "subplot(131)\n",
    "imshow2(src_image)\n",
    "\n",
    "subplot(132)\n",
    "c = ndimage.gaussian_filter(src_image, 1)\n",
    "c = src_image -c*0.5\n",
    "imshow2(c)\n",
    "\n",
    "subplot(133)\n",
    "c = ndimage.gaussian_filter(src_image, 1)\n",
    "c = src_image -c\n",
    "imshow2(c)"
   ]
  },
  {
   "cell_type": "markdown",
   "metadata": {
    "deletable": true,
    "editable": true
   },
   "source": [
    "Turn the Gaussian Low-pass filter into a High-pass filter"
   ]
  },
  {
   "cell_type": "code",
   "execution_count": null,
   "metadata": {
    "deletable": true,
    "editable": true
   },
   "outputs": [],
   "source": [
    "gauss = stats.norm.pdf(arange(33), loc=16, scale=2.5)\n",
    "plot(gauss)"
   ]
  },
  {
   "cell_type": "code",
   "execution_count": null,
   "metadata": {
    "deletable": true,
    "editable": true
   },
   "outputs": [],
   "source": [
    "sharpen = zeros(33)\n",
    "sharpen[16] = 1\n",
    "sharpen -= gauss\n",
    "plot(sharpen);"
   ]
  },
  {
   "cell_type": "code",
   "execution_count": null,
   "metadata": {
    "deletable": true,
    "editable": true
   },
   "outputs": [],
   "source": [
    "plot(abs(rfft(sharpen)));"
   ]
  },
  {
   "cell_type": "code",
   "execution_count": null,
   "metadata": {
    "deletable": true,
    "editable": true
   },
   "outputs": [],
   "source": [
    "log_kernel = ndimage.gaussian_laplace(mat, 5)\n",
    "imshow(log_kernel, interpolation='nearest')\n",
    "colorbar()"
   ]
  },
  {
   "cell_type": "code",
   "execution_count": null,
   "metadata": {
    "deletable": true,
    "editable": true
   },
   "outputs": [],
   "source": [
    "plot(log_kernel[:,50])"
   ]
  },
  {
   "cell_type": "code",
   "execution_count": null,
   "metadata": {
    "deletable": true,
    "editable": true
   },
   "outputs": [],
   "source": [
    "plot(abs(fft.rfft(log_kernel[:,50])))"
   ]
  },
  {
   "cell_type": "markdown",
   "metadata": {
    "deletable": true,
    "editable": true
   },
   "source": [
    "# Mathematical morphology"
   ]
  },
  {
   "cell_type": "markdown",
   "metadata": {
    "deletable": true,
    "editable": true
   },
   "source": [
    "http://en.wikipedia.org/wiki/Mathematical_morphology"
   ]
  },
  {
   "cell_type": "code",
   "execution_count": null,
   "metadata": {
    "deletable": true,
    "editable": true
   },
   "outputs": [],
   "source": [
    "def imshow2(image):\n",
    "    imshow(image, interpolation='nearest', cmap=cm.gray)"
   ]
  },
  {
   "cell_type": "code",
   "execution_count": null,
   "metadata": {
    "deletable": true,
    "editable": true
   },
   "outputs": [],
   "source": [
    "src_image = zeros((100,100))\n",
    "src_image[25:-25, 25:-25] = 1.0\n",
    "noise =  where(random.random(src_image.shape) > 0.98, 0.5, 0)\n",
    "src_image += noise\n",
    "imshow2(src_image)\n",
    "colorbar()"
   ]
  },
  {
   "cell_type": "code",
   "execution_count": null,
   "metadata": {
    "deletable": true,
    "editable": true
   },
   "outputs": [],
   "source": [
    "structure = zeros((20,20))\n",
    "structure[range(20), range(20)] = 1.0 #\n",
    "#structure[range(20), 19 - arange(20)] = 1.0 #\n",
    "imshow2(structure)"
   ]
  },
  {
   "cell_type": "markdown",
   "metadata": {
    "deletable": true,
    "editable": true
   },
   "source": [
    "## Minimum filter (erosion)"
   ]
  },
  {
   "cell_type": "code",
   "execution_count": null,
   "metadata": {
    "deletable": true,
    "editable": true
   },
   "outputs": [],
   "source": [
    "eroded = ndimage.binary_erosion(src_image, structure)\n",
    "subplot(121)\n",
    "imshow2(src_image)\n",
    "subplot(122)\n",
    "imshow2(eroded)\n",
    "colorbar()"
   ]
  },
  {
   "cell_type": "code",
   "execution_count": null,
   "metadata": {
    "deletable": true,
    "editable": true
   },
   "outputs": [],
   "source": [
    "src_image = where(i[:,:] > 255*0.6, 1, 0)\n",
    "eroded = ndimage.binary_erosion(src_image, structure)\n",
    "subplot(121)\n",
    "imshow2(src_image)\n",
    "subplot(122)\n",
    "imshow2(eroded)"
   ]
  },
  {
   "cell_type": "code",
   "execution_count": null,
   "metadata": {
    "deletable": true,
    "editable": true
   },
   "outputs": [],
   "source": [
    "eroded = ndimage.binary_erosion(eroded, structure)\n",
    "subplot(121)\n",
    "imshow2(eroded)\n",
    "subplot(122)\n",
    "eroded = ndimage.binary_erosion(eroded, structure)\n",
    "imshow2(eroded)"
   ]
  },
  {
   "cell_type": "code",
   "execution_count": null,
   "metadata": {
    "deletable": true,
    "editable": true
   },
   "outputs": [],
   "source": [
    "structure = zeros((20,20))\n",
    "structure[range(20), 19 - arange(20)] = 1.0\n",
    "\n",
    "src_image = where(i[:,:] > 255*0.6, 1, 0)\n",
    "eroded = ndimage.binary_erosion(src_image, structure)\n",
    "subplot(121)\n",
    "imshow2(src_image)\n",
    "subplot(122)\n",
    "imshow2(eroded)"
   ]
  },
  {
   "cell_type": "markdown",
   "metadata": {
    "deletable": true,
    "editable": true
   },
   "source": [
    "## Maximum filter (dilation)"
   ]
  },
  {
   "cell_type": "code",
   "execution_count": null,
   "metadata": {
    "deletable": true,
    "editable": true
   },
   "outputs": [],
   "source": [
    "src_image = where(i > 255 * 0.6, 1, 0)\n",
    "dilated = ndimage.binary_dilation(src_image, structure)\n",
    "subplot(121)\n",
    "imshow2(src_image)\n",
    "subplot(122)\n",
    "imshow2(dilated)"
   ]
  },
  {
   "cell_type": "code",
   "execution_count": null,
   "metadata": {
    "deletable": true,
    "editable": true
   },
   "outputs": [],
   "source": [
    "src_image = where(i > 255 * 0.7, 1, 0)\n",
    "structure = fliplr(structure)\n",
    "#structure[range(40), 1-arange(40)]\n",
    "dilated = ndimage.binary_dilation(src_image, structure)\n",
    "subplot(121)\n",
    "imshow2(src_image)\n",
    "subplot(122)\n",
    "imshow2(dilated)"
   ]
  },
  {
   "cell_type": "code",
   "execution_count": null,
   "metadata": {
    "deletable": true,
    "editable": true
   },
   "outputs": [],
   "source": [
    "mgrid[-3:3, 0:6]"
   ]
  },
  {
   "cell_type": "code",
   "execution_count": null,
   "metadata": {
    "deletable": true,
    "editable": true
   },
   "outputs": [],
   "source": [
    "src_image = where(i > 255 * 0.7, 1, 0)\n",
    "g = mgrid[-15:15, -15:15]\n",
    "structure = where(sum(g**2, axis=0) < 150, 1, 0)\n",
    "imshow2(structure)"
   ]
  },
  {
   "cell_type": "code",
   "execution_count": null,
   "metadata": {
    "deletable": true,
    "editable": true
   },
   "outputs": [],
   "source": [
    "#structure[range(40), 1-arange(40)]\n",
    "dilated = ndimage.binary_dilation(src_image, structure)\n",
    "subplot(121)\n",
    "imshow2(src_image)\n",
    "subplot(122)\n",
    "imshow2(dilated)"
   ]
  },
  {
   "cell_type": "markdown",
   "metadata": {
    "deletable": true,
    "editable": true
   },
   "source": [
    "## Opening and closing"
   ]
  },
  {
   "cell_type": "markdown",
   "metadata": {
    "deletable": true,
    "editable": true
   },
   "source": [
    "Opening is erosion followed by dilation.\n",
    "\n",
    "Closing is the opposite, dilation followed by erosion."
   ]
  },
  {
   "cell_type": "code",
   "execution_count": null,
   "metadata": {
    "deletable": true,
    "editable": true
   },
   "outputs": [],
   "source": [
    "src_image = zeros((100,100))\n",
    "src_image[25:-25, 25:-25] = 1\n",
    "src_image[10:30, 10:30] = 1\n",
    "imshow2(src_image)"
   ]
  },
  {
   "cell_type": "code",
   "execution_count": null,
   "metadata": {
    "deletable": true,
    "editable": true
   },
   "outputs": [],
   "source": [
    "subplot(121)\n",
    "imshow2(ndimage.binary_opening(src_image, structure))\n",
    "title(\"Opening\")\n",
    "subplot(122)\n",
    "imshow2(ndimage.binary_closing(src_image, structure))\n",
    "title(\"Closing\")"
   ]
  },
  {
   "cell_type": "code",
   "execution_count": null,
   "metadata": {
    "deletable": true,
    "editable": true
   },
   "outputs": [],
   "source": [
    "imshow2(ndimage.binary_erosion(src_image, structure))"
   ]
  },
  {
   "cell_type": "code",
   "execution_count": null,
   "metadata": {
    "deletable": true,
    "editable": true
   },
   "outputs": [],
   "source": [
    "g = mgrid[-5:5, -5:5]\n",
    "structure = where(sum(g**2, axis=0) < 17, 1, 0)\n",
    "imshow2(structure)"
   ]
  },
  {
   "cell_type": "code",
   "execution_count": null,
   "metadata": {
    "deletable": true,
    "editable": true
   },
   "outputs": [],
   "source": [
    "subplot(121)\n",
    "imshow2(ndimage.binary_opening(src_image, structure))\n",
    "title(\"Opening\")\n",
    "subplot(122)\n",
    "imshow2(ndimage.binary_closing(src_image, structure))\n",
    "title(\"Closing\")"
   ]
  },
  {
   "cell_type": "code",
   "execution_count": null,
   "metadata": {
    "deletable": true,
    "editable": true
   },
   "outputs": [],
   "source": [
    "imshow2(ndimage.binary_dilation(src_image, structure))"
   ]
  },
  {
   "cell_type": "code",
   "execution_count": null,
   "metadata": {
    "deletable": true,
    "editable": true
   },
   "outputs": [],
   "source": [
    "src_image = where(i > 255 * 0.7, 1, 0)\n",
    "subplot(131)\n",
    "imshow2(src_image)\n",
    "subplot(132)\n",
    "imshow2(ndimage.binary_opening(src_image, structure))\n",
    "subplot(133)\n",
    "imshow2(ndimage.binary_closing(src_image, structure))\n",
    "gcf().set_figwidth(10)"
   ]
  },
  {
   "cell_type": "markdown",
   "metadata": {
    "deletable": true,
    "editable": true
   },
   "source": [
    "### Grayscale morphology"
   ]
  },
  {
   "cell_type": "code",
   "execution_count": null,
   "metadata": {
    "deletable": true,
    "editable": true
   },
   "outputs": [],
   "source": [
    "ibwlena = lena()\n",
    "ibwlena.shape"
   ]
  },
  {
   "cell_type": "code",
   "execution_count": null,
   "metadata": {
    "deletable": true,
    "editable": true
   },
   "outputs": [],
   "source": [
    "min_filter = ndimage.minimum_filter(ibwlena, (10,10))\n",
    "imshow(min_filter, cmap=cm.gray)"
   ]
  },
  {
   "cell_type": "code",
   "execution_count": null,
   "metadata": {
    "deletable": true,
    "editable": true
   },
   "outputs": [],
   "source": [
    "subplot(121)\n",
    "min_filter = ndimage.minimum_filter(ibwlena, (64,64))\n",
    "imshow(min_filter, cmap=cm.gray)\n",
    "\n",
    "subplot(122)\n",
    "max_filter = ndimage.maximum_filter(ibwlena, (64,64))\n",
    "imshow(max_filter, cmap=cm.gray)"
   ]
  },
  {
   "cell_type": "code",
   "execution_count": null,
   "metadata": {
    "deletable": true,
    "editable": true
   },
   "outputs": [],
   "source": [
    "size = (128, 12)\n",
    "series = ndimage.minimum_filter(ndimage.maximum_filter(ibwlena, size), size)\n",
    "imshow(series, cmap=cm.gray)"
   ]
  },
  {
   "cell_type": "markdown",
   "metadata": {
    "deletable": true,
    "editable": true
   },
   "source": [
    "### Morphological gradient"
   ]
  },
  {
   "cell_type": "markdown",
   "metadata": {
    "deletable": true,
    "editable": true
   },
   "source": [
    "The difference between dilation and erosion"
   ]
  },
  {
   "cell_type": "markdown",
   "metadata": {
    "deletable": true,
    "editable": true
   },
   "source": [
    "http://biografias.wiki/wp-content/uploads/2014/07/antonio+nari%C3%B1o.jpg"
   ]
  },
  {
   "cell_type": "code",
   "execution_count": null,
   "metadata": {
    "deletable": true,
    "editable": true
   },
   "outputs": [],
   "source": [
    "narino = imread(\"sources/antonio+nariño.jpg\")\n",
    "imshow(narino, cmap=cm.gray)"
   ]
  },
  {
   "cell_type": "code",
   "execution_count": null,
   "metadata": {
    "deletable": true,
    "editable": true
   },
   "outputs": [],
   "source": [
    "min_filter = ndimage.minimum_filter(narino, (20,20))\n",
    "max_filter = ndimage.maximum_filter(narino, (20,20))\n",
    "imshow(max_filter - min_filter, cmap=cm.gray)"
   ]
  },
  {
   "cell_type": "code",
   "execution_count": null,
   "metadata": {
    "deletable": true,
    "editable": true
   },
   "outputs": [],
   "source": [
    "min_filter = ndimage.minimum_filter(narino, (64, 64))\n",
    "max_filter = ndimage.maximum_filter(narino, (64,64))\n",
    "imshow(max_filter - min_filter, cmap=cm.gray)"
   ]
  },
  {
   "cell_type": "markdown",
   "metadata": {
    "deletable": true,
    "editable": true
   },
   "source": [
    "http://www.ee.lamar.edu/gleb/dip/10-3%20-%20Morphological%20Image%20Processing.pdf"
   ]
  },
  {
   "cell_type": "code",
   "execution_count": null,
   "metadata": {
    "deletable": true,
    "editable": true
   },
   "outputs": [],
   "source": [
    "import scipy.ndimage.morphology as morphology"
   ]
  },
  {
   "cell_type": "code",
   "execution_count": null,
   "metadata": {
    "deletable": true,
    "editable": true
   },
   "outputs": [],
   "source": [
    "mg = morphology.morphological_gradient(narino, (10,10))\n",
    "imshow(mg, cmap=cm.gray)"
   ]
  },
  {
   "cell_type": "code",
   "execution_count": null,
   "metadata": {
    "deletable": true,
    "editable": true
   },
   "outputs": [],
   "source": [
    "mg = morphology.morphological_gradient(narino, (50,50))\n",
    "imshow(mg, cmap=cm.gray)"
   ]
  },
  {
   "cell_type": "markdown",
   "metadata": {
    "deletable": true,
    "editable": true
   },
   "source": [
    "###Top-hat transform\n",
    "\n",
    "\n",
    "\n",
    "From : http://en.wikipedia.org/wiki/Top-hat_transform\n",
    "\n",
    "\"The white top-hat transform is defined as the difference between the input image and its opening by some structuring element; The black top-hat transform is defined dually as the difference between the closing and the input image. \"\n",
    "\n",
    "The white top-hat transform returns an image, containing those \"objects\" or \"elements\" of an input image that:\n",
    "\n",
    "* Are \"smaller\" than the structuring element (i.e., places where the structuring element does not fit in), and\n",
    "* are brighter than their surroundings.\n",
    "\n",
    "The black top-hat returns an image, containing the \"objects\" or \"elements\" that:\n",
    "\n",
    "* Are \"smaller\" than the structuring element, and\n",
    "* are darker than their surroundings."
   ]
  },
  {
   "cell_type": "code",
   "execution_count": null,
   "metadata": {
    "deletable": true,
    "editable": true
   },
   "outputs": [],
   "source": [
    "wtp = morphology.white_tophat(narino, (4, 4))\n",
    "imshow(wtp, cmap=cm.gray);"
   ]
  },
  {
   "cell_type": "code",
   "execution_count": null,
   "metadata": {
    "deletable": true,
    "editable": true
   },
   "outputs": [],
   "source": [
    "btp = morphology.black_tophat(narino, (4, 4))\n",
    "imshow(btp, cmap=cm.gray);"
   ]
  },
  {
   "cell_type": "code",
   "execution_count": null,
   "metadata": {
    "deletable": true,
    "editable": true
   },
   "outputs": [],
   "source": [
    "imshow(btp + wtp, cmap=cm.gray);"
   ]
  },
  {
   "cell_type": "markdown",
   "metadata": {
    "deletable": true,
    "editable": true
   },
   "source": [
    "### Handling \"blobs\""
   ]
  },
  {
   "cell_type": "code",
   "execution_count": null,
   "metadata": {
    "deletable": true,
    "editable": true
   },
   "outputs": [],
   "source": [
    "n = 100\n",
    "l = 256\n",
    "im = np.zeros((256,256))\n",
    "points = l*np.random.random((2, n))\n",
    "im[(points[0]).astype(np.int), (points[1]).astype(np.int)] = 1\n",
    "im = ndimage.gaussian_filter(im, 6)\n",
    "im = where(im > im.mean(), 1, 0)\n",
    "imshow2(im)"
   ]
  },
  {
   "cell_type": "code",
   "execution_count": null,
   "metadata": {
    "deletable": true,
    "editable": true
   },
   "outputs": [],
   "source": [
    "label_im, nb_labels = ndimage.label(im)\n",
    "print(nb_labels) # number of regions"
   ]
  },
  {
   "cell_type": "code",
   "execution_count": null,
   "metadata": {
    "deletable": true,
    "editable": true
   },
   "outputs": [],
   "source": [
    "imshow(label_im)\n",
    "colorbar()"
   ]
  },
  {
   "cell_type": "code",
   "execution_count": null,
   "metadata": {
    "deletable": true,
    "editable": true
   },
   "outputs": [],
   "source": [
    "blob = where(label_im == 13, 13, 0)\n",
    "blob += where(label_im == 22, 22, 0)\n",
    "imshow(blob, vmax= nb_labels)"
   ]
  },
  {
   "cell_type": "code",
   "execution_count": null,
   "metadata": {
    "deletable": true,
    "editable": true
   },
   "outputs": [],
   "source": [
    "blobs = where(label_im > 13, 1, 0)\n",
    "imshow(blobs)"
   ]
  },
  {
   "cell_type": "markdown",
   "metadata": {
    "deletable": true,
    "editable": true
   },
   "source": [
    "## Edge Detection"
   ]
  },
  {
   "cell_type": "code",
   "execution_count": null,
   "metadata": {
    "deletable": true,
    "editable": true
   },
   "outputs": [],
   "source": [
    "im = np.zeros((256,256))\n",
    "im[64:-64, 64:-64] = 1\n",
    "im = ndimage.rotate(im, 15, mode='constant')\n",
    "im = ndimage.gaussian_filter(im, 8)\n",
    "imshow2(im)"
   ]
  },
  {
   "cell_type": "markdown",
   "metadata": {
    "deletable": true,
    "editable": true
   },
   "source": [
    "## Sobel operator"
   ]
  },
  {
   "cell_type": "code",
   "execution_count": null,
   "metadata": {
    "deletable": true,
    "editable": true
   },
   "outputs": [],
   "source": [
    "sx = ndimage.sobel(im, axis=0, mode='constant')\n",
    "sy = ndimage.sobel(im, axis=1, mode='constant')\n",
    "subplot(121)\n",
    "imshow(sx)\n",
    "colorbar()\n",
    "subplot(122)\n",
    "imshow(sy)\n",
    "gcf().set_figwidth(16)"
   ]
  },
  {
   "cell_type": "code",
   "execution_count": null,
   "metadata": {
    "deletable": true,
    "editable": true
   },
   "outputs": [],
   "source": [
    "sob = hypot(sx, sy)\n",
    "imshow(sob)\n",
    "colorbar()"
   ]
  },
  {
   "cell_type": "code",
   "execution_count": null,
   "metadata": {
    "deletable": true,
    "editable": true
   },
   "outputs": [],
   "source": [
    "sob = sx + sy\n",
    "imshow(sob)\n",
    "colorbar()"
   ]
  },
  {
   "cell_type": "code",
   "execution_count": null,
   "metadata": {
    "deletable": true,
    "editable": true
   },
   "outputs": [],
   "source": [
    "imshow(sob > 0.33)"
   ]
  },
  {
   "cell_type": "code",
   "execution_count": null,
   "metadata": {
    "deletable": true,
    "editable": true
   },
   "outputs": [],
   "source": [
    "src_mat= zeros((3, 3))\n",
    "src_mat[1,1] = 1\n",
    "print(ndimage.sobel(src_mat, axis=0))\n",
    "print(ndimage.sobel(src_mat, axis=1))"
   ]
  },
  {
   "cell_type": "markdown",
   "metadata": {
    "deletable": true,
    "editable": true
   },
   "source": [
    "## Prewitt Operator"
   ]
  },
  {
   "cell_type": "code",
   "execution_count": null,
   "metadata": {
    "deletable": true,
    "editable": true
   },
   "outputs": [],
   "source": [
    "sx = ndimage.prewitt(im, axis=0, mode='constant')\n",
    "sy = ndimage.prewitt(im, axis=1, mode='constant')\n",
    "subplot(121)\n",
    "imshow(sx)\n",
    "colorbar()\n",
    "subplot(122)\n",
    "imshow(sy)\n",
    "gcf().set_figwidth(16)"
   ]
  },
  {
   "cell_type": "code",
   "execution_count": null,
   "metadata": {
    "deletable": true,
    "editable": true
   },
   "outputs": [],
   "source": [
    "pre = hypot(sx, sy)\n",
    "imshow(pre)\n",
    "colorbar()"
   ]
  },
  {
   "cell_type": "code",
   "execution_count": null,
   "metadata": {
    "deletable": true,
    "editable": true
   },
   "outputs": [],
   "source": [
    "src_mat= zeros((5, 5))\n",
    "src_mat[2,2] = 1\n",
    "print(ndimage.sobel(src_mat, axis=0))\n",
    "print(ndimage.sobel(src_mat, axis=1))\n",
    "print(\"-----\")\n",
    "src_mat= zeros((5, 5))\n",
    "src_mat[2,2] = 1\n",
    "print(ndimage.prewitt(src_mat, axis=0))\n",
    "print(ndimage.prewitt(src_mat, axis=1))"
   ]
  },
  {
   "cell_type": "code",
   "execution_count": null,
   "metadata": {
    "deletable": true,
    "editable": true
   },
   "outputs": [],
   "source": [
    "src_image = i\n",
    "sx = ndimage.sobel(src_image, axis=0, mode='constant')\n",
    "sy = ndimage.sobel(src_image, axis=1, mode='constant')\n",
    "subplot(121)\n",
    "imshow2(sx)\n",
    "colorbar()\n",
    "subplot(122)\n",
    "imshow2(sy)"
   ]
  },
  {
   "cell_type": "code",
   "execution_count": null,
   "metadata": {
    "deletable": true,
    "editable": true
   },
   "outputs": [],
   "source": [
    "sob = hypot(sx, sy)\n",
    "imshow2(sob)\n",
    "colorbar()"
   ]
  },
  {
   "cell_type": "code",
   "execution_count": null,
   "metadata": {
    "deletable": true,
    "editable": true
   },
   "outputs": [],
   "source": [
    "imshow2(sob[100:300, 300:450])"
   ]
  },
  {
   "cell_type": "code",
   "execution_count": null,
   "metadata": {
    "deletable": true,
    "editable": true
   },
   "outputs": [],
   "source": [
    "src_image = i\n",
    "sx = ndimage.prewitt(src_image, axis=0, mode='constant')\n",
    "sy = ndimage.prewitt(src_image, axis=1, mode='constant')\n",
    "subplot(121)\n",
    "imshow2(sx)\n",
    "colorbar()\n",
    "subplot(122)\n",
    "imshow2(sy)"
   ]
  },
  {
   "cell_type": "code",
   "execution_count": null,
   "metadata": {
    "deletable": true,
    "editable": true
   },
   "outputs": [],
   "source": [
    "pre = hypot(sx, sy)\n",
    "imshow2(pre)\n",
    "colorbar()"
   ]
  },
  {
   "cell_type": "code",
   "execution_count": null,
   "metadata": {
    "deletable": true,
    "editable": true
   },
   "outputs": [],
   "source": [
    "subplot(121)\n",
    "imshow2(sob[100:300, 300:450])\n",
    "colorbar()\n",
    "subplot(122)\n",
    "imshow2(pre[100:300, 300:450])\n",
    "gcf().set_figwidth(16)"
   ]
  },
  {
   "cell_type": "code",
   "execution_count": null,
   "metadata": {
    "deletable": true,
    "editable": true
   },
   "outputs": [],
   "source": [
    "src_image = sob\n",
    "filtered = ndimage.median_filter((src_image > 255 * 0.5), 4)\n",
    "imshow2(filtered)"
   ]
  },
  {
   "cell_type": "code",
   "execution_count": null,
   "metadata": {
    "deletable": true,
    "editable": true
   },
   "outputs": [],
   "source": [
    "src_image = sob[100:300, 300:450]\n",
    "filtered = ndimage.median_filter((src_image > 255 * 0.5), 4)\n",
    "imshow2(filtered)"
   ]
  },
  {
   "cell_type": "markdown",
   "metadata": {
    "deletable": true,
    "editable": true
   },
   "source": [
    "# Pixel Mapping"
   ]
  },
  {
   "cell_type": "code",
   "execution_count": null,
   "metadata": {
    "deletable": true,
    "editable": true
   },
   "outputs": [],
   "source": [
    "def warp(a, b):\n",
    "    if a < b:\n",
    "        out = a + b\n",
    "    else:\n",
    "        out = a - b\n",
    "    return out\n",
    "\n",
    "vfunc = vectorize(warp)"
   ]
  },
  {
   "cell_type": "code",
   "execution_count": null,
   "metadata": {
    "deletable": true,
    "editable": true
   },
   "outputs": [],
   "source": [
    "src_image = i\n",
    "warped = vfunc(src_image, 127)\n",
    "imshow(warped, cmap=cm.gray)"
   ]
  },
  {
   "cell_type": "code",
   "execution_count": null,
   "metadata": {
    "deletable": true,
    "editable": true
   },
   "outputs": [],
   "source": [
    "hist(src_image.flat, bins=255);"
   ]
  },
  {
   "cell_type": "code",
   "execution_count": null,
   "metadata": {
    "deletable": true,
    "editable": true
   },
   "outputs": [],
   "source": [
    "hist(warped.flat, bins=255);"
   ]
  },
  {
   "cell_type": "markdown",
   "metadata": {
    "deletable": true,
    "editable": true
   },
   "source": [
    "# Non-linear filtering"
   ]
  },
  {
   "cell_type": "markdown",
   "metadata": {
    "deletable": true,
    "editable": true
   },
   "source": [
    "## Dynamic range processing"
   ]
  },
  {
   "cell_type": "code",
   "execution_count": null,
   "metadata": {
    "deletable": true,
    "editable": true
   },
   "outputs": [],
   "source": [
    "# Assumes uint8 data!\n",
    "def expand(pixel, center, factor):\n",
    "    centered = float(pixel) - center\n",
    "    out = (centered*factor) + center\n",
    "    if out > 255:\n",
    "        out = 255\n",
    "    if out < 0:\n",
    "        out = 0\n",
    "    return uint8(out)\n",
    "    \n",
    "vfunc = vectorize(expand)"
   ]
  },
  {
   "cell_type": "code",
   "execution_count": null,
   "metadata": {
    "deletable": true,
    "editable": true
   },
   "outputs": [],
   "source": [
    "expanded = vfunc(i, 128, 2.0)\n",
    "imshow(expanded, cmap=cm.gray)"
   ]
  },
  {
   "cell_type": "code",
   "execution_count": null,
   "metadata": {
    "deletable": true,
    "editable": true
   },
   "outputs": [],
   "source": [
    "hist(expanded.flat, bins=255);"
   ]
  },
  {
   "cell_type": "code",
   "execution_count": null,
   "metadata": {
    "deletable": true,
    "editable": true
   },
   "outputs": [],
   "source": [
    "hist(expanded.flat, bins=255);\n",
    "ylim((0, 3000))"
   ]
  },
  {
   "cell_type": "code",
   "execution_count": null,
   "metadata": {
    "deletable": true,
    "editable": true
   },
   "outputs": [],
   "source": [
    "hist(i.flat, bins=255);\n",
    "xlim((0, 300));"
   ]
  },
  {
   "cell_type": "code",
   "execution_count": null,
   "metadata": {
    "deletable": true,
    "editable": true
   },
   "outputs": [],
   "source": [
    "compressed = vfunc(i, 100, 0.02)\n",
    "imshow(compressed, cmap=cm.gray)\n",
    "colorbar()"
   ]
  },
  {
   "cell_type": "code",
   "execution_count": null,
   "metadata": {
    "deletable": true,
    "editable": true
   },
   "outputs": [],
   "source": [
    "hist(compressed.flat, bins=255);"
   ]
  },
  {
   "cell_type": "code",
   "execution_count": null,
   "metadata": {
    "deletable": true,
    "editable": true
   },
   "outputs": [],
   "source": [
    "compressed = vfunc(i, 10, 0.02)\n",
    "imshow(compressed, cmap=cm.gray)\n",
    "colorbar()"
   ]
  },
  {
   "cell_type": "code",
   "execution_count": null,
   "metadata": {
    "deletable": true,
    "editable": true
   },
   "outputs": [],
   "source": [
    "hist(compressed.flat, bins=255);"
   ]
  },
  {
   "cell_type": "markdown",
   "metadata": {
    "deletable": true,
    "editable": true
   },
   "source": [
    "## Colorspace processing"
   ]
  },
  {
   "cell_type": "markdown",
   "metadata": {
    "deletable": true,
    "editable": true
   },
   "source": [
    "http://scikit-image.org/"
   ]
  },
  {
   "cell_type": "code",
   "execution_count": null,
   "metadata": {
    "deletable": true,
    "editable": true
   },
   "outputs": [],
   "source": [
    "from skimage import color\n",
    "fruits = imread('vitamy fruits.png')\n",
    "img_hsv = color.rgb2hsv(fruits)\n",
    "imshow(fruits)"
   ]
  },
  {
   "cell_type": "code",
   "execution_count": null,
   "metadata": {
    "deletable": true,
    "editable": true
   },
   "outputs": [],
   "source": [
    "imshow(img_hsv)"
   ]
  },
  {
   "cell_type": "code",
   "execution_count": null,
   "metadata": {
    "deletable": true,
    "editable": true
   },
   "outputs": [],
   "source": [
    "imshow(img_hsv[:,:, 0], cmap= cm.hsv)\n",
    "colorbar()"
   ]
  },
  {
   "cell_type": "code",
   "execution_count": null,
   "metadata": {
    "deletable": true,
    "editable": true
   },
   "outputs": [],
   "source": [
    "imshow(img_hsv[:,:, 1], cmap= cm.gray)"
   ]
  },
  {
   "cell_type": "code",
   "execution_count": null,
   "metadata": {
    "deletable": true,
    "editable": true
   },
   "outputs": [],
   "source": [
    "imshow(img_hsv[:,:, 2], cmap= cm.gray)"
   ]
  },
  {
   "cell_type": "code",
   "execution_count": null,
   "metadata": {
    "deletable": true,
    "editable": true
   },
   "outputs": [],
   "source": [
    "img_hsv[:,:,0].max()"
   ]
  },
  {
   "cell_type": "code",
   "execution_count": null,
   "metadata": {
    "deletable": true,
    "editable": true
   },
   "outputs": [],
   "source": [
    "img_hsv.shape"
   ]
  },
  {
   "cell_type": "code",
   "execution_count": null,
   "metadata": {
    "deletable": true,
    "editable": true
   },
   "outputs": [],
   "source": [
    "subplot(231)\n",
    "title(\"Hue\")\n",
    "imshow(img_hsv[:,:,0])\n",
    "subplot(232)\n",
    "title(\"Saturation\")\n",
    "imshow(img_hsv[:,:,1])\n",
    "subplot(233)\n",
    "title(\"Value\")\n",
    "imshow(img_hsv[:,:,2])\n",
    "\n",
    "subplot(234)\n",
    "imshow(fruits)"
   ]
  },
  {
   "cell_type": "markdown",
   "metadata": {
    "deletable": true,
    "editable": true
   },
   "source": [
    "<img src=\"https://doc.qt.io/archives/qq/qq26-hsv-space.png\">"
   ]
  },
  {
   "cell_type": "code",
   "execution_count": null,
   "metadata": {
    "deletable": true,
    "editable": true
   },
   "outputs": [],
   "source": [
    "low_s = img_hsv[:,:,1] * 0.3\n",
    "processed = img_hsv.copy()\n",
    "processed[:,:, 1] = low_s\n",
    "imshow(color.hsv2rgb(processed))"
   ]
  },
  {
   "cell_type": "code",
   "execution_count": null,
   "metadata": {
    "deletable": true,
    "editable": true
   },
   "outputs": [],
   "source": [
    "low_s = img_hsv[:,:,2][:] * 0.3 + 0.7\n",
    "processed = img_hsv.copy()\n",
    "processed[:,:, 2] = low_s\n",
    "imshow(color.hsv2rgb(processed))"
   ]
  },
  {
   "cell_type": "code",
   "execution_count": null,
   "metadata": {
    "deletable": true,
    "editable": true
   },
   "outputs": [],
   "source": [
    "low_s = img_hsv[:,:,0][:] + 0.3\n",
    "processed = img_hsv.copy()\n",
    "processed[:,:, 0] = low_s\n",
    "imshow(color.hsv2rgb(processed))"
   ]
  },
  {
   "cell_type": "code",
   "execution_count": null,
   "metadata": {
    "deletable": true,
    "editable": true
   },
   "outputs": [],
   "source": [
    "color."
   ]
  },
  {
   "cell_type": "markdown",
   "metadata": {
    "deletable": true,
    "editable": true
   },
   "source": [
    "## 2D Fourier Transform"
   ]
  },
  {
   "cell_type": "code",
   "execution_count": null,
   "metadata": {
    "deletable": true,
    "editable": true
   },
   "outputs": [],
   "source": [
    "FFT = fft.fft2(narino)\n",
    "\n",
    "FFT_centered = fft.fftshift(FFT)\n",
    "    \n",
    "mag_spec = abs(FFT_centered)\n",
    "phs_spec = angle(FFT_centered)\n"
   ]
  },
  {
   "cell_type": "code",
   "execution_count": null,
   "metadata": {
    "deletable": true,
    "editable": true
   },
   "outputs": [],
   "source": [
    "imshow(mag_spec, cmap=cm.gray)\n",
    "colorbar()"
   ]
  },
  {
   "cell_type": "code",
   "execution_count": null,
   "metadata": {
    "deletable": true,
    "editable": true
   },
   "outputs": [],
   "source": [
    "imshow(log(mag_spec), cmap=cm.gray)\n",
    "colorbar()"
   ]
  },
  {
   "cell_type": "code",
   "execution_count": null,
   "metadata": {
    "deletable": true,
    "editable": true
   },
   "outputs": [],
   "source": [
    "imshow(phs_spec, cmap=cm.gray)"
   ]
  },
  {
   "cell_type": "code",
   "execution_count": null,
   "metadata": {
    "deletable": true,
    "editable": true
   },
   "outputs": [],
   "source": [
    "FFT = fft.fft2(ibwlena)\n",
    "\n",
    "FFT_centered = fft.fftshift(FFT)\n",
    "    \n",
    "mag_spec = abs(FFT_centered)\n",
    "phs_spec = angle(FFT_centered)\n",
    "\n",
    "imshow(log(mag_spec), cmap=cm.gray)"
   ]
  },
  {
   "cell_type": "code",
   "execution_count": null,
   "metadata": {
    "deletable": true,
    "editable": true
   },
   "outputs": [],
   "source": [
    "imshow(phs_spec, cmap=cm.gray)"
   ]
  },
  {
   "cell_type": "code",
   "execution_count": null,
   "metadata": {
    "deletable": true,
    "editable": true
   },
   "outputs": [],
   "source": [
    "FFT1 = fft.fft2(sum(fruits[:400,:332,:], axis=2)/3)\n",
    "FFT2 = fft.fft2(narino[:400,:332])  \n",
    "\n",
    "mag_spec = abs(FFT1)\n",
    "phs_spec = angle(FFT2)\n",
    "\n",
    "new_FFT = mag_spec * exp(1j*phs_spec)\n",
    "phs_only = fft.ifft2(new_FFT)\n",
    "imshow(real(phs_only), cmap=cm.gray)"
   ]
  },
  {
   "cell_type": "code",
   "execution_count": null,
   "metadata": {
    "deletable": true,
    "editable": true
   },
   "outputs": [],
   "source": [
    "FFT1 = fft.fft2(sum(fruits[:400,:332,:], axis=2)/3)\n",
    "FFT2 = fft.fft2(narino[:400,:332])   \n",
    "\n",
    "mag_spec = abs(FFT2)\n",
    "phs_spec = angle(FFT1)\n",
    "\n",
    "new_FFT = mag_spec * exp(1j*phs_spec)\n",
    "phs_only = fft.ifft2(new_FFT)\n",
    "imshow(real(phs_only), cmap=cm.gray)"
   ]
  },
  {
   "cell_type": "markdown",
   "metadata": {
    "deletable": true,
    "editable": true
   },
   "source": [
    "For images, most of the \"information\" is carried in the phase spectrum, while the inverse is true for audio!"
   ]
  },
  {
   "cell_type": "markdown",
   "metadata": {
    "deletable": true,
    "editable": true
   },
   "source": [
    "An excellent resource on additional ideas for image processing:\n",
    "\n",
    "http://nbviewer.ipython.org/github/gestaltrevision/python_for_visres/blob/master/Part7/Part7_Image_Statistics.ipynb"
   ]
  },
  {
   "cell_type": "markdown",
   "metadata": {
    "deletable": true,
    "editable": true
   },
   "source": [
    "By: Andrés Cabrera mantaraya36@gmail.com\n",
    "For MAT course MAT 201A at UCSB\n",
    "\n",
    "This ipython notebook is licensed under the CC-BY-NC-SA license: http://creativecommons.org/licenses/by-nc-sa/4.0/\n",
    "\n",
    "![http://i.creativecommons.org/l/by-nc-sa/3.0/88x31.png](http://i.creativecommons.org/l/by-nc-sa/3.0/88x31.png)"
   ]
  }
 ],
 "metadata": {
  "kernelspec": {
   "display_name": "Python 3",
   "language": "python",
   "name": "python3"
  },
  "language_info": {
   "codemirror_mode": {
    "name": "ipython",
    "version": 3
   },
   "file_extension": ".py",
   "mimetype": "text/x-python",
   "name": "python",
   "nbconvert_exporter": "python",
   "pygments_lexer": "ipython3",
   "version": "3.6.1"
  }
 },
 "nbformat": 4,
 "nbformat_minor": 0
}
