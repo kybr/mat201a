{
 "cells": [
  {
   "cell_type": "markdown",
   "metadata": {},
   "source": [
    "# MAT-201A Spring 2017\n",
    "## Lena Mathew\n",
    "### lena@mat.ucsb.edu\n",
    "\n",
    "### HW 1 \n",
    "### This is a notebook on image sonification. I am using an image of a mandelbrot set and sonifying it. \n",
    "### Processing and playback is shown from 3 different cycle output."
   ]
  },
  {
   "cell_type": "code",
   "execution_count": null,
   "metadata": {},
   "outputs": [],
   "source": [
    "%pylab inline\n",
    "from __future__ import print_function\n",
    "from __future__ import division\n",
    "import IPython\n"
   ]
  },
  {
   "cell_type": "code",
   "execution_count": null,
   "metadata": {},
   "outputs": [],
   "source": [
    "from scipy.io import wavfile"
   ]
  },
  {
   "cell_type": "code",
   "execution_count": null,
   "metadata": {},
   "outputs": [],
   "source": [
    "img = imread('media/mandelbrot2.png')"
   ]
  },
  {
   "cell_type": "markdown",
   "metadata": {},
   "source": [
    "Complexity of the image should hopefully yield some intersting sounds/waveforms."
   ]
  },
  {
   "cell_type": "code",
   "execution_count": null,
   "metadata": {},
   "outputs": [],
   "source": [
    "imshow(img)"
   ]
  },
  {
   "cell_type": "markdown",
   "metadata": {},
   "source": [
    "Plot image starting at X=400 and take the entire column"
   ]
  },
  {
   "cell_type": "code",
   "execution_count": null,
   "metadata": {},
   "outputs": [],
   "source": [
    "sig = img[400,:, 2]\n",
    "plot(sig)\n",
    "sig.dtype"
   ]
  },
  {
   "cell_type": "markdown",
   "metadata": {},
   "source": [
    "Apply cosine for AM to the selected signal, plot and save it to a wav file."
   ]
  },
  {
   "cell_type": "code",
   "execution_count": null,
   "metadata": {},
   "outputs": [],
   "source": [
    "wt = linspace(0, 2*pi, 1280)\n",
    "signal=cos(wt)\n",
    "audiooutput = array(((img[400,:,0].astype(int16))))\n",
    "AMsignal=audiooutput*signal\n",
    "plot(AMsignal)\n",
    "wavfile.write('AMsignal.wav', 441000, AMsignal)\n",
    "IPython.display.Audio (data=AMsignal, filename=None, url=None, embed=True, rate=44100, autoplay=False)"
   ]
  },
  {
   "cell_type": "markdown",
   "metadata": {},
   "source": [
    "Increase pi (cycle) amount in order to extend view of image. Also frequency is increased for a better audible output."
   ]
  },
  {
   "cell_type": "code",
   "execution_count": null,
   "metadata": {},
   "outputs": [],
   "source": [
    "wt = linspace(0, 500 * pi, 1310720)\n",
    "signal=cos(wt)\n",
    "audiooutput = array(((img[:,:,0].astype(int16))).flat)\n",
    "completesignal=audiooutput*signal*10000\n",
    "plot(completesignal)\n",
    "xlim(0,30000)\n",
    "wavfile.write('completesignal.wav', 44100, completesignal)\n",
    "IPython.display.Audio (data=completesignal, filename=None, url=None, embed=True, rate=44100, autoplay=False)"
   ]
  },
  {
   "cell_type": "markdown",
   "metadata": {},
   "source": [
    "Same as above only now there are now 5 cycles compared to 500 as in the former output"
   ]
  },
  {
   "cell_type": "code",
   "execution_count": null,
   "metadata": {},
   "outputs": [],
   "source": [
    "wt = linspace(0, 5 * pi, 1310720)\n",
    "signal=cos(wt)\n",
    "audioout = array(((img[:,:,1].astype(int16))).flat)\n",
    "completesig5=audioout*signal*20000\n",
    "plot(completesig5)\n",
    "\n",
    "\n",
    "wavfile.write('completesig5.wav', 44100, completesig5)\n",
    "IPython.display.Audio (data=completesig5, filename=None, url=None, embed=True, rate=44100, autoplay=False)\n"
   ]
  },
  {
   "cell_type": "markdown",
   "metadata": {},
   "source": [
    "### End of the HW requirement of sonifying an image (above)."
   ]
  },
  {
   "cell_type": "markdown",
   "metadata": {},
   "source": [
    "### Extra: Create an image of a .wav file. In this case a file that was created in this program"
   ]
  },
  {
   "cell_type": "code",
   "execution_count": null,
   "metadata": {},
   "outputs": [],
   "source": [
    "sr, sample = wavfile.read('completesignal.wav')"
   ]
  },
  {
   "cell_type": "code",
   "execution_count": null,
   "metadata": {},
   "outputs": [],
   "source": [
    "sample.size"
   ]
  },
  {
   "cell_type": "code",
   "execution_count": null,
   "metadata": {},
   "outputs": [],
   "source": [
    "plot(sample);"
   ]
  },
  {
   "cell_type": "code",
   "execution_count": null,
   "metadata": {},
   "outputs": [],
   "source": [
    "newimg = sample[:196608].reshape(256,256,3)"
   ]
  },
  {
   "cell_type": "code",
   "execution_count": null,
   "metadata": {},
   "outputs": [],
   "source": [
    "newimg.max(), (newimg/100.0).max()"
   ]
  },
  {
   "cell_type": "code",
   "execution_count": null,
   "metadata": {},
   "outputs": [],
   "source": [
    "imshow(newimg/100.0);"
   ]
  }
 ],
 "metadata": {
  "kernelspec": {
   "display_name": "Python 3",
   "language": "python",
   "name": "python3"
  },
  "language_info": {
   "codemirror_mode": {
    "name": "ipython",
    "version": 3
   },
   "file_extension": ".py",
   "mimetype": "text/x-python",
   "name": "python",
   "nbconvert_exporter": "python",
   "pygments_lexer": "ipython3",
   "version": "3.6.0"
  }
 },
 "nbformat": 4,
 "nbformat_minor": 1
}
