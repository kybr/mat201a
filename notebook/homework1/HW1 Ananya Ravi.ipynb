{
 "cells": [
  {
   "cell_type": "markdown",
   "metadata": {},
   "source": [
    "###### MAT 201A Spring 2017 \n",
    "###### HW 1 : Produce a sound file from image data \n",
    "###### Ananya Ravi\n",
    "###### ananyarav@gmail.com"
   ]
  },
  {
   "cell_type": "code",
   "execution_count": null,
   "metadata": {},
   "outputs": [],
   "source": [
    "%pylab inline\n",
    "from __future__ import print_function\n",
    "from __future__ import division\n",
    "import IPython"
   ]
  },
  {
   "cell_type": "markdown",
   "metadata": {},
   "source": [
    "###### Reading an optical image to get an interesting sound"
   ]
  },
  {
   "cell_type": "code",
   "execution_count": null,
   "metadata": {},
   "outputs": [],
   "source": [
    "img = imread('media/optical3.jpg')"
   ]
  },
  {
   "cell_type": "code",
   "execution_count": null,
   "metadata": {},
   "outputs": [],
   "source": [
    "type(img)"
   ]
  },
  {
   "cell_type": "code",
   "execution_count": null,
   "metadata": {},
   "outputs": [],
   "source": [
    "imshow(img)"
   ]
  },
  {
   "cell_type": "code",
   "execution_count": null,
   "metadata": {},
   "outputs": [],
   "source": [
    "img.shape"
   ]
  },
  {
   "cell_type": "code",
   "execution_count": null,
   "metadata": {},
   "outputs": [],
   "source": [
    "subplot(131) # 131 means: table is 1 row 3 columns. 1 is the current column.\n",
    "imshow(img[:,:,0])\n",
    "colorbar()\n",
    "\n",
    "subplot(132)\n",
    "imshow(img[:,:,1])\n",
    "colorbar()\n",
    "\n",
    "subplot(133)\n",
    "imshow(img[:,:,2])\n",
    "colorbar()\n",
    "\n",
    "gcf().set_figwidth(14)"
   ]
  },
  {
   "cell_type": "code",
   "execution_count": null,
   "metadata": {},
   "outputs": [],
   "source": [
    "subplot(131)\n",
    "imshow(img[:,:-30,0], cmap=cm.gray)\n",
    "colorbar()\n",
    "subplot(132)\n",
    "imshow(img[:,:-30,1], cmap=cm.gray)\n",
    "colorbar()\n",
    "subplot(133)\n",
    "imshow(img[:,:-30,2], cmap=cm.gray)\n",
    "colorbar()\n",
    "\n",
    "gcf().set_figwidth(14)"
   ]
  },
  {
   "cell_type": "code",
   "execution_count": null,
   "metadata": {},
   "outputs": [],
   "source": [
    "img.dtype"
   ]
  },
  {
   "cell_type": "code",
   "execution_count": null,
   "metadata": {},
   "outputs": [],
   "source": [
    "sig = img[120,:, 1] #taking 120th row from the green layer (reprsented as 1)\n",
    "plot(sig)\n",
    "sig.dtype\n",
    "xlabel('Time')\n",
    "ylabel('Amplitude')"
   ]
  },
  {
   "cell_type": "code",
   "execution_count": null,
   "metadata": {},
   "outputs": [],
   "source": [
    "import wave\n",
    "from scipy.io import wavfile"
   ]
  },
  {
   "cell_type": "markdown",
   "metadata": {},
   "source": [
    "###### Playing the row from image and repeating it 30 times "
   ]
  },
  {
   "cell_type": "code",
   "execution_count": null,
   "metadata": {},
   "outputs": [],
   "source": [
    "sigout = list(sig.astype(uint8))*30 \n",
    "plot(sigout)\n",
    "xlabel('Time')\n",
    "ylabel('Amplitude')\n",
    "gcf().set_figwidth(18)\n",
    "xlim(0,5000)\n",
    "IPython.display.Audio(data=sigout, filename=None, url=None, embed=True, rate=8000, autoplay=False)"
   ]
  },
  {
   "cell_type": "code",
   "execution_count": null,
   "metadata": {},
   "outputs": [],
   "source": [
    "len(sigout)"
   ]
  },
  {
   "cell_type": "markdown",
   "metadata": {},
   "source": [
    "###### Using a bessel function for modulation to get a different sound"
   ]
  },
  {
   "cell_type": "code",
   "execution_count": null,
   "metadata": {},
   "outputs": [],
   "source": [
    "from scipy.special import jn\n",
    "x = linspace(0,len(sigout), len(sigout))\n",
    "plot( x,jn(48,x))\n",
    "osc=1000*jn(48,x)\n",
    "xlim(0,1000)\n",
    "gcf().set_figwidth(20)"
   ]
  },
  {
   "cell_type": "code",
   "execution_count": null,
   "metadata": {},
   "outputs": [],
   "source": [
    "plot(osc)\n",
    "gcf().set_figwidth(20)\n",
    "xlim(0,25000)"
   ]
  },
  {
   "cell_type": "code",
   "execution_count": null,
   "metadata": {},
   "outputs": [],
   "source": [
    "audioout=sigout*osc\n",
    "plot(audioout);\n",
    "gcf().set_figwidth(20)\n",
    "xlim(0,25000)"
   ]
  },
  {
   "cell_type": "code",
   "execution_count": null,
   "metadata": {},
   "outputs": [],
   "source": [
    "IPython.display.Audio (data=audioout, filename=None, url=None, embed=True, rate=8000, autoplay=False)"
   ]
  },
  {
   "cell_type": "markdown",
   "metadata": {},
   "source": [
    "###### Performing amplitude modulation on the data by applying cos wave"
   ]
  },
  {
   "cell_type": "code",
   "execution_count": null,
   "metadata": {},
   "outputs": [],
   "source": [
    "wt = linspace(0, 6 * pi, len(sigout))\n",
    "oscillation = 125*cos(wt)\n",
    "plot(oscillation);\n",
    "gcf().set_figwidth(20)"
   ]
  },
  {
   "cell_type": "code",
   "execution_count": null,
   "metadata": {},
   "outputs": [],
   "source": [
    "audioout=sigout*oscillation\n",
    "plot(audioout);\n",
    "gcf().set_figwidth(20)"
   ]
  },
  {
   "cell_type": "code",
   "execution_count": null,
   "metadata": {},
   "outputs": [],
   "source": [
    "IPython.display.Audio (data=audioout, filename=None, url=None, embed=True, rate=8000, autoplay=False)"
   ]
  }
 ],
 "metadata": {
  "kernelspec": {
   "display_name": "Python 2",
   "language": "python",
   "name": "python2"
  },
  "language_info": {
   "codemirror_mode": {
    "name": "ipython",
    "version": 2
   },
   "file_extension": ".py",
   "mimetype": "text/x-python",
   "name": "python",
   "nbconvert_exporter": "python",
   "pygments_lexer": "ipython2",
   "version": "2.7.12"
  }
 },
 "nbformat": 4,
 "nbformat_minor": 2
}
