{
 "cells": [
  {
   "cell_type": "code",
   "execution_count": null,
   "metadata": {},
   "outputs": [],
   "source": [
    "# MAT 201A Spring 2017\n",
    "# HW 1\n",
    "# Mengyu Chen\n",
    "# mengyuchen@umail.ucsb.edu\n",
    "# This notebook is Mengyu's submission for homework 1"
   ]
  },
  {
   "cell_type": "markdown",
   "metadata": {},
   "source": [
    "## MAT 201A Spring 2017\n",
    "### Homework 1\n",
    "### Mengyu Chen\n",
    "### mengyuchen@umail.ucsb.edu\n",
    "##### The code below converts a piece of sound to image, and then turn the image back to sound. The sound file used is a piece of recording released from the 2011 Fukushima Daiichi Nuclear Disaster, and is a short conversation between a man named Yoshida(who was the lead engineer of nuclear plant at the time) and the head office of Tokyo Electric Power Company, a state-owned electric service provider. The conversation happened right after a steam-blast explosion on one of the nuclear plant, which was later read and determined as a result of the conflict of interest between the country and the local residents."
   ]
  },
  {
   "cell_type": "markdown",
   "metadata": {},
   "source": [
    "## Loading Libraries"
   ]
  },
  {
   "cell_type": "code",
   "execution_count": null,
   "metadata": {},
   "outputs": [],
   "source": [
    "%pylab inline\n",
    "from __future__ import print_function\n",
    "from __future__ import division"
   ]
  },
  {
   "cell_type": "code",
   "execution_count": null,
   "metadata": {},
   "outputs": [],
   "source": [
    "import wave"
   ]
  },
  {
   "cell_type": "code",
   "execution_count": null,
   "metadata": {},
   "outputs": [],
   "source": [
    "from IPython.display import Audio\n",
    "from scipy import ndimage"
   ]
  },
  {
   "cell_type": "code",
   "execution_count": null,
   "metadata": {},
   "outputs": [],
   "source": [
    "sf = wave.open(\"media/emergency.wav\", 'r')\n",
    "sf.getparams()"
   ]
  },
  {
   "cell_type": "code",
   "execution_count": null,
   "metadata": {},
   "outputs": [],
   "source": [
    "from scipy.io import wavfile"
   ]
  },
  {
   "cell_type": "markdown",
   "metadata": {},
   "source": [
    "## Sound Processing"
   ]
  },
  {
   "cell_type": "code",
   "execution_count": null,
   "metadata": {},
   "outputs": [],
   "source": [
    "sr, samples = wavfile.read('media/emergency.wav')"
   ]
  },
  {
   "cell_type": "code",
   "execution_count": null,
   "metadata": {},
   "outputs": [],
   "source": [
    "Audio('media/emergency.wav')"
   ]
  },
  {
   "cell_type": "markdown",
   "metadata": {},
   "source": [
    "##### Translation:\n",
    "##### Yoshida: Head Office! Head Office!\n",
    "##### Head Office A: This is Head Office.\n",
    "##### Yoshida: Head Office! We are in big trouble. The No.3 Plant, probably because of the steam, just had a phreatic explosion.\n",
    "##### Head Office: Got it.\n",
    "##### Head Office B: Got it. This is an emergency.\n",
    "##### Yoshida: This is 11 o'clock. 11:01. (of March 14, 2011)\n",
    "##### Head Office A: 11:01. Got it. This is an emergency.\n",
    "##### Yoshida: Yes.\n"
   ]
  },
  {
   "cell_type": "code",
   "execution_count": null,
   "metadata": {},
   "outputs": [],
   "source": [
    "samples"
   ]
  },
  {
   "cell_type": "code",
   "execution_count": null,
   "metadata": {},
   "outputs": [],
   "source": [
    "fsamples = array(samples.flat) # flat the two channels\n",
    "fsamples"
   ]
  },
  {
   "cell_type": "code",
   "execution_count": null,
   "metadata": {},
   "outputs": [],
   "source": [
    "fsleft = fsamples[0:-1:2] # select the left channel\n",
    "print(fsleft)\n",
    "fsright = fsamples[1:-2:2] # select the right channel\n",
    "print(len(fsleft), len(fsright))"
   ]
  },
  {
   "cell_type": "code",
   "execution_count": null,
   "metadata": {},
   "outputs": [],
   "source": [
    "max(fsleft), min(fsleft)"
   ]
  },
  {
   "cell_type": "code",
   "execution_count": null,
   "metadata": {},
   "outputs": [],
   "source": [
    "max(fsright), min(fsright)"
   ]
  },
  {
   "cell_type": "code",
   "execution_count": null,
   "metadata": {},
   "outputs": [],
   "source": [
    "xlabel(\"Samples\")\n",
    "ylabel(\"Sample Values\")\n",
    "plot(fsleft)"
   ]
  },
  {
   "cell_type": "code",
   "execution_count": null,
   "metadata": {},
   "outputs": [],
   "source": [
    "xlabel(\"Samples\")\n",
    "ylabel(\"Sample Values\")\n",
    "plot(fsright) "
   ]
  },
  {
   "cell_type": "code",
   "execution_count": null,
   "metadata": {},
   "outputs": [],
   "source": [
    "len(fsleft), len(fsright)"
   ]
  },
  {
   "cell_type": "markdown",
   "metadata": {},
   "source": [
    "## Draw Image"
   ]
  },
  {
   "cell_type": "code",
   "execution_count": null,
   "metadata": {},
   "outputs": [],
   "source": [
    "myimgR = fsleft[:415*768].reshape(415,768, 1)\n",
    "myimgG = fsleft[318720:415*768 + 318720].reshape(415,768, 1)\n",
    "myimgB = fsleft[637440:415*768 + 637440].reshape(415,768, 1)\n",
    "myimg = concatenate( [myimgR/2.0**8, myimgG/2.0**8, myimgB/2.0**8], axis = 2)\n",
    "print(myimg.shape)"
   ]
  },
  {
   "cell_type": "code",
   "execution_count": null,
   "metadata": {},
   "outputs": [],
   "source": [
    "cmg = myimg.copy()\n",
    "cmg[:,:,0] = cmg[:,:,0]  * 0.15\n",
    "cmg[:,:,1] = cmg[:,:,1]  * 0.07\n",
    "cmg[:,:,2] = cmg[:,:,2]  * 0.08"
   ]
  },
  {
   "cell_type": "code",
   "execution_count": null,
   "metadata": {},
   "outputs": [],
   "source": [
    "blurred = ndimage.median_filter(cmg, 10)\n",
    "plt.figure(figsize=(14,10))\n",
    "imshow(blurred)"
   ]
  },
  {
   "cell_type": "markdown",
   "metadata": {},
   "source": [
    "## Create New Sound Signal"
   ]
  },
  {
   "cell_type": "code",
   "execution_count": null,
   "metadata": {},
   "outputs": [],
   "source": [
    "sig = blurred[:,:, 0] + blurred[:,:,1] + blurred[:,:,2]\n",
    "print(sig.shape)\n",
    "print(sig.dtype)"
   ]
  },
  {
   "cell_type": "code",
   "execution_count": null,
   "metadata": {},
   "outputs": [],
   "source": [
    "sigout = (sig / 0.07 * (2**8)).astype(int16)"
   ]
  },
  {
   "cell_type": "code",
   "execution_count": null,
   "metadata": {},
   "outputs": [],
   "source": [
    "sigout.size"
   ]
  },
  {
   "cell_type": "code",
   "execution_count": null,
   "metadata": {},
   "outputs": [],
   "source": [
    "sigout.dtype"
   ]
  },
  {
   "cell_type": "code",
   "execution_count": null,
   "metadata": {},
   "outputs": [],
   "source": [
    "sigout.reshape(318720)\n",
    "sigout = array(sigout.flat)\n",
    "sigout"
   ]
  },
  {
   "cell_type": "code",
   "execution_count": null,
   "metadata": {},
   "outputs": [],
   "source": [
    "sigout = sigout.tolist()\n",
    "print(len(sigout))\n",
    "print(type(sigout))"
   ]
  },
  {
   "cell_type": "code",
   "execution_count": null,
   "metadata": {},
   "outputs": [],
   "source": [
    "xlabel(\"Samples\")\n",
    "ylabel(\"Sample Values\")\n",
    "plot(sigout)"
   ]
  },
  {
   "cell_type": "markdown",
   "metadata": {},
   "source": [
    "## Export Sound File"
   ]
  },
  {
   "cell_type": "code",
   "execution_count": null,
   "metadata": {},
   "outputs": [],
   "source": [
    "wavfile.write('result/generated_emergency.wav', 48000, array(sigout, dtype=int16))"
   ]
  },
  {
   "cell_type": "code",
   "execution_count": null,
   "metadata": {},
   "outputs": [],
   "source": [
    "Audio('result/generated_emergency.wav')"
   ]
  }
 ],
 "metadata": {
  "kernelspec": {
   "display_name": "Python 3",
   "language": "python",
   "name": "python3"
  },
  "language_info": {
   "codemirror_mode": {
    "name": "ipython",
    "version": 3
   },
   "file_extension": ".py",
   "mimetype": "text/x-python",
   "name": "python",
   "nbconvert_exporter": "python",
   "pygments_lexer": "ipython3",
   "version": "3.6.1"
  }
 },
 "nbformat": 4,
 "nbformat_minor": 2
}
