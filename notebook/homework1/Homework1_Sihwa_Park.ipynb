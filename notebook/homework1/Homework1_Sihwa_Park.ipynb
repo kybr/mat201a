{
 "cells": [
  {
   "cell_type": "code",
   "execution_count": null,
   "metadata": {},
   "outputs": [],
   "source": [
    "# MAT 201A Spring 2017\n",
    "# HW 1 \n",
    "# Sihwa Park\n",
    "# sihwapark@mat.ucsb.edu\n",
    "# Produce a sound file from image data or an image file from sound data.\n",
    "# \n",
    "# The main idea to sonify images and visualize sound is based on Yeo's Raster Scanning approach.\n",
    "# In image sonification, the grayscale values of an image, ranging from 0 to 255 (uint8) or 1.0 (float32), \n",
    "# are mapped onto audio sample values from 1 to -1 so that darker pixels become closer to 1 \n",
    "# and brighter pixels become closer to -1.\n",
    "# In sound visulization, the mapping is applied in the opposite manner."
   ]
  },
  {
   "cell_type": "code",
   "execution_count": null,
   "metadata": {},
   "outputs": [],
   "source": [
    "%pylab inline\n",
    "from __future__ import print_function\n",
    "from __future__ import division"
   ]
  },
  {
   "cell_type": "code",
   "execution_count": null,
   "metadata": {},
   "outputs": [],
   "source": [
    "from scipy.io import wavfile"
   ]
  },
  {
   "cell_type": "code",
   "execution_count": null,
   "metadata": {},
   "outputs": [],
   "source": [
    "from IPython.display import Audio"
   ]
  },
  {
   "cell_type": "markdown",
   "metadata": {},
   "source": [
    "# Image Sonification"
   ]
  },
  {
   "cell_type": "markdown",
   "metadata": {},
   "source": [
    "### Module for transforming image pixels to audio data "
   ]
  },
  {
   "cell_type": "code",
   "execution_count": null,
   "metadata": {},
   "outputs": [],
   "source": [
    "# a black(0) value is mapped into 1, and white(255 or 1.0) is mapped into -1\n",
    "def img_to_audiodata(img, channel):\n",
    "    if(img.dtype == 'uint8') :\n",
    "        return array((2 * ((255 - img[:,:,channel]) / 255 - 0.5)).flat)\n",
    "    elif(img.dtype == 'float32') :\n",
    "        return array((2 * ((1.0 - img[:,:,channel]) - 0.5)).flat)"
   ]
  },
  {
   "cell_type": "markdown",
   "metadata": {},
   "source": [
    "### First image - gradient triangle"
   ]
  },
  {
   "cell_type": "code",
   "execution_count": null,
   "metadata": {},
   "outputs": [],
   "source": [
    "img = imread('media/triangle_rgb.png')"
   ]
  },
  {
   "cell_type": "code",
   "execution_count": null,
   "metadata": {},
   "outputs": [],
   "source": [
    "imshow(img[:,:,0], cmap=cm.gray)\n",
    "colorbar();"
   ]
  },
  {
   "cell_type": "code",
   "execution_count": null,
   "metadata": {},
   "outputs": [],
   "source": [
    "audioOut = img_to_audiodata(img, 0)\n",
    "plot(audioOut)\n",
    "title('The audio samples of the gradient triangle')\n",
    "xlabel('sample')\n",
    "ylabel('amplitude')\n",
    "gcf().set_figwidth(15)"
   ]
  },
  {
   "cell_type": "code",
   "execution_count": null,
   "metadata": {},
   "outputs": [],
   "source": [
    "Audio(data = audioOut, rate = 44100)"
   ]
  },
  {
   "cell_type": "markdown",
   "metadata": {},
   "source": [
    "### Second image - colorful triangle"
   ]
  },
  {
   "cell_type": "code",
   "execution_count": null,
   "metadata": {},
   "outputs": [],
   "source": [
    "img2 = imread('media/triangle_colorful.png')"
   ]
  },
  {
   "cell_type": "code",
   "execution_count": null,
   "metadata": {},
   "outputs": [],
   "source": [
    "img2.shape"
   ]
  },
  {
   "cell_type": "code",
   "execution_count": null,
   "metadata": {},
   "outputs": [],
   "source": [
    "imshow(img2[:,:,2], cmap=cm.gray)\n",
    "colorbar();"
   ]
  },
  {
   "cell_type": "code",
   "execution_count": null,
   "metadata": {},
   "outputs": [],
   "source": [
    "audioOut = img_to_audiodata(img2, 2)\n",
    "plot(audioOut)\n",
    "title('The audio samples of the colorful triangle')\n",
    "xlabel('sample')\n",
    "ylabel('amplitude')\n",
    "gcf().set_figwidth(15)"
   ]
  },
  {
   "cell_type": "code",
   "execution_count": null,
   "metadata": {},
   "outputs": [],
   "source": [
    "Audio(data = audioOut, rate = 44100)"
   ]
  },
  {
   "cell_type": "markdown",
   "metadata": {},
   "source": [
    "### Third image - solid color star"
   ]
  },
  {
   "cell_type": "code",
   "execution_count": null,
   "metadata": {},
   "outputs": [],
   "source": [
    "img3 = imread('media/star_gray.png')"
   ]
  },
  {
   "cell_type": "code",
   "execution_count": null,
   "metadata": {},
   "outputs": [],
   "source": [
    "imshow(img3[:,:,0], cmap=cm.gray)\n",
    "colorbar();"
   ]
  },
  {
   "cell_type": "code",
   "execution_count": null,
   "metadata": {},
   "outputs": [],
   "source": [
    "audioOut = img_to_audiodata(img3,0)\n",
    "plot(audioOut)\n",
    "title('The audio samples of the sloid color star')\n",
    "xlabel('sample')\n",
    "ylabel('amplitude')\n",
    "gcf().set_figwidth(15)"
   ]
  },
  {
   "cell_type": "code",
   "execution_count": null,
   "metadata": {},
   "outputs": [],
   "source": [
    "Audio(data = audioOut, rate = 44100)"
   ]
  },
  {
   "cell_type": "markdown",
   "metadata": {},
   "source": [
    "# Sound Visualization"
   ]
  },
  {
   "cell_type": "markdown",
   "metadata": {},
   "source": [
    "### Module for transforming audio data to image pixels"
   ]
  },
  {
   "cell_type": "code",
   "execution_count": null,
   "metadata": {},
   "outputs": [],
   "source": [
    "# audio sample value -1 is mapped into 255 and 1 is mapped into 0\n",
    "def audio_to_imgdata(sample, width, height):\n",
    "    if(sample.dtype == 'int16') :\n",
    "        return (255 - ((sample[:height*width] / (2**15 - 1))  + 1) * 255 / 2).reshape(height,width)\n",
    "    elif(img.dtype == 'float32') :\n",
    "        return (255 - (sample[:height*width] + 1) * 255 / 2).reshape(height,width)"
   ]
  },
  {
   "cell_type": "markdown",
   "metadata": {},
   "source": [
    "### First sound - Mozart's Sonata No.6"
   ]
  },
  {
   "cell_type": "code",
   "execution_count": null,
   "metadata": {},
   "outputs": [],
   "source": [
    "sr,sample = wavfile.read('media/mozart_sonata_no6_mono.wav')"
   ]
  },
  {
   "cell_type": "code",
   "execution_count": null,
   "metadata": {},
   "outputs": [],
   "source": [
    "Audio(data = sample, rate = sr)"
   ]
  },
  {
   "cell_type": "code",
   "execution_count": null,
   "metadata": {},
   "outputs": [],
   "source": [
    "plot(sample)\n",
    "title('The audio samples of Mozart\\'s Sonata No.6')\n",
    "xlabel('sample')\n",
    "ylabel('amplitude')\n",
    "gcf().set_figwidth(15)"
   ]
  },
  {
   "cell_type": "code",
   "execution_count": null,
   "metadata": {},
   "outputs": [],
   "source": [
    "newimg = audio_to_imgdata(sample, 320, 240)\n",
    "imshow(newimg, cmap=cm.gray)\n",
    "colorbar();"
   ]
  },
  {
   "cell_type": "code",
   "execution_count": null,
   "metadata": {},
   "outputs": [],
   "source": [
    "imsave('result/outimg_mozart.png', newimg, cmap=cm.gray)"
   ]
  },
  {
   "cell_type": "markdown",
   "metadata": {},
   "source": [
    "### Second sound - Scott Joplin's Maple Leaf Rag"
   ]
  },
  {
   "cell_type": "code",
   "execution_count": null,
   "metadata": {},
   "outputs": [],
   "source": [
    "sr, sample = wavfile.read('media/scott_joplin_maple_leaf_rag_mono.wav')"
   ]
  },
  {
   "cell_type": "code",
   "execution_count": null,
   "metadata": {},
   "outputs": [],
   "source": [
    "Audio(data = sample, rate = sr)"
   ]
  },
  {
   "cell_type": "code",
   "execution_count": null,
   "metadata": {},
   "outputs": [],
   "source": [
    "plot(sample)\n",
    "title('The audio samples of Scott Joplin\\'s Maple Leaf Rag')\n",
    "xlabel('sample')\n",
    "ylabel('amplitude')\n",
    "gcf().set_figwidth(15)"
   ]
  },
  {
   "cell_type": "code",
   "execution_count": null,
   "metadata": {},
   "outputs": [],
   "source": [
    "newimg2 = audio_to_imgdata(sample, 320, 240)\n",
    "imshow(newimg2, cmap=cm.gray)\n",
    "colorbar();"
   ]
  },
  {
   "cell_type": "code",
   "execution_count": null,
   "metadata": {},
   "outputs": [],
   "source": [
    "imsave('result/outimg_scott_joplin.png', newimg2, cmap=cm.gray)"
   ]
  },
  {
   "cell_type": "markdown",
   "metadata": {},
   "source": [
    "### Third sound - colorful triangle sound from sonification results above"
   ]
  },
  {
   "cell_type": "code",
   "execution_count": null,
   "metadata": {},
   "outputs": [],
   "source": [
    "sr,sample = wavfile.read('result/out_triangle_colorful.wav')"
   ]
  },
  {
   "cell_type": "code",
   "execution_count": null,
   "metadata": {},
   "outputs": [],
   "source": [
    "Audio(data = sample, rate = sr)"
   ]
  },
  {
   "cell_type": "code",
   "execution_count": null,
   "metadata": {},
   "outputs": [],
   "source": [
    "plot(sample)\n",
    "title('The audio samples of colorful triangle sound')\n",
    "xlabel('sample')\n",
    "ylabel('amplitude')\n",
    "gcf().set_figwidth(15)"
   ]
  },
  {
   "cell_type": "code",
   "execution_count": null,
   "metadata": {},
   "outputs": [],
   "source": [
    "newimg3 = audio_to_imgdata(sample, 392, 340)\n",
    "imshow(newimg3, cmap=cm.gray)\n",
    "colorbar();"
   ]
  },
  {
   "cell_type": "code",
   "execution_count": null,
   "metadata": {},
   "outputs": [],
   "source": [
    "imsave('result/outimg_triangle_colorful.png', newimg3, cmap=cm.gray)"
   ]
  }
 ],
 "metadata": {
  "kernelspec": {
   "display_name": "Python 3",
   "language": "python",
   "name": "python3"
  },
  "language_info": {
   "codemirror_mode": {
    "name": "ipython",
    "version": 3
   },
   "file_extension": ".py",
   "mimetype": "text/x-python",
   "name": "python",
   "nbconvert_exporter": "python",
   "pygments_lexer": "ipython3",
   "version": "3.6.0"
  }
 },
 "nbformat": 4,
 "nbformat_minor": 2
}
