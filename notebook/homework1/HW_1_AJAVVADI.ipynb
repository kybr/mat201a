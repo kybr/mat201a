{
 "cells": [
  {
   "cell_type": "code",
   "execution_count": null,
   "metadata": {
    "deletable": true,
    "editable": true
   },
   "outputs": [],
   "source": [
    "# MAT 201A Spring 2017\n",
    "# HW 1\n",
    "# Appannacharya Kalyan Tej Javvadi\n",
    "# ajavvadi@umail.ucsb.edu\n",
    "# This notebook has implementations to convert an image to sound."
   ]
  },
  {
   "cell_type": "code",
   "execution_count": null,
   "metadata": {
    "deletable": true,
    "editable": true
   },
   "outputs": [],
   "source": [
    "#This notebook will talk about how to convert an image to sound.\n",
    "#Initial steps will include reading a random image and converting it into sound and playing the sound.\n",
    "#Later will be a check if two images can have a similar sound and if they do, what are their charatectistics.\n",
    "#After that, the image will be modulated."
   ]
  },
  {
   "cell_type": "code",
   "execution_count": null,
   "metadata": {
    "deletable": true,
    "editable": true
   },
   "outputs": [],
   "source": [
    "%pylab inline\n",
    "from __future__ import print_function\n",
    "from __future__ import division"
   ]
  },
  {
   "cell_type": "markdown",
   "metadata": {
    "deletable": true,
    "editable": true
   },
   "source": [
    "Reading an image"
   ]
  },
  {
   "cell_type": "code",
   "execution_count": null,
   "metadata": {
    "deletable": true,
    "editable": true
   },
   "outputs": [],
   "source": [
    "im = imread('for_hw_1/movie_reel_circles.jpg')"
   ]
  },
  {
   "cell_type": "code",
   "execution_count": null,
   "metadata": {
    "deletable": true,
    "editable": true
   },
   "outputs": [],
   "source": [
    "imshow(im)"
   ]
  },
  {
   "cell_type": "markdown",
   "metadata": {
    "deletable": true,
    "editable": true
   },
   "source": [
    "Print the characteristics of the image. If the image is of type INT, the following code converts it to float."
   ]
  },
  {
   "cell_type": "code",
   "execution_count": null,
   "metadata": {
    "deletable": true,
    "editable": true
   },
   "outputs": [],
   "source": [
    "print(im.shape)\n",
    "print(im.dtype)\n",
    "if im.dtype is not float32:\n",
    "    im = im.astype(float32)\n",
    "    print(\"changed the type to float!\")\n",
    "    print(im.dtype)\n",
    "else:\n",
    "    print(\"the image is a float array\")"
   ]
  },
  {
   "cell_type": "markdown",
   "metadata": {
    "deletable": true,
    "editable": true
   },
   "source": [
    "Plotting the individual channels if there are any."
   ]
  },
  {
   "cell_type": "code",
   "execution_count": null,
   "metadata": {
    "deletable": true,
    "editable": true
   },
   "outputs": [],
   "source": [
    "if len(im.shape) is 3:\n",
    "    print(\"there are three channels!\")\n",
    "    subplot(131)\n",
    "    imshow(im[:,:,0])\n",
    "    colorbar()\n",
    "    \n",
    "    subplot(132)\n",
    "    imshow(im[:,:,1])\n",
    "    colorbar()\n",
    "    \n",
    "    subplot(133)\n",
    "    imshow(im[:,:,2])\n",
    "    colorbar()\n",
    "    \n",
    "    gcf().set_figwidth(14)\n",
    "else:\n",
    "    print(\"there is only one channel!\")\n",
    "    imshow(im)"
   ]
  },
  {
   "cell_type": "markdown",
   "metadata": {
    "deletable": true,
    "editable": true
   },
   "source": [
    "Now let's take any row from the image. Since all the channels are the same, let's take any row from any channel."
   ]
  },
  {
   "cell_type": "code",
   "execution_count": null,
   "metadata": {
    "deletable": true,
    "editable": true
   },
   "outputs": [],
   "source": [
    "#rand_int will choose one integer within the given range of values. That value is stored in row_chosen\n",
    "#Similary a channel chosen out of the channels available."
   ]
  },
  {
   "cell_type": "code",
   "execution_count": null,
   "metadata": {
    "deletable": true,
    "editable": true
   },
   "outputs": [],
   "source": [
    "row_chosen = randint(0, im.shape[0])\n",
    "channel_chosen = randint(0, im.shape[2])"
   ]
  },
  {
   "cell_type": "code",
   "execution_count": null,
   "metadata": {
    "deletable": true,
    "editable": true
   },
   "outputs": [],
   "source": [
    "sig = im[row_chosen, :, channel_chosen]\n",
    "plot(sig)\n",
    "print(sig.dtype)\n",
    "print(sig.shape)"
   ]
  },
  {
   "cell_type": "code",
   "execution_count": null,
   "metadata": {},
   "outputs": [],
   "source": [
    "#x_label: time\n",
    "#y_label: amplitude\n",
    "#title: a row from the image."
   ]
  },
  {
   "cell_type": "code",
   "execution_count": null,
   "metadata": {
    "deletable": true,
    "editable": true
   },
   "outputs": [],
   "source": [
    "sig_out = list((sig - 100)*200) * 30\n",
    "plot(sig_out)\n",
    "xlim((0, 200))"
   ]
  },
  {
   "cell_type": "code",
   "execution_count": null,
   "metadata": {},
   "outputs": [],
   "source": [
    "#x_label: time\n",
    "#y_label: amplitude (scaled)\n",
    "#title: the row of the image normalized and duplicated 30 times."
   ]
  },
  {
   "cell_type": "raw",
   "metadata": {
    "deletable": true,
    "editable": true
   },
   "source": [
    "The signal to be written is sig_out. First, this sig_out will be converted to an array. Using wave, this array will be written to a wav_file.\n",
    "sig_1 = is the first signal."
   ]
  },
  {
   "cell_type": "code",
   "execution_count": null,
   "metadata": {
    "deletable": true,
    "editable": true
   },
   "outputs": [],
   "source": [
    "sig_1 = array(sig_out, dtype=int16)"
   ]
  },
  {
   "cell_type": "code",
   "execution_count": null,
   "metadata": {
    "deletable": true,
    "editable": true
   },
   "outputs": [],
   "source": [
    "from scipy.io import wavfile\n",
    "wavfile.write('for_hw_1/results/movie_reel_circles.wav', 44100, sig_1)"
   ]
  },
  {
   "cell_type": "code",
   "execution_count": null,
   "metadata": {
    "deletable": true,
    "editable": true
   },
   "outputs": [],
   "source": [
    "from IPython.display import Audio\n",
    "Audio('for_hw_1/results/movie_reel_circles.wav')"
   ]
  },
  {
   "cell_type": "markdown",
   "metadata": {
    "deletable": true,
    "editable": true
   },
   "source": [
    "Now, the initial phase of converting an image to a signal is done.\n",
    "Moving on to the next phase, here is the hunch.\n",
    "Let's observe the image that was read above."
   ]
  },
  {
   "cell_type": "code",
   "execution_count": null,
   "metadata": {
    "deletable": true,
    "editable": true
   },
   "outputs": [],
   "source": [
    "imshow(imread('for_hw_1/movie_reel_circles.jpg'))"
   ]
  },
  {
   "cell_type": "markdown",
   "metadata": {
    "deletable": true,
    "editable": true
   },
   "source": [
    "One can notice that the frequency of the audio signal from the above image is due to the alternating white and black parts of the image. The idea is if a similar image is taken where we alternate between white black with similar width each as in the above image, one can produce a similar sound with, may be, a different frequency.\n",
    "So, the best bet is a \"checkered image\" with alternate white and black boxes and equal width for each. The following image is considered."
   ]
  },
  {
   "cell_type": "code",
   "execution_count": null,
   "metadata": {
    "deletable": true,
    "editable": true
   },
   "outputs": [],
   "source": [
    "check_box = imread('for_hw_1/check_box.jpg')\n",
    "check_box = check_box.astype(float32)\n",
    "imshow(check_box)\n",
    "print(\"the dimension\", check_box.shape)"
   ]
  },
  {
   "cell_type": "code",
   "execution_count": null,
   "metadata": {
    "deletable": true,
    "editable": true
   },
   "outputs": [],
   "source": [
    "check_box_row = randint(0, check_box.shape[0])\n",
    "if len(check_box.shape) is 3:\n",
    "    check_box_sig = check_box[check_box_row, :, channel_chosen]\n",
    "else:\n",
    "    check_box_sig = check_box[check_box_row, :]\n",
    "check_box_sig_out = list((check_box_sig - 100)*200)*1000\n",
    "plot(check_box_sig_out)\n",
    "xlim((0,200))"
   ]
  },
  {
   "cell_type": "code",
   "execution_count": null,
   "metadata": {},
   "outputs": [],
   "source": [
    "#x_label: time\n",
    "#y_label: amplitude\n",
    "#title: check_box_signal_normalized and stretched. Limited to 200 samples."
   ]
  },
  {
   "cell_type": "markdown",
   "metadata": {
    "deletable": true,
    "editable": true
   },
   "source": [
    "Which is similar to the sig_out for the movie_reel_image above. Just that the frequency is different. Lets see if the sound is similar."
   ]
  },
  {
   "cell_type": "code",
   "execution_count": null,
   "metadata": {
    "deletable": true,
    "editable": true
   },
   "outputs": [],
   "source": [
    "check_box_sig_arr = array(check_box_sig_out, dtype = int16)\n",
    "wavfile.write('for_hw_1/results/check_box.wav', 44100, check_box_sig_arr)\n",
    "Audio('for_hw_1/results/check_box.wav')"
   ]
  },
  {
   "cell_type": "code",
   "execution_count": null,
   "metadata": {
    "deletable": true,
    "editable": true
   },
   "outputs": [],
   "source": [
    "Audio('for_hw_1/results/movie_reel_circles.wav')"
   ]
  },
  {
   "cell_type": "markdown",
   "metadata": {
    "deletable": true,
    "editable": true
   },
   "source": [
    "Conclusion: The two sound waves were different. If one squeezes the movie_reel signal and makes sure that the amplitudes remain constant throughout the time, then, the sounds produced by both of the images would've been the same. However, an interesting find from this is, one can \"listen to the images\" (which is essentially what was done till now) and say if there are many pillars in a building or a picture taken of a building. Each pillar will be a white block and the surronding space can be a black block letting in the aspect of frequency. The more the frequency of the sound formed from the picture of the building, the more number of pillars. This idea, if tested upon, can get extended to find the number of people present in a room as well."
   ]
  },
  {
   "cell_type": "markdown",
   "metadata": {
    "deletable": true,
    "editable": true
   },
   "source": [
    "Following is a small modulation being tried upon the image signal. Let us dampen the check_box signal with a sine wave. \n",
    "The resultant wave should have alternating amplitudes. Lets see if that's the case."
   ]
  },
  {
   "cell_type": "code",
   "execution_count": null,
   "metadata": {
    "deletable": true,
    "editable": true
   },
   "outputs": [],
   "source": [
    "check_box_sig_arr.shape\n",
    "sine_wave = sin(linspace(0, 10*pi, check_box_sig_arr.shape[0]))\n",
    "plot(sine_wave)"
   ]
  },
  {
   "cell_type": "code",
   "execution_count": null,
   "metadata": {},
   "outputs": [],
   "source": [
    "#x_label: time/samples\n",
    "#y_label: amplitude of the cosine\n",
    "#title: cosine_wave"
   ]
  },
  {
   "cell_type": "markdown",
   "metadata": {},
   "source": [
    "Plot of the sine, the original signal and the product of the both."
   ]
  },
  {
   "cell_type": "code",
   "execution_count": null,
   "metadata": {},
   "outputs": [],
   "source": [
    "sined_output = sine_wave*check_box_sig_arr\n",
    "\n",
    "subplot(311)\n",
    "plot(sine_wave)\n",
    "    \n",
    "subplot(312)\n",
    "plot(check_box_sig_arr)\n",
    "    \n",
    "subplot(313)\n",
    "plot(sined_output)"
   ]
  },
  {
   "cell_type": "code",
   "execution_count": null,
   "metadata": {},
   "outputs": [],
   "source": [
    "#x_label (for all three): samples\n",
    "#y_label (for all three): amplitude\n",
    "#title_for_1: cosine wave\n",
    "#title_for_2: check_board_row signal normalized\n",
    "#title_for_3: cosine wave multiplied with check_board_row"
   ]
  },
  {
   "cell_type": "code",
   "execution_count": null,
   "metadata": {},
   "outputs": [],
   "source": [
    "sined_check_box_sig_arr = array(sined_output, dtype = int16)\n",
    "wavfile.write('for_hw_1/results/sined_check_box_5.wav', 44100, sined_check_box_sig_arr)\n",
    "Audio('for_hw_1/results/sined_check_box_5.wav')"
   ]
  },
  {
   "cell_type": "markdown",
   "metadata": {},
   "source": [
    "The top signal was when the number of consines were 5 thruoghout the entire extent of the signal.\n",
    "Intuitively, the frequency of gowing down should increase."
   ]
  },
  {
   "cell_type": "code",
   "execution_count": null,
   "metadata": {},
   "outputs": [],
   "source": [
    "sine_wave_4 = sin(linspace(0, 4*pi, check_box_sig_arr.shape[0]))\n",
    "sined_output_4 = sine_wave_4*check_box_sig_arr\n",
    "\n",
    "subplot(311)\n",
    "plot(sine_wave_4)\n",
    "    \n",
    "subplot(312)\n",
    "plot(check_box_sig_arr)\n",
    "    \n",
    "subplot(313)\n",
    "plot(sined_output_4)"
   ]
  },
  {
   "cell_type": "code",
   "execution_count": null,
   "metadata": {},
   "outputs": [],
   "source": [
    "#x_label (for all three): samples\n",
    "#y_label (for all three): amplitude\n",
    "#title_for_1: cosine wave\n",
    "#title_for_2: check_board_row signal normalized\n",
    "#title_for_3: cosine wave multiplied with check_board_row"
   ]
  },
  {
   "cell_type": "code",
   "execution_count": null,
   "metadata": {},
   "outputs": [],
   "source": [
    "sined_check_box_sig_arr_2 = array(sined_output_4, dtype = int16)\n",
    "wavfile.write('for_hw_1/results/sined_check_box_2.wav', 44100, sined_check_box_sig_arr_2)\n",
    "Audio('for_hw_1/results/sined_check_box_2.wav')"
   ]
  },
  {
   "cell_type": "markdown",
   "metadata": {},
   "source": [
    "The above audio slowly dies down and increases, proving the previously cited intuition."
   ]
  }
 ],
 "metadata": {
  "kernelspec": {
   "display_name": "Python 2",
   "language": "python",
   "name": "python2"
  },
  "language_info": {
   "codemirror_mode": {
    "name": "ipython",
    "version": 2
   },
   "file_extension": ".py",
   "mimetype": "text/x-python",
   "name": "python",
   "nbconvert_exporter": "python",
   "pygments_lexer": "ipython2",
   "version": "2.7.12"
  }
 },
 "nbformat": 4,
 "nbformat_minor": 2
}
