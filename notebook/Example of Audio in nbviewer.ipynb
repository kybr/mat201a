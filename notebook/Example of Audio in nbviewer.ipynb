{
 "cells": [
  {
   "cell_type": "markdown",
   "metadata": {},
   "source": [
    "# How to make IPython.display.Audio work on nbviewer.jupyter.org\n",
    "\n",
    "TL;DR: Always use the `Audio(data = sampleData, rate = sampleRate)` form and not the `Audio(url = 'somefile.wav')` form."
   ]
  },
  {
   "cell_type": "code",
   "execution_count": null,
   "metadata": {},
   "outputs": [],
   "source": [
    "%pylab\n",
    "from scipy.io import wavfile\n",
    "from IPython.display import Audio"
   ]
  },
  {
   "cell_type": "markdown",
   "metadata": {},
   "source": [
    "## This will work in your local notebook"
   ]
  },
  {
   "cell_type": "code",
   "execution_count": null,
   "metadata": {},
   "outputs": [],
   "source": [
    "Audio(url = 'media/passport.wav')"
   ]
  },
  {
   "cell_type": "markdown",
   "metadata": {},
   "source": [
    "**But, this will fail on nbviewer.jupyter.org**!! because 'media/passport.wav' is not a working URL. `IPython.display.Audio` can't load the file, so the notebook is kaput. This will not do. How can we fix it?\n",
    "## This _will_ work on nbviewer.jupyter.org"
   ]
  },
  {
   "cell_type": "code",
   "execution_count": null,
   "metadata": {},
   "outputs": [],
   "source": [
    "sampleRate, sample = wavfile.read('media/passport.wav')\n",
    "Audio(data = sample, rate = sampleRate)"
   ]
  },
  {
   "cell_type": "code",
   "execution_count": null,
   "metadata": {},
   "outputs": [],
   "source": [
    "# or even this...\n",
    "Audio('media/passport.wav')"
   ]
  },
  {
   "cell_type": "markdown",
   "metadata": {},
   "source": [
    "And this will also work in your local notebooks.\n",
    "\n",
    "Why does this work?\n",
    "\n",
    "## The lesson\n",
    "\n",
    "It works because _notebooks retain computed data once that data has been put into a variable_. In these later examples, when we run our notebook locally on our machine, the sample data and the sample rate are retained in the the notebook. In the case of `Audio('media/passport.wav')` there is an implicit variable assignment.\n",
    "\n",
    "When we copypaste the guts of our notebook into a gist, the sample data is in that gist and when that gist becomes a nbviewer.jupyter.org page, the sample data and sample rate are still there, ready to go into `IPython.display.Audio`.\n",
    "\n",
    "With `Audio(url = 'media/passport.wav')` no sample data is saved into the notebook. `IPython.display.Audio` must do it's work at runtime using the URL is is given. When that runtime is in a web page on nbviewer.jupyter.org, `IPython.display.Audio` cannot find 'media/passport.wav' which is on your laptop."
   ]
  }
 ],
 "metadata": {
  "kernelspec": {
   "display_name": "Python 3",
   "language": "python",
   "name": "python3"
  },
  "language_info": {
   "codemirror_mode": {
    "name": "ipython",
    "version": 3
   },
   "file_extension": ".py",
   "mimetype": "text/x-python",
   "name": "python",
   "nbconvert_exporter": "python",
   "pygments_lexer": "ipython3",
   "version": "3.6.1"
  }
 },
 "nbformat": 4,
 "nbformat_minor": 2
}
