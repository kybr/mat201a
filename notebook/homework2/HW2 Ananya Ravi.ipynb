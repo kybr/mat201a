{
 "cells": [
  {
   "cell_type": "markdown",
   "metadata": {},
   "source": [
    "###### MAT 201A Spring 2017\n",
    "###### HW 2 : \n",
    "###### Ananya Ravi\n",
    "###### ananyarav@gmail.com"
   ]
  },
  {
   "cell_type": "code",
   "execution_count": null,
   "metadata": {},
   "outputs": [],
   "source": [
    "%pylab inline\n",
    "from __future__ import print_function\n",
    "from __future__ import division\n",
    "import IPython\n",
    "import wave\n",
    "from scipy.io import wavfile"
   ]
  },
  {
   "cell_type": "code",
   "execution_count": null,
   "metadata": {},
   "outputs": [],
   "source": [
    "img1 = imread('media/colour2.jpg')"
   ]
  },
  {
   "cell_type": "code",
   "execution_count": null,
   "metadata": {},
   "outputs": [],
   "source": [
    "type(img1)"
   ]
  },
  {
   "cell_type": "code",
   "execution_count": null,
   "metadata": {},
   "outputs": [],
   "source": [
    "imshow(img1)"
   ]
  },
  {
   "cell_type": "code",
   "execution_count": null,
   "metadata": {},
   "outputs": [],
   "source": [
    "img1.shape"
   ]
  },
  {
   "cell_type": "markdown",
   "metadata": {},
   "source": [
    "###### Splitting the image into its colour channels"
   ]
  },
  {
   "cell_type": "code",
   "execution_count": null,
   "metadata": {},
   "outputs": [],
   "source": [
    "subplot(131) # 131 means: table is 1 row 3 columns. 1 is the current column.\n",
    "imshow(img1[:,:,0])  #Red channel\n",
    "colorbar()\n",
    "\n",
    "subplot(132)\n",
    "imshow(img1[:,:,1])  #Green channel\n",
    "colorbar()\n",
    "\n",
    "subplot(133)\n",
    "imshow(img1[:,:,2])  #Blue channel\n",
    "colorbar()\n",
    "\n",
    "gcf().set_figwidth(14)"
   ]
  },
  {
   "cell_type": "code",
   "execution_count": null,
   "metadata": {},
   "outputs": [],
   "source": [
    "col=len(img1[1,:])  # Number of columns\n",
    "col"
   ]
  },
  {
   "cell_type": "code",
   "execution_count": null,
   "metadata": {},
   "outputs": [],
   "source": [
    "row=len(img1[:,1])  # Number of rows\n",
    "row"
   ]
  },
  {
   "cell_type": "code",
   "execution_count": null,
   "metadata": {},
   "outputs": [],
   "source": [
    "for i in range(20):\n",
    "    if (2**i >col):\n",
    "      break\n",
    "\n",
    "#Calculating the maximum dft-point that can be windowed out per row of the image\n",
    "dft_point= 2**(i-1)  \n",
    "\n",
    "#size of image when converted to 1-D is row*column\n",
    "size=row*col           \n"
   ]
  },
  {
   "cell_type": "code",
   "execution_count": null,
   "metadata": {},
   "outputs": [],
   "source": [
    "size"
   ]
  },
  {
   "cell_type": "code",
   "execution_count": null,
   "metadata": {},
   "outputs": [],
   "source": [
    "mag_spec = []\n",
    "phs_spec = []\n",
    "output_sig = [] "
   ]
  },
  {
   "cell_type": "code",
   "execution_count": null,
   "metadata": {},
   "outputs": [],
   "source": [
    "#We assume that the green channel pixel data acts as magnitude spectrum\n",
    "green=img1[:,:,1]\n",
    "mag_spec=green.reshape(size,1)\n",
    "\n",
    "#We assume that the blue channel pixel data acts as phase spectrum\n",
    "blue=img1[:,:,2]\n",
    "phs_spec=blue.reshape(size,1)"
   ]
  },
  {
   "cell_type": "code",
   "execution_count": null,
   "metadata": {},
   "outputs": [],
   "source": [
    "output_sig=[]\n",
    "\n",
    "# making a window of size of the complete length of the arrays\n",
    "win_len = dft_point\n",
    "win_start = arange(0, size, win_len) \n",
    "for start in win_start:\n",
    "    #Creating windows...\n",
    "    win_mag = mag_spec[start: start + win_len]\n",
    "\n",
    "    win_phs = phs_spec[start: start + win_len]\n",
    "    \n",
    "    if start+win_len>size:       #Breaking out from loop if indices of window exceeds the length of the 1-D image\n",
    "        break\n",
    "    X = [np.complex(cos(phs)* mag, -sin(phs)* mag) for mag, phs in zip(win_mag,win_phs)]   #Performing inverse real IFFT on each window \n",
    "    x = fft.irfft(X)\n",
    "    output_sig = output_sig + list(x) "
   ]
  },
  {
   "cell_type": "code",
   "execution_count": null,
   "metadata": {},
   "outputs": [],
   "source": [
    "plot(output_sig)\n",
    "gcf().set_figwidth(18)\n",
    "#Plotting the audio\n",
    "IPython.display.Audio (data=td, filename=None, url=None, embed=True, rate=16000, autoplay=False)  "
   ]
  },
  {
   "cell_type": "code",
   "execution_count": null,
   "metadata": {},
   "outputs": [],
   "source": [
    "img2 = imread('media/optical.png')"
   ]
  },
  {
   "cell_type": "code",
   "execution_count": null,
   "metadata": {},
   "outputs": [],
   "source": [
    "type(img2)"
   ]
  },
  {
   "cell_type": "code",
   "execution_count": null,
   "metadata": {},
   "outputs": [],
   "source": [
    "imshow(img2)"
   ]
  },
  {
   "cell_type": "code",
   "execution_count": null,
   "metadata": {},
   "outputs": [],
   "source": [
    "img2.shape"
   ]
  },
  {
   "cell_type": "code",
   "execution_count": null,
   "metadata": {},
   "outputs": [],
   "source": [
    "# Splitting the image into its colour channels\n",
    "\n",
    "subplot(131) # 131 means: table is 1 row 3 columns. 1 is the current column.\n",
    "imshow(img2[:,:,0])  #Red channel\n",
    "colorbar()\n",
    "\n",
    "subplot(132)\n",
    "imshow(img2[:,:,1])  #Green channel\n",
    "colorbar()\n",
    "\n",
    "subplot(133)\n",
    "imshow(img2[:,:,2])  #Blue channel\n",
    "colorbar()\n",
    "\n",
    "gcf().set_figwidth(14)"
   ]
  },
  {
   "cell_type": "code",
   "execution_count": null,
   "metadata": {},
   "outputs": [],
   "source": [
    "col=len(img2[1,:])  # Number of columns\n",
    "col"
   ]
  },
  {
   "cell_type": "code",
   "execution_count": null,
   "metadata": {},
   "outputs": [],
   "source": [
    "row=len(img2[:,1])  # Number of rows\n",
    "row"
   ]
  },
  {
   "cell_type": "code",
   "execution_count": null,
   "metadata": {},
   "outputs": [],
   "source": [
    "for i in range(20):\n",
    "    if (2**i >col):\n",
    "      break\n",
    "\n",
    "#Calculating the maximum dft-point that can be windowed out per row of the image\n",
    "dft_point= 2**(i-1)  \n",
    "\n",
    "#size of image when converted to 1-D is row*column\n",
    "size=row*col     "
   ]
  },
  {
   "cell_type": "code",
   "execution_count": null,
   "metadata": {},
   "outputs": [],
   "source": [
    "size"
   ]
  },
  {
   "cell_type": "code",
   "execution_count": null,
   "metadata": {},
   "outputs": [],
   "source": [
    "mag_spec = []\n",
    "phs_spec = []\n",
    "output_sig = [] "
   ]
  },
  {
   "cell_type": "code",
   "execution_count": null,
   "metadata": {},
   "outputs": [],
   "source": [
    "#We assume that the green channel pixel data acts as magnitude spectrum\n",
    "green=img2[:,:,1]\n",
    "mag_spec=green.reshape(size,1)\n",
    "\n",
    "#We assume that the blue channel pixel data acts as phase spectrum\n",
    "blue=img2[:,:,2]\n",
    "phs_spec=blue.reshape(size,1)"
   ]
  },
  {
   "cell_type": "code",
   "execution_count": null,
   "metadata": {},
   "outputs": [],
   "source": [
    "output_sig=[]\n",
    "\n",
    "# making a window of size of the complete length of the arrays\n",
    "win_len = dft_point\n",
    "win_start = arange(0, size, win_len) \n",
    "for start in win_start:\n",
    "    #Creating windows...\n",
    "    win_mag = mag_spec[start: start + win_len]\n",
    "\n",
    "    win_phs = phs_spec[start: start + win_len]\n",
    "    \n",
    "    if start+win_len>size:       #Breaking out from loop if indices of window exceeds the length of the 1-D image\n",
    "        break\n",
    "    X = [np.complex(cos(phs)* mag, -sin(phs)* mag) for mag, phs in zip(win_mag,win_phs)]   #Performing inverse real IFFT on each window \n",
    "    x = fft.irfft(X)\n",
    "    output_sig = output_sig + list(x) "
   ]
  },
  {
   "cell_type": "code",
   "execution_count": null,
   "metadata": {},
   "outputs": [],
   "source": [
    "plot(output_sig)\n",
    "gcf().set_figwidth(18)\n",
    "#Plotting the audio\n",
    "IPython.display.Audio (data=td, filename=None, url=None, embed=True, rate=16000, autoplay=False)"
   ]
  }
 ],
 "metadata": {
  "kernelspec": {
   "display_name": "Python 2",
   "language": "python",
   "name": "python2"
  },
  "language_info": {
   "codemirror_mode": {
    "name": "ipython",
    "version": 2
   },
   "file_extension": ".py",
   "mimetype": "text/x-python",
   "name": "python",
   "nbconvert_exporter": "python",
   "pygments_lexer": "ipython2",
   "version": "2.7.12"
  }
 },
 "nbformat": 4,
 "nbformat_minor": 2
}
