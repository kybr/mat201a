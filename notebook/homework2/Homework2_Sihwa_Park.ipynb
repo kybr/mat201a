{
 "cells": [
  {
   "cell_type": "code",
   "execution_count": null,
   "metadata": {},
   "outputs": [],
   "source": [
    "# MAT 201A Spring 2017\n",
    "# HW 2\n",
    "# Sihwa Park\n",
    "# sihwapark@mat.ucsb.edu\n",
    "# \n",
    "# This notebook load an image and interpret each column of pixel data \n",
    "# as the magnitude spectrum of the FFT bins in a Short-Time Fourier Transform (STFT).\n",
    "# Then, produce audio from these many STFTs by taking the IFT of each in succussion.\n",
    "# My solution deals with an image as only a gray scale image \n",
    "# and darker values of pixel data are mapped onto higher values in the magrnitude spectrum."
   ]
  },
  {
   "cell_type": "code",
   "execution_count": null,
   "metadata": {},
   "outputs": [],
   "source": [
    "%pylab inline\n",
    "\n",
    "from __future__ import print_function\n",
    "from __future__ import division\n",
    "\n",
    "from ipywidgets import widgets, interact\n",
    "from IPython.display import Audio"
   ]
  },
  {
   "cell_type": "markdown",
   "metadata": {},
   "source": [
    "### Module for the Inverse Fourier Transform (IFT) of an image\n",
    "This module transforms an image into sound through an IFT. It scans each column of the image, maps into the magnitude spectrum values of FFT bins of the STFT and returns its whole magnitude spectrum and audio data gained from the ITF."
   ]
  },
  {
   "cell_type": "code",
   "execution_count": null,
   "metadata": {},
   "outputs": [],
   "source": [
    "def image_to_audio_by_ift(img):\n",
    "    # find a window size for the STFT based on the row size of an image\n",
    "    row_size = img.shape[0]\n",
    "    fftbin_size = 2\n",
    "\n",
    "    while row_size / fftbin_size > 1:\n",
    "        fftbin_size *= 2\n",
    "\n",
    "    fftbin_size += 1\n",
    "    print('Row size: %d, fftbin size: %d'% (row_size, fftbin_size))\n",
    "    \n",
    "    # it is the expected length of audio samples after an IFT\n",
    "    expected_sample_length = (fftbin_size - 1) * 2 * img.shape[1]\n",
    "\n",
    "    print('Expected audio length: %s'% (expected_sample_length))\n",
    "        \n",
    "    # if fftbin_size is bigger than row_size, it will add zeros at the end of a magnitude array\n",
    "    zero_padding = zeros(fftbin_size - row_size)\n",
    "    \n",
    "    spectrum = []\n",
    "    audio = []\n",
    "\n",
    "    for index in range(img.shape[1]):\n",
    "        magnitude = 1 - img[:, index, 0]\n",
    "        magnitude = np.append(magnitude, zero_padding)\n",
    "        # spectrum.append(magnitude)\n",
    "        phase = zeros_like(magnitude)\n",
    "        X = [complex(cos(p) * A, -sin(p) * A) for A, p in zip(magnitude, phase)]\n",
    "        spectrum.append(abs(array(X))) # in this mapping, it is the same as the code, 'spectrum.append(magnitude)' above \n",
    "        sig = fft.irfft(X) * 8\n",
    "        audio = np.append(audio, sig)\n",
    "    \n",
    "    print('Actual audio length: %s '% (audio.size)) # the audio sample length\n",
    "    \n",
    "    return spectrum, audio"
   ]
  },
  {
   "cell_type": "markdown",
   "metadata": {},
   "source": [
    "### First image - gradient triangle"
   ]
  },
  {
   "cell_type": "code",
   "execution_count": null,
   "metadata": {},
   "outputs": [],
   "source": [
    "img = imread('media/triangle_rgb.png')\n",
    "imshow(img[:,:,0], cmap=cm.gray)\n",
    "colorbar();"
   ]
  },
  {
   "cell_type": "code",
   "execution_count": null,
   "metadata": {},
   "outputs": [],
   "source": [
    "img.shape"
   ]
  },
  {
   "cell_type": "code",
   "execution_count": null,
   "metadata": {},
   "outputs": [],
   "source": [
    "spectrum, audio = image_to_audio_by_ift(img)\n",
    "\n",
    "subplot(211)\n",
    "gcf().set_figwidth(13)\n",
    "gcf().set_figheight(9)\n",
    "spectrum = array(spectrum).T\n",
    "imshow(spectrum, aspect='auto')\n",
    "title('The magnitude spectrum')\n",
    "xlabel('Time (The column index of an image)')\n",
    "ylabel('FFT bin (Rows + zero-padded array)')\n",
    "\n",
    "subplot(212)\n",
    "plot(audio)\n",
    "title('The audio signal')\n",
    "xlabel('Sample')\n",
    "ylabel('Amplitude')\n",
    "\n",
    "tight_layout()\n",
    "pass"
   ]
  },
  {
   "cell_type": "code",
   "execution_count": null,
   "metadata": {},
   "outputs": [],
   "source": [
    "\n",
    "Audio(data=audio, rate=44100)"
   ]
  },
  {
   "cell_type": "markdown",
   "metadata": {},
   "source": [
    "Below images are the examples used in Yeo's paper.\n",
    "\n",
    "### Second image - gradient square"
   ]
  },
  {
   "cell_type": "code",
   "execution_count": null,
   "metadata": {},
   "outputs": [],
   "source": [
    "img = imread('media/sawtooth.png')\n",
    "imshow(img, cmap=cm.gray)\n",
    "colorbar();"
   ]
  },
  {
   "cell_type": "code",
   "execution_count": null,
   "metadata": {},
   "outputs": [],
   "source": [
    "spectrum, audio = image_to_audio_by_ift(img)\n",
    "\n",
    "subplot(211)\n",
    "gcf().set_figwidth(13)\n",
    "gcf().set_figheight(9)\n",
    "spectrum = array(spectrum).T\n",
    "imshow(spectrum, aspect='auto')\n",
    "title('The magnitude spectrum')\n",
    "xlabel('Time (The column index of an image)')\n",
    "ylabel('FFT bin (Rows + zero-padded array)')\n",
    "\n",
    "subplot(212)\n",
    "plot(audio)\n",
    "title('The audio signal')\n",
    "xlabel('Sample')\n",
    "ylabel('Amplitude')\n",
    "\n",
    "tight_layout()\n",
    "pass"
   ]
  },
  {
   "cell_type": "code",
   "execution_count": null,
   "metadata": {},
   "outputs": [],
   "source": [
    "Audio(data=audio, rate=44100)"
   ]
  },
  {
   "cell_type": "markdown",
   "metadata": {},
   "source": [
    "### Third image - texture image"
   ]
  },
  {
   "cell_type": "code",
   "execution_count": null,
   "metadata": {},
   "outputs": [],
   "source": [
    "img = imread('media/texture_comparison_3.png')\n",
    "imshow(img, cmap=cm.gray)\n",
    "colorbar();"
   ]
  },
  {
   "cell_type": "code",
   "execution_count": null,
   "metadata": {},
   "outputs": [],
   "source": [
    "spectrum, audio = image_to_audio_by_ift(img)\n",
    "\n",
    "subplot(211)\n",
    "gcf().set_figwidth(13)\n",
    "gcf().set_figheight(9)\n",
    "spectrum = array(spectrum).T\n",
    "imshow(spectrum, aspect='auto')\n",
    "title('The magnitude spectrum')\n",
    "xlabel('Time (The column index of an image)')\n",
    "ylabel('FFT bin (Rows + zero-padded array)')\n",
    "\n",
    "subplot(212)\n",
    "plot(audio)\n",
    "title('The audio signal')\n",
    "xlabel('Sample')\n",
    "ylabel('Amplitude')\n",
    "\n",
    "tight_layout()\n",
    "pass"
   ]
  },
  {
   "cell_type": "code",
   "execution_count": null,
   "metadata": {},
   "outputs": [],
   "source": [
    "Audio(data=audio, rate=44100)"
   ]
  },
  {
   "cell_type": "markdown",
   "metadata": {},
   "source": [
    "### Fourth image - frequency modulation visulization "
   ]
  },
  {
   "cell_type": "code",
   "execution_count": null,
   "metadata": {},
   "outputs": [],
   "source": [
    "img = imread('media/FM.220.5_2_1_2.png')\n",
    "imshow(img, cmap=cm.gray)\n",
    "colorbar();"
   ]
  },
  {
   "cell_type": "code",
   "execution_count": null,
   "metadata": {},
   "outputs": [],
   "source": [
    "spectrum, audio = image_to_audio_by_ift(img)\n",
    "\n",
    "subplot(211)\n",
    "gcf().set_figwidth(13)\n",
    "gcf().set_figheight(9)\n",
    "spectrum = array(spectrum).T\n",
    "imshow(spectrum, aspect='auto')\n",
    "title('The magnitude spectrum')\n",
    "xlabel('Time (The column index of an image)')\n",
    "ylabel('FFT bin (Rows + zero-padded array)')\n",
    "\n",
    "subplot(212)\n",
    "plot(audio)\n",
    "title('The audio signal')\n",
    "xlabel('Sample')\n",
    "ylabel('Amplitude')\n",
    "\n",
    "tight_layout()\n",
    "pass"
   ]
  },
  {
   "cell_type": "code",
   "execution_count": null,
   "metadata": {},
   "outputs": [],
   "source": [
    "Audio(data=audio, rate=44100)"
   ]
  }
 ],
 "metadata": {
  "kernelspec": {
   "display_name": "Python 3",
   "language": "python",
   "name": "python3"
  },
  "language_info": {
   "codemirror_mode": {
    "name": "ipython",
    "version": 3
   },
   "file_extension": ".py",
   "mimetype": "text/x-python",
   "name": "python",
   "nbconvert_exporter": "python",
   "pygments_lexer": "ipython3",
   "version": "3.6.0"
  }
 },
 "nbformat": 4,
 "nbformat_minor": 2
}
