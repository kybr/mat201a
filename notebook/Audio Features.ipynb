{
 "cells": [
  {
   "cell_type": "code",
   "execution_count": null,
   "metadata": {
    "deletable": true,
    "editable": true
   },
   "outputs": [],
   "source": [
    "%pylab inline\n",
    "rcParams['figure.figsize'] = (10, 4) #wide graphs by default\n",
    "from __future__ import print_function\n",
    "from __future__ import division"
   ]
  },
  {
   "cell_type": "code",
   "execution_count": null,
   "metadata": {
    "deletable": true,
    "editable": true
   },
   "outputs": [],
   "source": [
    "from scipy.io import wavfile\n",
    "sr, src = wavfile.read('media/THX.wav')\n",
    "sr2, src2 = wavfile.read('media/passport.wav')\n",
    "\n",
    "# Downmix\n",
    "src_mono = sum(src.astype(float)/src.shape[1], axis=1).astype(src.dtype)\n",
    "# Normalize\n",
    "abs_max = max(abs(src_mono.min().astype(float)), abs(src_mono.max().astype(float)))\n",
    "src_mono_norm = src_mono.astype(float) / abs_max"
   ]
  },
  {
   "cell_type": "code",
   "execution_count": null,
   "metadata": {
    "deletable": true,
    "editable": true
   },
   "outputs": [],
   "source": [
    "from IPython.display import Audio\n",
    "Audio(src_mono, rate=sr)"
   ]
  },
  {
   "cell_type": "markdown",
   "metadata": {
    "deletable": true,
    "editable": true
   },
   "source": [
    "# Root Mean Squared"
   ]
  },
  {
   "cell_type": "markdown",
   "metadata": {
    "deletable": true,
    "editable": true
   },
   "source": [
    "$$x_{\\mathrm{rms}} =\n",
    "\\sqrt{ \\frac{1}{n} \\left( x_1^2 + x_2^2 + \\cdots + x_n^2 \\right) }.$$\n",
    "\n",
    "http://en.wikipedia.org/wiki/Root_mean_square"
   ]
  },
  {
   "cell_type": "code",
   "execution_count": null,
   "metadata": {
    "deletable": true,
    "editable": true
   },
   "outputs": [],
   "source": [
    "win_size = 2048\n",
    "hop = 1024\n",
    "window_start = arange(0, len(src_mono_norm), hop)\n",
    "\n",
    "window_start"
   ]
  },
  {
   "cell_type": "code",
   "execution_count": null,
   "metadata": {
    "deletable": true,
    "editable": true
   },
   "outputs": [],
   "source": [
    "rms = []\n",
    "\n",
    "for start in window_start:\n",
    "    w = src_mono_norm[start: start+win_size].astype(float)\n",
    "    rms_inst = sqrt(mean(w**2))\n",
    "    rms.append(rms_inst)"
   ]
  },
  {
   "cell_type": "code",
   "execution_count": null,
   "metadata": {
    "deletable": true,
    "editable": true
   },
   "outputs": [],
   "source": [
    "plot(rms)"
   ]
  },
  {
   "cell_type": "code",
   "execution_count": null,
   "metadata": {
    "deletable": true,
    "editable": true
   },
   "outputs": [],
   "source": [
    "win_sizes = [512, 1024, 2048, 4096]\n",
    "\n",
    "rms_windows = []\n",
    "\n",
    "for win_size in win_sizes:\n",
    "    hop = win_size/2\n",
    "    window_start = arange(0, len(src_mono_norm), hop) # XXX why does this make floats??!\n",
    "    rms = []\n",
    "    for start in window_start:\n",
    "        s = start.astype('int')\n",
    "        w = src_mono_norm[s: s+win_size].astype(float)\n",
    "        rms_inst = sqrt(mean(w**2))\n",
    "        rms.append(rms_inst)\n",
    "    rms_windows.append(rms)"
   ]
  },
  {
   "cell_type": "code",
   "execution_count": null,
   "metadata": {
    "deletable": true,
    "editable": true
   },
   "outputs": [],
   "source": [
    "for rms_plot in rms_windows:\n",
    "    plot(rms_plot)"
   ]
  },
  {
   "cell_type": "code",
   "execution_count": null,
   "metadata": {
    "deletable": true,
    "editable": true
   },
   "outputs": [],
   "source": [
    "for rms_plot in rms_windows:\n",
    "    plot(linspace(0, len(src_mono_norm), len(rms_plot)), rms_plot)\n",
    "\n",
    "plot(linspace(0, len(src_mono_norm), len(rms_windows[-1])), rms_windows[-1], lw=3, color='w')"
   ]
  },
  {
   "cell_type": "markdown",
   "metadata": {
    "deletable": true,
    "editable": true
   },
   "source": [
    "## Energy envelope"
   ]
  },
  {
   "cell_type": "markdown",
   "metadata": {
    "deletable": true,
    "editable": true
   },
   "source": [
    "Half-wave rectification and low-pass filtering"
   ]
  },
  {
   "cell_type": "code",
   "execution_count": null,
   "metadata": {
    "deletable": true,
    "editable": true
   },
   "outputs": [],
   "source": [
    "src_rect = src_mono_norm *sign(src_mono_norm)"
   ]
  },
  {
   "cell_type": "code",
   "execution_count": null,
   "metadata": {
    "deletable": true,
    "editable": true
   },
   "outputs": [],
   "source": [
    "plot(src_rect[0:10000])"
   ]
  },
  {
   "cell_type": "code",
   "execution_count": null,
   "metadata": {
    "deletable": true,
    "editable": true
   },
   "outputs": [],
   "source": [
    "ee = convolve(src_rect, ones(4096))\n",
    "p1 = plot(ee)\n",
    "twinx()\n",
    "p2 = plot(linspace(0, len(ee), len(rms_windows[-1])), rms_windows[-1], 'g')\n",
    "legend((p1+p2),['Low-pass rect', 'Windowed RMS'])"
   ]
  },
  {
   "cell_type": "markdown",
   "metadata": {
    "deletable": true,
    "editable": true
   },
   "source": [
    "Decimation or other type of point reduction would be useful after this."
   ]
  },
  {
   "cell_type": "markdown",
   "metadata": {
    "deletable": true,
    "editable": true
   },
   "source": [
    "# Zero crossing rate"
   ]
  },
  {
   "cell_type": "markdown",
   "metadata": {
    "deletable": true,
    "editable": true
   },
   "source": [
    "\n",
    "Speech recognition: Aye, Y.Y.; , \"Speech Recognition Using Zero-Crossing Features,\" Electronic Computer Technology, 2009 International Conference on , vol., no., pp.689-692, 20-22 Feb. 2009\n",
    "\n",
    "http://ieeexplore.ieee.org/xpls/abs_all.jsp?arnumber=4796052&tag=1\n",
    "\n",
    "Percussive sound discrimination:\n",
    "\n",
    "Gouyon, F., Pachet, F., & Delerue, O. (2000). On the use of zero-crossing rate for an application of classification of percussive sounds. DAFx G-6 conference on Digital Audio Effects, 3–8. Retrieved from http://citeseerx.ist.psu.edu/viewdoc/download?doi=10.1.1.18.7006&rep=rep1&type=pdf\n",
    "\n",
    "For very clean sounds can be used to detect pitch.\n",
    "\n",
    "It also tends to correlate to high frequency content."
   ]
  },
  {
   "cell_type": "code",
   "execution_count": null,
   "metadata": {
    "deletable": true,
    "editable": true
   },
   "outputs": [],
   "source": [
    "in_sig = src2.astype(float)\n",
    "plot(in_sig)"
   ]
  },
  {
   "cell_type": "code",
   "execution_count": null,
   "metadata": {
    "deletable": true,
    "editable": true
   },
   "outputs": [],
   "source": [
    "zc = argwhere((in_sig[:-1]*in_sig[1:]) <= 0)\n",
    "\n",
    "#zc = r_[zc, argwhere(in_sig == 0)]\n",
    "\n",
    "plot(zc, zeros_like(zc), 'o')"
   ]
  },
  {
   "cell_type": "code",
   "execution_count": null,
   "metadata": {
    "deletable": true,
    "editable": true
   },
   "outputs": [],
   "source": [
    "plot(in_sig)\n",
    "plot(zc, zeros_like(zc), 'o')\n",
    "grid()\n",
    "xlim(50000, 50400);\n",
    "ylim((-10000, 10000));"
   ]
  },
  {
   "cell_type": "code",
   "execution_count": null,
   "metadata": {
    "deletable": true,
    "editable": true
   },
   "outputs": [],
   "source": [
    "len(zc)"
   ]
  },
  {
   "cell_type": "code",
   "execution_count": null,
   "metadata": {
    "deletable": true,
    "editable": true
   },
   "outputs": [],
   "source": [
    "len(in_sig)/44100.0 #duration of the sample"
   ]
  },
  {
   "cell_type": "code",
   "execution_count": null,
   "metadata": {
    "deletable": true,
    "editable": true
   },
   "outputs": [],
   "source": [
    "len(zc)/(len(in_sig)/44100.0) #Global ZCR"
   ]
  },
  {
   "cell_type": "code",
   "execution_count": null,
   "metadata": {
    "deletable": true,
    "editable": true
   },
   "outputs": [],
   "source": [
    "# XXX why was this definition missing?? \n",
    "# is this a homework solution??\n",
    "def windowed_zcr(sig_in, winsize, hop, sr = 1.0):\n",
    "    l = len(sig_in)\n",
    "    win_start = arange(0, l - winsize, hop)\n",
    "    zcr = zeros((len(win_start)))\n",
    "    for i, start in enumerate(win_start):\n",
    "        sl = sig_in[start: start + winsize].astype(float)\n",
    "        zcr[i] = (sr/float(winsize)) * sum(sl[:-1]*sl[1:] < 0)\n",
    "\n",
    "    times = win_start + winsize/2\n",
    "    return times/float(sr), zcr"
   ]
  },
  {
   "cell_type": "code",
   "execution_count": null,
   "metadata": {
    "deletable": true,
    "editable": true
   },
   "outputs": [],
   "source": [
    "times, zcr = windowed_zcr(src2, 4410, 2205, sr2)\n",
    "plot(times, zcr)\n",
    "figure()\n",
    "plot(in_sig)"
   ]
  },
  {
   "cell_type": "code",
   "execution_count": null,
   "metadata": {
    "deletable": true,
    "editable": true
   },
   "outputs": [],
   "source": [
    "from IPython.display import Audio\n",
    "Audio(in_sig, rate=sr)"
   ]
  },
  {
   "cell_type": "code",
   "execution_count": null,
   "metadata": {
    "deletable": true,
    "editable": true
   },
   "outputs": [],
   "source": [
    "times, zcr = windowed_zcr(src2, 1024, 512, sr2)\n",
    "plot(times, zcr)\n",
    "figure()\n",
    "plot(in_sig)"
   ]
  },
  {
   "cell_type": "markdown",
   "metadata": {
    "deletable": true,
    "editable": true
   },
   "source": [
    "# Spectral shape features"
   ]
  },
  {
   "cell_type": "code",
   "execution_count": null,
   "metadata": {
    "deletable": true,
    "editable": true
   },
   "outputs": [],
   "source": [
    "Pxx, freqs, times, im = specgram(src_mono_norm, NFFT=2048, Fs=sr, window=window_hanning, noverlap=1024);"
   ]
  },
  {
   "cell_type": "code",
   "execution_count": null,
   "metadata": {
    "deletable": true,
    "editable": true
   },
   "outputs": [],
   "source": [
    "Pxx.shape"
   ]
  },
  {
   "cell_type": "markdown",
   "metadata": {
    "deletable": true,
    "editable": true
   },
   "source": [
    "The time-varying power spectrum is stored in *Pxx*. Each column (second dimension) holds a single spectral frame.\n",
    "\n",
    "*specgram* assumes a real only input signal. For that reason the spectrum contains $\\frac{N}{2}+1\\ $ points"
   ]
  },
  {
   "cell_type": "code",
   "execution_count": null,
   "metadata": {
    "deletable": true,
    "editable": true
   },
   "outputs": [],
   "source": [
    "freqs.shape, times.shape"
   ]
  },
  {
   "cell_type": "code",
   "execution_count": null,
   "metadata": {
    "deletable": true,
    "editable": true
   },
   "outputs": [],
   "source": [
    "freqs[30]"
   ]
  },
  {
   "cell_type": "code",
   "execution_count": null,
   "metadata": {
    "deletable": true,
    "editable": true
   },
   "outputs": [],
   "source": [
    "plot(Pxx[:, 99])\n",
    "title('The 100th spectral frame')"
   ]
  },
  {
   "cell_type": "markdown",
   "metadata": {
    "deletable": true,
    "editable": true
   },
   "source": [
    "## Spectral Centroid"
   ]
  },
  {
   "cell_type": "markdown",
   "metadata": {
    "deletable": true,
    "editable": true
   },
   "source": [
    "$$sc = \\frac{\\sum\\limits_f{ X(f) f}}{\\sum\\limits_f{X(f)} } $$\n",
    "\n",
    "*mpeg7:SpectralCentroid*\n",
    "\n",
    "The spectral centroid correlates to pitch and brightness"
   ]
  },
  {
   "cell_type": "code",
   "execution_count": null,
   "metadata": {
    "deletable": true,
    "editable": true
   },
   "outputs": [],
   "source": [
    "27/8"
   ]
  },
  {
   "cell_type": "code",
   "execution_count": null,
   "metadata": {
    "deletable": true,
    "editable": true
   },
   "outputs": [],
   "source": [
    "X = sqrt(Pxx)\n",
    "sc = sum(X[:,99]*freqs)/sum(X[:,99])\n",
    "print(sc)"
   ]
  },
  {
   "cell_type": "code",
   "execution_count": null,
   "metadata": {
    "deletable": true,
    "editable": true
   },
   "outputs": [],
   "source": [
    "plot(freqs,X[:, 99])\n",
    "title('The 100th spectral frame')\n",
    "vlines([sc], X[:,99].min(), X[:,99].max(), lw=3)\n",
    "text(sc*1.1, X[:,99].max() * 0.9, 'sc = ' + str(sc))"
   ]
  },
  {
   "cell_type": "code",
   "execution_count": null,
   "metadata": {
    "deletable": true,
    "editable": true
   },
   "outputs": [],
   "source": [
    "sc = sum(X[:,699]*freqs)/sum(X[:,699])\n",
    "plot(freqs,X[:, 699])\n",
    "title('The 700th spectral frame')\n",
    "vlines([sc], X[:,699].min(), X[:,699].max(), lw=3)\n",
    "text(sc*1.1, X[:,699].max() * 0.9, 'sc = ' + str(sc))"
   ]
  },
  {
   "cell_type": "code",
   "execution_count": null,
   "metadata": {
    "deletable": true,
    "editable": true
   },
   "outputs": [],
   "source": [
    "centroid = []\n",
    "\n",
    "for spec in X.T:\n",
    "    sc = sum(spec*freqs)/sum(spec)\n",
    "    centroid.append(sc)\n",
    "\n",
    "plot(times, centroid)"
   ]
  },
  {
   "cell_type": "markdown",
   "metadata": {
    "deletable": true,
    "editable": true
   },
   "source": [
    "## Spectral Spread"
   ]
  },
  {
   "cell_type": "markdown",
   "metadata": {
    "deletable": true,
    "editable": true
   },
   "source": [
    "Measures how diffuse or focused the spectrum is around its centroid. It is the statistical measure of variance.\n",
    "\n",
    "*mpeg7:AudioSpectrumSpread*\n",
    "\n",
    "$$\\operatorname{Var}(X) = \\frac{1}{n}\\sum_{i=1}^n (x_i - \\mu)^2$$\n",
    "\n",
    "$$\\mu = \\frac{1}{n}\\sum_{i=1}^n x_i $$\n",
    "\n",
    "http://en.wikipedia.org/wiki/Variance"
   ]
  },
  {
   "cell_type": "code",
   "execution_count": null,
   "metadata": {
    "deletable": true,
    "editable": true
   },
   "outputs": [],
   "source": [
    "ss = var(X[:,99])\n",
    "print(ss)"
   ]
  },
  {
   "cell_type": "code",
   "execution_count": null,
   "metadata": {
    "deletable": true,
    "editable": true
   },
   "outputs": [],
   "source": [
    "spread = []\n",
    "\n",
    "for spec in X.T:\n",
    "    ss = var(spec)\n",
    "    spread.append(ss)\n",
    "\n",
    "plot(spread)"
   ]
  },
  {
   "cell_type": "code",
   "execution_count": null,
   "metadata": {
    "deletable": true,
    "editable": true
   },
   "outputs": [],
   "source": [
    "p1 = plot(spread)\n",
    "twinx()\n",
    "p2 = plot(centroid, 'g')\n",
    "\n",
    "legend((p1 + p2), ('spread', 'centroid'), loc='best')\n",
    "grid()"
   ]
  },
  {
   "cell_type": "code",
   "execution_count": null,
   "metadata": {
    "deletable": true,
    "editable": true
   },
   "outputs": [],
   "source": [
    "from IPython.display import Audio\n",
    "Audio(src_mono_norm, rate=sr)"
   ]
  },
  {
   "cell_type": "code",
   "execution_count": null,
   "metadata": {
    "deletable": true,
    "editable": true
   },
   "outputs": [],
   "source": [
    "from scipy.signal import butter, lfilter\n",
    "\n",
    "noise = random.random(10000) - 0.5\n",
    "b, a = butter(8, [0.2, 0.4], btype='band')\n",
    "b2, a2 = butter(8, [0.4, 0.6], btype='band')\n",
    "b3, a3 = butter(8, [0.2, 0.6], btype='band')\n",
    "filt_noise = r_[lfilter(b,a, noise), lfilter(b2,a2, noise), lfilter(b3,a3, noise)]\n",
    "Pxx, freqs,times, im = specgram(filt_noise, Fs=sr);\n",
    "# XXX why did i have to add 'Fs = 2'???\n",
    "# http://stackissue.com/PyWavelets/pywt/update-wp_scalogram-demo-work-with-matplotlib-20-276.html\n",
    "# http://matplotlib.org/api/mlab_api.html#matplotlib.mlab.specgrams"
   ]
  },
  {
   "cell_type": "code",
   "execution_count": null,
   "metadata": {
    "deletable": true,
    "editable": true
   },
   "outputs": [],
   "source": [
    "X = sqrt(Pxx)\n",
    "\n",
    "centroid = []\n",
    "for spec in X.T:\n",
    "    sc = sum(spec*freqs)/sum(spec)\n",
    "    centroid.append(sc)\n",
    "\n",
    "spread = []\n",
    "for spec in X.T:\n",
    "    ss = var(spec)\n",
    "    spread.append(ss)\n",
    "\n",
    "p1 = plot(spread)\n",
    "twinx()\n",
    "p2 = plot(centroid, 'g')\n",
    "\n",
    "legend((p1 + p2), ('spread', 'centroid'), loc='best')\n",
    "grid()"
   ]
  },
  {
   "cell_type": "markdown",
   "metadata": {
    "deletable": true,
    "editable": true
   },
   "source": [
    "## Spectral skewness"
   ]
  },
  {
   "cell_type": "markdown",
   "metadata": {
    "deletable": true,
    "editable": true
   },
   "source": [
    "A measure of the asymmetry around the centroid. (Also called the third order moment of a distribution)"
   ]
  },
  {
   "cell_type": "code",
   "execution_count": null,
   "metadata": {
    "deletable": true,
    "editable": true
   },
   "outputs": [],
   "source": [
    "from scipy.stats import moment"
   ]
  },
  {
   "cell_type": "code",
   "execution_count": null,
   "metadata": {
    "deletable": true,
    "editable": true
   },
   "outputs": [],
   "source": [
    "skewness = []\n",
    "for spec in X.T:\n",
    "    ss = moment(spec, moment=3)\n",
    "    skewness.append(ss)\n",
    "\n",
    "plot(skewness)"
   ]
  },
  {
   "cell_type": "code",
   "execution_count": null,
   "metadata": {
    "deletable": true,
    "editable": true
   },
   "outputs": [],
   "source": [
    "Pxx, freqs, times, im = specgram(src_mono_norm, NFFT=2048, Fs=sr, window=window_hanning, noverlap=1024);\n",
    "\n",
    "X = sqrt(Pxx)\n",
    "skewness = []\n",
    "for spec in X.T:\n",
    "    ss = moment(spec, moment=3)\n",
    "    skewness.append(ss)\n",
    "\n",
    "clf()\n",
    "plot(skewness)"
   ]
  },
  {
   "cell_type": "code",
   "execution_count": null,
   "metadata": {
    "deletable": true,
    "editable": true
   },
   "outputs": [],
   "source": [
    "Pxx, freqs, times, im = specgram(src2, NFFT=2048, Fs=sr, window=window_hanning, noverlap=1024);\n",
    "\n",
    "X = sqrt(Pxx)\n",
    "skewness = []\n",
    "for spec in X.T:\n",
    "    ss = moment(spec, moment=3)\n",
    "    skewness.append(ss)\n",
    "\n",
    "clf()\n",
    "plot(skewness)"
   ]
  },
  {
   "cell_type": "markdown",
   "metadata": {
    "deletable": true,
    "editable": true
   },
   "source": [
    "## Spectral kurtosis"
   ]
  },
  {
   "cell_type": "markdown",
   "metadata": {
    "deletable": true,
    "editable": true
   },
   "source": [
    "http://en.wikipedia.org/wiki/Kurtosis"
   ]
  },
  {
   "cell_type": "code",
   "execution_count": null,
   "metadata": {
    "deletable": true,
    "editable": true
   },
   "outputs": [],
   "source": [
    "kurtosis = []\n",
    "for spec in X.T:\n",
    "    sk = moment(spec, moment=4)\n",
    "    kurtosis.append(sk)\n",
    "\n",
    "plot(kurtosis)"
   ]
  },
  {
   "cell_type": "code",
   "execution_count": null,
   "metadata": {
    "deletable": true,
    "editable": true
   },
   "outputs": [],
   "source": [
    "Pxx, freqs,times, im = specgram(filt_noise, Fs=sr);\n",
    "clf()\n",
    "X = sqrt(Pxx)\n",
    "\n",
    "centroid = []\n",
    "spread = []\n",
    "kurtosis = []\n",
    "skewness = []\n",
    "for spec in X.T:\n",
    "    sc = sum(spec*freqs)/sum(spec)\n",
    "    centroid.append(sc)\n",
    "    ssk = moment(spec, moment=3)\n",
    "    skewness.append(ssk)\n",
    "    ss = var(spec)\n",
    "    spread.append(ss)\n",
    "    \n",
    "    sk = moment(spec, moment=4)\n",
    "    kurtosis.append(sk)\n",
    "\n",
    "p1 = plot(spread)\n",
    "twinx()\n",
    "p2 = plot(centroid, 'g')\n",
    "twinx()\n",
    "p3 = plot(skewness, 'r')\n",
    "twinx()\n",
    "p4 = plot(kurtosis, 'cyan')\n",
    "\n",
    "legend((p1 + p2 + p3 +p4), ('spread', 'centroid', 'skewness', 'kurtosis'), loc='best')\n",
    "grid()"
   ]
  },
  {
   "cell_type": "markdown",
   "metadata": {
    "deletable": true,
    "editable": true
   },
   "source": [
    "## Spectral flux"
   ]
  },
  {
   "cell_type": "markdown",
   "metadata": {
    "deletable": true,
    "editable": true
   },
   "source": [
    "Process:\n",
    "\n",
    "*    Amplitude spectrum is normalized\n",
    "*    Sum of squared changes in spectrum from the previous one\n",
    "\n",
    "Used often for onset detection, as this is where there is often large spectral flux."
   ]
  },
  {
   "cell_type": "code",
   "execution_count": null,
   "metadata": {
    "deletable": true,
    "editable": true
   },
   "outputs": [],
   "source": [
    "Pxx3, freqs3,times3, im = specgram(src_mono_norm, NFFT=2048, noverlap=1024, Fs=sr);\n",
    "\n",
    "X_mag = sqrt(Pxx3)\n",
    "\n",
    "X1 = X_mag[:,:-1]/sum(X_mag[:,:-1])\n",
    "X2 = X_mag[:, 1:]/sum(X_mag[:, 1:])\n",
    "\n",
    "spec_diff = X2 - X1\n",
    "flux = sum(spec_diff**2, axis=0)\n",
    "\n",
    "twinx()\n",
    "plot(linspace(0, times3.max(), len(flux)), flux, lw=4, color='w')"
   ]
  },
  {
   "cell_type": "markdown",
   "metadata": {
    "deletable": true,
    "editable": true
   },
   "source": [
    "There is another similar definition:\n",
    "\n",
    "Dixon, S. (2006) Onset Detection Revisited, in Proceedings of the 9th International Conference on Digital Audio Effects (DAFx-06), Montreal, Canada, September 18-20, 2006\n",
    "\n",
    "http://www.dafx.ca/proceedings/papers/p_133.pdf\n",
    "\n",
    "In this definition, there is no normalization, and instead of finding the sum of the square of the changes, the sum of the half-wave rectified difference is used.\n",
    "\n",
    "http://en.wikipedia.org/wiki/Rectifier#Half-wave_rectification"
   ]
  },
  {
   "cell_type": "markdown",
   "metadata": {
    "deletable": true,
    "editable": true
   },
   "source": [
    "# Rhythm and Pitch features"
   ]
  },
  {
   "cell_type": "markdown",
   "metadata": {
    "deletable": true,
    "editable": true
   },
   "source": [
    "Rhythm\n",
    "\n",
    "* Tempo\n",
    "* Beats\n",
    "\n",
    "Pitch\n",
    "\n",
    "* Monophonic\n",
    "* Polyphonic"
   ]
  },
  {
   "cell_type": "code",
   "execution_count": null,
   "metadata": {
    "deletable": true,
    "editable": true
   },
   "outputs": [],
   "source": [
    "superstition_sr, superstition = wavfile.read(\"media/superstition.wav\")"
   ]
  },
  {
   "cell_type": "code",
   "execution_count": null,
   "metadata": {
    "deletable": true,
    "editable": true
   },
   "outputs": [],
   "source": [
    "def windowed_rms(input_sig, win_size, hop=None, sr=1.0):\n",
    "    if not hop:\n",
    "        hop = winsize/2\n",
    "    rms = []\n",
    "    window_start = arange(0, len(input_sig), hop)\n",
    "    \n",
    "    for start in window_start:\n",
    "        w = input_sig[start: start+win_size].astype(float)\n",
    "        rms_inst = sqrt(mean(w**2))\n",
    "        rms.append(rms_inst)\n",
    "    times = (window_start + win_size/2)/float(sr)\n",
    "    return times, rms"
   ]
  },
  {
   "cell_type": "code",
   "execution_count": null,
   "metadata": {
    "deletable": true,
    "editable": true
   },
   "outputs": [],
   "source": [
    "times, super_rms = windowed_rms(superstition, 4096, 512, 44100)\n",
    "plot(times, super_rms)"
   ]
  },
  {
   "cell_type": "code",
   "execution_count": null,
   "metadata": {
    "deletable": true,
    "editable": true
   },
   "outputs": [],
   "source": [
    "lags, cc, lines, line = acorr(super_rms, maxlags=70)\n",
    "grid();"
   ]
  },
  {
   "cell_type": "code",
   "execution_count": null,
   "metadata": {
    "deletable": true,
    "editable": true
   },
   "outputs": [],
   "source": [
    "argmax(cc[80:]) + 80"
   ]
  },
  {
   "cell_type": "code",
   "execution_count": null,
   "metadata": {
    "deletable": true,
    "editable": true
   },
   "outputs": [],
   "source": [
    "lags[argmax(cc[80:]) + 80]"
   ]
  },
  {
   "cell_type": "code",
   "execution_count": null,
   "metadata": {
    "deletable": true,
    "editable": true
   },
   "outputs": [],
   "source": [
    "44100.0/23"
   ]
  },
  {
   "cell_type": "markdown",
   "metadata": {
    "deletable": true,
    "editable": true
   },
   "source": [
    "Doesn't make sense! # XXX doesn't make sense! -- ky"
   ]
  },
  {
   "cell_type": "code",
   "execution_count": null,
   "metadata": {
    "deletable": true,
    "editable": true
   },
   "outputs": [],
   "source": [
    "times[23]"
   ]
  },
  {
   "cell_type": "code",
   "execution_count": null,
   "metadata": {
    "deletable": true,
    "editable": true
   },
   "outputs": [],
   "source": [
    "1.0/times[23]"
   ]
  },
  {
   "cell_type": "code",
   "execution_count": null,
   "metadata": {
    "deletable": true,
    "editable": true
   },
   "outputs": [],
   "source": [
    "bpm = 60.0/times[23]/2\n",
    "print(bpm)"
   ]
  },
  {
   "cell_type": "markdown",
   "metadata": {
    "deletable": true,
    "editable": true
   },
   "source": [
    "Texture windows, Machine learning/Clustering/Classification"
   ]
  },
  {
   "cell_type": "markdown",
   "metadata": {
    "deletable": true,
    "editable": true
   },
   "source": [
    "By: Andrés Cabrera mantaraya36@gmail.com\n",
    "\n",
    "For Course MAT 201A at UCSB\n",
    "\n",
    "This ipython notebook is licensed under the CC-BY-NC-SA license: http://creativecommons.org/licenses/by-nc-sa/4.0/\n",
    "\n",
    "![http://i.creativecommons.org/l/by-nc-sa/3.0/88x31.png](http://i.creativecommons.org/l/by-nc-sa/3.0/88x31.png)"
   ]
  }
 ],
 "metadata": {
  "kernelspec": {
   "display_name": "Python 3",
   "language": "python",
   "name": "python3"
  },
  "language_info": {
   "codemirror_mode": {
    "name": "ipython",
    "version": 3
   },
   "file_extension": ".py",
   "mimetype": "text/x-python",
   "name": "python",
   "nbconvert_exporter": "python",
   "pygments_lexer": "ipython3",
   "version": "3.6.1"
  }
 },
 "nbformat": 4,
 "nbformat_minor": 0
}
